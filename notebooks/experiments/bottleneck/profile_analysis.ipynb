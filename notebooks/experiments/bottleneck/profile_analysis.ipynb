{
 "cells": [
  {
   "cell_type": "code",
   "execution_count": null,
   "id": "dc79a3e0",
   "metadata": {},
   "outputs": [],
   "source": [
    "import numpy as np\n",
    "import pandas as pd\n",
    "from pathlib import Path\n",
    "import plotly.express as px\n",
    "import plotly.graph_objects as pg\n",
    "import os\n",
    "import matplotlib.pyplot as plt\n",
    "import plotly.subplots as ps"
   ]
  },
  {
   "cell_type": "code",
   "execution_count": null,
   "id": "88218530",
   "metadata": {},
   "outputs": [],
   "source": [
    "MODELS_PATH = Path(\"/data/toulouse/bicycle/notebooks/experiments/bottleneck/data/models\")\n",
    "PLOTS_PATH = Path(\"/data/toulouse/bicycle/notebooks/experiments/bottleneck/data/plots\")\n",
    "ANALYSIS_PATH = Path(\"/data/toulouse/bicycle/notebooks/experiments/bottleneck/data/analysis\")\n",
    "exclude=[\"test_run_00013\", \"test_run_00014\", \"figures\"]"
   ]
  },
  {
   "cell_type": "markdown",
   "id": "9aeafaf2",
   "metadata": {},
   "source": [
    "## Summary profiles"
   ]
  },
  {
   "cell_type": "code",
   "execution_count": null,
   "id": "f56a1336",
   "metadata": {},
   "outputs": [],
   "source": [
    "parameters = pd.read_csv(ANALYSIS_PATH.joinpath(\"parameters.csv\"), index_col=0).sort_values(\"run_id\", ignore_index=True)\n",
    "ngenes_parameters = parameters.iloc[:12, :10]\n",
    "key_array = ngenes_parameters[\"run_id\"].to_numpy().reshape((len(ngenes_parameters)//3, 3))\n",
    "ngenes_parameters = ngenes_parameters.set_index(\"run_id\", drop=True)\n",
    "\n",
    "print(key_array)"
   ]
  },
  {
   "cell_type": "code",
   "execution_count": null,
   "id": "dc5a0c31",
   "metadata": {},
   "outputs": [],
   "source": [
    "\n",
    "training_profiles = dict()\n",
    "for dir in ANALYSIS_PATH.iterdir():\n",
    "    if str(dir.name) in exclude:\n",
    "        continue\n",
    "    if dir.is_dir() and dir.name in key_array:\n",
    "        training_profiles[str(dir.name)] = pd.read_csv(dir.joinpath(\"training_profile.csv\"))"
   ]
  },
  {
   "cell_type": "code",
   "execution_count": null,
   "id": "8b2e02ac",
   "metadata": {},
   "outputs": [],
   "source": [
    "# plot training tima for baseline graph\n",
    "aggregator={\"training_time\": \"mean\"}\n",
    "data = ngenes_parameters.groupby(\"data_n_genes\").agg(\"mean\").reset_index()\n",
    "#data[\"training_time\"]/=60\n",
    "#data[\"training_time\"] /=data[\"n_epochs\"]\n",
    "fig = px.bar(data,\n",
    "             x=\"data_n_genes\",\n",
    "             y=\"training_time\",\n",
    "             labels={\"training_time\":\"Mean time per epoch [s]\",\n",
    "                     \"data_n_genes\": \"Number of genes\"},\n",
    "             title=\"Training time per batch with different data sizes\",\n",
    "             color=\"n_epochs\",\n",
    "             hover_data=[\"data_n_genes\", \n",
    "                         \"n_epochs\",\n",
    "                         \"batch_size\",\n",
    "                         ],\n",
    "             color_continuous_scale=\"reds\"\n",
    "             )\n",
    "\n",
    "fig.write_image(str(ANALYSIS_PATH/\"figures\"/\"Baseline_training_time.pdf\"), scale=6)\n",
    "fig.show()\n"
   ]
  },
  {
   "cell_type": "code",
   "execution_count": null,
   "id": "7f17de7e",
   "metadata": {},
   "outputs": [],
   "source": [
    "metrics = [\"Call_num\", \"Primitive_Call_num\", \"Time\"]\n",
    "processed_profiles = dict()\n",
    "for n, keys in enumerate(key_array):\n",
    "    \n",
    "    \n",
    "    assert [\"Class_Function\" in training_profiles[keys[0]].compare(training_profiles[key]).columns for key in keys], \"Dataframes not aligned\"\n",
    "    array = np.stack([np.array(training_profiles[key][metrics]) for key in keys], axis=2)\n",
    "    mean = np.mean(array, axis=2)\n",
    "    std = np.std(array, axis=2)\n",
    "    results = pd.DataFrame(np.concatenate([mean, std], axis=1), columns=[f\"{r}_{m}\" for r in [\"mean\", \"std\"] for m in metrics])\n",
    "    df = pd.concat([training_profiles[keys[0]].drop(columns= metrics), results], axis=1)\n",
    "    processed_profiles[keys[0]] = df\n",
    " \n",
    "    \n",
    "\n",
    "\n",
    "ngenes_parameters"
   ]
  },
  {
   "cell_type": "code",
   "execution_count": null,
   "id": "6878f37c",
   "metadata": {},
   "outputs": [],
   "source": [
    "condition = \"not is_callback\"\n",
    "top_functions = pd.DataFrame(columns=np.arange(10))\n",
    "top_classes = pd.DataFrame(columns=np.arange(10))\n",
    "for n, df in processed_profiles.items():\n",
    "    for metric in metrics:\n",
    "        title = f\"Summarized_mean_{metric}_{str(ngenes_parameters.loc[n, 'data_n_genes'])}genes_{condition}\"\n",
    "        data = df.query(condition).sort_values(\"mean_\"+metric, ignore_index=True, ascending = False).iloc[:10]\n",
    "        top_functions.loc[len(top_functions)]=data[\"Function\"]\n",
    "        top_classes.loc[len(top_functions)]=data[\"Class_Function\"]\n",
    "        fig = px.bar(data,\n",
    "                     x=\"Function\",\n",
    "                     y= \"mean_\"+metric,\n",
    "                     error_y=\"std_\"+metric,\n",
    "                     #facet_row=\"Class\",\n",
    "                     title=title,\n",
    "                     text=\"Class_Function\"\n",
    "                     )\n",
    "        #fig.show()\n",
    "        if not ANALYSIS_PATH.joinpath(\"figures\",\"summarized\").is_dir():\n",
    "            ANALYSIS_PATH.joinpath(\"figures\",\"summarized\").mkdir()\n",
    "        fig.write_image(ANALYSIS_PATH/\"figures\"/\"summarized\"/f\"{title}.pdf\", scale=6)\n",
    "        "
   ]
  },
  {
   "cell_type": "code",
   "execution_count": null,
   "id": "a1695456",
   "metadata": {},
   "outputs": [],
   "source": [
    "# check if Class_Function pairs are unique\n",
    "top_functions = set(top_functions.to_numpy().flatten())\n",
    "top_classes = set(top_classes.to_numpy().flatten())\n",
    "print(top_functions, \"\\n\", top_classes)"
   ]
  },
  {
   "cell_type": "code",
   "execution_count": null,
   "id": "31b715d5",
   "metadata": {},
   "outputs": [],
   "source": [
    "ngenes_parameters"
   ]
  },
  {
   "cell_type": "markdown",
   "id": "6858e4fe",
   "metadata": {},
   "source": [
    "## Full profiles"
   ]
  },
  {
   "cell_type": "code",
   "execution_count": null,
   "id": "edcaba41",
   "metadata": {},
   "outputs": [],
   "source": [
    "aggregator = {\n",
    "    \"Class\": lambda x: x.iloc[0],\n",
    "    \"Function\": lambda x: x.iloc[0],\n",
    "    \"Class_Function_etc\": lambda x: x.iloc[0],\n",
    "    \"Class_Function\": lambda x: x.iloc[0],\n",
    "    \"Summary_index\": lambda x: x.iloc[0],\n",
    "    \"filename_lineno(function)\": lambda x: x.iloc[0],\n",
    "    \"is_callback\": lambda x: x.iloc[0],\n",
    "    \"Call_num\": \"sum\",\n",
    "    \"Primitive_Call_num\": \"sum\",\n",
    "    \"Time\": \"sum\",\n",
    "    \"ncalls\": \"sum\",\n",
    "    \"tot_time\": \"sum\",\n",
    "    \"tot_percall\": \"mean\",\n",
    "    \"cum_time\": \"sum\",\n",
    "    \"cum_percall\": \"mean\",    \n",
    "}"
   ]
  },
  {
   "cell_type": "code",
   "execution_count": null,
   "id": "52f262a4",
   "metadata": {},
   "outputs": [],
   "source": [
    "full_profiles = dict()\n",
    "for dir in ANALYSIS_PATH.iterdir():\n",
    "    if str(dir.name) in exclude:\n",
    "        continue\n",
    "    if dir.is_dir():\n",
    "        df = pd.read_csv(dir.joinpath(\"full_training_profile.csv\")).drop(columns = [\"Rank\"])\n",
    "        df = df.groupby([\"Class_Function_etc\"], as_index=False, ).agg(aggregator).reset_index(drop=True)\n",
    "        df[\"is_target\"] = df[\"Function\"].apply(lambda x: x in top_functions)\n",
    "        df[\"in_model\"] = df[\"Class_Function_etc\"].apply(lambda x: \"model.py\" in str(x).casefold())\n",
    "        df[\"in_bicycle\"] = df[\"Class_Function_etc\"].apply(lambda x: \"bicycle\" in str(x).casefold())\n",
    "        df = df.sort_values(\"filename_lineno(function)\").set_index(pd.Index(np.arange(len(df))),drop=True)\n",
    "        #numericals = [\"Call_num\",\"Primitive_Call_num\",\"Time\",\"ncalls\",\"tot_time\",\"tot_percall\",\"cum_time\",\"cum_percall\"]\n",
    "        #df[numericals] = df[numericals]/sum(df[numericals], axis=0)\n",
    "        full_profiles[str(dir.name)] = df"
   ]
  },
  {
   "cell_type": "code",
   "execution_count": null,
   "id": "c1ed3bde",
   "metadata": {},
   "outputs": [],
   "source": [
    "filtered_full_profiles = dict()\n",
    "for keys in key_array:\n",
    "    for i, key in enumerate(keys):\n",
    "        other = [k for k in keys if k != key]\n",
    "        first = full_profiles[other[0]][\"Class_Function_etc\"]\n",
    "        second = full_profiles[other[1]][\"Class_Function_etc\"]\n",
    "        df = full_profiles[key]\n",
    "        #print(\"duplicated sum:\",df[\"filename_lineno(function)\"].duplicated().sum())\n",
    "        #print(\"duplicated sum:\",df[\"Class_Function_etc\"].duplicated().sum())\n",
    "\n",
    "        df[\"first\"] = df[\"Class_Function_etc\"].isin(first)\n",
    "        #print(len(df[\"first\"]), df[\"first\"].sum())\n",
    "        df[\"second\"] = df[\"Class_Function_etc\"].isin(second)\n",
    "        #print(len(df[\"second\"]), df[\"second\"].sum())\n",
    "        df = df[df[\"first\"] & df[\"second\"]]\n",
    "        #print(len(df), \"\\n\")\n",
    "\n",
    "        filtered_full_profiles[key] = df.reset_index(drop=True)"
   ]
  },
  {
   "cell_type": "code",
   "execution_count": null,
   "id": "ffbfcbae",
   "metadata": {},
   "outputs": [],
   "source": [
    "for keys in key_array:\n",
    "    print(keys, \"\\n\", [filtered_full_profiles[key].index for key in keys])\n",
    "    assert [\"Class_Function_etc\" in filtered_full_profiles[keys[0]].compare(filtered_full_profiles[n]).columns for n in keys], \"Dataframes not aligned\"\n",
    "    #print([full_profiles[keys[0]].compare(full_profiles[n]).columns for n in keys])"
   ]
  },
  {
   "cell_type": "code",
   "execution_count": null,
   "id": "cbf1cc24",
   "metadata": {},
   "outputs": [],
   "source": [
    "metrics = [\"ncalls\",\"tot_time\",\"tot_percall\",\"cum_time\",\"cum_percall\"]\n",
    "processed_full_profiles = dict()\n",
    "for n, keys in enumerate(key_array):\n",
    "    print(keys)\n",
    "    assert [\"filename_lineno(function)\" in filtered_full_profiles[keys[0]].compare(filtered_full_profiles[key]).columns for key in keys], \"Dataframes not aligned\"\n",
    "    array = np.stack([np.array(filtered_full_profiles[key][metrics]) for key in keys], axis=2)\n",
    "    mean = np.mean(array, axis=2)\n",
    "    std = np.std(array, axis=2)\n",
    "    results = pd.DataFrame(np.concatenate([mean, std], axis=1), columns=[f\"{r}_{m}\" for r in [\"mean\", \"std\"] for m in metrics])\n",
    "    df = pd.concat([filtered_full_profiles[keys[0]].drop(columns= metrics), results], axis=1)\n",
    "    processed_full_profiles[keys[0]] = df\n",
    " "
   ]
  },
  {
   "cell_type": "code",
   "execution_count": null,
   "id": "f32354ee",
   "metadata": {},
   "outputs": [],
   "source": [
    "parameters"
   ]
  },
  {
   "cell_type": "markdown",
   "id": "d499f5df",
   "metadata": {},
   "source": [
    "### Figures:"
   ]
  },
  {
   "cell_type": "code",
   "execution_count": null,
   "id": "824c270b",
   "metadata": {},
   "outputs": [],
   "source": [
    "colors = [\"aliceblue\", \"antiquewhite\", \"aqua\", \"aquamarine\", \"azure\",\n",
    "            \"beige\", \"bisque\", \"black\", \"blanchedalmond\", \"blue\",\n",
    "            \"blueviolet\", \"brown\", \"burlywood\", \"cadetblue\",\n",
    "            \"chartreuse\", \"chocolate\", \"coral\", \"cornflowerblue\",\n",
    "            \"cornsilk\",\"crimson\", \"cyan\",\"darkblue\", \"darkcyan\",\n",
    "            \"darkgoldenrod\", \"darkgray\",\"darkgrey\", \"darkgreen\",\n",
    "            \"darkkhaki\", \"darkmagenta\",\"darkolivegreen\", \"darkorange\",\n",
    "            \"darkorchid\", \"darkred\",\"darksalmon\", \"darkseagreen\",\n",
    "            \"darkslateblue\",\"darkslategray\", \"darkslategrey\",\"darkturquoise\",\n",
    "              \"darkviolet\",\"deeppink\", \"deepskyblue\",\"dimgray\", \"dimgrey\",\n",
    "              \"dodgerblue\", \"firebrick\",\"floralwhite\", \"forestgreen\"\n",
    "              ,\"fuchsia\", \"gainsboro\",\"ghostwhite\",\"gold\",\"goldenrod\",\n",
    "              \"gray\",\"grey\", \"green\",\"greenyellow\",\"honeydew\", \"hotpink\",\n",
    "              \"indianred\", \"indigo\",\"ivory\",\"khaki\", \"lavender\",\"lavenderblush\",\n",
    "              \"lawngreen\",\"lemonchiffon\", \"lightblue\",\"lightcoral\", \"lightcyan\",\n",
    "              \"lightgoldenrodyellow\",\"lightgray\", \"lightgrey\",\"lightgreen\",\n",
    "              \"lightpink\",\"lightsalmon\", \"lightseagreen\",\"lightskyblue\",\n",
    "              \"lightslategray\", \"lightslategrey\",\"lightsteelblue\", \"lightyellow\",\n",
    "              \"lime\", \"limegreen\",\"linen\", \"magenta\",\"maroon\", \"mediumaquamarine\",\n",
    "              \"mediumblue\",\"mediumorchid\", \"mediumpurple\",\"mediumseagreen\",\n",
    "              \"mediumslateblue\", \"mediumspringgreen\",\"mediumturquoise\",\"mediumvioletred\",\n",
    "              \"midnightblue\",\"mintcream\",\"mistyrose\", \"moccasin\",\"navajowhite\",\n",
    "              \"navy\",\"oldlace\",\"olive\", \"olivedrab\",\"orange\", \"orangered\",\"orchid\",\n",
    "              \"palegoldenrod\",\"palegreen\", \"paleturquoise\",\"palevioletred\", \"papayawhip\",\n",
    "              \"peachpuff\",\"peru\", \"pink\",\"plum\",\"powderblue\", \"purple\",\"red\",\n",
    "              \"rosybrown\",\"royalblue\", \"rebeccapurple\",\"saddlebrown\", \"salmon\",\"sandybrown\",\"seagreen\", \"seashell\",\"sienna\", \"silver\",\"skyblue\",\"slateblue\", \"slategray\",\"slategrey\", \"snow\",\"springgreen\",\"steelblue\",\"tan\", \"teal\",\"thistle\", \"tomato\",\"turquoise\",\"violet\", \"wheat\",\"white\", \"whitesmoke\",\"yellow\",\"yellowgreen\"\n",
    "            ]"
   ]
  },
  {
   "cell_type": "code",
   "execution_count": null,
   "id": "0cc1d51a",
   "metadata": {},
   "outputs": [],
   "source": [
    "for key in processed_full_profiles.keys():\n",
    "    n_genes = int(ngenes_parameters.loc[key].data_n_genes)\n",
    "    df = processed_full_profiles[key].set_index(\"filename_lineno(function)\").query(\"in_model\")\n",
    "    fig = ps.make_subplots(rows=len(metrics)+1,\n",
    "                           subplot_titles=metrics,\n",
    "\n",
    "                            #specs=\"bar\",\n",
    "                            )\n",
    "\n",
    "    class_to_color={x: np.random.randint(low=100000,high=999999) for x in df[\"Class\"]}\n",
    "\n",
    "    for n, metric in enumerate(metrics):\n",
    "        data = df.sort_values(f\"mean_{metric}\", ascending=False).iloc[:10]\n",
    "        fig.add_trace(\n",
    "            pg.Bar(x=data.index,\n",
    "                   y=data[f\"mean_{metric}\"],\n",
    "                   error_y=pg.bar.ErrorY(array=data[f\"std_{metric}\"].to_numpy()),\n",
    "                   orientation=\"v\",\n",
    "                   name=metric,\n",
    "                   text=data[\"Function\"],\n",
    "                   textangle=0,\n",
    "                   insidetextanchor=\"start\",\n",
    "                   #marker={\"color\":[class_to_color[x] for x in data[\"Class\"]],\n",
    "                   #        \"colorbar\":{\"tickmode\":\"auto\",}\n",
    "                   #},\n",
    "                   ),\n",
    "\n",
    "        row=n+1,\n",
    "        col=1\n",
    "        )\n",
    "    fig.update_layout(height=1000, width=2000,title_text = f\"Top 10 functions in different profile metrics with {n_genes} genes\")\n",
    "    fig.write_image(ANALYSIS_PATH/\"figures\"/f\"Top10_panel_{n_genes}genes.pdf\", scale=10)\n",
    "#    fig.show()\n"
   ]
  },
  {
   "cell_type": "code",
   "execution_count": null,
   "id": "92bd7aa9",
   "metadata": {},
   "outputs": [],
   "source": [
    "ngenes_parameters"
   ]
  },
  {
   "cell_type": "code",
   "execution_count": null,
   "id": "b9ffed2d",
   "metadata": {},
   "outputs": [],
   "source": [
    "# concatenate all processed/meaned profiles into one df\n",
    "full_df = pd.concat([pd.concat(\n",
    "    [df.sort_values(\"mean_tot_time\").iloc[:10], \n",
    "     pd.DataFrame(ngenes_parameters.loc[key].to_numpy().repeat(len(df)).reshape((ngenes_parameters.shape[1], len(df))).T, columns=ngenes_parameters.columns)],\n",
    "      axis=1\n",
    "      ) for key, df in processed_full_profiles.items()],\n",
    "      axis = 0)"
   ]
  },
  {
   "cell_type": "code",
   "execution_count": null,
   "id": "9726fde8",
   "metadata": {},
   "outputs": [],
   "source": [
    "full_df.head()"
   ]
  },
  {
   "cell_type": "code",
   "execution_count": null,
   "id": "2a01bbe4",
   "metadata": {},
   "outputs": [],
   "source": [
    "print(full_df.columns)\n",
    "aggregator={\n",
    "    'Class':lambda x: x.iloc[0],\n",
    "    'Function':lambda x: x.iloc[0],\n",
    "    'Class_Function_etc':lambda x: x.iloc[0],\n",
    "    'Class_Function':lambda x: x.iloc[0],\n",
    "    'Summary_index':lambda x: x.iloc[0],\n",
    "    'filename_lineno(function)':lambda x: x.iloc[0],\n",
    "    'is_callback':lambda x: x.iloc[0],\n",
    "    'Call_num':\"mean\",\n",
    "    'Primitive_Call_num':\"mean\",\n",
    "    'Time':\"mean\",\n",
    "    'is_target':lambda x: x.iloc[0],\n",
    "    'in_model':lambda x: x.iloc[0],\n",
    "    'in_bicycle':lambda x: x.iloc[0],\n",
    "    'first':lambda x: x.iloc[0],\n",
    "    'second':lambda x: x.iloc[0],\n",
    "    'mean_ncalls':\"mean\",\n",
    "    'mean_tot_time':\"mean\",\n",
    "    'mean_tot_percall':\"mean\",\n",
    "    'mean_cum_time':\"mean\",\n",
    "    'mean_cum_percall':\"mean\",\n",
    "    'std_ncalls':\"mean\",\n",
    "    'std_tot_time':\"mean\",\n",
    "    'std_tot_percall':\"mean\",\n",
    "    'std_cum_time':\"mean\",\n",
    "    'std_cum_percall':\"mean\",\n",
    "    'data_n_genes':\"mean\",\n",
    "    'data_n_samples_control':\"mean\",\n",
    "    'data_n_samples_per_perturbation':\"mean\",\n",
    "    'batch_size':\"mean\",\n",
    "    'n_epochs':\"mean\",\n",
    "    'n_epochs_pretrain_latents':\"mean\",\n",
    "    'scale_factor':\"mean\",\n",
    "    'training_time':\"mean\",\n",
    "    'pretraining_time':\"mean\"\n",
    "    }"
   ]
  },
  {
   "cell_type": "code",
   "execution_count": null,
   "id": "8048a193",
   "metadata": {},
   "outputs": [],
   "source": [
    "# plot all processed dataframes: Deprecated\n",
    "for metric in metrics:\n",
    "    \n",
    "    data = full_df.sort_values(\"mean_\" +metric, ignore_index=True, ascending=False)\n",
    "    fig = px.bar(data,\n",
    "        x=\"filename_lineno(function)\",\n",
    "        y = \"mean_\"+ metric,\n",
    "        error_y=\"std_\"+ metric,\n",
    "        #facet_row=\"n_genes\",\n",
    "        facet_row= \"data_n_genes\",\n",
    "        #color=\"filename_lineno(function)\",\n",
    "        color = \"Function\",\n",
    "        barmode=\"group\",\n",
    "        #width=5000,\n",
    "        height=1000,\n",
    "        #log_y=True\n",
    "        )\n",
    "    #fig.show()"
   ]
  },
  {
   "cell_type": "code",
   "execution_count": null,
   "id": "c03d4f0b",
   "metadata": {},
   "outputs": [],
   "source": [
    "def mean_error_prop(stds:pd.Series):\n",
    "    return np.sqrt((stds**2).sum())/len(stds)\n",
    "aggregator = {\n",
    "    \"Class\": lambda x: x.iloc[0],\n",
    "    \"Function\": lambda x: x.iloc[0],\n",
    "    \"Class_Function_etc\": lambda x: x.iloc[0],\n",
    "    \"Class_Function\": lambda x: x.iloc[0],\n",
    "    \"Summary_index\": lambda x: x.unique(), \n",
    "    \"filename_lineno(function)\": lambda x: x.iloc[0],\n",
    "    \"is_callback\": lambda x: x.iloc[0],\n",
    "    \"Call_num\": \"sum\",\n",
    "    \"Primitive_Call_num\": \"sum\",\n",
    "    \"Time\": \"sum\",\n",
    "    \"mean_ncalls\": \"sum\",\n",
    "    \"std_ncalls\": mean_error_prop,\n",
    "    \"mean_tot_time\": \"sum\",\n",
    "    \"std_tot_time\": mean_error_prop,\n",
    "    \"mean_tot_percall\": \"mean\",\n",
    "    \"std_tot_percall\": mean_error_prop,\n",
    "    \"mean_cum_time\": \"sum\",\n",
    "    \"std_cum_time\": mean_error_prop,\n",
    "    \"mean_cum_percall\": \"mean\",\n",
    "    \"std_cum_percall\": mean_error_prop \n",
    "}"
   ]
  },
  {
   "cell_type": "code",
   "execution_count": null,
   "id": "53870e2c",
   "metadata": {},
   "outputs": [],
   "source": [
    "condition = \"in_model\"\n",
    "\n",
    "top_df = pd.DataFrame(columns=df.columns.append(ngenes_parameters.columns))\n",
    "output_dir = ANALYSIS_PATH / \"figures\"\n",
    "os.makedirs(output_dir, exist_ok=True)\n",
    "for metric in metrics:\n",
    "    for n, df in processed_full_profiles.items():\n",
    "        data = df.query(condition).sort_values(\"mean_\"+metric, ignore_index=True, ascending = False).iloc[:10]\n",
    "        for _, row in data.iterrows():\n",
    "            top_df.loc[len(top_df)] = np.concatenate([row, ngenes_parameters.loc[n]], axis=0)\n",
    "\n",
    "        title = f\"Mean_{metric}_{str(ngenes_parameters.loc[n, 'data_n_genes'])}genes_{condition}\"\n",
    "        fig = px.bar(data,\n",
    "                    x=\"filename_lineno(function)\",\n",
    "                    y= \"mean_\"+metric,\n",
    "                    error_y=\"std_\"+metric,\n",
    "                    #facet_row=\"Class\",\n",
    "                    color=\"Class\",\n",
    "                    text = \"Function\",\n",
    "                    title=f\"mean {metric} with {ngenes_parameters.loc[n]['data_n_genes']}\",\n",
    "                    log_y=True,\n",
    "                    )\n",
    "        #fig.show()\n",
    "\n",
    "\n",
    "\n",
    "        \n",
    "        if not ANALYSIS_PATH.joinpath(\"figures\",\"full_profile\").is_dir():\n",
    "            ANALYSIS_PATH.joinpath(\"figures\",\"full_profile\").mkdir()\n",
    "        fig.write_image(ANALYSIS_PATH/\"figures\"/\"full_profile\"/f\"{title}.pdf\", scale=6)\n",
    "        \n",
    "\n",
    "top_df = top_df.groupby(by=\"filename_lineno(function)\", as_index=False).agg(aggregator).sort_values(f\"mean_tot_time\", ascending=False)\n",
    "top_df.to_csv(ANALYSIS_PATH.joinpath(f\"top_functions_{condition}.csv\"))\n",
    "top_df"
   ]
  },
  {
   "cell_type": "code",
   "execution_count": null,
   "id": "f353b491",
   "metadata": {},
   "outputs": [],
   "source": [
    "metrics = [\"ncalls\",\"tot_time\",\"tot_percall\",\"cum_time\",\"cum_percall\"]\n",
    "top_df = pd.read_csv(ANALYSIS_PATH.joinpath(f\"top_functions_{condition}.csv\"))\n",
    "for metric in metrics:\n",
    "    title = f\"Mean {metric} of functions with {condition}\"\n",
    "    fig = px.bar(top_df.sort_values(\"mean_\"+metric),\n",
    "    x = \"filename_lineno(function)\",\n",
    "    y = \"mean_\" + metric,\n",
    "    error_y=\"std_\"+metric,\n",
    "    color= \"Function\",\n",
    "    #color_discrete_map={\"[LightningModule]BICYCLE\": \"#000991\",\n",
    "    #                    \"[Strategy]SingleDeviceStrategy\": \"#800000\"},\n",
    "    log_y = True,\n",
    "    text=\"Class\",\n",
    "    title=title,\n",
    "    width=1500,\n",
    "    height=500\n",
    "    )\n",
    "    if not ANALYSIS_PATH.joinpath(\"figures\",\"top_df\").is_dir():\n",
    "        ANALYSIS_PATH.joinpath(\"figures\",\"top_df\").mkdir()\n",
    "    fig.write_image(ANALYSIS_PATH/\"figures\"/\"top_df\"/f\"{title}.pdf\", scale=6)\n",
    "    fig.show()"
   ]
  },
  {
   "cell_type": "code",
   "execution_count": null,
   "id": "32e6202a",
   "metadata": {},
   "outputs": [],
   "source": [
    "time = [float(full_profiles[key].query(\"Class_Function_etc == '[Strategy]SingleDeviceStrategy_training_step:model.py:828(split_samples)'\")[\"tot_time\"].iloc[0]) for key in key_array.flatten()]\n",
    "n_genes = [ngenes_parameters.loc[key, \"data_n_genes\"] for key in key_array.flatten()]\n",
    "px.bar(pd.DataFrame(np.array([n_genes, time]).T, columns=[\"n_genes\", \"time\",]),\n",
    "                    x = \"n_genes\",\n",
    "                    y = \"time\",\n",
    "                    )"
   ]
  },
  {
   "cell_type": "code",
   "execution_count": null,
   "id": "80bf0f1d",
   "metadata": {},
   "outputs": [],
   "source": [
    "px.bar(ngenes_parameters.reset_index(),\n",
    "       x = \"data_n_genes\",\n",
    "       y = \"training_time\",\n",
    "       barmode=\"relative\",\n",
    "       )"
   ]
  },
  {
   "cell_type": "code",
   "execution_count": null,
   "id": "f4bd49e6",
   "metadata": {},
   "outputs": [],
   "source": [
    "ngenes_parameters"
   ]
  },
  {
   "cell_type": "code",
   "execution_count": null,
   "id": "59b5b548",
   "metadata": {},
   "outputs": [],
   "source": [
    "# Difference in training and Profile time?\n",
    "plt.bar(height=[ngenes_parameters.loc[key][\"training_time\"]- training_profiles[key][\"Time\"].sum() for key in key_array.flatten()],\n",
    "        x=[ngenes_parameters.loc[key, \"data_n_genes\"] for key in key_array.flatten()])"
   ]
  }
 ],
 "metadata": {
  "kernelspec": {
   "display_name": "bicycle",
   "language": "python",
   "name": "python3"
  },
  "language_info": {
   "codemirror_mode": {
    "name": "ipython",
    "version": 3
   },
   "file_extension": ".py",
   "mimetype": "text/x-python",
   "name": "python",
   "nbconvert_exporter": "python",
   "pygments_lexer": "ipython3",
   "version": "3.11.12"
  }
 },
 "nbformat": 4,
 "nbformat_minor": 5
}
