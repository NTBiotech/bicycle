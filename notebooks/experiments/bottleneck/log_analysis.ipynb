{
 "cells": [
  {
   "cell_type": "code",
   "execution_count": null,
   "id": "663fcd50",
   "metadata": {},
   "outputs": [],
   "source": [
    "import pandas as pd\n",
    "import plotly.express as px\n",
    "import plotly.graph_objects as go"
   ]
  },
  {
   "cell_type": "code",
   "execution_count": null,
   "id": "ea6c0475",
   "metadata": {},
   "outputs": [],
   "source": [
    "df = pd.read_parquet(\"/data/toulouse/bicycle/notebooks/experiments/bottleneck/data/models/test_run_00028/mylogger/logger.parquet\")\n",
    "df = df.reset_index()"
   ]
  },
  {
   "cell_type": "code",
   "execution_count": null,
   "id": "8627935c",
   "metadata": {},
   "outputs": [],
   "source": [
    "px.line(df, \n",
    "        x=\"step\",\n",
    "        y=df.columns[1],\n",
    "        title=df.columns[1])"
   ]
  },
  {
   "cell_type": "code",
   "execution_count": null,
   "id": "e11b9688",
   "metadata": {},
   "outputs": [],
   "source": [
    "fig = go.Figure(s)\n",
    "for col in df.columns:\n",
    "    fig.add_trace(go.Scatter(\n",
    "        x=df[\"step\"],\n",
    "        y=df[col],\n",
    "        name=col,\n",
    "    ))\n",
    "\n",
    "fig.show()"
   ]
  }
 ],
 "metadata": {
  "kernelspec": {
   "display_name": "bicycle",
   "language": "python",
   "name": "python3"
  },
  "language_info": {
   "codemirror_mode": {
    "name": "ipython",
    "version": 3
   },
   "file_extension": ".py",
   "mimetype": "text/x-python",
   "name": "python",
   "nbconvert_exporter": "python",
   "pygments_lexer": "ipython3",
   "version": "3.11.12"
  }
 },
 "nbformat": 4,
 "nbformat_minor": 5
}
