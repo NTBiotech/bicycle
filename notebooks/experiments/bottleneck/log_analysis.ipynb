{
 "cells": [
  {
   "cell_type": "code",
   "execution_count": null,
   "id": "663fcd50",
   "metadata": {},
   "outputs": [],
   "source": [
    "import pandas as pd\n",
    "import plotly.express as px\n",
    "import plotly.graph_objects as go\n",
    "import plotly.subplots as sp\n",
    "import matplotlib.pyplot as plt\n",
    "import numpy as np"
   ]
  },
  {
   "cell_type": "code",
   "execution_count": null,
   "id": "ea6c0475",
   "metadata": {},
   "outputs": [],
   "source": [
    "df = pd.read_parquet(\"/data/toulouse/bicycle/notebooks/experiments/bottleneck/data/models/test_run_00028/mylogger/logger.parquet\")\n",
    "df = df.reset_index()"
   ]
  },
  {
   "cell_type": "code",
   "execution_count": null,
   "id": "8627935c",
   "metadata": {},
   "outputs": [],
   "source": [
    "df = df.dropna(axis=1, how=\"any\")"
   ]
  },
  {
   "cell_type": "code",
   "execution_count": null,
   "id": "bb9907ac",
   "metadata": {},
   "outputs": [],
   "source": [
    "df.shape"
   ]
  },
  {
   "cell_type": "code",
   "execution_count": null,
   "id": "e11b9688",
   "metadata": {},
   "outputs": [],
   "source": [
    "fig, ax=plt.subplots(nrows=len(df.columns[:-20]), ncols=1)\n",
    "for n, col in enumerate(df.columns[:-20]):\n",
    "    ax[n].plot(\n",
    "        df[\"step\"],\n",
    "        df[col],\n",
    "        color= \"red\"\n",
    "    )\n",
    "    ax[n].set_title(col)\n",
    "    \n",
    "fig.set_size_inches(30 ,100)\n",
    "fig.tight_layout()\n",
    "plt.show()"
   ]
  },
  {
   "cell_type": "code",
   "execution_count": null,
   "id": "6d00c747",
   "metadata": {},
   "outputs": [],
   "source": [
    "cols = [col for col in df.columns if col != \"step\"]\n",
    "n = len(cols)\n",
    "ncols = 3  # adjust based on how wide your screen is\n",
    "nrows = int(np.ceil(n / ncols))\n",
    "\n",
    "fig, axes = plt.subplots(nrows=nrows, ncols=ncols, figsize=(6*ncols, 3*nrows))\n",
    "axes = axes.flatten()\n",
    "\n",
    "for i, col in enumerate(cols):\n",
    "    axes[i].plot(df[\"step\"], df[col])\n",
    "    axes[i].set_title(col)\n",
    "\n",
    "# Turn off unused axes\n",
    "for j in range(i + 1, len(axes)):\n",
    "    axes[j].axis(\"off\")\n",
    "\n",
    "fig.tight_layout()\n",
    "plt.show()"
   ]
  },
  {
   "cell_type": "code",
   "execution_count": null,
   "id": "c553c177",
   "metadata": {},
   "outputs": [],
   "source": [
    "df.shape"
   ]
  }
 ],
 "metadata": {
  "kernelspec": {
   "display_name": "bicycle",
   "language": "python",
   "name": "python3"
  },
  "language_info": {
   "codemirror_mode": {
    "name": "ipython",
    "version": 3
   },
   "file_extension": ".py",
   "mimetype": "text/x-python",
   "name": "python",
   "nbconvert_exporter": "python",
   "pygments_lexer": "ipython3",
   "version": "3.11.12"
  }
 },
 "nbformat": 4,
 "nbformat_minor": 5
}
