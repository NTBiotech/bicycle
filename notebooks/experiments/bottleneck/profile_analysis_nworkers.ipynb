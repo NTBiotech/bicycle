{
 "cells": [
  {
   "cell_type": "code",
   "execution_count": null,
   "id": "33af5071",
   "metadata": {},
   "outputs": [],
   "source": [
    "import numpy as np\n",
    "import pandas as pd\n",
    "from pathlib import Path\n",
    "import plotly.express as px\n",
    "import os\n",
    "import matplotlib.pyplot as plt"
   ]
  },
  {
   "cell_type": "code",
   "execution_count": null,
   "id": "c19f88ee",
   "metadata": {},
   "outputs": [],
   "source": [
    "MODELS_PATH = Path(\"/data/toulouse/bicycle/notebooks/experiments/bottleneck/data/models\")\n",
    "PLOTS_PATH = Path(\"/data/toulouse/bicycle/notebooks/experiments/bottleneck/data/plots\")\n",
    "ANALYSIS_PATH = Path(\"/data/toulouse/bicycle/notebooks/experiments/bottleneck/data/analysis\")\n",
    "exclude=[\"test_run_00013\", \"test_run_00014\", \"figures\"]"
   ]
  },
  {
   "cell_type": "code",
   "execution_count": null,
   "id": "a367dc25",
   "metadata": {},
   "outputs": [],
   "source": [
    "# run_id        profile scale compile full dynamic mode   worker_num  name\n",
    "parameters = pd.read_csv(ANALYSIS_PATH/\"manual_params.csv\").set_index(\"run_id\", drop=True)\n",
    "worker_keys = pd.Series([\n",
    "    \"test_run_00051\",\n",
    "    \"test_run_00052\",\n",
    "    \"test_run_00053\",\n",
    "    \"test_run_00054\",\n",
    "    \"test_run_00055\",\n",
    "    \"test_run_00056\",\n",
    "    ])\n",
    "parameters = parameters.loc[worker_keys]\n",
    "\n",
    "gene_number_paras = pd.read_csv(ANALYSIS_PATH/\"parameters.csv\").set_index(\"run_id\", drop=True).sort_index()\n",
    "gene_number_paras[gene_number_paras.isna()] = np.nan\n",
    "gene_number_paras[\"loader_workers\"] = 63\n",
    "gene_number_paras[\"name\"] = \"63_workers\"\n",
    "gene_number_paras[\"compile\"] = False\n",
    "gene_number_paras[\"profile\"] = True"
   ]
  },
  {
   "cell_type": "code",
   "execution_count": null,
   "id": "fba08c70",
   "metadata": {},
   "outputs": [],
   "source": [
    "gene_number_paras"
   ]
  },
  {
   "cell_type": "code",
   "execution_count": null,
   "id": "0aefbd51",
   "metadata": {},
   "outputs": [],
   "source": [
    "for key in [\"test_run_00027\", \"test_run_00028\", \"test_run_00029\"]:\n",
    "    parameters.loc[len(parameters)] = gene_number_paras[parameters.columns].loc[key]\n",
    "    \n",
    "    worker_keys.loc[len(worker_keys)] = key\n",
    "\n",
    "parameters = parameters.reset_index()\n",
    "parameters[\"run_id\"] = worker_keys\n"
   ]
  },
  {
   "cell_type": "markdown",
   "id": "df8caa00",
   "metadata": {},
   "source": [
    "## Summary profiles"
   ]
  },
  {
   "cell_type": "code",
   "execution_count": null,
   "id": "215d2d7b",
   "metadata": {},
   "outputs": [],
   "source": [
    "training_profiles = dict()\n",
    "for dir in ANALYSIS_PATH.iterdir():\n",
    "    if str(dir.name) in exclude:\n",
    "        continue\n",
    "    if dir.is_dir() and dir.name in worker_keys.to_list():\n",
    "        training_profiles[str(dir.name)] = pd.read_csv(dir.joinpath(\"training_profile.csv\"))\n"
   ]
  },
  {
   "cell_type": "code",
   "execution_count": null,
   "id": "f156ed44",
   "metadata": {},
   "outputs": [],
   "source": [
    "# calculate filtered profiled time\n",
    "times = list()\n",
    "for key in worker_keys:\n",
    "    print(key)\n",
    "    times.append(training_profiles[key][\"Time\"].sum())\n",
    "parameters[\"Profile_Time\"] = times"
   ]
  },
  {
   "cell_type": "code",
   "execution_count": null,
   "id": "d7b6e099",
   "metadata": {},
   "outputs": [],
   "source": [
    "fig = px.bar(parameters.sort_values(\"Profile_Time\").reset_index(),\n",
    "       x=\"run_id\",\n",
    "       y=\"Profile_Time\",\n",
    "       text=\"name\",\n",
    "       title=\"Comparison of profiled time with different cpu worker numbers\"\n",
    "       )\n",
    "fig.show()\n",
    "#fig.write_image(ANALYSIS_PATH/\"figures\"/\"Worker_profiled_runtime.pdf\", scale=10)"
   ]
  },
  {
   "cell_type": "code",
   "execution_count": null,
   "id": "32131e2a",
   "metadata": {},
   "outputs": [],
   "source": [
    "fig = px.bar(parameters.sort_values(\"training_time\").reset_index(),\n",
    "       x=\"run_id\",\n",
    "       y=\"training_time\",\n",
    "       text=\"name\",\n",
    "       title=\"Comparison of total training time with different cpu worker numbers\"\n",
    "       )\n",
    "fig.show()\n",
    "#fig.write_image(ANALYSIS_PATH/\"figures\"/\"Worker_training_runtime.pdf\", scale=10)"
   ]
  },
  {
   "cell_type": "code",
   "execution_count": null,
   "id": "32131e2a",
   "metadata": {},
   "outputs": [],
   "source": [
    "aggregator = {\n",
    "    \"Class\": lambda x: x.iloc[0],\n",
    "    \"Function\": lambda x: x.iloc[0],\n",
    "    \"Class_Function_etc\": lambda x: x.iloc[0],\n",
    "    \"Class_Function\": lambda x: x.iloc[0],\n",
    "    \"Summary_index\": lambda x: x.iloc[0],\n",
    "    \"filename_lineno(function)\": lambda x: x.iloc[0],\n",
    "    \"is_callback\": lambda x: x.iloc[0],\n",
    "    \"Call_num\": \"sum\",\n",
    "    \"Primitive_Call_num\": \"sum\",\n",
    "    \"Time\": \"sum\",\n",
    "    \"ncalls\": \"sum\",\n",
    "    \"tot_time\": \"sum\",\n",
    "    \"tot_percall\": \"mean\",\n",
    "    \"cum_time\": \"sum\",\n",
    "    \"cum_percall\": \"mean\",\n",
    "}"
   ]
  },
  {
   "cell_type": "code",
   "execution_count": null,
   "id": "8296f010",
   "metadata": {},
   "outputs": [],
   "source": [
    "full_profiles = dict()\n",
    "for dir in ANALYSIS_PATH.iterdir():\n",
    "    if str(dir.name) in exclude:\n",
    "        continue\n",
    "    if dir.is_dir() and dir.name in worker_keys.to_list():\n",
    "        df = pd.read_csv(dir.joinpath(\"full_training_profile.csv\")).drop(columns = [\"Rank\"])\n",
    "        df = df.groupby([\"Class_Function_etc\"], as_index=False, ).agg(aggregator).reset_index()\n",
    "        df[\"in_model\"] = df[\"Class_Function_etc\"].apply(lambda x: \"model.py\" in str(x).casefold())\n",
    "        df[\"in_bicycle\"] = df[\"Class_Function_etc\"].apply(lambda x: \"bicycle\" in str(x).casefold())\n",
    "        df = df.sort_values(\"filename_lineno(function)\").set_index(pd.Index(np.arange(len(df))),drop=True)\n",
    "        #numericals = [\"Call_num\",\"Primitive_Call_num\",\"Time\",\"ncalls\",\"tot_time\",\"tot_percall\",\"cum_time\",\"cum_percall\"]\n",
    "        #df[numericals] = df[numericals]/sum(df[numericals], axis=0)\n",
    "        full_profiles[str(dir.name)] = df"
   ]
  },
  {
   "cell_type": "code",
   "execution_count": null,
   "id": "bf2a5cc9",
   "metadata": {},
   "outputs": [],
   "source": [
    "print(full_profiles.keys())"
   ]
  },
  {
   "cell_type": "code",
   "execution_count": null,
   "id": "f0788b0c",
   "metadata": {},
   "outputs": [],
   "source": [
    "metrics = [\"ncalls\",\"tot_time\",\"tot_percall\",\"cum_time\",\"cum_percall\"]\n",
    "\n",
    "if parameters.index.name != \"run_id\":\n",
    "    parameters=parameters.set_index(\"run_id\")\n",
    "condition=\"in_model\"\n",
    "top_df = pd.DataFrame(columns=df.columns.append(parameters.columns))\n",
    "for n, df in full_profiles.items():\n",
    "        data = df.query(condition)#.sort_values(metric, ignore_index=True, ascending = False).iloc[:20]\n",
    "        for _, row in data.iterrows():\n",
    "            top_df.loc[len(top_df)] = np.concatenate([row, parameters.loc[n]], axis=0)"
   ]
  },
  {
   "cell_type": "code",
   "execution_count": null,
   "id": "bb6240a2",
   "metadata": {},
   "outputs": [],
   "source": [
    "aggregator[\"name\"]= lambda x: x.iloc[0]\n",
    "for metric in metrics:\n",
    "    title = f\"Loader workers: {metric} of functions with {condition}\"\n",
    "    \n",
    "    data = top_df.groupby([\"loader_workers\", \"Class_Function_etc\"],).agg(aggregator)\n",
    "    fig = px.bar(data.sort_values(metric).sort_values(\"loader_workers\"),\n",
    "    x = \"filename_lineno(function)\",\n",
    "    y = metric,\n",
    "    color= \"name\",\n",
    "#    log_y = True,\n",
    "    text=\"Function\",\n",
    "    title=title,\n",
    "    barmode=\"group\",\n",
    "    )\n",
    "    fig.show()\n",
    "    #fig.write_image(ANALYSIS_PATH/\"figures\"/f\"{title}.pdf\")"
   ]
  },
  {
   "cell_type": "code",
   "execution_count": null,
   "id": "d49dcb4e",
   "metadata": {},
   "outputs": [],
   "source": [
    "top_df.loc[top_df[\"filename_lineno(function)\"] == \"model.py:828(split_samples)\"]"
   ]
  }
 ],
 "metadata": {
  "kernelspec": {
   "display_name": "bicycle",
   "language": "python",
   "name": "python3"
  },
  "language_info": {
   "codemirror_mode": {
    "name": "ipython",
    "version": 3
   },
   "file_extension": ".py",
   "mimetype": "text/x-python",
   "name": "python",
   "nbconvert_exporter": "python",
   "pygments_lexer": "ipython3",
   "version": "3.11.12"
  }
 },
 "nbformat": 4,
 "nbformat_minor": 5
}
