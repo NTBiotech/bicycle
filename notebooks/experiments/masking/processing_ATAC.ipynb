{
 "cells": [
  {
   "cell_type": "code",
   "execution_count": 1,
   "id": "ad0ecb4e",
   "metadata": {},
   "outputs": [],
   "source": [
    "import matplotlib.pyplot as plt\n",
    "import pandas as pd\n",
    "import scanpy as sc\n",
    "import snapatac2 as sn\n",
    "from pathlib import Path\n",
    "import numpy as np\n",
    "import scipy.stats as stats\n",
    "import pickle\n",
    "import time\n",
    "import timeit\n",
    "from scipy.sparse import csr_matrix\n",
    "\n",
    "np.random.seed(1)"
   ]
  },
  {
   "cell_type": "code",
   "execution_count": 2,
   "id": "c6507877",
   "metadata": {},
   "outputs": [],
   "source": [
    "run_id = Path(\"/data/toulouse/bicycle/notebooks/experiments/masking/data\")/\"scMultiSim_data\"/\"run_04\"\n",
    "out_path = Path(\"/data/toulouse/bicycle/notebooks/experiments/masking/data\")"
   ]
  },
  {
   "cell_type": "code",
   "execution_count": 3,
   "id": "13639254",
   "metadata": {},
   "outputs": [],
   "source": [
    "atac_base = pd.read_csv(run_id/\"atac_counts.csv\", index_col=0).T\n",
    "grn = pd.read_csv(run_id/\"geff.csv\", index_col=0)\n",
    "region_to_gene = pd.read_csv(run_id/\"region_to_gene.csv\", index_col=0)\n",
    "region_to_tf = pd.read_csv(run_id/\"region_to_tf.csv\", index_col=0)"
   ]
  },
  {
   "cell_type": "code",
   "execution_count": 4,
   "id": "2cb8776b",
   "metadata": {},
   "outputs": [
    {
     "name": "stdout",
     "output_type": "stream",
     "text": [
      "600\n"
     ]
    },
    {
     "name": "stderr",
     "output_type": "stream",
     "text": [
      "/data/toulouse/miniforge3/envs/multi-ome02/lib/python3.12/site-packages/anndata/_core/aligned_df.py:68: ImplicitModificationWarning: Transforming to str index.\n",
      "  warnings.warn(\"Transforming to str index.\", ImplicitModificationWarning)\n"
     ]
    }
   ],
   "source": [
    "TFs = grn.columns\n",
    "counts = csr_matrix(atac_base.to_numpy(dtype=np.float32))\n",
    "adata = sc.AnnData(atac_base)\n",
    "adata.var_names = atac_base.columns.to_numpy(dtype=str)\n",
    "adata.obs[\"perturbed\"] = [False if n<4400 else True for n in range(len(atac_base))]\n",
    "adata.obs[\"Perturbation\"] = [\"not_perturbed\" if n<4400 else \"perturbed\" for n in range(len(atac_base))]\n",
    "\n",
    "targets = TFs.to_numpy().repeat(600/len(TFs))\n",
    "print(len(targets))\n",
    "adata.obs[\"target\"] = [np.nan if n<4400 else targets[(n-len(atac_base))] for n in range(len(atac_base))]"
   ]
  },
  {
   "cell_type": "code",
   "execution_count": 5,
   "id": "c8439b07",
   "metadata": {},
   "outputs": [
    {
     "name": "stderr",
     "output_type": "stream",
     "text": [
      "... storing 'Perturbation' as categorical\n",
      "... storing 'target' as categorical\n",
      "... storing 'target_genes' as categorical\n"
     ]
    }
   ],
   "source": [
    "# write full adata for full bicycle run\n",
    "adata.obs[\"target_genes\"] = [[\"\"] if n<4400 else [targets[(n-len(atac_base))]] for n in range(len(atac_base))]\n",
    "adata.obs.target_genes = adata.obs.target_genes.map(str)\n",
    "adata.write_h5ad(run_id/\"ready_full_atac.h5ad\")"
   ]
  },
  {
   "cell_type": "code",
   "execution_count": 9,
   "id": "9d7e71a2",
   "metadata": {},
   "outputs": [
    {
     "data": {
      "text/plain": [
       "(5000, 330)"
      ]
     },
     "execution_count": 9,
     "metadata": {},
     "output_type": "execute_result"
    }
   ],
   "source": [
    "adata.shape"
   ]
  },
  {
   "cell_type": "code",
   "execution_count": null,
   "id": "dcf1e9a8",
   "metadata": {},
   "outputs": [],
   "source": [
    "adata.obs[\"TF_perturbed\"] = [row[\"perturbed\"] and (row[\"target\"] in TFs.to_list()) for cell, row in adata.obs.iterrows()]\n",
    "adata.obs[\"TF_pert_cate\"] = adata.obs[\"TF_perturbed\"].map(lambda x: \"TF_perturbed\" if x else \"no_TF_perturbed\")"
   ]
  },
  {
   "cell_type": "code",
   "execution_count": null,
   "id": "e28575a6",
   "metadata": {},
   "outputs": [],
   "source": [
    "sc.pl.highest_expr_genes(adata)"
   ]
  },
  {
   "cell_type": "code",
   "execution_count": null,
   "id": "c15a0616",
   "metadata": {},
   "outputs": [],
   "source": [
    "plt.hist(adata.X.sum(axis=0), bins=50)\n",
    "plt.xticks(np.arange(0, 160000, 5000))"
   ]
  },
  {
   "cell_type": "code",
   "execution_count": null,
   "id": "9caa75e0",
   "metadata": {},
   "outputs": [],
   "source": [
    "# filtering not necessary as all genes and cells have the same amount\n",
    "sc.pp.filter_cells(adata, min_genes=0)\n",
    "sc.pp.filter_genes(adata, min_cells=0)"
   ]
  },
  {
   "cell_type": "code",
   "execution_count": null,
   "id": "2264403a",
   "metadata": {},
   "outputs": [],
   "source": [
    "adata"
   ]
  },
  {
   "cell_type": "code",
   "execution_count": null,
   "id": "56999e52",
   "metadata": {},
   "outputs": [],
   "source": [
    "sc.pl.violin(\n",
    "    adata,\n",
    "    [\"n_genes\"],\n",
    "    jitter=0.4,\n",
    "    multi_panel=True,\n",
    ")\n",
    "sc.pl.violin(\n",
    "    adata.T,\n",
    "    [\"n_cells\"],\n",
    "    jitter=0.4,\n",
    "    multi_panel=True,\n",
    ")"
   ]
  },
  {
   "cell_type": "code",
   "execution_count": null,
   "id": "cd708945",
   "metadata": {},
   "outputs": [],
   "source": [
    "sc.pp.filter_cells(adata, min_genes=170)\n",
    "sc.pl.violin(\n",
    "    adata,\n",
    "    [\"n_genes\"],\n",
    "    jitter=0.4,\n",
    "    multi_panel=True,\n",
    ")"
   ]
  },
  {
   "cell_type": "code",
   "execution_count": null,
   "id": "367ccac8",
   "metadata": {},
   "outputs": [],
   "source": [
    "sc.pp.normalize_total(adata, target_sum=1e4)"
   ]
  },
  {
   "cell_type": "code",
   "execution_count": null,
   "id": "66a54b2c",
   "metadata": {},
   "outputs": [],
   "source": [
    "sc.pp.log1p(adata)"
   ]
  },
  {
   "cell_type": "code",
   "execution_count": null,
   "id": "733be355",
   "metadata": {},
   "outputs": [],
   "source": [
    "sc.pp.highly_variable_genes(adata, min_mean=0.0125, max_mean=3, min_disp=0.5, n_top_genes=50)"
   ]
  },
  {
   "cell_type": "code",
   "execution_count": null,
   "id": "2da3b291",
   "metadata": {},
   "outputs": [],
   "source": [
    "sc.pl.highly_variable_genes(adata)"
   ]
  },
  {
   "cell_type": "code",
   "execution_count": null,
   "id": "e95b4925",
   "metadata": {},
   "outputs": [],
   "source": [
    "adata"
   ]
  },
  {
   "cell_type": "code",
   "execution_count": null,
   "id": "244eda90",
   "metadata": {},
   "outputs": [],
   "source": [
    "adata = adata[:, adata.var.highly_variable]"
   ]
  },
  {
   "cell_type": "code",
   "execution_count": null,
   "id": "b06f643e",
   "metadata": {},
   "outputs": [],
   "source": [
    "adata.var_names"
   ]
  },
  {
   "cell_type": "code",
   "execution_count": null,
   "id": "1ff4ece7",
   "metadata": {},
   "outputs": [],
   "source": [
    "sc.pl.highly_variable_genes(adata)"
   ]
  },
  {
   "cell_type": "code",
   "execution_count": null,
   "id": "bcc32548",
   "metadata": {},
   "outputs": [],
   "source": [
    "sc.pl.highest_expr_genes(adata)"
   ]
  },
  {
   "cell_type": "code",
   "execution_count": null,
   "id": "58faf0d9",
   "metadata": {},
   "outputs": [],
   "source": [
    "#for tf in TFs:\n",
    "#    sc.pl.violin(\n",
    "#        adata[pd.Series(adata.obs.target == tf) | ~adata.obs.perturbed],\n",
    "#        groupby=\"Perturbation\",\n",
    "#        \n",
    "#    )"
   ]
  },
  {
   "cell_type": "code",
   "execution_count": null,
   "id": "14324dcf",
   "metadata": {},
   "outputs": [],
   "source": [
    "sc.pp.scale(adata, max_value=10)\n",
    "adata"
   ]
  },
  {
   "cell_type": "code",
   "execution_count": null,
   "id": "4fb7cdc5",
   "metadata": {},
   "outputs": [],
   "source": [
    "sc.pp.pca(adata,svd_solver=\"arpack\")"
   ]
  },
  {
   "cell_type": "code",
   "execution_count": null,
   "id": "22a24378",
   "metadata": {},
   "outputs": [],
   "source": [
    "sc.pl.pca(adata, color=\"Perturbation\",\n",
    "          save=\"_atac_perturbation.pdf\")"
   ]
  },
  {
   "cell_type": "code",
   "execution_count": null,
   "id": "25433217",
   "metadata": {},
   "outputs": [],
   "source": [
    "sc.pl.pca(adata, color=\"target\")"
   ]
  },
  {
   "cell_type": "code",
   "execution_count": null,
   "id": "eaef4410",
   "metadata": {},
   "outputs": [],
   "source": [
    "sc.pl.pca_variance_ratio(adata, log=True)"
   ]
  },
  {
   "cell_type": "code",
   "execution_count": null,
   "id": "63ec05eb",
   "metadata": {},
   "outputs": [],
   "source": [
    "sc.pp.neighbors(adata, n_neighbors=10, n_pcs=10)"
   ]
  },
  {
   "cell_type": "code",
   "execution_count": null,
   "id": "427e7036",
   "metadata": {},
   "outputs": [],
   "source": [
    "sc.tl.umap(adata)"
   ]
  },
  {
   "cell_type": "code",
   "execution_count": null,
   "id": "7682840f",
   "metadata": {},
   "outputs": [],
   "source": [
    "sc.pl.umap(adata, color=\"target\",\n",
    "           save=\"_atac_perturbation.pdf\")"
   ]
  },
  {
   "cell_type": "code",
   "execution_count": null,
   "id": "927594be",
   "metadata": {},
   "outputs": [],
   "source": [
    "sc.tl.leiden(\n",
    "    adata,\n",
    "    resolution=0.9,\n",
    "    random_state=0,\n",
    "    flavor=\"igraph\",\n",
    "    n_iterations=2,\n",
    "    directed=False,\n",
    ")"
   ]
  },
  {
   "cell_type": "code",
   "execution_count": null,
   "id": "582cce57",
   "metadata": {},
   "outputs": [],
   "source": [
    "sc.pl.umap(adata, color=[\"leiden\",\"Perturbation\", \"TF_pert_cate\"],\n",
    "           save=\"_atac_leiden.pdf\")"
   ]
  },
  {
   "cell_type": "code",
   "execution_count": null,
   "id": "7d399350",
   "metadata": {},
   "outputs": [],
   "source": [
    "sc.tl.rank_genes_groups(adata, \"leiden\", method=\"t-test\")\n",
    "sc.pl.rank_genes_groups(adata, n_genes=25, sharey=False,\n",
    "                        save=\"_atac_leiden.pdf\")"
   ]
  },
  {
   "cell_type": "code",
   "execution_count": null,
   "id": "292c4e60",
   "metadata": {},
   "outputs": [],
   "source": [
    "pd.DataFrame(adata.uns[\"rank_genes_groups\"][\"names\"]).head(5)"
   ]
  },
  {
   "cell_type": "code",
   "execution_count": null,
   "id": "2a679cb3",
   "metadata": {},
   "outputs": [],
   "source": [
    "result = adata.uns[\"rank_genes_groups\"]\n",
    "groups = result[\"names\"].dtype.names\n",
    "pd.DataFrame(\n",
    "    {\n",
    "        f\"{group}_{key[:1]}\": result[key][group]\n",
    "        for group in groups\n",
    "        for key in [\"names\", \"pvals\"]\n",
    "    }\n",
    ").head(5)"
   ]
  },
  {
   "cell_type": "code",
   "execution_count": null,
   "id": "18410221",
   "metadata": {},
   "outputs": [],
   "source": [
    "adata.obs[adata.obs.perturbed].index"
   ]
  },
  {
   "cell_type": "code",
   "execution_count": null,
   "id": "ea765702",
   "metadata": {},
   "outputs": [],
   "source": [
    "adata.write(Path(run_id)/\"processed_atac.gz\", compression=\"gzip\")\n",
    "df = pd.DataFrame(adata.X).T\n",
    "df.to_csv(run_id/\"processed_atac.csv\")"
   ]
  },
  {
   "cell_type": "code",
   "execution_count": null,
   "id": "004814f8",
   "metadata": {},
   "outputs": [],
   "source": [
    "with open(run_id/\"filtered_genes.npy\", \"rb\") as rb:\n",
    "    filtered_genes = np.load(rb, allow_pickle=True)\n"
   ]
  },
  {
   "cell_type": "code",
   "execution_count": null,
   "id": "ac39f8cb",
   "metadata": {},
   "outputs": [],
   "source": [
    "filtered_regions = adata.var_names[adata.var.highly_variable].astype(int)\n",
    "region_to_gene = region_to_gene.loc[filtered_regions,:]\n",
    "region_to_gene = region_to_gene.iloc[:, filtered_genes-1]\n",
    "region_to_gene.to_csv(run_id/\"filtered_region_to_gene.csv\")\n",
    "region_to_tf = region_to_tf.loc[filtered_regions, :]\n",
    "region_to_tf.to_csv(run_id/\"filtered_region_to_tf.csv\")"
   ]
  }
 ],
 "metadata": {
  "kernelspec": {
   "display_name": "multi-ome02",
   "language": "python",
   "name": "python3"
  },
  "language_info": {
   "codemirror_mode": {
    "name": "ipython",
    "version": 3
   },
   "file_extension": ".py",
   "mimetype": "text/x-python",
   "name": "python",
   "nbconvert_exporter": "python",
   "pygments_lexer": "ipython3",
   "version": "3.12.10"
  }
 },
 "nbformat": 4,
 "nbformat_minor": 5
}
