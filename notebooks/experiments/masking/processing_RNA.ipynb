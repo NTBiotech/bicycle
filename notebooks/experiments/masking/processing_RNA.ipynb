{
 "cells": [
  {
   "cell_type": "code",
   "execution_count": 1,
   "id": "20fb5dde",
   "metadata": {},
   "outputs": [],
   "source": [
    "import pandas as pd\n",
    "import numpy as np\n",
    "import matplotlib.pyplot as plt\n",
    "from pathlib import Path\n",
    "import scanpy as sc \n",
    "from scipy.sparse import csr_matrix"
   ]
  },
  {
   "cell_type": "code",
   "execution_count": null,
   "id": "61a91235",
   "metadata": {},
   "outputs": [
    {
     "ename": "FileNotFoundError",
     "evalue": "[Errno 2] No such file or directory: 'run_02/figures'",
     "output_type": "error",
     "traceback": [
      "\u001b[31m---------------------------------------------------------------------------\u001b[39m",
      "\u001b[31mFileNotFoundError\u001b[39m                         Traceback (most recent call last)",
      "\u001b[36mCell\u001b[39m\u001b[36m \u001b[39m\u001b[32mIn[2]\u001b[39m\u001b[32m, line 6\u001b[39m\n\u001b[32m      4\u001b[39m figures_path = Path(run_id)/\u001b[33m\"\u001b[39m\u001b[33mfigures\u001b[39m\u001b[33m\"\u001b[39m\n\u001b[32m      5\u001b[39m \u001b[38;5;28;01mif\u001b[39;00m \u001b[38;5;129;01mnot\u001b[39;00m figures_path.exists():\n\u001b[32m----> \u001b[39m\u001b[32m6\u001b[39m     \u001b[43mfigures_path\u001b[49m\u001b[43m.\u001b[49m\u001b[43mmkdir\u001b[49m\u001b[43m(\u001b[49m\u001b[43mexist_ok\u001b[49m\u001b[43m=\u001b[49m\u001b[38;5;28;43;01mTrue\u001b[39;49;00m\u001b[43m)\u001b[49m\n\u001b[32m      8\u001b[39m sc.settings.figdir = figures_path\n\u001b[32m      9\u001b[39m np.random.seed(\u001b[32m0\u001b[39m)\n",
      "\u001b[36mFile \u001b[39m\u001b[32m/data/toulouse/miniforge3/envs/multi-ome02/lib/python3.12/pathlib.py:1311\u001b[39m, in \u001b[36mPath.mkdir\u001b[39m\u001b[34m(self, mode, parents, exist_ok)\u001b[39m\n\u001b[32m   1307\u001b[39m \u001b[38;5;250m\u001b[39m\u001b[33;03m\"\"\"\u001b[39;00m\n\u001b[32m   1308\u001b[39m \u001b[33;03mCreate a new directory at this given path.\u001b[39;00m\n\u001b[32m   1309\u001b[39m \u001b[33;03m\"\"\"\u001b[39;00m\n\u001b[32m   1310\u001b[39m \u001b[38;5;28;01mtry\u001b[39;00m:\n\u001b[32m-> \u001b[39m\u001b[32m1311\u001b[39m     \u001b[43mos\u001b[49m\u001b[43m.\u001b[49m\u001b[43mmkdir\u001b[49m\u001b[43m(\u001b[49m\u001b[38;5;28;43mself\u001b[39;49m\u001b[43m,\u001b[49m\u001b[43m \u001b[49m\u001b[43mmode\u001b[49m\u001b[43m)\u001b[49m\n\u001b[32m   1312\u001b[39m \u001b[38;5;28;01mexcept\u001b[39;00m \u001b[38;5;167;01mFileNotFoundError\u001b[39;00m:\n\u001b[32m   1313\u001b[39m     \u001b[38;5;28;01mif\u001b[39;00m \u001b[38;5;129;01mnot\u001b[39;00m parents \u001b[38;5;129;01mor\u001b[39;00m \u001b[38;5;28mself\u001b[39m.parent == \u001b[38;5;28mself\u001b[39m:\n",
      "\u001b[31mFileNotFoundError\u001b[39m: [Errno 2] No such file or directory: 'run_02/figures'"
     ]
    }
   ],
   "source": [
    "run_id = \"run_02\"\n",
    "perturbed_path = Path(f\"{run_id}/perturbed_data/\")\n",
    "unperturbed_path = Path(f\"{run_id}/unperturbed_data/\")\n",
    "figures_path = Path(run_id)/\"figures\"\n",
    "if not figures_path.exists():\n",
    "    figures_path.mkdir(exist_ok=True, parents=True)\n",
    "\n",
    "sc.settings.figdir = figures_path\n",
    "np.random.seed(0)"
   ]
  },
  {
   "cell_type": "markdown",
   "id": "828dbb2f",
   "metadata": {},
   "source": [
    "### Check if GRNs reflect perturbation"
   ]
  },
  {
   "cell_type": "code",
   "execution_count": null,
   "id": "0e3bcb21",
   "metadata": {},
   "outputs": [],
   "source": [
    "base_grn = pd.read_csv(unperturbed_path/\"geff.csv\", index_col=0)\n",
    "base_grn += 0.000001\n",
    "TFs = base_grn.columns\n",
    "pert_grns = dict()\n",
    "for dir in perturbed_path.iterdir():\n",
    "    if dir.is_dir() and dir.name in TFs.to_list():\n",
    "        df = pd.read_csv(dir/\"geff.csv\", index_col=0)+0.000001\n",
    "        pert_grns[str(dir.name)]=df.div(base_grn)"
   ]
  },
  {
   "cell_type": "code",
   "execution_count": null,
   "id": "41534836",
   "metadata": {},
   "outputs": [],
   "source": [
    "fig, ax = plt.subplots(nrows=(len(TFs)+1)//2+1, ncols=2)\n",
    "ax = ax.flatten()\n",
    "#ax[0].bar(x = TFs.to_list(),\n",
    "#          height = base_grn.sum(axis=0).to_list())\n",
    "#ax[0].set_title(\"base_grn\")\n",
    "for n, (tf, grn) in enumerate(pert_grns.items()):\n",
    "    ax[n+1].bar(x = TFs.to_list(),\n",
    "              height = grn.sum(axis=0).to_list())\n",
    "    ax[n+1].set_title(f\"GRN with {tf} perturbed\")\n",
    "\n",
    "fig.tight_layout()\n",
    "fig.savefig(figures_path/\"perturbation_grn_bar.pdf\")"
   ]
  },
  {
   "cell_type": "markdown",
   "id": "ebfc7be8",
   "metadata": {},
   "source": [
    "### A look at the RNA data"
   ]
  },
  {
   "cell_type": "code",
   "execution_count": null,
   "id": "c44d5f05",
   "metadata": {},
   "outputs": [],
   "source": [
    "df = pd.read_csv(unperturbed_path/\"counts_obs.csv\", index_col=0).T + 0.00001 # add pseudocounts\n",
    "df.columns"
   ]
  },
  {
   "cell_type": "code",
   "execution_count": null,
   "id": "d35826d2",
   "metadata": {},
   "outputs": [],
   "source": [
    "counts = csr_matrix(df.to_numpy(dtype=np.float32))\n",
    "unp_adata = sc.AnnData(df)\n",
    "unp_adata.var_names = df.columns.to_numpy()\n",
    "unp_adata.obs[\"perturbed\"] = False\n",
    "unp_adata.obs[\"Perturbation\"] = \"Not perturbed\"\n",
    "unp_adata.obs[\"target\"] = np.nan"
   ]
  },
  {
   "cell_type": "code",
   "execution_count": null,
   "id": "df288de3",
   "metadata": {},
   "outputs": [],
   "source": [
    "pert_adatas = dict()\n",
    "for dir in perturbed_path.iterdir():\n",
    "    if dir.is_dir() and dir.name:\n",
    "        df = pd.read_csv(dir/\"counts_obs.csv\", index_col=0).T + 0.00001\n",
    "        indexes = np.random.choice(df.index.to_numpy(), size=5, replace=False)\n",
    "        df = df.loc[indexes, :]\n",
    "        counts = csr_matrix(df.to_numpy(dtype=np.float32))\n",
    "        adata = sc.AnnData(df)\n",
    "        adata.obs_names = df.index + f\"_{str(dir.name)}\"\n",
    "        adata.var_names = df.columns.to_numpy()\n",
    "        adata.obs[\"perturbed\"] = True\n",
    "        adata.obs[\"Perturbation\"] = \"Perturbed\"\n",
    "        adata.obs[\"target\"] = str(dir.name)\n",
    "        pert_adatas[str(dir.name)] = adata\n",
    "pert_adatas[\"unperturbed\"] = unp_adata"
   ]
  },
  {
   "cell_type": "code",
   "execution_count": null,
   "id": "0cb0411f",
   "metadata": {},
   "outputs": [],
   "source": [
    "adata = sc.concat(pert_adatas, label=\"dataset\")"
   ]
  },
  {
   "cell_type": "code",
   "execution_count": null,
   "id": "3b039751",
   "metadata": {},
   "outputs": [],
   "source": [
    "adata.var[\"TF\"] = adata.var_names.map(lambda x: str(x) in TFs.to_list())\n",
    "adata.obs[\"TF_perturbed\"] = [row[\"perturbed\"] and (row[\"target\"] in TFs.to_list()) for cell, row in adata.obs.iterrows()]\n",
    "adata.obs[\"TF_pert_cate\"] = adata.obs[\"TF_perturbed\"].map(lambda x: \"TF_perturbed\" if x else \"no_TF_perturbed\")"
   ]
  },
  {
   "cell_type": "code",
   "execution_count": null,
   "id": "353cdb3a",
   "metadata": {},
   "outputs": [],
   "source": [
    "sc.pl.highest_expr_genes(adata)"
   ]
  },
  {
   "cell_type": "code",
   "execution_count": null,
   "id": "f95ef6f8",
   "metadata": {},
   "outputs": [],
   "source": [
    "assert ((adata.X>0).sum(axis=0)==5500).all()\n",
    "assert ((adata.X>0).sum(axis=1)==110).all()"
   ]
  },
  {
   "cell_type": "code",
   "execution_count": null,
   "id": "50b7fd2d",
   "metadata": {},
   "outputs": [],
   "source": [
    "plt.hist(adata.X.sum(axis=0), bins=20)\n"
   ]
  },
  {
   "cell_type": "code",
   "execution_count": null,
   "id": "7d94e633",
   "metadata": {},
   "outputs": [],
   "source": [
    "# filtering not necessary as all genes and cells have the same amount\n",
    "sc.pp.filter_cells(adata, min_genes=110)\n",
    "sc.pp.filter_genes(adata, min_cells=5500)"
   ]
  },
  {
   "cell_type": "code",
   "execution_count": null,
   "id": "e148df85",
   "metadata": {},
   "outputs": [],
   "source": [
    "adata"
   ]
  },
  {
   "cell_type": "code",
   "execution_count": null,
   "id": "e016547f",
   "metadata": {},
   "outputs": [],
   "source": [
    "sc.pl.violin(\n",
    "    adata,\n",
    "    [\"n_genes\"],\n",
    "    jitter=0.4,\n",
    "    multi_panel=True,\n",
    ")\n",
    "sc.pl.violin(\n",
    "    adata.T,\n",
    "    [\"n_cells\"],\n",
    "    jitter=0.4,\n",
    "    multi_panel=True,\n",
    ")"
   ]
  },
  {
   "cell_type": "code",
   "execution_count": null,
   "id": "f8f6fd85",
   "metadata": {},
   "outputs": [],
   "source": [
    "sc.pp.normalize_total(adata, target_sum=1e4)"
   ]
  },
  {
   "cell_type": "code",
   "execution_count": null,
   "id": "f1131c42",
   "metadata": {},
   "outputs": [],
   "source": [
    "sc.pp.log1p(adata)"
   ]
  },
  {
   "cell_type": "code",
   "execution_count": null,
   "id": "bf5c9e0c",
   "metadata": {},
   "outputs": [],
   "source": [
    "sc.pp.highly_variable_genes(adata, min_mean=0.0125, max_mean=3, min_disp=0.5, n_top_genes=50)"
   ]
  },
  {
   "cell_type": "code",
   "execution_count": null,
   "id": "4e2a19e7",
   "metadata": {},
   "outputs": [],
   "source": [
    "sc.pl.highly_variable_genes(adata)"
   ]
  },
  {
   "cell_type": "code",
   "execution_count": null,
   "id": "f0abe858",
   "metadata": {},
   "outputs": [],
   "source": [
    "adata"
   ]
  },
  {
   "cell_type": "code",
   "execution_count": null,
   "id": "f0844d86",
   "metadata": {},
   "outputs": [],
   "source": [
    "adata = adata[:, adata.var.highly_variable | adata.var.TF]"
   ]
  },
  {
   "cell_type": "code",
   "execution_count": null,
   "id": "b4a348b6",
   "metadata": {},
   "outputs": [],
   "source": [
    "sc.pl.highly_variable_genes(adata)"
   ]
  },
  {
   "cell_type": "code",
   "execution_count": null,
   "id": "567b67d3",
   "metadata": {},
   "outputs": [],
   "source": [
    "sc.pl.highest_expr_genes(adata)"
   ]
  },
  {
   "cell_type": "code",
   "execution_count": null,
   "id": "3a66b2a5",
   "metadata": {},
   "outputs": [],
   "source": [
    "TFs"
   ]
  },
  {
   "cell_type": "code",
   "execution_count": null,
   "id": "ec927acd",
   "metadata": {},
   "outputs": [],
   "source": [
    "adata.obs.perturbed"
   ]
  },
  {
   "cell_type": "code",
   "execution_count": null,
   "id": "0f9acabb",
   "metadata": {},
   "outputs": [],
   "source": [
    "adata"
   ]
  },
  {
   "cell_type": "code",
   "execution_count": null,
   "id": "6554e34c",
   "metadata": {},
   "outputs": [],
   "source": [
    "sc.pl.violin(adata,\n",
    "             keys=TFs,\n",
    "             groupby=\"TF_pert_cate\",\n",
    "             save=\"_TF_expression.pdf\"\n",
    "             )"
   ]
  },
  {
   "cell_type": "code",
   "execution_count": null,
   "id": "9a5ca472",
   "metadata": {},
   "outputs": [],
   "source": [
    "for tf in TFs:\n",
    "    sc.pl.violin(\n",
    "        adata[pd.Series(adata.obs.target == tf) | ~adata.obs.perturbed],\n",
    "        groupby=\"Perturbation\",\n",
    "        keys=tf,\n",
    "        \n",
    "    )"
   ]
  },
  {
   "cell_type": "code",
   "execution_count": null,
   "id": "1c9e7b6e",
   "metadata": {},
   "outputs": [],
   "source": [
    "sc.pp.scale(adata, max_value=10)\n",
    "adata"
   ]
  },
  {
   "cell_type": "code",
   "execution_count": null,
   "id": "249ce231",
   "metadata": {},
   "outputs": [],
   "source": [
    "sc.pp.pca(adata,svd_solver=\"arpack\")"
   ]
  },
  {
   "cell_type": "code",
   "execution_count": null,
   "id": "7a254b09",
   "metadata": {},
   "outputs": [],
   "source": [
    "sc.pl.pca(adata, color=\"Perturbation\",\n",
    "          save=\"_perturbation.pdf\")"
   ]
  },
  {
   "cell_type": "code",
   "execution_count": null,
   "id": "0c2ec23f",
   "metadata": {},
   "outputs": [],
   "source": [
    "sc.pl.pca(adata, color=\"target\")"
   ]
  },
  {
   "cell_type": "code",
   "execution_count": null,
   "id": "875b4a06",
   "metadata": {},
   "outputs": [],
   "source": [
    "sc.pl.pca_variance_ratio(adata, log=True)"
   ]
  },
  {
   "cell_type": "code",
   "execution_count": null,
   "id": "2e46d584",
   "metadata": {},
   "outputs": [],
   "source": [
    "sc.pp.neighbors(adata, n_neighbors=10, n_pcs=40)"
   ]
  },
  {
   "cell_type": "code",
   "execution_count": null,
   "id": "0a81164e",
   "metadata": {},
   "outputs": [],
   "source": [
    "sc.tl.umap(adata)"
   ]
  },
  {
   "cell_type": "code",
   "execution_count": null,
   "id": "5bcb38e4",
   "metadata": {},
   "outputs": [],
   "source": [
    "sc.pl.umap(adata, color=\"target\",\n",
    "           save=\"_perturbation.pdf\")"
   ]
  },
  {
   "cell_type": "code",
   "execution_count": null,
   "id": "2f545ca5",
   "metadata": {},
   "outputs": [],
   "source": [
    "sc.pl.umap(adata, color=[\"TF_pert_cate\", \"Perturbation\"],\n",
    "           save=\"_TF_pert.pdf\")"
   ]
  },
  {
   "cell_type": "code",
   "execution_count": null,
   "id": "55c301b1",
   "metadata": {},
   "outputs": [],
   "source": [
    "sc.pl.umap(adata, color=adata.var_names[adata.var.TF].append(pd.Index([\"Perturbation\", \"TF_pert_cate\"])),\n",
    "           save=\"_TFs.pdf\")"
   ]
  },
  {
   "cell_type": "code",
   "execution_count": null,
   "id": "cee0b6ad",
   "metadata": {},
   "outputs": [],
   "source": [
    "sc.tl.leiden(\n",
    "    adata,\n",
    "    resolution=0.9,\n",
    "    random_state=0,\n",
    "    flavor=\"igraph\",\n",
    "    n_iterations=2,\n",
    "    directed=False,\n",
    ")"
   ]
  },
  {
   "cell_type": "code",
   "execution_count": null,
   "id": "2eb453b9",
   "metadata": {},
   "outputs": [],
   "source": [
    "sc.pl.umap(adata, color=[\"leiden\",\"Perturbation\", \"TF_pert_cate\"],\n",
    "           save=\"_leiden.pdf\")"
   ]
  },
  {
   "cell_type": "code",
   "execution_count": null,
   "id": "c238a965",
   "metadata": {},
   "outputs": [],
   "source": [
    "sc.tl.rank_genes_groups(adata, \"leiden\", method=\"t-test\")\n",
    "sc.pl.rank_genes_groups(adata, n_genes=25, sharey=False,\n",
    "                        save=\"_leiden.pdf\")"
   ]
  },
  {
   "cell_type": "code",
   "execution_count": null,
   "id": "fb45aa99",
   "metadata": {},
   "outputs": [],
   "source": [
    "pd.DataFrame(adata.uns[\"rank_genes_groups\"][\"names\"]).head(5)"
   ]
  },
  {
   "cell_type": "code",
   "execution_count": null,
   "id": "8daaa930",
   "metadata": {},
   "outputs": [],
   "source": [
    "result = adata.uns[\"rank_genes_groups\"]\n",
    "groups = result[\"names\"].dtype.names\n",
    "pd.DataFrame(\n",
    "    {\n",
    "        f\"{group}_{key[:1]}\": result[key][group]\n",
    "        for group in groups\n",
    "        for key in [\"names\", \"pvals\"]\n",
    "    }\n",
    ").head(5)"
   ]
  },
  {
   "cell_type": "code",
   "execution_count": null,
   "id": "207d7809",
   "metadata": {},
   "outputs": [],
   "source": [
    "sc.pl.dotplot(adata, TFs, groupby=\"leiden\")\n"
   ]
  },
  {
   "cell_type": "code",
   "execution_count": null,
   "id": "3b9a7a8e",
   "metadata": {},
   "outputs": [],
   "source": [
    "sc.pl.stacked_violin(adata, TFs, groupby=\"leiden\")"
   ]
  },
  {
   "cell_type": "code",
   "execution_count": null,
   "id": "8e2b3f4d",
   "metadata": {},
   "outputs": [],
   "source": [
    "adata.write(Path(run_id)/\"processed_adata.gz\", compression=\"gzip\")"
   ]
  },
  {
   "cell_type": "markdown",
   "id": "4156d7ab",
   "metadata": {},
   "source": [
    "### Check if other genes are differentially expressed in perturbed scenario\n",
    "1. Check if underlying GRNs differ"
   ]
  },
  {
   "cell_type": "code",
   "execution_count": null,
   "id": "e3594f19",
   "metadata": {},
   "outputs": [],
   "source": [
    "del pert_adatas[\"unperturbed\"]"
   ]
  },
  {
   "cell_type": "code",
   "execution_count": null,
   "id": "ca8de406",
   "metadata": {},
   "outputs": [],
   "source": [
    "# get all grns\n",
    "base_grn = pd.read_csv(unperturbed_path/\"geff.csv\", index_col=0)\n",
    "base_grn += 0.000001\n",
    "TFs = base_grn.columns\n",
    "pert_grns = dict()\n",
    "for dir in perturbed_path.iterdir():\n",
    "    if dir.is_dir():\n",
    "        df = pd.read_csv(dir/\"geff.csv\", index_col=0)+0.000001\n",
    "        pert_grns[str(dir.name)]=df.sub(base_grn)"
   ]
  },
  {
   "cell_type": "code",
   "execution_count": null,
   "id": "73f09e93",
   "metadata": {},
   "outputs": [],
   "source": [
    "# check if grns are the same except for TFs\n",
    "assert pd.Series([df.sum().sum()==0.0 or (target in TFs.to_list()) for target, df in pert_grns.items()]).all()"
   ]
  },
  {
   "cell_type": "code",
   "execution_count": null,
   "id": "f6717ae8",
   "metadata": {},
   "outputs": [],
   "source": []
  }
 ],
 "metadata": {
  "kernelspec": {
   "display_name": "multi-ome02",
   "language": "python",
   "name": "python3"
  },
  "language_info": {
   "codemirror_mode": {
    "name": "ipython",
    "version": 3
   },
   "file_extension": ".py",
   "mimetype": "text/x-python",
   "name": "python",
   "nbconvert_exporter": "python",
   "pygments_lexer": "ipython3",
   "version": "3.12.10"
  }
 },
 "nbformat": 4,
 "nbformat_minor": 5
}
