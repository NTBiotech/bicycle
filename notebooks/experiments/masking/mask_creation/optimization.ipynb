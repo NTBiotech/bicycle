{
 "cells": [
  {
   "cell_type": "code",
   "execution_count": 364,
   "id": "ad57dd93",
   "metadata": {},
   "outputs": [],
   "source": [
    "import numpy as np\n",
    "import pandas as pd\n",
    "import scanpy as sc\n",
    "from sklearn.metrics import average_precision_score, auc, precision_recall_curve\n",
    "from pathlib import Path\n",
    "from bicycle.utils.mask_utils import get_mask2, get_sparsity\n",
    "import matplotlib.pyplot as plt\n",
    "data_path = Path(\"/data/toulouse/bicycle/notebooks/experiments/masking/data/scMultiSim_data/old_data/\")\n",
    "run_id = \"run_04\"\n",
    "data_path /= run_id"
   ]
  },
  {
   "cell_type": "code",
   "execution_count": 365,
   "id": "adaf4360",
   "metadata": {},
   "outputs": [],
   "source": [
    "def get_precision(grn, beta):\n",
    "    grn=grn.flatten()\n",
    "    beta=beta.flatten()\n",
    "    # normalize to [0, 1]\n",
    "    grn = (grn > 0).astype(int)\n",
    "    beta[beta<0] = 0\n",
    "    beta = beta/np.max(beta)\n",
    "    average_precision = average_precision_score(grn, beta)\n",
    "    return average_precision\n",
    "def get_auprc(grn, beta):\n",
    "    grn=grn.flatten()\n",
    "    beta=beta.flatten()\n",
    "    # normalize to [0, 1]\n",
    "    grn = (grn > 0).astype(int)\n",
    "    beta[beta<0] = 0\n",
    "    beta = beta/np.max(beta)\n",
    "    p,r,t = precision_recall_curve(grn, beta)\n",
    "    auprc = auc(r,p)\n",
    "    return auprc"
   ]
  },
  {
   "cell_type": "code",
   "execution_count": null,
   "id": "2aee5aaf",
   "metadata": {},
   "outputs": [],
   "source": [
    "atac_base = pd.read_csv(data_path/\"processed_atac.csv\", index_col=0).to_numpy(np.float32).T\n",
    "grn = pd.read_csv(data_path/\"unperturbed_data\"/\"geff.csv\", index_col=0).to_numpy(np.float32)\n",
    "region_to_gene = pd.read_csv(data_path/\"unperturbed_data\"/\"region_to_gene.csv\", index_col=0).to_numpy(np.float32)\n",
    "region_to_tf = pd.read_csv(data_path/\"unperturbed_data\"/\"region_to_tf.csv\", index_col=0).to_numpy(np.float32)\n",
    "\n",
    "grn[grn <= 1.0000000e-06] =0"
   ]
  },
  {
   "cell_type": "code",
   "execution_count": 367,
   "id": "81b14d63",
   "metadata": {},
   "outputs": [],
   "source": [
    "base_data = {\"atac\":atac_base,\n",
    "             \"region_to_gene\":region_to_gene,\n",
    "             \"region_to_tf\": region_to_tf,\n",
    "             }"
   ]
  },
  {
   "cell_type": "code",
   "execution_count": 368,
   "id": "b5a6a807",
   "metadata": {},
   "outputs": [],
   "source": [
    "# Forward selection\n",
    "def for_select(grn, data, parameters, _baseline_prec = 0, _a=[], _p=[], eval = get_precision):\n",
    "    if _baseline_prec == 0:\n",
    "        _p=list()\n",
    "        _a = list()\n",
    "        mask = get_mask2(**data, **parameters)\n",
    "        _baseline_prec = eval(grn, mask)\n",
    "        print(_baseline_prec)\n",
    "    precisions = []\n",
    "    for key, value in parameters.items():\n",
    "\n",
    "        if value:\n",
    "            precisions.append(0)\n",
    "            continue\n",
    "        if not type(value) is bool:\n",
    "            precisions.append(0)\n",
    "            continue\n",
    "        params = parameters.copy()\n",
    "        params[key] = True\n",
    "        mask = get_mask2(**data, **params)\n",
    "        precisions.append(eval(grn, mask))\n",
    "    \n",
    "    print(precisions)\n",
    "    print(parameters)\n",
    "    max_prec = np.max(precisions)\n",
    "    if max_prec <= _baseline_prec:\n",
    "        plt.subplot(1,2,1)\n",
    "        plt.plot(_a,_p)\n",
    "        plt.subplot(1, 2, 2)\n",
    "        plt.imshow(get_mask2(**data, **parameters))\n",
    "        return parameters, max_prec\n",
    "    argmax = np.argmax(precisions)\n",
    "    maxkey = [n for n in parameters.keys()][argmax]\n",
    "    parameters[maxkey] = True\n",
    "    _p.append(max_prec)\n",
    "    _a.append(maxkey)\n",
    "    print(_a,_p)\n",
    "    return for_select(grn, data, parameters, max_prec,_a=_a, _p=_p, eval=eval)\n",
    "# Reverse selection\n",
    "def rev_select(grn, data, parameters, _baseline_prec = 0, _a=[], _p=[], eval = get_precision):\n",
    "    if _baseline_prec == 0:\n",
    "        _p=list()\n",
    "        _a = list()\n",
    "        mask = get_mask2(**data, **parameters)\n",
    "        _baseline_prec = eval(grn, mask)\n",
    "        print(_baseline_prec)\n",
    "    precisions = []\n",
    "    keys = []\n",
    "    for key, value in parameters.items():\n",
    "\n",
    "        if not value:\n",
    "            continue\n",
    "        if not type(value) is bool:\n",
    "            continue\n",
    "        params = parameters.copy()\n",
    "        params[key] = False\n",
    "        mask = get_mask2(**data, **params)\n",
    "        precisions.append(eval(grn, mask))\n",
    "        keys.append(key)\n",
    "    print(f\"precisions: {precisions}\")\n",
    "    print(f\"keys: {keys}\")\n",
    "    if len(precisions) ==0:\n",
    "        plt.subplot(1,2,1)\n",
    "        plt.plot(_a,_p)\n",
    "        plt.subplot(1, 2, 2)\n",
    "        plt.imshow(get_mask2(**data, **parameters))\n",
    "        return parameters\n",
    "    max_prec = np.max(precisions)\n",
    "    if max_prec < _baseline_prec:\n",
    "        plt.subplot(1,2,1)\n",
    "        plt.plot(_a,_p)\n",
    "        plt.subplot(1, 2, 2)\n",
    "        plt.imshow(get_mask2(**data, **parameters))\n",
    "        return parameters, max_prec\n",
    "    argmax = np.argmax(precisions)\n",
    "    maxkey = keys[argmax]\n",
    "    parameters[maxkey] = False\n",
    "    _p.append(max_prec)\n",
    "    _a.append(maxkey)\n",
    "    print(f\"_p: {_p}\")\n",
    "    print(f\"_a: {_a}\")\n",
    "    return rev_select(grn, data, parameters, max_prec,_a=_a, _p=_p, eval=eval)\n"
   ]
  },
  {
   "cell_type": "code",
   "execution_count": 369,
   "id": "4f8f081c",
   "metadata": {},
   "outputs": [
    {
     "name": "stdout",
     "output_type": "stream",
     "text": [
      "80\n"
     ]
    }
   ],
   "source": [
    "threshold = 80\n",
    "\n",
    "parameters = {\n",
    "    \"threshold\" : True,\n",
    "    \"percentile\" : threshold,\n",
    "    \"correlation\" : True,\n",
    "    \"corr_normalize\" : True,\n",
    "    \"corr_threshold\" : True,\n",
    "    \"corr_threshold_percentile\" : threshold,\n",
    "    \"pseudocounts\" : True,\n",
    "    }\n",
    "print(threshold)"
   ]
  },
  {
   "cell_type": "code",
   "execution_count": 370,
   "id": "3e5630fe",
   "metadata": {},
   "outputs": [
    {
     "data": {
      "text/plain": [
       "<matplotlib.image.AxesImage at 0x7f8f68b26210>"
      ]
     },
     "execution_count": 370,
     "metadata": {},
     "output_type": "execute_result"
    },
    {
     "data": {
      "image/png": "[encoded data removed]",
      "text/plain": [
       "<Figure size 640x480 with 1 Axes>"
      ]
     },
     "metadata": {},
     "output_type": "display_data"
    }
   ],
   "source": [
    "plt.imshow(atac_base)"
   ]
  },
  {
   "cell_type": "code",
   "execution_count": 371,
   "id": "b39d0e45",
   "metadata": {},
   "outputs": [
    {
     "name": "stdout",
     "output_type": "stream",
     "text": [
      "3.36704025\n"
     ]
    }
   ],
   "source": [
    "print(atac_base.sum()/1000000)"
   ]
  },
  {
   "cell_type": "code",
   "execution_count": 372,
   "id": "6f85a9ab",
   "metadata": {},
   "outputs": [
    {
     "name": "stdout",
     "output_type": "stream",
     "text": [
      "0.2629137529137529\n"
     ]
    },
    {
     "name": "stdout",
     "output_type": "stream",
     "text": [
      "precisions: [0.33355835919040383, 0.22354312354312356, 0.2534032634032634, 0.5545810423673019, 0.2629137529137529]\n",
      "keys: ['threshold', 'correlation', 'corr_normalize', 'corr_threshold', 'pseudocounts']\n",
      "_p: [0.5545810423673019]\n",
      "_a: ['corr_threshold']\n",
      "precisions: [0.7329822365995522, 0.22354312354312356, 0.38315850815850816, 0.5545810423673019]\n",
      "keys: ['threshold', 'correlation', 'corr_normalize', 'pseudocounts']\n",
      "_p: [0.5545810423673019, 0.7329822365995522]\n",
      "_a: ['corr_threshold', 'threshold']\n",
      "precisions: [0.27220438459355656, 0.5628540084215057, 0.7329822365995522]\n",
      "keys: ['correlation', 'corr_normalize', 'pseudocounts']\n",
      "_p: [0.5545810423673019, 0.7329822365995522, 0.7329822365995522]\n",
      "_a: ['corr_threshold', 'threshold', 'pseudocounts']\n",
      "precisions: [0.27220438459355656, 0.5628540084215057]\n",
      "keys: ['correlation', 'corr_normalize']\n",
      "({'threshold': False, 'percentile': 80, 'correlation': True, 'corr_normalize': True, 'corr_threshold': False, 'corr_threshold_percentile': 80, 'pseudocounts': False}, 0.5628540084215057)\n"
     ]
    },
    {
     "data": {
      "image/png": "[encoded data removed]",
      "text/plain": [
       "<Figure size 640x480 with 2 Axes>"
      ]
     },
     "metadata": {},
     "output_type": "display_data"
    }
   ],
   "source": [
    "# forward selection\n",
    "print(rev_select(grn.copy(), base_data.copy(), parameters.copy(),_baseline_prec=0, eval=get_precision))\n"
   ]
  }
 ],
 "metadata": {
  "kernelspec": {
   "display_name": "bicycle",
   "language": "python",
   "name": "python3"
  },
  "language_info": {
   "codemirror_mode": {
    "name": "ipython",
    "version": 3
   },
   "file_extension": ".py",
   "mimetype": "text/x-python",
   "name": "python",
   "nbconvert_exporter": "python",
   "pygments_lexer": "ipython3",
   "version": "3.11.12"
  }
 },
 "nbformat": 4,
 "nbformat_minor": 5
}
