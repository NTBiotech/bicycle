{
 "cells": [
  {
   "cell_type": "code",
   "execution_count": 1,
   "id": "cac0f29f",
   "metadata": {},
   "outputs": [
    {
     "name": "stderr",
     "output_type": "stream",
     "text": [
      "/data/toulouse/miniforge3/envs/scm_compile/lib/python3.10/site-packages/tqdm/auto.py:21: TqdmWarning: IProgress not found. Please update jupyter and ipywidgets. See https://ipywidgets.readthedocs.io/en/stable/user_install.html\n",
      "  from .autonotebook import tqdm as notebook_tqdm\n"
     ]
    }
   ],
   "source": [
    "import numpy as np\n",
    "import pandas as pd\n",
    "from pathlib import Path\n",
    "from scMultiSim import generate_data\n",
    "import matplotlib.pyplot as plt\n",
    "from sklearn.metrics import average_precision_score, auc, precision_recall_curve\n",
    "from bicycle.utils.mask_utils import get_mask2, get_sparsity, add_saltpepper, normalize_matrix, above_threshold, add_noise\n",
    "from sklearn.decomposition import PCA\n",
    "from scipy.special import expit"
   ]
  },
  {
   "cell_type": "code",
   "execution_count": 2,
   "id": "a5bee68a",
   "metadata": {},
   "outputs": [],
   "source": [
    "save = True"
   ]
  },
  {
   "cell_type": "code",
   "execution_count": 3,
   "id": "5e74d183",
   "metadata": {},
   "outputs": [],
   "source": [
    "def get_precision(grn, beta):\n",
    "    grn=grn.flatten()\n",
    "    beta=beta.flatten()\n",
    "    # normalize to [0, 1]\n",
    "    grn = (grn > 0.001).astype(int)\n",
    "    #beta[beta<0] = 0\n",
    "    beta = expit(beta)\n",
    "    average_precision = average_precision_score(grn, beta)\n",
    "    return average_precision\n",
    "def get_auprc(grn, beta):\n",
    "    grn=grn.flatten()\n",
    "    beta=beta.flatten()\n",
    "    # normalize to [0, 1]\n",
    "    grn = (grn > 0).astype(int)\n",
    "    #beta[beta<0] = 0\n",
    "    beta = expit(beta)\n",
    "    p,r,t = precision_recall_curve(grn, beta)\n",
    "    auprc = auc(r,p)\n",
    "    return auprc\n",
    "def apply_pca(data_profile:dict, n_comp=None, mask=[]):\n",
    "    new_profile = data_profile.copy()\n",
    "    atac = new_profile[\"atac\"]\n",
    "    pca = PCA(svd_solver=\"full\").fit(atac)\n",
    "    atac=pca.transform(atac)\n",
    "    if len(mask) >0:\n",
    "        atac[:,mask] = 0\n",
    "    if n_comp!= None:\n",
    "        atac[:, n_comp:] = 0\n",
    "    #print(np.min(atac, axis=None))\n",
    "    #atac = atac + np.abs(np.min(atac, axis=None))\n",
    "    atac = pca.inverse_transform(atac)\n",
    "    new_profile[\"atac\"]= atac\n",
    "    return new_profile\n",
    "'''def get_mask2(atac,\n",
    "             region_to_gene,\n",
    "             region_to_tf,\n",
    "             threshold = False,\n",
    "             percentile : int = 50,\n",
    "             correlation = False,\n",
    "             corr_normalize = False,\n",
    "             corr_threshold = False,\n",
    "             corr_threshold_percentile: int = 50,\n",
    "             pseudocounts = False,\n",
    "             ):\n",
    "    \"\"\"\n",
    "    Args:\n",
    "    atac (np.array): regions x samples\n",
    "    params (dict): function parameters\n",
    "    \"\"\"\n",
    "    if pseudocounts:\n",
    "        atac += np.min(atac)*0.0001\n",
    "    if correlation and atac.shape[1]>1:\n",
    "        corr_atac = np.abs(np.corrcoef(atac))\n",
    "        #plt.imshow(corr_atac)\n",
    "        if corr_normalize:\n",
    "#            print(\"norm\")\n",
    "            corr_atac = normalize_matrix(corr_atac)\n",
    "        if corr_threshold:\n",
    "#            print(\"threshold\")\n",
    "            corr_atac = above_threshold(corr_atac, corr_threshold_percentile)\n",
    "    else:\n",
    "        corr_atac = atac @ atac.T\n",
    "    mask = region_to_gene.T @ corr_atac @ region_to_tf\n",
    "    if threshold:\n",
    "        mask = above_threshold(mask, percentile)\n",
    "    return mask'''\n",
    "\n",
    "def output_precision(mask_output):\n",
    "    return mask_output[0]\n",
    "def selection_wrap(\n",
    "    mask_threshold,\n",
    "    mask_percentile,\n",
    "    mask_correlation,\n",
    "    mask_corr_normalize,\n",
    "    mask_corr_threshold,\n",
    "    mask_corr_threshold_percentile,\n",
    "    mask_pseudocounts,\n",
    "    **config\n",
    "    ):\n",
    "    mask_kwargs={\n",
    "        \"threshold\":mask_threshold,\n",
    "        \"percentile\":mask_percentile,\n",
    "        \"correlation\":mask_correlation,\n",
    "        \"corr_normalize\":mask_corr_normalize,\n",
    "        \"corr_threshold\":mask_corr_threshold,\n",
    "        \"corr_threshold_percentile\":mask_corr_threshold_percentile,\n",
    "        \"pseudocounts\":mask_pseudocounts,}\n",
    "    return generate_data(**config, mask_kwargs=mask_kwargs)\n",
    "\n",
    "def selection_wrap_pca(**input):\n",
    "    atac = input.pop(\"atac\")\n",
    "    region_to_tf = input.pop(\"region_to_tf\")\n",
    "    region_to_gene = input.pop(\"region_to_gene\")\n",
    "    return get_mask2(atac=atac,\n",
    "                     region_to_gene=region_to_gene,\n",
    "                     region_to_tf=region_to_tf,\n",
    "                     pca=True,\n",
    "                     pcs = list(input.values()))"
   ]
  },
  {
   "cell_type": "code",
   "execution_count": 4,
   "id": "dcaaa0e7",
   "metadata": {},
   "outputs": [],
   "source": [
    "# Forward selection\n",
    "def for_select(data,\n",
    "               _parameters,\n",
    "               _baseline_prec = 0,\n",
    "               eval = get_precision,\n",
    "               mask_func = get_mask2,\n",
    "               eval_kwargs = {},):\n",
    "    if _baseline_prec == 0:\n",
    "        mask_output = mask_func(**_parameters, **data)\n",
    "        _baseline_prec = eval(mask_output, **eval_kwargs)\n",
    "        #print(_baseline_prec)\n",
    "\n",
    "    precisions = []\n",
    "    for key, value in _parameters.items():\n",
    "\n",
    "        if value:\n",
    "            precisions.append(0)\n",
    "            continue\n",
    "        if not type(value) is bool:\n",
    "            precisions.append(0)\n",
    "            continue\n",
    "        params = _parameters.copy()\n",
    "        params[key] = True\n",
    "        mask_output = mask_func(**params, **data)\n",
    "        precisions.append(eval(mask_output, **eval_kwargs))\n",
    "    \n",
    "    #print(precisions)\n",
    "    #print(_parameters)\n",
    "    max_prec = np.max(precisions)\n",
    "    \n",
    "    if max_prec < _baseline_prec:\n",
    "        return _parameters, _baseline_prec\n",
    "    \n",
    "    argmax = np.argmax(precisions)\n",
    "    maxkey = [n for n in _parameters.keys()][argmax]\n",
    "    _parameters[maxkey] = True\n",
    "\n",
    "    return for_select(data, _parameters, max_prec, eval=eval, mask_func=mask_func)\n",
    "\n",
    "# Reverse selection\n",
    "def rev_select(data,\n",
    "               _parameters,\n",
    "               _baseline_prec = 0,\n",
    "               eval = get_precision,\n",
    "               mask_func = get_mask2,\n",
    "               eval_kwargs = {},):\n",
    "    if _baseline_prec == 0:\n",
    "        mask_output = mask_func(**_parameters,**data)\n",
    "        _baseline_prec = eval(mask_output, **eval_kwargs)\n",
    "        #print(_baseline_prec)\n",
    "    precisions = []\n",
    "    keys = []\n",
    "    for key, value in _parameters.items():\n",
    "\n",
    "        if not value:\n",
    "            continue\n",
    "        if not type(value) is bool:\n",
    "            continue\n",
    "        params = _parameters.copy()\n",
    "        params[key] = False\n",
    "        mask_output = mask_func(**data, **params)\n",
    "        precisions.append(eval(mask_output, **eval_kwargs))\n",
    "        keys.append(key)\n",
    "    #print(f\"precisions: {precisions}\")\n",
    "    #print(f\"keys: {keys}\")\n",
    "    if len(precisions) ==0:\n",
    "        #max_prec = eval(grn,mask_func(**data, **_parameters))\n",
    "        return _parameters, _baseline_prec\n",
    "    \n",
    "    max_prec = np.max(precisions)\n",
    "    \n",
    "    if max_prec < _baseline_prec:\n",
    "        return _parameters, _baseline_prec\n",
    "    \n",
    "    argmax = np.argmax(precisions)\n",
    "    maxkey = keys[argmax]\n",
    "    _parameters[maxkey] = False\n",
    "    return rev_select(data,\n",
    "                      _parameters,\n",
    "                      max_prec,\n",
    "                      eval=eval,\n",
    "                      mask_func=mask_func)\n"
   ]
  },
  {
   "cell_type": "code",
   "execution_count": 12,
   "id": "26330d19",
   "metadata": {},
   "outputs": [
    {
     "name": "stdout",
     "output_type": "stream",
     "text": [
      "80\n"
     ]
    }
   ],
   "source": [
    "config = {\n",
    "    \"n_genes\":10,\n",
    "    \"grn_params\":{},\n",
    "    \"n_samples_control\": 500,\n",
    "    \"n_samples_per_pert\": 0,\n",
    "    \"train_gene_ko\": [],\n",
    "    \"test_gene_ko\": [],\n",
    "    \"pert_type\":\"dCas9\",\n",
    "    \"pert_strength\":0,\n",
    "    \"add_noise\":False,\n",
    "    \"add_batch\": False,\n",
    "    \"cache_path\": Path(\"./scMultiSim_cache/\"),\n",
    "    \"scMultiSim\": Path(\"./scMS.R\"),\n",
    "    \"create_mask\":True,\n",
    "    \"normalize\":True,\n",
    "    \"pseudocounts\":  True,\n",
    "    \"generate_graph\":  True,\n",
    "    \"verbose\": False,\n",
    "    \"sem\" :\"pert_grn\",\n",
    "}\n",
    "\n",
    "threshold = 80\n",
    "\n",
    "rev_parameters = {\n",
    "    \"threshold\" : True,\n",
    "    \"percentile\" : threshold,\n",
    "    \"correlation\" : True,\n",
    "    \"corr_normalize\" : True,\n",
    "    \"corr_threshold\" : True,\n",
    "    \"corr_threshold_percentile\" : threshold,\n",
    "    \"pseudocounts\" : True,\n",
    "    }\n",
    "\n",
    "for_parameters = {\n",
    "    \"threshold\" : False,\n",
    "    \"percentile\" : threshold,\n",
    "    \"correlation\" : False,\n",
    "    \"corr_normalize\" : False,\n",
    "    \"corr_threshold\" : False,\n",
    "    \"corr_threshold_percentile\" : threshold,\n",
    "    \"pseudocounts\" : False,\n",
    "    }\n",
    "print(threshold)\n"
   ]
  },
  {
   "cell_type": "code",
   "execution_count": 13,
   "id": "9bc14e70",
   "metadata": {},
   "outputs": [
    {
     "name": "stdout",
     "output_type": "stream",
     "text": [
      "r: 0\n",
      "p: 0.0\n",
      "Generating the GRN...\n"
     ]
    },
    {
     "name": "stderr",
     "output_type": "stream",
     "text": [
      "\n",
      "Attaching package: ‘dplyr’\n",
      "\n",
      "The following objects are masked from ‘package:stats’:\n",
      "\n",
      "    filter, lag\n",
      "\n",
      "The following objects are masked from ‘package:base’:\n",
      "\n",
      "    intersect, setdiff, setequal, union\n",
      "\n"
     ]
    },
    {
     "name": "stdout",
     "output_type": "stream",
     "text": [
      "Time spent: 0.01 mins\n",
      "0\n",
      "Normalizing data\n",
      "Normalizing data\n",
      "Adding noise: 0.0\n",
      "average precision vs geff:  0.15214141414141413\n",
      "mask is bigger than grn! Check if RNA trimming was performed.\n",
      "average precision vs beta:  0.15897354497354496\n",
      "Trimming RNA.\n",
      "Generating the GRN...\n"
     ]
    },
    {
     "name": "stderr",
     "output_type": "stream",
     "text": [
      "\n",
      "Attaching package: ‘dplyr’\n",
      "\n",
      "The following objects are masked from ‘package:stats’:\n",
      "\n",
      "    filter, lag\n",
      "\n",
      "The following objects are masked from ‘package:base’:\n",
      "\n",
      "    intersect, setdiff, setequal, union\n",
      "\n"
     ]
    },
    {
     "name": "stdout",
     "output_type": "stream",
     "text": [
      "Time spent: 0.01 mins\n",
      "0\n",
      "Normalizing data\n",
      "Normalizing data\n",
      "Adding noise: 0.0\n",
      "average precision vs geff:  0.1628977272727273\n",
      "mask is bigger than grn! Check if RNA trimming was performed.\n",
      "average precision vs beta:  0.1678670634920635\n",
      "Trimming RNA.\n",
      "p: 0.1\n",
      "Generating the GRN...\n"
     ]
    },
    {
     "name": "stderr",
     "output_type": "stream",
     "text": [
      "\n",
      "Attaching package: ‘dplyr’\n",
      "\n",
      "The following objects are masked from ‘package:stats’:\n",
      "\n",
      "    filter, lag\n",
      "\n",
      "The following objects are masked from ‘package:base’:\n",
      "\n",
      "    intersect, setdiff, setequal, union\n",
      "\n"
     ]
    },
    {
     "name": "stdout",
     "output_type": "stream",
     "text": [
      "Time spent: 0.01 mins\n",
      "0\n",
      "Normalizing data\n",
      "Normalizing data\n",
      "Adding noise: 0.1\n",
      "average precision vs geff:  0.24579381767408182\n",
      "mask is bigger than grn! Check if RNA trimming was performed.\n",
      "average precision vs beta:  0.2527178470988247\n",
      "Trimming RNA.\n",
      "Generating the GRN...\n"
     ]
    },
    {
     "name": "stderr",
     "output_type": "stream",
     "text": [
      "\n",
      "Attaching package: ‘dplyr’\n",
      "\n",
      "The following objects are masked from ‘package:stats’:\n",
      "\n",
      "    filter, lag\n",
      "\n",
      "The following objects are masked from ‘package:base’:\n",
      "\n",
      "    intersect, setdiff, setequal, union\n",
      "\n"
     ]
    },
    {
     "name": "stdout",
     "output_type": "stream",
     "text": [
      "Time spent: 0.01 mins\n",
      "0\n",
      "Normalizing data\n",
      "Normalizing data\n",
      "Adding noise: 0.1\n",
      "average precision vs geff:  0.2303038603313852\n",
      "mask is bigger than grn! Check if RNA trimming was performed.\n",
      "average precision vs beta:  0.24239448151681067\n",
      "Trimming RNA.\n",
      "p: 0.2\n",
      "Generating the GRN...\n"
     ]
    },
    {
     "name": "stderr",
     "output_type": "stream",
     "text": [
      "\n",
      "Attaching package: ‘dplyr’\n",
      "\n",
      "The following objects are masked from ‘package:stats’:\n",
      "\n",
      "    filter, lag\n",
      "\n",
      "The following objects are masked from ‘package:base’:\n",
      "\n",
      "    intersect, setdiff, setequal, union\n",
      "\n"
     ]
    },
    {
     "name": "stdout",
     "output_type": "stream",
     "text": [
      "Time spent: 0.01 mins\n",
      "0\n",
      "Normalizing data\n",
      "Normalizing data\n",
      "Adding noise: 0.2\n",
      "average precision vs geff:  0.1835097919965803\n",
      "mask is bigger than grn! Check if RNA trimming was performed.\n",
      "average precision vs beta:  0.18757895690994042\n",
      "Trimming RNA.\n",
      "Generating the GRN...\n"
     ]
    },
    {
     "name": "stderr",
     "output_type": "stream",
     "text": [
      "\n",
      "Attaching package: ‘dplyr’\n",
      "\n",
      "The following objects are masked from ‘package:stats’:\n",
      "\n",
      "    filter, lag\n",
      "\n",
      "The following objects are masked from ‘package:base’:\n",
      "\n",
      "    intersect, setdiff, setequal, union\n",
      "\n"
     ]
    },
    {
     "name": "stdout",
     "output_type": "stream",
     "text": [
      "Time spent: 0.01 mins\n",
      "0\n",
      "Normalizing data\n",
      "Normalizing data\n",
      "Adding noise: 0.2\n",
      "average precision vs geff:  0.1281608930042324\n",
      "mask is bigger than grn! Check if RNA trimming was performed.\n",
      "average precision vs beta:  0.12997632853226154\n",
      "Trimming RNA.\n",
      "p: 0.30000000000000004\n",
      "Generating the GRN...\n"
     ]
    },
    {
     "name": "stderr",
     "output_type": "stream",
     "text": [
      "\n",
      "Attaching package: ‘dplyr’\n",
      "\n",
      "The following objects are masked from ‘package:stats’:\n",
      "\n",
      "    filter, lag\n",
      "\n",
      "The following objects are masked from ‘package:base’:\n",
      "\n",
      "    intersect, setdiff, setequal, union\n",
      "\n"
     ]
    },
    {
     "name": "stdout",
     "output_type": "stream",
     "text": [
      "Time spent: 0.01 mins\n",
      "0\n",
      "Normalizing data\n",
      "Normalizing data\n",
      "Adding noise: 0.30000000000000004\n",
      "average precision vs geff:  0.19249381877033833\n",
      "mask is bigger than grn! Check if RNA trimming was performed.\n",
      "average precision vs beta:  0.20218056389633765\n",
      "Trimming RNA.\n",
      "Generating the GRN...\n"
     ]
    },
    {
     "name": "stderr",
     "output_type": "stream",
     "text": [
      "\n",
      "Attaching package: ‘dplyr’\n",
      "\n",
      "The following objects are masked from ‘package:stats’:\n",
      "\n",
      "    filter, lag\n",
      "\n",
      "The following objects are masked from ‘package:base’:\n",
      "\n",
      "    intersect, setdiff, setequal, union\n",
      "\n"
     ]
    },
    {
     "name": "stdout",
     "output_type": "stream",
     "text": [
      "Time spent: 0.01 mins\n",
      "0\n",
      "Normalizing data\n",
      "Normalizing data\n",
      "Adding noise: 0.30000000000000004\n",
      "average precision vs geff:  0.20905984114392315\n",
      "mask is bigger than grn! Check if RNA trimming was performed.\n",
      "average precision vs beta:  0.23288723111273713\n",
      "Trimming RNA.\n",
      "p: 0.4\n",
      "Generating the GRN...\n"
     ]
    },
    {
     "name": "stderr",
     "output_type": "stream",
     "text": [
      "\n",
      "Attaching package: ‘dplyr’\n",
      "\n",
      "The following objects are masked from ‘package:stats’:\n",
      "\n",
      "    filter, lag\n",
      "\n",
      "The following objects are masked from ‘package:base’:\n",
      "\n",
      "    intersect, setdiff, setequal, union\n",
      "\n"
     ]
    },
    {
     "name": "stdout",
     "output_type": "stream",
     "text": [
      "Time spent: 0.01 mins\n",
      "0\n",
      "Normalizing data\n",
      "Normalizing data\n",
      "Adding noise: 0.4\n",
      "average precision vs geff:  0.2556657195027118\n",
      "mask is bigger than grn! Check if RNA trimming was performed.\n",
      "average precision vs beta:  0.2556657195027118\n",
      "Trimming RNA.\n",
      "Generating the GRN...\n"
     ]
    },
    {
     "name": "stderr",
     "output_type": "stream",
     "text": [
      "\n",
      "Attaching package: ‘dplyr’\n",
      "\n",
      "The following objects are masked from ‘package:stats’:\n",
      "\n",
      "    filter, lag\n",
      "\n",
      "The following objects are masked from ‘package:base’:\n",
      "\n",
      "    intersect, setdiff, setequal, union\n",
      "\n"
     ]
    },
    {
     "name": "stdout",
     "output_type": "stream",
     "text": [
      "Time spent: 0.01 mins\n",
      "0\n",
      "Normalizing data\n",
      "Normalizing data\n",
      "Adding noise: 0.4\n",
      "average precision vs geff:  0.22485217861198187\n",
      "mask is bigger than grn! Check if RNA trimming was performed.\n",
      "average precision vs beta:  0.23726309964920056\n",
      "Trimming RNA.\n",
      "p: 0.5\n",
      "Generating the GRN...\n"
     ]
    },
    {
     "name": "stderr",
     "output_type": "stream",
     "text": [
      "\n",
      "Attaching package: ‘dplyr’\n",
      "\n",
      "The following objects are masked from ‘package:stats’:\n",
      "\n",
      "    filter, lag\n",
      "\n",
      "The following objects are masked from ‘package:base’:\n",
      "\n",
      "    intersect, setdiff, setequal, union\n",
      "\n"
     ]
    },
    {
     "name": "stdout",
     "output_type": "stream",
     "text": [
      "Time spent: 0.01 mins\n",
      "0\n",
      "Normalizing data\n",
      "Normalizing data\n",
      "Adding noise: 0.5\n",
      "average precision vs geff:  0.3156898128010724\n",
      "mask is bigger than grn! Check if RNA trimming was performed.\n",
      "average precision vs beta:  0.3259681088403768\n",
      "Trimming RNA.\n",
      "Generating the GRN...\n"
     ]
    },
    {
     "name": "stderr",
     "output_type": "stream",
     "text": [
      "\n",
      "Attaching package: ‘dplyr’\n",
      "\n",
      "The following objects are masked from ‘package:stats’:\n",
      "\n",
      "    filter, lag\n",
      "\n",
      "The following objects are masked from ‘package:base’:\n",
      "\n",
      "    intersect, setdiff, setequal, union\n",
      "\n"
     ]
    },
    {
     "name": "stdout",
     "output_type": "stream",
     "text": [
      "Time spent: 0.01 mins\n",
      "0\n",
      "Normalizing data\n",
      "Normalizing data\n",
      "Adding noise: 0.5\n",
      "average precision vs geff:  0.2586101493066693\n",
      "mask is bigger than grn! Check if RNA trimming was performed.\n",
      "average precision vs beta:  0.29387940883677965\n",
      "Trimming RNA.\n",
      "p: 0.6000000000000001\n",
      "Generating the GRN...\n"
     ]
    },
    {
     "name": "stderr",
     "output_type": "stream",
     "text": [
      "\n",
      "Attaching package: ‘dplyr’\n",
      "\n",
      "The following objects are masked from ‘package:stats’:\n",
      "\n",
      "    filter, lag\n",
      "\n",
      "The following objects are masked from ‘package:base’:\n",
      "\n",
      "    intersect, setdiff, setequal, union\n",
      "\n"
     ]
    },
    {
     "name": "stdout",
     "output_type": "stream",
     "text": [
      "Time spent: 0.01 mins\n",
      "0\n",
      "Normalizing data\n",
      "Normalizing data\n",
      "Adding noise: 0.6000000000000001\n",
      "average precision vs geff:  0.17910981495311265\n",
      "mask is bigger than grn! Check if RNA trimming was performed.\n",
      "average precision vs beta:  0.18719768056831299\n",
      "Trimming RNA.\n",
      "Generating the GRN...\n"
     ]
    },
    {
     "name": "stderr",
     "output_type": "stream",
     "text": [
      "\n",
      "Attaching package: ‘dplyr’\n",
      "\n",
      "The following objects are masked from ‘package:stats’:\n",
      "\n",
      "    filter, lag\n",
      "\n",
      "The following objects are masked from ‘package:base’:\n",
      "\n",
      "    intersect, setdiff, setequal, union\n",
      "\n"
     ]
    },
    {
     "name": "stdout",
     "output_type": "stream",
     "text": [
      "Time spent: 0.01 mins\n",
      "0\n",
      "Normalizing data\n",
      "Normalizing data\n",
      "Adding noise: 0.6000000000000001\n",
      "average precision vs geff:  0.21838385695077028\n",
      "mask is bigger than grn! Check if RNA trimming was performed.\n",
      "average precision vs beta:  0.2451708683549657\n",
      "Trimming RNA.\n",
      "p: 0.7000000000000001\n",
      "Generating the GRN...\n"
     ]
    },
    {
     "name": "stderr",
     "output_type": "stream",
     "text": [
      "\n",
      "Attaching package: ‘dplyr’\n",
      "\n",
      "The following objects are masked from ‘package:stats’:\n",
      "\n",
      "    filter, lag\n",
      "\n",
      "The following objects are masked from ‘package:base’:\n",
      "\n",
      "    intersect, setdiff, setequal, union\n",
      "\n"
     ]
    },
    {
     "name": "stdout",
     "output_type": "stream",
     "text": [
      "Time spent: 0.01 mins\n",
      "0\n",
      "Normalizing data\n",
      "Normalizing data\n",
      "Adding noise: 0.7000000000000001\n",
      "average precision vs geff:  0.20066940696584643\n",
      "mask is bigger than grn! Check if RNA trimming was performed.\n",
      "average precision vs beta:  0.20765172614926333\n",
      "Trimming RNA.\n",
      "Generating the GRN...\n"
     ]
    },
    {
     "name": "stderr",
     "output_type": "stream",
     "text": [
      "\n",
      "Attaching package: ‘dplyr’\n",
      "\n",
      "The following objects are masked from ‘package:stats’:\n",
      "\n",
      "    filter, lag\n",
      "\n",
      "The following objects are masked from ‘package:base’:\n",
      "\n",
      "    intersect, setdiff, setequal, union\n",
      "\n"
     ]
    },
    {
     "name": "stdout",
     "output_type": "stream",
     "text": [
      "Time spent: 0.01 mins\n",
      "0\n",
      "Normalizing data\n",
      "Normalizing data\n",
      "Adding noise: 0.7000000000000001\n",
      "average precision vs geff:  0.18107641878078357\n",
      "mask is bigger than grn! Check if RNA trimming was performed.\n",
      "average precision vs beta:  0.1886789809111491\n",
      "Trimming RNA.\n",
      "p: 0.8\n",
      "Generating the GRN...\n"
     ]
    },
    {
     "name": "stderr",
     "output_type": "stream",
     "text": [
      "\n",
      "Attaching package: ‘dplyr’\n",
      "\n",
      "The following objects are masked from ‘package:stats’:\n",
      "\n",
      "    filter, lag\n",
      "\n",
      "The following objects are masked from ‘package:base’:\n",
      "\n",
      "    intersect, setdiff, setequal, union\n",
      "\n"
     ]
    },
    {
     "name": "stdout",
     "output_type": "stream",
     "text": [
      "Time spent: 0.01 mins\n",
      "0\n",
      "Normalizing data\n",
      "Normalizing data\n",
      "Adding noise: 0.8\n",
      "average precision vs geff:  0.20818175752375656\n",
      "mask is bigger than grn! Check if RNA trimming was performed.\n",
      "average precision vs beta:  0.24410953572387808\n",
      "Trimming RNA.\n",
      "Generating the GRN...\n"
     ]
    },
    {
     "name": "stderr",
     "output_type": "stream",
     "text": [
      "\n",
      "Attaching package: ‘dplyr’\n",
      "\n",
      "The following objects are masked from ‘package:stats’:\n",
      "\n",
      "    filter, lag\n",
      "\n",
      "The following objects are masked from ‘package:base’:\n",
      "\n",
      "    intersect, setdiff, setequal, union\n",
      "\n"
     ]
    },
    {
     "name": "stdout",
     "output_type": "stream",
     "text": [
      "Time spent: 0.01 mins\n",
      "0\n",
      "Normalizing data\n",
      "Normalizing data\n",
      "Adding noise: 0.8\n",
      "average precision vs geff:  0.25973079587254966\n",
      "mask is bigger than grn! Check if RNA trimming was performed.\n",
      "average precision vs beta:  0.27447216012741493\n",
      "Trimming RNA.\n",
      "p: 0.9\n",
      "Generating the GRN...\n"
     ]
    },
    {
     "name": "stderr",
     "output_type": "stream",
     "text": [
      "\n",
      "Attaching package: ‘dplyr’\n",
      "\n",
      "The following objects are masked from ‘package:stats’:\n",
      "\n",
      "    filter, lag\n",
      "\n",
      "The following objects are masked from ‘package:base’:\n",
      "\n",
      "    intersect, setdiff, setequal, union\n",
      "\n"
     ]
    },
    {
     "name": "stdout",
     "output_type": "stream",
     "text": [
      "Time spent: 0.01 mins\n",
      "0\n",
      "Normalizing data\n",
      "Normalizing data\n",
      "Adding noise: 0.9\n",
      "average precision vs geff:  0.3269639006493881\n",
      "mask is bigger than grn! Check if RNA trimming was performed.\n",
      "average precision vs beta:  0.32868507508390093\n",
      "Trimming RNA.\n",
      "Generating the GRN...\n"
     ]
    },
    {
     "name": "stderr",
     "output_type": "stream",
     "text": [
      "\n",
      "Attaching package: ‘dplyr’\n",
      "\n",
      "The following objects are masked from ‘package:stats’:\n",
      "\n",
      "    filter, lag\n",
      "\n",
      "The following objects are masked from ‘package:base’:\n",
      "\n",
      "    intersect, setdiff, setequal, union\n",
      "\n"
     ]
    },
    {
     "name": "stdout",
     "output_type": "stream",
     "text": [
      "Time spent: 0.02 mins\n",
      "0\n",
      "Normalizing data\n",
      "Normalizing data\n",
      "Adding noise: 0.9\n",
      "average precision vs geff:  0.12702045960223562\n",
      "mask is bigger than grn! Check if RNA trimming was performed.\n",
      "average precision vs beta:  0.13459179297050874\n",
      "Trimming RNA.\n",
      "p: 1.0\n",
      "Generating the GRN...\n"
     ]
    },
    {
     "name": "stderr",
     "output_type": "stream",
     "text": [
      "\n",
      "Attaching package: ‘dplyr’\n",
      "\n",
      "The following objects are masked from ‘package:stats’:\n",
      "\n",
      "    filter, lag\n",
      "\n",
      "The following objects are masked from ‘package:base’:\n",
      "\n",
      "    intersect, setdiff, setequal, union\n",
      "\n"
     ]
    },
    {
     "name": "stdout",
     "output_type": "stream",
     "text": [
      "Time spent: 0.01 mins\n",
      "0\n",
      "Normalizing data\n",
      "Normalizing data\n",
      "Adding noise: 1.0\n",
      "average precision vs geff:  0.17651134517814698\n",
      "mask is bigger than grn! Check if RNA trimming was performed.\n",
      "average precision vs beta:  0.19922200483258598\n",
      "Trimming RNA.\n",
      "Generating the GRN...\n"
     ]
    },
    {
     "name": "stderr",
     "output_type": "stream",
     "text": [
      "\n",
      "Attaching package: ‘dplyr’\n",
      "\n",
      "The following objects are masked from ‘package:stats’:\n",
      "\n",
      "    filter, lag\n",
      "\n",
      "The following objects are masked from ‘package:base’:\n",
      "\n",
      "    intersect, setdiff, setequal, union\n",
      "\n"
     ]
    },
    {
     "name": "stdout",
     "output_type": "stream",
     "text": [
      "Time spent: 0.01 mins\n",
      "0\n",
      "Normalizing data\n",
      "Normalizing data\n",
      "Adding noise: 1.0\n",
      "average precision vs geff:  0.19986939924469568\n",
      "mask is bigger than grn! Check if RNA trimming was performed.\n",
      "average precision vs beta:  0.2053246837149836\n",
      "Trimming RNA.\n",
      "r: 1\n",
      "p: 0.0\n",
      "Generating the GRN...\n"
     ]
    },
    {
     "name": "stderr",
     "output_type": "stream",
     "text": [
      "\n",
      "Attaching package: ‘dplyr’\n",
      "\n",
      "The following objects are masked from ‘package:stats’:\n",
      "\n",
      "    filter, lag\n",
      "\n",
      "The following objects are masked from ‘package:base’:\n",
      "\n",
      "    intersect, setdiff, setequal, union\n",
      "\n"
     ]
    },
    {
     "name": "stdout",
     "output_type": "stream",
     "text": [
      "Time spent: 0.01 mins\n",
      "0\n",
      "Normalizing data\n",
      "Normalizing data\n",
      "Adding noise: 0.0\n",
      "average precision vs geff:  0.237709595959596\n",
      "mask is bigger than grn! Check if RNA trimming was performed.\n",
      "average precision vs beta:  0.24625000000000002\n",
      "Trimming RNA.\n",
      "Generating the GRN...\n"
     ]
    },
    {
     "name": "stderr",
     "output_type": "stream",
     "text": [
      "\n",
      "Attaching package: ‘dplyr’\n",
      "\n",
      "The following objects are masked from ‘package:stats’:\n",
      "\n",
      "    filter, lag\n",
      "\n",
      "The following objects are masked from ‘package:base’:\n",
      "\n",
      "    intersect, setdiff, setequal, union\n",
      "\n"
     ]
    },
    {
     "name": "stdout",
     "output_type": "stream",
     "text": [
      "Time spent: 0.01 mins\n",
      "0\n",
      "Normalizing data\n",
      "Normalizing data\n",
      "Adding noise: 0.0\n",
      "average precision vs geff:  0.13720142602495544\n",
      "mask is bigger than grn! Check if RNA trimming was performed.\n",
      "average precision vs beta:  0.14626750700280114\n",
      "Trimming RNA.\n",
      "p: 0.1\n",
      "Generating the GRN...\n"
     ]
    },
    {
     "name": "stderr",
     "output_type": "stream",
     "text": [
      "\n",
      "Attaching package: ‘dplyr’\n",
      "\n",
      "The following objects are masked from ‘package:stats’:\n",
      "\n",
      "    filter, lag\n",
      "\n",
      "The following objects are masked from ‘package:base’:\n",
      "\n",
      "    intersect, setdiff, setequal, union\n",
      "\n"
     ]
    },
    {
     "name": "stdout",
     "output_type": "stream",
     "text": [
      "Time spent: 0.01 mins\n",
      "0\n",
      "Normalizing data\n",
      "Normalizing data\n",
      "Adding noise: 0.1\n",
      "average precision vs geff:  0.14829191663252103\n",
      "mask is bigger than grn! Check if RNA trimming was performed.\n",
      "average precision vs beta:  0.15849092265651885\n",
      "Trimming RNA.\n",
      "Generating the GRN...\n"
     ]
    },
    {
     "name": "stderr",
     "output_type": "stream",
     "text": [
      "\n",
      "Attaching package: ‘dplyr’\n",
      "\n",
      "The following objects are masked from ‘package:stats’:\n",
      "\n",
      "    filter, lag\n",
      "\n",
      "The following objects are masked from ‘package:base’:\n",
      "\n",
      "    intersect, setdiff, setequal, union\n",
      "\n"
     ]
    },
    {
     "name": "stdout",
     "output_type": "stream",
     "text": [
      "Time spent: 0.01 mins\n",
      "0\n",
      "Normalizing data\n",
      "Normalizing data\n",
      "Adding noise: 0.1\n",
      "average precision vs geff:  0.18819685137319828\n",
      "mask is bigger than grn! Check if RNA trimming was performed.\n",
      "average precision vs beta:  0.19306632140912044\n",
      "Trimming RNA.\n",
      "p: 0.2\n",
      "Generating the GRN...\n"
     ]
    },
    {
     "name": "stderr",
     "output_type": "stream",
     "text": [
      "\n",
      "Attaching package: ‘dplyr’\n",
      "\n",
      "The following objects are masked from ‘package:stats’:\n",
      "\n",
      "    filter, lag\n",
      "\n",
      "The following objects are masked from ‘package:base’:\n",
      "\n",
      "    intersect, setdiff, setequal, union\n",
      "\n"
     ]
    },
    {
     "name": "stdout",
     "output_type": "stream",
     "text": [
      "Time spent: 0.01 mins\n",
      "0\n",
      "Normalizing data\n",
      "Normalizing data\n",
      "Adding noise: 0.2\n",
      "average precision vs geff:  0.17677620707587732\n",
      "mask is bigger than grn! Check if RNA trimming was performed.\n",
      "average precision vs beta:  0.2455372390057408\n",
      "Trimming RNA.\n",
      "Generating the GRN...\n"
     ]
    },
    {
     "name": "stderr",
     "output_type": "stream",
     "text": [
      "\n",
      "Attaching package: ‘dplyr’\n",
      "\n",
      "The following objects are masked from ‘package:stats’:\n",
      "\n",
      "    filter, lag\n",
      "\n",
      "The following objects are masked from ‘package:base’:\n",
      "\n",
      "    intersect, setdiff, setequal, union\n",
      "\n"
     ]
    },
    {
     "name": "stdout",
     "output_type": "stream",
     "text": [
      "Time spent: 0.01 mins\n",
      "0\n",
      "Normalizing data\n",
      "Normalizing data\n",
      "Adding noise: 0.2\n",
      "average precision vs geff:  0.2241623107013919\n",
      "mask is bigger than grn! Check if RNA trimming was performed.\n",
      "average precision vs beta:  0.2241623107013919\n",
      "Trimming RNA.\n",
      "p: 0.30000000000000004\n",
      "Generating the GRN...\n"
     ]
    },
    {
     "name": "stderr",
     "output_type": "stream",
     "text": [
      "\n",
      "Attaching package: ‘dplyr’\n",
      "\n",
      "The following objects are masked from ‘package:stats’:\n",
      "\n",
      "    filter, lag\n",
      "\n",
      "The following objects are masked from ‘package:base’:\n",
      "\n",
      "    intersect, setdiff, setequal, union\n",
      "\n"
     ]
    },
    {
     "name": "stdout",
     "output_type": "stream",
     "text": [
      "Time spent: 0.01 mins\n",
      "0\n",
      "Normalizing data\n",
      "Normalizing data\n",
      "Adding noise: 0.30000000000000004\n",
      "average precision vs geff:  0.21198682193804744\n",
      "mask is bigger than grn! Check if RNA trimming was performed.\n",
      "average precision vs beta:  0.2185950761557669\n",
      "Trimming RNA.\n",
      "Generating the GRN...\n"
     ]
    },
    {
     "name": "stderr",
     "output_type": "stream",
     "text": [
      "\n",
      "Attaching package: ‘dplyr’\n",
      "\n",
      "The following objects are masked from ‘package:stats’:\n",
      "\n",
      "    filter, lag\n",
      "\n",
      "The following objects are masked from ‘package:base’:\n",
      "\n",
      "    intersect, setdiff, setequal, union\n",
      "\n"
     ]
    },
    {
     "name": "stdout",
     "output_type": "stream",
     "text": [
      "Time spent: 0.01 mins\n",
      "0\n",
      "Normalizing data\n",
      "Normalizing data\n",
      "Adding noise: 0.30000000000000004\n",
      "average precision vs geff:  0.1590697035917863\n",
      "mask is bigger than grn! Check if RNA trimming was performed.\n",
      "average precision vs beta:  0.1678431005267587\n",
      "Trimming RNA.\n",
      "p: 0.4\n",
      "Generating the GRN...\n"
     ]
    },
    {
     "name": "stderr",
     "output_type": "stream",
     "text": [
      "\n",
      "Attaching package: ‘dplyr’\n",
      "\n",
      "The following objects are masked from ‘package:stats’:\n",
      "\n",
      "    filter, lag\n",
      "\n",
      "The following objects are masked from ‘package:base’:\n",
      "\n",
      "    intersect, setdiff, setequal, union\n",
      "\n"
     ]
    },
    {
     "name": "stdout",
     "output_type": "stream",
     "text": [
      "Time spent: 0.01 mins\n",
      "0\n",
      "Normalizing data\n",
      "Normalizing data\n",
      "Adding noise: 0.4\n",
      "average precision vs geff:  0.24645298599168922\n",
      "mask is bigger than grn! Check if RNA trimming was performed.\n",
      "average precision vs beta:  0.2859943068938036\n",
      "Trimming RNA.\n",
      "Generating the GRN...\n"
     ]
    },
    {
     "name": "stderr",
     "output_type": "stream",
     "text": [
      "\n",
      "Attaching package: ‘dplyr’\n",
      "\n",
      "The following objects are masked from ‘package:stats’:\n",
      "\n",
      "    filter, lag\n",
      "\n",
      "The following objects are masked from ‘package:base’:\n",
      "\n",
      "    intersect, setdiff, setequal, union\n",
      "\n"
     ]
    },
    {
     "name": "stdout",
     "output_type": "stream",
     "text": [
      "Time spent: 0.01 mins\n",
      "0\n",
      "Normalizing data\n",
      "Normalizing data\n",
      "Adding noise: 0.4\n",
      "average precision vs geff:  0.17024329977497094\n",
      "mask is bigger than grn! Check if RNA trimming was performed.\n",
      "average precision vs beta:  0.20386518755304092\n",
      "Trimming RNA.\n",
      "p: 0.5\n",
      "Generating the GRN...\n"
     ]
    },
    {
     "name": "stderr",
     "output_type": "stream",
     "text": [
      "\n",
      "Attaching package: ‘dplyr’\n",
      "\n",
      "The following objects are masked from ‘package:stats’:\n",
      "\n",
      "    filter, lag\n",
      "\n",
      "The following objects are masked from ‘package:base’:\n",
      "\n",
      "    intersect, setdiff, setequal, union\n",
      "\n"
     ]
    },
    {
     "name": "stdout",
     "output_type": "stream",
     "text": [
      "Time spent: 0.01 mins\n",
      "0\n",
      "Normalizing data\n",
      "Normalizing data\n",
      "Adding noise: 0.5\n",
      "average precision vs geff:  0.2496046146633495\n",
      "mask is bigger than grn! Check if RNA trimming was performed.\n",
      "average precision vs beta:  0.25947799349359785\n",
      "Trimming RNA.\n",
      "Generating the GRN...\n"
     ]
    },
    {
     "name": "stderr",
     "output_type": "stream",
     "text": [
      "\n",
      "Attaching package: ‘dplyr’\n",
      "\n",
      "The following objects are masked from ‘package:stats’:\n",
      "\n",
      "    filter, lag\n",
      "\n",
      "The following objects are masked from ‘package:base’:\n",
      "\n",
      "    intersect, setdiff, setequal, union\n",
      "\n"
     ]
    },
    {
     "name": "stdout",
     "output_type": "stream",
     "text": [
      "Time spent: 0.01 mins\n",
      "0\n",
      "Normalizing data\n",
      "Normalizing data\n",
      "Adding noise: 0.5\n",
      "average precision vs geff:  0.22515137124698673\n",
      "mask is bigger than grn! Check if RNA trimming was performed.\n",
      "average precision vs beta:  0.22957602800671265\n",
      "Trimming RNA.\n",
      "p: 0.6000000000000001\n",
      "Generating the GRN...\n"
     ]
    },
    {
     "name": "stderr",
     "output_type": "stream",
     "text": [
      "\n",
      "Attaching package: ‘dplyr’\n",
      "\n",
      "The following objects are masked from ‘package:stats’:\n",
      "\n",
      "    filter, lag\n",
      "\n",
      "The following objects are masked from ‘package:base’:\n",
      "\n",
      "    intersect, setdiff, setequal, union\n",
      "\n"
     ]
    },
    {
     "name": "stdout",
     "output_type": "stream",
     "text": [
      "Time spent: 0.01 mins\n",
      "0\n",
      "Normalizing data\n",
      "Normalizing data\n",
      "Adding noise: 0.6000000000000001\n",
      "average precision vs geff:  0.13834310301874075\n",
      "mask is bigger than grn! Check if RNA trimming was performed.\n",
      "average precision vs beta:  0.16169538463492183\n",
      "Trimming RNA.\n",
      "Generating the GRN...\n"
     ]
    },
    {
     "name": "stderr",
     "output_type": "stream",
     "text": [
      "\n",
      "Attaching package: ‘dplyr’\n",
      "\n",
      "The following objects are masked from ‘package:stats’:\n",
      "\n",
      "    filter, lag\n",
      "\n",
      "The following objects are masked from ‘package:base’:\n",
      "\n",
      "    intersect, setdiff, setequal, union\n",
      "\n"
     ]
    },
    {
     "name": "stdout",
     "output_type": "stream",
     "text": [
      "Time spent: 0.01 mins\n",
      "0\n",
      "Normalizing data\n",
      "Normalizing data\n",
      "Adding noise: 0.6000000000000001\n",
      "average precision vs geff:  0.20448309428672568\n",
      "mask is bigger than grn! Check if RNA trimming was performed.\n",
      "average precision vs beta:  0.21546165281441343\n",
      "Trimming RNA.\n",
      "p: 0.7000000000000001\n",
      "Generating the GRN...\n"
     ]
    },
    {
     "name": "stderr",
     "output_type": "stream",
     "text": [
      "\n",
      "Attaching package: ‘dplyr’\n",
      "\n",
      "The following objects are masked from ‘package:stats’:\n",
      "\n",
      "    filter, lag\n",
      "\n",
      "The following objects are masked from ‘package:base’:\n",
      "\n",
      "    intersect, setdiff, setequal, union\n",
      "\n"
     ]
    },
    {
     "name": "stdout",
     "output_type": "stream",
     "text": [
      "Time spent: 0.01 mins\n",
      "0\n",
      "Normalizing data\n",
      "Normalizing data\n",
      "Adding noise: 0.7000000000000001\n",
      "average precision vs geff:  0.1389227664557305\n",
      "mask is bigger than grn! Check if RNA trimming was performed.\n",
      "average precision vs beta:  0.1545494257420823\n",
      "Trimming RNA.\n",
      "Generating the GRN...\n"
     ]
    },
    {
     "name": "stderr",
     "output_type": "stream",
     "text": [
      "\n",
      "Attaching package: ‘dplyr’\n",
      "\n",
      "The following objects are masked from ‘package:stats’:\n",
      "\n",
      "    filter, lag\n",
      "\n",
      "The following objects are masked from ‘package:base’:\n",
      "\n",
      "    intersect, setdiff, setequal, union\n",
      "\n"
     ]
    },
    {
     "name": "stdout",
     "output_type": "stream",
     "text": [
      "Time spent: 0.01 mins\n",
      "0\n",
      "Normalizing data\n",
      "Normalizing data\n",
      "Adding noise: 0.7000000000000001\n",
      "average precision vs geff:  0.3387880440588996\n",
      "mask is bigger than grn! Check if RNA trimming was performed.\n",
      "average precision vs beta:  0.3731810970742899\n",
      "Trimming RNA.\n",
      "p: 0.8\n",
      "Generating the GRN...\n"
     ]
    },
    {
     "name": "stderr",
     "output_type": "stream",
     "text": [
      "\n",
      "Attaching package: ‘dplyr’\n",
      "\n",
      "The following objects are masked from ‘package:stats’:\n",
      "\n",
      "    filter, lag\n",
      "\n",
      "The following objects are masked from ‘package:base’:\n",
      "\n",
      "    intersect, setdiff, setequal, union\n",
      "\n"
     ]
    },
    {
     "name": "stdout",
     "output_type": "stream",
     "text": [
      "Time spent: 0.01 mins\n",
      "0\n",
      "Normalizing data\n",
      "Normalizing data\n",
      "Adding noise: 0.8\n",
      "average precision vs geff:  0.23627062169407578\n",
      "mask is bigger than grn! Check if RNA trimming was performed.\n",
      "average precision vs beta:  0.29591276259440435\n",
      "Trimming RNA.\n",
      "Generating the GRN...\n"
     ]
    },
    {
     "name": "stderr",
     "output_type": "stream",
     "text": [
      "\n",
      "Attaching package: ‘dplyr’\n",
      "\n",
      "The following objects are masked from ‘package:stats’:\n",
      "\n",
      "    filter, lag\n",
      "\n",
      "The following objects are masked from ‘package:base’:\n",
      "\n",
      "    intersect, setdiff, setequal, union\n",
      "\n"
     ]
    },
    {
     "name": "stdout",
     "output_type": "stream",
     "text": [
      "Time spent: 0.01 mins\n",
      "0\n",
      "Normalizing data\n",
      "Normalizing data\n",
      "Adding noise: 0.8\n",
      "average precision vs geff:  0.15197373160984035\n",
      "mask is bigger than grn! Check if RNA trimming was performed.\n",
      "average precision vs beta:  0.16873741877561452\n",
      "Trimming RNA.\n",
      "p: 0.9\n",
      "Generating the GRN...\n"
     ]
    },
    {
     "name": "stderr",
     "output_type": "stream",
     "text": [
      "\n",
      "Attaching package: ‘dplyr’\n",
      "\n",
      "The following objects are masked from ‘package:stats’:\n",
      "\n",
      "    filter, lag\n",
      "\n",
      "The following objects are masked from ‘package:base’:\n",
      "\n",
      "    intersect, setdiff, setequal, union\n",
      "\n"
     ]
    },
    {
     "name": "stdout",
     "output_type": "stream",
     "text": [
      "Time spent: 0.01 mins\n",
      "0\n",
      "Normalizing data\n",
      "Normalizing data\n",
      "Adding noise: 0.9\n",
      "average precision vs geff:  0.17078750242944318\n",
      "mask is bigger than grn! Check if RNA trimming was performed.\n",
      "average precision vs beta:  0.18231044759976744\n",
      "Trimming RNA.\n",
      "Generating the GRN...\n"
     ]
    },
    {
     "name": "stderr",
     "output_type": "stream",
     "text": [
      "\n",
      "Attaching package: ‘dplyr’\n",
      "\n",
      "The following objects are masked from ‘package:stats’:\n",
      "\n",
      "    filter, lag\n",
      "\n",
      "The following objects are masked from ‘package:base’:\n",
      "\n",
      "    intersect, setdiff, setequal, union\n",
      "\n"
     ]
    },
    {
     "name": "stdout",
     "output_type": "stream",
     "text": [
      "Time spent: 0.01 mins\n",
      "0\n",
      "Normalizing data\n",
      "Normalizing data\n",
      "Adding noise: 0.9\n",
      "average precision vs geff:  0.3470264022588856\n",
      "mask is bigger than grn! Check if RNA trimming was performed.\n",
      "average precision vs beta:  0.35496624309147606\n",
      "Trimming RNA.\n",
      "p: 1.0\n",
      "Generating the GRN...\n"
     ]
    },
    {
     "name": "stderr",
     "output_type": "stream",
     "text": [
      "\n",
      "Attaching package: ‘dplyr’\n",
      "\n",
      "The following objects are masked from ‘package:stats’:\n",
      "\n",
      "    filter, lag\n",
      "\n",
      "The following objects are masked from ‘package:base’:\n",
      "\n",
      "    intersect, setdiff, setequal, union\n",
      "\n"
     ]
    },
    {
     "name": "stdout",
     "output_type": "stream",
     "text": [
      "Time spent: 0.01 mins\n",
      "0\n",
      "Normalizing data\n",
      "Normalizing data\n",
      "Adding noise: 1.0\n",
      "average precision vs geff:  0.17673761187458858\n",
      "mask is bigger than grn! Check if RNA trimming was performed.\n",
      "average precision vs beta:  0.19028818102379616\n",
      "Trimming RNA.\n",
      "Generating the GRN...\n"
     ]
    },
    {
     "name": "stderr",
     "output_type": "stream",
     "text": [
      "\n",
      "Attaching package: ‘dplyr’\n",
      "\n",
      "The following objects are masked from ‘package:stats’:\n",
      "\n",
      "    filter, lag\n",
      "\n",
      "The following objects are masked from ‘package:base’:\n",
      "\n",
      "    intersect, setdiff, setequal, union\n",
      "\n"
     ]
    },
    {
     "name": "stdout",
     "output_type": "stream",
     "text": [
      "Time spent: 0.01 mins\n",
      "0\n",
      "Normalizing data\n",
      "Normalizing data\n",
      "Adding noise: 1.0\n",
      "average precision vs geff:  0.13216305427142278\n",
      "mask is bigger than grn! Check if RNA trimming was performed.\n",
      "average precision vs beta:  0.15036513798278028\n",
      "Trimming RNA.\n",
      "r: 2\n",
      "p: 0.0\n",
      "Generating the GRN...\n"
     ]
    },
    {
     "name": "stderr",
     "output_type": "stream",
     "text": [
      "\n",
      "Attaching package: ‘dplyr’\n",
      "\n",
      "The following objects are masked from ‘package:stats’:\n",
      "\n",
      "    filter, lag\n",
      "\n",
      "The following objects are masked from ‘package:base’:\n",
      "\n",
      "    intersect, setdiff, setequal, union\n",
      "\n"
     ]
    },
    {
     "name": "stdout",
     "output_type": "stream",
     "text": [
      "Time spent: 0.01 mins\n",
      "0\n",
      "Normalizing data\n",
      "Normalizing data\n",
      "Adding noise: 0.0\n",
      "average precision vs geff:  0.23524891774891776\n",
      "mask is bigger than grn! Check if RNA trimming was performed.\n",
      "average precision vs beta:  0.24210884353741494\n",
      "Trimming RNA.\n",
      "Generating the GRN...\n"
     ]
    },
    {
     "name": "stderr",
     "output_type": "stream",
     "text": [
      "\n",
      "Attaching package: ‘dplyr’\n",
      "\n",
      "The following objects are masked from ‘package:stats’:\n",
      "\n",
      "    filter, lag\n",
      "\n",
      "The following objects are masked from ‘package:base’:\n",
      "\n",
      "    intersect, setdiff, setequal, union\n",
      "\n"
     ]
    },
    {
     "name": "stdout",
     "output_type": "stream",
     "text": [
      "Time spent: 0.01 mins\n",
      "0\n",
      "Normalizing data\n",
      "Normalizing data\n",
      "Adding noise: 0.0\n",
      "average precision vs geff:  0.25284090909090906\n",
      "mask is bigger than grn! Check if RNA trimming was performed.\n",
      "average precision vs beta:  0.2611375661375661\n",
      "Trimming RNA.\n",
      "p: 0.1\n",
      "Generating the GRN...\n"
     ]
    },
    {
     "name": "stderr",
     "output_type": "stream",
     "text": [
      "\n",
      "Attaching package: ‘dplyr’\n",
      "\n",
      "The following objects are masked from ‘package:stats’:\n",
      "\n",
      "    filter, lag\n",
      "\n",
      "The following objects are masked from ‘package:base’:\n",
      "\n",
      "    intersect, setdiff, setequal, union\n",
      "\n"
     ]
    },
    {
     "name": "stdout",
     "output_type": "stream",
     "text": [
      "Time spent: 0.01 mins\n",
      "0\n",
      "Normalizing data\n",
      "Normalizing data\n",
      "Adding noise: 0.1\n",
      "average precision vs geff:  0.1429287102642979\n",
      "mask is bigger than grn! Check if RNA trimming was performed.\n",
      "average precision vs beta:  0.1508898685031659\n",
      "Trimming RNA.\n",
      "Generating the GRN...\n"
     ]
    },
    {
     "name": "stderr",
     "output_type": "stream",
     "text": [
      "\n",
      "Attaching package: ‘dplyr’\n",
      "\n",
      "The following objects are masked from ‘package:stats’:\n",
      "\n",
      "    filter, lag\n",
      "\n",
      "The following objects are masked from ‘package:base’:\n",
      "\n",
      "    intersect, setdiff, setequal, union\n",
      "\n"
     ]
    },
    {
     "name": "stdout",
     "output_type": "stream",
     "text": [
      "Time spent: 0.02 mins\n",
      "0\n",
      "Normalizing data\n",
      "Normalizing data\n",
      "Adding noise: 0.1\n",
      "average precision vs geff:  0.25002364247337916\n",
      "mask is bigger than grn! Check if RNA trimming was performed.\n",
      "average precision vs beta:  0.25332816526246044\n",
      "Trimming RNA.\n",
      "p: 0.2\n",
      "Generating the GRN...\n"
     ]
    },
    {
     "name": "stderr",
     "output_type": "stream",
     "text": [
      "\n",
      "Attaching package: ‘dplyr’\n",
      "\n",
      "The following objects are masked from ‘package:stats’:\n",
      "\n",
      "    filter, lag\n",
      "\n",
      "The following objects are masked from ‘package:base’:\n",
      "\n",
      "    intersect, setdiff, setequal, union\n",
      "\n"
     ]
    },
    {
     "name": "stdout",
     "output_type": "stream",
     "text": [
      "Time spent: 0.01 mins\n",
      "0\n",
      "Normalizing data\n",
      "Normalizing data\n",
      "Adding noise: 0.2\n",
      "average precision vs geff:  0.11921228152796737\n",
      "mask is bigger than grn! Check if RNA trimming was performed.\n",
      "average precision vs beta:  0.12066870495852598\n",
      "Trimming RNA.\n",
      "Generating the GRN...\n"
     ]
    },
    {
     "name": "stderr",
     "output_type": "stream",
     "text": [
      "\n",
      "Attaching package: ‘dplyr’\n",
      "\n",
      "The following objects are masked from ‘package:stats’:\n",
      "\n",
      "    filter, lag\n",
      "\n",
      "The following objects are masked from ‘package:base’:\n",
      "\n",
      "    intersect, setdiff, setequal, union\n",
      "\n"
     ]
    },
    {
     "name": "stdout",
     "output_type": "stream",
     "text": [
      "Time spent: 0.01 mins\n",
      "0\n",
      "Normalizing data\n",
      "Normalizing data\n",
      "Adding noise: 0.2\n",
      "average precision vs geff:  0.2559452843787463\n",
      "mask is bigger than grn! Check if RNA trimming was performed.\n",
      "average precision vs beta:  0.26771173116581715\n",
      "Trimming RNA.\n",
      "p: 0.30000000000000004\n",
      "Generating the GRN...\n"
     ]
    },
    {
     "name": "stderr",
     "output_type": "stream",
     "text": [
      "\n",
      "Attaching package: ‘dplyr’\n",
      "\n",
      "The following objects are masked from ‘package:stats’:\n",
      "\n",
      "    filter, lag\n",
      "\n",
      "The following objects are masked from ‘package:base’:\n",
      "\n",
      "    intersect, setdiff, setequal, union\n",
      "\n"
     ]
    },
    {
     "name": "stdout",
     "output_type": "stream",
     "text": [
      "Time spent: 0.01 mins\n",
      "0\n",
      "Normalizing data\n",
      "Normalizing data\n",
      "Adding noise: 0.30000000000000004\n",
      "average precision vs geff:  0.20879515122871092\n",
      "mask is bigger than grn! Check if RNA trimming was performed.\n",
      "average precision vs beta:  0.20969368054705156\n",
      "Trimming RNA.\n",
      "Generating the GRN...\n"
     ]
    },
    {
     "name": "stderr",
     "output_type": "stream",
     "text": [
      "\n",
      "Attaching package: ‘dplyr’\n",
      "\n",
      "The following objects are masked from ‘package:stats’:\n",
      "\n",
      "    filter, lag\n",
      "\n",
      "The following objects are masked from ‘package:base’:\n",
      "\n",
      "    intersect, setdiff, setequal, union\n",
      "\n"
     ]
    },
    {
     "name": "stdout",
     "output_type": "stream",
     "text": [
      "Time spent: 0.01 mins\n",
      "0\n",
      "Normalizing data\n",
      "Normalizing data\n",
      "Adding noise: 0.30000000000000004\n",
      "average precision vs geff:  0.2621465934865179\n",
      "mask is bigger than grn! Check if RNA trimming was performed.\n",
      "average precision vs beta:  0.2795683009499899\n",
      "Trimming RNA.\n",
      "p: 0.4\n",
      "Generating the GRN...\n"
     ]
    },
    {
     "name": "stderr",
     "output_type": "stream",
     "text": [
      "\n",
      "Attaching package: ‘dplyr’\n",
      "\n",
      "The following objects are masked from ‘package:stats’:\n",
      "\n",
      "    filter, lag\n",
      "\n",
      "The following objects are masked from ‘package:base’:\n",
      "\n",
      "    intersect, setdiff, setequal, union\n",
      "\n"
     ]
    },
    {
     "name": "stdout",
     "output_type": "stream",
     "text": [
      "Time spent: 0.01 mins\n",
      "0\n",
      "Normalizing data\n",
      "Normalizing data\n",
      "Adding noise: 0.4\n",
      "average precision vs geff:  0.3233138299130015\n",
      "mask is bigger than grn! Check if RNA trimming was performed.\n",
      "average precision vs beta:  0.3399893407618642\n",
      "Trimming RNA.\n",
      "Generating the GRN...\n"
     ]
    },
    {
     "name": "stderr",
     "output_type": "stream",
     "text": [
      "\n",
      "Attaching package: ‘dplyr’\n",
      "\n",
      "The following objects are masked from ‘package:stats’:\n",
      "\n",
      "    filter, lag\n",
      "\n",
      "The following objects are masked from ‘package:base’:\n",
      "\n",
      "    intersect, setdiff, setequal, union\n",
      "\n"
     ]
    },
    {
     "name": "stdout",
     "output_type": "stream",
     "text": [
      "Time spent: 0.01 mins\n",
      "0\n",
      "Normalizing data\n",
      "Normalizing data\n",
      "Adding noise: 0.4\n",
      "average precision vs geff:  0.33539365982104286\n",
      "mask is bigger than grn! Check if RNA trimming was performed.\n",
      "average precision vs beta:  0.33539365982104286\n",
      "Trimming RNA.\n",
      "p: 0.5\n",
      "Generating the GRN...\n"
     ]
    },
    {
     "name": "stderr",
     "output_type": "stream",
     "text": [
      "\n",
      "Attaching package: ‘dplyr’\n",
      "\n",
      "The following objects are masked from ‘package:stats’:\n",
      "\n",
      "    filter, lag\n",
      "\n",
      "The following objects are masked from ‘package:base’:\n",
      "\n",
      "    intersect, setdiff, setequal, union\n",
      "\n"
     ]
    },
    {
     "name": "stdout",
     "output_type": "stream",
     "text": [
      "Time spent: 0.01 mins\n",
      "0\n",
      "Normalizing data\n",
      "Normalizing data\n",
      "Adding noise: 0.5\n",
      "average precision vs geff:  0.19801902767148538\n",
      "mask is bigger than grn! Check if RNA trimming was performed.\n",
      "average precision vs beta:  0.21851172329571017\n",
      "Trimming RNA.\n",
      "Generating the GRN...\n"
     ]
    },
    {
     "name": "stderr",
     "output_type": "stream",
     "text": [
      "\n",
      "Attaching package: ‘dplyr’\n",
      "\n",
      "The following objects are masked from ‘package:stats’:\n",
      "\n",
      "    filter, lag\n",
      "\n",
      "The following objects are masked from ‘package:base’:\n",
      "\n",
      "    intersect, setdiff, setequal, union\n",
      "\n"
     ]
    },
    {
     "name": "stdout",
     "output_type": "stream",
     "text": [
      "Time spent: 0.01 mins\n",
      "0\n",
      "Normalizing data\n",
      "Normalizing data\n",
      "Adding noise: 0.5\n",
      "average precision vs geff:  0.31766017265099644\n",
      "mask is bigger than grn! Check if RNA trimming was performed.\n",
      "average precision vs beta:  0.3190526091886823\n",
      "Trimming RNA.\n",
      "p: 0.6000000000000001\n",
      "Generating the GRN...\n"
     ]
    },
    {
     "name": "stderr",
     "output_type": "stream",
     "text": [
      "\n",
      "Attaching package: ‘dplyr’\n",
      "\n",
      "The following objects are masked from ‘package:stats’:\n",
      "\n",
      "    filter, lag\n",
      "\n",
      "The following objects are masked from ‘package:base’:\n",
      "\n",
      "    intersect, setdiff, setequal, union\n",
      "\n"
     ]
    },
    {
     "name": "stdout",
     "output_type": "stream",
     "text": [
      "Time spent: 0.01 mins\n",
      "0\n",
      "Normalizing data\n",
      "Normalizing data\n",
      "Adding noise: 0.6000000000000001\n",
      "average precision vs geff:  0.2115592077632677\n",
      "mask is bigger than grn! Check if RNA trimming was performed.\n",
      "average precision vs beta:  0.24115772971858407\n",
      "Trimming RNA.\n",
      "Generating the GRN...\n"
     ]
    },
    {
     "name": "stderr",
     "output_type": "stream",
     "text": [
      "\n",
      "Attaching package: ‘dplyr’\n",
      "\n",
      "The following objects are masked from ‘package:stats’:\n",
      "\n",
      "    filter, lag\n",
      "\n",
      "The following objects are masked from ‘package:base’:\n",
      "\n",
      "    intersect, setdiff, setequal, union\n",
      "\n"
     ]
    },
    {
     "name": "stdout",
     "output_type": "stream",
     "text": [
      "Time spent: 0.01 mins\n",
      "0\n",
      "Normalizing data\n",
      "Normalizing data\n",
      "Adding noise: 0.6000000000000001\n",
      "average precision vs geff:  0.12264281012655448\n",
      "mask is bigger than grn! Check if RNA trimming was performed.\n",
      "average precision vs beta:  0.128956766331575\n",
      "Trimming RNA.\n",
      "p: 0.7000000000000001\n",
      "Generating the GRN...\n"
     ]
    },
    {
     "name": "stderr",
     "output_type": "stream",
     "text": [
      "\n",
      "Attaching package: ‘dplyr’\n",
      "\n",
      "The following objects are masked from ‘package:stats’:\n",
      "\n",
      "    filter, lag\n",
      "\n",
      "The following objects are masked from ‘package:base’:\n",
      "\n",
      "    intersect, setdiff, setequal, union\n",
      "\n"
     ]
    },
    {
     "name": "stdout",
     "output_type": "stream",
     "text": [
      "Time spent: 0.01 mins\n",
      "0\n",
      "Normalizing data\n",
      "Normalizing data\n",
      "Adding noise: 0.7000000000000001\n",
      "average precision vs geff:  0.11131167218650068\n",
      "mask is bigger than grn! Check if RNA trimming was performed.\n",
      "average precision vs beta:  0.12649634516275737\n",
      "Trimming RNA.\n",
      "Generating the GRN...\n"
     ]
    },
    {
     "name": "stderr",
     "output_type": "stream",
     "text": [
      "\n",
      "Attaching package: ‘dplyr’\n",
      "\n",
      "The following objects are masked from ‘package:stats’:\n",
      "\n",
      "    filter, lag\n",
      "\n",
      "The following objects are masked from ‘package:base’:\n",
      "\n",
      "    intersect, setdiff, setequal, union\n",
      "\n"
     ]
    },
    {
     "name": "stdout",
     "output_type": "stream",
     "text": [
      "Time spent: 0.01 mins\n",
      "0\n",
      "Normalizing data\n",
      "Normalizing data\n",
      "Adding noise: 0.7000000000000001\n",
      "average precision vs geff:  0.1689047405609242\n",
      "mask is bigger than grn! Check if RNA trimming was performed.\n",
      "average precision vs beta:  0.1796681741917416\n",
      "Trimming RNA.\n",
      "p: 0.8\n",
      "Generating the GRN...\n"
     ]
    },
    {
     "name": "stderr",
     "output_type": "stream",
     "text": [
      "\n",
      "Attaching package: ‘dplyr’\n",
      "\n",
      "The following objects are masked from ‘package:stats’:\n",
      "\n",
      "    filter, lag\n",
      "\n",
      "The following objects are masked from ‘package:base’:\n",
      "\n",
      "    intersect, setdiff, setequal, union\n",
      "\n"
     ]
    },
    {
     "name": "stdout",
     "output_type": "stream",
     "text": [
      "Time spent: 0.01 mins\n",
      "0\n",
      "Normalizing data\n",
      "Normalizing data\n",
      "Adding noise: 0.8\n",
      "average precision vs geff:  0.24885921253998966\n",
      "mask is bigger than grn! Check if RNA trimming was performed.\n",
      "average precision vs beta:  0.24885921253998966\n",
      "Trimming RNA.\n",
      "Generating the GRN...\n"
     ]
    },
    {
     "name": "stderr",
     "output_type": "stream",
     "text": [
      "\n",
      "Attaching package: ‘dplyr’\n",
      "\n",
      "The following objects are masked from ‘package:stats’:\n",
      "\n",
      "    filter, lag\n",
      "\n",
      "The following objects are masked from ‘package:base’:\n",
      "\n",
      "    intersect, setdiff, setequal, union\n",
      "\n"
     ]
    },
    {
     "name": "stdout",
     "output_type": "stream",
     "text": [
      "Time spent: 0.01 mins\n",
      "0\n",
      "Normalizing data\n",
      "Normalizing data\n",
      "Adding noise: 0.8\n",
      "average precision vs geff:  0.1635449554934572\n",
      "mask is bigger than grn! Check if RNA trimming was performed.\n",
      "average precision vs beta:  0.1729747193039432\n",
      "Trimming RNA.\n",
      "p: 0.9\n",
      "Generating the GRN...\n"
     ]
    },
    {
     "name": "stderr",
     "output_type": "stream",
     "text": [
      "\n",
      "Attaching package: ‘dplyr’\n",
      "\n",
      "The following objects are masked from ‘package:stats’:\n",
      "\n",
      "    filter, lag\n",
      "\n",
      "The following objects are masked from ‘package:base’:\n",
      "\n",
      "    intersect, setdiff, setequal, union\n",
      "\n"
     ]
    },
    {
     "name": "stdout",
     "output_type": "stream",
     "text": [
      "Time spent: 0.01 mins\n",
      "0\n",
      "Normalizing data\n",
      "Normalizing data\n",
      "Adding noise: 0.9\n",
      "average precision vs geff:  0.16681760251515113\n",
      "mask is bigger than grn! Check if RNA trimming was performed.\n",
      "average precision vs beta:  0.17053725477647005\n",
      "Trimming RNA.\n",
      "Generating the GRN...\n"
     ]
    },
    {
     "name": "stderr",
     "output_type": "stream",
     "text": [
      "\n",
      "Attaching package: ‘dplyr’\n",
      "\n",
      "The following objects are masked from ‘package:stats’:\n",
      "\n",
      "    filter, lag\n",
      "\n",
      "The following objects are masked from ‘package:base’:\n",
      "\n",
      "    intersect, setdiff, setequal, union\n",
      "\n"
     ]
    },
    {
     "name": "stdout",
     "output_type": "stream",
     "text": [
      "Time spent: 0.01 mins\n",
      "0\n",
      "Normalizing data\n",
      "Normalizing data\n",
      "Adding noise: 0.9\n",
      "average precision vs geff:  0.24122205094438548\n",
      "mask is bigger than grn! Check if RNA trimming was performed.\n",
      "average precision vs beta:  0.32522187945396\n",
      "Trimming RNA.\n",
      "p: 1.0\n",
      "Generating the GRN...\n"
     ]
    },
    {
     "name": "stderr",
     "output_type": "stream",
     "text": [
      "\n",
      "Attaching package: ‘dplyr’\n",
      "\n",
      "The following objects are masked from ‘package:stats’:\n",
      "\n",
      "    filter, lag\n",
      "\n",
      "The following objects are masked from ‘package:base’:\n",
      "\n",
      "    intersect, setdiff, setequal, union\n",
      "\n"
     ]
    },
    {
     "name": "stdout",
     "output_type": "stream",
     "text": [
      "Time spent: 0.01 mins\n",
      "0\n",
      "Normalizing data\n",
      "Normalizing data\n",
      "Adding noise: 1.0\n",
      "average precision vs geff:  0.29047039137210984\n",
      "mask is bigger than grn! Check if RNA trimming was performed.\n",
      "average precision vs beta:  0.29439852047028303\n",
      "Trimming RNA.\n",
      "Generating the GRN...\n"
     ]
    },
    {
     "name": "stderr",
     "output_type": "stream",
     "text": [
      "\n",
      "Attaching package: ‘dplyr’\n",
      "\n",
      "The following objects are masked from ‘package:stats’:\n",
      "\n",
      "    filter, lag\n",
      "\n",
      "The following objects are masked from ‘package:base’:\n",
      "\n",
      "    intersect, setdiff, setequal, union\n",
      "\n"
     ]
    },
    {
     "name": "stdout",
     "output_type": "stream",
     "text": [
      "Time spent: 0.01 mins\n",
      "0\n",
      "Normalizing data\n",
      "Normalizing data\n",
      "Adding noise: 1.0\n",
      "average precision vs geff:  0.12046234121162465\n",
      "mask is bigger than grn! Check if RNA trimming was performed.\n",
      "average precision vs beta:  0.13820935733840062\n",
      "Trimming RNA.\n",
      "r: 3\n",
      "p: 0.0\n",
      "Generating the GRN...\n"
     ]
    },
    {
     "name": "stderr",
     "output_type": "stream",
     "text": [
      "\n",
      "Attaching package: ‘dplyr’\n",
      "\n",
      "The following objects are masked from ‘package:stats’:\n",
      "\n",
      "    filter, lag\n",
      "\n",
      "The following objects are masked from ‘package:base’:\n",
      "\n",
      "    intersect, setdiff, setequal, union\n",
      "\n"
     ]
    },
    {
     "name": "stdout",
     "output_type": "stream",
     "text": [
      "Time spent: 0.01 mins\n",
      "0\n",
      "Normalizing data\n",
      "Normalizing data\n",
      "Adding noise: 0.0\n",
      "average precision vs geff:  0.20455436720142603\n",
      "mask is bigger than grn! Check if RNA trimming was performed.\n",
      "average precision vs beta:  0.21200980392156862\n",
      "Trimming RNA.\n",
      "Generating the GRN...\n"
     ]
    },
    {
     "name": "stderr",
     "output_type": "stream",
     "text": [
      "\n",
      "Attaching package: ‘dplyr’\n",
      "\n",
      "The following objects are masked from ‘package:stats’:\n",
      "\n",
      "    filter, lag\n",
      "\n",
      "The following objects are masked from ‘package:base’:\n",
      "\n",
      "    intersect, setdiff, setequal, union\n",
      "\n"
     ]
    },
    {
     "name": "stdout",
     "output_type": "stream",
     "text": [
      "Time spent: 0.01 mins\n",
      "0\n",
      "Normalizing data\n",
      "Normalizing data\n",
      "Adding noise: 0.0\n",
      "average precision vs geff:  0.23190162494510322\n",
      "mask is bigger than grn! Check if RNA trimming was performed.\n",
      "average precision vs beta:  0.24332298136645966\n",
      "Trimming RNA.\n",
      "p: 0.1\n",
      "Generating the GRN...\n"
     ]
    },
    {
     "name": "stderr",
     "output_type": "stream",
     "text": [
      "\n",
      "Attaching package: ‘dplyr’\n",
      "\n",
      "The following objects are masked from ‘package:stats’:\n",
      "\n",
      "    filter, lag\n",
      "\n",
      "The following objects are masked from ‘package:base’:\n",
      "\n",
      "    intersect, setdiff, setequal, union\n",
      "\n"
     ]
    },
    {
     "name": "stdout",
     "output_type": "stream",
     "text": [
      "Time spent: 0.01 mins\n",
      "0\n",
      "Normalizing data\n",
      "Normalizing data\n",
      "Adding noise: 0.1\n",
      "average precision vs geff:  0.14700687197078288\n",
      "mask is bigger than grn! Check if RNA trimming was performed.\n",
      "average precision vs beta:  0.1696370200576987\n",
      "Trimming RNA.\n",
      "Generating the GRN...\n"
     ]
    },
    {
     "name": "stderr",
     "output_type": "stream",
     "text": [
      "\n",
      "Attaching package: ‘dplyr’\n",
      "\n",
      "The following objects are masked from ‘package:stats’:\n",
      "\n",
      "    filter, lag\n",
      "\n",
      "The following objects are masked from ‘package:base’:\n",
      "\n",
      "    intersect, setdiff, setequal, union\n",
      "\n"
     ]
    },
    {
     "name": "stdout",
     "output_type": "stream",
     "text": [
      "Time spent: 0.01 mins\n",
      "0\n",
      "Normalizing data\n",
      "Normalizing data\n",
      "Adding noise: 0.1\n",
      "average precision vs geff:  0.15364261776386756\n",
      "mask is bigger than grn! Check if RNA trimming was performed.\n",
      "average precision vs beta:  0.16966998218224477\n",
      "Trimming RNA.\n",
      "p: 0.2\n",
      "Generating the GRN...\n"
     ]
    },
    {
     "name": "stderr",
     "output_type": "stream",
     "text": [
      "\n",
      "Attaching package: ‘dplyr’\n",
      "\n",
      "The following objects are masked from ‘package:stats’:\n",
      "\n",
      "    filter, lag\n",
      "\n",
      "The following objects are masked from ‘package:base’:\n",
      "\n",
      "    intersect, setdiff, setequal, union\n",
      "\n"
     ]
    },
    {
     "name": "stdout",
     "output_type": "stream",
     "text": [
      "Time spent: 0.01 mins\n",
      "0\n",
      "Normalizing data\n",
      "Normalizing data\n",
      "Adding noise: 0.2\n",
      "average precision vs geff:  0.17139505299750424\n",
      "mask is bigger than grn! Check if RNA trimming was performed.\n",
      "average precision vs beta:  0.1989451471363175\n",
      "Trimming RNA.\n",
      "Generating the GRN...\n"
     ]
    },
    {
     "name": "stderr",
     "output_type": "stream",
     "text": [
      "\n",
      "Attaching package: ‘dplyr’\n",
      "\n",
      "The following objects are masked from ‘package:stats’:\n",
      "\n",
      "    filter, lag\n",
      "\n",
      "The following objects are masked from ‘package:base’:\n",
      "\n",
      "    intersect, setdiff, setequal, union\n",
      "\n"
     ]
    },
    {
     "name": "stdout",
     "output_type": "stream",
     "text": [
      "Time spent: 0.01 mins\n",
      "0\n",
      "Normalizing data\n",
      "Normalizing data\n",
      "Adding noise: 0.2\n",
      "average precision vs geff:  0.23656126155351073\n",
      "mask is bigger than grn! Check if RNA trimming was performed.\n",
      "average precision vs beta:  0.2907574255846642\n",
      "Trimming RNA.\n",
      "p: 0.30000000000000004\n",
      "Generating the GRN...\n"
     ]
    },
    {
     "name": "stderr",
     "output_type": "stream",
     "text": [
      "\n",
      "Attaching package: ‘dplyr’\n",
      "\n",
      "The following objects are masked from ‘package:stats’:\n",
      "\n",
      "    filter, lag\n",
      "\n",
      "The following objects are masked from ‘package:base’:\n",
      "\n",
      "    intersect, setdiff, setequal, union\n",
      "\n"
     ]
    },
    {
     "name": "stdout",
     "output_type": "stream",
     "text": [
      "Time spent: 0.01 mins\n",
      "0\n",
      "Normalizing data\n",
      "Normalizing data\n",
      "Adding noise: 0.30000000000000004\n",
      "average precision vs geff:  0.15808228308227365\n",
      "mask is bigger than grn! Check if RNA trimming was performed.\n",
      "average precision vs beta:  0.19277237474851217\n",
      "Trimming RNA.\n",
      "Generating the GRN...\n"
     ]
    },
    {
     "name": "stderr",
     "output_type": "stream",
     "text": [
      "\n",
      "Attaching package: ‘dplyr’\n",
      "\n",
      "The following objects are masked from ‘package:stats’:\n",
      "\n",
      "    filter, lag\n",
      "\n",
      "The following objects are masked from ‘package:base’:\n",
      "\n",
      "    intersect, setdiff, setequal, union\n",
      "\n"
     ]
    },
    {
     "name": "stdout",
     "output_type": "stream",
     "text": [
      "Time spent: 0.01 mins\n",
      "0\n",
      "Normalizing data\n",
      "Normalizing data\n",
      "Adding noise: 0.30000000000000004\n",
      "average precision vs geff:  0.15559234471470273\n",
      "mask is bigger than grn! Check if RNA trimming was performed.\n",
      "average precision vs beta:  0.22726705083509413\n",
      "Trimming RNA.\n",
      "p: 0.4\n",
      "Generating the GRN...\n"
     ]
    },
    {
     "name": "stderr",
     "output_type": "stream",
     "text": [
      "\n",
      "Attaching package: ‘dplyr’\n",
      "\n",
      "The following objects are masked from ‘package:stats’:\n",
      "\n",
      "    filter, lag\n",
      "\n",
      "The following objects are masked from ‘package:base’:\n",
      "\n",
      "    intersect, setdiff, setequal, union\n",
      "\n"
     ]
    },
    {
     "name": "stdout",
     "output_type": "stream",
     "text": [
      "Time spent: 0.01 mins\n",
      "0\n",
      "Normalizing data\n",
      "Normalizing data\n",
      "Adding noise: 0.4\n",
      "average precision vs geff:  0.13124735027782736\n",
      "mask is bigger than grn! Check if RNA trimming was performed.\n",
      "average precision vs beta:  0.14356175139074384\n",
      "Trimming RNA.\n",
      "Generating the GRN...\n"
     ]
    },
    {
     "name": "stderr",
     "output_type": "stream",
     "text": [
      "\n",
      "Attaching package: ‘dplyr’\n",
      "\n",
      "The following objects are masked from ‘package:stats’:\n",
      "\n",
      "    filter, lag\n",
      "\n",
      "The following objects are masked from ‘package:base’:\n",
      "\n",
      "    intersect, setdiff, setequal, union\n",
      "\n"
     ]
    },
    {
     "name": "stdout",
     "output_type": "stream",
     "text": [
      "Time spent: 0.01 mins\n",
      "0\n",
      "Normalizing data\n",
      "Normalizing data\n",
      "Adding noise: 0.4\n",
      "average precision vs geff:  0.22045236253607928\n",
      "mask is bigger than grn! Check if RNA trimming was performed.\n",
      "average precision vs beta:  0.3170858275841423\n",
      "Trimming RNA.\n",
      "p: 0.5\n",
      "Generating the GRN...\n"
     ]
    },
    {
     "name": "stderr",
     "output_type": "stream",
     "text": [
      "\n",
      "Attaching package: ‘dplyr’\n",
      "\n",
      "The following objects are masked from ‘package:stats’:\n",
      "\n",
      "    filter, lag\n",
      "\n",
      "The following objects are masked from ‘package:base’:\n",
      "\n",
      "    intersect, setdiff, setequal, union\n",
      "\n"
     ]
    },
    {
     "name": "stdout",
     "output_type": "stream",
     "text": [
      "Time spent: 0.01 mins\n",
      "0\n",
      "Normalizing data\n",
      "Normalizing data\n",
      "Adding noise: 0.5\n",
      "average precision vs geff:  0.1300187832221405\n",
      "mask is bigger than grn! Check if RNA trimming was performed.\n",
      "average precision vs beta:  0.1351562387233792\n",
      "Trimming RNA.\n",
      "Generating the GRN...\n"
     ]
    },
    {
     "name": "stderr",
     "output_type": "stream",
     "text": [
      "\n",
      "Attaching package: ‘dplyr’\n",
      "\n",
      "The following objects are masked from ‘package:stats’:\n",
      "\n",
      "    filter, lag\n",
      "\n",
      "The following objects are masked from ‘package:base’:\n",
      "\n",
      "    intersect, setdiff, setequal, union\n",
      "\n"
     ]
    },
    {
     "name": "stdout",
     "output_type": "stream",
     "text": [
      "Time spent: 0.01 mins\n",
      "0\n",
      "Normalizing data\n",
      "Normalizing data\n",
      "Adding noise: 0.5\n",
      "average precision vs geff:  0.3093539139308621\n",
      "mask is bigger than grn! Check if RNA trimming was performed.\n",
      "average precision vs beta:  0.3252829289740965\n",
      "Trimming RNA.\n",
      "p: 0.6000000000000001\n",
      "Generating the GRN...\n"
     ]
    },
    {
     "name": "stderr",
     "output_type": "stream",
     "text": [
      "\n",
      "Attaching package: ‘dplyr’\n",
      "\n",
      "The following objects are masked from ‘package:stats’:\n",
      "\n",
      "    filter, lag\n",
      "\n",
      "The following objects are masked from ‘package:base’:\n",
      "\n",
      "    intersect, setdiff, setequal, union\n",
      "\n"
     ]
    },
    {
     "name": "stdout",
     "output_type": "stream",
     "text": [
      "Time spent: 0.01 mins\n",
      "0\n",
      "Normalizing data\n",
      "Normalizing data\n",
      "Adding noise: 0.6000000000000001\n",
      "average precision vs geff:  0.17180924142923898\n",
      "mask is bigger than grn! Check if RNA trimming was performed.\n",
      "average precision vs beta:  0.19163338878174863\n",
      "Trimming RNA.\n",
      "Generating the GRN...\n"
     ]
    },
    {
     "name": "stderr",
     "output_type": "stream",
     "text": [
      "\n",
      "Attaching package: ‘dplyr’\n",
      "\n",
      "The following objects are masked from ‘package:stats’:\n",
      "\n",
      "    filter, lag\n",
      "\n",
      "The following objects are masked from ‘package:base’:\n",
      "\n",
      "    intersect, setdiff, setequal, union\n",
      "\n"
     ]
    },
    {
     "name": "stdout",
     "output_type": "stream",
     "text": [
      "Time spent: 0.01 mins\n",
      "0\n",
      "Normalizing data\n",
      "Normalizing data\n",
      "Adding noise: 0.6000000000000001\n",
      "average precision vs geff:  0.33945159917249235\n",
      "mask is bigger than grn! Check if RNA trimming was performed.\n",
      "average precision vs beta:  0.3541287787653\n",
      "Trimming RNA.\n",
      "p: 0.7000000000000001\n",
      "Generating the GRN...\n"
     ]
    },
    {
     "name": "stderr",
     "output_type": "stream",
     "text": [
      "\n",
      "Attaching package: ‘dplyr’\n",
      "\n",
      "The following objects are masked from ‘package:stats’:\n",
      "\n",
      "    filter, lag\n",
      "\n",
      "The following objects are masked from ‘package:base’:\n",
      "\n",
      "    intersect, setdiff, setequal, union\n",
      "\n"
     ]
    },
    {
     "name": "stdout",
     "output_type": "stream",
     "text": [
      "Time spent: 0.01 mins\n",
      "0\n",
      "Normalizing data\n",
      "Normalizing data\n",
      "Adding noise: 0.7000000000000001\n",
      "average precision vs geff:  0.13892810850847864\n",
      "mask is bigger than grn! Check if RNA trimming was performed.\n",
      "average precision vs beta:  0.1683046748630851\n",
      "Trimming RNA.\n",
      "Generating the GRN...\n"
     ]
    },
    {
     "name": "stderr",
     "output_type": "stream",
     "text": [
      "\n",
      "Attaching package: ‘dplyr’\n",
      "\n",
      "The following objects are masked from ‘package:stats’:\n",
      "\n",
      "    filter, lag\n",
      "\n",
      "The following objects are masked from ‘package:base’:\n",
      "\n",
      "    intersect, setdiff, setequal, union\n",
      "\n"
     ]
    },
    {
     "name": "stdout",
     "output_type": "stream",
     "text": [
      "Time spent: 0.01 mins\n",
      "0\n",
      "Normalizing data\n",
      "Normalizing data\n",
      "Adding noise: 0.7000000000000001\n",
      "average precision vs geff:  0.16454270687593894\n",
      "mask is bigger than grn! Check if RNA trimming was performed.\n",
      "average precision vs beta:  0.19833104543767063\n",
      "Trimming RNA.\n",
      "p: 0.8\n",
      "Generating the GRN...\n"
     ]
    },
    {
     "name": "stderr",
     "output_type": "stream",
     "text": [
      "\n",
      "Attaching package: ‘dplyr’\n",
      "\n",
      "The following objects are masked from ‘package:stats’:\n",
      "\n",
      "    filter, lag\n",
      "\n",
      "The following objects are masked from ‘package:base’:\n",
      "\n",
      "    intersect, setdiff, setequal, union\n",
      "\n"
     ]
    },
    {
     "name": "stdout",
     "output_type": "stream",
     "text": [
      "Time spent: 0.01 mins\n",
      "0\n",
      "Normalizing data\n",
      "Normalizing data\n",
      "Adding noise: 0.8\n",
      "average precision vs geff:  0.20600371401826142\n",
      "mask is bigger than grn! Check if RNA trimming was performed.\n",
      "average precision vs beta:  0.2149040732345189\n",
      "Trimming RNA.\n",
      "Generating the GRN...\n"
     ]
    },
    {
     "name": "stderr",
     "output_type": "stream",
     "text": [
      "\n",
      "Attaching package: ‘dplyr’\n",
      "\n",
      "The following objects are masked from ‘package:stats’:\n",
      "\n",
      "    filter, lag\n",
      "\n",
      "The following objects are masked from ‘package:base’:\n",
      "\n",
      "    intersect, setdiff, setequal, union\n",
      "\n"
     ]
    },
    {
     "name": "stdout",
     "output_type": "stream",
     "text": [
      "Time spent: 0.01 mins\n",
      "0\n",
      "Normalizing data\n",
      "Normalizing data\n",
      "Adding noise: 0.8\n",
      "average precision vs geff:  0.16832829438570227\n",
      "mask is bigger than grn! Check if RNA trimming was performed.\n",
      "average precision vs beta:  0.1834105429221978\n",
      "Trimming RNA.\n",
      "p: 0.9\n",
      "Generating the GRN...\n"
     ]
    },
    {
     "name": "stderr",
     "output_type": "stream",
     "text": [
      "\n",
      "Attaching package: ‘dplyr’\n",
      "\n",
      "The following objects are masked from ‘package:stats’:\n",
      "\n",
      "    filter, lag\n",
      "\n",
      "The following objects are masked from ‘package:base’:\n",
      "\n",
      "    intersect, setdiff, setequal, union\n",
      "\n"
     ]
    },
    {
     "name": "stdout",
     "output_type": "stream",
     "text": [
      "Time spent: 0.01 mins\n",
      "0\n",
      "Normalizing data\n",
      "Normalizing data\n",
      "Adding noise: 0.9\n",
      "average precision vs geff:  0.20916986752781747\n",
      "mask is bigger than grn! Check if RNA trimming was performed.\n",
      "average precision vs beta:  0.21659972976905562\n",
      "Trimming RNA.\n",
      "Generating the GRN...\n"
     ]
    },
    {
     "name": "stderr",
     "output_type": "stream",
     "text": [
      "\n",
      "Attaching package: ‘dplyr’\n",
      "\n",
      "The following objects are masked from ‘package:stats’:\n",
      "\n",
      "    filter, lag\n",
      "\n",
      "The following objects are masked from ‘package:base’:\n",
      "\n",
      "    intersect, setdiff, setequal, union\n",
      "\n"
     ]
    },
    {
     "name": "stdout",
     "output_type": "stream",
     "text": [
      "Time spent: 0.01 mins\n",
      "0\n",
      "Normalizing data\n",
      "Normalizing data\n",
      "Adding noise: 0.9\n",
      "average precision vs geff:  0.282892619980274\n",
      "mask is bigger than grn! Check if RNA trimming was performed.\n",
      "average precision vs beta:  0.3103743680214732\n",
      "Trimming RNA.\n",
      "p: 1.0\n",
      "Generating the GRN...\n"
     ]
    },
    {
     "name": "stderr",
     "output_type": "stream",
     "text": [
      "\n",
      "Attaching package: ‘dplyr’\n",
      "\n",
      "The following objects are masked from ‘package:stats’:\n",
      "\n",
      "    filter, lag\n",
      "\n",
      "The following objects are masked from ‘package:base’:\n",
      "\n",
      "    intersect, setdiff, setequal, union\n",
      "\n"
     ]
    },
    {
     "name": "stdout",
     "output_type": "stream",
     "text": [
      "Time spent: 0.01 mins\n",
      "0\n",
      "Normalizing data\n",
      "Normalizing data\n",
      "Adding noise: 1.0\n",
      "average precision vs geff:  0.16042287165354138\n",
      "mask is bigger than grn! Check if RNA trimming was performed.\n",
      "average precision vs beta:  0.1887456742163807\n",
      "Trimming RNA.\n",
      "Generating the GRN...\n"
     ]
    },
    {
     "name": "stderr",
     "output_type": "stream",
     "text": [
      "\n",
      "Attaching package: ‘dplyr’\n",
      "\n",
      "The following objects are masked from ‘package:stats’:\n",
      "\n",
      "    filter, lag\n",
      "\n",
      "The following objects are masked from ‘package:base’:\n",
      "\n",
      "    intersect, setdiff, setequal, union\n",
      "\n"
     ]
    },
    {
     "name": "stdout",
     "output_type": "stream",
     "text": [
      "Time spent: 0.01 mins\n",
      "0\n",
      "Normalizing data\n",
      "Normalizing data\n",
      "Adding noise: 1.0\n",
      "average precision vs geff:  0.18515016225671907\n",
      "mask is bigger than grn! Check if RNA trimming was performed.\n",
      "average precision vs beta:  0.20890382063727117\n",
      "Trimming RNA.\n",
      "r: 4\n",
      "p: 0.0\n",
      "Generating the GRN...\n"
     ]
    },
    {
     "name": "stderr",
     "output_type": "stream",
     "text": [
      "\n",
      "Attaching package: ‘dplyr’\n",
      "\n",
      "The following objects are masked from ‘package:stats’:\n",
      "\n",
      "    filter, lag\n",
      "\n",
      "The following objects are masked from ‘package:base’:\n",
      "\n",
      "    intersect, setdiff, setequal, union\n",
      "\n"
     ]
    },
    {
     "name": "stdout",
     "output_type": "stream",
     "text": [
      "Time spent: 0.01 mins\n",
      "0\n",
      "Normalizing data\n",
      "Normalizing data\n",
      "Adding noise: 0.0\n",
      "average precision vs geff:  0.1667663476874003\n",
      "mask is bigger than grn! Check if RNA trimming was performed.\n",
      "average precision vs beta:  0.17424812030075187\n",
      "Trimming RNA.\n",
      "Generating the GRN...\n"
     ]
    },
    {
     "name": "stderr",
     "output_type": "stream",
     "text": [
      "\n",
      "Attaching package: ‘dplyr’\n",
      "\n",
      "The following objects are masked from ‘package:stats’:\n",
      "\n",
      "    filter, lag\n",
      "\n",
      "The following objects are masked from ‘package:base’:\n",
      "\n",
      "    intersect, setdiff, setequal, union\n",
      "\n"
     ]
    },
    {
     "name": "stdout",
     "output_type": "stream",
     "text": [
      "Time spent: 0.01 mins\n",
      "0\n",
      "Normalizing data\n",
      "Normalizing data\n",
      "Adding noise: 0.0\n",
      "average precision vs geff:  0.2357695374800638\n",
      "mask is bigger than grn! Check if RNA trimming was performed.\n",
      "average precision vs beta:  0.24098579782790308\n",
      "Trimming RNA.\n",
      "p: 0.1\n",
      "Generating the GRN...\n"
     ]
    },
    {
     "name": "stderr",
     "output_type": "stream",
     "text": [
      "\n",
      "Attaching package: ‘dplyr’\n",
      "\n",
      "The following objects are masked from ‘package:stats’:\n",
      "\n",
      "    filter, lag\n",
      "\n",
      "The following objects are masked from ‘package:base’:\n",
      "\n",
      "    intersect, setdiff, setequal, union\n",
      "\n"
     ]
    },
    {
     "name": "stdout",
     "output_type": "stream",
     "text": [
      "Time spent: 0.01 mins\n",
      "0\n",
      "Normalizing data\n",
      "Normalizing data\n",
      "Adding noise: 0.1\n",
      "average precision vs geff:  0.15291882547869423\n",
      "mask is bigger than grn! Check if RNA trimming was performed.\n",
      "average precision vs beta:  0.18836953128456646\n",
      "Trimming RNA.\n",
      "Generating the GRN...\n"
     ]
    },
    {
     "name": "stderr",
     "output_type": "stream",
     "text": [
      "\n",
      "Attaching package: ‘dplyr’\n",
      "\n",
      "The following objects are masked from ‘package:stats’:\n",
      "\n",
      "    filter, lag\n",
      "\n",
      "The following objects are masked from ‘package:base’:\n",
      "\n",
      "    intersect, setdiff, setequal, union\n",
      "\n"
     ]
    },
    {
     "name": "stdout",
     "output_type": "stream",
     "text": [
      "Time spent: 0.01 mins\n",
      "0\n",
      "Normalizing data\n",
      "Normalizing data\n",
      "Adding noise: 0.1\n",
      "average precision vs geff:  0.1347705935013181\n",
      "mask is bigger than grn! Check if RNA trimming was performed.\n",
      "average precision vs beta:  0.21323532811620566\n",
      "Trimming RNA.\n",
      "p: 0.2\n",
      "Generating the GRN...\n"
     ]
    },
    {
     "name": "stderr",
     "output_type": "stream",
     "text": [
      "\n",
      "Attaching package: ‘dplyr’\n",
      "\n",
      "The following objects are masked from ‘package:stats’:\n",
      "\n",
      "    filter, lag\n",
      "\n",
      "The following objects are masked from ‘package:base’:\n",
      "\n",
      "    intersect, setdiff, setequal, union\n",
      "\n"
     ]
    },
    {
     "name": "stdout",
     "output_type": "stream",
     "text": [
      "Time spent: 0.02 mins\n",
      "0\n",
      "Normalizing data\n",
      "Normalizing data\n",
      "Adding noise: 0.2\n",
      "average precision vs geff:  0.1720156837318639\n",
      "mask is bigger than grn! Check if RNA trimming was performed.\n",
      "average precision vs beta:  0.17457715491579237\n",
      "Trimming RNA.\n",
      "Generating the GRN...\n"
     ]
    },
    {
     "name": "stderr",
     "output_type": "stream",
     "text": [
      "\n",
      "Attaching package: ‘dplyr’\n",
      "\n",
      "The following objects are masked from ‘package:stats’:\n",
      "\n",
      "    filter, lag\n",
      "\n",
      "The following objects are masked from ‘package:base’:\n",
      "\n",
      "    intersect, setdiff, setequal, union\n",
      "\n"
     ]
    },
    {
     "name": "stdout",
     "output_type": "stream",
     "text": [
      "Time spent: 0.01 mins\n",
      "0\n",
      "Normalizing data\n",
      "Normalizing data\n",
      "Adding noise: 0.2\n",
      "average precision vs geff:  0.16536789693533888\n",
      "mask is bigger than grn! Check if RNA trimming was performed.\n",
      "average precision vs beta:  0.1724201132479316\n",
      "Trimming RNA.\n",
      "p: 0.30000000000000004\n",
      "Generating the GRN...\n"
     ]
    },
    {
     "name": "stderr",
     "output_type": "stream",
     "text": [
      "\n",
      "Attaching package: ‘dplyr’\n",
      "\n",
      "The following objects are masked from ‘package:stats’:\n",
      "\n",
      "    filter, lag\n",
      "\n",
      "The following objects are masked from ‘package:base’:\n",
      "\n",
      "    intersect, setdiff, setequal, union\n",
      "\n"
     ]
    },
    {
     "name": "stdout",
     "output_type": "stream",
     "text": [
      "Time spent: 0.01 mins\n",
      "0\n",
      "Normalizing data\n",
      "Normalizing data\n",
      "Adding noise: 0.30000000000000004\n",
      "average precision vs geff:  0.17416733776527688\n",
      "mask is bigger than grn! Check if RNA trimming was performed.\n",
      "average precision vs beta:  0.177505153883709\n",
      "Trimming RNA.\n",
      "Generating the GRN...\n"
     ]
    },
    {
     "name": "stderr",
     "output_type": "stream",
     "text": [
      "\n",
      "Attaching package: ‘dplyr’\n",
      "\n",
      "The following objects are masked from ‘package:stats’:\n",
      "\n",
      "    filter, lag\n",
      "\n",
      "The following objects are masked from ‘package:base’:\n",
      "\n",
      "    intersect, setdiff, setequal, union\n",
      "\n"
     ]
    },
    {
     "name": "stdout",
     "output_type": "stream",
     "text": [
      "Time spent: 0.01 mins\n",
      "0\n",
      "Normalizing data\n",
      "Normalizing data\n",
      "Adding noise: 0.30000000000000004\n",
      "average precision vs geff:  0.16599521182325608\n",
      "mask is bigger than grn! Check if RNA trimming was performed.\n",
      "average precision vs beta:  0.17714329532293466\n",
      "Trimming RNA.\n",
      "p: 0.4\n",
      "Generating the GRN...\n"
     ]
    },
    {
     "name": "stderr",
     "output_type": "stream",
     "text": [
      "\n",
      "Attaching package: ‘dplyr’\n",
      "\n",
      "The following objects are masked from ‘package:stats’:\n",
      "\n",
      "    filter, lag\n",
      "\n",
      "The following objects are masked from ‘package:base’:\n",
      "\n",
      "    intersect, setdiff, setequal, union\n",
      "\n"
     ]
    },
    {
     "name": "stdout",
     "output_type": "stream",
     "text": [
      "Time spent: 0.01 mins\n",
      "0\n",
      "Normalizing data\n",
      "Normalizing data\n",
      "Adding noise: 0.4\n",
      "average precision vs geff:  0.32315913115312217\n",
      "mask is bigger than grn! Check if RNA trimming was performed.\n",
      "average precision vs beta:  0.32727784511931757\n",
      "Trimming RNA.\n",
      "Generating the GRN...\n"
     ]
    },
    {
     "name": "stderr",
     "output_type": "stream",
     "text": [
      "\n",
      "Attaching package: ‘dplyr’\n",
      "\n",
      "The following objects are masked from ‘package:stats’:\n",
      "\n",
      "    filter, lag\n",
      "\n",
      "The following objects are masked from ‘package:base’:\n",
      "\n",
      "    intersect, setdiff, setequal, union\n",
      "\n"
     ]
    },
    {
     "name": "stdout",
     "output_type": "stream",
     "text": [
      "Time spent: 0.01 mins\n",
      "0\n",
      "Normalizing data\n",
      "Normalizing data\n",
      "Adding noise: 0.4\n",
      "average precision vs geff:  0.2694958971251979\n",
      "mask is bigger than grn! Check if RNA trimming was performed.\n",
      "average precision vs beta:  0.2852116669442653\n",
      "Trimming RNA.\n",
      "p: 0.5\n",
      "Generating the GRN...\n"
     ]
    },
    {
     "name": "stderr",
     "output_type": "stream",
     "text": [
      "\n",
      "Attaching package: ‘dplyr’\n",
      "\n",
      "The following objects are masked from ‘package:stats’:\n",
      "\n",
      "    filter, lag\n",
      "\n",
      "The following objects are masked from ‘package:base’:\n",
      "\n",
      "    intersect, setdiff, setequal, union\n",
      "\n"
     ]
    },
    {
     "name": "stdout",
     "output_type": "stream",
     "text": [
      "Time spent: 0.01 mins\n",
      "0\n",
      "Normalizing data\n",
      "Normalizing data\n",
      "Adding noise: 0.5\n",
      "average precision vs geff:  0.21605534511438762\n",
      "mask is bigger than grn! Check if RNA trimming was performed.\n",
      "average precision vs beta:  0.2398439185578815\n",
      "Trimming RNA.\n",
      "Generating the GRN...\n"
     ]
    },
    {
     "name": "stderr",
     "output_type": "stream",
     "text": [
      "\n",
      "Attaching package: ‘dplyr’\n",
      "\n",
      "The following objects are masked from ‘package:stats’:\n",
      "\n",
      "    filter, lag\n",
      "\n",
      "The following objects are masked from ‘package:base’:\n",
      "\n",
      "    intersect, setdiff, setequal, union\n",
      "\n"
     ]
    },
    {
     "name": "stdout",
     "output_type": "stream",
     "text": [
      "Time spent: 0.01 mins\n",
      "0\n",
      "Normalizing data\n",
      "Normalizing data\n",
      "Adding noise: 0.5\n",
      "average precision vs geff:  0.1917935920028042\n",
      "mask is bigger than grn! Check if RNA trimming was performed.\n",
      "average precision vs beta:  0.1927026829118951\n",
      "Trimming RNA.\n",
      "p: 0.6000000000000001\n",
      "Generating the GRN...\n"
     ]
    },
    {
     "name": "stderr",
     "output_type": "stream",
     "text": [
      "\n",
      "Attaching package: ‘dplyr’\n",
      "\n",
      "The following objects are masked from ‘package:stats’:\n",
      "\n",
      "    filter, lag\n",
      "\n",
      "The following objects are masked from ‘package:base’:\n",
      "\n",
      "    intersect, setdiff, setequal, union\n",
      "\n"
     ]
    },
    {
     "name": "stdout",
     "output_type": "stream",
     "text": [
      "Time spent: 0.01 mins\n",
      "0\n",
      "Normalizing data\n",
      "Normalizing data\n",
      "Adding noise: 0.6000000000000001\n",
      "average precision vs geff:  0.21320564877217224\n",
      "mask is bigger than grn! Check if RNA trimming was performed.\n",
      "average precision vs beta:  0.24327993003400872\n",
      "Trimming RNA.\n",
      "Generating the GRN...\n"
     ]
    },
    {
     "name": "stderr",
     "output_type": "stream",
     "text": [
      "\n",
      "Attaching package: ‘dplyr’\n",
      "\n",
      "The following objects are masked from ‘package:stats’:\n",
      "\n",
      "    filter, lag\n",
      "\n",
      "The following objects are masked from ‘package:base’:\n",
      "\n",
      "    intersect, setdiff, setequal, union\n",
      "\n"
     ]
    },
    {
     "name": "stdout",
     "output_type": "stream",
     "text": [
      "Time spent: 0.01 mins\n",
      "0\n",
      "Normalizing data\n",
      "Normalizing data\n",
      "Adding noise: 0.6000000000000001\n",
      "average precision vs geff:  0.19641375305564407\n",
      "mask is bigger than grn! Check if RNA trimming was performed.\n",
      "average precision vs beta:  0.2319299592923584\n",
      "Trimming RNA.\n",
      "p: 0.7000000000000001\n",
      "Generating the GRN...\n"
     ]
    },
    {
     "name": "stderr",
     "output_type": "stream",
     "text": [
      "\n",
      "Attaching package: ‘dplyr’\n",
      "\n",
      "The following objects are masked from ‘package:stats’:\n",
      "\n",
      "    filter, lag\n",
      "\n",
      "The following objects are masked from ‘package:base’:\n",
      "\n",
      "    intersect, setdiff, setequal, union\n",
      "\n"
     ]
    },
    {
     "name": "stdout",
     "output_type": "stream",
     "text": [
      "Time spent: 0.01 mins\n",
      "0\n",
      "Normalizing data\n",
      "Normalizing data\n",
      "Adding noise: 0.7000000000000001\n",
      "average precision vs geff:  0.20766470144606153\n",
      "mask is bigger than grn! Check if RNA trimming was performed.\n",
      "average precision vs beta:  0.22578742202101987\n",
      "Trimming RNA.\n",
      "Generating the GRN...\n"
     ]
    },
    {
     "name": "stderr",
     "output_type": "stream",
     "text": [
      "\n",
      "Attaching package: ‘dplyr’\n",
      "\n",
      "The following objects are masked from ‘package:stats’:\n",
      "\n",
      "    filter, lag\n",
      "\n",
      "The following objects are masked from ‘package:base’:\n",
      "\n",
      "    intersect, setdiff, setequal, union\n",
      "\n"
     ]
    },
    {
     "name": "stdout",
     "output_type": "stream",
     "text": [
      "Time spent: 0.01 mins\n",
      "0\n",
      "Normalizing data\n",
      "Normalizing data\n",
      "Adding noise: 0.7000000000000001\n",
      "average precision vs geff:  0.12032721104766896\n",
      "mask is bigger than grn! Check if RNA trimming was performed.\n",
      "average precision vs beta:  0.1386526094868563\n",
      "Trimming RNA.\n",
      "p: 0.8\n",
      "Generating the GRN...\n"
     ]
    },
    {
     "name": "stderr",
     "output_type": "stream",
     "text": [
      "\n",
      "Attaching package: ‘dplyr’\n",
      "\n",
      "The following objects are masked from ‘package:stats’:\n",
      "\n",
      "    filter, lag\n",
      "\n",
      "The following objects are masked from ‘package:base’:\n",
      "\n",
      "    intersect, setdiff, setequal, union\n",
      "\n"
     ]
    },
    {
     "name": "stdout",
     "output_type": "stream",
     "text": [
      "Time spent: 0.01 mins\n",
      "0\n",
      "Normalizing data\n",
      "Normalizing data\n",
      "Adding noise: 0.8\n",
      "average precision vs geff:  0.4093381372556017\n",
      "mask is bigger than grn! Check if RNA trimming was performed.\n",
      "average precision vs beta:  0.41916131418442737\n",
      "Trimming RNA.\n",
      "Generating the GRN...\n"
     ]
    },
    {
     "name": "stderr",
     "output_type": "stream",
     "text": [
      "\n",
      "Attaching package: ‘dplyr’\n",
      "\n",
      "The following objects are masked from ‘package:stats’:\n",
      "\n",
      "    filter, lag\n",
      "\n",
      "The following objects are masked from ‘package:base’:\n",
      "\n",
      "    intersect, setdiff, setequal, union\n",
      "\n"
     ]
    },
    {
     "name": "stdout",
     "output_type": "stream",
     "text": [
      "Time spent: 0.01 mins\n",
      "0\n",
      "Normalizing data\n",
      "Normalizing data\n",
      "Adding noise: 0.8\n",
      "average precision vs geff:  0.14980542084723\n",
      "mask is bigger than grn! Check if RNA trimming was performed.\n",
      "average precision vs beta:  0.16414239331072084\n",
      "Trimming RNA.\n",
      "p: 0.9\n",
      "Generating the GRN...\n"
     ]
    },
    {
     "name": "stderr",
     "output_type": "stream",
     "text": [
      "\n",
      "Attaching package: ‘dplyr’\n",
      "\n",
      "The following objects are masked from ‘package:stats’:\n",
      "\n",
      "    filter, lag\n",
      "\n",
      "The following objects are masked from ‘package:base’:\n",
      "\n",
      "    intersect, setdiff, setequal, union\n",
      "\n"
     ]
    },
    {
     "name": "stdout",
     "output_type": "stream",
     "text": [
      "Time spent: 0.01 mins\n",
      "0\n",
      "Normalizing data\n",
      "Normalizing data\n",
      "Adding noise: 0.9\n",
      "average precision vs geff:  0.1461253015405361\n",
      "mask is bigger than grn! Check if RNA trimming was performed.\n",
      "average precision vs beta:  0.15208446463433362\n",
      "Trimming RNA.\n",
      "Generating the GRN...\n"
     ]
    },
    {
     "name": "stderr",
     "output_type": "stream",
     "text": [
      "\n",
      "Attaching package: ‘dplyr’\n",
      "\n",
      "The following objects are masked from ‘package:stats’:\n",
      "\n",
      "    filter, lag\n",
      "\n",
      "The following objects are masked from ‘package:base’:\n",
      "\n",
      "    intersect, setdiff, setequal, union\n",
      "\n"
     ]
    },
    {
     "name": "stdout",
     "output_type": "stream",
     "text": [
      "Time spent: 0.01 mins\n",
      "0\n",
      "Normalizing data\n",
      "Normalizing data\n",
      "Adding noise: 0.9\n",
      "average precision vs geff:  0.2876908375072818\n",
      "mask is bigger than grn! Check if RNA trimming was performed.\n",
      "average precision vs beta:  0.3183368274235822\n",
      "Trimming RNA.\n",
      "p: 1.0\n",
      "Generating the GRN...\n"
     ]
    },
    {
     "name": "stderr",
     "output_type": "stream",
     "text": [
      "\n",
      "Attaching package: ‘dplyr’\n",
      "\n",
      "The following objects are masked from ‘package:stats’:\n",
      "\n",
      "    filter, lag\n",
      "\n",
      "The following objects are masked from ‘package:base’:\n",
      "\n",
      "    intersect, setdiff, setequal, union\n",
      "\n"
     ]
    },
    {
     "name": "stdout",
     "output_type": "stream",
     "text": [
      "Time spent: 0.01 mins\n",
      "0\n",
      "Normalizing data\n",
      "Normalizing data\n",
      "Adding noise: 1.0\n",
      "average precision vs geff:  0.17605746439574274\n",
      "mask is bigger than grn! Check if RNA trimming was performed.\n",
      "average precision vs beta:  0.2094332720433001\n",
      "Trimming RNA.\n",
      "Generating the GRN...\n"
     ]
    },
    {
     "name": "stderr",
     "output_type": "stream",
     "text": [
      "\n",
      "Attaching package: ‘dplyr’\n",
      "\n",
      "The following objects are masked from ‘package:stats’:\n",
      "\n",
      "    filter, lag\n",
      "\n",
      "The following objects are masked from ‘package:base’:\n",
      "\n",
      "    intersect, setdiff, setequal, union\n",
      "\n"
     ]
    },
    {
     "name": "stdout",
     "output_type": "stream",
     "text": [
      "Time spent: 0.01 mins\n",
      "0\n",
      "Normalizing data\n",
      "Normalizing data\n",
      "Adding noise: 1.0\n",
      "average precision vs geff:  0.31560717567003493\n",
      "mask is bigger than grn! Check if RNA trimming was performed.\n",
      "average precision vs beta:  0.3222163092472635\n",
      "Trimming RNA.\n"
     ]
    }
   ],
   "source": [
    "# increase noise on the region matrices\n",
    "repeats = 5\n",
    "step = 0.1\n",
    "max = 1.1\n",
    "rev_results = np.empty((int(max/step), len(rev_parameters.values()), repeats))\n",
    "for_results = np.empty((int(max/step), len(for_parameters.values()), repeats))\n",
    "for r in range(repeats):\n",
    "    print(f\"r: {r}\")\n",
    "    for n, p in enumerate(np.arange(0,max, step)):\n",
    "        print(f\"p: {p}\")\n",
    "        config.update({\"noise_p\":p})\n",
    "        data, mask, full_rna, gt_interv, sim_regime, beta = generate_data(\n",
    "            **config)\n",
    "        \n",
    "        grn = data.pop(\"geff\")\n",
    "        base_prec = get_precision(grn, get_mask2(**data, **rev_parameters))\n",
    "        params, max_prec= rev_select(data=data.copy(),\n",
    "                                     _parameters=rev_parameters.copy(),\n",
    "                                     eval=lambda x:get_precision(grn=grn,\n",
    "                                                                 beta=x)\n",
    "                                    )\n",
    "        \n",
    "        del params[\"percentile\"]\n",
    "        del params[\"corr_threshold_percentile\"]\n",
    "        \n",
    "        rev_results[n,:, r] = np.append([max_prec, base_prec],\n",
    "                                        list(params.values()))\n",
    "        \n",
    "\n",
    "        data, mask, full_rna, gt_interv, sim_regime, beta = generate_data(\n",
    "            **config)\n",
    "        grn = data.pop(\"geff\")\n",
    "        base_prec = get_precision(grn, get_mask2(**data, **for_parameters))\n",
    "        params, max_prec= for_select(data=data.copy(),\n",
    "                                     _parameters=for_parameters.copy(),\n",
    "                                     eval=lambda x:get_precision(grn=grn,\n",
    "                                                                 beta=x)\n",
    "                                    )\n",
    "        \n",
    "        del params[\"percentile\"]\n",
    "        del params[\"corr_threshold_percentile\"]\n",
    "        #print(max_prec)\n",
    "        #print(base_prec)\n",
    "        for_results[n,:, r] = np.append([max_prec, base_prec],\n",
    "                                        list(params.values()))"
   ]
  },
  {
   "cell_type": "code",
   "execution_count": 15,
   "id": "ce4b2f5e",
   "metadata": {},
   "outputs": [
    {
     "name": "stdout",
     "output_type": "stream",
     "text": [
      "Saving!\n"
     ]
    },
    {
     "data": {
      "image/png": "[encoded data removed]",
      "text/plain": [
       "<Figure size 1000x500 with 4 Axes>"
      ]
     },
     "metadata": {},
     "output_type": "display_data"
    }
   ],
   "source": [
    "plt.rcParams[\"figure.figsize\"] = (10, 5)\n",
    "plt.rcParams[\"font.family\"] = \"Times New Roman\"\n",
    "labels = [\"threshold\",\n",
    "    #\"percentile\",\n",
    "    \"correlation\",\n",
    "    \"corr_normalize\",\n",
    "    \"corr_threshold\",\n",
    "    #\"corr_threshold_percentile\",\n",
    "    \"pseudocounts\"]\n",
    "plt.subplot(2,2,1)\n",
    "plt.bar(np.arange(0,max,step),np.mean(rev_results[:,0], axis=1),\n",
    "    yerr=np.std(rev_results[:,0], axis=1),\n",
    "    color=\"g\",\n",
    "    label = \"optimized precision\", width=0.05)\n",
    "plt.bar(np.arange(0,max,step),np.mean(rev_results[:,1], axis=1),\n",
    "    yerr=np.std(rev_results[:,1], axis=1),\n",
    "    color=\"r\",\n",
    "    label = \"baseline precision\", alpha=0.4, width=0.05)\n",
    "plt.title(f\"reverse selection\")\n",
    "plt.legend()\n",
    "plt.xlabel(\"Salt and Pepper Noise [%]\")\n",
    "plt.ylabel(\"Average Precision\")\n",
    "plt.subplot(2,2,2)\n",
    "plt.bar(np.arange(0,max,step),np.mean(for_results[:,0], axis=1),\n",
    "    yerr=np.std(for_results[:,0], axis=1),\n",
    "    color=\"g\",\n",
    "    label = \"optimized precision\", width=0.05)\n",
    "plt.bar(np.arange(0,max,step),np.mean(for_results[:,1], axis=1),\n",
    "    yerr=np.std(for_results[:,1], axis=1),\n",
    "    color=\"r\",\n",
    "    label = \"baseline precision\", alpha=0.4, width=0.05)\n",
    "plt.title(f\"forward selection\")\n",
    "plt.legend()\n",
    "plt.xlabel(\"Salt and Pepper Noise [%]\")\n",
    "plt.ylabel(\"Average Precision\")\n",
    "\n",
    "plt.subplot(2,2,3)\n",
    "\n",
    "#[rev_results[]for n in range(rev_results.shape[-1])]\n",
    "\n",
    "rev_precision = np.mean(rev_results[:,0], axis=1)\n",
    "rev_results_mean = np.mean(rev_results[:,2:], 2)\n",
    "rev_weighted_results =rev_results_mean* rev_precision.repeat(rev_results_mean.shape[1]).reshape(rev_results_mean.shape)\n",
    "\n",
    "plt.imshow(rev_weighted_results.T, aspect=\"auto\", interpolation=\"nearest\")\n",
    "ticks, _ = plt.yticks()\n",
    "\n",
    "plt.yticks(ticks[1:-1], labels)\n",
    "plt.xticks(ticks = np.arange(0,11, 1).astype(int),labels = np.arange(0, max, step).round(2))\n",
    "plt.xlabel(\"Salt and Pepper Noise [%]\")\n",
    "plt.ylabel(\"Parameters\")\n",
    "plt.subplot(2,2,4)\n",
    "\n",
    "for_precision = np.mean(for_results[:,0], axis=1)\n",
    "for_results_mean = np.mean(for_results[:,2:], 2)\n",
    "\n",
    "for_weighted_results =for_results_mean* for_precision.repeat(for_results_mean.shape[1]).reshape(for_results_mean.shape)\n",
    "\n",
    "plt.imshow(for_weighted_results.T, aspect=\"auto\", interpolation=\"nearest\")\n",
    "plt.xticks(ticks = np.arange(0,11, 1).astype(int),labels = np.arange(0, max, step).round(2))\n",
    "plt.xlabel(\"Salt and Pepper Noise [%]\")\n",
    "plt.tight_layout()\n",
    "plt.rcParams[\"figure.figsize\"] = (5, 5)\n",
    "\n",
    "if save:\n",
    "    print(\"Saving!\")\n",
    "    plt.savefig(\"./presentation/masksel_params_tableau.pdf\")"
   ]
  },
  {
   "cell_type": "code",
   "execution_count": 8,
   "id": "22c9a35f",
   "metadata": {},
   "outputs": [
    {
     "name": "stdout",
     "output_type": "stream",
     "text": [
      "Repeat: 0\n",
      "Noise: 0.0\n",
      "Generating the GRN...\n"
     ]
    },
    {
     "name": "stderr",
     "output_type": "stream",
     "text": [
      "\n",
      "Attaching package: ‘dplyr’\n",
      "\n",
      "The following objects are masked from ‘package:stats’:\n",
      "\n",
      "    filter, lag\n",
      "\n",
      "The following objects are masked from ‘package:base’:\n",
      "\n",
      "    intersect, setdiff, setequal, union\n",
      "\n"
     ]
    },
    {
     "name": "stdout",
     "output_type": "stream",
     "text": [
      "Time spent: 0.01 mins\n",
      "0\n",
      "Normalizing data\n",
      "Normalizing data\n",
      "Adding noise: 0.0\n",
      "average precision vs geff:  0.2523021885521885\n",
      "mask is bigger than grn! Check if RNA trimming was performed.\n",
      "average precision vs beta:  0.25659611992945325\n",
      "Trimming RNA.\n",
      "Baseline Precision: 0.1604040404040404\n",
      "Optimized Precision: 0.1604040404040404\n",
      "Generating the GRN...\n"
     ]
    },
    {
     "name": "stderr",
     "output_type": "stream",
     "text": [
      "\n",
      "Attaching package: ‘dplyr’\n",
      "\n",
      "The following objects are masked from ‘package:stats’:\n",
      "\n",
      "    filter, lag\n",
      "\n",
      "The following objects are masked from ‘package:base’:\n",
      "\n",
      "    intersect, setdiff, setequal, union\n",
      "\n"
     ]
    },
    {
     "name": "stdout",
     "output_type": "stream",
     "text": [
      "Time spent: 0.01 mins\n",
      "0\n",
      "Normalizing data\n",
      "Normalizing data\n",
      "Adding noise: 0.0\n",
      "average precision vs geff:  0.2346176046176046\n",
      "mask is bigger than grn! Check if RNA trimming was performed.\n",
      "average precision vs beta:  0.24354497354497356\n",
      "Trimming RNA.\n",
      "Baseline Precision: 0.1900865800865801\n",
      "Optimized Precision: 0.1900865800865801\n",
      "Noise: 0.1\n",
      "Generating the GRN...\n"
     ]
    },
    {
     "name": "stderr",
     "output_type": "stream",
     "text": [
      "\n",
      "Attaching package: ‘dplyr’\n",
      "\n",
      "The following objects are masked from ‘package:stats’:\n",
      "\n",
      "    filter, lag\n",
      "\n",
      "The following objects are masked from ‘package:base’:\n",
      "\n",
      "    intersect, setdiff, setequal, union\n",
      "\n"
     ]
    },
    {
     "name": "stdout",
     "output_type": "stream",
     "text": [
      "Time spent: 0.01 mins\n",
      "0\n",
      "Normalizing data\n",
      "Normalizing data\n",
      "Adding noise: 0.1\n",
      "average precision vs geff:  0.16415420346286552\n",
      "mask is bigger than grn! Check if RNA trimming was performed.\n",
      "average precision vs beta:  0.19502326744577447\n",
      "Trimming RNA.\n",
      "Baseline Precision: 0.19956709956709956\n",
      "Optimized Precision: 0.19956709956709956\n",
      "Generating the GRN...\n"
     ]
    },
    {
     "name": "stderr",
     "output_type": "stream",
     "text": [
      "\n",
      "Attaching package: ‘dplyr’\n",
      "\n",
      "The following objects are masked from ‘package:stats’:\n",
      "\n",
      "    filter, lag\n",
      "\n",
      "The following objects are masked from ‘package:base’:\n",
      "\n",
      "    intersect, setdiff, setequal, union\n",
      "\n"
     ]
    },
    {
     "name": "stdout",
     "output_type": "stream",
     "text": [
      "Time spent: 0.01 mins\n",
      "0\n",
      "Normalizing data\n",
      "Normalizing data\n",
      "Adding noise: 0.1\n",
      "average precision vs geff:  0.21456476169088023\n",
      "mask is bigger than grn! Check if RNA trimming was performed.\n",
      "average precision vs beta:  0.2177443726352929\n",
      "Trimming RNA.\n",
      "Baseline Precision: 0.16363636363636364\n",
      "Optimized Precision: 0.16363636363636364\n",
      "Noise: 0.2\n",
      "Generating the GRN...\n"
     ]
    },
    {
     "name": "stderr",
     "output_type": "stream",
     "text": [
      "\n",
      "Attaching package: ‘dplyr’\n",
      "\n",
      "The following objects are masked from ‘package:stats’:\n",
      "\n",
      "    filter, lag\n",
      "\n",
      "The following objects are masked from ‘package:base’:\n",
      "\n",
      "    intersect, setdiff, setequal, union\n",
      "\n"
     ]
    },
    {
     "name": "stdout",
     "output_type": "stream",
     "text": [
      "Time spent: 0.01 mins\n",
      "0\n",
      "Normalizing data\n",
      "Normalizing data\n",
      "Adding noise: 0.2\n",
      "average precision vs geff:  0.12288487547640681\n",
      "mask is bigger than grn! Check if RNA trimming was performed.\n",
      "average precision vs beta:  0.181692099860397\n",
      "Trimming RNA.\n",
      "Baseline Precision: 0.11818181818181818\n",
      "Optimized Precision: 0.11818181818181818\n",
      "Generating the GRN...\n"
     ]
    },
    {
     "name": "stderr",
     "output_type": "stream",
     "text": [
      "\n",
      "Attaching package: ‘dplyr’\n",
      "\n",
      "The following objects are masked from ‘package:stats’:\n",
      "\n",
      "    filter, lag\n",
      "\n",
      "The following objects are masked from ‘package:base’:\n",
      "\n",
      "    intersect, setdiff, setequal, union\n",
      "\n"
     ]
    },
    {
     "name": "stdout",
     "output_type": "stream",
     "text": [
      "Time spent: 0.01 mins\n",
      "0\n",
      "Normalizing data\n",
      "Normalizing data\n",
      "Adding noise: 0.2\n",
      "average precision vs geff:  0.1710450318215922\n",
      "mask is bigger than grn! Check if RNA trimming was performed.\n",
      "average precision vs beta:  0.18351726390544196\n",
      "Trimming RNA.\n",
      "Baseline Precision: 0.1497159090909091\n",
      "Optimized Precision: 0.1497159090909091\n",
      "Noise: 0.30000000000000004\n",
      "Generating the GRN...\n"
     ]
    },
    {
     "name": "stderr",
     "output_type": "stream",
     "text": [
      "\n",
      "Attaching package: ‘dplyr’\n",
      "\n",
      "The following objects are masked from ‘package:stats’:\n",
      "\n",
      "    filter, lag\n",
      "\n",
      "The following objects are masked from ‘package:base’:\n",
      "\n",
      "    intersect, setdiff, setequal, union\n",
      "\n"
     ]
    },
    {
     "name": "stdout",
     "output_type": "stream",
     "text": [
      "Time spent: 0.01 mins\n",
      "0\n",
      "Normalizing data\n",
      "Normalizing data\n",
      "Adding noise: 0.30000000000000004\n",
      "average precision vs geff:  0.18825494809243137\n",
      "mask is bigger than grn! Check if RNA trimming was performed.\n",
      "average precision vs beta:  0.2356526625613105\n",
      "Trimming RNA.\n",
      "Baseline Precision: 0.19136363636363637\n",
      "Optimized Precision: 0.19136363636363637\n",
      "Generating the GRN...\n"
     ]
    },
    {
     "name": "stderr",
     "output_type": "stream",
     "text": [
      "\n",
      "Attaching package: ‘dplyr’\n",
      "\n",
      "The following objects are masked from ‘package:stats’:\n",
      "\n",
      "    filter, lag\n",
      "\n",
      "The following objects are masked from ‘package:base’:\n",
      "\n",
      "    intersect, setdiff, setequal, union\n",
      "\n"
     ]
    },
    {
     "name": "stdout",
     "output_type": "stream",
     "text": [
      "Time spent: 0.01 mins\n",
      "0\n",
      "Normalizing data\n",
      "Normalizing data\n",
      "Adding noise: 0.30000000000000004\n",
      "average precision vs geff:  0.2597835158600403\n",
      "mask is bigger than grn! Check if RNA trimming was performed.\n",
      "average precision vs beta:  0.2615330119547745\n",
      "Trimming RNA.\n",
      "Baseline Precision: 0.16363636363636364\n",
      "Optimized Precision: 0.16363636363636364\n",
      "Noise: 0.4\n",
      "Generating the GRN...\n"
     ]
    },
    {
     "name": "stderr",
     "output_type": "stream",
     "text": [
      "\n",
      "Attaching package: ‘dplyr’\n",
      "\n",
      "The following objects are masked from ‘package:stats’:\n",
      "\n",
      "    filter, lag\n",
      "\n",
      "The following objects are masked from ‘package:base’:\n",
      "\n",
      "    intersect, setdiff, setequal, union\n",
      "\n"
     ]
    },
    {
     "name": "stdout",
     "output_type": "stream",
     "text": [
      "Time spent: 0.01 mins\n",
      "0\n",
      "Normalizing data\n",
      "Normalizing data\n",
      "Adding noise: 0.4\n",
      "average precision vs geff:  0.21767821839871027\n",
      "mask is bigger than grn! Check if RNA trimming was performed.\n",
      "average precision vs beta:  0.2355816999621968\n",
      "Trimming RNA.\n",
      "Baseline Precision: 0.2\n",
      "Optimized Precision: 0.2\n",
      "Generating the GRN...\n"
     ]
    },
    {
     "name": "stderr",
     "output_type": "stream",
     "text": [
      "\n",
      "Attaching package: ‘dplyr’\n",
      "\n",
      "The following objects are masked from ‘package:stats’:\n",
      "\n",
      "    filter, lag\n",
      "\n",
      "The following objects are masked from ‘package:base’:\n",
      "\n",
      "    intersect, setdiff, setequal, union\n",
      "\n"
     ]
    },
    {
     "name": "stdout",
     "output_type": "stream",
     "text": [
      "Time spent: 0.01 mins\n",
      "0\n",
      "Normalizing data\n",
      "Normalizing data\n",
      "Adding noise: 0.4\n",
      "average precision vs geff:  0.19332198826336566\n",
      "mask is bigger than grn! Check if RNA trimming was performed.\n",
      "average precision vs beta:  0.21181364609729608\n",
      "Trimming RNA.\n",
      "Baseline Precision: 0.22978181818181817\n",
      "Optimized Precision: 0.22978181818181817\n",
      "Noise: 0.5\n",
      "Generating the GRN...\n"
     ]
    },
    {
     "name": "stderr",
     "output_type": "stream",
     "text": [
      "\n",
      "Attaching package: ‘dplyr’\n",
      "\n",
      "The following objects are masked from ‘package:stats’:\n",
      "\n",
      "    filter, lag\n",
      "\n",
      "The following objects are masked from ‘package:base’:\n",
      "\n",
      "    intersect, setdiff, setequal, union\n",
      "\n"
     ]
    },
    {
     "name": "stdout",
     "output_type": "stream",
     "text": [
      "Time spent: 0.01 mins\n",
      "0\n",
      "Normalizing data\n",
      "Normalizing data\n",
      "Adding noise: 0.5\n",
      "average precision vs geff:  0.17874085444844406\n",
      "mask is bigger than grn! Check if RNA trimming was performed.\n",
      "average precision vs beta:  0.1792417107244098\n",
      "Trimming RNA.\n",
      "Baseline Precision: 0.14545454545454545\n",
      "Optimized Precision: 0.14545454545454545\n",
      "Generating the GRN...\n"
     ]
    },
    {
     "name": "stderr",
     "output_type": "stream",
     "text": [
      "\n",
      "Attaching package: ‘dplyr’\n",
      "\n",
      "The following objects are masked from ‘package:stats’:\n",
      "\n",
      "    filter, lag\n",
      "\n",
      "The following objects are masked from ‘package:base’:\n",
      "\n",
      "    intersect, setdiff, setequal, union\n",
      "\n"
     ]
    },
    {
     "name": "stdout",
     "output_type": "stream",
     "text": [
      "Time spent: 0.01 mins\n",
      "0\n",
      "Normalizing data\n",
      "Normalizing data\n",
      "Adding noise: 0.5\n",
      "average precision vs geff:  0.1660705275053752\n",
      "mask is bigger than grn! Check if RNA trimming was performed.\n",
      "average precision vs beta:  0.18828306091960553\n",
      "Trimming RNA.\n",
      "Baseline Precision: 0.14545454545454545\n",
      "Optimized Precision: 0.14545454545454545\n",
      "Noise: 0.6000000000000001\n",
      "Generating the GRN...\n"
     ]
    },
    {
     "name": "stderr",
     "output_type": "stream",
     "text": [
      "\n",
      "Attaching package: ‘dplyr’\n",
      "\n",
      "The following objects are masked from ‘package:stats’:\n",
      "\n",
      "    filter, lag\n",
      "\n",
      "The following objects are masked from ‘package:base’:\n",
      "\n",
      "    intersect, setdiff, setequal, union\n",
      "\n"
     ]
    },
    {
     "name": "stdout",
     "output_type": "stream",
     "text": [
      "Time spent: 0.01 mins\n",
      "0\n",
      "Normalizing data\n",
      "Normalizing data\n",
      "Adding noise: 0.6000000000000001\n",
      "average precision vs geff:  0.12129141487702097\n",
      "mask is bigger than grn! Check if RNA trimming was performed.\n",
      "average precision vs beta:  0.13202115420455965\n",
      "Trimming RNA.\n",
      "Baseline Precision: 0.14545454545454545\n",
      "Optimized Precision: 0.14545454545454545\n",
      "Generating the GRN...\n"
     ]
    },
    {
     "name": "stderr",
     "output_type": "stream",
     "text": [
      "\n",
      "Attaching package: ‘dplyr’\n",
      "\n",
      "The following objects are masked from ‘package:stats’:\n",
      "\n",
      "    filter, lag\n",
      "\n",
      "The following objects are masked from ‘package:base’:\n",
      "\n",
      "    intersect, setdiff, setequal, union\n",
      "\n"
     ]
    },
    {
     "name": "stdout",
     "output_type": "stream",
     "text": [
      "Time spent: 0.01 mins\n",
      "0\n",
      "Normalizing data\n",
      "Normalizing data\n",
      "Adding noise: 0.6000000000000001\n",
      "average precision vs geff:  0.19632274932613464\n",
      "mask is bigger than grn! Check if RNA trimming was performed.\n",
      "average precision vs beta:  0.19895680243372182\n",
      "Trimming RNA.\n",
      "Baseline Precision: 0.1\n",
      "Optimized Precision: 0.1\n",
      "Noise: 0.7000000000000001\n",
      "Generating the GRN...\n"
     ]
    },
    {
     "name": "stderr",
     "output_type": "stream",
     "text": [
      "\n",
      "Attaching package: ‘dplyr’\n",
      "\n",
      "The following objects are masked from ‘package:stats’:\n",
      "\n",
      "    filter, lag\n",
      "\n",
      "The following objects are masked from ‘package:base’:\n",
      "\n",
      "    intersect, setdiff, setequal, union\n",
      "\n"
     ]
    },
    {
     "name": "stdout",
     "output_type": "stream",
     "text": [
      "Time spent: 0.01 mins\n",
      "0\n",
      "Normalizing data\n",
      "Normalizing data\n",
      "Adding noise: 0.7000000000000001\n",
      "average precision vs geff:  0.22648295474981378\n",
      "mask is bigger than grn! Check if RNA trimming was performed.\n",
      "average precision vs beta:  0.252414861893353\n",
      "Trimming RNA.\n",
      "Baseline Precision: 0.15454545454545454\n",
      "Optimized Precision: 0.15454545454545454\n",
      "Generating the GRN...\n"
     ]
    },
    {
     "name": "stderr",
     "output_type": "stream",
     "text": [
      "\n",
      "Attaching package: ‘dplyr’\n",
      "\n",
      "The following objects are masked from ‘package:stats’:\n",
      "\n",
      "    filter, lag\n",
      "\n",
      "The following objects are masked from ‘package:base’:\n",
      "\n",
      "    intersect, setdiff, setequal, union\n",
      "\n"
     ]
    },
    {
     "name": "stdout",
     "output_type": "stream",
     "text": [
      "Time spent: 0.01 mins\n",
      "0\n",
      "Normalizing data\n",
      "Normalizing data\n",
      "Adding noise: 0.7000000000000001\n",
      "average precision vs geff:  0.1772413135973595\n",
      "mask is bigger than grn! Check if RNA trimming was performed.\n",
      "average precision vs beta:  0.18915481101538487\n",
      "Trimming RNA.\n",
      "Baseline Precision: 0.2\n",
      "Optimized Precision: 0.2\n",
      "Noise: 0.8\n",
      "Generating the GRN...\n"
     ]
    },
    {
     "name": "stderr",
     "output_type": "stream",
     "text": [
      "\n",
      "Attaching package: ‘dplyr’\n",
      "\n",
      "The following objects are masked from ‘package:stats’:\n",
      "\n",
      "    filter, lag\n",
      "\n",
      "The following objects are masked from ‘package:base’:\n",
      "\n",
      "    intersect, setdiff, setequal, union\n",
      "\n"
     ]
    },
    {
     "name": "stdout",
     "output_type": "stream",
     "text": [
      "Time spent: 0.01 mins\n",
      "0\n",
      "Normalizing data\n",
      "Normalizing data\n",
      "Adding noise: 0.8\n",
      "average precision vs geff:  0.16082861465234483\n",
      "mask is bigger than grn! Check if RNA trimming was performed.\n",
      "average precision vs beta:  0.18055115949389494\n",
      "Trimming RNA.\n",
      "Baseline Precision: 0.17272727272727273\n",
      "Optimized Precision: 0.17272727272727273\n",
      "Generating the GRN...\n"
     ]
    },
    {
     "name": "stderr",
     "output_type": "stream",
     "text": [
      "\n",
      "Attaching package: ‘dplyr’\n",
      "\n",
      "The following objects are masked from ‘package:stats’:\n",
      "\n",
      "    filter, lag\n",
      "\n",
      "The following objects are masked from ‘package:base’:\n",
      "\n",
      "    intersect, setdiff, setequal, union\n",
      "\n"
     ]
    },
    {
     "name": "stdout",
     "output_type": "stream",
     "text": [
      "Time spent: 0.01 mins\n",
      "0\n",
      "Normalizing data\n",
      "Normalizing data\n",
      "Adding noise: 0.8\n",
      "average precision vs geff:  0.16359456117313395\n",
      "mask is bigger than grn! Check if RNA trimming was performed.\n",
      "average precision vs beta:  0.1739155452746997\n",
      "Trimming RNA.\n",
      "Baseline Precision: 0.12727272727272726\n",
      "Optimized Precision: 0.12727272727272726\n",
      "Noise: 0.9\n",
      "Generating the GRN...\n"
     ]
    },
    {
     "name": "stderr",
     "output_type": "stream",
     "text": [
      "\n",
      "Attaching package: ‘dplyr’\n",
      "\n",
      "The following objects are masked from ‘package:stats’:\n",
      "\n",
      "    filter, lag\n",
      "\n",
      "The following objects are masked from ‘package:base’:\n",
      "\n",
      "    intersect, setdiff, setequal, union\n",
      "\n"
     ]
    },
    {
     "name": "stdout",
     "output_type": "stream",
     "text": [
      "Time spent: 0.01 mins\n",
      "0\n",
      "Normalizing data\n",
      "Normalizing data\n",
      "Adding noise: 0.9\n",
      "average precision vs geff:  0.2119971789506742\n",
      "mask is bigger than grn! Check if RNA trimming was performed.\n",
      "average precision vs beta:  0.22557968491520386\n",
      "Trimming RNA.\n",
      "Baseline Precision: 0.16363636363636364\n",
      "Optimized Precision: 0.16363636363636364\n",
      "Generating the GRN...\n"
     ]
    },
    {
     "name": "stderr",
     "output_type": "stream",
     "text": [
      "\n",
      "Attaching package: ‘dplyr’\n",
      "\n",
      "The following objects are masked from ‘package:stats’:\n",
      "\n",
      "    filter, lag\n",
      "\n",
      "The following objects are masked from ‘package:base’:\n",
      "\n",
      "    intersect, setdiff, setequal, union\n",
      "\n"
     ]
    },
    {
     "name": "stdout",
     "output_type": "stream",
     "text": [
      "Time spent: 0.01 mins\n",
      "0\n",
      "Normalizing data\n",
      "Normalizing data\n",
      "Adding noise: 0.9\n",
      "average precision vs geff:  0.30503981501908733\n",
      "mask is bigger than grn! Check if RNA trimming was performed.\n",
      "average precision vs beta:  0.3105739841339351\n",
      "Trimming RNA.\n",
      "Baseline Precision: 0.14545454545454545\n",
      "Optimized Precision: 0.14545454545454545\n",
      "Noise: 1.0\n",
      "Generating the GRN...\n"
     ]
    },
    {
     "name": "stderr",
     "output_type": "stream",
     "text": [
      "\n",
      "Attaching package: ‘dplyr’\n",
      "\n",
      "The following objects are masked from ‘package:stats’:\n",
      "\n",
      "    filter, lag\n",
      "\n",
      "The following objects are masked from ‘package:base’:\n",
      "\n",
      "    intersect, setdiff, setequal, union\n",
      "\n"
     ]
    },
    {
     "name": "stdout",
     "output_type": "stream",
     "text": [
      "Time spent: 0.01 mins\n",
      "0\n",
      "Normalizing data\n",
      "Normalizing data\n",
      "Adding noise: 1.0\n",
      "average precision vs geff:  0.2170999264620198\n",
      "mask is bigger than grn! Check if RNA trimming was performed.\n",
      "average precision vs beta:  0.21840347728099185\n",
      "Trimming RNA.\n",
      "Baseline Precision: 0.15454545454545454\n",
      "Optimized Precision: 0.15454545454545454\n",
      "Generating the GRN...\n"
     ]
    },
    {
     "name": "stderr",
     "output_type": "stream",
     "text": [
      "\n",
      "Attaching package: ‘dplyr’\n",
      "\n",
      "The following objects are masked from ‘package:stats’:\n",
      "\n",
      "    filter, lag\n",
      "\n",
      "The following objects are masked from ‘package:base’:\n",
      "\n",
      "    intersect, setdiff, setequal, union\n",
      "\n"
     ]
    },
    {
     "name": "stdout",
     "output_type": "stream",
     "text": [
      "Time spent: 0.01 mins\n",
      "0\n",
      "Normalizing data\n",
      "Normalizing data\n",
      "Adding noise: 1.0\n",
      "average precision vs geff:  0.17293600744225582\n",
      "mask is bigger than grn! Check if RNA trimming was performed.\n",
      "average precision vs beta:  0.18290354760487834\n",
      "Trimming RNA.\n",
      "Baseline Precision: 0.14545454545454545\n",
      "Optimized Precision: 0.14545454545454545\n",
      "Repeat: 1\n",
      "Noise: 0.0\n",
      "Generating the GRN...\n"
     ]
    },
    {
     "name": "stderr",
     "output_type": "stream",
     "text": [
      "\n",
      "Attaching package: ‘dplyr’\n",
      "\n",
      "The following objects are masked from ‘package:stats’:\n",
      "\n",
      "    filter, lag\n",
      "\n",
      "The following objects are masked from ‘package:base’:\n",
      "\n",
      "    intersect, setdiff, setequal, union\n",
      "\n"
     ]
    },
    {
     "name": "stdout",
     "output_type": "stream",
     "text": [
      "Time spent: 0.01 mins\n",
      "0\n",
      "Normalizing data\n",
      "Normalizing data\n",
      "Adding noise: 0.0\n",
      "average precision vs geff:  0.25608877233877236\n",
      "mask is bigger than grn! Check if RNA trimming was performed.\n",
      "average precision vs beta:  0.2657051282051282\n",
      "Trimming RNA.\n",
      "Baseline Precision: 0.2225174825174825\n",
      "Optimized Precision: 0.2225174825174825\n",
      "Generating the GRN...\n"
     ]
    },
    {
     "name": "stderr",
     "output_type": "stream",
     "text": [
      "\n",
      "Attaching package: ‘dplyr’\n",
      "\n",
      "The following objects are masked from ‘package:stats’:\n",
      "\n",
      "    filter, lag\n",
      "\n",
      "The following objects are masked from ‘package:base’:\n",
      "\n",
      "    intersect, setdiff, setequal, union\n",
      "\n"
     ]
    },
    {
     "name": "stdout",
     "output_type": "stream",
     "text": [
      "Time spent: 0.01 mins\n",
      "0\n",
      "Normalizing data\n",
      "Normalizing data\n",
      "Adding noise: 0.0\n",
      "average precision vs geff:  0.2897853535353535\n",
      "mask is bigger than grn! Check if RNA trimming was performed.\n",
      "average precision vs beta:  0.29780919312169307\n",
      "Trimming RNA.\n",
      "Baseline Precision: 0.22950757575757577\n",
      "Optimized Precision: 0.22950757575757577\n",
      "Noise: 0.1\n",
      "Generating the GRN...\n"
     ]
    },
    {
     "name": "stderr",
     "output_type": "stream",
     "text": [
      "\n",
      "Attaching package: ‘dplyr’\n",
      "\n",
      "The following objects are masked from ‘package:stats’:\n",
      "\n",
      "    filter, lag\n",
      "\n",
      "The following objects are masked from ‘package:base’:\n",
      "\n",
      "    intersect, setdiff, setequal, union\n",
      "\n"
     ]
    },
    {
     "name": "stdout",
     "output_type": "stream",
     "text": [
      "Time spent: 0.02 mins\n",
      "0\n",
      "Normalizing data\n",
      "Normalizing data\n",
      "Adding noise: 0.1\n",
      "average precision vs geff:  0.2837656769486834\n",
      "mask is bigger than grn! Check if RNA trimming was performed.\n",
      "average precision vs beta:  0.2855599286222204\n",
      "Trimming RNA.\n",
      "Baseline Precision: 0.19090909090909092\n",
      "Optimized Precision: 0.19090909090909092\n",
      "Generating the GRN...\n"
     ]
    },
    {
     "name": "stderr",
     "output_type": "stream",
     "text": [
      "\n",
      "Attaching package: ‘dplyr’\n",
      "\n",
      "The following objects are masked from ‘package:stats’:\n",
      "\n",
      "    filter, lag\n",
      "\n",
      "The following objects are masked from ‘package:base’:\n",
      "\n",
      "    intersect, setdiff, setequal, union\n",
      "\n"
     ]
    },
    {
     "name": "stdout",
     "output_type": "stream",
     "text": [
      "Time spent: 0.01 mins\n",
      "0\n",
      "Normalizing data\n",
      "Normalizing data\n",
      "Adding noise: 0.1\n",
      "average precision vs geff:  0.26924866312561163\n",
      "mask is bigger than grn! Check if RNA trimming was performed.\n",
      "average precision vs beta:  0.272710612621035\n",
      "Trimming RNA.\n",
      "Baseline Precision: 0.19956709956709956\n",
      "Optimized Precision: 0.19956709956709956\n",
      "Noise: 0.2\n",
      "Generating the GRN...\n"
     ]
    },
    {
     "name": "stderr",
     "output_type": "stream",
     "text": [
      "\n",
      "Attaching package: ‘dplyr’\n",
      "\n",
      "The following objects are masked from ‘package:stats’:\n",
      "\n",
      "    filter, lag\n",
      "\n",
      "The following objects are masked from ‘package:base’:\n",
      "\n",
      "    intersect, setdiff, setequal, union\n",
      "\n"
     ]
    },
    {
     "name": "stdout",
     "output_type": "stream",
     "text": [
      "Time spent: 0.01 mins\n",
      "0\n",
      "Normalizing data\n",
      "Normalizing data\n",
      "Adding noise: 0.2\n",
      "average precision vs geff:  0.2144123698349256\n",
      "mask is bigger than grn! Check if RNA trimming was performed.\n",
      "average precision vs beta:  0.21532146074401648\n",
      "Trimming RNA.\n",
      "Baseline Precision: 0.15429292929292932\n",
      "Optimized Precision: 0.15429292929292932\n",
      "Generating the GRN...\n"
     ]
    },
    {
     "name": "stderr",
     "output_type": "stream",
     "text": [
      "\n",
      "Attaching package: ‘dplyr’\n",
      "\n",
      "The following objects are masked from ‘package:stats’:\n",
      "\n",
      "    filter, lag\n",
      "\n",
      "The following objects are masked from ‘package:base’:\n",
      "\n",
      "    intersect, setdiff, setequal, union\n",
      "\n"
     ]
    },
    {
     "name": "stdout",
     "output_type": "stream",
     "text": [
      "Time spent: 0.01 mins\n",
      "0\n",
      "Normalizing data\n",
      "Normalizing data\n",
      "Adding noise: 0.2\n",
      "average precision vs geff:  0.1641874008185672\n",
      "mask is bigger than grn! Check if RNA trimming was performed.\n",
      "average precision vs beta:  0.19925857712332795\n",
      "Trimming RNA.\n",
      "Baseline Precision: 0.18155844155844156\n",
      "Optimized Precision: 0.18155844155844156\n",
      "Noise: 0.30000000000000004\n",
      "Generating the GRN...\n"
     ]
    },
    {
     "name": "stderr",
     "output_type": "stream",
     "text": [
      "\n",
      "Attaching package: ‘dplyr’\n",
      "\n",
      "The following objects are masked from ‘package:stats’:\n",
      "\n",
      "    filter, lag\n",
      "\n",
      "The following objects are masked from ‘package:base’:\n",
      "\n",
      "    intersect, setdiff, setequal, union\n",
      "\n"
     ]
    },
    {
     "name": "stdout",
     "output_type": "stream",
     "text": [
      "Time spent: 0.02 mins\n",
      "0\n",
      "Normalizing data\n",
      "Normalizing data\n",
      "Adding noise: 0.30000000000000004\n",
      "average precision vs geff:  0.18704605273828115\n",
      "mask is bigger than grn! Check if RNA trimming was performed.\n",
      "average precision vs beta:  0.1879551436473721\n",
      "Trimming RNA.\n",
      "Baseline Precision: 0.17028708133971293\n",
      "Optimized Precision: 0.17028708133971293\n",
      "Generating the GRN...\n"
     ]
    },
    {
     "name": "stderr",
     "output_type": "stream",
     "text": [
      "\n",
      "Attaching package: ‘dplyr’\n",
      "\n",
      "The following objects are masked from ‘package:stats’:\n",
      "\n",
      "    filter, lag\n",
      "\n",
      "The following objects are masked from ‘package:base’:\n",
      "\n",
      "    intersect, setdiff, setequal, union\n",
      "\n"
     ]
    },
    {
     "name": "stdout",
     "output_type": "stream",
     "text": [
      "Time spent: 0.02 mins\n",
      "0\n",
      "Normalizing data\n",
      "Normalizing data\n",
      "Adding noise: 0.30000000000000004\n",
      "average precision vs geff:  0.18360896549092287\n",
      "mask is bigger than grn! Check if RNA trimming was performed.\n",
      "average precision vs beta:  0.20647575002859608\n",
      "Trimming RNA.\n",
      "Baseline Precision: 0.20909090909090908\n",
      "Optimized Precision: 0.20909090909090908\n",
      "Noise: 0.4\n",
      "Generating the GRN...\n"
     ]
    },
    {
     "name": "stderr",
     "output_type": "stream",
     "text": [
      "\n",
      "Attaching package: ‘dplyr’\n",
      "\n",
      "The following objects are masked from ‘package:stats’:\n",
      "\n",
      "    filter, lag\n",
      "\n",
      "The following objects are masked from ‘package:base’:\n",
      "\n",
      "    intersect, setdiff, setequal, union\n",
      "\n"
     ]
    },
    {
     "name": "stdout",
     "output_type": "stream",
     "text": [
      "Time spent: 0.01 mins\n",
      "0\n",
      "Normalizing data\n",
      "Normalizing data\n",
      "Adding noise: 0.4\n",
      "average precision vs geff:  0.21938114165936892\n",
      "mask is bigger than grn! Check if RNA trimming was performed.\n",
      "average precision vs beta:  0.2284429740129428\n",
      "Trimming RNA.\n",
      "Baseline Precision: 0.19090909090909092\n",
      "Optimized Precision: 0.19090909090909092\n",
      "Generating the GRN...\n"
     ]
    },
    {
     "name": "stderr",
     "output_type": "stream",
     "text": [
      "\n",
      "Attaching package: ‘dplyr’\n",
      "\n",
      "The following objects are masked from ‘package:stats’:\n",
      "\n",
      "    filter, lag\n",
      "\n",
      "The following objects are masked from ‘package:base’:\n",
      "\n",
      "    intersect, setdiff, setequal, union\n",
      "\n"
     ]
    },
    {
     "name": "stdout",
     "output_type": "stream",
     "text": [
      "Time spent: 0.01 mins\n",
      "0\n",
      "Normalizing data\n",
      "Normalizing data\n",
      "Adding noise: 0.4\n",
      "average precision vs geff:  0.11274344912592511\n",
      "mask is bigger than grn! Check if RNA trimming was performed.\n",
      "average precision vs beta:  0.1417079561478708\n",
      "Trimming RNA.\n",
      "Baseline Precision: 0.1\n",
      "Optimized Precision: 0.1\n",
      "Noise: 0.5\n",
      "Generating the GRN...\n"
     ]
    },
    {
     "name": "stderr",
     "output_type": "stream",
     "text": [
      "\n",
      "Attaching package: ‘dplyr’\n",
      "\n",
      "The following objects are masked from ‘package:stats’:\n",
      "\n",
      "    filter, lag\n",
      "\n",
      "The following objects are masked from ‘package:base’:\n",
      "\n",
      "    intersect, setdiff, setequal, union\n",
      "\n"
     ]
    },
    {
     "name": "stdout",
     "output_type": "stream",
     "text": [
      "Time spent: 0.01 mins\n",
      "0\n",
      "Normalizing data\n",
      "Normalizing data\n",
      "Adding noise: 0.5\n",
      "average precision vs geff:  0.1872383516281885\n",
      "mask is bigger than grn! Check if RNA trimming was performed.\n",
      "average precision vs beta:  0.21706056347107053\n",
      "Trimming RNA.\n",
      "Baseline Precision: 0.18181818181818182\n",
      "Optimized Precision: 0.18181818181818182\n",
      "Generating the GRN...\n"
     ]
    },
    {
     "name": "stderr",
     "output_type": "stream",
     "text": [
      "\n",
      "Attaching package: ‘dplyr’\n",
      "\n",
      "The following objects are masked from ‘package:stats’:\n",
      "\n",
      "    filter, lag\n",
      "\n",
      "The following objects are masked from ‘package:base’:\n",
      "\n",
      "    intersect, setdiff, setequal, union\n",
      "\n"
     ]
    },
    {
     "name": "stdout",
     "output_type": "stream",
     "text": [
      "Time spent: 0.01 mins\n",
      "0\n",
      "Normalizing data\n",
      "Normalizing data\n",
      "Adding noise: 0.5\n",
      "average precision vs geff:  0.15088651319612656\n",
      "mask is bigger than grn! Check if RNA trimming was performed.\n",
      "average precision vs beta:  0.1517712605997527\n",
      "Trimming RNA.\n",
      "Baseline Precision: 0.13636363636363635\n",
      "Optimized Precision: 0.13636363636363635\n",
      "Noise: 0.6000000000000001\n",
      "Generating the GRN...\n"
     ]
    },
    {
     "name": "stderr",
     "output_type": "stream",
     "text": [
      "\n",
      "Attaching package: ‘dplyr’\n",
      "\n",
      "The following objects are masked from ‘package:stats’:\n",
      "\n",
      "    filter, lag\n",
      "\n",
      "The following objects are masked from ‘package:base’:\n",
      "\n",
      "    intersect, setdiff, setequal, union\n",
      "\n"
     ]
    },
    {
     "name": "stdout",
     "output_type": "stream",
     "text": [
      "Time spent: 0.01 mins\n",
      "0\n",
      "Normalizing data\n",
      "Normalizing data\n",
      "Adding noise: 0.6000000000000001\n",
      "average precision vs geff:  0.23915515707237356\n",
      "mask is bigger than grn! Check if RNA trimming was performed.\n",
      "average precision vs beta:  0.24278558598696015\n",
      "Trimming RNA.\n",
      "Baseline Precision: 0.16363636363636364\n",
      "Optimized Precision: 0.16363636363636364\n",
      "Generating the GRN...\n"
     ]
    },
    {
     "name": "stderr",
     "output_type": "stream",
     "text": [
      "\n",
      "Attaching package: ‘dplyr’\n",
      "\n",
      "The following objects are masked from ‘package:stats’:\n",
      "\n",
      "    filter, lag\n",
      "\n",
      "The following objects are masked from ‘package:base’:\n",
      "\n",
      "    intersect, setdiff, setequal, union\n",
      "\n"
     ]
    },
    {
     "name": "stdout",
     "output_type": "stream",
     "text": [
      "Time spent: 0.01 mins\n",
      "0\n",
      "Normalizing data\n",
      "Normalizing data\n",
      "Adding noise: 0.6000000000000001\n",
      "average precision vs geff:  0.1880293562836946\n",
      "mask is bigger than grn! Check if RNA trimming was performed.\n",
      "average precision vs beta:  0.19319188835265266\n",
      "Trimming RNA.\n",
      "Baseline Precision: 0.13636363636363635\n",
      "Optimized Precision: 0.13636363636363635\n",
      "Noise: 0.7000000000000001\n",
      "Generating the GRN...\n"
     ]
    },
    {
     "name": "stderr",
     "output_type": "stream",
     "text": [
      "\n",
      "Attaching package: ‘dplyr’\n",
      "\n",
      "The following objects are masked from ‘package:stats’:\n",
      "\n",
      "    filter, lag\n",
      "\n",
      "The following objects are masked from ‘package:base’:\n",
      "\n",
      "    intersect, setdiff, setequal, union\n",
      "\n"
     ]
    },
    {
     "name": "stdout",
     "output_type": "stream",
     "text": [
      "Time spent: 0.01 mins\n",
      "0\n",
      "Normalizing data\n",
      "Normalizing data\n",
      "Adding noise: 0.7000000000000001\n",
      "average precision vs geff:  0.2178444538077741\n",
      "mask is bigger than grn! Check if RNA trimming was performed.\n",
      "average precision vs beta:  0.2221195449113711\n",
      "Trimming RNA.\n",
      "Baseline Precision: 0.18181818181818182\n",
      "Optimized Precision: 0.18181818181818182\n",
      "Generating the GRN...\n"
     ]
    },
    {
     "name": "stderr",
     "output_type": "stream",
     "text": [
      "\n",
      "Attaching package: ‘dplyr’\n",
      "\n",
      "The following objects are masked from ‘package:stats’:\n",
      "\n",
      "    filter, lag\n",
      "\n",
      "The following objects are masked from ‘package:base’:\n",
      "\n",
      "    intersect, setdiff, setequal, union\n",
      "\n"
     ]
    },
    {
     "name": "stdout",
     "output_type": "stream",
     "text": [
      "Time spent: 0.01 mins\n",
      "0\n",
      "Normalizing data\n",
      "Normalizing data\n",
      "Adding noise: 0.7000000000000001\n",
      "average precision vs geff:  0.17140150743345645\n",
      "mask is bigger than grn! Check if RNA trimming was performed.\n",
      "average precision vs beta:  0.1756874330673885\n",
      "Trimming RNA.\n",
      "Baseline Precision: 0.17272727272727273\n",
      "Optimized Precision: 0.17272727272727273\n",
      "Noise: 0.8\n",
      "Generating the GRN...\n"
     ]
    },
    {
     "name": "stderr",
     "output_type": "stream",
     "text": [
      "\n",
      "Attaching package: ‘dplyr’\n",
      "\n",
      "The following objects are masked from ‘package:stats’:\n",
      "\n",
      "    filter, lag\n",
      "\n",
      "The following objects are masked from ‘package:base’:\n",
      "\n",
      "    intersect, setdiff, setequal, union\n",
      "\n"
     ]
    },
    {
     "name": "stdout",
     "output_type": "stream",
     "text": [
      "Time spent: 0.01 mins\n",
      "0\n",
      "Normalizing data\n",
      "Normalizing data\n",
      "Adding noise: 0.8\n",
      "average precision vs geff:  0.11698648939240644\n",
      "mask is bigger than grn! Check if RNA trimming was performed.\n",
      "average precision vs beta:  0.11732251089778278\n",
      "Trimming RNA.\n",
      "Baseline Precision: 0.09090909090909091\n",
      "Optimized Precision: 0.09090909090909091\n",
      "Generating the GRN...\n"
     ]
    },
    {
     "name": "stderr",
     "output_type": "stream",
     "text": [
      "\n",
      "Attaching package: ‘dplyr’\n",
      "\n",
      "The following objects are masked from ‘package:stats’:\n",
      "\n",
      "    filter, lag\n",
      "\n",
      "The following objects are masked from ‘package:base’:\n",
      "\n",
      "    intersect, setdiff, setequal, union\n",
      "\n"
     ]
    },
    {
     "name": "stdout",
     "output_type": "stream",
     "text": [
      "Time spent: 0.01 mins\n",
      "0\n",
      "Normalizing data\n",
      "Normalizing data\n",
      "Adding noise: 0.8\n",
      "average precision vs geff:  0.18809794925289292\n",
      "mask is bigger than grn! Check if RNA trimming was performed.\n",
      "average precision vs beta:  0.19447506906776393\n",
      "Trimming RNA.\n",
      "Baseline Precision: 0.16363636363636364\n",
      "Optimized Precision: 0.16363636363636364\n",
      "Noise: 0.9\n",
      "Generating the GRN...\n"
     ]
    },
    {
     "name": "stderr",
     "output_type": "stream",
     "text": [
      "\n",
      "Attaching package: ‘dplyr’\n",
      "\n",
      "The following objects are masked from ‘package:stats’:\n",
      "\n",
      "    filter, lag\n",
      "\n",
      "The following objects are masked from ‘package:base’:\n",
      "\n",
      "    intersect, setdiff, setequal, union\n",
      "\n"
     ]
    },
    {
     "name": "stdout",
     "output_type": "stream",
     "text": [
      "Time spent: 0.01 mins\n",
      "0\n",
      "Normalizing data\n",
      "Normalizing data\n",
      "Adding noise: 0.9\n",
      "average precision vs geff:  0.26229147562834015\n",
      "mask is bigger than grn! Check if RNA trimming was performed.\n",
      "average precision vs beta:  0.2724578942012963\n",
      "Trimming RNA.\n",
      "Baseline Precision: 0.12727272727272726\n",
      "Optimized Precision: 0.12727272727272726\n",
      "Generating the GRN...\n"
     ]
    },
    {
     "name": "stderr",
     "output_type": "stream",
     "text": [
      "\n",
      "Attaching package: ‘dplyr’\n",
      "\n",
      "The following objects are masked from ‘package:stats’:\n",
      "\n",
      "    filter, lag\n",
      "\n",
      "The following objects are masked from ‘package:base’:\n",
      "\n",
      "    intersect, setdiff, setequal, union\n",
      "\n"
     ]
    },
    {
     "name": "stdout",
     "output_type": "stream",
     "text": [
      "Time spent: 0.01 mins\n",
      "0\n",
      "Normalizing data\n",
      "Normalizing data\n",
      "Adding noise: 0.9\n",
      "average precision vs geff:  0.16237356378519496\n",
      "mask is bigger than grn! Check if RNA trimming was performed.\n",
      "average precision vs beta:  0.1775782368243065\n",
      "Trimming RNA.\n",
      "Baseline Precision: 0.17272727272727273\n",
      "Optimized Precision: 0.17272727272727273\n",
      "Noise: 1.0\n",
      "Generating the GRN...\n"
     ]
    },
    {
     "name": "stderr",
     "output_type": "stream",
     "text": [
      "\n",
      "Attaching package: ‘dplyr’\n",
      "\n",
      "The following objects are masked from ‘package:stats’:\n",
      "\n",
      "    filter, lag\n",
      "\n",
      "The following objects are masked from ‘package:base’:\n",
      "\n",
      "    intersect, setdiff, setequal, union\n",
      "\n"
     ]
    },
    {
     "name": "stdout",
     "output_type": "stream",
     "text": [
      "Time spent: 0.01 mins\n",
      "0\n",
      "Normalizing data\n",
      "Normalizing data\n",
      "Adding noise: 1.0\n",
      "average precision vs geff:  0.26446015041859544\n",
      "mask is bigger than grn! Check if RNA trimming was performed.\n",
      "average precision vs beta:  0.2741124908707982\n",
      "Trimming RNA.\n",
      "Baseline Precision: 0.16363636363636364\n",
      "Optimized Precision: 0.16363636363636364\n",
      "Generating the GRN...\n"
     ]
    },
    {
     "name": "stderr",
     "output_type": "stream",
     "text": [
      "\n",
      "Attaching package: ‘dplyr’\n",
      "\n",
      "The following objects are masked from ‘package:stats’:\n",
      "\n",
      "    filter, lag\n",
      "\n",
      "The following objects are masked from ‘package:base’:\n",
      "\n",
      "    intersect, setdiff, setequal, union\n",
      "\n"
     ]
    },
    {
     "name": "stdout",
     "output_type": "stream",
     "text": [
      "Time spent: 0.01 mins\n",
      "0\n",
      "Normalizing data\n",
      "Normalizing data\n",
      "Adding noise: 1.0\n",
      "average precision vs geff:  0.26141970803107867\n",
      "mask is bigger than grn! Check if RNA trimming was performed.\n",
      "average precision vs beta:  0.27075404309699314\n",
      "Trimming RNA.\n",
      "Baseline Precision: 0.16363636363636364\n",
      "Optimized Precision: 0.16363636363636364\n",
      "Repeat: 2\n",
      "Noise: 0.0\n",
      "Generating the GRN...\n"
     ]
    },
    {
     "name": "stderr",
     "output_type": "stream",
     "text": [
      "\n",
      "Attaching package: ‘dplyr’\n",
      "\n",
      "The following objects are masked from ‘package:stats’:\n",
      "\n",
      "    filter, lag\n",
      "\n",
      "The following objects are masked from ‘package:base’:\n",
      "\n",
      "    intersect, setdiff, setequal, union\n",
      "\n"
     ]
    },
    {
     "name": "stdout",
     "output_type": "stream",
     "text": [
      "Time spent: 0.01 mins\n",
      "0\n",
      "Normalizing data\n",
      "Normalizing data\n",
      "Adding noise: 0.0\n",
      "average precision vs geff:  0.17739015151515153\n",
      "mask is bigger than grn! Check if RNA trimming was performed.\n",
      "average precision vs beta:  0.18802380952380954\n",
      "Trimming RNA.\n",
      "Baseline Precision: 0.1801818181818182\n",
      "Optimized Precision: 0.1801818181818182\n",
      "Generating the GRN...\n"
     ]
    },
    {
     "name": "stderr",
     "output_type": "stream",
     "text": [
      "\n",
      "Attaching package: ‘dplyr’\n",
      "\n",
      "The following objects are masked from ‘package:stats’:\n",
      "\n",
      "    filter, lag\n",
      "\n",
      "The following objects are masked from ‘package:base’:\n",
      "\n",
      "    intersect, setdiff, setequal, union\n",
      "\n"
     ]
    },
    {
     "name": "stdout",
     "output_type": "stream",
     "text": [
      "Time spent: 0.01 mins\n",
      "0\n",
      "Normalizing data\n",
      "Normalizing data\n",
      "Adding noise: 0.0\n",
      "average precision vs geff:  0.16118939393939394\n",
      "mask is bigger than grn! Check if RNA trimming was performed.\n",
      "average precision vs beta:  0.16997222222222222\n",
      "Trimming RNA.\n",
      "Baseline Precision: 0.1895909090909091\n",
      "Optimized Precision: 0.1895909090909091\n",
      "Noise: 0.1\n",
      "Generating the GRN...\n"
     ]
    },
    {
     "name": "stderr",
     "output_type": "stream",
     "text": [
      "\n",
      "Attaching package: ‘dplyr’\n",
      "\n",
      "The following objects are masked from ‘package:stats’:\n",
      "\n",
      "    filter, lag\n",
      "\n",
      "The following objects are masked from ‘package:base’:\n",
      "\n",
      "    intersect, setdiff, setequal, union\n",
      "\n"
     ]
    },
    {
     "name": "stdout",
     "output_type": "stream",
     "text": [
      "Time spent: 0.01 mins\n",
      "0\n",
      "Normalizing data\n",
      "Normalizing data\n",
      "Adding noise: 0.1\n",
      "average precision vs geff:  0.2667106576778614\n",
      "mask is bigger than grn! Check if RNA trimming was performed.\n",
      "average precision vs beta:  0.2894730648736361\n",
      "Trimming RNA.\n",
      "Baseline Precision: 0.23073426573426575\n",
      "Optimized Precision: 0.23073426573426575\n",
      "Generating the GRN...\n"
     ]
    },
    {
     "name": "stderr",
     "output_type": "stream",
     "text": [
      "\n",
      "Attaching package: ‘dplyr’\n",
      "\n",
      "The following objects are masked from ‘package:stats’:\n",
      "\n",
      "    filter, lag\n",
      "\n",
      "The following objects are masked from ‘package:base’:\n",
      "\n",
      "    intersect, setdiff, setequal, union\n",
      "\n"
     ]
    },
    {
     "name": "stdout",
     "output_type": "stream",
     "text": [
      "Time spent: 0.01 mins\n",
      "0\n",
      "Normalizing data\n",
      "Normalizing data\n",
      "Adding noise: 0.1\n",
      "average precision vs geff:  0.18657974050813936\n",
      "mask is bigger than grn! Check if RNA trimming was performed.\n",
      "average precision vs beta:  0.19703493034900418\n",
      "Trimming RNA.\n",
      "Baseline Precision: 0.14545454545454545\n",
      "Optimized Precision: 0.14545454545454545\n",
      "Noise: 0.2\n",
      "Generating the GRN...\n"
     ]
    },
    {
     "name": "stderr",
     "output_type": "stream",
     "text": [
      "\n",
      "Attaching package: ‘dplyr’\n",
      "\n",
      "The following objects are masked from ‘package:stats’:\n",
      "\n",
      "    filter, lag\n",
      "\n",
      "The following objects are masked from ‘package:base’:\n",
      "\n",
      "    intersect, setdiff, setequal, union\n",
      "\n"
     ]
    },
    {
     "name": "stdout",
     "output_type": "stream",
     "text": [
      "Time spent: 0.01 mins\n",
      "0\n",
      "Normalizing data\n",
      "Normalizing data\n",
      "Adding noise: 0.2\n",
      "average precision vs geff:  0.22281654800381062\n",
      "mask is bigger than grn! Check if RNA trimming was performed.\n",
      "average precision vs beta:  0.22951397918138322\n",
      "Trimming RNA.\n",
      "Baseline Precision: 0.1497159090909091\n",
      "Optimized Precision: 0.1497159090909091\n",
      "Generating the GRN...\n"
     ]
    },
    {
     "name": "stderr",
     "output_type": "stream",
     "text": [
      "\n",
      "Attaching package: ‘dplyr’\n",
      "\n",
      "The following objects are masked from ‘package:stats’:\n",
      "\n",
      "    filter, lag\n",
      "\n",
      "The following objects are masked from ‘package:base’:\n",
      "\n",
      "    intersect, setdiff, setequal, union\n",
      "\n"
     ]
    },
    {
     "name": "stdout",
     "output_type": "stream",
     "text": [
      "Time spent: 0.01 mins\n",
      "0\n",
      "Normalizing data\n",
      "Normalizing data\n",
      "Adding noise: 0.2\n",
      "average precision vs geff:  0.17903585870459438\n",
      "mask is bigger than grn! Check if RNA trimming was performed.\n",
      "average precision vs beta:  0.1808174444519084\n",
      "Trimming RNA.\n",
      "Baseline Precision: 0.16200956937799044\n",
      "Optimized Precision: 0.16200956937799044\n",
      "Noise: 0.30000000000000004\n",
      "Generating the GRN...\n"
     ]
    },
    {
     "name": "stderr",
     "output_type": "stream",
     "text": [
      "\n",
      "Attaching package: ‘dplyr’\n",
      "\n",
      "The following objects are masked from ‘package:stats’:\n",
      "\n",
      "    filter, lag\n",
      "\n",
      "The following objects are masked from ‘package:base’:\n",
      "\n",
      "    intersect, setdiff, setequal, union\n",
      "\n"
     ]
    },
    {
     "name": "stdout",
     "output_type": "stream",
     "text": [
      "Time spent: 0.01 mins\n",
      "0\n",
      "Normalizing data\n",
      "Normalizing data\n",
      "Adding noise: 0.30000000000000004\n",
      "average precision vs geff:  0.19047488827306014\n",
      "mask is bigger than grn! Check if RNA trimming was performed.\n",
      "average precision vs beta:  0.2002005683616977\n",
      "Trimming RNA.\n",
      "Baseline Precision: 0.17272727272727273\n",
      "Optimized Precision: 0.17272727272727273\n",
      "Generating the GRN...\n"
     ]
    },
    {
     "name": "stderr",
     "output_type": "stream",
     "text": [
      "\n",
      "Attaching package: ‘dplyr’\n",
      "\n",
      "The following objects are masked from ‘package:stats’:\n",
      "\n",
      "    filter, lag\n",
      "\n",
      "The following objects are masked from ‘package:base’:\n",
      "\n",
      "    intersect, setdiff, setequal, union\n",
      "\n"
     ]
    },
    {
     "name": "stdout",
     "output_type": "stream",
     "text": [
      "Time spent: 0.01 mins\n",
      "0\n",
      "Normalizing data\n",
      "Normalizing data\n",
      "Adding noise: 0.30000000000000004\n",
      "average precision vs geff:  0.1665861725801625\n",
      "mask is bigger than grn! Check if RNA trimming was performed.\n",
      "average precision vs beta:  0.18528132981530376\n",
      "Trimming RNA.\n",
      "Baseline Precision: 0.15967914438502676\n",
      "Optimized Precision: 0.15967914438502676\n",
      "Noise: 0.4\n",
      "Generating the GRN...\n"
     ]
    },
    {
     "name": "stderr",
     "output_type": "stream",
     "text": [
      "\n",
      "Attaching package: ‘dplyr’\n",
      "\n",
      "The following objects are masked from ‘package:stats’:\n",
      "\n",
      "    filter, lag\n",
      "\n",
      "The following objects are masked from ‘package:base’:\n",
      "\n",
      "    intersect, setdiff, setequal, union\n",
      "\n"
     ]
    },
    {
     "name": "stdout",
     "output_type": "stream",
     "text": [
      "Time spent: 0.01 mins\n",
      "0\n",
      "Normalizing data\n",
      "Normalizing data\n",
      "Adding noise: 0.4\n",
      "average precision vs geff:  0.17974037281607125\n",
      "mask is bigger than grn! Check if RNA trimming was performed.\n",
      "average precision vs beta:  0.18636656724416042\n",
      "Trimming RNA.\n",
      "Baseline Precision: 0.2\n",
      "Optimized Precision: 0.2\n",
      "Generating the GRN...\n"
     ]
    },
    {
     "name": "stderr",
     "output_type": "stream",
     "text": [
      "\n",
      "Attaching package: ‘dplyr’\n",
      "\n",
      "The following objects are masked from ‘package:stats’:\n",
      "\n",
      "    filter, lag\n",
      "\n",
      "The following objects are masked from ‘package:base’:\n",
      "\n",
      "    intersect, setdiff, setequal, union\n",
      "\n"
     ]
    },
    {
     "name": "stdout",
     "output_type": "stream",
     "text": [
      "Time spent: 0.01 mins\n",
      "0\n",
      "Normalizing data\n",
      "Normalizing data\n",
      "Adding noise: 0.4\n",
      "average precision vs geff:  0.216056632004997\n",
      "mask is bigger than grn! Check if RNA trimming was performed.\n",
      "average precision vs beta:  0.22640413003048615\n",
      "Trimming RNA.\n",
      "Baseline Precision: 0.15454545454545454\n",
      "Optimized Precision: 0.15454545454545454\n",
      "Noise: 0.5\n",
      "Generating the GRN...\n"
     ]
    },
    {
     "name": "stderr",
     "output_type": "stream",
     "text": [
      "\n",
      "Attaching package: ‘dplyr’\n",
      "\n",
      "The following objects are masked from ‘package:stats’:\n",
      "\n",
      "    filter, lag\n",
      "\n",
      "The following objects are masked from ‘package:base’:\n",
      "\n",
      "    intersect, setdiff, setequal, union\n",
      "\n"
     ]
    },
    {
     "name": "stdout",
     "output_type": "stream",
     "text": [
      "Time spent: 0.01 mins\n",
      "0\n",
      "Normalizing data\n",
      "Normalizing data\n",
      "Adding noise: 0.5\n",
      "average precision vs geff:  0.2004946903423815\n",
      "mask is bigger than grn! Check if RNA trimming was performed.\n",
      "average precision vs beta:  0.21060546658407076\n",
      "Trimming RNA.\n",
      "Baseline Precision: 0.17272727272727273\n",
      "Optimized Precision: 0.17272727272727273\n",
      "Generating the GRN...\n"
     ]
    },
    {
     "name": "stderr",
     "output_type": "stream",
     "text": [
      "\n",
      "Attaching package: ‘dplyr’\n",
      "\n",
      "The following objects are masked from ‘package:stats’:\n",
      "\n",
      "    filter, lag\n",
      "\n",
      "The following objects are masked from ‘package:base’:\n",
      "\n",
      "    intersect, setdiff, setequal, union\n",
      "\n"
     ]
    },
    {
     "name": "stdout",
     "output_type": "stream",
     "text": [
      "Time spent: 0.01 mins\n",
      "0\n",
      "Normalizing data\n",
      "Normalizing data\n",
      "Adding noise: 0.5\n",
      "average precision vs geff:  0.14650435462047318\n",
      "mask is bigger than grn! Check if RNA trimming was performed.\n",
      "average precision vs beta:  0.15022407582602051\n",
      "Trimming RNA.\n",
      "Baseline Precision: 0.12727272727272726\n",
      "Optimized Precision: 0.12727272727272726\n",
      "Noise: 0.6000000000000001\n",
      "Generating the GRN...\n"
     ]
    },
    {
     "name": "stderr",
     "output_type": "stream",
     "text": [
      "\n",
      "Attaching package: ‘dplyr’\n",
      "\n",
      "The following objects are masked from ‘package:stats’:\n",
      "\n",
      "    filter, lag\n",
      "\n",
      "The following objects are masked from ‘package:base’:\n",
      "\n",
      "    intersect, setdiff, setequal, union\n",
      "\n"
     ]
    },
    {
     "name": "stdout",
     "output_type": "stream",
     "text": [
      "Time spent: 0.01 mins\n",
      "0\n",
      "Normalizing data\n",
      "Normalizing data\n",
      "Adding noise: 0.6000000000000001\n",
      "average precision vs geff:  0.13816794820229567\n",
      "mask is bigger than grn! Check if RNA trimming was performed.\n",
      "average precision vs beta:  0.15052912320600048\n",
      "Trimming RNA.\n",
      "Baseline Precision: 0.12727272727272726\n",
      "Optimized Precision: 0.12727272727272726\n",
      "Generating the GRN...\n"
     ]
    },
    {
     "name": "stderr",
     "output_type": "stream",
     "text": [
      "\n",
      "Attaching package: ‘dplyr’\n",
      "\n",
      "The following objects are masked from ‘package:stats’:\n",
      "\n",
      "    filter, lag\n",
      "\n",
      "The following objects are masked from ‘package:base’:\n",
      "\n",
      "    intersect, setdiff, setequal, union\n",
      "\n"
     ]
    },
    {
     "name": "stdout",
     "output_type": "stream",
     "text": [
      "Time spent: 0.01 mins\n",
      "0\n",
      "Normalizing data\n",
      "Normalizing data\n",
      "Adding noise: 0.6000000000000001\n",
      "average precision vs geff:  0.13684530317050575\n",
      "mask is bigger than grn! Check if RNA trimming was performed.\n",
      "average precision vs beta:  0.17012875256811388\n",
      "Trimming RNA.\n",
      "Baseline Precision: 0.15454545454545454\n",
      "Optimized Precision: 0.15454545454545454\n",
      "Noise: 0.7000000000000001\n",
      "Generating the GRN...\n"
     ]
    },
    {
     "name": "stderr",
     "output_type": "stream",
     "text": [
      "\n",
      "Attaching package: ‘dplyr’\n",
      "\n",
      "The following objects are masked from ‘package:stats’:\n",
      "\n",
      "    filter, lag\n",
      "\n",
      "The following objects are masked from ‘package:base’:\n",
      "\n",
      "    intersect, setdiff, setequal, union\n",
      "\n"
     ]
    },
    {
     "name": "stdout",
     "output_type": "stream",
     "text": [
      "Time spent: 0.01 mins\n",
      "0\n",
      "Normalizing data\n",
      "Normalizing data\n",
      "Adding noise: 0.7000000000000001\n",
      "average precision vs geff:  0.19687685632432145\n",
      "mask is bigger than grn! Check if RNA trimming was performed.\n",
      "average precision vs beta:  0.2026599540682441\n",
      "Trimming RNA.\n",
      "Baseline Precision: 0.18181818181818182\n",
      "Optimized Precision: 0.18181818181818182\n",
      "Generating the GRN...\n"
     ]
    },
    {
     "name": "stderr",
     "output_type": "stream",
     "text": [
      "\n",
      "Attaching package: ‘dplyr’\n",
      "\n",
      "The following objects are masked from ‘package:stats’:\n",
      "\n",
      "    filter, lag\n",
      "\n",
      "The following objects are masked from ‘package:base’:\n",
      "\n",
      "    intersect, setdiff, setequal, union\n",
      "\n"
     ]
    },
    {
     "name": "stdout",
     "output_type": "stream",
     "text": [
      "Time spent: 0.01 mins\n",
      "0\n",
      "Normalizing data\n",
      "Normalizing data\n",
      "Adding noise: 0.7000000000000001\n",
      "average precision vs geff:  0.226911251822072\n",
      "mask is bigger than grn! Check if RNA trimming was performed.\n",
      "average precision vs beta:  0.23917590913513426\n",
      "Trimming RNA.\n",
      "Baseline Precision: 0.15454545454545454\n",
      "Optimized Precision: 0.15454545454545454\n",
      "Noise: 0.8\n",
      "Generating the GRN...\n"
     ]
    },
    {
     "name": "stderr",
     "output_type": "stream",
     "text": [
      "\n",
      "Attaching package: ‘dplyr’\n",
      "\n",
      "The following objects are masked from ‘package:stats’:\n",
      "\n",
      "    filter, lag\n",
      "\n",
      "The following objects are masked from ‘package:base’:\n",
      "\n",
      "    intersect, setdiff, setequal, union\n",
      "\n"
     ]
    },
    {
     "name": "stdout",
     "output_type": "stream",
     "text": [
      "Time spent: 0.01 mins\n",
      "0\n",
      "Normalizing data\n",
      "Normalizing data\n",
      "Adding noise: 0.8\n",
      "average precision vs geff:  0.19843968720603752\n",
      "mask is bigger than grn! Check if RNA trimming was performed.\n",
      "average precision vs beta:  0.22898276871000076\n",
      "Trimming RNA.\n",
      "Baseline Precision: 0.13636363636363635\n",
      "Optimized Precision: 0.13636363636363635\n",
      "Generating the GRN...\n"
     ]
    },
    {
     "name": "stderr",
     "output_type": "stream",
     "text": [
      "\n",
      "Attaching package: ‘dplyr’\n",
      "\n",
      "The following objects are masked from ‘package:stats’:\n",
      "\n",
      "    filter, lag\n",
      "\n",
      "The following objects are masked from ‘package:base’:\n",
      "\n",
      "    intersect, setdiff, setequal, union\n",
      "\n"
     ]
    },
    {
     "name": "stdout",
     "output_type": "stream",
     "text": [
      "Time spent: 0.01 mins\n",
      "0\n",
      "Normalizing data\n",
      "Normalizing data\n",
      "Adding noise: 0.8\n",
      "average precision vs geff:  0.15845297112724083\n",
      "mask is bigger than grn! Check if RNA trimming was performed.\n",
      "average precision vs beta:  0.1708951508067884\n",
      "Trimming RNA.\n",
      "Baseline Precision: 0.15454545454545454\n",
      "Optimized Precision: 0.15454545454545454\n",
      "Noise: 0.9\n",
      "Generating the GRN...\n"
     ]
    },
    {
     "name": "stderr",
     "output_type": "stream",
     "text": [
      "\n",
      "Attaching package: ‘dplyr’\n",
      "\n",
      "The following objects are masked from ‘package:stats’:\n",
      "\n",
      "    filter, lag\n",
      "\n",
      "The following objects are masked from ‘package:base’:\n",
      "\n",
      "    intersect, setdiff, setequal, union\n",
      "\n"
     ]
    },
    {
     "name": "stdout",
     "output_type": "stream",
     "text": [
      "Time spent: 0.01 mins\n",
      "0\n",
      "Normalizing data\n",
      "Normalizing data\n",
      "Adding noise: 0.9\n",
      "average precision vs geff:  0.24875702650423676\n",
      "mask is bigger than grn! Check if RNA trimming was performed.\n",
      "average precision vs beta:  0.2811073036194949\n",
      "Trimming RNA.\n",
      "Baseline Precision: 0.20909090909090908\n",
      "Optimized Precision: 0.20909090909090908\n",
      "Generating the GRN...\n"
     ]
    },
    {
     "name": "stderr",
     "output_type": "stream",
     "text": [
      "\n",
      "Attaching package: ‘dplyr’\n",
      "\n",
      "The following objects are masked from ‘package:stats’:\n",
      "\n",
      "    filter, lag\n",
      "\n",
      "The following objects are masked from ‘package:base’:\n",
      "\n",
      "    intersect, setdiff, setequal, union\n",
      "\n"
     ]
    },
    {
     "name": "stdout",
     "output_type": "stream",
     "text": [
      "Time spent: 0.02 mins\n",
      "0\n",
      "Normalizing data\n",
      "Normalizing data\n",
      "Adding noise: 0.9\n",
      "average precision vs geff:  0.2701845909520022\n",
      "mask is bigger than grn! Check if RNA trimming was performed.\n",
      "average precision vs beta:  0.291720586392609\n",
      "Trimming RNA.\n",
      "Baseline Precision: 0.19090909090909092\n",
      "Optimized Precision: 0.19090909090909092\n",
      "Noise: 1.0\n",
      "Generating the GRN...\n"
     ]
    },
    {
     "name": "stderr",
     "output_type": "stream",
     "text": [
      "\n",
      "Attaching package: ‘dplyr’\n",
      "\n",
      "The following objects are masked from ‘package:stats’:\n",
      "\n",
      "    filter, lag\n",
      "\n",
      "The following objects are masked from ‘package:base’:\n",
      "\n",
      "    intersect, setdiff, setequal, union\n",
      "\n"
     ]
    },
    {
     "name": "stdout",
     "output_type": "stream",
     "text": [
      "Time spent: 0.01 mins\n",
      "0\n",
      "Normalizing data\n",
      "Normalizing data\n",
      "Adding noise: 1.0\n",
      "average precision vs geff:  0.19228107332319358\n",
      "mask is bigger than grn! Check if RNA trimming was performed.\n",
      "average precision vs beta:  0.21165845675596115\n",
      "Trimming RNA.\n",
      "Baseline Precision: 0.13636363636363635\n",
      "Optimized Precision: 0.13636363636363635\n",
      "Generating the GRN...\n"
     ]
    },
    {
     "name": "stderr",
     "output_type": "stream",
     "text": [
      "\n",
      "Attaching package: ‘dplyr’\n",
      "\n",
      "The following objects are masked from ‘package:stats’:\n",
      "\n",
      "    filter, lag\n",
      "\n",
      "The following objects are masked from ‘package:base’:\n",
      "\n",
      "    intersect, setdiff, setequal, union\n",
      "\n"
     ]
    },
    {
     "name": "stdout",
     "output_type": "stream",
     "text": [
      "Time spent: 0.01 mins\n",
      "0\n",
      "Normalizing data\n",
      "Normalizing data\n",
      "Adding noise: 1.0\n",
      "average precision vs geff:  0.22371391809271857\n",
      "mask is bigger than grn! Check if RNA trimming was performed.\n",
      "average precision vs beta:  0.25214299456494654\n",
      "Trimming RNA.\n",
      "Baseline Precision: 0.18181818181818182\n",
      "Optimized Precision: 0.18181818181818182\n"
     ]
    }
   ],
   "source": [
    "# increase noise on the region matrices\n",
    "repeats = 3\n",
    "step = 0.1\n",
    "max = 1\n",
    "max += step\n",
    "n_comp= 33\n",
    "cum = False\n",
    "rev =True\n",
    "for_parameters = {str(n):False for n in range(n_comp)}\n",
    "rev_parameters = {str(n):True for n in range(n_comp)}\n",
    "svd_solver = \"arpack\"\n",
    "rev_results_pca = np.empty((int(max/step), n_comp+2, repeats))\n",
    "for_results_pca = np.empty((int(max/step), n_comp+2, repeats))\n",
    "for r in range(repeats):\n",
    "    print(f\"Repeat: {r}\")\n",
    "    for n, p in enumerate(np.arange(0,max, step)):\n",
    "        print(f\"Noise: {p}\")\n",
    "        config.update({\"noise_p\":p})\n",
    "\n",
    "        if cum or rev:\n",
    "            data, mask, full_rna, gt_interv, sim_regime, beta = generate_data(\n",
    "            **config)\n",
    "            grn = data.pop(\"geff\")\n",
    "        \n",
    "            base_prec = get_precision(grn, selection_wrap_pca(**data, **rev_parameters))\n",
    "            print(f\"Baseline Precision: {base_prec}\")\n",
    "            \n",
    "            PCs, max_prec= rev_select(\n",
    "                data.copy(),\n",
    "                _parameters = rev_parameters.copy(),\n",
    "                _baseline_prec=0.01,\n",
    "                mask_func=selection_wrap_pca,\n",
    "                eval=lambda x: get_precision(grn=grn, beta=x),)\n",
    "            print(f\"Optimized Precision: {max_prec}\")\n",
    "\n",
    "\n",
    "            rev_results_pca[n,:, r] = np.append([max_prec, base_prec],\n",
    "                list(PCs.values()))\n",
    "\n",
    "        data, mask, full_rna, gt_interv, sim_regime, beta = generate_data(\n",
    "            **config)\n",
    "        grn = data.pop(\"geff\")\n",
    "        \n",
    "        base_prec = get_precision(grn, selection_wrap_pca(**data, **for_parameters))\n",
    "        print(f\"Baseline Precision: {base_prec}\")\n",
    "        \n",
    "        PCs, max_prec= for_select(\n",
    "            data.copy(),\n",
    "            _parameters = for_parameters.copy(),\n",
    "            _baseline_prec=0.01,\n",
    "            mask_func=selection_wrap_pca,\n",
    "            eval=lambda x: get_precision(grn=grn, beta=x),)\n",
    "        print(f\"Optimized Precision: {max_prec}\")\n",
    "\n",
    "        \n",
    "        for_results_pca[n,:, r] = np.append([max_prec, base_prec],\n",
    "            list(PCs.values()))"
   ]
  },
  {
   "cell_type": "code",
   "execution_count": 9,
   "id": "3023af0d",
   "metadata": {},
   "outputs": [
    {
     "name": "stdout",
     "output_type": "stream",
     "text": [
      "Saving!\n"
     ]
    },
    {
     "data": {
      "image/png": "[encoded data removed]",
      "text/plain": [
       "<Figure size 1000x500 with 4 Axes>"
      ]
     },
     "metadata": {},
     "output_type": "display_data"
    }
   ],
   "source": [
    "plt.rcParams[\"figure.figsize\"] = (10, 5)\n",
    "labels = np.arange(n_comp)\n",
    "plt.subplot(2,2,1)\n",
    "plt.bar(np.arange(0,max,step),np.mean(rev_results_pca[:,0], axis=1),\n",
    "    yerr = np.std(rev_results_pca[:,0], axis=1), width=0.05,\n",
    "    color=\"g\", label = \"optimized precision\")\n",
    "plt.bar(np.arange(0,max,step),np.mean(rev_results_pca[:,1], axis=1),\n",
    "    yerr = np.std(rev_results_pca[:,1], axis=1), width=0.05,\n",
    "    alpha=0.5, color=\"r\", label = \"baseline precision\")\n",
    "#plt.bar(np.arange(0,max,step),np.sum(np.median(rev_results_pca[:,2:], axis=2), axis=1) / 330, color=\"b\", label= \"PC count\",alpha=0.1)\n",
    "plt.title(f\"reverse selection\")\n",
    "plt.legend()\n",
    "plt.xlabel(\"Salt and Pepper Noise [%]\")\n",
    "plt.ylabel(\"Average Precision\")\n",
    "plt.subplot(2,2,2)\n",
    "plt.bar(np.arange(0,max,step),np.mean(for_results_pca[:,0], axis=1),\n",
    "    yerr = np.std(for_results_pca[:,0], axis=1), width=0.05,\n",
    "    color=\"g\", label = \"optimized precision\")\n",
    "plt.bar(np.arange(0,max,step),np.mean(for_results_pca[:,1], axis=1),\n",
    "    yerr = np.std(for_results_pca[:,1], axis=1), width=0.05,\n",
    "    alpha=0.5, color=\"r\", label = \"baseline precision\")\n",
    "plt.title(f\"forward selection\")\n",
    "plt.legend()\n",
    "plt.xlabel(\"Salt and Pepper Noise [%]\")\n",
    "plt.ylabel(\"Average Precision\")\n",
    "\n",
    "plt.subplot(2,2,3)\n",
    "\n",
    "rev_precision = np.median(rev_results_pca[:,0], axis=1)\n",
    "rev_results_pca_median = np.median(rev_results_pca[:,2:], axis=2)\n",
    "rev_weighted_results =rev_results_pca_median* rev_precision.repeat(rev_results_pca_median.shape[1]).reshape(rev_results_pca_median.shape)\n",
    "\n",
    "plt.imshow(rev_weighted_results, aspect=\"auto\", interpolation=\"nearest\")\n",
    "plt.xlabel(\"included PCs\")\n",
    "plt.ylabel(\"\\nNoise [%]\")\n",
    "ticks, _ = plt.yticks()\n",
    "\n",
    "#plt.yticks(ticks[1:-1], labels)\n",
    "\n",
    "plt.subplot(2,2,4)\n",
    "\n",
    "for_precision = np.median(for_results_pca[:,0], axis=1)\n",
    "for_results_pca_median = np.median(for_results_pca[:,2:], axis=2)\n",
    "\n",
    "for_weighted_results =for_results_pca_median* for_precision.repeat(for_results_pca_median.shape[1]).reshape(for_results_pca_median.shape)\n",
    "\n",
    "plt.imshow(for_weighted_results, aspect=\"auto\", interpolation=\"nearest\")\n",
    "plt.xlabel(\"included PCs\")\n",
    "plt.ylabel(\"\\nNoise [%]\")\n",
    "plt.tight_layout()\n",
    "if save:\n",
    "    print(\"Saving!\")\n",
    "    plt.savefig(\"./presentation/masksel_pcs_tableau.pdf\")"
   ]
  },
  {
   "cell_type": "code",
   "execution_count": 10,
   "id": "b599c221",
   "metadata": {},
   "outputs": [
    {
     "name": "stdout",
     "output_type": "stream",
     "text": [
      "Repeat: 0\n"
     ]
    },
    {
     "ename": "KeyError",
     "evalue": "'atac'",
     "output_type": "error",
     "traceback": [
      "\u001b[0;31m---------------------------------------------------------------------------\u001b[0m",
      "\u001b[0;31mKeyError\u001b[0m                                  Traceback (most recent call last)",
      "Cell \u001b[0;32mIn[10], line 13\u001b[0m\n\u001b[1;32m     11\u001b[0m \u001b[38;5;28;01mfor\u001b[39;00m n, p \u001b[38;5;129;01min\u001b[39;00m \u001b[38;5;28menumerate\u001b[39m(np\u001b[38;5;241m.\u001b[39marange(\u001b[38;5;241m0\u001b[39m,\u001b[38;5;28mmax\u001b[39m, step)):\n\u001b[1;32m     12\u001b[0m     config\u001b[38;5;241m.\u001b[39mupdate({\u001b[38;5;124m\"\u001b[39m\u001b[38;5;124mnoise_p\u001b[39m\u001b[38;5;124m\"\u001b[39m:p})\n\u001b[0;32m---> 13\u001b[0m     base_prec \u001b[38;5;241m=\u001b[39m output_precision(\u001b[43mselection_wrap_pca\u001b[49m\u001b[43m(\u001b[49m\u001b[38;5;241;43m*\u001b[39;49m\u001b[38;5;241;43m*\u001b[39;49m\u001b[43mconfig\u001b[49m\u001b[43m,\u001b[49m\u001b[43m \u001b[49m\u001b[38;5;241;43m*\u001b[39;49m\u001b[38;5;241;43m*\u001b[39;49m\u001b[43mrev_parameters\u001b[49m\u001b[43m)\u001b[49m)\n\u001b[1;32m     14\u001b[0m     params, max_prec\u001b[38;5;241m=\u001b[39m rev_select(data\u001b[38;5;241m=\u001b[39mconfig,\n\u001b[1;32m     15\u001b[0m                                  _parameters\u001b[38;5;241m=\u001b[39mrev_parameters\u001b[38;5;241m.\u001b[39mcopy(),\n\u001b[1;32m     16\u001b[0m                                  \u001b[38;5;28meval\u001b[39m\u001b[38;5;241m=\u001b[39moutput_precision,\n\u001b[1;32m     17\u001b[0m                                  mask_func\u001b[38;5;241m=\u001b[39mselection_wrap_pca)        \n\u001b[1;32m     18\u001b[0m     rev_results[n, :, r] \u001b[38;5;241m=\u001b[39m np\u001b[38;5;241m.\u001b[39mappend([max_prec, base_prec], \u001b[38;5;28mlist\u001b[39m(params\u001b[38;5;241m.\u001b[39mvalues()))\n",
      "Cell \u001b[0;32mIn[3], line 91\u001b[0m, in \u001b[0;36mselection_wrap_pca\u001b[0;34m(**input)\u001b[0m\n\u001b[1;32m     90\u001b[0m \u001b[38;5;28;01mdef\u001b[39;00m\u001b[38;5;250m \u001b[39m\u001b[38;5;21mselection_wrap_pca\u001b[39m(\u001b[38;5;241m*\u001b[39m\u001b[38;5;241m*\u001b[39m\u001b[38;5;28minput\u001b[39m):\n\u001b[0;32m---> 91\u001b[0m     atac \u001b[38;5;241m=\u001b[39m \u001b[38;5;28;43minput\u001b[39;49m\u001b[38;5;241;43m.\u001b[39;49m\u001b[43mpop\u001b[49m\u001b[43m(\u001b[49m\u001b[38;5;124;43m\"\u001b[39;49m\u001b[38;5;124;43matac\u001b[39;49m\u001b[38;5;124;43m\"\u001b[39;49m\u001b[43m)\u001b[49m\n\u001b[1;32m     92\u001b[0m     region_to_tf \u001b[38;5;241m=\u001b[39m \u001b[38;5;28minput\u001b[39m\u001b[38;5;241m.\u001b[39mpop(\u001b[38;5;124m\"\u001b[39m\u001b[38;5;124mregion_to_tf\u001b[39m\u001b[38;5;124m\"\u001b[39m)\n\u001b[1;32m     93\u001b[0m     region_to_gene \u001b[38;5;241m=\u001b[39m \u001b[38;5;28minput\u001b[39m\u001b[38;5;241m.\u001b[39mpop(\u001b[38;5;124m\"\u001b[39m\u001b[38;5;124mregion_to_gene\u001b[39m\u001b[38;5;124m\"\u001b[39m)\n",
      "\u001b[0;31mKeyError\u001b[0m: 'atac'"
     ]
    }
   ],
   "source": [
    "# increase noise on the region matrices\n",
    "repeats = 1\n",
    "step = 0.25\n",
    "max = 1.1\n",
    "rev_results = np.empty((len(rev_parameters.values()), repeats))\n",
    "for_results = np.empty((len(for_parameters.values()), repeats))\n",
    "rev_results = np.empty((int(max/step), n_comp+2, repeats))\n",
    "for_results = np.empty((int(max/step), n_comp+2, repeats))\n",
    "for r in range(repeats):\n",
    "    print(f\"Repeat: {r}\")\n",
    "    for n, p in enumerate(np.arange(0,max, step)):\n",
    "        config.update({\"noise_p\":p})\n",
    "        base_prec = output_precision(selection_wrap_pca(**config, **rev_parameters))\n",
    "        params, max_prec= rev_select(data=config,\n",
    "                                     _parameters=rev_parameters.copy(),\n",
    "                                     eval=output_precision,\n",
    "                                     mask_func=selection_wrap_pca)        \n",
    "        rev_results[n, :, r] = np.append([max_prec, base_prec], list(params.values()))\n",
    "\n",
    "        config.update({\"noise_p\":p})\n",
    "        base_prec = output_precision(selection_wrap_pca(**config, **for_parameters))\n",
    "        params, max_prec= for_select(data=config,\n",
    "                                     _parameters=for_parameters.copy(),\n",
    "                                     eval=output_precision,\n",
    "                                     mask_func=selection_wrap_pca)\n",
    "        for_results[n, :, r] = np.append([max_prec, base_prec], list(params.values()))\n"
   ]
  }
 ],
 "metadata": {
  "kernelspec": {
   "display_name": "scm_compile",
   "language": "python",
   "name": "python3"
  },
  "language_info": {
   "codemirror_mode": {
    "name": "ipython",
    "version": 3
   },
   "file_extension": ".py",
   "mimetype": "text/x-python",
   "name": "python",
   "nbconvert_exporter": "python",
   "pygments_lexer": "ipython3",
   "version": "3.10.17"
  }
 },
 "nbformat": 4,
 "nbformat_minor": 5
}
