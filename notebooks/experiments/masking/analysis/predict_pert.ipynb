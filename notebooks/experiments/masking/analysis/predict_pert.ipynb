{
 "cells": [
  {
   "cell_type": "code",
   "execution_count": 229,
   "id": "b1cfb40d",
   "metadata": {},
   "outputs": [
    {
     "name": "stderr",
     "output_type": "stream",
     "text": [
      "/tmp/ipykernel_490721/280359223.py:15: DeprecationWarning: Please import `ttest_ind` from the `scipy.stats` namespace; the `scipy.stats.stats` namespace is deprecated and will be removed in SciPy 2.0.0.\n",
      "  from scipy.stats.stats import ttest_ind, ttest_rel\n",
      "/tmp/ipykernel_490721/280359223.py:15: DeprecationWarning: Please import `ttest_rel` from the `scipy.stats` namespace; the `scipy.stats.stats` namespace is deprecated and will be removed in SciPy 2.0.0.\n",
      "  from scipy.stats.stats import ttest_ind, ttest_rel\n"
     ]
    }
   ],
   "source": [
    "import torch\n",
    "import numpy as np\n",
    "import pandas as pd\n",
    "#from sklearn.metrics import precision_recall_curve, roc_curve, auc, average_precision_score, f1_score, confusion_matrix, ConfusionMatrixDisplay\n",
    "from bicycle.model import BICYCLE\n",
    "from pathlib import Path\n",
    "import matplotlib.pyplot as plt\n",
    "#from bicycle.utils.mask_utils import get_sparsity, above_threshold, string_to_list\n",
    "import json\n",
    "from glob import glob\n",
    "#from scipy.special import expit\n",
    "import scanpy as sc\n",
    "import re\n",
    "from bicycle.utils.data import create_loaders\n",
    "from scipy.stats.stats import ttest_ind, ttest_rel\n"
   ]
  },
  {
   "cell_type": "code",
   "execution_count": 230,
   "id": "a8207475",
   "metadata": {},
   "outputs": [],
   "source": [
    "def bar_scientific(df, param_of_interest, ax, colors = ['skyblue', 'salmon'], bar_width = 0.35, annotate = True, a = 0.05):\n",
    "    metrics = df.columns.drop(param_of_interest)\n",
    "    x = np.arange(len(metrics))\n",
    "    \n",
    "    unique_df = np.unique(df[param_of_interest])\n",
    "    p_dict = {}\n",
    "    for i, metric in enumerate(metrics):\n",
    "        vals = {}\n",
    "        means = {}\n",
    "        stds = {}\n",
    "        x_pos = {}\n",
    "        for n, v in enumerate(unique_df):\n",
    "            values = df[df[param_of_interest] == v][metric].astype(float)\n",
    "            vals[v] = values\n",
    "            means[v], stds[v] = values.mean(), values.std()\n",
    "            # Bar positions\n",
    "            x_pos[v] = x[i] + bar_width * n + i*(bar_width*len(unique_df))\n",
    "            # Plot bars\n",
    "            if annotate:\n",
    "                ax.text(x_pos[v], 0, np.round(means[v], 3), ha = \"center\")\n",
    "            ax.bar(x_pos[v], means[v], yerr=stds[v], capsize=bar_width*3, width=bar_width, color=colors[n], label=v if i == 0 else \"\")\n",
    "        \n",
    "        # Significance test\n",
    "        tested = []\n",
    "        for p1, v1 in vals.items():\n",
    "            for p2, v2 in vals.items():\n",
    "                if p1==p2 or (p1,p2) in tested or (p2,p1) in tested:\n",
    "                    continue\n",
    "                else:\n",
    "                    tested.append((p1,p2))\n",
    "                print((p1, p2))\n",
    "        \n",
    "                _, p_val = ttest_ind(v1, v2, equal_var=False)\n",
    "\n",
    "                # Define significance level\n",
    "                if  p_val < a:\n",
    "                    sig = \"*\"\n",
    "                    sig += \"\".join([\"*\" for n in np.logspace(-2, -5, num=4) if p_val<n])\n",
    "                    p_dict[f\"{metric}: {p1}, {p2}\"] = p_val\n",
    "\n",
    "                else:\n",
    "                    sig = False\n",
    "\n",
    "                if sig:\n",
    "                    # Draw annotation line\n",
    "                    y_max = ax.get_yticks()[-1]*0.9\n",
    "                    ax.plot(np.repeat([x_pos[p1], x_pos[p2]], 2), [y_max*0.99,y_max, y_max, y_max*0.99], color='black', linewidth=1)\n",
    "                    ax.text((x_pos[p1] + x_pos[p2])/2, y_max + 0.01, sig, ha='center', va='bottom', fontsize=12)\n",
    "\n",
    "    # Final layout\n",
    "    print(f\"Significant p-values: {p_dict}\")\n",
    "    ax.set_xticks(x*(bar_width*(len(unique_df)+1))+bar_width/2*len(unique_df), [m.replace(\"_\", \"\\n\").capitalize() for m in metrics])\n",
    "    ax.grid(axis='y', linestyle='--', alpha=0.5)\n",
    "    ax.set_ylabel(\"Score\")\n",
    "    return p_dict\n",
    "\n"
   ]
  },
  {
   "cell_type": "code",
   "execution_count": 231,
   "id": "9a356c64",
   "metadata": {},
   "outputs": [],
   "source": [
    "def evaluate_model(model, key, models_path, **kwargs):\n",
    "    samples = torch.tensor(np.load(models_path/key/\"synthetic_data\"/\"check_sim_samples.npy\"))\n",
    "    sim_regime = torch.tensor(np.load(models_path/key/\"synthetic_data\"/\"check_sim_regimes.npy\"))\n",
    "    train_gene_ko = model.train_gene_ko\n",
    "    test_gene_ko = model.test_gene_ko\n",
    "    if len(test_gene_ko)>20:\n",
    "        overhang = len(test_gene_ko)-20\n",
    "        print(f\"More than 20 test_genes! Removing last {overhang} contexts.\")\n",
    "        regimes = sim_regime.unique()[-overhang:]\n",
    "        for regime in regimes:\n",
    "            mask = sim_regime != regime\n",
    "            samples = samples[mask]\n",
    "            sim_regime = sim_regime[mask]\n",
    "        test_gene_ko = test_gene_ko[:-overhang]\n",
    "    train_loader, validation_loader, test_loader = create_loaders(\n",
    "        samples=samples, # test_loader is None\n",
    "        sim_regime=sim_regime,\n",
    "        validation_size=kwargs.get(\"validation_size\", 0.),\n",
    "        batch_size=kwargs.get(\"batch_size\", 100000),\n",
    "        SEED= kwargs.get(\"SEED\", 1),\n",
    "        train_gene_ko=train_gene_ko,\n",
    "        test_gene_ko=test_gene_ko,\n",
    "        persistent_workers=False,\n",
    "        covariates=None,\n",
    "        num_workers= 1,\n",
    "    )\n",
    "    return model.evaluate(test_loader.dataset, **kwargs)"
   ]
  },
  {
   "cell_type": "code",
   "execution_count": 232,
   "id": "9a4724c0",
   "metadata": {},
   "outputs": [],
   "source": [
    "def agg1(params, param_of_interest):\n",
    "    params = params.sort_index()\n",
    "    params[\"config\"] = [\"Vanilla\", \"Bayes prior\", \"Binary Prior\"]\n",
    "    param_of_interest = \"config\"\n",
    "    return params, param_of_interest\n",
    "def agg2(params, param_of_interest):\n",
    "    params = params.sort_index()\n",
    "    return params, param_of_interest\n",
    "def agg3(params, param_of_interest):\n",
    "    params = params.sort_index()\n",
    "    params[\"Config\"] = [\"Vanilla\\n5 TFs\", \"Masking\\n5 TFs\", \"Vanilla\\n10 TFs\", \"Masking\\n10 TFs\"]\n",
    "    params = params.iloc[[0,2,1,3]]\n",
    "    param_of_interest = \"Config\"\n",
    "    return params, param_of_interest\n",
    "def agg4(params, param_of_interest):\n",
    "    params = params.sort_values(param_of_interest)\n",
    "    params[\"Config\"] = [\"Vanilla\\n400\", \"Masking\\n400\", \"Masking\\n200\", \"Masking\\n100\", \"Vanilla\\n200\", \"Vanilla\\n100\"]\n",
    "    param_of_interest = \"Config\"\n",
    "    params = params.sort_values(\"Config\")\n",
    "    return params, param_of_interest\n",
    "def agg5(params, param_of_interest):\n",
    "    params = params.sort_values(param_of_interest)\n",
    "    if len(params)>4:\n",
    "        params[\"pert. factor\"] = (1/10**np.arange(4, -1,-1)).astype(str)\n",
    "    else:\n",
    "        params[\"pert. factor\"] = 1/np.arange(4, 0,-1)\n",
    "\n",
    "    param_of_interest = \"pert. factor\"\n",
    "    params=params.sort_values(param_of_interest)\n",
    "    return params, param_of_interest\n",
    "def agg6(params, param_of_interest):\n",
    "    params[param_of_interest] = params[param_of_interest].astype(float)\n",
    "    params = params.sort_values(param_of_interest)\n",
    "    return params, param_of_interest\n",
    "def agg7(params, param_of_interest):\n",
    "    params = params.sort_index()\n",
    "    params[\"config\"] = [\"Vanilla_old\",\"Vanilla\", \"Bayes prior\", \"Binary Prior\"]\n",
    "    param_of_interest = \"config\"\n",
    "    return params, param_of_interest\n",
    "def agg8(params, param_of_interest):\n",
    "    params = params.sort_index()\n",
    "    params[\"config\"] = params[\"data_id\"]+params[\"masking_mode\"]\n",
    "    param_of_interest = \"config\"\n",
    "    return params, param_of_interest\n",
    "def agg_paper(params, param_of_interest):\n",
    "    params = params.sort_index()\n",
    "    params[\"config\"] = params[param_of_interest] + \" + \" + params[\"masking_mode\"]\n",
    "    param_of_interest = \"config\"\n",
    "    return params, param_of_interest\n",
    "def agg(params, param_of_interest):\n",
    "    params = params.sort_index()\n",
    "    if type(param_of_interest) is dict:\n",
    "        params[\"config\"] = params[param_of_interest[\"0\"]] + \" + \" + params[param_of_interest[\"1\"]]\n",
    "        index = params.isna()[\"config\"]\n",
    "        params.loc[index,\"config\"] = params.loc[index, param_of_interest[\"0\"]]\n",
    "        param_of_interest = \"config\"\n",
    "        params.sort_values(param_of_interest)\n",
    "    return params, param_of_interest\n",
    "\n",
    "functions = {\n",
    "    \"agg1\":agg1,\n",
    "    \"agg2\":agg2,\n",
    "    \"agg3\":agg3,\n",
    "    \"agg4\":agg4,\n",
    "    \"agg5\":agg5,\n",
    "    \"agg6\":agg6,\n",
    "    \"agg7\":agg7,\n",
    "    \"agg8\":agg8,\n",
    "    \"agg_paper\":agg_paper,\n",
    "    \"agg\": agg,\n",
    "             }"
   ]
  },
  {
   "cell_type": "code",
   "execution_count": 233,
   "id": "8fa63521",
   "metadata": {},
   "outputs": [],
   "source": [
    "save = True\n"
   ]
  },
  {
   "cell_type": "code",
   "execution_count": 234,
   "id": "e552a1e1",
   "metadata": {},
   "outputs": [
    {
     "name": "stdout",
     "output_type": "stream",
     "text": [
      "Possible experiments: ['bin', 'noisefactor5', 'init', 'TFs', 'npert', 'spert', 'original', 'scalefactor5', 'erdos', 'bicycle_data', 'scalefactor_b', 'eigenvalues_scm', 'scalefactor_papersem1', 'scalefactor_papersem2', 'paper', 'PapervsMaskSEM2', 'paperSEM2', 'paper_nolat', 'paper_nolatSEM2', 'latentsvsnolatentsSEM2', 'onlybicycle_data']\n"
     ]
    }
   ],
   "source": [
    "# get environment\n",
    "with open(\"./data/experiment_configs.json\", \"r\") as rf:\n",
    "    config_sets = json.load(rf)\n",
    "print(f\"Possible experiments: {list(config_sets.keys())}\")"
   ]
  },
  {
   "cell_type": "code",
   "execution_count": 235,
   "id": "951c2a62",
   "metadata": {},
   "outputs": [
    {
     "name": "stdout",
     "output_type": "stream",
     "text": [
      "Experiment: onlybicycle_data\n",
      "run_043\n",
      "run_045\n",
      "run_042\n",
      "run_044\n"
     ]
    }
   ],
   "source": [
    "experiment = \"onlybicycle_data\"\n",
    "config_set = config_sets[experiment]\n",
    "include = config_set[\"include\"]\n",
    "id_len = config_set[\"id_len\"]\n",
    "prefix = config_set[\"prefix\"]\n",
    "param_of_interest = config_set[\"param_of_interest\"]\n",
    "agg = config_set[\"function\"]\n",
    "\n",
    "#include = np.array([98,99])\n",
    "#id_len = 3\n",
    "#prefix = \"run_\"\n",
    "#experiment = None\n",
    "#param_of_interest = \"data_source\"\n",
    "#agg = None\n",
    "print(f\"Experiment: {experiment}\")\n",
    "models_path = Path(\"/data/toulouse/bicycle/notebooks/experiments/masking/data/model_runs/models/\")\n",
    "plot_path = Path(\"/data/toulouse/bicycle/notebooks/experiments/masking/data/model_runs/plots\")\n",
    "data_path = Path(\"./data/\")\n",
    "columns = [\n",
    "    \"model_lr\",\n",
    "    \"model_n_genes\",\n",
    "    \"model_n_samples\",\n",
    "    \"pretraining_time\",\n",
    "    \"training_time\",\n",
    "    \"compile\",\n",
    "    \"trad_loading\",\n",
    "    \"scale_mask\",\n",
    "    \"grn_noise_p\",\n",
    "    \"n_epochs\",\n",
    "    \"use_hard_mask\",\n",
    "    \"masking_mode\",\n",
    "    \"bin_prior\",\n",
    "    \"data_id\",\n",
    "    \"data_source\",\n",
    "    \"nll\",\n",
    "    \"max_f1\",\n",
    "    \"average_precision\",\n",
    "    \"auroc\",\n",
    "    \"prior_average_precision\",\n",
    "    \"prior_auroc\",\n",
    "    \"model_use_latents\"\n",
    "    ]\n",
    "if not param_of_interest in columns and not type(param_of_interest) is dict:\n",
    "    columns.append(param_of_interest)\n",
    "    print(f\"Adding {param_of_interest}\")\n",
    "elif isinstance(param_of_interest, dict):\n",
    "     for item in param_of_interest.values():\n",
    "        if item not in columns:\n",
    "            columns.append(item)\n",
    "params = pd.DataFrame(columns=columns)\n",
    "for dir in plot_path.iterdir():\n",
    "    if dir.name[:-id_len] != prefix:\n",
    "         continue\n",
    "    if int(dir.name[-id_len:]) not in include:\n",
    "          continue\n",
    "    print(dir.name)\n",
    "    if (dir/ \"manual_globals.csv\").exists():\n",
    "        params.loc[dir.name] = np.nan\n",
    "        p = pd.read_csv(dir/\"manual_globals.csv\", index_col=0)\n",
    "        available_paras=[n for n in params.columns if n in p.columns]\n",
    "        params.loc[dir.name, available_paras] = p.loc[dir.name,available_paras]\n",
    "        continue\n",
    "    try:\n",
    "        globs = pd.read_csv(dir/ \"globals.csv\", delimiter=\",\").set_index(\"0\", drop=True).T\n",
    "        available_paras = [n for n in columns if n in globs.columns]\n",
    "        params.loc[dir.name] = globs[available_paras].iloc[1]\n",
    "    except FileNotFoundError:\n",
    "        print(f\"globals file for {dir.name} not found!\")\n",
    "        params.loc[dir.name] = np.nan\n",
    "if experiment == \"scalemask\":\n",
    "     params = pd.read_csv(models_path.parent/\"param1.csv\", index_col=0).sort_values(\"scale_mask\")\n",
    "\n",
    "if agg != None:\n",
    "     params, param_of_interest = functions[agg](params, param_of_interest)"
   ]
  },
  {
   "cell_type": "code",
   "execution_count": 236,
   "id": "eb9b5c3b",
   "metadata": {},
   "outputs": [
    {
     "name": "stdout",
     "output_type": "stream",
     "text": [
      "using last\n",
      "run_043\n",
      "last epoch:  9999\n",
      "Initializing parameters from data\n",
      "using last\n",
      "run_045\n",
      "last epoch:  9999\n",
      "Initializing parameters from data\n",
      "using last\n",
      "run_042\n",
      "last epoch:  9999\n",
      "Initializing parameters from data\n",
      "using last\n",
      "run_044\n",
      "last epoch:  9999\n",
      "Initializing parameters from data\n"
     ]
    },
    {
     "name": "stderr",
     "output_type": "stream",
     "text": [
      "/data/toulouse/miniforge3/envs/bicycle/lib/python3.11/site-packages/pytorch_lightning/utilities/migration/utils.py:55: PossibleUserWarning: The loaded checkpoint was produced with Lightning v2.5.1.post0, which is newer than your current Lightning version: v2.0.9\n",
      "  rank_zero_warn(\n"
     ]
    },
    {
     "data": {
      "text/plain": [
       "'    with torch.no_grad():\\n        grn = model.gt_beta.copy()\\n        ckpts[key][\"grn\"] = grn\\n        if not model.mask is None:\\n            beta = np.zeros(grn.shape)\\n            beta[model.mask.cpu().to(bool)] = model.beta_val\\n            ckpts[key][\"beta\"] = beta\\n            #plt.hist(beta)\\n            #plt.show()\\n\\n        else:\\n            ckpts[key][\"beta\"] = model.beta.detach().cpu().numpy().copy()\\n        if not model.bayes_prior is None:\\n            ckpts[key][\"prior\"] = model.bayes_prior.cpu().numpy().copy()\\n'"
      ]
     },
     "execution_count": 236,
     "metadata": {},
     "output_type": "execute_result"
    }
   ],
   "source": [
    "ckpts = dict()\n",
    "for path in models_path.iterdir():\n",
    "    key = str(path.name)\n",
    "    if path.name[:-id_len] != prefix:\n",
    "         continue\n",
    "    if int(path.name[-id_len:]) not in include:\n",
    "          continue\n",
    "    paths = glob(root_dir=path/\"customcheckpoint\", pathname=\"./last*.ckpt\")\n",
    "    try:\n",
    "        paths.remove('./last.ckpt')\n",
    "    except:\n",
    "        print(f\"{key} has no last.ckpt\")\n",
    "        params = params.drop(index=key)\n",
    "        continue\n",
    "\n",
    "    if len(paths) ==0:\n",
    "        print(\"using last\")\n",
    "        ckpt_path = path / \"customcheckpoint/last.ckpt\"\n",
    "        if not ckpt_path.exists():\n",
    "            params = params.drop(index=key)\n",
    "\n",
    "            continue\n",
    "    else:\n",
    "        ckpt_path = path / \"customcheckpoint\"/ max(paths)\n",
    "        print(ckpt_path)\n",
    "    print(key)\n",
    "    state = torch.load(ckpt_path, weights_only=False, map_location=\"cpu\")\n",
    "    print(\"last epoch: \",state[\"epoch\"])\n",
    "    if state[\"epoch\"]<1000:\n",
    "         print(f\"{key} only has {state['epoch']} epoch.\\nWill be removed...\")\n",
    "         params = params.drop(index=key)\n",
    "         continue\n",
    "    model = BICYCLE.load_from_checkpoint(ckpt_path).to(\"cpu\")\n",
    "\n",
    "\n",
    "    ckpts[key] = model\n",
    "'''    with torch.no_grad():\n",
    "        grn = model.gt_beta.copy()\n",
    "        ckpts[key][\"grn\"] = grn\n",
    "        if not model.mask is None:\n",
    "            beta = np.zeros(grn.shape)\n",
    "            beta[model.mask.cpu().to(bool)] = model.beta_val\n",
    "            ckpts[key][\"beta\"] = beta\n",
    "            #plt.hist(beta)\n",
    "            #plt.show()\n",
    "\n",
    "        else:\n",
    "            ckpts[key][\"beta\"] = model.beta.detach().cpu().numpy().copy()\n",
    "        if not model.bayes_prior is None:\n",
    "            ckpts[key][\"prior\"] = model.bayes_prior.cpu().numpy().copy()\n",
    "'''"
   ]
  },
  {
   "cell_type": "code",
   "execution_count": 237,
   "id": "c302cf0b",
   "metadata": {},
   "outputs": [
    {
     "name": "stdout",
     "output_type": "stream",
     "text": [
      "More than 20 test_genes! Removing last 1 contexts.\n"
     ]
    },
    {
     "name": "stderr",
     "output_type": "stream",
     "text": [
      "GPU available: True (cuda), used: False\n",
      "TPU available: False, using: 0 TPU cores\n",
      "IPU available: False, using: 0 IPUs\n",
      "HPU available: False, using: 0 HPUs\n",
      "/data/toulouse/miniforge3/envs/bicycle/lib/python3.11/site-packages/pytorch_lightning/trainer/setup.py:176: PossibleUserWarning: GPU available but not used. Set `accelerator` and `devices` using `Trainer(accelerator='gpu', devices=2)`.\n",
      "  rank_zero_warn(\n",
      "/data/toulouse/miniforge3/envs/bicycle/lib/python3.11/site-packages/pytorch_lightning/trainer/connectors/data_connector.py:442: PossibleUserWarning: The dataloader, train_dataloader, does not have many workers which may be a bottleneck. Consider increasing the value of the `num_workers` argument` (try 64 which is the number of cpus on this machine) in the `DataLoader` init to improve performance.\n",
      "  rank_zero_warn(\n",
      "/data/toulouse/miniforge3/envs/bicycle/lib/python3.11/site-packages/pytorch_lightning/loops/fit_loop.py:281: PossibleUserWarning: The number of training batches (1) is smaller than the logging interval Trainer(log_every_n_steps=100000). Set a lower value for log_every_n_steps if you want to see logs for the training epoch.\n",
      "  rank_zero_warn(\n",
      "`Trainer.fit` stopped: `max_epochs=100` reached.\n",
      "GPU available: True (cuda), used: False\n",
      "TPU available: False, using: 0 TPU cores\n",
      "IPU available: False, using: 0 IPUs\n",
      "HPU available: False, using: 0 HPUs\n",
      "`Trainer.fit` stopped: `max_epochs=100` reached.\n",
      "GPU available: True (cuda), used: False\n",
      "TPU available: False, using: 0 TPU cores\n",
      "IPU available: False, using: 0 IPUs\n",
      "HPU available: False, using: 0 HPUs\n"
     ]
    },
    {
     "name": "stdout",
     "output_type": "stream",
     "text": [
      "GT_INTERV.DEVICE: cpu\n",
      "setting device to: cpu\n",
      "Training took 0.07 seconds\n",
      "torch.Size([400, 10])\n",
      "torch.Size([])\n",
      "GT_INTERV.DEVICE: cpu\n",
      "setting device to: cpu\n",
      "Training took 0.07 seconds\n",
      "torch.Size([400, 10])\n",
      "torch.Size([])\n",
      "GT_INTERV.DEVICE: cpu\n",
      "setting device to: cpu\n"
     ]
    },
    {
     "name": "stderr",
     "output_type": "stream",
     "text": [
      "`Trainer.fit` stopped: `max_epochs=100` reached.\n",
      "GPU available: True (cuda), used: False\n",
      "TPU available: False, using: 0 TPU cores\n",
      "IPU available: False, using: 0 IPUs\n",
      "HPU available: False, using: 0 HPUs\n",
      "`Trainer.fit` stopped: `max_epochs=100` reached.\n",
      "GPU available: True (cuda), used: False\n",
      "TPU available: False, using: 0 TPU cores\n",
      "IPU available: False, using: 0 IPUs\n",
      "HPU available: False, using: 0 HPUs\n",
      "`Trainer.fit` stopped: `max_epochs=100` reached.\n",
      "GPU available: True (cuda), used: False\n",
      "TPU available: False, using: 0 TPU cores\n",
      "IPU available: False, using: 0 IPUs\n",
      "HPU available: False, using: 0 HPUs\n"
     ]
    },
    {
     "name": "stdout",
     "output_type": "stream",
     "text": [
      "Training took 0.08 seconds\n",
      "torch.Size([400, 10])\n",
      "torch.Size([])\n",
      "GT_INTERV.DEVICE: cpu\n",
      "setting device to: cpu\n",
      "Training took 0.08 seconds\n",
      "torch.Size([400, 10])\n",
      "torch.Size([])\n",
      "GT_INTERV.DEVICE: cpu\n",
      "setting device to: cpu\n",
      "Training took 0.08 seconds\n",
      "torch.Size([400, 10])\n",
      "torch.Size([])\n",
      "GT_INTERV.DEVICE: cpu\n",
      "setting device to: cpu\n"
     ]
    },
    {
     "name": "stderr",
     "output_type": "stream",
     "text": [
      "`Trainer.fit` stopped: `max_epochs=100` reached.\n",
      "GPU available: True (cuda), used: False\n",
      "TPU available: False, using: 0 TPU cores\n",
      "IPU available: False, using: 0 IPUs\n",
      "HPU available: False, using: 0 HPUs\n",
      "`Trainer.fit` stopped: `max_epochs=100` reached.\n",
      "GPU available: True (cuda), used: False\n",
      "TPU available: False, using: 0 TPU cores\n",
      "IPU available: False, using: 0 IPUs\n",
      "HPU available: False, using: 0 HPUs\n"
     ]
    },
    {
     "name": "stderr",
     "output_type": "stream",
     "text": [
      "`Trainer.fit` stopped: `max_epochs=100` reached.\n",
      "GPU available: True (cuda), used: False\n",
      "TPU available: False, using: 0 TPU cores\n",
      "IPU available: False, using: 0 IPUs\n",
      "HPU available: False, using: 0 HPUs\n"
     ]
    },
    {
     "name": "stdout",
     "output_type": "stream",
     "text": [
      "Training took 0.07 seconds\n",
      "torch.Size([400, 10])\n",
      "torch.Size([])\n",
      "GT_INTERV.DEVICE: cpu\n",
      "setting device to: cpu\n",
      "Training took 0.07 seconds\n",
      "torch.Size([400, 10])\n",
      "torch.Size([])\n",
      "GT_INTERV.DEVICE: cpu\n",
      "setting device to: cpu\n",
      "Training took 0.07 seconds\n",
      "torch.Size([400, 10])\n",
      "torch.Size([])\n",
      "GT_INTERV.DEVICE: cpu\n",
      "setting device to: cpu\n"
     ]
    },
    {
     "name": "stderr",
     "output_type": "stream",
     "text": [
      "`Trainer.fit` stopped: `max_epochs=100` reached.\n",
      "GPU available: True (cuda), used: False\n",
      "TPU available: False, using: 0 TPU cores\n",
      "IPU available: False, using: 0 IPUs\n",
      "HPU available: False, using: 0 HPUs\n",
      "`Trainer.fit` stopped: `max_epochs=100` reached.\n",
      "GPU available: True (cuda), used: False\n",
      "TPU available: False, using: 0 TPU cores\n",
      "IPU available: False, using: 0 IPUs\n",
      "HPU available: False, using: 0 HPUs\n",
      "`Trainer.fit` stopped: `max_epochs=100` reached.\n",
      "GPU available: True (cuda), used: False\n",
      "TPU available: False, using: 0 TPU cores\n",
      "IPU available: False, using: 0 IPUs\n",
      "HPU available: False, using: 0 HPUs\n"
     ]
    },
    {
     "name": "stdout",
     "output_type": "stream",
     "text": [
      "Training took 0.07 seconds\n",
      "torch.Size([400, 10])\n",
      "torch.Size([])\n",
      "GT_INTERV.DEVICE: cpu\n",
      "setting device to: cpu\n",
      "Training took 0.08 seconds\n",
      "torch.Size([400, 10])\n",
      "torch.Size([])\n",
      "GT_INTERV.DEVICE: cpu\n",
      "setting device to: cpu\n",
      "Training took 0.07 seconds\n",
      "torch.Size([400, 10])\n",
      "torch.Size([])\n",
      "GT_INTERV.DEVICE: cpu\n",
      "setting device to: cpu\n"
     ]
    },
    {
     "name": "stderr",
     "output_type": "stream",
     "text": [
      "`Trainer.fit` stopped: `max_epochs=100` reached.\n",
      "GPU available: True (cuda), used: False\n",
      "TPU available: False, using: 0 TPU cores\n",
      "IPU available: False, using: 0 IPUs\n",
      "HPU available: False, using: 0 HPUs\n",
      "`Trainer.fit` stopped: `max_epochs=100` reached.\n",
      "GPU available: True (cuda), used: False\n",
      "TPU available: False, using: 0 TPU cores\n",
      "IPU available: False, using: 0 IPUs\n",
      "HPU available: False, using: 0 HPUs\n",
      "`Trainer.fit` stopped: `max_epochs=100` reached.\n",
      "GPU available: True (cuda), used: False\n",
      "TPU available: False, using: 0 TPU cores\n",
      "IPU available: False, using: 0 IPUs\n",
      "HPU available: False, using: 0 HPUs\n"
     ]
    },
    {
     "name": "stdout",
     "output_type": "stream",
     "text": [
      "Training took 0.07 seconds\n",
      "torch.Size([400, 10])\n",
      "torch.Size([])\n",
      "GT_INTERV.DEVICE: cpu\n",
      "setting device to: cpu\n",
      "Training took 0.08 seconds\n",
      "torch.Size([400, 10])\n",
      "torch.Size([])\n",
      "GT_INTERV.DEVICE: cpu\n",
      "setting device to: cpu\n",
      "Training took 0.08 seconds\n",
      "torch.Size([400, 10])\n",
      "torch.Size([])\n",
      "GT_INTERV.DEVICE: cpu\n",
      "setting device to: cpu\n"
     ]
    },
    {
     "name": "stderr",
     "output_type": "stream",
     "text": [
      "`Trainer.fit` stopped: `max_epochs=100` reached.\n",
      "GPU available: True (cuda), used: False\n",
      "TPU available: False, using: 0 TPU cores\n",
      "IPU available: False, using: 0 IPUs\n",
      "HPU available: False, using: 0 HPUs\n",
      "`Trainer.fit` stopped: `max_epochs=100` reached.\n",
      "GPU available: True (cuda), used: False\n",
      "TPU available: False, using: 0 TPU cores\n",
      "IPU available: False, using: 0 IPUs\n",
      "HPU available: False, using: 0 HPUs\n",
      "`Trainer.fit` stopped: `max_epochs=100` reached.\n",
      "GPU available: True (cuda), used: False\n",
      "TPU available: False, using: 0 TPU cores\n",
      "IPU available: False, using: 0 IPUs\n",
      "HPU available: False, using: 0 HPUs\n"
     ]
    },
    {
     "name": "stdout",
     "output_type": "stream",
     "text": [
      "Training took 0.08 seconds\n",
      "torch.Size([400, 10])\n",
      "torch.Size([])\n",
      "GT_INTERV.DEVICE: cpu\n",
      "setting device to: cpu\n",
      "Training took 0.09 seconds\n",
      "torch.Size([400, 10])\n",
      "torch.Size([])\n",
      "GT_INTERV.DEVICE: cpu\n",
      "setting device to: cpu\n",
      "Training took 0.09 seconds\n",
      "torch.Size([400, 10])\n",
      "torch.Size([])\n",
      "GT_INTERV.DEVICE: cpu\n",
      "setting device to: cpu\n"
     ]
    },
    {
     "name": "stderr",
     "output_type": "stream",
     "text": [
      "`Trainer.fit` stopped: `max_epochs=100` reached.\n",
      "GPU available: True (cuda), used: False\n",
      "TPU available: False, using: 0 TPU cores\n",
      "IPU available: False, using: 0 IPUs\n",
      "HPU available: False, using: 0 HPUs\n",
      "`Trainer.fit` stopped: `max_epochs=100` reached.\n",
      "GPU available: True (cuda), used: False\n",
      "TPU available: False, using: 0 TPU cores\n",
      "IPU available: False, using: 0 IPUs\n",
      "HPU available: False, using: 0 HPUs\n",
      "`Trainer.fit` stopped: `max_epochs=100` reached.\n"
     ]
    },
    {
     "name": "stdout",
     "output_type": "stream",
     "text": [
      "Training took 0.08 seconds\n",
      "torch.Size([400, 10])\n",
      "torch.Size([])\n",
      "GT_INTERV.DEVICE: cpu\n",
      "setting device to: cpu\n",
      "Training took 0.09 seconds\n",
      "torch.Size([400, 10])\n",
      "torch.Size([])\n",
      "GT_INTERV.DEVICE: cpu\n",
      "setting device to: cpu\n",
      "Training took 0.09 seconds\n",
      "torch.Size([400, 10])\n",
      "torch.Size([])\n",
      "More than 20 test_genes! Removing last 1 contexts.\n"
     ]
    },
    {
     "name": "stderr",
     "output_type": "stream",
     "text": [
      "GPU available: True (cuda), used: False\n",
      "TPU available: False, using: 0 TPU cores\n",
      "IPU available: False, using: 0 IPUs\n",
      "HPU available: False, using: 0 HPUs\n",
      "/data/toulouse/miniforge3/envs/bicycle/lib/python3.11/site-packages/pytorch_lightning/trainer/setup.py:176: PossibleUserWarning: GPU available but not used. Set `accelerator` and `devices` using `Trainer(accelerator='gpu', devices=2)`.\n",
      "  rank_zero_warn(\n",
      "/data/toulouse/miniforge3/envs/bicycle/lib/python3.11/site-packages/pytorch_lightning/trainer/connectors/data_connector.py:442: PossibleUserWarning: The dataloader, train_dataloader, does not have many workers which may be a bottleneck. Consider increasing the value of the `num_workers` argument` (try 64 which is the number of cpus on this machine) in the `DataLoader` init to improve performance.\n",
      "  rank_zero_warn(\n",
      "/data/toulouse/miniforge3/envs/bicycle/lib/python3.11/site-packages/pytorch_lightning/loops/fit_loop.py:281: PossibleUserWarning: The number of training batches (1) is smaller than the logging interval Trainer(log_every_n_steps=100000). Set a lower value for log_every_n_steps if you want to see logs for the training epoch.\n",
      "  rank_zero_warn(\n",
      "`Trainer.fit` stopped: `max_epochs=100` reached.\n",
      "GPU available: True (cuda), used: False\n",
      "TPU available: False, using: 0 TPU cores\n",
      "IPU available: False, using: 0 IPUs\n",
      "HPU available: False, using: 0 HPUs\n",
      "`Trainer.fit` stopped: `max_epochs=100` reached.\n",
      "GPU available: True (cuda), used: False\n",
      "TPU available: False, using: 0 TPU cores\n",
      "IPU available: False, using: 0 IPUs\n",
      "HPU available: False, using: 0 HPUs\n"
     ]
    },
    {
     "name": "stdout",
     "output_type": "stream",
     "text": [
      "GT_INTERV.DEVICE: cpu\n",
      "setting device to: cpu\n",
      "Training took 0.07 seconds\n",
      "torch.Size([400, 10])\n",
      "torch.Size([])\n",
      "GT_INTERV.DEVICE: cpu\n",
      "setting device to: cpu\n",
      "Training took 0.08 seconds\n",
      "torch.Size([400, 10])\n",
      "torch.Size([])\n",
      "GT_INTERV.DEVICE: cpu\n",
      "setting device to: cpu\n"
     ]
    },
    {
     "name": "stderr",
     "output_type": "stream",
     "text": [
      "`Trainer.fit` stopped: `max_epochs=100` reached.\n",
      "GPU available: True (cuda), used: False\n",
      "TPU available: False, using: 0 TPU cores\n",
      "IPU available: False, using: 0 IPUs\n",
      "HPU available: False, using: 0 HPUs\n",
      "`Trainer.fit` stopped: `max_epochs=100` reached.\n",
      "GPU available: True (cuda), used: False\n",
      "TPU available: False, using: 0 TPU cores\n",
      "IPU available: False, using: 0 IPUs\n",
      "HPU available: False, using: 0 HPUs\n",
      "`Trainer.fit` stopped: `max_epochs=100` reached.\n",
      "GPU available: True (cuda), used: False\n",
      "TPU available: False, using: 0 TPU cores\n",
      "IPU available: False, using: 0 IPUs\n",
      "HPU available: False, using: 0 HPUs\n"
     ]
    },
    {
     "name": "stdout",
     "output_type": "stream",
     "text": [
      "Training took 0.08 seconds\n",
      "torch.Size([400, 10])\n",
      "torch.Size([])\n",
      "GT_INTERV.DEVICE: cpu\n",
      "setting device to: cpu\n",
      "Training took 0.08 seconds\n",
      "torch.Size([400, 10])\n",
      "torch.Size([])\n",
      "GT_INTERV.DEVICE: cpu\n",
      "setting device to: cpu\n",
      "Training took 0.08 seconds\n",
      "torch.Size([400, 10])\n",
      "torch.Size([])\n",
      "GT_INTERV.DEVICE: cpu\n",
      "setting device to: cpu\n"
     ]
    },
    {
     "name": "stderr",
     "output_type": "stream",
     "text": [
      "`Trainer.fit` stopped: `max_epochs=100` reached.\n",
      "GPU available: True (cuda), used: False\n",
      "TPU available: False, using: 0 TPU cores\n",
      "IPU available: False, using: 0 IPUs\n",
      "HPU available: False, using: 0 HPUs\n",
      "`Trainer.fit` stopped: `max_epochs=100` reached.\n",
      "GPU available: True (cuda), used: False\n",
      "TPU available: False, using: 0 TPU cores\n",
      "IPU available: False, using: 0 IPUs\n",
      "HPU available: False, using: 0 HPUs\n",
      "`Trainer.fit` stopped: `max_epochs=100` reached.\n",
      "GPU available: True (cuda), used: False\n",
      "TPU available: False, using: 0 TPU cores\n",
      "IPU available: False, using: 0 IPUs\n",
      "HPU available: False, using: 0 HPUs\n"
     ]
    },
    {
     "name": "stdout",
     "output_type": "stream",
     "text": [
      "Training took 0.08 seconds\n",
      "torch.Size([400, 10])\n",
      "torch.Size([])\n",
      "GT_INTERV.DEVICE: cpu\n",
      "setting device to: cpu\n",
      "Training took 0.07 seconds\n",
      "torch.Size([400, 10])\n",
      "torch.Size([])\n",
      "GT_INTERV.DEVICE: cpu\n",
      "setting device to: cpu\n",
      "Training took 0.08 seconds\n",
      "torch.Size([400, 10])\n",
      "torch.Size([])\n",
      "GT_INTERV.DEVICE: cpu\n",
      "setting device to: cpu\n"
     ]
    },
    {
     "name": "stderr",
     "output_type": "stream",
     "text": [
      "`Trainer.fit` stopped: `max_epochs=100` reached.\n",
      "GPU available: True (cuda), used: False\n",
      "TPU available: False, using: 0 TPU cores\n",
      "IPU available: False, using: 0 IPUs\n",
      "HPU available: False, using: 0 HPUs\n",
      "`Trainer.fit` stopped: `max_epochs=100` reached.\n",
      "GPU available: True (cuda), used: False\n",
      "TPU available: False, using: 0 TPU cores\n",
      "IPU available: False, using: 0 IPUs\n",
      "HPU available: False, using: 0 HPUs\n",
      "`Trainer.fit` stopped: `max_epochs=100` reached.\n",
      "GPU available: True (cuda), used: False\n",
      "TPU available: False, using: 0 TPU cores\n",
      "IPU available: False, using: 0 IPUs\n",
      "HPU available: False, using: 0 HPUs\n"
     ]
    },
    {
     "name": "stdout",
     "output_type": "stream",
     "text": [
      "Training took 0.08 seconds\n",
      "torch.Size([400, 10])\n",
      "torch.Size([])\n",
      "GT_INTERV.DEVICE: cpu\n",
      "setting device to: cpu\n",
      "Training took 0.08 seconds\n",
      "torch.Size([400, 10])\n",
      "torch.Size([])\n",
      "GT_INTERV.DEVICE: cpu\n",
      "setting device to: cpu\n",
      "Training took 0.08 seconds\n",
      "torch.Size([400, 10])\n",
      "torch.Size([])\n",
      "GT_INTERV.DEVICE: cpu\n",
      "setting device to: cpu\n"
     ]
    },
    {
     "name": "stderr",
     "output_type": "stream",
     "text": [
      "`Trainer.fit` stopped: `max_epochs=100` reached.\n",
      "GPU available: True (cuda), used: False\n",
      "TPU available: False, using: 0 TPU cores\n",
      "IPU available: False, using: 0 IPUs\n",
      "HPU available: False, using: 0 HPUs\n",
      "`Trainer.fit` stopped: `max_epochs=100` reached.\n",
      "GPU available: True (cuda), used: False\n",
      "TPU available: False, using: 0 TPU cores\n",
      "IPU available: False, using: 0 IPUs\n",
      "HPU available: False, using: 0 HPUs\n",
      "`Trainer.fit` stopped: `max_epochs=100` reached.\n",
      "GPU available: True (cuda), used: False\n",
      "TPU available: False, using: 0 TPU cores\n",
      "IPU available: False, using: 0 IPUs\n",
      "HPU available: False, using: 0 HPUs\n"
     ]
    },
    {
     "name": "stdout",
     "output_type": "stream",
     "text": [
      "Training took 0.08 seconds\n",
      "torch.Size([400, 10])\n",
      "torch.Size([])\n",
      "GT_INTERV.DEVICE: cpu\n",
      "setting device to: cpu\n",
      "Training took 0.08 seconds\n",
      "torch.Size([400, 10])\n",
      "torch.Size([])\n",
      "GT_INTERV.DEVICE: cpu\n",
      "setting device to: cpu\n",
      "Training took 0.07 seconds\n",
      "torch.Size([400, 10])\n",
      "torch.Size([])\n",
      "GT_INTERV.DEVICE: cpu\n",
      "setting device to: cpu\n"
     ]
    },
    {
     "name": "stderr",
     "output_type": "stream",
     "text": [
      "`Trainer.fit` stopped: `max_epochs=100` reached.\n",
      "GPU available: True (cuda), used: False\n",
      "TPU available: False, using: 0 TPU cores\n",
      "IPU available: False, using: 0 IPUs\n",
      "HPU available: False, using: 0 HPUs\n",
      "`Trainer.fit` stopped: `max_epochs=100` reached.\n",
      "GPU available: True (cuda), used: False\n",
      "TPU available: False, using: 0 TPU cores\n",
      "IPU available: False, using: 0 IPUs\n",
      "HPU available: False, using: 0 HPUs\n",
      "`Trainer.fit` stopped: `max_epochs=100` reached.\n",
      "GPU available: True (cuda), used: False\n",
      "TPU available: False, using: 0 TPU cores\n",
      "IPU available: False, using: 0 IPUs\n",
      "HPU available: False, using: 0 HPUs\n"
     ]
    },
    {
     "name": "stdout",
     "output_type": "stream",
     "text": [
      "Training took 0.07 seconds\n",
      "torch.Size([400, 10])\n",
      "torch.Size([])\n",
      "GT_INTERV.DEVICE: cpu\n",
      "setting device to: cpu\n",
      "Training took 0.07 seconds\n",
      "torch.Size([400, 10])\n",
      "torch.Size([])\n",
      "GT_INTERV.DEVICE: cpu\n",
      "setting device to: cpu\n",
      "Training took 0.08 seconds\n",
      "torch.Size([400, 10])\n",
      "torch.Size([])\n",
      "GT_INTERV.DEVICE: cpu\n",
      "setting device to: cpu\n"
     ]
    },
    {
     "name": "stderr",
     "output_type": "stream",
     "text": [
      "`Trainer.fit` stopped: `max_epochs=100` reached.\n",
      "GPU available: True (cuda), used: False\n",
      "TPU available: False, using: 0 TPU cores\n",
      "IPU available: False, using: 0 IPUs\n",
      "HPU available: False, using: 0 HPUs\n",
      "`Trainer.fit` stopped: `max_epochs=100` reached.\n",
      "GPU available: True (cuda), used: False\n",
      "TPU available: False, using: 0 TPU cores\n",
      "IPU available: False, using: 0 IPUs\n",
      "HPU available: False, using: 0 HPUs\n",
      "`Trainer.fit` stopped: `max_epochs=100` reached.\n"
     ]
    },
    {
     "name": "stdout",
     "output_type": "stream",
     "text": [
      "Training took 0.08 seconds\n",
      "torch.Size([400, 10])\n",
      "torch.Size([])\n",
      "GT_INTERV.DEVICE: cpu\n",
      "setting device to: cpu\n",
      "Training took 0.08 seconds\n",
      "torch.Size([400, 10])\n",
      "torch.Size([])\n",
      "GT_INTERV.DEVICE: cpu\n",
      "setting device to: cpu\n",
      "Training took 0.08 seconds\n",
      "torch.Size([400, 10])\n",
      "torch.Size([])\n",
      "More than 20 test_genes! Removing last 1 contexts.\n"
     ]
    },
    {
     "name": "stderr",
     "output_type": "stream",
     "text": [
      "GPU available: True (cuda), used: False\n",
      "TPU available: False, using: 0 TPU cores\n",
      "IPU available: False, using: 0 IPUs\n",
      "HPU available: False, using: 0 HPUs\n",
      "/data/toulouse/miniforge3/envs/bicycle/lib/python3.11/site-packages/pytorch_lightning/trainer/setup.py:176: PossibleUserWarning: GPU available but not used. Set `accelerator` and `devices` using `Trainer(accelerator='gpu', devices=2)`.\n",
      "  rank_zero_warn(\n",
      "/data/toulouse/miniforge3/envs/bicycle/lib/python3.11/site-packages/pytorch_lightning/trainer/connectors/data_connector.py:442: PossibleUserWarning: The dataloader, train_dataloader, does not have many workers which may be a bottleneck. Consider increasing the value of the `num_workers` argument` (try 64 which is the number of cpus on this machine) in the `DataLoader` init to improve performance.\n",
      "  rank_zero_warn(\n",
      "/data/toulouse/miniforge3/envs/bicycle/lib/python3.11/site-packages/pytorch_lightning/loops/fit_loop.py:281: PossibleUserWarning: The number of training batches (1) is smaller than the logging interval Trainer(log_every_n_steps=100000). Set a lower value for log_every_n_steps if you want to see logs for the training epoch.\n",
      "  rank_zero_warn(\n",
      "`Trainer.fit` stopped: `max_epochs=100` reached.\n",
      "GPU available: True (cuda), used: False\n",
      "TPU available: False, using: 0 TPU cores\n",
      "IPU available: False, using: 0 IPUs\n",
      "HPU available: False, using: 0 HPUs\n",
      "`Trainer.fit` stopped: `max_epochs=100` reached.\n",
      "GPU available: True (cuda), used: False\n",
      "TPU available: False, using: 0 TPU cores\n",
      "IPU available: False, using: 0 IPUs\n",
      "HPU available: False, using: 0 HPUs\n"
     ]
    },
    {
     "name": "stdout",
     "output_type": "stream",
     "text": [
      "GT_INTERV.DEVICE: cpu\n",
      "setting device to: cpu\n",
      "Training took 0.07 seconds\n",
      "torch.Size([400, 10])\n",
      "torch.Size([])\n",
      "GT_INTERV.DEVICE: cpu\n",
      "setting device to: cpu\n",
      "Training took 0.07 seconds\n",
      "torch.Size([400, 10])\n",
      "torch.Size([])\n",
      "GT_INTERV.DEVICE: cpu\n",
      "setting device to: cpu\n"
     ]
    },
    {
     "name": "stderr",
     "output_type": "stream",
     "text": [
      "`Trainer.fit` stopped: `max_epochs=100` reached.\n",
      "GPU available: True (cuda), used: False\n",
      "TPU available: False, using: 0 TPU cores\n",
      "IPU available: False, using: 0 IPUs\n",
      "HPU available: False, using: 0 HPUs\n",
      "`Trainer.fit` stopped: `max_epochs=100` reached.\n",
      "GPU available: True (cuda), used: False\n",
      "TPU available: False, using: 0 TPU cores\n",
      "IPU available: False, using: 0 IPUs\n",
      "HPU available: False, using: 0 HPUs\n",
      "`Trainer.fit` stopped: `max_epochs=100` reached.\n",
      "GPU available: True (cuda), used: False\n",
      "TPU available: False, using: 0 TPU cores\n",
      "IPU available: False, using: 0 IPUs\n",
      "HPU available: False, using: 0 HPUs\n"
     ]
    },
    {
     "name": "stdout",
     "output_type": "stream",
     "text": [
      "Training took 0.07 seconds\n",
      "torch.Size([400, 10])\n",
      "torch.Size([])\n",
      "GT_INTERV.DEVICE: cpu\n",
      "setting device to: cpu\n",
      "Training took 0.07 seconds\n",
      "torch.Size([400, 10])\n",
      "torch.Size([])\n",
      "GT_INTERV.DEVICE: cpu\n",
      "setting device to: cpu\n",
      "Training took 0.07 seconds\n",
      "torch.Size([400, 10])\n",
      "torch.Size([])\n",
      "GT_INTERV.DEVICE: cpu\n",
      "setting device to: cpu\n"
     ]
    },
    {
     "name": "stderr",
     "output_type": "stream",
     "text": [
      "`Trainer.fit` stopped: `max_epochs=100` reached.\n",
      "GPU available: True (cuda), used: False\n",
      "TPU available: False, using: 0 TPU cores\n",
      "IPU available: False, using: 0 IPUs\n",
      "HPU available: False, using: 0 HPUs\n",
      "`Trainer.fit` stopped: `max_epochs=100` reached.\n",
      "GPU available: True (cuda), used: False\n",
      "TPU available: False, using: 0 TPU cores\n",
      "IPU available: False, using: 0 IPUs\n",
      "HPU available: False, using: 0 HPUs\n",
      "`Trainer.fit` stopped: `max_epochs=100` reached.\n",
      "GPU available: True (cuda), used: False\n",
      "TPU available: False, using: 0 TPU cores\n",
      "IPU available: False, using: 0 IPUs\n",
      "HPU available: False, using: 0 HPUs\n"
     ]
    },
    {
     "name": "stdout",
     "output_type": "stream",
     "text": [
      "Training took 0.08 seconds\n",
      "torch.Size([400, 10])\n",
      "torch.Size([])\n",
      "GT_INTERV.DEVICE: cpu\n",
      "setting device to: cpu\n",
      "Training took 0.08 seconds\n",
      "torch.Size([400, 10])\n",
      "torch.Size([])\n",
      "GT_INTERV.DEVICE: cpu\n",
      "setting device to: cpu\n",
      "Training took 0.08 seconds\n",
      "torch.Size([400, 10])\n",
      "torch.Size([])\n",
      "GT_INTERV.DEVICE: cpu\n",
      "setting device to: cpu\n"
     ]
    },
    {
     "name": "stderr",
     "output_type": "stream",
     "text": [
      "`Trainer.fit` stopped: `max_epochs=100` reached.\n",
      "GPU available: True (cuda), used: False\n",
      "TPU available: False, using: 0 TPU cores\n",
      "IPU available: False, using: 0 IPUs\n",
      "HPU available: False, using: 0 HPUs\n",
      "`Trainer.fit` stopped: `max_epochs=100` reached.\n",
      "GPU available: True (cuda), used: False\n",
      "TPU available: False, using: 0 TPU cores\n",
      "IPU available: False, using: 0 IPUs\n",
      "HPU available: False, using: 0 HPUs\n",
      "`Trainer.fit` stopped: `max_epochs=100` reached.\n",
      "GPU available: True (cuda), used: False\n",
      "TPU available: False, using: 0 TPU cores\n",
      "IPU available: False, using: 0 IPUs\n",
      "HPU available: False, using: 0 HPUs\n"
     ]
    },
    {
     "name": "stdout",
     "output_type": "stream",
     "text": [
      "Training took 0.08 seconds\n",
      "torch.Size([400, 10])\n",
      "torch.Size([])\n",
      "GT_INTERV.DEVICE: cpu\n",
      "setting device to: cpu\n",
      "Training took 0.08 seconds\n",
      "torch.Size([400, 10])\n",
      "torch.Size([])\n",
      "GT_INTERV.DEVICE: cpu\n",
      "setting device to: cpu\n",
      "Training took 0.08 seconds\n",
      "torch.Size([400, 10])\n",
      "torch.Size([])\n",
      "GT_INTERV.DEVICE: cpu\n",
      "setting device to: cpu\n"
     ]
    },
    {
     "name": "stderr",
     "output_type": "stream",
     "text": [
      "`Trainer.fit` stopped: `max_epochs=100` reached.\n",
      "GPU available: True (cuda), used: False\n",
      "TPU available: False, using: 0 TPU cores\n",
      "IPU available: False, using: 0 IPUs\n",
      "HPU available: False, using: 0 HPUs\n",
      "`Trainer.fit` stopped: `max_epochs=100` reached.\n",
      "GPU available: True (cuda), used: False\n",
      "TPU available: False, using: 0 TPU cores\n",
      "IPU available: False, using: 0 IPUs\n",
      "HPU available: False, using: 0 HPUs\n",
      "`Trainer.fit` stopped: `max_epochs=100` reached.\n",
      "GPU available: True (cuda), used: False\n",
      "TPU available: False, using: 0 TPU cores\n",
      "IPU available: False, using: 0 IPUs\n",
      "HPU available: False, using: 0 HPUs\n"
     ]
    },
    {
     "name": "stdout",
     "output_type": "stream",
     "text": [
      "Training took 0.08 seconds\n",
      "torch.Size([400, 10])\n",
      "torch.Size([])\n",
      "GT_INTERV.DEVICE: cpu\n",
      "setting device to: cpu\n",
      "Training took 0.07 seconds\n",
      "torch.Size([400, 10])\n",
      "torch.Size([])\n",
      "GT_INTERV.DEVICE: cpu\n",
      "setting device to: cpu\n",
      "Training took 0.07 seconds\n",
      "torch.Size([400, 10])\n",
      "torch.Size([])\n",
      "GT_INTERV.DEVICE: cpu\n",
      "setting device to: cpu\n"
     ]
    },
    {
     "name": "stderr",
     "output_type": "stream",
     "text": [
      "`Trainer.fit` stopped: `max_epochs=100` reached.\n",
      "GPU available: True (cuda), used: False\n",
      "TPU available: False, using: 0 TPU cores\n",
      "IPU available: False, using: 0 IPUs\n",
      "HPU available: False, using: 0 HPUs\n",
      "`Trainer.fit` stopped: `max_epochs=100` reached.\n",
      "GPU available: True (cuda), used: False\n",
      "TPU available: False, using: 0 TPU cores\n",
      "IPU available: False, using: 0 IPUs\n",
      "HPU available: False, using: 0 HPUs\n",
      "`Trainer.fit` stopped: `max_epochs=100` reached.\n",
      "GPU available: True (cuda), used: False\n",
      "TPU available: False, using: 0 TPU cores\n",
      "IPU available: False, using: 0 IPUs\n",
      "HPU available: False, using: 0 HPUs\n"
     ]
    },
    {
     "name": "stdout",
     "output_type": "stream",
     "text": [
      "Training took 0.07 seconds\n",
      "torch.Size([400, 10])\n",
      "torch.Size([])\n",
      "GT_INTERV.DEVICE: cpu\n",
      "setting device to: cpu\n",
      "Training took 0.07 seconds\n",
      "torch.Size([400, 10])\n",
      "torch.Size([])\n",
      "GT_INTERV.DEVICE: cpu\n",
      "setting device to: cpu\n",
      "Training took 0.07 seconds\n",
      "torch.Size([400, 10])\n",
      "torch.Size([])\n",
      "GT_INTERV.DEVICE: cpu\n",
      "setting device to: cpu\n"
     ]
    },
    {
     "name": "stderr",
     "output_type": "stream",
     "text": [
      "`Trainer.fit` stopped: `max_epochs=100` reached.\n",
      "GPU available: True (cuda), used: False\n",
      "TPU available: False, using: 0 TPU cores\n",
      "IPU available: False, using: 0 IPUs\n",
      "HPU available: False, using: 0 HPUs\n",
      "`Trainer.fit` stopped: `max_epochs=100` reached.\n",
      "GPU available: True (cuda), used: False\n",
      "TPU available: False, using: 0 TPU cores\n",
      "IPU available: False, using: 0 IPUs\n",
      "HPU available: False, using: 0 HPUs\n",
      "`Trainer.fit` stopped: `max_epochs=100` reached.\n"
     ]
    },
    {
     "name": "stdout",
     "output_type": "stream",
     "text": [
      "Training took 0.07 seconds\n",
      "torch.Size([400, 10])\n",
      "torch.Size([])\n",
      "GT_INTERV.DEVICE: cpu\n",
      "setting device to: cpu\n",
      "Training took 0.07 seconds\n",
      "torch.Size([400, 10])\n",
      "torch.Size([])\n",
      "GT_INTERV.DEVICE: cpu\n",
      "setting device to: cpu\n",
      "Training took 0.07 seconds\n",
      "torch.Size([400, 10])\n",
      "torch.Size([])\n",
      "More than 20 test_genes! Removing last 1 contexts.\n"
     ]
    },
    {
     "name": "stderr",
     "output_type": "stream",
     "text": [
      "GPU available: True (cuda), used: False\n",
      "TPU available: False, using: 0 TPU cores\n",
      "IPU available: False, using: 0 IPUs\n",
      "HPU available: False, using: 0 HPUs\n",
      "/data/toulouse/miniforge3/envs/bicycle/lib/python3.11/site-packages/pytorch_lightning/trainer/setup.py:176: PossibleUserWarning: GPU available but not used. Set `accelerator` and `devices` using `Trainer(accelerator='gpu', devices=2)`.\n",
      "  rank_zero_warn(\n",
      "/data/toulouse/miniforge3/envs/bicycle/lib/python3.11/site-packages/pytorch_lightning/trainer/connectors/data_connector.py:442: PossibleUserWarning: The dataloader, train_dataloader, does not have many workers which may be a bottleneck. Consider increasing the value of the `num_workers` argument` (try 64 which is the number of cpus on this machine) in the `DataLoader` init to improve performance.\n",
      "  rank_zero_warn(\n",
      "/data/toulouse/miniforge3/envs/bicycle/lib/python3.11/site-packages/pytorch_lightning/loops/fit_loop.py:281: PossibleUserWarning: The number of training batches (1) is smaller than the logging interval Trainer(log_every_n_steps=100000). Set a lower value for log_every_n_steps if you want to see logs for the training epoch.\n",
      "  rank_zero_warn(\n",
      "`Trainer.fit` stopped: `max_epochs=100` reached.\n",
      "GPU available: True (cuda), used: False\n",
      "TPU available: False, using: 0 TPU cores\n",
      "IPU available: False, using: 0 IPUs\n",
      "HPU available: False, using: 0 HPUs\n",
      "`Trainer.fit` stopped: `max_epochs=100` reached.\n",
      "GPU available: True (cuda), used: False\n",
      "TPU available: False, using: 0 TPU cores\n",
      "IPU available: False, using: 0 IPUs\n",
      "HPU available: False, using: 0 HPUs\n"
     ]
    },
    {
     "name": "stdout",
     "output_type": "stream",
     "text": [
      "GT_INTERV.DEVICE: cpu\n",
      "setting device to: cpu\n",
      "Training took 0.07 seconds\n",
      "torch.Size([400, 10])\n",
      "torch.Size([])\n",
      "GT_INTERV.DEVICE: cpu\n",
      "setting device to: cpu\n",
      "Training took 0.07 seconds\n",
      "torch.Size([400, 10])\n",
      "torch.Size([])\n",
      "GT_INTERV.DEVICE: cpu\n",
      "setting device to: cpu\n"
     ]
    },
    {
     "name": "stderr",
     "output_type": "stream",
     "text": [
      "`Trainer.fit` stopped: `max_epochs=100` reached.\n",
      "GPU available: True (cuda), used: False\n",
      "TPU available: False, using: 0 TPU cores\n",
      "IPU available: False, using: 0 IPUs\n",
      "HPU available: False, using: 0 HPUs\n",
      "`Trainer.fit` stopped: `max_epochs=100` reached.\n",
      "GPU available: True (cuda), used: False\n",
      "TPU available: False, using: 0 TPU cores\n",
      "IPU available: False, using: 0 IPUs\n",
      "HPU available: False, using: 0 HPUs\n",
      "`Trainer.fit` stopped: `max_epochs=100` reached.\n",
      "GPU available: True (cuda), used: False\n",
      "TPU available: False, using: 0 TPU cores\n",
      "IPU available: False, using: 0 IPUs\n",
      "HPU available: False, using: 0 HPUs\n"
     ]
    },
    {
     "name": "stdout",
     "output_type": "stream",
     "text": [
      "Training took 0.07 seconds\n",
      "torch.Size([400, 10])\n",
      "torch.Size([])\n",
      "GT_INTERV.DEVICE: cpu\n",
      "setting device to: cpu\n",
      "Training took 0.07 seconds\n",
      "torch.Size([400, 10])\n",
      "torch.Size([])\n",
      "GT_INTERV.DEVICE: cpu\n",
      "setting device to: cpu\n",
      "Training took 0.07 seconds\n",
      "torch.Size([400, 10])\n",
      "torch.Size([])\n",
      "GT_INTERV.DEVICE: cpu\n",
      "setting device to: cpu\n"
     ]
    },
    {
     "name": "stderr",
     "output_type": "stream",
     "text": [
      "`Trainer.fit` stopped: `max_epochs=100` reached.\n",
      "GPU available: True (cuda), used: False\n",
      "TPU available: False, using: 0 TPU cores\n",
      "IPU available: False, using: 0 IPUs\n",
      "HPU available: False, using: 0 HPUs\n",
      "`Trainer.fit` stopped: `max_epochs=100` reached.\n",
      "GPU available: True (cuda), used: False\n",
      "TPU available: False, using: 0 TPU cores\n",
      "IPU available: False, using: 0 IPUs\n",
      "HPU available: False, using: 0 HPUs\n",
      "`Trainer.fit` stopped: `max_epochs=100` reached.\n",
      "GPU available: True (cuda), used: False\n",
      "TPU available: False, using: 0 TPU cores\n",
      "IPU available: False, using: 0 IPUs\n",
      "HPU available: False, using: 0 HPUs\n"
     ]
    },
    {
     "name": "stdout",
     "output_type": "stream",
     "text": [
      "Training took 0.08 seconds\n",
      "torch.Size([400, 10])\n",
      "torch.Size([])\n",
      "GT_INTERV.DEVICE: cpu\n",
      "setting device to: cpu\n",
      "Training took 0.08 seconds\n",
      "torch.Size([400, 10])\n",
      "torch.Size([])\n",
      "GT_INTERV.DEVICE: cpu\n",
      "setting device to: cpu\n",
      "Training took 0.08 seconds\n",
      "torch.Size([400, 10])\n",
      "torch.Size([])\n",
      "GT_INTERV.DEVICE: cpu\n",
      "setting device to: cpu\n"
     ]
    },
    {
     "name": "stderr",
     "output_type": "stream",
     "text": [
      "`Trainer.fit` stopped: `max_epochs=100` reached.\n",
      "GPU available: True (cuda), used: False\n",
      "TPU available: False, using: 0 TPU cores\n",
      "IPU available: False, using: 0 IPUs\n",
      "HPU available: False, using: 0 HPUs\n",
      "`Trainer.fit` stopped: `max_epochs=100` reached.\n",
      "GPU available: True (cuda), used: False\n",
      "TPU available: False, using: 0 TPU cores\n",
      "IPU available: False, using: 0 IPUs\n",
      "HPU available: False, using: 0 HPUs\n",
      "`Trainer.fit` stopped: `max_epochs=100` reached.\n",
      "GPU available: True (cuda), used: False\n",
      "TPU available: False, using: 0 TPU cores\n",
      "IPU available: False, using: 0 IPUs\n",
      "HPU available: False, using: 0 HPUs\n"
     ]
    },
    {
     "name": "stdout",
     "output_type": "stream",
     "text": [
      "Training took 0.08 seconds\n",
      "torch.Size([400, 10])\n",
      "torch.Size([])\n",
      "GT_INTERV.DEVICE: cpu\n",
      "setting device to: cpu\n",
      "Training took 0.07 seconds\n",
      "torch.Size([400, 10])\n",
      "torch.Size([])\n",
      "GT_INTERV.DEVICE: cpu\n",
      "setting device to: cpu\n",
      "Training took 0.07 seconds\n",
      "torch.Size([400, 10])\n",
      "torch.Size([])\n",
      "GT_INTERV.DEVICE: cpu\n",
      "setting device to: cpu\n"
     ]
    },
    {
     "name": "stderr",
     "output_type": "stream",
     "text": [
      "`Trainer.fit` stopped: `max_epochs=100` reached.\n",
      "GPU available: True (cuda), used: False\n",
      "TPU available: False, using: 0 TPU cores\n",
      "IPU available: False, using: 0 IPUs\n",
      "HPU available: False, using: 0 HPUs\n",
      "`Trainer.fit` stopped: `max_epochs=100` reached.\n",
      "GPU available: True (cuda), used: False\n",
      "TPU available: False, using: 0 TPU cores\n",
      "IPU available: False, using: 0 IPUs\n",
      "HPU available: False, using: 0 HPUs\n",
      "`Trainer.fit` stopped: `max_epochs=100` reached.\n",
      "GPU available: True (cuda), used: False\n",
      "TPU available: False, using: 0 TPU cores\n",
      "IPU available: False, using: 0 IPUs\n",
      "HPU available: False, using: 0 HPUs\n"
     ]
    },
    {
     "name": "stdout",
     "output_type": "stream",
     "text": [
      "Training took 0.07 seconds\n",
      "torch.Size([400, 10])\n",
      "torch.Size([])\n",
      "GT_INTERV.DEVICE: cpu\n",
      "setting device to: cpu\n",
      "Training took 0.08 seconds\n",
      "torch.Size([400, 10])\n",
      "torch.Size([])\n",
      "GT_INTERV.DEVICE: cpu\n",
      "setting device to: cpu\n",
      "Training took 0.08 seconds\n",
      "torch.Size([400, 10])\n",
      "torch.Size([])\n",
      "GT_INTERV.DEVICE: cpu\n",
      "setting device to: cpu\n"
     ]
    },
    {
     "name": "stderr",
     "output_type": "stream",
     "text": [
      "`Trainer.fit` stopped: `max_epochs=100` reached.\n",
      "GPU available: True (cuda), used: False\n",
      "TPU available: False, using: 0 TPU cores\n",
      "IPU available: False, using: 0 IPUs\n",
      "HPU available: False, using: 0 HPUs\n",
      "`Trainer.fit` stopped: `max_epochs=100` reached.\n",
      "GPU available: True (cuda), used: False\n",
      "TPU available: False, using: 0 TPU cores\n",
      "IPU available: False, using: 0 IPUs\n",
      "HPU available: False, using: 0 HPUs\n",
      "`Trainer.fit` stopped: `max_epochs=100` reached.\n",
      "GPU available: True (cuda), used: False\n",
      "TPU available: False, using: 0 TPU cores\n",
      "IPU available: False, using: 0 IPUs\n",
      "HPU available: False, using: 0 HPUs\n"
     ]
    },
    {
     "name": "stdout",
     "output_type": "stream",
     "text": [
      "Training took 0.08 seconds\n",
      "torch.Size([400, 10])\n",
      "torch.Size([])\n",
      "GT_INTERV.DEVICE: cpu\n",
      "setting device to: cpu\n",
      "Training took 0.08 seconds\n",
      "torch.Size([400, 10])\n",
      "torch.Size([])\n",
      "GT_INTERV.DEVICE: cpu\n",
      "setting device to: cpu\n",
      "Training took 0.08 seconds\n",
      "torch.Size([400, 10])\n",
      "torch.Size([])\n",
      "GT_INTERV.DEVICE: cpu\n",
      "setting device to: cpu\n"
     ]
    },
    {
     "name": "stderr",
     "output_type": "stream",
     "text": [
      "`Trainer.fit` stopped: `max_epochs=100` reached.\n",
      "GPU available: True (cuda), used: False\n",
      "TPU available: False, using: 0 TPU cores\n",
      "IPU available: False, using: 0 IPUs\n",
      "HPU available: False, using: 0 HPUs\n",
      "`Trainer.fit` stopped: `max_epochs=100` reached.\n",
      "GPU available: True (cuda), used: False\n",
      "TPU available: False, using: 0 TPU cores\n",
      "IPU available: False, using: 0 IPUs\n",
      "HPU available: False, using: 0 HPUs\n",
      "`Trainer.fit` stopped: `max_epochs=100` reached.\n"
     ]
    },
    {
     "name": "stdout",
     "output_type": "stream",
     "text": [
      "Training took 0.08 seconds\n",
      "torch.Size([400, 10])\n",
      "torch.Size([])\n",
      "GT_INTERV.DEVICE: cpu\n",
      "setting device to: cpu\n",
      "Training took 0.07 seconds\n",
      "torch.Size([400, 10])\n",
      "torch.Size([])\n",
      "GT_INTERV.DEVICE: cpu\n",
      "setting device to: cpu\n",
      "Training took 0.07 seconds\n",
      "torch.Size([400, 10])\n",
      "torch.Size([])\n"
     ]
    }
   ],
   "source": [
    "new_params = pd.DataFrame(columns=[\"nll_\", \"max_f1_\", \"average_precision_\", \"auroc_\", \"prior_average_precision_\", \"prior_auc_\"])\n",
    "for key in params.index:\n",
    "    model = ckpts[key]\n",
    "    if not model.bayes_prior is None:\n",
    "        nll, max_f1, average_precision, auroc, prior_average_precision, prior_auc = evaluate_model(model=model, key = key, models_path=models_path, max_epochs = 100, compare_latents = True)\n",
    "    else:\n",
    "        nll, max_f1, average_precision, auroc = evaluate_model(model=model, key = key, models_path=models_path, max_epochs = 100)\n",
    "        prior_average_precision, prior_auc = [None, None]\n",
    "\n",
    "    new_params.loc[key] = nll, max_f1, average_precision, auroc, prior_average_precision, prior_auc\n",
    "params[new_params.columns] = new_params\n"
   ]
  },
  {
   "cell_type": "code",
   "execution_count": 238,
   "id": "8d0191d4",
   "metadata": {},
   "outputs": [],
   "source": [
    "# detangle nll\n",
    "targets = [n for n in params.columns if n.startswith(\"nll\")]\n",
    "params[targets] = params[targets].map(lambda x: x[0] if isinstance(x,tuple) else x)"
   ]
  },
  {
   "cell_type": "code",
   "execution_count": 239,
   "id": "dfbe8c05",
   "metadata": {},
   "outputs": [],
   "source": [
    "metrics = [n for n in params.columns if n.endswith(\"_\")]\n",
    "#params = params.dropna(axis=1, how = \"any\")\n",
    "#means = params.groupby(param_of_interest)[metrics].aggregate(lambda x: np.median(torch.tensor(x).numpy()))\n",
    "#stds = params.groupby(param_of_interest)[metrics].aggregate(np.std)\n",
    "#if np.mean(means[\"nll_\"]) >10:\n",
    "#    means[\"log_nll_\"] = np.log(means[\"nll_\"])\n",
    "#    params[\"log_nll_\"] = np.log(params[\"nll_\"])\n",
    "#    means = means.drop(columns=\"nll_\")"
   ]
  },
  {
   "cell_type": "code",
   "execution_count": 240,
   "id": "03d188e7",
   "metadata": {},
   "outputs": [
    {
     "data": {
      "text/plain": [
       "'data_source'"
      ]
     },
     "execution_count": 240,
     "metadata": {},
     "output_type": "execute_result"
    }
   ],
   "source": [
    "param_of_interest"
   ]
  },
  {
   "cell_type": "code",
   "execution_count": 241,
   "id": "24d77ca0",
   "metadata": {},
   "outputs": [
    {
     "data": {
      "text/plain": [
       "['nll_',\n",
       " 'max_f1_',\n",
       " 'average_precision_',\n",
       " 'auroc_',\n",
       " 'prior_average_precision_',\n",
       " 'prior_auc_']"
      ]
     },
     "execution_count": 241,
     "metadata": {},
     "output_type": "execute_result"
    }
   ],
   "source": [
    "metrics"
   ]
  },
  {
   "cell_type": "code",
   "execution_count": 243,
   "id": "4e73d74d",
   "metadata": {},
   "outputs": [
    {
     "name": "stdout",
     "output_type": "stream",
     "text": [
      "Significant p-values: {}\n",
      "Significant p-values: {}\n"
     ]
    },
    {
     "data": {
      "image/png": "[encoded data removed]",
      "text/plain": [
       "<Figure size 900x600 with 2 Axes>"
      ]
     },
     "metadata": {},
     "output_type": "display_data"
    },
    {
     "name": "stdout",
     "output_type": "stream",
     "text": [
      "Saving! Path: ./presentation/onlybicycle_data_full_metrics_bar\n"
     ]
    }
   ],
   "source": [
    "plt.rcParams[\"font.family\"] = \"Times New Roman\"\n",
    "from matplotlib.colors import TABLEAU_COLORS\n",
    "colors = list(TABLEAU_COLORS.values())\n",
    "#colors = [\"salmon\", \"skyblue\"]\n",
    "width=1\n",
    "fig, ax = plt.subplots(figsize=(width*len(params)+5, 6), ncols=2)\n",
    "ax = ax.flatten()\n",
    "\n",
    "# Group info\n",
    "ex_metrics = ['max_f1_', 'average_precision_', 'auroc_',\n",
    "              \"prior_auc_\", \"prior_average_precision_\"\n",
    "              ]\n",
    "df = params[ex_metrics+[param_of_interest]]#.query(f\"{param_of_interest}!=1\")\n",
    "p_dict = bar_scientific(df = df, param_of_interest=param_of_interest, ax = ax[0], colors = colors, bar_width=width, annotate=False)\n",
    "\n",
    "ex_metrics = ['nll_']\n",
    "\n",
    "df = params[ex_metrics+[param_of_interest]]\n",
    "p_dict.update(bar_scientific(df = df, param_of_interest=param_of_interest, ax = ax[1], colors = colors, bar_width=width), annotate=False)\n",
    "\n",
    "\n",
    "fig.suptitle(f\"{experiment} Comparing {param_of_interest}\")\n",
    "#fig.legend(labels=np.unique(df[param_of_interest]), labelcolor = colors)\n",
    "ax[0].legend(loc=\"upper left\")\n",
    "plt.tight_layout()\n",
    "plt.show()\n",
    "if save:\n",
    "    path = f\"./presentation/{experiment}_full_metrics_bar\"\n",
    "    print(f\"Saving! Path: {path}\")\n",
    "    fig.savefig(path +\".pdf\")\n",
    "    with open(path + \".json\", \"w\") as wf:\n",
    "        json.dump(p_dict, wf)\n",
    "    params.to_csv(path+\".csv\")"
   ]
  },
  {
   "cell_type": "code",
   "execution_count": null,
   "id": "74f399e9",
   "metadata": {},
   "outputs": [],
   "source": []
  },
  {
   "cell_type": "markdown",
   "id": "d5c7f8c7",
   "metadata": {},
   "source": [
    "df.columns.drop(param_of_interest)"
   ]
  },
  {
   "cell_type": "markdown",
   "id": "81e97a47",
   "metadata": {},
   "source": [
    "log_nll = np.mean(means[\"nll_\"]) >10\n",
    "nlls = means[\"nll_\"]\n",
    "means = means.drop(columns=\"nll_\")\n",
    "nll_stds = stds[\"nll_\"]\n",
    "stds = stds.drop(columns=\"nll_\")"
   ]
  },
  {
   "cell_type": "markdown",
   "id": "f0bd750c",
   "metadata": {},
   "source": [
    "nlls.index"
   ]
  },
  {
   "cell_type": "markdown",
   "id": "fc70bbc6",
   "metadata": {},
   "source": [
    "x"
   ]
  },
  {
   "cell_type": "markdown",
   "id": "fca8b73d",
   "metadata": {},
   "source": [
    "width = 0.1\n",
    "a = 0.005\n",
    "plt.subplot(1,3,(1,2))\n",
    "x = np.arange(means.shape[1])\n",
    "for i,row in means.iterrows():\n",
    "    y = row.values\n",
    "    plt.bar(x = x, height = y, label = row.name, width=width)\n",
    "    plt.errorbar(x = x, y = y, c = \"black\", yerr=stds.loc[i], fmt=\"none\")\n",
    "    x = x + width\n",
    "\n",
    "plt.xticks(ticks = np.arange(means.shape[1]) + width*(0.25*len(means)), labels=means.columns)\n",
    "plt.legend()\n",
    "\n",
    "plt.subplot(1,3,3)\n",
    "x = np.arange(0, len(nlls)*width*2, width*2)\n",
    "plt.bar(x = x, height = nlls, label = nlls.index, width=width)\n",
    "plt.errorbar(x = x, y = nlls, c = \"black\", yerr=nll_stds, fmt=\"none\")\n",
    "plt.xticks(ticks=0.1, labels=\"nll\")\n",
    "\n",
    "fig = plt.gcf()\n",
    "fig.set_size_inches(10, 5)\n",
    "\n",
    "plt.title(f\"{experiment}\")\n",
    "xticks = np.array(plt.xticks()[0])\n",
    "a = 0.05\n",
    "#for m, metric in enumerate(means.columns):\n",
    "#    bar_height = 0\n",
    "#    scores = means[metric]\n",
    "#    for c1, _ in enumerate(scores):\n",
    "#        y1 = params.query(f\"{param_of_interest} == '{scores.index[c1]}'\")[metric].apply(np.array)\n",
    "#        print(c1, y1)\n",
    "#        for c2, _ in enumerate(scores):\n",
    "#            y2 = params.query(f\"{param_of_interest} == '{scores.index[c2]}'\")[metric].apply(np.array)\n",
    "#\n",
    "#            if c1 >= c2:\n",
    "#                # continue when comparing same row\n",
    "#                continue\n",
    "#            print(c2, y2)\n",
    "#            p = np.round(ttest_rel(y1, y2).pvalue, 5)\n",
    "#            print(f\"p value of: {metric} in {scores.index[c1]} vs {scores.index[c2]} is {p}\")\n",
    "#            if p>a:\n",
    "#                # continue if not significant\n",
    "#                continue\n",
    "#            y_bar1 = np.max([y1, y2]) *(1.1+bar_height*0.2)\n",
    "#            y_bar2 = y_bar1 +0.1\n",
    "#            x1 = xticks[c1+1+m*len(scores)]\n",
    "#            x2 = xticks[c1+1+m*len(scores)]+width\n",
    "#            plt.plot(np.repeat([x1, x2], 2), np.array([y_bar1, y_bar2])[[0,1,1,0]], c = \"black\")\n",
    "#            y_text = y_bar2 +0.1\n",
    "#            x_text = np.mean([x1, x2])\n",
    "#            plt.ylim((0, y_text*1.1))\n",
    "#            p = f\"p value: {p}\"\n",
    "#            plt.text(x = x_text, y = y_text, s = p, ha=\"center\")\n",
    "#            bar_height += 1\n",
    "#            #plt.ylim((0, y_text*1.2))\n",
    "plt.plot([], [], \" \", label = param_of_interest + \":\")\n",
    "plt.legend()\n",
    "if save:\n",
    "    path = Path(f\"./presentation/{experiment}_newmetrics_bar.pdf\")\n",
    "    print(f\"saving to: {path}\")\n",
    "    plt.savefig(path)\n",
    "    params.to_csv(path.parent/f\"{experiment}_newmetrics_bar.csv\")"
   ]
  },
  {
   "cell_type": "markdown",
   "id": "fa05f629",
   "metadata": {},
   "source": [
    "len(model.test_gene_ko)"
   ]
  },
  {
   "cell_type": "markdown",
   "id": "4fe1ebb4",
   "metadata": {},
   "source": [
    "# plot figures from paper\n",
    "# extract from np tuple\n",
    "pattern = re.compile(\"(?<=\\()\\d+\\.*\\d+(?=\\))\")\n",
    "# Sem1:\n",
    "config = \"linear-ou\"\n",
    "nll = params.query(f'data_sem == \"{config}\"')[\"nll\"]\n",
    "means = nll.map(lambda x: float(re.findall(pattern, x)[0]))\n",
    "errors = nll.map(lambda x: float(re.findall(pattern, x)[1]))\n",
    "mean = np.mean(means)\n",
    "error = np.sqrt(np.square(errors).sum())\n",
    "error = np.std(means)\n",
    "plt.bar(x = config, height=mean)\n",
    "plt.errorbar(x=config, y= mean, yerr=error, fmt=\"none\",c = \"red\", capsize=10)\n",
    "plt.show()\n",
    "config = \"linear\"\n",
    "nll = params.query(f'data_sem == \"{config}\"')[\"nll\"]\n",
    "means = nll.map(lambda x: float(re.findall(pattern, x)[0]))\n",
    "errors = nll.map(lambda x: float(re.findall(pattern, x)[1]))\n",
    "mean = np.mean(means)\n",
    "error = np.sqrt(np.square(errors).sum())\n",
    "error = np.std(means)\n",
    "plt.bar(x = config, height=mean)\n",
    "plt.errorbar(x=config, y= mean, yerr=error, fmt=\"none\",c = \"red\", capsize=10)\n",
    "\n",
    "plt.ylabel(\"Log-NLL\")"
   ]
  },
  {
   "cell_type": "markdown",
   "id": "fe3ea725",
   "metadata": {},
   "source": [
    "# transform functions\n",
    "pdt = torch.distributions.PositiveDefiniteTransform()\n",
    "def mat_prod(m):\n",
    "    # performs very badly\n",
    "    return torch.matmul(m, m.T)\n",
    "def cholesky(m):\n",
    "    transform = torch.distributions.LowerCholeskyTransform()\n",
    "    m_t = transform(m)\n",
    "    return m_t + m_t.T\n",
    "t_func = [pdt, cholesky]\n",
    "\n",
    "# distribution func\n",
    "def normal(z_bar, omega):\n",
    "    return torch.distributions.Normal(loc=z_bar, scale = torch.sqrt(torch.diag(omega)))\n",
    "def mvn(z_bar, omega):\n",
    "    return torch.distributions.MultivariateNormal(loc=z_bar, covariance_matrix=omega)\n",
    "dists = [normal, mvn]\n",
    "configs = [\n",
    "    {\n",
    "    \"compare_latents\":False,\n",
    "    \"latents_sampled\":False,\n",
    "    \"omega_transform\":None,\n",
    "    \"dist\":None\n",
    "    },\n",
    "    {\n",
    "    \"compare_latents\":True,\n",
    "    \"latents_sampled\":True,\n",
    "    \"omega_transform\":pdt,\n",
    "    \"dist\":normal,\n",
    "    }\n",
    "]\n",
    "configs2 = [\n",
    "    {\n",
    "    \"compare_latents\":False,\n",
    "    \"latents_sampled\":False,\n",
    "    \"omega_transform\":None,\n",
    "    \"dist\":None\n",
    "    },\n",
    "    {\n",
    "    \"compare_latents\":False,\n",
    "    \"latents_sampled\":False,\n",
    "    \"omega_transform\":pdt,\n",
    "    \"dist\":normal,\n",
    "    }\n",
    "]"
   ]
  },
  {
   "cell_type": "markdown",
   "id": "243eaa7d",
   "metadata": {},
   "source": [
    "SEED = 1\n",
    "iterator = [0, 1]\n",
    "validation_size = 0\n",
    "batch_size = 10000\n",
    "scores = np.empty((len(ckpts.keys()), len(iterator)))\n",
    "for k, (key, model) in enumerate(ckpts.items()):\n",
    "    print(key)\n",
    "    \n",
    "    for n,i in enumerate(iterator):\n",
    "        print(f\"Iterator state: {i}\")\n",
    "        scores[k,n] = evaluate_model(model, key=key, models_path=models_path, max_epochs = 1000, compute_class_metrics = False, **configs[i])[0]\n"
   ]
  },
  {
   "cell_type": "markdown",
   "id": "48a68851",
   "metadata": {},
   "source": [
    "y = np.mean(scores, axis = 0)\n",
    "x=np.array(iterator).astype(str)\n",
    "plt.bar(x=x, height=y, alpha = 0.9)\n",
    "plt.errorbar(x=x, y=y,yerr=np.std(scores, axis = 0), fmt=\"none\", c = \"grey\", capsize=10)\n",
    "xticks = np.array(plt.xticks()[0])\n",
    "a = 0.01\n",
    "n_sign = 0\n",
    "# enumerate pairs and test for significance\n",
    "for c1 in range(scores.shape[1]):\n",
    "    for c2 in range(scores.shape[1]):\n",
    "        if c1 >= c2:\n",
    "            # continue when comparing same column\n",
    "            continue\n",
    "        p = np.round(ttest_rel(scores[:,c1], scores[:,c2]).pvalue, 5)\n",
    "        if p>a:\n",
    "            # continue if not significant\n",
    "            continue\n",
    "        y_bar1 = np.max(y) *(1.1+n_sign*0.2)\n",
    "        y_bar2 = y_bar1 *1.1\n",
    "        plt.plot(np.repeat(xticks[[c1, c2]], 2), np.array([y_bar1, y_bar2])[[0,1,1,0]], c = \"black\")\n",
    "        y_text = y_bar2 *1.01\n",
    "        x_text = np.mean(xticks[[c1, c2]])\n",
    "        plt.ylim((0, y_text*1.1))\n",
    "        p = f\"p value: {p}\"\n",
    "        plt.text(x = x_text, y = y_text, s = p, ha=\"center\")\n",
    "        n_sign += 1\n",
    "        plt.ylim((0, y_text*1.2))\n",
    "plt.xlabel(\"use_loss_funct\")\n",
    "plt.ylabel(\"NLL\")\n",
    "plt.title(\"Selection Summary\")\n",
    "#plt.legend()\n",
    "#plt.savefig(Path(f\"./presentation/NLL_{experiment}_SEM2_lossfunct.pdf\"))"
   ]
  },
  {
   "cell_type": "markdown",
   "id": "21f0016e",
   "metadata": {},
   "source": [
    "SEED = 1\n",
    "iterator = np.power(10, np.arange(4), dtype=int)\n",
    "validation_size = 0\n",
    "batch_size = 10000\n",
    "scores = np.empty((len(ckpts.keys()), len(iterator)))\n",
    "for k, (key, model) in enumerate(ckpts.items()):\n",
    "    print(key)\n",
    "    \n",
    "    for n,i in enumerate(iterator):\n",
    "        print(f\"Iterator state: {i}\")\n",
    "        nll = evaluate_model(model, key=key, models_path=models_path, max_epochs = int(i), compute_class_metrics = False, **configs[0])[0]\n",
    "        scores[k,n] = nll\n",
    "    plt.plot(iterator, np.log(scores[k]), label=key)\n",
    "plt.xlabel(\"OmegaIterative epochs\")\n",
    "plt.ylabel(\"log NLL\")\n",
    "plt.title(\"NLL\")\n",
    "plt.legend()"
   ]
  },
  {
   "cell_type": "markdown",
   "id": "f329ae91",
   "metadata": {},
   "source": [
    "scores"
   ]
  },
  {
   "cell_type": "markdown",
   "id": "89d66a83",
   "metadata": {},
   "source": [
    "SEED = 1\n",
    "iterator = np.power(10, np.arange(4))\n",
    "cols = [\"nll\"]\n",
    "validation_size = 0\n",
    "batch_size = 10000\n",
    "for key, model in ckpts.items():\n",
    "    scores = pd.DataFrame(columns=cols)\n",
    "    samples = torch.tensor(np.load(models_path/key/\"synthetic_data\"/\"check_sim_samples.npy\"))\n",
    "    sim_regime = torch.tensor(np.load(models_path/key/\"synthetic_data\"/\"check_sim_regimes.npy\"))\n",
    "    beta = torch.tensor(np.load(models_path/key/\"synthetic_data\"/\"check_sim_beta.npy\"))\n",
    "    train_gene_ko = model.train_gene_ko\n",
    "    test_gene_ko = model.test_gene_ko\n",
    "    train_loader, validation_loader, test_loader = create_loaders(\n",
    "        samples=samples, # test_loader is None\n",
    "        sim_regime=sim_regime,\n",
    "        validation_size=validation_size,\n",
    "        batch_size=batch_size,\n",
    "        SEED= SEED,\n",
    "        train_gene_ko=train_gene_ko,\n",
    "        test_gene_ko=test_gene_ko,\n",
    "        persistent_workers=False,\n",
    "        covariates=None,\n",
    "        num_workers= 1,\n",
    "    )\n",
    "\n",
    "    for n in iterator:\n",
    "        print(n)\n",
    "        scores.loc[len(scores)] = [model.evaluate(test_loader.dataset, compare_latents=False, max_epochs = int(n))][0]\n",
    "    plt.plot(iterator, np.log(scores), label=key)\n",
    "    break\n",
    "plt.xlabel(\"OmegaIterative epochs\")\n",
    "plt.ylabel(\"log NLL\")\n",
    "plt.title(\"NLL\")\n",
    "plt.legend()"
   ]
  },
  {
   "cell_type": "markdown",
   "id": "8be2e69e",
   "metadata": {},
   "source": [
    "nll = scores\n",
    "nll = nll.map(lambda x: x[0])\n",
    "plt.plot(iterator, np.log(nll))\n",
    "plt.show()"
   ]
  },
  {
   "cell_type": "markdown",
   "id": "c4f3fba0",
   "metadata": {},
   "source": [
    "nll"
   ]
  },
  {
   "cell_type": "markdown",
   "id": "58f9936f",
   "metadata": {},
   "source": []
  },
  {
   "cell_type": "markdown",
   "id": "2bc9336f",
   "metadata": {},
   "source": [
    "nll = scores\n",
    "nll = nll.map(lambda x: x[0])\n",
    "plt.plot(iterator, np.log(nll))\n",
    "plt.show()"
   ]
  },
  {
   "cell_type": "markdown",
   "id": "acf7f49a",
   "metadata": {},
   "source": [
    "nll"
   ]
  },
  {
   "cell_type": "markdown",
   "id": "c691beb6",
   "metadata": {},
   "source": [
    "nll = scores[\"nll\"]\n",
    "nll = nll.map(lambda x: x[0])\n",
    "plt.plot(iterator, np.log(nll))\n",
    "plt.show()"
   ]
  },
  {
   "cell_type": "markdown",
   "id": "4b6e5197",
   "metadata": {},
   "source": [
    "nll"
   ]
  },
  {
   "cell_type": "markdown",
   "id": "7fd4dfb0",
   "metadata": {},
   "source": [
    "def unseen_nll(model:BICYCLE,\n",
    "               unseen_contexts:list, # list of target gene indexes for each sample\n",
    "               unseen_data_csv:Path, # path to samples # at least samples_per_pert for each context\n",
    "               samples_per_pert:int = 5, \n",
    "               target_mu=[],\n",
    "               target_std=[],\n",
    "               ):\n",
    "    if target_mu is []:\n",
    "        target_mu = np.median(model.alpha_p.detach().numpy())\n",
    "    if target_std is []:\n",
    "        target_std = np.median(model.sigma_p.detach().numpy())\n",
    "    # read data\n",
    "    samples = pd.read_csv(unseen_data_csv, index_col=0)\n",
    "\n",
    "    contexts= list(set(unseen_contexts))\n",
    "    sample_target_idxs = [unseen_contexts.index(c) for c in contexts]\n",
    "    print(contexts)\n",
    "    nlls = []\n",
    "    for n, targets in enumerate(contexts):\n",
    "        if targets == np.nan:\n",
    "            continue\n",
    "        if not type(targets) is list:\n",
    "            targets = [targets]\n",
    "        target_samples = torch.tensor(samples.iloc[sample_target_idxs[n]:sample_target_idxs[n]+samples_per_pert].to_numpy())\n",
    "        z_bar, omega = model.predict_perturbation(\n",
    "            target_idx = [*targets], # target index in genes\n",
    "            target_mu=target_mu,\n",
    "            target_std=target_std,\n",
    "            max_epochs=5000,\n",
    "            perturbation_type=[],\n",
    "            perturbation_like=[],\n",
    "            )\n",
    "\n",
    "        nll = model.test_nll(\n",
    "            z_bar = z_bar+torch.abs(z_bar.min()),\n",
    "            omega = omega,  # var = scale**2\n",
    "            samples = target_samples,\n",
    "            )\n",
    "\n",
    "        nlls.append(nll)\n",
    "    return nlls\n",
    "\n",
    "\n",
    "key = \"run_042\"\n",
    "data_id = params.loc[key, \"data_id\"]\n",
    "model = ckpts[key].to(\"cpu\")\n",
    "samples_per_pert=10\n",
    "#with open(data_path/data_id/\"unseen_target_genes.json\", \"r\") as rf:\n",
    "#    target_genes = json.load(rf)\n",
    "if params.loc[key, \"data_source\"] == \"scMultiSim\":\n",
    "    adata = sc.read_h5ad(data_path/\"scMultiSim_data\"/params.loc[key, \"data_id\"]/\"ready_full_rna.h5ad\",)\n",
    "    samples = adata.X.copy()\n",
    "    TFs = np.arange(10)\n",
    "    target_genes = np.repeat(TFs, 400)\n",
    "    target_genes = np.concatenate([np.full((8000),np.nan), target_genes])\n",
    "    mask = np.isnan(target_genes)\n",
    "    samples = samples[~mask]\n",
    "    unseen_contexts = target_genes[~mask]\n",
    "else:\n",
    "    samples = np.load(models_path/key/\"synthetic_data\"/\"check_sim_samples.npy\")\n",
    "    sim_regime = np.load(models_path/key/\"synthetic_data\"/\"check_sim_regimes.npy\")\n",
    "    gt_interv = np.load(models_path/key/\"synthetic_data\"/\"check_sim_gt_interv.npy\")\n",
    "    contexts = gt_interv[:,sim_regime].astype(bool).T\n",
    "    gene_idxs = np.arange(samples.shape[1])\n",
    "    target_genes = [tuple(gene_idxs[c]) for c in contexts if c.any()]\n",
    "    samples = samples[-len(target_genes):]\n",
    "(data_path/\"/tmp\").mkdir(exist_ok=True)\n",
    "pd.DataFrame(samples).to_csv(data_path/\"tmp\"/\"samples.csv\")\n",
    "nlls= unseen_nll(model=model,\n",
    "           unseen_contexts=target_genes,\n",
    "           unseen_data_csv=data_path/\"tmp\"/\"samples.csv\",\n",
    "           samples_per_pert=samples_per_pert,\n",
    "           target_mu=[0.1],\n",
    "           target_std=[0.2]\n",
    "           )\n",
    "\n",
    "plt.hist(nlls)\n"
   ]
  },
  {
   "cell_type": "markdown",
   "id": "f6e4267b",
   "metadata": {},
   "source": [
    "key = \"run_055\"\n",
    "data_id = params.loc[key, \"data_id\"]\n",
    "model = ckpts[key].to(\"cpu\")\n",
    "samples_per_pert=1\n",
    "\n",
    "target_genes = np.load(data_path/data_id/\"unseen_target_genes.npy\")\n",
    "unseen_data_csv = data_path/data_id/\"unseen_rna_matrix.csv\"\n",
    "\n",
    "nlls= unseen_nll(model=model,\n",
    "           unseen_contexts=target_genes,\n",
    "           unseen_data_csv=unseen_data_csv,\n",
    "           samples_per_pert=samples_per_pert,\n",
    "           target_mu=[0.1],\n",
    "           target_std=[0.2]\n",
    "           )\n",
    "\n",
    "plt.hist(nlls)\n"
   ]
  },
  {
   "cell_type": "markdown",
   "id": "a5af4554",
   "metadata": {},
   "source": [
    "key = \"run_042\"\n",
    "model = ckpts[key].to(\"cpu\")\n",
    "\n",
    "target_idx = 0\n",
    "grn = model.gt_beta.numpy().copy()\n",
    "if params.loc[key, \"data_source\"] == \"scMultiSim\":\n",
    "    adata = sc.read_h5ad(data_path/\"scMultiSim_data\"/params.loc[key, \"data_id\"]/\"ready_full_rna.h5ad\",)\n",
    "    samples = adata.X.copy()\n",
    "    samples = samples[8000 + (400*target_idx):8400+(400*(target_idx+1))]\n",
    "else:\n",
    "    samples = np.load(models_path/key/\"synthetic_data\"/\"check_sim_samples.npy\")\n",
    "    print(\"samples: shape\",samples.shape)\n",
    "    sim_regime = np.load(models_path/key/\"synthetic_data\"/\"check_sim_regimes.npy\")\n",
    "    gt_interv = np.load(models_path/key/\"synthetic_data\"/\"check_sim_gt_interv.npy\")\n",
    "    contexts = gt_interv[:,sim_regime]    \n",
    "    samples = samples[np.argmax(contexts, axis=0) == target_idx]\n",
    "\n",
    "target_mu = np.median(model.alpha_p.detach().numpy())\n",
    "target_std = np.median(model.sigma_p.detach().numpy())"
   ]
  },
  {
   "cell_type": "markdown",
   "id": "79c1a0af",
   "metadata": {},
   "source": [
    "z_bar, omega = model.predict_perturbation(target_idx = [target_idx],\n",
    "    target_mu=[target_mu],\n",
    "    target_std=[target_std],\n",
    "    max_epochs=1000,\n",
    "    perturbation_type=[],\n",
    "    perturbation_like=[],)"
   ]
  },
  {
   "cell_type": "markdown",
   "id": "1e89027f",
   "metadata": {},
   "source": [
    "omega.shape"
   ]
  },
  {
   "cell_type": "markdown",
   "id": "af69a5de",
   "metadata": {},
   "source": [
    "nlls = []\n",
    "for s in torch.tensor(samples):\n",
    "    nlls.append(model.test_nll(z_bar = z_bar+torch.abs(z_bar.min()),\n",
    "        omega = omega,\n",
    "        samples = s))\n"
   ]
  },
  {
   "cell_type": "markdown",
   "id": "6fefd9ce",
   "metadata": {},
   "source": [
    "plt.hist(nlls, bins=50, density=True)\n",
    "print(np.std(nlls))\n",
    "print(np.mean(nlls))"
   ]
  },
  {
   "cell_type": "markdown",
   "id": "f00a58b1",
   "metadata": {},
   "source": []
  }
 ],
 "metadata": {
  "kernelspec": {
   "display_name": "bicycle",
   "language": "python",
   "name": "python3"
  },
  "language_info": {
   "codemirror_mode": {
    "name": "ipython",
    "version": 3
   },
   "file_extension": ".py",
   "mimetype": "text/x-python",
   "name": "python",
   "nbconvert_exporter": "python",
   "pygments_lexer": "ipython3",
   "version": "3.11.12"
  }
 },
 "nbformat": 4,
 "nbformat_minor": 5
}
