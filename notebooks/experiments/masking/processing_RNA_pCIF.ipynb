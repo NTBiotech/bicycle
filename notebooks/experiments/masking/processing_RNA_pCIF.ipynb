{
 "cells": [
  {
   "cell_type": "code",
   "execution_count": 11,
   "id": "20fb5dde",
   "metadata": {},
   "outputs": [],
   "source": [
    "import pandas as pd\n",
    "import numpy as np\n",
    "import matplotlib.pyplot as plt\n",
    "from pathlib import Path\n",
    "import scanpy as sc \n",
    "from scipy.sparse import csr_matrix"
   ]
  },
  {
   "cell_type": "code",
   "execution_count": 12,
   "id": "61a91235",
   "metadata": {},
   "outputs": [],
   "source": [
    "run_id = \"run_04\"\n",
    "data_path = Path(\"/data/toulouse/bicycle/notebooks/experiments/masking/data/scMultiSim_data\")\n",
    "\n",
    "figures_path = data_path/run_id/\"figures\"\n",
    "if not figures_path.exists():\n",
    "    figures_path.mkdir(exist_ok=True, parents=True)\n",
    "run_id = data_path/run_id\n",
    "sc.settings.figdir = figures_path\n",
    "np.random.seed(0)"
   ]
  },
  {
   "cell_type": "code",
   "execution_count": 13,
   "id": "ca31b6c7",
   "metadata": {},
   "outputs": [],
   "source": [
    "grn = pd.read_csv(run_id / \"geff.csv\", index_col=0)\n",
    "TFs = grn.columns"
   ]
  },
  {
   "cell_type": "code",
   "execution_count": 14,
   "id": "29872761",
   "metadata": {},
   "outputs": [
    {
     "data": {
      "text/plain": [
       "Index(['2', '6', '10', '19', '80', '91'], dtype='object')"
      ]
     },
     "execution_count": 14,
     "metadata": {},
     "output_type": "execute_result"
    }
   ],
   "source": [
    "TFs"
   ]
  },
  {
   "cell_type": "markdown",
   "id": "ebfc7be8",
   "metadata": {},
   "source": [
    "### A look at the RNA data"
   ]
  },
  {
   "cell_type": "code",
   "execution_count": 15,
   "id": "c44d5f05",
   "metadata": {},
   "outputs": [
    {
     "data": {
      "text/plain": [
       "Index(['V1', 'V2', 'V3', 'V4', 'V5', 'V6', 'V7', 'V8', 'V9', 'V10',\n",
       "       ...\n",
       "       'V4991', 'V4992', 'V4993', 'V4994', 'V4995', 'V4996', 'V4997', 'V4998',\n",
       "       'V4999', 'V5000'],\n",
       "      dtype='object', length=5000)"
      ]
     },
     "execution_count": 15,
     "metadata": {},
     "output_type": "execute_result"
    }
   ],
   "source": [
    "df = pd.read_csv(run_id / \"counts_obs.csv\", index_col=0).T + 0.00001 # add pseudocounts\n",
    "df.index"
   ]
  },
  {
   "cell_type": "code",
   "execution_count": 16,
   "id": "d35826d2",
   "metadata": {},
   "outputs": [
    {
     "name": "stdout",
     "output_type": "stream",
     "text": [
      "600\n"
     ]
    },
    {
     "name": "stderr",
     "output_type": "stream",
     "text": [
      "/data/toulouse/miniforge3/envs/multi-ome02/lib/python3.12/site-packages/anndata/_core/aligned_df.py:68: ImplicitModificationWarning: Transforming to str index.\n",
      "  warnings.warn(\"Transforming to str index.\", ImplicitModificationWarning)\n"
     ]
    }
   ],
   "source": [
    "counts = csr_matrix(df.to_numpy(dtype=np.float32))\n",
    "adata = sc.AnnData(df)\n",
    "adata.var_names = df.columns.to_numpy(dtype=str)\n",
    "# \"perturbed\" for format_data function in evaluate\n",
    "adata.obs[\"perturbed\"] = [False if n<4400 else True for n in range(len(df))]\n",
    "adata.obs[\"Perturbation\"] = [\"not_perturbed\" if n<4400 else \"perturbed\" for n in range(len(df))]\n",
    "\n",
    "targets = TFs.to_numpy().repeat(600/len(TFs))\n",
    "print(len(targets))\n",
    "# \"target_genes\" for format_data function in evaluate\n",
    "adata.obs[\"target\"] = [np.nan if n<4400 else targets[(n-len(df))] for n in range(len(df))]\n",
    "\n"
   ]
  },
  {
   "cell_type": "code",
   "execution_count": 21,
   "id": "b96bf815",
   "metadata": {},
   "outputs": [],
   "source": [
    "# write full adata for full bicycle run\n",
    "adata.obs[\"target_genes\"] = [[\"\"] if n<4400 else [targets[(n-len(df))]] for n in range(len(df))]\n",
    "adata.obs.target_genes = adata.obs.target_genes.map(str)\n",
    "adata.write_h5ad(run_id/\"ready_full_rna.h5ad\")"
   ]
  },
  {
   "cell_type": "code",
   "execution_count": 22,
   "id": "c29e6558",
   "metadata": {},
   "outputs": [
    {
     "data": {
      "text/plain": [
       "['['']', '['2']', '['6']', '['10']', '['19']', '['80']', '['91']']\n",
       "Categories (7, object): ['['2']', '['6']', '['10']', '['19']', '['80']', '['91']', '['']']"
      ]
     },
     "execution_count": 22,
     "metadata": {},
     "output_type": "execute_result"
    }
   ],
   "source": [
    "adata.obs.target_genes.unique()"
   ]
  },
  {
   "cell_type": "code",
   "execution_count": null,
   "id": "75ce6bcc",
   "metadata": {},
   "outputs": [],
   "source": [
    "def string_to_list(string:str, to_type=int):\n",
    "    string = string[1:-1]\n",
    "    list = string.split(\",\")\n",
    "    list = [to_type(x) for x in list]\n",
    "    return list"
   ]
  },
  {
   "cell_type": "code",
   "execution_count": null,
   "id": "3b039751",
   "metadata": {},
   "outputs": [],
   "source": [
    "adata.var[\"TF\"] = adata.var_names.map(lambda x: str(x) in TFs.to_list())\n",
    "adata.obs[\"TF_perturbed\"] = [row[\"perturbed\"] and (row[\"target\"] in TFs.to_list()) for cell, row in adata.obs.iterrows()]\n",
    "adata.obs[\"TF_pert_cate\"] = adata.obs[\"TF_perturbed\"].map(lambda x: \"TF_perturbed\" if x else \"no_TF_perturbed\")"
   ]
  },
  {
   "cell_type": "markdown",
   "id": "9c3e5aef",
   "metadata": {},
   "source": [
    "Preprocessing:"
   ]
  },
  {
   "cell_type": "code",
   "execution_count": null,
   "id": "353cdb3a",
   "metadata": {},
   "outputs": [],
   "source": [
    "\n",
    "sc.pl.highest_expr_genes(adata)"
   ]
  },
  {
   "cell_type": "code",
   "execution_count": null,
   "id": "f95ef6f8",
   "metadata": {},
   "outputs": [],
   "source": [
    "assert ((adata.X>0).sum(axis=0)==5000).all()\n",
    "assert ((adata.X>0).sum(axis=1)==110).all()"
   ]
  },
  {
   "cell_type": "code",
   "execution_count": null,
   "id": "50b7fd2d",
   "metadata": {},
   "outputs": [],
   "source": [
    "plt.hist(adata.X.sum(axis=0), bins=20)\n"
   ]
  },
  {
   "cell_type": "code",
   "execution_count": null,
   "id": "7d94e633",
   "metadata": {},
   "outputs": [],
   "source": [
    "# filtering not necessary as all genes and cells have the same amount\n",
    "sc.pp.filter_cells(adata, min_genes=110)\n",
    "sc.pp.filter_genes(adata, min_cells=5000)"
   ]
  },
  {
   "cell_type": "code",
   "execution_count": null,
   "id": "e148df85",
   "metadata": {},
   "outputs": [],
   "source": [
    "adata"
   ]
  },
  {
   "cell_type": "code",
   "execution_count": null,
   "id": "e016547f",
   "metadata": {},
   "outputs": [],
   "source": [
    "sc.pl.violin(\n",
    "    adata,\n",
    "    [\"n_genes\"],\n",
    "    jitter=0.4,\n",
    "    multi_panel=True,\n",
    ")\n",
    "sc.pl.violin(\n",
    "    adata.T,\n",
    "    [\"n_cells\"],\n",
    "    jitter=0.4,\n",
    "    multi_panel=True,\n",
    ")"
   ]
  },
  {
   "cell_type": "code",
   "execution_count": null,
   "id": "f8f6fd85",
   "metadata": {},
   "outputs": [],
   "source": [
    "sc.pp.normalize_total(adata, target_sum=1e4)"
   ]
  },
  {
   "cell_type": "code",
   "execution_count": null,
   "id": "f1131c42",
   "metadata": {},
   "outputs": [],
   "source": [
    "sc.pp.log1p(adata)"
   ]
  },
  {
   "cell_type": "code",
   "execution_count": null,
   "id": "bf5c9e0c",
   "metadata": {},
   "outputs": [],
   "source": [
    "sc.pp.highly_variable_genes(adata, min_mean=0.0125, max_mean=3, min_disp=0.5, n_top_genes=50)"
   ]
  },
  {
   "cell_type": "code",
   "execution_count": null,
   "id": "4e2a19e7",
   "metadata": {},
   "outputs": [],
   "source": [
    "sc.pl.highly_variable_genes(adata)"
   ]
  },
  {
   "cell_type": "code",
   "execution_count": null,
   "id": "f0abe858",
   "metadata": {},
   "outputs": [],
   "source": [
    "adata"
   ]
  },
  {
   "cell_type": "code",
   "execution_count": null,
   "id": "f0844d86",
   "metadata": {},
   "outputs": [],
   "source": [
    "adata = adata[:, adata.var.highly_variable | adata.var.TF]"
   ]
  },
  {
   "cell_type": "code",
   "execution_count": null,
   "id": "22e2066a",
   "metadata": {},
   "outputs": [],
   "source": [
    "adata.var_names"
   ]
  },
  {
   "cell_type": "code",
   "execution_count": null,
   "id": "b4a348b6",
   "metadata": {},
   "outputs": [],
   "source": [
    "sc.pl.highly_variable_genes(adata)"
   ]
  },
  {
   "cell_type": "code",
   "execution_count": null,
   "id": "567b67d3",
   "metadata": {},
   "outputs": [],
   "source": [
    "sc.pl.highest_expr_genes(adata)"
   ]
  },
  {
   "cell_type": "code",
   "execution_count": null,
   "id": "6554e34c",
   "metadata": {},
   "outputs": [],
   "source": [
    "sc.pl.violin(adata,\n",
    "             keys=TFs,\n",
    "             groupby=\"TF_pert_cate\",\n",
    "             save=\"_TF_expression.pdf\"\n",
    "             )"
   ]
  },
  {
   "cell_type": "code",
   "execution_count": null,
   "id": "9a5ca472",
   "metadata": {},
   "outputs": [],
   "source": [
    "for tf in TFs:\n",
    "    sc.pl.violin(\n",
    "        adata[pd.Series(adata.obs.target == tf) | ~adata.obs.perturbed],\n",
    "        groupby=\"Perturbation\",\n",
    "        keys=tf,\n",
    "        \n",
    "    )"
   ]
  },
  {
   "cell_type": "code",
   "execution_count": null,
   "id": "1c9e7b6e",
   "metadata": {},
   "outputs": [],
   "source": [
    "sc.pp.scale(adata, max_value=10)\n",
    "adata"
   ]
  },
  {
   "cell_type": "code",
   "execution_count": null,
   "id": "249ce231",
   "metadata": {},
   "outputs": [],
   "source": [
    "sc.pp.pca(adata,svd_solver=\"arpack\")"
   ]
  },
  {
   "cell_type": "code",
   "execution_count": null,
   "id": "7a254b09",
   "metadata": {},
   "outputs": [],
   "source": [
    "sc.pl.pca(adata, color=\"Perturbation\",\n",
    "          save=\"_perturbation.pdf\")"
   ]
  },
  {
   "cell_type": "code",
   "execution_count": null,
   "id": "0c2ec23f",
   "metadata": {},
   "outputs": [],
   "source": [
    "sc.pl.pca(adata, color=\"target\")"
   ]
  },
  {
   "cell_type": "code",
   "execution_count": null,
   "id": "875b4a06",
   "metadata": {},
   "outputs": [],
   "source": [
    "sc.pl.pca_variance_ratio(adata, log=True)"
   ]
  },
  {
   "cell_type": "code",
   "execution_count": null,
   "id": "2e46d584",
   "metadata": {},
   "outputs": [],
   "source": [
    "sc.pp.neighbors(adata, n_neighbors=10, n_pcs=40)"
   ]
  },
  {
   "cell_type": "code",
   "execution_count": null,
   "id": "0a81164e",
   "metadata": {},
   "outputs": [],
   "source": [
    "sc.tl.umap(adata)"
   ]
  },
  {
   "cell_type": "code",
   "execution_count": null,
   "id": "5bcb38e4",
   "metadata": {},
   "outputs": [],
   "source": [
    "sc.pl.umap(adata, color=\"target\",\n",
    "           save=\"_perturbation.pdf\")"
   ]
  },
  {
   "cell_type": "code",
   "execution_count": null,
   "id": "2f545ca5",
   "metadata": {},
   "outputs": [],
   "source": [
    "sc.pl.umap(adata, color=[\"TF_pert_cate\", \"Perturbation\"],\n",
    "           save=\"_TF_pert.pdf\")"
   ]
  },
  {
   "cell_type": "code",
   "execution_count": null,
   "id": "55c301b1",
   "metadata": {},
   "outputs": [],
   "source": [
    "sc.pl.umap(adata, color=adata.var_names[adata.var.TF].append(pd.Index([\"Perturbation\", \"TF_pert_cate\"])),\n",
    "           save=\"_TFs.pdf\")"
   ]
  },
  {
   "cell_type": "code",
   "execution_count": null,
   "id": "cee0b6ad",
   "metadata": {},
   "outputs": [],
   "source": [
    "sc.tl.leiden(\n",
    "    adata,\n",
    "    resolution=0.9,\n",
    "    random_state=0,\n",
    "    flavor=\"igraph\",\n",
    "    n_iterations=2,\n",
    "    directed=False,\n",
    ")"
   ]
  },
  {
   "cell_type": "code",
   "execution_count": null,
   "id": "2eb453b9",
   "metadata": {},
   "outputs": [],
   "source": [
    "sc.pl.umap(adata, color=[\"leiden\",\"Perturbation\", \"TF_pert_cate\"],\n",
    "           save=\"_leiden.pdf\")"
   ]
  },
  {
   "cell_type": "code",
   "execution_count": null,
   "id": "c238a965",
   "metadata": {},
   "outputs": [],
   "source": [
    "sc.tl.rank_genes_groups(adata, \"leiden\", method=\"t-test\")\n",
    "sc.pl.rank_genes_groups(adata, n_genes=25, sharey=False,\n",
    "                        save=\"_leiden.pdf\")"
   ]
  },
  {
   "cell_type": "code",
   "execution_count": null,
   "id": "fb45aa99",
   "metadata": {},
   "outputs": [],
   "source": [
    "pd.DataFrame(adata.uns[\"rank_genes_groups\"][\"names\"]).head(5)"
   ]
  },
  {
   "cell_type": "code",
   "execution_count": null,
   "id": "8daaa930",
   "metadata": {},
   "outputs": [],
   "source": [
    "result = adata.uns[\"rank_genes_groups\"]\n",
    "groups = result[\"names\"].dtype.names\n",
    "pd.DataFrame(\n",
    "    {\n",
    "        f\"{group}_{key[:1]}\": result[key][group]\n",
    "        for group in groups\n",
    "        for key in [\"names\", \"pvals\"]\n",
    "    }\n",
    ").head(5)"
   ]
  },
  {
   "cell_type": "code",
   "execution_count": null,
   "id": "207d7809",
   "metadata": {},
   "outputs": [],
   "source": [
    "sc.pl.dotplot(adata, TFs, groupby=\"leiden\")\n"
   ]
  },
  {
   "cell_type": "code",
   "execution_count": null,
   "id": "3b9a7a8e",
   "metadata": {},
   "outputs": [],
   "source": [
    "sc.pl.stacked_violin(adata, TFs, groupby=\"leiden\")"
   ]
  },
  {
   "cell_type": "code",
   "execution_count": null,
   "id": "8e2b3f4d",
   "metadata": {},
   "outputs": [],
   "source": [
    "adata.write(Path(run_id)/\"processed_rna.gz\", compression=\"gzip\")\n",
    "df = pd.DataFrame(adata.X)\n",
    "df.to_csv(run_id/\"processed_rna.csv\")"
   ]
  },
  {
   "cell_type": "code",
   "execution_count": null,
   "id": "4844a750",
   "metadata": {},
   "outputs": [],
   "source": [
    "adata"
   ]
  },
  {
   "cell_type": "code",
   "execution_count": null,
   "id": "f6717ae8",
   "metadata": {},
   "outputs": [],
   "source": [
    "hvgs = adata.var_names[adata.var.highly_variable].astype(int)\n",
    "filtered_genes = np.array([*set(np.append(hvgs, TFs.astype(int)))])\n",
    "grn = grn.loc[filtered_genes, :]"
   ]
  },
  {
   "cell_type": "code",
   "execution_count": null,
   "id": "11f750ef",
   "metadata": {},
   "outputs": [],
   "source": [
    "grn.to_csv(run_id/\"filtered_grn.csv\")\n",
    "with open(run_id/\"filtered_genes.npy\", \"wb\") as wf:\n",
    "    np.save(wf, filtered_genes)"
   ]
  }
 ],
 "metadata": {
  "kernelspec": {
   "display_name": "multi-ome02",
   "language": "python",
   "name": "python3"
  },
  "language_info": {
   "codemirror_mode": {
    "name": "ipython",
    "version": 3
   },
   "file_extension": ".py",
   "mimetype": "text/x-python",
   "name": "python",
   "nbconvert_exporter": "python",
   "pygments_lexer": "ipython3",
   "version": "3.12.10"
  }
 },
 "nbformat": 4,
 "nbformat_minor": 5
}
