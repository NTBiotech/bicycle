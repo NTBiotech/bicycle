{
 "cells": [
  {
   "cell_type": "code",
   "execution_count": 1,
   "id": "b1cfb40d",
   "metadata": {},
   "outputs": [
    {
     "name": "stderr",
     "output_type": "stream",
     "text": [
      "/data/toulouse/miniforge3/envs/bicycle/lib/python3.11/site-packages/anndata/utils.py:434: FutureWarning: Importing read_csv from `anndata` is deprecated. Import anndata.io.read_csv instead.\n",
      "  warnings.warn(msg, FutureWarning)\n",
      "/data/toulouse/miniforge3/envs/bicycle/lib/python3.11/site-packages/anndata/utils.py:434: FutureWarning: Importing read_text from `anndata` is deprecated. Import anndata.io.read_text instead.\n",
      "  warnings.warn(msg, FutureWarning)\n",
      "/data/toulouse/miniforge3/envs/bicycle/lib/python3.11/site-packages/anndata/utils.py:434: FutureWarning: Importing read_excel from `anndata` is deprecated. Import anndata.io.read_excel instead.\n",
      "  warnings.warn(msg, FutureWarning)\n",
      "/data/toulouse/miniforge3/envs/bicycle/lib/python3.11/site-packages/anndata/utils.py:434: FutureWarning: Importing read_mtx from `anndata` is deprecated. Import anndata.io.read_mtx instead.\n",
      "  warnings.warn(msg, FutureWarning)\n",
      "/data/toulouse/miniforge3/envs/bicycle/lib/python3.11/site-packages/anndata/utils.py:434: FutureWarning: Importing read_loom from `anndata` is deprecated. Import anndata.io.read_loom instead.\n",
      "  warnings.warn(msg, FutureWarning)\n",
      "/data/toulouse/miniforge3/envs/bicycle/lib/python3.11/site-packages/anndata/utils.py:434: FutureWarning: Importing read_hdf from `anndata` is deprecated. Import anndata.io.read_hdf instead.\n",
      "  warnings.warn(msg, FutureWarning)\n",
      "/data/toulouse/miniforge3/envs/bicycle/lib/python3.11/site-packages/anndata/utils.py:434: FutureWarning: Importing read_umi_tools from `anndata` is deprecated. Import anndata.io.read_umi_tools instead.\n",
      "  warnings.warn(msg, FutureWarning)\n"
     ]
    }
   ],
   "source": [
    "import torch\n",
    "import numpy as np\n",
    "import pandas as pd\n",
    "#from sklearn.metrics import precision_recall_curve, roc_curve, auc, average_precision_score, f1_score, confusion_matrix, ConfusionMatrixDisplay\n",
    "from bicycle.model import BICYCLE\n",
    "from pathlib import Path\n",
    "import matplotlib.pyplot as plt\n",
    "#from bicycle.utils.mask_utils import get_sparsity, above_threshold, string_to_list\n",
    "import json\n",
    "from glob import glob\n",
    "#from scipy.special import expit\n",
    "import scanpy as sc\n",
    "import re\n",
    "from bicycle.utils.data import create_loaders\n",
    "from scipy.stats import ttest_rel"
   ]
  },
  {
   "cell_type": "code",
   "execution_count": 2,
   "id": "9a356c64",
   "metadata": {},
   "outputs": [],
   "source": [
    "def evaluate_model(model, key, models_path, **kwargs):\n",
    "    samples = torch.tensor(np.load(models_path/key/\"synthetic_data\"/\"check_sim_samples.npy\"))\n",
    "    sim_regime = torch.tensor(np.load(models_path/key/\"synthetic_data\"/\"check_sim_regimes.npy\"))\n",
    "    train_gene_ko = model.train_gene_ko\n",
    "    test_gene_ko = model.test_gene_ko\n",
    "    if len(test_gene_ko)>20:\n",
    "        overhang = len(test_gene_ko)-20\n",
    "        print(f\"More than 20 test_genes! Removing last {overhang} contexts.\")\n",
    "        regimes = sim_regime.unique()[-overhang:]\n",
    "        for regime in regimes:\n",
    "            mask = sim_regime != regime\n",
    "            samples = samples[mask]\n",
    "            sim_regime = sim_regime[mask]\n",
    "        test_gene_ko = test_gene_ko[:-overhang]\n",
    "    train_loader, validation_loader, test_loader = create_loaders(\n",
    "        samples=samples, # test_loader is None\n",
    "        sim_regime=sim_regime,\n",
    "        validation_size=kwargs.get(\"validation_size\", 0.),\n",
    "        batch_size=kwargs.get(\"batch_size\", 100000),\n",
    "        SEED= kwargs.get(\"SEED\", 1),\n",
    "        train_gene_ko=train_gene_ko,\n",
    "        test_gene_ko=test_gene_ko,\n",
    "        persistent_workers=False,\n",
    "        covariates=None,\n",
    "        num_workers= 1,\n",
    "    )\n",
    "    return model.evaluate(test_loader.dataset, **kwargs)"
   ]
  },
  {
   "cell_type": "code",
   "execution_count": 3,
   "id": "9a4724c0",
   "metadata": {},
   "outputs": [],
   "source": [
    "def agg1(params, param_of_interest):\n",
    "    params = params.sort_index()\n",
    "    params[\"config\"] = [\"Vanilla\", \"Bayes prior\", \"Binary Prior\"]\n",
    "    param_of_interest = \"config\"\n",
    "    return params, param_of_interest\n",
    "def agg2(params, param_of_interest):\n",
    "    params = params.sort_index()\n",
    "    return params, param_of_interest\n",
    "def agg3(params, param_of_interest):\n",
    "    params = params.sort_index()\n",
    "    params[\"Config\"] = [\"Vanilla\\n5 TFs\", \"Masking\\n5 TFs\", \"Vanilla\\n10 TFs\", \"Masking\\n10 TFs\"]\n",
    "    params = params.iloc[[0,2,1,3]]\n",
    "    param_of_interest = \"Config\"\n",
    "    return params, param_of_interest\n",
    "def agg4(params, param_of_interest):\n",
    "    params = params.sort_values(param_of_interest)\n",
    "    params[\"Config\"] = [\"Vanilla\\n400\", \"Masking\\n400\", \"Masking\\n200\", \"Masking\\n100\", \"Vanilla\\n200\", \"Vanilla\\n100\"]\n",
    "    param_of_interest = \"Config\"\n",
    "    params = params.sort_values(\"Config\")\n",
    "    return params, param_of_interest\n",
    "def agg5(params, param_of_interest):\n",
    "    params = params.sort_values(param_of_interest)\n",
    "    if len(params)>4:\n",
    "        params[\"pert. factor\"] = (1/10**np.arange(4, -1,-1)).astype(str)\n",
    "    else:\n",
    "        params[\"pert. factor\"] = 1/np.arange(4, 0,-1)\n",
    "\n",
    "    param_of_interest = \"pert. factor\"\n",
    "    params=params.sort_values(param_of_interest)\n",
    "    return params, param_of_interest\n",
    "def agg6(params, param_of_interest):\n",
    "    params[param_of_interest] = params[param_of_interest].astype(float)\n",
    "    params = params.sort_values(param_of_interest)\n",
    "    return params, param_of_interest\n",
    "def agg7(params, param_of_interest):\n",
    "    params = params.sort_index()\n",
    "    params[\"config\"] = [\"Vanilla_old\",\"Vanilla\", \"Bayes prior\", \"Binary Prior\"]\n",
    "    param_of_interest = \"config\"\n",
    "    return params, param_of_interest\n",
    "def agg8(params, param_of_interest):\n",
    "    params = params.sort_index()\n",
    "    params[\"config\"] = params[\"data_id\"]+params[\"masking_mode\"]\n",
    "    param_of_interest = \"config\"\n",
    "    return params, param_of_interest\n",
    "def agg_paper(params, param_of_interest):\n",
    "    params = params.sort_index()\n",
    "    params[\"config\"] = params[param_of_interest] + \" + \" + params[\"masking_mode\"]\n",
    "    param_of_interest = \"config\"\n",
    "    return params, param_of_interest\n",
    "def agg(params, param_of_interest):\n",
    "    params = params.sort_index()\n",
    "    if type(param_of_interest) is dict:\n",
    "        params[\"config\"] = params[param_of_interest[\"0\"]] + \" + \" + params[param_of_interest[\"1\"]]\n",
    "        index = params.isna()[\"config\"]\n",
    "        params.loc[index,\"config\"] = params.loc[index, param_of_interest[\"0\"]]\n",
    "        param_of_interest = \"config\"\n",
    "        params.sort_values(param_of_interest)\n",
    "    return params, param_of_interest\n",
    "\n",
    "functions = {\n",
    "    \"agg1\":agg1,\n",
    "    \"agg2\":agg2,\n",
    "    \"agg3\":agg3,\n",
    "    \"agg4\":agg4,\n",
    "    \"agg5\":agg5,\n",
    "    \"agg6\":agg6,\n",
    "    \"agg7\":agg7,\n",
    "    \"agg8\":agg8,\n",
    "    \"agg_paper\":agg_paper,\n",
    "    \"agg\": agg,\n",
    "             }"
   ]
  },
  {
   "cell_type": "code",
   "execution_count": 4,
   "id": "8fa63521",
   "metadata": {},
   "outputs": [],
   "source": [
    "save = True\n"
   ]
  },
  {
   "cell_type": "code",
   "execution_count": 21,
   "id": "951c2a62",
   "metadata": {},
   "outputs": [
    {
     "name": "stdout",
     "output_type": "stream",
     "text": [
      "Experiment: noisefactor5\n",
      "Adding grn_noise_factor\n",
      "run_007\n",
      "run_010\n",
      "run_001\n",
      "run_006\n",
      "run_008\n"
     ]
    }
   ],
   "source": [
    "# get environment\n",
    "with open(\"./data/experiment_configs.json\", \"r\") as rf:\n",
    "    config_sets = json.load(rf)\n",
    "\n",
    "config_set = config_sets[1]\n",
    "include = config_set[\"include\"]\n",
    "id_len = config_set[\"id_len\"]\n",
    "prefix = config_set[\"prefix\"]\n",
    "experiment = config_set[\"experiment\"]\n",
    "param_of_interest = config_set[\"param_of_interest\"]\n",
    "agg = config_set[\"function\"]\n",
    "\n",
    "#include = np.arange(61, 66)\n",
    "#id_len = 3\n",
    "#prefix = \"run_\"\n",
    "#experiment = \"paper\"\n",
    "#param_of_interest = \"data_sem\"\n",
    "#agg = \"agg2\"\n",
    "print(f\"Experiment: {experiment}\")\n",
    "models_path = Path(\"/data/toulouse/bicycle/notebooks/experiments/masking/data/model_runs/models/\")\n",
    "plot_path = Path(\"/data/toulouse/bicycle/notebooks/experiments/masking/data/model_runs/plots\")\n",
    "data_path = Path(\"./data/\")\n",
    "columns = [\n",
    "    \"model_lr\",\n",
    "    \"model_n_genes\",\n",
    "    \"model_n_samples\",\n",
    "    \"pretraining_time\",\n",
    "    \"training_time\",\n",
    "    \"compile\",\n",
    "    \"trad_loading\",\n",
    "    \"scale_mask\",\n",
    "    \"grn_noise_p\",\n",
    "    \"n_epochs\",\n",
    "    \"use_hard_mask\",\n",
    "    \"masking_mode\",\n",
    "    \"bin_prior\",\n",
    "    \"data_id\",\n",
    "    \"data_source\",\n",
    "    \"nll\",\n",
    "    \"max_f1\",\n",
    "    \"average_precision\",\n",
    "    \"auroc\",\n",
    "    \"prior_average_precision\",\n",
    "    \"prior_auroc\",\n",
    "    \"model_use_latents\"\n",
    "    ]\n",
    "if not param_of_interest in columns and not type(param_of_interest) is dict:\n",
    "    columns.append(param_of_interest)\n",
    "    print(f\"Adding {param_of_interest}\")\n",
    "elif isinstance(param_of_interest, dict):\n",
    "     for item in param_of_interest.values():\n",
    "        if item not in columns:\n",
    "            columns.append(item)\n",
    "params = pd.DataFrame(columns=columns)\n",
    "for dir in plot_path.iterdir():\n",
    "    if dir.name[:-id_len] != prefix:\n",
    "         continue\n",
    "    if int(dir.name[-id_len:]) not in include:\n",
    "          continue\n",
    "    print(dir.name)\n",
    "    if (dir/ \"manual_globals.csv\").exists():\n",
    "        params.loc[dir.name] = np.nan\n",
    "        p = pd.read_csv(dir/\"manual_globals.csv\", index_col=0)\n",
    "        available_paras=[n for n in params.columns if n in p.columns]\n",
    "        params.loc[dir.name, available_paras] = p.loc[dir.name,available_paras]\n",
    "        continue\n",
    "    try:\n",
    "        globs = pd.read_csv(dir/ \"globals.csv\", delimiter=\",\").set_index(\"0\", drop=True).T\n",
    "        available_paras = [n for n in columns if n in globs.columns]\n",
    "        params.loc[dir.name] = globs[available_paras].iloc[1]\n",
    "    except FileNotFoundError:\n",
    "        print(f\"globals file for {dir.name} not found!\")\n",
    "        params.loc[dir.name] = np.nan\n",
    "if experiment == \"scalemask\":\n",
    "     params = pd.read_csv(models_path.parent/\"param1.csv\", index_col=0).sort_values(\"scale_mask\")\n",
    "\n",
    "if agg != None:\n",
    "     params, param_of_interest = functions[agg](params, param_of_interest)"
   ]
  },
  {
   "cell_type": "code",
   "execution_count": 22,
   "id": "85e5d39f",
   "metadata": {},
   "outputs": [
    {
     "data": {
      "application/vnd.microsoft.datawrangler.viewer.v0+json": {
       "columns": [
        {
         "name": "index",
         "rawType": "object",
         "type": "string"
        },
        {
         "name": "model_lr",
         "rawType": "object",
         "type": "string"
        },
        {
         "name": "model_n_genes",
         "rawType": "object",
         "type": "string"
        },
        {
         "name": "model_n_samples",
         "rawType": "object",
         "type": "string"
        },
        {
         "name": "pretraining_time",
         "rawType": "object",
         "type": "string"
        },
        {
         "name": "training_time",
         "rawType": "object",
         "type": "string"
        },
        {
         "name": "compile",
         "rawType": "object",
         "type": "string"
        },
        {
         "name": "trad_loading",
         "rawType": "object",
         "type": "string"
        },
        {
         "name": "scale_mask",
         "rawType": "object",
         "type": "string"
        },
        {
         "name": "grn_noise_p",
         "rawType": "object",
         "type": "string"
        },
        {
         "name": "n_epochs",
         "rawType": "object",
         "type": "string"
        },
        {
         "name": "use_hard_mask",
         "rawType": "object",
         "type": "string"
        },
        {
         "name": "masking_mode",
         "rawType": "object",
         "type": "string"
        },
        {
         "name": "bin_prior",
         "rawType": "object",
         "type": "string"
        },
        {
         "name": "data_id",
         "rawType": "object",
         "type": "string"
        },
        {
         "name": "data_source",
         "rawType": "object",
         "type": "unknown"
        },
        {
         "name": "nll",
         "rawType": "object",
         "type": "unknown"
        },
        {
         "name": "max_f1",
         "rawType": "object",
         "type": "unknown"
        },
        {
         "name": "average_precision",
         "rawType": "object",
         "type": "unknown"
        },
        {
         "name": "auroc",
         "rawType": "object",
         "type": "unknown"
        },
        {
         "name": "prior_average_precision",
         "rawType": "object",
         "type": "unknown"
        },
        {
         "name": "prior_auroc",
         "rawType": "object",
         "type": "unknown"
        },
        {
         "name": "model_use_latents",
         "rawType": "object",
         "type": "string"
        },
        {
         "name": "grn_noise_factor",
         "rawType": "float64",
         "type": "float"
        }
       ],
       "ref": "31335f3e-07cd-47e6-8f64-d9a747b72cdc",
       "rows": [
        [
         "run_006",
         "0.001",
         "110",
         "10000",
         "1253.3923797607422",
         "6844.740823507309",
         "True",
         "True",
         "1",
         "0.0",
         "5000",
         "False",
         "loss",
         "False",
         "data_run003",
         null,
         null,
         null,
         null,
         null,
         null,
         null,
         "True",
         "0.0"
        ],
        [
         "run_007",
         "0.001",
         "110",
         "10000",
         "1324.9259674549103",
         "6811.07182598114",
         "True",
         "True",
         "1",
         "0.004710743801652892",
         "5000",
         "False",
         "loss",
         "False",
         "data_run003",
         null,
         null,
         null,
         null,
         null,
         null,
         null,
         "True",
         "0.5"
        ],
        [
         "run_008",
         "0.001",
         "110",
         "10000",
         "1423.542443037033",
         "6669.91720533371",
         "True",
         "True",
         "1",
         "0.009421487603305785",
         "5000",
         "False",
         "loss",
         "False",
         "data_run003",
         null,
         null,
         null,
         null,
         null,
         null,
         null,
         "True",
         "1.0"
        ],
        [
         "run_001",
         "0.001",
         "110",
         "10000",
         "1000.6491122245789",
         "6445.681981086731",
         "True",
         "True",
         "1",
         "0.01884297520661157",
         "5000",
         "False",
         "loss",
         "False",
         "data_run003",
         null,
         null,
         null,
         null,
         null,
         null,
         null,
         "True",
         "2.0"
        ],
        [
         "run_010",
         "0.001",
         "110",
         "10000",
         "761.2606985569",
         "4784.134714126587",
         "True",
         "True",
         "1",
         "0.047107438016528926",
         "5000",
         "False",
         "loss",
         "False",
         "data_run003",
         null,
         null,
         null,
         null,
         null,
         null,
         null,
         "True",
         "5.0"
        ]
       ],
       "shape": {
        "columns": 23,
        "rows": 5
       }
      },
      "text/html": [
       "<div>\n",
       "<style scoped>\n",
       "    .dataframe tbody tr th:only-of-type {\n",
       "        vertical-align: middle;\n",
       "    }\n",
       "\n",
       "    .dataframe tbody tr th {\n",
       "        vertical-align: top;\n",
       "    }\n",
       "\n",
       "    .dataframe thead th {\n",
       "        text-align: right;\n",
       "    }\n",
       "</style>\n",
       "<table border=\"1\" class=\"dataframe\">\n",
       "  <thead>\n",
       "    <tr style=\"text-align: right;\">\n",
       "      <th></th>\n",
       "      <th>model_lr</th>\n",
       "      <th>model_n_genes</th>\n",
       "      <th>model_n_samples</th>\n",
       "      <th>pretraining_time</th>\n",
       "      <th>training_time</th>\n",
       "      <th>compile</th>\n",
       "      <th>trad_loading</th>\n",
       "      <th>scale_mask</th>\n",
       "      <th>grn_noise_p</th>\n",
       "      <th>n_epochs</th>\n",
       "      <th>...</th>\n",
       "      <th>data_id</th>\n",
       "      <th>data_source</th>\n",
       "      <th>nll</th>\n",
       "      <th>max_f1</th>\n",
       "      <th>average_precision</th>\n",
       "      <th>auroc</th>\n",
       "      <th>prior_average_precision</th>\n",
       "      <th>prior_auroc</th>\n",
       "      <th>model_use_latents</th>\n",
       "      <th>grn_noise_factor</th>\n",
       "    </tr>\n",
       "  </thead>\n",
       "  <tbody>\n",
       "    <tr>\n",
       "      <th>run_006</th>\n",
       "      <td>0.001</td>\n",
       "      <td>110</td>\n",
       "      <td>10000</td>\n",
       "      <td>1253.3923797607422</td>\n",
       "      <td>6844.740823507309</td>\n",
       "      <td>True</td>\n",
       "      <td>True</td>\n",
       "      <td>1</td>\n",
       "      <td>0.0</td>\n",
       "      <td>5000</td>\n",
       "      <td>...</td>\n",
       "      <td>data_run003</td>\n",
       "      <td>NaN</td>\n",
       "      <td>NaN</td>\n",
       "      <td>NaN</td>\n",
       "      <td>NaN</td>\n",
       "      <td>NaN</td>\n",
       "      <td>NaN</td>\n",
       "      <td>NaN</td>\n",
       "      <td>True</td>\n",
       "      <td>0.0</td>\n",
       "    </tr>\n",
       "    <tr>\n",
       "      <th>run_007</th>\n",
       "      <td>0.001</td>\n",
       "      <td>110</td>\n",
       "      <td>10000</td>\n",
       "      <td>1324.9259674549103</td>\n",
       "      <td>6811.07182598114</td>\n",
       "      <td>True</td>\n",
       "      <td>True</td>\n",
       "      <td>1</td>\n",
       "      <td>0.004710743801652892</td>\n",
       "      <td>5000</td>\n",
       "      <td>...</td>\n",
       "      <td>data_run003</td>\n",
       "      <td>NaN</td>\n",
       "      <td>NaN</td>\n",
       "      <td>NaN</td>\n",
       "      <td>NaN</td>\n",
       "      <td>NaN</td>\n",
       "      <td>NaN</td>\n",
       "      <td>NaN</td>\n",
       "      <td>True</td>\n",
       "      <td>0.5</td>\n",
       "    </tr>\n",
       "    <tr>\n",
       "      <th>run_008</th>\n",
       "      <td>0.001</td>\n",
       "      <td>110</td>\n",
       "      <td>10000</td>\n",
       "      <td>1423.542443037033</td>\n",
       "      <td>6669.91720533371</td>\n",
       "      <td>True</td>\n",
       "      <td>True</td>\n",
       "      <td>1</td>\n",
       "      <td>0.009421487603305785</td>\n",
       "      <td>5000</td>\n",
       "      <td>...</td>\n",
       "      <td>data_run003</td>\n",
       "      <td>NaN</td>\n",
       "      <td>NaN</td>\n",
       "      <td>NaN</td>\n",
       "      <td>NaN</td>\n",
       "      <td>NaN</td>\n",
       "      <td>NaN</td>\n",
       "      <td>NaN</td>\n",
       "      <td>True</td>\n",
       "      <td>1.0</td>\n",
       "    </tr>\n",
       "    <tr>\n",
       "      <th>run_001</th>\n",
       "      <td>0.001</td>\n",
       "      <td>110</td>\n",
       "      <td>10000</td>\n",
       "      <td>1000.6491122245789</td>\n",
       "      <td>6445.681981086731</td>\n",
       "      <td>True</td>\n",
       "      <td>True</td>\n",
       "      <td>1</td>\n",
       "      <td>0.01884297520661157</td>\n",
       "      <td>5000</td>\n",
       "      <td>...</td>\n",
       "      <td>data_run003</td>\n",
       "      <td>NaN</td>\n",
       "      <td>NaN</td>\n",
       "      <td>NaN</td>\n",
       "      <td>NaN</td>\n",
       "      <td>NaN</td>\n",
       "      <td>NaN</td>\n",
       "      <td>NaN</td>\n",
       "      <td>True</td>\n",
       "      <td>2.0</td>\n",
       "    </tr>\n",
       "    <tr>\n",
       "      <th>run_010</th>\n",
       "      <td>0.001</td>\n",
       "      <td>110</td>\n",
       "      <td>10000</td>\n",
       "      <td>761.2606985569</td>\n",
       "      <td>4784.134714126587</td>\n",
       "      <td>True</td>\n",
       "      <td>True</td>\n",
       "      <td>1</td>\n",
       "      <td>0.047107438016528926</td>\n",
       "      <td>5000</td>\n",
       "      <td>...</td>\n",
       "      <td>data_run003</td>\n",
       "      <td>NaN</td>\n",
       "      <td>NaN</td>\n",
       "      <td>NaN</td>\n",
       "      <td>NaN</td>\n",
       "      <td>NaN</td>\n",
       "      <td>NaN</td>\n",
       "      <td>NaN</td>\n",
       "      <td>True</td>\n",
       "      <td>5.0</td>\n",
       "    </tr>\n",
       "  </tbody>\n",
       "</table>\n",
       "<p>5 rows × 23 columns</p>\n",
       "</div>"
      ],
      "text/plain": [
       "        model_lr model_n_genes model_n_samples    pretraining_time  \\\n",
       "run_006    0.001           110           10000  1253.3923797607422   \n",
       "run_007    0.001           110           10000  1324.9259674549103   \n",
       "run_008    0.001           110           10000   1423.542443037033   \n",
       "run_001    0.001           110           10000  1000.6491122245789   \n",
       "run_010    0.001           110           10000      761.2606985569   \n",
       "\n",
       "             training_time compile trad_loading scale_mask  \\\n",
       "run_006  6844.740823507309    True         True          1   \n",
       "run_007   6811.07182598114    True         True          1   \n",
       "run_008   6669.91720533371    True         True          1   \n",
       "run_001  6445.681981086731    True         True          1   \n",
       "run_010  4784.134714126587    True         True          1   \n",
       "\n",
       "                  grn_noise_p n_epochs  ...      data_id data_source  nll  \\\n",
       "run_006                   0.0     5000  ...  data_run003         NaN  NaN   \n",
       "run_007  0.004710743801652892     5000  ...  data_run003         NaN  NaN   \n",
       "run_008  0.009421487603305785     5000  ...  data_run003         NaN  NaN   \n",
       "run_001   0.01884297520661157     5000  ...  data_run003         NaN  NaN   \n",
       "run_010  0.047107438016528926     5000  ...  data_run003         NaN  NaN   \n",
       "\n",
       "        max_f1 average_precision auroc prior_average_precision prior_auroc  \\\n",
       "run_006    NaN               NaN   NaN                     NaN         NaN   \n",
       "run_007    NaN               NaN   NaN                     NaN         NaN   \n",
       "run_008    NaN               NaN   NaN                     NaN         NaN   \n",
       "run_001    NaN               NaN   NaN                     NaN         NaN   \n",
       "run_010    NaN               NaN   NaN                     NaN         NaN   \n",
       "\n",
       "        model_use_latents grn_noise_factor  \n",
       "run_006              True              0.0  \n",
       "run_007              True              0.5  \n",
       "run_008              True              1.0  \n",
       "run_001              True              2.0  \n",
       "run_010              True              5.0  \n",
       "\n",
       "[5 rows x 23 columns]"
      ]
     },
     "execution_count": 22,
     "metadata": {},
     "output_type": "execute_result"
    }
   ],
   "source": [
    "params#.to_csv(data_path/\"tmp\"/\"params.csv\")"
   ]
  },
  {
   "cell_type": "code",
   "execution_count": 15,
   "id": "eb9b5c3b",
   "metadata": {},
   "outputs": [
    {
     "name": "stdout",
     "output_type": "stream",
     "text": [
      "/data/toulouse/bicycle/notebooks/experiments/masking/data/model_runs/models/run_076/customcheckpoint/last-v1.ckpt\n",
      "run_076\n",
      "last epoch:  9999\n",
      "Initializing parameters from data\n",
      "/data/toulouse/bicycle/notebooks/experiments/masking/data/model_runs/models/run_066/customcheckpoint/last-v3.ckpt\n",
      "run_066\n",
      "last epoch:  9999\n",
      "Initializing parameters from data\n",
      "using last\n",
      "run_097\n",
      "last epoch:  9999\n",
      "Initializing parameters from data\n",
      "/data/toulouse/bicycle/notebooks/experiments/masking/data/model_runs/models/run_078/customcheckpoint/last-v1.ckpt\n",
      "run_078\n",
      "last epoch:  9999\n",
      "Initializing parameters from data\n",
      "/data/toulouse/bicycle/notebooks/experiments/masking/data/model_runs/models/run_070/customcheckpoint/last-v3.ckpt\n",
      "run_070\n",
      "last epoch:  9999\n",
      "Initializing parameters from data\n",
      "/data/toulouse/bicycle/notebooks/experiments/masking/data/model_runs/models/run_079/customcheckpoint/last-v1.ckpt\n",
      "run_079\n",
      "last epoch:  9999\n",
      "Initializing parameters from data\n",
      "/data/toulouse/bicycle/notebooks/experiments/masking/data/model_runs/models/run_080/customcheckpoint/last-v1.ckpt\n",
      "run_080\n",
      "last epoch:  8900\n",
      "Initializing parameters from data\n",
      "/data/toulouse/bicycle/notebooks/experiments/masking/data/model_runs/models/run_069/customcheckpoint/last-v3.ckpt\n",
      "run_069\n",
      "last epoch:  9999\n",
      "Initializing parameters from data\n",
      "/data/toulouse/bicycle/notebooks/experiments/masking/data/model_runs/models/run_077/customcheckpoint/last-v1.ckpt\n",
      "run_077\n",
      "last epoch:  9967\n",
      "Initializing parameters from data\n",
      "/data/toulouse/bicycle/notebooks/experiments/masking/data/model_runs/models/run_067/customcheckpoint/last-v3.ckpt\n",
      "run_067\n",
      "last epoch:  9999\n",
      "Initializing parameters from data\n",
      "/data/toulouse/bicycle/notebooks/experiments/masking/data/model_runs/models/run_068/customcheckpoint/last-v3.ckpt\n",
      "run_068\n",
      "last epoch:  9999\n",
      "Initializing parameters from data\n"
     ]
    },
    {
     "name": "stderr",
     "output_type": "stream",
     "text": [
      "/data/toulouse/miniforge3/envs/bicycle/lib/python3.11/site-packages/pytorch_lightning/utilities/migration/utils.py:55: PossibleUserWarning: The loaded checkpoint was produced with Lightning v2.5.1.post0, which is newer than your current Lightning version: v2.0.9\n",
      "  rank_zero_warn(\n"
     ]
    },
    {
     "data": {
      "text/plain": [
       "'    with torch.no_grad():\\n        grn = model.gt_beta.copy()\\n        ckpts[key][\"grn\"] = grn\\n        if not model.mask is None:\\n            beta = np.zeros(grn.shape)\\n            beta[model.mask.cpu().to(bool)] = model.beta_val\\n            ckpts[key][\"beta\"] = beta\\n            #plt.hist(beta)\\n            #plt.show()\\n\\n        else:\\n            ckpts[key][\"beta\"] = model.beta.detach().cpu().numpy().copy()\\n        if not model.bayes_prior is None:\\n            ckpts[key][\"prior\"] = model.bayes_prior.cpu().numpy().copy()\\n'"
      ]
     },
     "execution_count": 15,
     "metadata": {},
     "output_type": "execute_result"
    }
   ],
   "source": [
    "ckpts = dict()\n",
    "for path in models_path.iterdir():\n",
    "    key = str(path.name)\n",
    "    if path.name[:-id_len] != prefix:\n",
    "         continue\n",
    "    if int(path.name[-id_len:]) not in include:\n",
    "          continue\n",
    "    paths = glob(root_dir=path/\"customcheckpoint\", pathname=\"./last*.ckpt\")\n",
    "    try:\n",
    "        paths.remove('./last.ckpt')\n",
    "    except:\n",
    "        print(f\"{key} has no last.ckpt\")\n",
    "        params = params.drop(index=key)\n",
    "        continue\n",
    "\n",
    "    if len(paths) ==0:\n",
    "        print(\"using last\")\n",
    "        ckpt_path = path / \"customcheckpoint/last.ckpt\"\n",
    "        if not ckpt_path.exists():\n",
    "            params = params.drop(index=key)\n",
    "\n",
    "            continue\n",
    "    else:\n",
    "        ckpt_path = path / \"customcheckpoint\"/ max(paths)\n",
    "        print(ckpt_path)\n",
    "    print(key)\n",
    "    state = torch.load(ckpt_path, weights_only=False, map_location=\"cpu\")\n",
    "    print(\"last epoch: \",state[\"epoch\"])\n",
    "    if state[\"epoch\"]<1000:\n",
    "         print(f\"{key} only has {state['epoch']} epoch.\\nWill be removed...\")\n",
    "         params = params.drop(index=key)\n",
    "         continue\n",
    "    model = BICYCLE.load_from_checkpoint(ckpt_path).to(\"cpu\")\n",
    "\n",
    "\n",
    "    ckpts[key] = model\n",
    "'''    with torch.no_grad():\n",
    "        grn = model.gt_beta.copy()\n",
    "        ckpts[key][\"grn\"] = grn\n",
    "        if not model.mask is None:\n",
    "            beta = np.zeros(grn.shape)\n",
    "            beta[model.mask.cpu().to(bool)] = model.beta_val\n",
    "            ckpts[key][\"beta\"] = beta\n",
    "            #plt.hist(beta)\n",
    "            #plt.show()\n",
    "\n",
    "        else:\n",
    "            ckpts[key][\"beta\"] = model.beta.detach().cpu().numpy().copy()\n",
    "        if not model.bayes_prior is None:\n",
    "            ckpts[key][\"prior\"] = model.bayes_prior.cpu().numpy().copy()\n",
    "'''"
   ]
  },
  {
   "cell_type": "code",
   "execution_count": 16,
   "id": "c302cf0b",
   "metadata": {},
   "outputs": [
    {
     "name": "stdout",
     "output_type": "stream",
     "text": [
      "More than 20 test_genes! Removing last 1 contexts.\n"
     ]
    },
    {
     "name": "stderr",
     "output_type": "stream",
     "text": [
      "GPU available: True (cuda), used: False\n",
      "TPU available: False, using: 0 TPU cores\n",
      "IPU available: False, using: 0 IPUs\n",
      "HPU available: False, using: 0 HPUs\n",
      "/data/toulouse/miniforge3/envs/bicycle/lib/python3.11/site-packages/pytorch_lightning/trainer/setup.py:176: PossibleUserWarning: GPU available but not used. Set `accelerator` and `devices` using `Trainer(accelerator='gpu', devices=2)`.\n",
      "  rank_zero_warn(\n",
      "/data/toulouse/miniforge3/envs/bicycle/lib/python3.11/site-packages/pytorch_lightning/trainer/connectors/data_connector.py:442: PossibleUserWarning: The dataloader, train_dataloader, does not have many workers which may be a bottleneck. Consider increasing the value of the `num_workers` argument` (try 64 which is the number of cpus on this machine) in the `DataLoader` init to improve performance.\n",
      "  rank_zero_warn(\n",
      "/data/toulouse/miniforge3/envs/bicycle/lib/python3.11/site-packages/pytorch_lightning/loops/fit_loop.py:281: PossibleUserWarning: The number of training batches (1) is smaller than the logging interval Trainer(log_every_n_steps=100000). Set a lower value for log_every_n_steps if you want to see logs for the training epoch.\n",
      "  rank_zero_warn(\n",
      "`Trainer.fit` stopped: `max_epochs=100` reached.\n",
      "GPU available: True (cuda), used: False\n",
      "TPU available: False, using: 0 TPU cores\n",
      "IPU available: False, using: 0 IPUs\n",
      "HPU available: False, using: 0 HPUs\n",
      "`Trainer.fit` stopped: `max_epochs=100` reached.\n",
      "GPU available: True (cuda), used: False\n",
      "TPU available: False, using: 0 TPU cores\n",
      "IPU available: False, using: 0 IPUs\n",
      "HPU available: False, using: 0 HPUs\n",
      "`Trainer.fit` stopped: `max_epochs=100` reached.\n",
      "GPU available: True (cuda), used: False\n",
      "TPU available: False, using: 0 TPU cores\n",
      "IPU available: False, using: 0 IPUs\n",
      "HPU available: False, using: 0 HPUs\n"
     ]
    },
    {
     "name": "stdout",
     "output_type": "stream",
     "text": [
      "GT_INTERV.DEVICE: cpu\n",
      "setting device to: cpu\n",
      "Training took 0.05 seconds\n",
      "torch.Size([250, 10])\n",
      "torch.Size([])\n",
      "GT_INTERV.DEVICE: cpu\n",
      "setting device to: cpu\n",
      "Training took 0.05 seconds\n",
      "torch.Size([250, 10])\n",
      "torch.Size([])\n",
      "GT_INTERV.DEVICE: cpu\n",
      "setting device to: cpu\n",
      "Training took 0.05 seconds\n",
      "torch.Size([250, 10])\n",
      "torch.Size([])\n",
      "GT_INTERV.DEVICE: cpu\n",
      "setting device to: cpu\n"
     ]
    },
    {
     "name": "stderr",
     "output_type": "stream",
     "text": [
      "`Trainer.fit` stopped: `max_epochs=100` reached.\n",
      "GPU available: True (cuda), used: False\n",
      "TPU available: False, using: 0 TPU cores\n",
      "IPU available: False, using: 0 IPUs\n",
      "HPU available: False, using: 0 HPUs\n",
      "`Trainer.fit` stopped: `max_epochs=100` reached.\n",
      "GPU available: True (cuda), used: False\n",
      "TPU available: False, using: 0 TPU cores\n",
      "IPU available: False, using: 0 IPUs\n",
      "HPU available: False, using: 0 HPUs\n",
      "`Trainer.fit` stopped: `max_epochs=100` reached.\n",
      "GPU available: True (cuda), used: False\n",
      "TPU available: False, using: 0 TPU cores\n",
      "IPU available: False, using: 0 IPUs\n",
      "HPU available: False, using: 0 HPUs\n",
      "`Trainer.fit` stopped: `max_epochs=100` reached.\n",
      "GPU available: True (cuda), used: False\n",
      "TPU available: False, using: 0 TPU cores\n",
      "IPU available: False, using: 0 IPUs\n",
      "HPU available: False, using: 0 HPUs\n",
      "`Trainer.fit` stopped: `max_epochs=100` reached.\n",
      "GPU available: True (cuda), used: False\n",
      "TPU available: False, using: 0 TPU cores\n",
      "IPU available: False, using: 0 IPUs\n",
      "HPU available: False, using: 0 HPUs\n"
     ]
    },
    {
     "name": "stdout",
     "output_type": "stream",
     "text": [
      "Training took 0.05 seconds\n",
      "torch.Size([250, 10])\n",
      "torch.Size([])\n",
      "GT_INTERV.DEVICE: cpu\n",
      "setting device to: cpu\n",
      "Training took 0.04 seconds\n",
      "torch.Size([250, 10])\n",
      "torch.Size([])\n",
      "GT_INTERV.DEVICE: cpu\n",
      "setting device to: cpu\n",
      "Training took 0.04 seconds\n",
      "torch.Size([250, 10])\n",
      "torch.Size([])\n",
      "GT_INTERV.DEVICE: cpu\n",
      "setting device to: cpu\n",
      "Training took 0.04 seconds\n",
      "torch.Size([250, 10])\n",
      "torch.Size([])\n",
      "GT_INTERV.DEVICE: cpu\n",
      "setting device to: cpu\n",
      "Training took 0.04 seconds\n",
      "torch.Size([250, 10])\n",
      "torch.Size([])\n",
      "GT_INTERV.DEVICE: cpu\n",
      "setting device to: cpu\n"
     ]
    },
    {
     "name": "stderr",
     "output_type": "stream",
     "text": [
      "`Trainer.fit` stopped: `max_epochs=100` reached.\n",
      "GPU available: True (cuda), used: False\n",
      "TPU available: False, using: 0 TPU cores\n",
      "IPU available: False, using: 0 IPUs\n",
      "HPU available: False, using: 0 HPUs\n",
      "`Trainer.fit` stopped: `max_epochs=100` reached.\n",
      "GPU available: True (cuda), used: False\n",
      "TPU available: False, using: 0 TPU cores\n",
      "IPU available: False, using: 0 IPUs\n",
      "HPU available: False, using: 0 HPUs\n",
      "`Trainer.fit` stopped: `max_epochs=100` reached.\n",
      "GPU available: True (cuda), used: False\n",
      "TPU available: False, using: 0 TPU cores\n",
      "IPU available: False, using: 0 IPUs\n",
      "HPU available: False, using: 0 HPUs\n",
      "`Trainer.fit` stopped: `max_epochs=100` reached.\n",
      "GPU available: True (cuda), used: False\n",
      "TPU available: False, using: 0 TPU cores\n",
      "IPU available: False, using: 0 IPUs\n",
      "HPU available: False, using: 0 HPUs\n",
      "`Trainer.fit` stopped: `max_epochs=100` reached.\n",
      "GPU available: True (cuda), used: False\n",
      "TPU available: False, using: 0 TPU cores\n",
      "IPU available: False, using: 0 IPUs\n",
      "HPU available: False, using: 0 HPUs\n"
     ]
    },
    {
     "name": "stdout",
     "output_type": "stream",
     "text": [
      "Training took 0.04 seconds\n",
      "torch.Size([250, 10])\n",
      "torch.Size([])\n",
      "GT_INTERV.DEVICE: cpu\n",
      "setting device to: cpu\n",
      "Training took 0.04 seconds\n",
      "torch.Size([250, 10])\n",
      "torch.Size([])\n",
      "GT_INTERV.DEVICE: cpu\n",
      "setting device to: cpu\n",
      "Training took 0.04 seconds\n",
      "torch.Size([250, 10])\n",
      "torch.Size([])\n",
      "GT_INTERV.DEVICE: cpu\n",
      "setting device to: cpu\n",
      "Training took 0.04 seconds\n",
      "torch.Size([250, 10])\n",
      "torch.Size([])\n",
      "GT_INTERV.DEVICE: cpu\n",
      "setting device to: cpu\n",
      "Training took 0.04 seconds\n",
      "torch.Size([250, 10])\n",
      "torch.Size([])\n",
      "GT_INTERV.DEVICE: cpu\n",
      "setting device to: cpu\n"
     ]
    },
    {
     "name": "stderr",
     "output_type": "stream",
     "text": [
      "`Trainer.fit` stopped: `max_epochs=100` reached.\n",
      "GPU available: True (cuda), used: False\n",
      "TPU available: False, using: 0 TPU cores\n",
      "IPU available: False, using: 0 IPUs\n",
      "HPU available: False, using: 0 HPUs\n",
      "`Trainer.fit` stopped: `max_epochs=100` reached.\n",
      "GPU available: True (cuda), used: False\n",
      "TPU available: False, using: 0 TPU cores\n",
      "IPU available: False, using: 0 IPUs\n",
      "HPU available: False, using: 0 HPUs\n",
      "`Trainer.fit` stopped: `max_epochs=100` reached.\n",
      "GPU available: True (cuda), used: False\n",
      "TPU available: False, using: 0 TPU cores\n",
      "IPU available: False, using: 0 IPUs\n",
      "HPU available: False, using: 0 HPUs\n",
      "`Trainer.fit` stopped: `max_epochs=100` reached.\n",
      "GPU available: True (cuda), used: False\n",
      "TPU available: False, using: 0 TPU cores\n",
      "IPU available: False, using: 0 IPUs\n",
      "HPU available: False, using: 0 HPUs\n",
      "`Trainer.fit` stopped: `max_epochs=100` reached.\n",
      "GPU available: True (cuda), used: False\n",
      "TPU available: False, using: 0 TPU cores\n",
      "IPU available: False, using: 0 IPUs\n",
      "HPU available: False, using: 0 HPUs\n"
     ]
    },
    {
     "name": "stdout",
     "output_type": "stream",
     "text": [
      "Training took 0.04 seconds\n",
      "torch.Size([250, 10])\n",
      "torch.Size([])\n",
      "GT_INTERV.DEVICE: cpu\n",
      "setting device to: cpu\n",
      "Training took 0.04 seconds\n",
      "torch.Size([250, 10])\n",
      "torch.Size([])\n",
      "GT_INTERV.DEVICE: cpu\n",
      "setting device to: cpu\n",
      "Training took 0.04 seconds\n",
      "torch.Size([250, 10])\n",
      "torch.Size([])\n",
      "GT_INTERV.DEVICE: cpu\n",
      "setting device to: cpu\n",
      "Training took 0.04 seconds\n",
      "torch.Size([250, 10])\n",
      "torch.Size([])\n",
      "GT_INTERV.DEVICE: cpu\n",
      "setting device to: cpu\n",
      "Training took 0.04 seconds\n",
      "torch.Size([250, 10])\n",
      "torch.Size([])\n",
      "GT_INTERV.DEVICE: cpu\n",
      "setting device to: cpu\n"
     ]
    },
    {
     "name": "stderr",
     "output_type": "stream",
     "text": [
      "`Trainer.fit` stopped: `max_epochs=100` reached.\n",
      "GPU available: True (cuda), used: False\n",
      "TPU available: False, using: 0 TPU cores\n",
      "IPU available: False, using: 0 IPUs\n",
      "HPU available: False, using: 0 HPUs\n",
      "`Trainer.fit` stopped: `max_epochs=100` reached.\n"
     ]
    },
    {
     "name": "stdout",
     "output_type": "stream",
     "text": [
      "Training took 0.04 seconds\n",
      "torch.Size([250, 10])\n",
      "torch.Size([])\n",
      "GT_INTERV.DEVICE: cpu\n",
      "setting device to: cpu\n",
      "Training took 0.04 seconds\n",
      "torch.Size([250, 10])\n",
      "torch.Size([])\n",
      "More than 20 test_genes! Removing last 1 contexts.\n"
     ]
    },
    {
     "name": "stderr",
     "output_type": "stream",
     "text": [
      "GPU available: True (cuda), used: False\n",
      "TPU available: False, using: 0 TPU cores\n",
      "IPU available: False, using: 0 IPUs\n",
      "HPU available: False, using: 0 HPUs\n",
      "/data/toulouse/miniforge3/envs/bicycle/lib/python3.11/site-packages/pytorch_lightning/trainer/setup.py:176: PossibleUserWarning: GPU available but not used. Set `accelerator` and `devices` using `Trainer(accelerator='gpu', devices=2)`.\n",
      "  rank_zero_warn(\n",
      "/data/toulouse/miniforge3/envs/bicycle/lib/python3.11/site-packages/pytorch_lightning/trainer/connectors/data_connector.py:442: PossibleUserWarning: The dataloader, train_dataloader, does not have many workers which may be a bottleneck. Consider increasing the value of the `num_workers` argument` (try 64 which is the number of cpus on this machine) in the `DataLoader` init to improve performance.\n",
      "  rank_zero_warn(\n",
      "/data/toulouse/miniforge3/envs/bicycle/lib/python3.11/site-packages/pytorch_lightning/loops/fit_loop.py:281: PossibleUserWarning: The number of training batches (1) is smaller than the logging interval Trainer(log_every_n_steps=100000). Set a lower value for log_every_n_steps if you want to see logs for the training epoch.\n",
      "  rank_zero_warn(\n",
      "`Trainer.fit` stopped: `max_epochs=100` reached.\n",
      "GPU available: True (cuda), used: False\n",
      "TPU available: False, using: 0 TPU cores\n",
      "IPU available: False, using: 0 IPUs\n",
      "HPU available: False, using: 0 HPUs\n",
      "`Trainer.fit` stopped: `max_epochs=100` reached.\n",
      "GPU available: True (cuda), used: False\n",
      "TPU available: False, using: 0 TPU cores\n",
      "IPU available: False, using: 0 IPUs\n",
      "HPU available: False, using: 0 HPUs\n",
      "`Trainer.fit` stopped: `max_epochs=100` reached.\n",
      "GPU available: True (cuda), used: False\n",
      "TPU available: False, using: 0 TPU cores\n",
      "IPU available: False, using: 0 IPUs\n",
      "HPU available: False, using: 0 HPUs\n"
     ]
    },
    {
     "name": "stdout",
     "output_type": "stream",
     "text": [
      "GT_INTERV.DEVICE: cpu\n",
      "setting device to: cpu\n",
      "Training took 0.05 seconds\n",
      "torch.Size([250, 10])\n",
      "torch.Size([])\n",
      "GT_INTERV.DEVICE: cpu\n",
      "setting device to: cpu\n",
      "Training took 0.05 seconds\n",
      "torch.Size([250, 10])\n",
      "torch.Size([])\n",
      "GT_INTERV.DEVICE: cpu\n",
      "setting device to: cpu\n",
      "Training took 0.05 seconds\n",
      "torch.Size([250, 10])\n",
      "torch.Size([])\n",
      "GT_INTERV.DEVICE: cpu\n",
      "setting device to: cpu\n"
     ]
    },
    {
     "name": "stderr",
     "output_type": "stream",
     "text": [
      "`Trainer.fit` stopped: `max_epochs=100` reached.\n",
      "GPU available: True (cuda), used: False\n",
      "TPU available: False, using: 0 TPU cores\n",
      "IPU available: False, using: 0 IPUs\n",
      "HPU available: False, using: 0 HPUs\n",
      "`Trainer.fit` stopped: `max_epochs=100` reached.\n",
      "GPU available: True (cuda), used: False\n",
      "TPU available: False, using: 0 TPU cores\n",
      "IPU available: False, using: 0 IPUs\n",
      "HPU available: False, using: 0 HPUs\n",
      "`Trainer.fit` stopped: `max_epochs=100` reached.\n",
      "GPU available: True (cuda), used: False\n",
      "TPU available: False, using: 0 TPU cores\n",
      "IPU available: False, using: 0 IPUs\n",
      "HPU available: False, using: 0 HPUs\n",
      "`Trainer.fit` stopped: `max_epochs=100` reached.\n",
      "GPU available: True (cuda), used: False\n",
      "TPU available: False, using: 0 TPU cores\n",
      "IPU available: False, using: 0 IPUs\n",
      "HPU available: False, using: 0 HPUs\n",
      "`Trainer.fit` stopped: `max_epochs=100` reached.\n",
      "GPU available: True (cuda), used: False\n",
      "TPU available: False, using: 0 TPU cores\n",
      "IPU available: False, using: 0 IPUs\n",
      "HPU available: False, using: 0 HPUs\n"
     ]
    },
    {
     "name": "stdout",
     "output_type": "stream",
     "text": [
      "Training took 0.05 seconds\n",
      "torch.Size([250, 10])\n",
      "torch.Size([])\n",
      "GT_INTERV.DEVICE: cpu\n",
      "setting device to: cpu\n",
      "Training took 0.04 seconds\n",
      "torch.Size([250, 10])\n",
      "torch.Size([])\n",
      "GT_INTERV.DEVICE: cpu\n",
      "setting device to: cpu\n",
      "Training took 0.04 seconds\n",
      "torch.Size([250, 10])\n",
      "torch.Size([])\n",
      "GT_INTERV.DEVICE: cpu\n",
      "setting device to: cpu\n",
      "Training took 0.04 seconds\n",
      "torch.Size([250, 10])\n",
      "torch.Size([])\n",
      "GT_INTERV.DEVICE: cpu\n",
      "setting device to: cpu\n",
      "Training took 0.04 seconds\n",
      "torch.Size([250, 10])\n",
      "torch.Size([])\n",
      "GT_INTERV.DEVICE: cpu\n",
      "setting device to: cpu\n"
     ]
    },
    {
     "name": "stderr",
     "output_type": "stream",
     "text": [
      "`Trainer.fit` stopped: `max_epochs=100` reached.\n",
      "GPU available: True (cuda), used: False\n",
      "TPU available: False, using: 0 TPU cores\n",
      "IPU available: False, using: 0 IPUs\n",
      "HPU available: False, using: 0 HPUs\n",
      "`Trainer.fit` stopped: `max_epochs=100` reached.\n",
      "GPU available: True (cuda), used: False\n",
      "TPU available: False, using: 0 TPU cores\n",
      "IPU available: False, using: 0 IPUs\n",
      "HPU available: False, using: 0 HPUs\n",
      "`Trainer.fit` stopped: `max_epochs=100` reached.\n",
      "GPU available: True (cuda), used: False\n",
      "TPU available: False, using: 0 TPU cores\n",
      "IPU available: False, using: 0 IPUs\n",
      "HPU available: False, using: 0 HPUs\n",
      "`Trainer.fit` stopped: `max_epochs=100` reached.\n",
      "GPU available: True (cuda), used: False\n",
      "TPU available: False, using: 0 TPU cores\n",
      "IPU available: False, using: 0 IPUs\n",
      "HPU available: False, using: 0 HPUs\n",
      "`Trainer.fit` stopped: `max_epochs=100` reached.\n",
      "GPU available: True (cuda), used: False\n",
      "TPU available: False, using: 0 TPU cores\n",
      "IPU available: False, using: 0 IPUs\n",
      "HPU available: False, using: 0 HPUs\n"
     ]
    },
    {
     "name": "stdout",
     "output_type": "stream",
     "text": [
      "Training took 0.04 seconds\n",
      "torch.Size([250, 10])\n",
      "torch.Size([])\n",
      "GT_INTERV.DEVICE: cpu\n",
      "setting device to: cpu\n",
      "Training took 0.04 seconds\n",
      "torch.Size([250, 10])\n",
      "torch.Size([])\n",
      "GT_INTERV.DEVICE: cpu\n",
      "setting device to: cpu\n",
      "Training took 0.04 seconds\n",
      "torch.Size([250, 10])\n",
      "torch.Size([])\n",
      "GT_INTERV.DEVICE: cpu\n",
      "setting device to: cpu\n",
      "Training took 0.04 seconds\n",
      "torch.Size([250, 10])\n",
      "torch.Size([])\n",
      "GT_INTERV.DEVICE: cpu\n",
      "setting device to: cpu\n",
      "Training took 0.04 seconds\n",
      "torch.Size([250, 10])\n",
      "torch.Size([])\n",
      "GT_INTERV.DEVICE: cpu\n",
      "setting device to: cpu\n"
     ]
    },
    {
     "name": "stderr",
     "output_type": "stream",
     "text": [
      "`Trainer.fit` stopped: `max_epochs=100` reached.\n",
      "GPU available: True (cuda), used: False\n",
      "TPU available: False, using: 0 TPU cores\n",
      "IPU available: False, using: 0 IPUs\n",
      "HPU available: False, using: 0 HPUs\n",
      "`Trainer.fit` stopped: `max_epochs=100` reached.\n",
      "GPU available: True (cuda), used: False\n",
      "TPU available: False, using: 0 TPU cores\n",
      "IPU available: False, using: 0 IPUs\n",
      "HPU available: False, using: 0 HPUs\n",
      "`Trainer.fit` stopped: `max_epochs=100` reached.\n",
      "GPU available: True (cuda), used: False\n",
      "TPU available: False, using: 0 TPU cores\n",
      "IPU available: False, using: 0 IPUs\n",
      "HPU available: False, using: 0 HPUs\n",
      "`Trainer.fit` stopped: `max_epochs=100` reached.\n",
      "GPU available: True (cuda), used: False\n",
      "TPU available: False, using: 0 TPU cores\n",
      "IPU available: False, using: 0 IPUs\n",
      "HPU available: False, using: 0 HPUs\n",
      "`Trainer.fit` stopped: `max_epochs=100` reached.\n",
      "GPU available: True (cuda), used: False\n",
      "TPU available: False, using: 0 TPU cores\n",
      "IPU available: False, using: 0 IPUs\n",
      "HPU available: False, using: 0 HPUs\n"
     ]
    },
    {
     "name": "stdout",
     "output_type": "stream",
     "text": [
      "Training took 0.04 seconds\n",
      "torch.Size([250, 10])\n",
      "torch.Size([])\n",
      "GT_INTERV.DEVICE: cpu\n",
      "setting device to: cpu\n",
      "Training took 0.04 seconds\n",
      "torch.Size([250, 10])\n",
      "torch.Size([])\n",
      "GT_INTERV.DEVICE: cpu\n",
      "setting device to: cpu\n",
      "Training took 0.04 seconds\n",
      "torch.Size([250, 10])\n",
      "torch.Size([])\n",
      "GT_INTERV.DEVICE: cpu\n",
      "setting device to: cpu\n",
      "Training took 0.04 seconds\n",
      "torch.Size([250, 10])\n",
      "torch.Size([])\n",
      "GT_INTERV.DEVICE: cpu\n",
      "setting device to: cpu\n",
      "Training took 0.04 seconds\n",
      "torch.Size([250, 10])\n",
      "torch.Size([])\n",
      "GT_INTERV.DEVICE: cpu\n",
      "setting device to: cpu\n"
     ]
    },
    {
     "name": "stderr",
     "output_type": "stream",
     "text": [
      "`Trainer.fit` stopped: `max_epochs=100` reached.\n",
      "GPU available: True (cuda), used: False\n",
      "TPU available: False, using: 0 TPU cores\n",
      "IPU available: False, using: 0 IPUs\n",
      "HPU available: False, using: 0 HPUs\n",
      "`Trainer.fit` stopped: `max_epochs=100` reached.\n"
     ]
    },
    {
     "name": "stdout",
     "output_type": "stream",
     "text": [
      "Training took 0.04 seconds\n",
      "torch.Size([250, 10])\n",
      "torch.Size([])\n",
      "GT_INTERV.DEVICE: cpu\n",
      "setting device to: cpu\n",
      "Training took 0.04 seconds\n",
      "torch.Size([250, 10])\n",
      "torch.Size([])\n",
      "More than 20 test_genes! Removing last 1 contexts.\n"
     ]
    },
    {
     "name": "stderr",
     "output_type": "stream",
     "text": [
      "GPU available: True (cuda), used: False\n",
      "TPU available: False, using: 0 TPU cores\n",
      "IPU available: False, using: 0 IPUs\n",
      "HPU available: False, using: 0 HPUs\n",
      "/data/toulouse/miniforge3/envs/bicycle/lib/python3.11/site-packages/pytorch_lightning/trainer/setup.py:176: PossibleUserWarning: GPU available but not used. Set `accelerator` and `devices` using `Trainer(accelerator='gpu', devices=2)`.\n",
      "  rank_zero_warn(\n",
      "/data/toulouse/miniforge3/envs/bicycle/lib/python3.11/site-packages/pytorch_lightning/trainer/connectors/data_connector.py:442: PossibleUserWarning: The dataloader, train_dataloader, does not have many workers which may be a bottleneck. Consider increasing the value of the `num_workers` argument` (try 64 which is the number of cpus on this machine) in the `DataLoader` init to improve performance.\n",
      "  rank_zero_warn(\n",
      "/data/toulouse/miniforge3/envs/bicycle/lib/python3.11/site-packages/pytorch_lightning/loops/fit_loop.py:281: PossibleUserWarning: The number of training batches (1) is smaller than the logging interval Trainer(log_every_n_steps=100000). Set a lower value for log_every_n_steps if you want to see logs for the training epoch.\n",
      "  rank_zero_warn(\n",
      "`Trainer.fit` stopped: `max_epochs=100` reached.\n",
      "GPU available: True (cuda), used: False\n",
      "TPU available: False, using: 0 TPU cores\n",
      "IPU available: False, using: 0 IPUs\n",
      "HPU available: False, using: 0 HPUs\n",
      "`Trainer.fit` stopped: `max_epochs=100` reached.\n",
      "GPU available: True (cuda), used: False\n",
      "TPU available: False, using: 0 TPU cores\n",
      "IPU available: False, using: 0 IPUs\n",
      "HPU available: False, using: 0 HPUs\n",
      "`Trainer.fit` stopped: `max_epochs=100` reached.\n",
      "GPU available: True (cuda), used: False\n",
      "TPU available: False, using: 0 TPU cores\n",
      "IPU available: False, using: 0 IPUs\n",
      "HPU available: False, using: 0 HPUs\n"
     ]
    },
    {
     "name": "stdout",
     "output_type": "stream",
     "text": [
      "GT_INTERV.DEVICE: cpu\n",
      "setting device to: cpu\n",
      "Training took 0.05 seconds\n",
      "torch.Size([250, 10])\n",
      "torch.Size([])\n",
      "GT_INTERV.DEVICE: cpu\n",
      "setting device to: cpu\n",
      "Training took 0.05 seconds\n",
      "torch.Size([250, 10])\n",
      "torch.Size([])\n",
      "GT_INTERV.DEVICE: cpu\n",
      "setting device to: cpu\n",
      "Training took 0.05 seconds\n",
      "torch.Size([250, 10])\n",
      "torch.Size([])\n",
      "GT_INTERV.DEVICE: cpu\n",
      "setting device to: cpu\n"
     ]
    },
    {
     "name": "stderr",
     "output_type": "stream",
     "text": [
      "`Trainer.fit` stopped: `max_epochs=100` reached.\n",
      "GPU available: True (cuda), used: False\n",
      "TPU available: False, using: 0 TPU cores\n",
      "IPU available: False, using: 0 IPUs\n",
      "HPU available: False, using: 0 HPUs\n",
      "`Trainer.fit` stopped: `max_epochs=100` reached.\n",
      "GPU available: True (cuda), used: False\n",
      "TPU available: False, using: 0 TPU cores\n",
      "IPU available: False, using: 0 IPUs\n",
      "HPU available: False, using: 0 HPUs\n",
      "`Trainer.fit` stopped: `max_epochs=100` reached.\n",
      "GPU available: True (cuda), used: False\n",
      "TPU available: False, using: 0 TPU cores\n",
      "IPU available: False, using: 0 IPUs\n",
      "HPU available: False, using: 0 HPUs\n",
      "`Trainer.fit` stopped: `max_epochs=100` reached.\n",
      "GPU available: True (cuda), used: False\n",
      "TPU available: False, using: 0 TPU cores\n",
      "IPU available: False, using: 0 IPUs\n",
      "HPU available: False, using: 0 HPUs\n",
      "`Trainer.fit` stopped: `max_epochs=100` reached.\n",
      "GPU available: True (cuda), used: False\n",
      "TPU available: False, using: 0 TPU cores\n",
      "IPU available: False, using: 0 IPUs\n",
      "HPU available: False, using: 0 HPUs\n"
     ]
    },
    {
     "name": "stdout",
     "output_type": "stream",
     "text": [
      "Training took 0.05 seconds\n",
      "torch.Size([250, 10])\n",
      "torch.Size([])\n",
      "GT_INTERV.DEVICE: cpu\n",
      "setting device to: cpu\n",
      "Training took 0.04 seconds\n",
      "torch.Size([250, 10])\n",
      "torch.Size([])\n",
      "GT_INTERV.DEVICE: cpu\n",
      "setting device to: cpu\n",
      "Training took 0.04 seconds\n",
      "torch.Size([250, 10])\n",
      "torch.Size([])\n",
      "GT_INTERV.DEVICE: cpu\n",
      "setting device to: cpu\n",
      "Training took 0.04 seconds\n",
      "torch.Size([250, 10])\n",
      "torch.Size([])\n",
      "GT_INTERV.DEVICE: cpu\n",
      "setting device to: cpu\n",
      "Training took 0.04 seconds\n",
      "torch.Size([250, 10])\n",
      "torch.Size([])\n",
      "GT_INTERV.DEVICE: cpu\n",
      "setting device to: cpu\n"
     ]
    },
    {
     "name": "stderr",
     "output_type": "stream",
     "text": [
      "`Trainer.fit` stopped: `max_epochs=100` reached.\n",
      "GPU available: True (cuda), used: False\n",
      "TPU available: False, using: 0 TPU cores\n",
      "IPU available: False, using: 0 IPUs\n",
      "HPU available: False, using: 0 HPUs\n",
      "`Trainer.fit` stopped: `max_epochs=100` reached.\n",
      "GPU available: True (cuda), used: False\n",
      "TPU available: False, using: 0 TPU cores\n",
      "IPU available: False, using: 0 IPUs\n",
      "HPU available: False, using: 0 HPUs\n",
      "`Trainer.fit` stopped: `max_epochs=100` reached.\n",
      "GPU available: True (cuda), used: False\n",
      "TPU available: False, using: 0 TPU cores\n",
      "IPU available: False, using: 0 IPUs\n",
      "HPU available: False, using: 0 HPUs\n",
      "`Trainer.fit` stopped: `max_epochs=100` reached.\n",
      "GPU available: True (cuda), used: False\n",
      "TPU available: False, using: 0 TPU cores\n",
      "IPU available: False, using: 0 IPUs\n",
      "HPU available: False, using: 0 HPUs\n",
      "`Trainer.fit` stopped: `max_epochs=100` reached.\n",
      "GPU available: True (cuda), used: False\n",
      "TPU available: False, using: 0 TPU cores\n",
      "IPU available: False, using: 0 IPUs\n",
      "HPU available: False, using: 0 HPUs\n"
     ]
    },
    {
     "name": "stdout",
     "output_type": "stream",
     "text": [
      "Training took 0.04 seconds\n",
      "torch.Size([250, 10])\n",
      "torch.Size([])\n",
      "GT_INTERV.DEVICE: cpu\n",
      "setting device to: cpu\n",
      "Training took 0.04 seconds\n",
      "torch.Size([250, 10])\n",
      "torch.Size([])\n",
      "GT_INTERV.DEVICE: cpu\n",
      "setting device to: cpu\n",
      "Training took 0.04 seconds\n",
      "torch.Size([250, 10])\n",
      "torch.Size([])\n",
      "GT_INTERV.DEVICE: cpu\n",
      "setting device to: cpu\n",
      "Training took 0.04 seconds\n",
      "torch.Size([250, 10])\n",
      "torch.Size([])\n",
      "GT_INTERV.DEVICE: cpu\n",
      "setting device to: cpu\n",
      "Training took 0.04 seconds\n",
      "torch.Size([250, 10])\n",
      "torch.Size([])\n",
      "GT_INTERV.DEVICE: cpu\n",
      "setting device to: cpu\n"
     ]
    },
    {
     "name": "stderr",
     "output_type": "stream",
     "text": [
      "`Trainer.fit` stopped: `max_epochs=100` reached.\n",
      "GPU available: True (cuda), used: False\n",
      "TPU available: False, using: 0 TPU cores\n",
      "IPU available: False, using: 0 IPUs\n",
      "HPU available: False, using: 0 HPUs\n",
      "`Trainer.fit` stopped: `max_epochs=100` reached.\n",
      "GPU available: True (cuda), used: False\n",
      "TPU available: False, using: 0 TPU cores\n",
      "IPU available: False, using: 0 IPUs\n",
      "HPU available: False, using: 0 HPUs\n",
      "`Trainer.fit` stopped: `max_epochs=100` reached.\n",
      "GPU available: True (cuda), used: False\n",
      "TPU available: False, using: 0 TPU cores\n",
      "IPU available: False, using: 0 IPUs\n",
      "HPU available: False, using: 0 HPUs\n",
      "`Trainer.fit` stopped: `max_epochs=100` reached.\n",
      "GPU available: True (cuda), used: False\n",
      "TPU available: False, using: 0 TPU cores\n",
      "IPU available: False, using: 0 IPUs\n",
      "HPU available: False, using: 0 HPUs\n",
      "`Trainer.fit` stopped: `max_epochs=100` reached.\n",
      "GPU available: True (cuda), used: False\n",
      "TPU available: False, using: 0 TPU cores\n",
      "IPU available: False, using: 0 IPUs\n",
      "HPU available: False, using: 0 HPUs\n"
     ]
    },
    {
     "name": "stdout",
     "output_type": "stream",
     "text": [
      "Training took 0.04 seconds\n",
      "torch.Size([250, 10])\n",
      "torch.Size([])\n",
      "GT_INTERV.DEVICE: cpu\n",
      "setting device to: cpu\n",
      "Training took 0.04 seconds\n",
      "torch.Size([250, 10])\n",
      "torch.Size([])\n",
      "GT_INTERV.DEVICE: cpu\n",
      "setting device to: cpu\n",
      "Training took 0.04 seconds\n",
      "torch.Size([250, 10])\n",
      "torch.Size([])\n",
      "GT_INTERV.DEVICE: cpu\n",
      "setting device to: cpu\n",
      "Training took 0.04 seconds\n",
      "torch.Size([250, 10])\n",
      "torch.Size([])\n",
      "GT_INTERV.DEVICE: cpu\n",
      "setting device to: cpu\n",
      "Training took 0.04 seconds\n",
      "torch.Size([250, 10])\n",
      "torch.Size([])\n",
      "GT_INTERV.DEVICE: cpu\n",
      "setting device to: cpu\n"
     ]
    },
    {
     "name": "stderr",
     "output_type": "stream",
     "text": [
      "`Trainer.fit` stopped: `max_epochs=100` reached.\n",
      "GPU available: True (cuda), used: False\n",
      "TPU available: False, using: 0 TPU cores\n",
      "IPU available: False, using: 0 IPUs\n",
      "HPU available: False, using: 0 HPUs\n",
      "`Trainer.fit` stopped: `max_epochs=100` reached.\n"
     ]
    },
    {
     "name": "stdout",
     "output_type": "stream",
     "text": [
      "Training took 0.04 seconds\n",
      "torch.Size([250, 10])\n",
      "torch.Size([])\n",
      "GT_INTERV.DEVICE: cpu\n",
      "setting device to: cpu\n",
      "Training took 0.04 seconds\n",
      "torch.Size([250, 10])\n",
      "torch.Size([])\n",
      "More than 20 test_genes! Removing last 1 contexts.\n"
     ]
    },
    {
     "name": "stderr",
     "output_type": "stream",
     "text": [
      "GPU available: True (cuda), used: False\n",
      "TPU available: False, using: 0 TPU cores\n",
      "IPU available: False, using: 0 IPUs\n",
      "HPU available: False, using: 0 HPUs\n",
      "/data/toulouse/miniforge3/envs/bicycle/lib/python3.11/site-packages/pytorch_lightning/trainer/setup.py:176: PossibleUserWarning: GPU available but not used. Set `accelerator` and `devices` using `Trainer(accelerator='gpu', devices=2)`.\n",
      "  rank_zero_warn(\n",
      "/data/toulouse/miniforge3/envs/bicycle/lib/python3.11/site-packages/pytorch_lightning/trainer/connectors/data_connector.py:442: PossibleUserWarning: The dataloader, train_dataloader, does not have many workers which may be a bottleneck. Consider increasing the value of the `num_workers` argument` (try 64 which is the number of cpus on this machine) in the `DataLoader` init to improve performance.\n",
      "  rank_zero_warn(\n",
      "/data/toulouse/miniforge3/envs/bicycle/lib/python3.11/site-packages/pytorch_lightning/loops/fit_loop.py:281: PossibleUserWarning: The number of training batches (1) is smaller than the logging interval Trainer(log_every_n_steps=100000). Set a lower value for log_every_n_steps if you want to see logs for the training epoch.\n",
      "  rank_zero_warn(\n",
      "`Trainer.fit` stopped: `max_epochs=100` reached.\n",
      "GPU available: True (cuda), used: False\n",
      "TPU available: False, using: 0 TPU cores\n",
      "IPU available: False, using: 0 IPUs\n",
      "HPU available: False, using: 0 HPUs\n",
      "`Trainer.fit` stopped: `max_epochs=100` reached.\n",
      "GPU available: True (cuda), used: False\n",
      "TPU available: False, using: 0 TPU cores\n",
      "IPU available: False, using: 0 IPUs\n",
      "HPU available: False, using: 0 HPUs\n",
      "`Trainer.fit` stopped: `max_epochs=100` reached.\n",
      "GPU available: True (cuda), used: False\n",
      "TPU available: False, using: 0 TPU cores\n",
      "IPU available: False, using: 0 IPUs\n",
      "HPU available: False, using: 0 HPUs\n",
      "`Trainer.fit` stopped: `max_epochs=100` reached.\n",
      "GPU available: True (cuda), used: False\n",
      "TPU available: False, using: 0 TPU cores\n",
      "IPU available: False, using: 0 IPUs\n",
      "HPU available: False, using: 0 HPUs\n"
     ]
    },
    {
     "name": "stdout",
     "output_type": "stream",
     "text": [
      "GT_INTERV.DEVICE: cpu\n",
      "setting device to: cpu\n",
      "Training took 0.04 seconds\n",
      "torch.Size([250, 10])\n",
      "torch.Size([])\n",
      "GT_INTERV.DEVICE: cpu\n",
      "setting device to: cpu\n",
      "Training took 0.04 seconds\n",
      "torch.Size([250, 10])\n",
      "torch.Size([])\n",
      "GT_INTERV.DEVICE: cpu\n",
      "setting device to: cpu\n",
      "Training took 0.04 seconds\n",
      "torch.Size([250, 10])\n",
      "torch.Size([])\n",
      "GT_INTERV.DEVICE: cpu\n",
      "setting device to: cpu\n",
      "Training took 0.05 seconds\n",
      "torch.Size([250, 10])\n",
      "torch.Size([])\n",
      "GT_INTERV.DEVICE: cpu\n",
      "setting device to: cpu\n"
     ]
    },
    {
     "name": "stderr",
     "output_type": "stream",
     "text": [
      "`Trainer.fit` stopped: `max_epochs=100` reached.\n",
      "GPU available: True (cuda), used: False\n",
      "TPU available: False, using: 0 TPU cores\n",
      "IPU available: False, using: 0 IPUs\n",
      "HPU available: False, using: 0 HPUs\n",
      "`Trainer.fit` stopped: `max_epochs=100` reached.\n",
      "GPU available: True (cuda), used: False\n",
      "TPU available: False, using: 0 TPU cores\n",
      "IPU available: False, using: 0 IPUs\n",
      "HPU available: False, using: 0 HPUs\n",
      "`Trainer.fit` stopped: `max_epochs=100` reached.\n",
      "GPU available: True (cuda), used: False\n",
      "TPU available: False, using: 0 TPU cores\n",
      "IPU available: False, using: 0 IPUs\n",
      "HPU available: False, using: 0 HPUs\n",
      "`Trainer.fit` stopped: `max_epochs=100` reached.\n",
      "GPU available: True (cuda), used: False\n",
      "TPU available: False, using: 0 TPU cores\n",
      "IPU available: False, using: 0 IPUs\n",
      "HPU available: False, using: 0 HPUs\n",
      "`Trainer.fit` stopped: `max_epochs=100` reached.\n",
      "GPU available: True (cuda), used: False\n",
      "TPU available: False, using: 0 TPU cores\n",
      "IPU available: False, using: 0 IPUs\n",
      "HPU available: False, using: 0 HPUs\n"
     ]
    },
    {
     "name": "stdout",
     "output_type": "stream",
     "text": [
      "Training took 0.04 seconds\n",
      "torch.Size([250, 10])\n",
      "torch.Size([])\n",
      "GT_INTERV.DEVICE: cpu\n",
      "setting device to: cpu\n",
      "Training took 0.04 seconds\n",
      "torch.Size([250, 10])\n",
      "torch.Size([])\n",
      "GT_INTERV.DEVICE: cpu\n",
      "setting device to: cpu\n",
      "Training took 0.04 seconds\n",
      "torch.Size([250, 10])\n",
      "torch.Size([])\n",
      "GT_INTERV.DEVICE: cpu\n",
      "setting device to: cpu\n",
      "Training took 0.04 seconds\n",
      "torch.Size([250, 10])\n",
      "torch.Size([])\n",
      "GT_INTERV.DEVICE: cpu\n",
      "setting device to: cpu\n",
      "Training took 0.04 seconds\n",
      "torch.Size([250, 10])\n",
      "torch.Size([])\n",
      "GT_INTERV.DEVICE: cpu\n",
      "setting device to: cpu\n"
     ]
    },
    {
     "name": "stderr",
     "output_type": "stream",
     "text": [
      "`Trainer.fit` stopped: `max_epochs=100` reached.\n",
      "GPU available: True (cuda), used: False\n",
      "TPU available: False, using: 0 TPU cores\n",
      "IPU available: False, using: 0 IPUs\n",
      "HPU available: False, using: 0 HPUs\n",
      "`Trainer.fit` stopped: `max_epochs=100` reached.\n",
      "GPU available: True (cuda), used: False\n",
      "TPU available: False, using: 0 TPU cores\n",
      "IPU available: False, using: 0 IPUs\n",
      "HPU available: False, using: 0 HPUs\n",
      "`Trainer.fit` stopped: `max_epochs=100` reached.\n",
      "GPU available: True (cuda), used: False\n",
      "TPU available: False, using: 0 TPU cores\n",
      "IPU available: False, using: 0 IPUs\n",
      "HPU available: False, using: 0 HPUs\n",
      "`Trainer.fit` stopped: `max_epochs=100` reached.\n",
      "GPU available: True (cuda), used: False\n",
      "TPU available: False, using: 0 TPU cores\n",
      "IPU available: False, using: 0 IPUs\n",
      "HPU available: False, using: 0 HPUs\n",
      "`Trainer.fit` stopped: `max_epochs=100` reached.\n",
      "GPU available: True (cuda), used: False\n",
      "TPU available: False, using: 0 TPU cores\n",
      "IPU available: False, using: 0 IPUs\n",
      "HPU available: False, using: 0 HPUs\n"
     ]
    },
    {
     "name": "stdout",
     "output_type": "stream",
     "text": [
      "Training took 0.04 seconds\n",
      "torch.Size([250, 10])\n",
      "torch.Size([])\n",
      "GT_INTERV.DEVICE: cpu\n",
      "setting device to: cpu\n",
      "Training took 0.04 seconds\n",
      "torch.Size([250, 10])\n",
      "torch.Size([])\n",
      "GT_INTERV.DEVICE: cpu\n",
      "setting device to: cpu\n",
      "Training took 0.04 seconds\n",
      "torch.Size([250, 10])\n",
      "torch.Size([])\n",
      "GT_INTERV.DEVICE: cpu\n",
      "setting device to: cpu\n",
      "Training took 0.04 seconds\n",
      "torch.Size([250, 10])\n",
      "torch.Size([])\n",
      "GT_INTERV.DEVICE: cpu\n",
      "setting device to: cpu\n",
      "Training took 0.05 seconds\n",
      "torch.Size([250, 10])\n",
      "torch.Size([])\n",
      "GT_INTERV.DEVICE: cpu\n",
      "setting device to: cpu\n"
     ]
    },
    {
     "name": "stderr",
     "output_type": "stream",
     "text": [
      "`Trainer.fit` stopped: `max_epochs=100` reached.\n",
      "GPU available: True (cuda), used: False\n",
      "TPU available: False, using: 0 TPU cores\n",
      "IPU available: False, using: 0 IPUs\n",
      "HPU available: False, using: 0 HPUs\n",
      "`Trainer.fit` stopped: `max_epochs=100` reached.\n",
      "GPU available: True (cuda), used: False\n",
      "TPU available: False, using: 0 TPU cores\n",
      "IPU available: False, using: 0 IPUs\n",
      "HPU available: False, using: 0 HPUs\n",
      "`Trainer.fit` stopped: `max_epochs=100` reached.\n",
      "GPU available: True (cuda), used: False\n",
      "TPU available: False, using: 0 TPU cores\n",
      "IPU available: False, using: 0 IPUs\n",
      "HPU available: False, using: 0 HPUs\n",
      "`Trainer.fit` stopped: `max_epochs=100` reached.\n",
      "GPU available: True (cuda), used: False\n",
      "TPU available: False, using: 0 TPU cores\n",
      "IPU available: False, using: 0 IPUs\n",
      "HPU available: False, using: 0 HPUs\n",
      "`Trainer.fit` stopped: `max_epochs=100` reached.\n",
      "GPU available: True (cuda), used: False\n",
      "TPU available: False, using: 0 TPU cores\n",
      "IPU available: False, using: 0 IPUs\n",
      "HPU available: False, using: 0 HPUs\n"
     ]
    },
    {
     "name": "stdout",
     "output_type": "stream",
     "text": [
      "Training took 0.04 seconds\n",
      "torch.Size([250, 10])\n",
      "torch.Size([])\n",
      "GT_INTERV.DEVICE: cpu\n",
      "setting device to: cpu\n",
      "Training took 0.04 seconds\n",
      "torch.Size([250, 10])\n",
      "torch.Size([])\n",
      "GT_INTERV.DEVICE: cpu\n",
      "setting device to: cpu\n",
      "Training took 0.04 seconds\n",
      "torch.Size([250, 10])\n",
      "torch.Size([])\n",
      "GT_INTERV.DEVICE: cpu\n",
      "setting device to: cpu\n",
      "Training took 0.04 seconds\n",
      "torch.Size([250, 10])\n",
      "torch.Size([])\n",
      "GT_INTERV.DEVICE: cpu\n",
      "setting device to: cpu\n",
      "Training took 0.04 seconds\n",
      "torch.Size([250, 10])\n",
      "torch.Size([])\n",
      "GT_INTERV.DEVICE: cpu\n",
      "setting device to: cpu\n"
     ]
    },
    {
     "name": "stderr",
     "output_type": "stream",
     "text": [
      "`Trainer.fit` stopped: `max_epochs=100` reached.\n",
      "GPU available: True (cuda), used: False\n",
      "TPU available: False, using: 0 TPU cores\n",
      "IPU available: False, using: 0 IPUs\n",
      "HPU available: False, using: 0 HPUs\n",
      "/data/toulouse/miniforge3/envs/bicycle/lib/python3.11/site-packages/pytorch_lightning/trainer/setup.py:176: PossibleUserWarning: GPU available but not used. Set `accelerator` and `devices` using `Trainer(accelerator='gpu', devices=2)`.\n",
      "  rank_zero_warn(\n",
      "/data/toulouse/miniforge3/envs/bicycle/lib/python3.11/site-packages/pytorch_lightning/trainer/connectors/data_connector.py:442: PossibleUserWarning: The dataloader, train_dataloader, does not have many workers which may be a bottleneck. Consider increasing the value of the `num_workers` argument` (try 64 which is the number of cpus on this machine) in the `DataLoader` init to improve performance.\n",
      "  rank_zero_warn(\n",
      "/data/toulouse/miniforge3/envs/bicycle/lib/python3.11/site-packages/pytorch_lightning/loops/fit_loop.py:281: PossibleUserWarning: The number of training batches (1) is smaller than the logging interval Trainer(log_every_n_steps=100000). Set a lower value for log_every_n_steps if you want to see logs for the training epoch.\n",
      "  rank_zero_warn(\n"
     ]
    },
    {
     "name": "stdout",
     "output_type": "stream",
     "text": [
      "Training took 0.04 seconds\n",
      "torch.Size([250, 10])\n",
      "torch.Size([])\n",
      "More than 20 test_genes! Removing last 1 contexts.\n",
      "GT_INTERV.DEVICE: cpu\n",
      "setting device to: cpu\n"
     ]
    },
    {
     "name": "stderr",
     "output_type": "stream",
     "text": [
      "`Trainer.fit` stopped: `max_epochs=100` reached.\n",
      "GPU available: True (cuda), used: False\n",
      "TPU available: False, using: 0 TPU cores\n",
      "IPU available: False, using: 0 IPUs\n",
      "HPU available: False, using: 0 HPUs\n",
      "`Trainer.fit` stopped: `max_epochs=100` reached.\n",
      "GPU available: True (cuda), used: False\n",
      "TPU available: False, using: 0 TPU cores\n",
      "IPU available: False, using: 0 IPUs\n",
      "HPU available: False, using: 0 HPUs\n",
      "`Trainer.fit` stopped: `max_epochs=100` reached.\n",
      "GPU available: True (cuda), used: False\n",
      "TPU available: False, using: 0 TPU cores\n",
      "IPU available: False, using: 0 IPUs\n",
      "HPU available: False, using: 0 HPUs\n",
      "`Trainer.fit` stopped: `max_epochs=100` reached.\n",
      "GPU available: True (cuda), used: False\n",
      "TPU available: False, using: 0 TPU cores\n",
      "IPU available: False, using: 0 IPUs\n",
      "HPU available: False, using: 0 HPUs\n",
      "`Trainer.fit` stopped: `max_epochs=100` reached.\n",
      "GPU available: True (cuda), used: False\n",
      "TPU available: False, using: 0 TPU cores\n",
      "IPU available: False, using: 0 IPUs\n",
      "HPU available: False, using: 0 HPUs\n"
     ]
    },
    {
     "name": "stdout",
     "output_type": "stream",
     "text": [
      "Training took 0.04 seconds\n",
      "torch.Size([250, 10])\n",
      "torch.Size([])\n",
      "GT_INTERV.DEVICE: cpu\n",
      "setting device to: cpu\n",
      "Training took 0.04 seconds\n",
      "torch.Size([250, 10])\n",
      "torch.Size([])\n",
      "GT_INTERV.DEVICE: cpu\n",
      "setting device to: cpu\n",
      "Training took 0.04 seconds\n",
      "torch.Size([250, 10])\n",
      "torch.Size([])\n",
      "GT_INTERV.DEVICE: cpu\n",
      "setting device to: cpu\n",
      "Training took 0.04 seconds\n",
      "torch.Size([250, 10])\n",
      "torch.Size([])\n",
      "GT_INTERV.DEVICE: cpu\n",
      "setting device to: cpu\n",
      "Training took 0.04 seconds\n",
      "torch.Size([250, 10])\n",
      "torch.Size([])\n",
      "GT_INTERV.DEVICE: cpu\n",
      "setting device to: cpu\n"
     ]
    },
    {
     "name": "stderr",
     "output_type": "stream",
     "text": [
      "`Trainer.fit` stopped: `max_epochs=100` reached.\n",
      "GPU available: True (cuda), used: False\n",
      "TPU available: False, using: 0 TPU cores\n",
      "IPU available: False, using: 0 IPUs\n",
      "HPU available: False, using: 0 HPUs\n",
      "`Trainer.fit` stopped: `max_epochs=100` reached.\n",
      "GPU available: True (cuda), used: False\n",
      "TPU available: False, using: 0 TPU cores\n",
      "IPU available: False, using: 0 IPUs\n",
      "HPU available: False, using: 0 HPUs\n",
      "`Trainer.fit` stopped: `max_epochs=100` reached.\n",
      "GPU available: True (cuda), used: False\n",
      "TPU available: False, using: 0 TPU cores\n",
      "IPU available: False, using: 0 IPUs\n",
      "HPU available: False, using: 0 HPUs\n",
      "`Trainer.fit` stopped: `max_epochs=100` reached.\n",
      "GPU available: True (cuda), used: False\n",
      "TPU available: False, using: 0 TPU cores\n",
      "IPU available: False, using: 0 IPUs\n",
      "HPU available: False, using: 0 HPUs\n",
      "`Trainer.fit` stopped: `max_epochs=100` reached.\n",
      "GPU available: True (cuda), used: False\n",
      "TPU available: False, using: 0 TPU cores\n",
      "IPU available: False, using: 0 IPUs\n",
      "HPU available: False, using: 0 HPUs\n"
     ]
    },
    {
     "name": "stdout",
     "output_type": "stream",
     "text": [
      "Training took 0.04 seconds\n",
      "torch.Size([250, 10])\n",
      "torch.Size([])\n",
      "GT_INTERV.DEVICE: cpu\n",
      "setting device to: cpu\n",
      "Training took 0.04 seconds\n",
      "torch.Size([250, 10])\n",
      "torch.Size([])\n",
      "GT_INTERV.DEVICE: cpu\n",
      "setting device to: cpu\n",
      "Training took 0.04 seconds\n",
      "torch.Size([250, 10])\n",
      "torch.Size([])\n",
      "GT_INTERV.DEVICE: cpu\n",
      "setting device to: cpu\n",
      "Training took 0.04 seconds\n",
      "torch.Size([250, 10])\n",
      "torch.Size([])\n",
      "GT_INTERV.DEVICE: cpu\n",
      "setting device to: cpu\n",
      "Training took 0.04 seconds\n",
      "torch.Size([250, 10])\n",
      "torch.Size([])\n",
      "GT_INTERV.DEVICE: cpu\n",
      "setting device to: cpu\n"
     ]
    },
    {
     "name": "stderr",
     "output_type": "stream",
     "text": [
      "`Trainer.fit` stopped: `max_epochs=100` reached.\n",
      "GPU available: True (cuda), used: False\n",
      "TPU available: False, using: 0 TPU cores\n",
      "IPU available: False, using: 0 IPUs\n",
      "HPU available: False, using: 0 HPUs\n",
      "`Trainer.fit` stopped: `max_epochs=100` reached.\n",
      "GPU available: True (cuda), used: False\n",
      "TPU available: False, using: 0 TPU cores\n",
      "IPU available: False, using: 0 IPUs\n",
      "HPU available: False, using: 0 HPUs\n",
      "`Trainer.fit` stopped: `max_epochs=100` reached.\n",
      "GPU available: True (cuda), used: False\n",
      "TPU available: False, using: 0 TPU cores\n",
      "IPU available: False, using: 0 IPUs\n",
      "HPU available: False, using: 0 HPUs\n",
      "`Trainer.fit` stopped: `max_epochs=100` reached.\n",
      "GPU available: True (cuda), used: False\n",
      "TPU available: False, using: 0 TPU cores\n",
      "IPU available: False, using: 0 IPUs\n",
      "HPU available: False, using: 0 HPUs\n",
      "`Trainer.fit` stopped: `max_epochs=100` reached.\n",
      "GPU available: True (cuda), used: False\n",
      "TPU available: False, using: 0 TPU cores\n",
      "IPU available: False, using: 0 IPUs\n",
      "HPU available: False, using: 0 HPUs\n"
     ]
    },
    {
     "name": "stdout",
     "output_type": "stream",
     "text": [
      "Training took 0.04 seconds\n",
      "torch.Size([250, 10])\n",
      "torch.Size([])\n",
      "GT_INTERV.DEVICE: cpu\n",
      "setting device to: cpu\n",
      "Training took 0.04 seconds\n",
      "torch.Size([250, 10])\n",
      "torch.Size([])\n",
      "GT_INTERV.DEVICE: cpu\n",
      "setting device to: cpu\n",
      "Training took 0.04 seconds\n",
      "torch.Size([250, 10])\n",
      "torch.Size([])\n",
      "GT_INTERV.DEVICE: cpu\n",
      "setting device to: cpu\n",
      "Training took 0.04 seconds\n",
      "torch.Size([250, 10])\n",
      "torch.Size([])\n",
      "GT_INTERV.DEVICE: cpu\n",
      "setting device to: cpu\n",
      "Training took 0.04 seconds\n",
      "torch.Size([250, 10])\n",
      "torch.Size([])\n",
      "GT_INTERV.DEVICE: cpu\n",
      "setting device to: cpu\n"
     ]
    },
    {
     "name": "stderr",
     "output_type": "stream",
     "text": [
      "`Trainer.fit` stopped: `max_epochs=100` reached.\n",
      "GPU available: True (cuda), used: False\n",
      "TPU available: False, using: 0 TPU cores\n",
      "IPU available: False, using: 0 IPUs\n",
      "HPU available: False, using: 0 HPUs\n",
      "`Trainer.fit` stopped: `max_epochs=100` reached.\n",
      "GPU available: True (cuda), used: False\n",
      "TPU available: False, using: 0 TPU cores\n",
      "IPU available: False, using: 0 IPUs\n",
      "HPU available: False, using: 0 HPUs\n",
      "`Trainer.fit` stopped: `max_epochs=100` reached.\n",
      "GPU available: True (cuda), used: False\n",
      "TPU available: False, using: 0 TPU cores\n",
      "IPU available: False, using: 0 IPUs\n",
      "HPU available: False, using: 0 HPUs\n",
      "`Trainer.fit` stopped: `max_epochs=100` reached.\n",
      "GPU available: True (cuda), used: False\n",
      "TPU available: False, using: 0 TPU cores\n",
      "IPU available: False, using: 0 IPUs\n",
      "HPU available: False, using: 0 HPUs\n",
      "`Trainer.fit` stopped: `max_epochs=100` reached.\n"
     ]
    },
    {
     "name": "stdout",
     "output_type": "stream",
     "text": [
      "Training took 0.04 seconds\n",
      "torch.Size([250, 10])\n",
      "torch.Size([])\n",
      "GT_INTERV.DEVICE: cpu\n",
      "setting device to: cpu\n",
      "Training took 0.04 seconds\n",
      "torch.Size([250, 10])\n",
      "torch.Size([])\n",
      "GT_INTERV.DEVICE: cpu\n",
      "setting device to: cpu\n",
      "Training took 0.04 seconds\n",
      "torch.Size([250, 10])\n",
      "torch.Size([])\n",
      "GT_INTERV.DEVICE: cpu\n",
      "setting device to: cpu\n",
      "Training took 0.04 seconds\n",
      "torch.Size([250, 10])\n",
      "torch.Size([])\n",
      "GT_INTERV.DEVICE: cpu\n",
      "setting device to: cpu\n",
      "Training took 0.04 seconds\n",
      "torch.Size([250, 10])\n",
      "torch.Size([])\n",
      "More than 20 test_genes! Removing last 1 contexts.\n"
     ]
    },
    {
     "name": "stderr",
     "output_type": "stream",
     "text": [
      "GPU available: True (cuda), used: False\n",
      "TPU available: False, using: 0 TPU cores\n",
      "IPU available: False, using: 0 IPUs\n",
      "HPU available: False, using: 0 HPUs\n",
      "/data/toulouse/miniforge3/envs/bicycle/lib/python3.11/site-packages/pytorch_lightning/trainer/setup.py:176: PossibleUserWarning: GPU available but not used. Set `accelerator` and `devices` using `Trainer(accelerator='gpu', devices=2)`.\n",
      "  rank_zero_warn(\n",
      "/data/toulouse/miniforge3/envs/bicycle/lib/python3.11/site-packages/pytorch_lightning/trainer/connectors/data_connector.py:442: PossibleUserWarning: The dataloader, train_dataloader, does not have many workers which may be a bottleneck. Consider increasing the value of the `num_workers` argument` (try 64 which is the number of cpus on this machine) in the `DataLoader` init to improve performance.\n",
      "  rank_zero_warn(\n",
      "/data/toulouse/miniforge3/envs/bicycle/lib/python3.11/site-packages/pytorch_lightning/loops/fit_loop.py:281: PossibleUserWarning: The number of training batches (1) is smaller than the logging interval Trainer(log_every_n_steps=100000). Set a lower value for log_every_n_steps if you want to see logs for the training epoch.\n",
      "  rank_zero_warn(\n",
      "`Trainer.fit` stopped: `max_epochs=100` reached.\n",
      "GPU available: True (cuda), used: False\n",
      "TPU available: False, using: 0 TPU cores\n",
      "IPU available: False, using: 0 IPUs\n",
      "HPU available: False, using: 0 HPUs\n",
      "`Trainer.fit` stopped: `max_epochs=100` reached.\n",
      "GPU available: True (cuda), used: False\n",
      "TPU available: False, using: 0 TPU cores\n",
      "IPU available: False, using: 0 IPUs\n",
      "HPU available: False, using: 0 HPUs\n",
      "`Trainer.fit` stopped: `max_epochs=100` reached.\n",
      "GPU available: True (cuda), used: False\n",
      "TPU available: False, using: 0 TPU cores\n",
      "IPU available: False, using: 0 IPUs\n",
      "HPU available: False, using: 0 HPUs\n"
     ]
    },
    {
     "name": "stdout",
     "output_type": "stream",
     "text": [
      "GT_INTERV.DEVICE: cpu\n",
      "setting device to: cpu\n",
      "Training took 0.05 seconds\n",
      "torch.Size([250, 10])\n",
      "torch.Size([])\n",
      "GT_INTERV.DEVICE: cpu\n",
      "setting device to: cpu\n",
      "Training took 0.05 seconds\n",
      "torch.Size([250, 10])\n",
      "torch.Size([])\n",
      "GT_INTERV.DEVICE: cpu\n",
      "setting device to: cpu\n",
      "Training took 0.05 seconds\n",
      "torch.Size([250, 10])\n",
      "torch.Size([])\n",
      "GT_INTERV.DEVICE: cpu\n",
      "setting device to: cpu\n"
     ]
    },
    {
     "name": "stderr",
     "output_type": "stream",
     "text": [
      "`Trainer.fit` stopped: `max_epochs=100` reached.\n",
      "GPU available: True (cuda), used: False\n",
      "TPU available: False, using: 0 TPU cores\n",
      "IPU available: False, using: 0 IPUs\n",
      "HPU available: False, using: 0 HPUs\n",
      "`Trainer.fit` stopped: `max_epochs=100` reached.\n",
      "GPU available: True (cuda), used: False\n",
      "TPU available: False, using: 0 TPU cores\n",
      "IPU available: False, using: 0 IPUs\n",
      "HPU available: False, using: 0 HPUs\n",
      "`Trainer.fit` stopped: `max_epochs=100` reached.\n",
      "GPU available: True (cuda), used: False\n",
      "TPU available: False, using: 0 TPU cores\n",
      "IPU available: False, using: 0 IPUs\n",
      "HPU available: False, using: 0 HPUs\n",
      "`Trainer.fit` stopped: `max_epochs=100` reached.\n",
      "GPU available: True (cuda), used: False\n",
      "TPU available: False, using: 0 TPU cores\n",
      "IPU available: False, using: 0 IPUs\n",
      "HPU available: False, using: 0 HPUs\n",
      "`Trainer.fit` stopped: `max_epochs=100` reached.\n",
      "GPU available: True (cuda), used: False\n",
      "TPU available: False, using: 0 TPU cores\n",
      "IPU available: False, using: 0 IPUs\n",
      "HPU available: False, using: 0 HPUs\n"
     ]
    },
    {
     "name": "stdout",
     "output_type": "stream",
     "text": [
      "Training took 0.05 seconds\n",
      "torch.Size([250, 10])\n",
      "torch.Size([])\n",
      "GT_INTERV.DEVICE: cpu\n",
      "setting device to: cpu\n",
      "Training took 0.04 seconds\n",
      "torch.Size([250, 10])\n",
      "torch.Size([])\n",
      "GT_INTERV.DEVICE: cpu\n",
      "setting device to: cpu\n",
      "Training took 0.04 seconds\n",
      "torch.Size([250, 10])\n",
      "torch.Size([])\n",
      "GT_INTERV.DEVICE: cpu\n",
      "setting device to: cpu\n",
      "Training took 0.04 seconds\n",
      "torch.Size([250, 10])\n",
      "torch.Size([])\n",
      "GT_INTERV.DEVICE: cpu\n",
      "setting device to: cpu\n",
      "Training took 0.04 seconds\n",
      "torch.Size([250, 10])\n",
      "torch.Size([])\n",
      "GT_INTERV.DEVICE: cpu\n",
      "setting device to: cpu\n"
     ]
    },
    {
     "name": "stderr",
     "output_type": "stream",
     "text": [
      "`Trainer.fit` stopped: `max_epochs=100` reached.\n",
      "GPU available: True (cuda), used: False\n",
      "TPU available: False, using: 0 TPU cores\n",
      "IPU available: False, using: 0 IPUs\n",
      "HPU available: False, using: 0 HPUs\n",
      "`Trainer.fit` stopped: `max_epochs=100` reached.\n",
      "GPU available: True (cuda), used: False\n",
      "TPU available: False, using: 0 TPU cores\n",
      "IPU available: False, using: 0 IPUs\n",
      "HPU available: False, using: 0 HPUs\n",
      "`Trainer.fit` stopped: `max_epochs=100` reached.\n",
      "GPU available: True (cuda), used: False\n",
      "TPU available: False, using: 0 TPU cores\n",
      "IPU available: False, using: 0 IPUs\n",
      "HPU available: False, using: 0 HPUs\n",
      "`Trainer.fit` stopped: `max_epochs=100` reached.\n",
      "GPU available: True (cuda), used: False\n",
      "TPU available: False, using: 0 TPU cores\n",
      "IPU available: False, using: 0 IPUs\n",
      "HPU available: False, using: 0 HPUs\n",
      "`Trainer.fit` stopped: `max_epochs=100` reached.\n",
      "GPU available: True (cuda), used: False\n",
      "TPU available: False, using: 0 TPU cores\n",
      "IPU available: False, using: 0 IPUs\n",
      "HPU available: False, using: 0 HPUs\n"
     ]
    },
    {
     "name": "stdout",
     "output_type": "stream",
     "text": [
      "Training took 0.04 seconds\n",
      "torch.Size([250, 10])\n",
      "torch.Size([])\n",
      "GT_INTERV.DEVICE: cpu\n",
      "setting device to: cpu\n",
      "Training took 0.04 seconds\n",
      "torch.Size([250, 10])\n",
      "torch.Size([])\n",
      "GT_INTERV.DEVICE: cpu\n",
      "setting device to: cpu\n",
      "Training took 0.04 seconds\n",
      "torch.Size([250, 10])\n",
      "torch.Size([])\n",
      "GT_INTERV.DEVICE: cpu\n",
      "setting device to: cpu\n",
      "Training took 0.04 seconds\n",
      "torch.Size([250, 10])\n",
      "torch.Size([])\n",
      "GT_INTERV.DEVICE: cpu\n",
      "setting device to: cpu\n",
      "Training took 0.04 seconds\n",
      "torch.Size([250, 10])\n",
      "torch.Size([])\n",
      "GT_INTERV.DEVICE: cpu\n",
      "setting device to: cpu\n"
     ]
    },
    {
     "name": "stderr",
     "output_type": "stream",
     "text": [
      "`Trainer.fit` stopped: `max_epochs=100` reached.\n",
      "GPU available: True (cuda), used: False\n",
      "TPU available: False, using: 0 TPU cores\n",
      "IPU available: False, using: 0 IPUs\n",
      "HPU available: False, using: 0 HPUs\n",
      "`Trainer.fit` stopped: `max_epochs=100` reached.\n",
      "GPU available: True (cuda), used: False\n",
      "TPU available: False, using: 0 TPU cores\n",
      "IPU available: False, using: 0 IPUs\n",
      "HPU available: False, using: 0 HPUs\n",
      "`Trainer.fit` stopped: `max_epochs=100` reached.\n",
      "GPU available: True (cuda), used: False\n",
      "TPU available: False, using: 0 TPU cores\n",
      "IPU available: False, using: 0 IPUs\n",
      "HPU available: False, using: 0 HPUs\n",
      "`Trainer.fit` stopped: `max_epochs=100` reached.\n",
      "GPU available: True (cuda), used: False\n",
      "TPU available: False, using: 0 TPU cores\n",
      "IPU available: False, using: 0 IPUs\n",
      "HPU available: False, using: 0 HPUs\n",
      "`Trainer.fit` stopped: `max_epochs=100` reached.\n",
      "GPU available: True (cuda), used: False\n",
      "TPU available: False, using: 0 TPU cores\n",
      "IPU available: False, using: 0 IPUs\n",
      "HPU available: False, using: 0 HPUs\n"
     ]
    },
    {
     "name": "stdout",
     "output_type": "stream",
     "text": [
      "Training took 0.04 seconds\n",
      "torch.Size([250, 10])\n",
      "torch.Size([])\n",
      "GT_INTERV.DEVICE: cpu\n",
      "setting device to: cpu\n",
      "Training took 0.04 seconds\n",
      "torch.Size([250, 10])\n",
      "torch.Size([])\n",
      "GT_INTERV.DEVICE: cpu\n",
      "setting device to: cpu\n",
      "Training took 0.04 seconds\n",
      "torch.Size([250, 10])\n",
      "torch.Size([])\n",
      "GT_INTERV.DEVICE: cpu\n",
      "setting device to: cpu\n",
      "Training took 0.04 seconds\n",
      "torch.Size([250, 10])\n",
      "torch.Size([])\n",
      "GT_INTERV.DEVICE: cpu\n",
      "setting device to: cpu\n",
      "Training took 0.04 seconds\n",
      "torch.Size([250, 10])\n",
      "torch.Size([])\n",
      "GT_INTERV.DEVICE: cpu\n",
      "setting device to: cpu\n"
     ]
    },
    {
     "name": "stderr",
     "output_type": "stream",
     "text": [
      "`Trainer.fit` stopped: `max_epochs=100` reached.\n",
      "GPU available: True (cuda), used: False\n",
      "TPU available: False, using: 0 TPU cores\n",
      "IPU available: False, using: 0 IPUs\n",
      "HPU available: False, using: 0 HPUs\n",
      "`Trainer.fit` stopped: `max_epochs=100` reached.\n"
     ]
    },
    {
     "name": "stdout",
     "output_type": "stream",
     "text": [
      "Training took 0.04 seconds\n",
      "torch.Size([250, 10])\n",
      "torch.Size([])\n",
      "GT_INTERV.DEVICE: cpu\n",
      "setting device to: cpu\n",
      "Training took 0.04 seconds\n",
      "torch.Size([250, 10])\n",
      "torch.Size([])\n",
      "More than 20 test_genes! Removing last 1 contexts.\n"
     ]
    },
    {
     "name": "stderr",
     "output_type": "stream",
     "text": [
      "GPU available: True (cuda), used: False\n",
      "TPU available: False, using: 0 TPU cores\n",
      "IPU available: False, using: 0 IPUs\n",
      "HPU available: False, using: 0 HPUs\n",
      "/data/toulouse/miniforge3/envs/bicycle/lib/python3.11/site-packages/pytorch_lightning/trainer/setup.py:176: PossibleUserWarning: GPU available but not used. Set `accelerator` and `devices` using `Trainer(accelerator='gpu', devices=2)`.\n",
      "  rank_zero_warn(\n",
      "/data/toulouse/miniforge3/envs/bicycle/lib/python3.11/site-packages/pytorch_lightning/trainer/connectors/data_connector.py:442: PossibleUserWarning: The dataloader, train_dataloader, does not have many workers which may be a bottleneck. Consider increasing the value of the `num_workers` argument` (try 64 which is the number of cpus on this machine) in the `DataLoader` init to improve performance.\n",
      "  rank_zero_warn(\n",
      "/data/toulouse/miniforge3/envs/bicycle/lib/python3.11/site-packages/pytorch_lightning/loops/fit_loop.py:281: PossibleUserWarning: The number of training batches (1) is smaller than the logging interval Trainer(log_every_n_steps=100000). Set a lower value for log_every_n_steps if you want to see logs for the training epoch.\n",
      "  rank_zero_warn(\n",
      "`Trainer.fit` stopped: `max_epochs=100` reached.\n",
      "GPU available: True (cuda), used: False\n",
      "TPU available: False, using: 0 TPU cores\n",
      "IPU available: False, using: 0 IPUs\n",
      "HPU available: False, using: 0 HPUs\n",
      "`Trainer.fit` stopped: `max_epochs=100` reached.\n",
      "GPU available: True (cuda), used: False\n",
      "TPU available: False, using: 0 TPU cores\n",
      "IPU available: False, using: 0 IPUs\n",
      "HPU available: False, using: 0 HPUs\n",
      "`Trainer.fit` stopped: `max_epochs=100` reached.\n",
      "GPU available: True (cuda), used: False\n",
      "TPU available: False, using: 0 TPU cores\n",
      "IPU available: False, using: 0 IPUs\n",
      "HPU available: False, using: 0 HPUs\n"
     ]
    },
    {
     "name": "stdout",
     "output_type": "stream",
     "text": [
      "GT_INTERV.DEVICE: cpu\n",
      "setting device to: cpu\n",
      "Training took 0.05 seconds\n",
      "torch.Size([250, 10])\n",
      "torch.Size([])\n",
      "GT_INTERV.DEVICE: cpu\n",
      "setting device to: cpu\n",
      "Training took 0.05 seconds\n",
      "torch.Size([250, 10])\n",
      "torch.Size([])\n",
      "GT_INTERV.DEVICE: cpu\n",
      "setting device to: cpu\n",
      "Training took 0.05 seconds\n",
      "torch.Size([250, 10])\n",
      "torch.Size([])\n",
      "GT_INTERV.DEVICE: cpu\n",
      "setting device to: cpu\n"
     ]
    },
    {
     "name": "stderr",
     "output_type": "stream",
     "text": [
      "`Trainer.fit` stopped: `max_epochs=100` reached.\n",
      "GPU available: True (cuda), used: False\n",
      "TPU available: False, using: 0 TPU cores\n",
      "IPU available: False, using: 0 IPUs\n",
      "HPU available: False, using: 0 HPUs\n",
      "`Trainer.fit` stopped: `max_epochs=100` reached.\n",
      "GPU available: True (cuda), used: False\n",
      "TPU available: False, using: 0 TPU cores\n",
      "IPU available: False, using: 0 IPUs\n",
      "HPU available: False, using: 0 HPUs\n",
      "`Trainer.fit` stopped: `max_epochs=100` reached.\n",
      "GPU available: True (cuda), used: False\n",
      "TPU available: False, using: 0 TPU cores\n",
      "IPU available: False, using: 0 IPUs\n",
      "HPU available: False, using: 0 HPUs\n",
      "`Trainer.fit` stopped: `max_epochs=100` reached.\n",
      "GPU available: True (cuda), used: False\n",
      "TPU available: False, using: 0 TPU cores\n",
      "IPU available: False, using: 0 IPUs\n",
      "HPU available: False, using: 0 HPUs\n",
      "`Trainer.fit` stopped: `max_epochs=100` reached.\n",
      "GPU available: True (cuda), used: False\n",
      "TPU available: False, using: 0 TPU cores\n",
      "IPU available: False, using: 0 IPUs\n",
      "HPU available: False, using: 0 HPUs\n"
     ]
    },
    {
     "name": "stdout",
     "output_type": "stream",
     "text": [
      "Training took 0.05 seconds\n",
      "torch.Size([250, 10])\n",
      "torch.Size([])\n",
      "GT_INTERV.DEVICE: cpu\n",
      "setting device to: cpu\n",
      "Training took 0.04 seconds\n",
      "torch.Size([250, 10])\n",
      "torch.Size([])\n",
      "GT_INTERV.DEVICE: cpu\n",
      "setting device to: cpu\n",
      "Training took 0.04 seconds\n",
      "torch.Size([250, 10])\n",
      "torch.Size([])\n",
      "GT_INTERV.DEVICE: cpu\n",
      "setting device to: cpu\n",
      "Training took 0.04 seconds\n",
      "torch.Size([250, 10])\n",
      "torch.Size([])\n",
      "GT_INTERV.DEVICE: cpu\n",
      "setting device to: cpu\n",
      "Training took 0.04 seconds\n",
      "torch.Size([250, 10])\n",
      "torch.Size([])\n",
      "GT_INTERV.DEVICE: cpu\n",
      "setting device to: cpu\n"
     ]
    },
    {
     "name": "stderr",
     "output_type": "stream",
     "text": [
      "`Trainer.fit` stopped: `max_epochs=100` reached.\n",
      "GPU available: True (cuda), used: False\n",
      "TPU available: False, using: 0 TPU cores\n",
      "IPU available: False, using: 0 IPUs\n",
      "HPU available: False, using: 0 HPUs\n",
      "`Trainer.fit` stopped: `max_epochs=100` reached.\n",
      "GPU available: True (cuda), used: False\n",
      "TPU available: False, using: 0 TPU cores\n",
      "IPU available: False, using: 0 IPUs\n",
      "HPU available: False, using: 0 HPUs\n",
      "`Trainer.fit` stopped: `max_epochs=100` reached.\n",
      "GPU available: True (cuda), used: False\n",
      "TPU available: False, using: 0 TPU cores\n",
      "IPU available: False, using: 0 IPUs\n",
      "HPU available: False, using: 0 HPUs\n",
      "`Trainer.fit` stopped: `max_epochs=100` reached.\n",
      "GPU available: True (cuda), used: False\n",
      "TPU available: False, using: 0 TPU cores\n",
      "IPU available: False, using: 0 IPUs\n",
      "HPU available: False, using: 0 HPUs\n",
      "`Trainer.fit` stopped: `max_epochs=100` reached.\n",
      "GPU available: True (cuda), used: False\n",
      "TPU available: False, using: 0 TPU cores\n",
      "IPU available: False, using: 0 IPUs\n",
      "HPU available: False, using: 0 HPUs\n"
     ]
    },
    {
     "name": "stdout",
     "output_type": "stream",
     "text": [
      "Training took 0.04 seconds\n",
      "torch.Size([250, 10])\n",
      "torch.Size([])\n",
      "GT_INTERV.DEVICE: cpu\n",
      "setting device to: cpu\n",
      "Training took 0.04 seconds\n",
      "torch.Size([250, 10])\n",
      "torch.Size([])\n",
      "GT_INTERV.DEVICE: cpu\n",
      "setting device to: cpu\n",
      "Training took 0.04 seconds\n",
      "torch.Size([250, 10])\n",
      "torch.Size([])\n",
      "GT_INTERV.DEVICE: cpu\n",
      "setting device to: cpu\n",
      "Training took 0.04 seconds\n",
      "torch.Size([250, 10])\n",
      "torch.Size([])\n",
      "GT_INTERV.DEVICE: cpu\n",
      "setting device to: cpu\n",
      "Training took 0.04 seconds\n",
      "torch.Size([250, 10])\n",
      "torch.Size([])\n",
      "GT_INTERV.DEVICE: cpu\n",
      "setting device to: cpu\n"
     ]
    },
    {
     "name": "stderr",
     "output_type": "stream",
     "text": [
      "`Trainer.fit` stopped: `max_epochs=100` reached.\n",
      "GPU available: True (cuda), used: False\n",
      "TPU available: False, using: 0 TPU cores\n",
      "IPU available: False, using: 0 IPUs\n",
      "HPU available: False, using: 0 HPUs\n",
      "`Trainer.fit` stopped: `max_epochs=100` reached.\n",
      "GPU available: True (cuda), used: False\n",
      "TPU available: False, using: 0 TPU cores\n",
      "IPU available: False, using: 0 IPUs\n",
      "HPU available: False, using: 0 HPUs\n",
      "`Trainer.fit` stopped: `max_epochs=100` reached.\n",
      "GPU available: True (cuda), used: False\n",
      "TPU available: False, using: 0 TPU cores\n",
      "IPU available: False, using: 0 IPUs\n",
      "HPU available: False, using: 0 HPUs\n",
      "`Trainer.fit` stopped: `max_epochs=100` reached.\n",
      "GPU available: True (cuda), used: False\n",
      "TPU available: False, using: 0 TPU cores\n",
      "IPU available: False, using: 0 IPUs\n",
      "HPU available: False, using: 0 HPUs\n",
      "`Trainer.fit` stopped: `max_epochs=100` reached.\n",
      "GPU available: True (cuda), used: False\n",
      "TPU available: False, using: 0 TPU cores\n",
      "IPU available: False, using: 0 IPUs\n",
      "HPU available: False, using: 0 HPUs\n"
     ]
    },
    {
     "name": "stdout",
     "output_type": "stream",
     "text": [
      "Training took 0.04 seconds\n",
      "torch.Size([250, 10])\n",
      "torch.Size([])\n",
      "GT_INTERV.DEVICE: cpu\n",
      "setting device to: cpu\n",
      "Training took 0.04 seconds\n",
      "torch.Size([250, 10])\n",
      "torch.Size([])\n",
      "GT_INTERV.DEVICE: cpu\n",
      "setting device to: cpu\n",
      "Training took 0.04 seconds\n",
      "torch.Size([250, 10])\n",
      "torch.Size([])\n",
      "GT_INTERV.DEVICE: cpu\n",
      "setting device to: cpu\n",
      "Training took 0.04 seconds\n",
      "torch.Size([250, 10])\n",
      "torch.Size([])\n",
      "GT_INTERV.DEVICE: cpu\n",
      "setting device to: cpu\n",
      "Training took 0.04 seconds\n",
      "torch.Size([250, 10])\n",
      "torch.Size([])\n",
      "GT_INTERV.DEVICE: cpu\n",
      "setting device to: cpu\n"
     ]
    },
    {
     "name": "stderr",
     "output_type": "stream",
     "text": [
      "`Trainer.fit` stopped: `max_epochs=100` reached.\n",
      "GPU available: True (cuda), used: False\n",
      "TPU available: False, using: 0 TPU cores\n",
      "IPU available: False, using: 0 IPUs\n",
      "HPU available: False, using: 0 HPUs\n",
      "`Trainer.fit` stopped: `max_epochs=100` reached.\n"
     ]
    },
    {
     "name": "stdout",
     "output_type": "stream",
     "text": [
      "Training took 0.04 seconds\n",
      "torch.Size([250, 10])\n",
      "torch.Size([])\n",
      "GT_INTERV.DEVICE: cpu\n",
      "setting device to: cpu\n",
      "Training took 0.04 seconds\n",
      "torch.Size([250, 10])\n",
      "torch.Size([])\n",
      "More than 20 test_genes! Removing last 1 contexts.\n"
     ]
    },
    {
     "name": "stderr",
     "output_type": "stream",
     "text": [
      "GPU available: True (cuda), used: False\n",
      "TPU available: False, using: 0 TPU cores\n",
      "IPU available: False, using: 0 IPUs\n",
      "HPU available: False, using: 0 HPUs\n",
      "/data/toulouse/miniforge3/envs/bicycle/lib/python3.11/site-packages/pytorch_lightning/trainer/setup.py:176: PossibleUserWarning: GPU available but not used. Set `accelerator` and `devices` using `Trainer(accelerator='gpu', devices=2)`.\n",
      "  rank_zero_warn(\n",
      "/data/toulouse/miniforge3/envs/bicycle/lib/python3.11/site-packages/pytorch_lightning/trainer/connectors/data_connector.py:442: PossibleUserWarning: The dataloader, train_dataloader, does not have many workers which may be a bottleneck. Consider increasing the value of the `num_workers` argument` (try 64 which is the number of cpus on this machine) in the `DataLoader` init to improve performance.\n",
      "  rank_zero_warn(\n",
      "/data/toulouse/miniforge3/envs/bicycle/lib/python3.11/site-packages/pytorch_lightning/loops/fit_loop.py:281: PossibleUserWarning: The number of training batches (1) is smaller than the logging interval Trainer(log_every_n_steps=100000). Set a lower value for log_every_n_steps if you want to see logs for the training epoch.\n",
      "  rank_zero_warn(\n",
      "`Trainer.fit` stopped: `max_epochs=100` reached.\n",
      "GPU available: True (cuda), used: False\n",
      "TPU available: False, using: 0 TPU cores\n",
      "IPU available: False, using: 0 IPUs\n",
      "HPU available: False, using: 0 HPUs\n",
      "`Trainer.fit` stopped: `max_epochs=100` reached.\n",
      "GPU available: True (cuda), used: False\n",
      "TPU available: False, using: 0 TPU cores\n",
      "IPU available: False, using: 0 IPUs\n",
      "HPU available: False, using: 0 HPUs\n",
      "`Trainer.fit` stopped: `max_epochs=100` reached.\n",
      "GPU available: True (cuda), used: False\n",
      "TPU available: False, using: 0 TPU cores\n",
      "IPU available: False, using: 0 IPUs\n",
      "HPU available: False, using: 0 HPUs\n"
     ]
    },
    {
     "name": "stdout",
     "output_type": "stream",
     "text": [
      "GT_INTERV.DEVICE: cpu\n",
      "setting device to: cpu\n",
      "Training took 0.05 seconds\n",
      "torch.Size([250, 10])\n",
      "torch.Size([])\n",
      "GT_INTERV.DEVICE: cpu\n",
      "setting device to: cpu\n",
      "Training took 0.05 seconds\n",
      "torch.Size([250, 10])\n",
      "torch.Size([])\n",
      "GT_INTERV.DEVICE: cpu\n",
      "setting device to: cpu\n",
      "Training took 0.05 seconds\n",
      "torch.Size([250, 10])\n",
      "torch.Size([])\n",
      "GT_INTERV.DEVICE: cpu\n",
      "setting device to: cpu\n"
     ]
    },
    {
     "name": "stderr",
     "output_type": "stream",
     "text": [
      "`Trainer.fit` stopped: `max_epochs=100` reached.\n",
      "GPU available: True (cuda), used: False\n",
      "TPU available: False, using: 0 TPU cores\n",
      "IPU available: False, using: 0 IPUs\n",
      "HPU available: False, using: 0 HPUs\n",
      "`Trainer.fit` stopped: `max_epochs=100` reached.\n",
      "GPU available: True (cuda), used: False\n",
      "TPU available: False, using: 0 TPU cores\n",
      "IPU available: False, using: 0 IPUs\n",
      "HPU available: False, using: 0 HPUs\n",
      "`Trainer.fit` stopped: `max_epochs=100` reached.\n",
      "GPU available: True (cuda), used: False\n",
      "TPU available: False, using: 0 TPU cores\n",
      "IPU available: False, using: 0 IPUs\n",
      "HPU available: False, using: 0 HPUs\n",
      "`Trainer.fit` stopped: `max_epochs=100` reached.\n",
      "GPU available: True (cuda), used: False\n",
      "TPU available: False, using: 0 TPU cores\n",
      "IPU available: False, using: 0 IPUs\n",
      "HPU available: False, using: 0 HPUs\n",
      "`Trainer.fit` stopped: `max_epochs=100` reached.\n",
      "GPU available: True (cuda), used: False\n",
      "TPU available: False, using: 0 TPU cores\n",
      "IPU available: False, using: 0 IPUs\n",
      "HPU available: False, using: 0 HPUs\n"
     ]
    },
    {
     "name": "stdout",
     "output_type": "stream",
     "text": [
      "Training took 0.05 seconds\n",
      "torch.Size([250, 10])\n",
      "torch.Size([])\n",
      "GT_INTERV.DEVICE: cpu\n",
      "setting device to: cpu\n",
      "Training took 0.04 seconds\n",
      "torch.Size([250, 10])\n",
      "torch.Size([])\n",
      "GT_INTERV.DEVICE: cpu\n",
      "setting device to: cpu\n",
      "Training took 0.04 seconds\n",
      "torch.Size([250, 10])\n",
      "torch.Size([])\n",
      "GT_INTERV.DEVICE: cpu\n",
      "setting device to: cpu\n",
      "Training took 0.04 seconds\n",
      "torch.Size([250, 10])\n",
      "torch.Size([])\n",
      "GT_INTERV.DEVICE: cpu\n",
      "setting device to: cpu\n",
      "Training took 0.04 seconds\n",
      "torch.Size([250, 10])\n",
      "torch.Size([])\n",
      "GT_INTERV.DEVICE: cpu\n",
      "setting device to: cpu\n"
     ]
    },
    {
     "name": "stderr",
     "output_type": "stream",
     "text": [
      "`Trainer.fit` stopped: `max_epochs=100` reached.\n",
      "GPU available: True (cuda), used: False\n",
      "TPU available: False, using: 0 TPU cores\n",
      "IPU available: False, using: 0 IPUs\n",
      "HPU available: False, using: 0 HPUs\n",
      "`Trainer.fit` stopped: `max_epochs=100` reached.\n",
      "GPU available: True (cuda), used: False\n",
      "TPU available: False, using: 0 TPU cores\n",
      "IPU available: False, using: 0 IPUs\n",
      "HPU available: False, using: 0 HPUs\n",
      "`Trainer.fit` stopped: `max_epochs=100` reached.\n",
      "GPU available: True (cuda), used: False\n",
      "TPU available: False, using: 0 TPU cores\n",
      "IPU available: False, using: 0 IPUs\n",
      "HPU available: False, using: 0 HPUs\n",
      "`Trainer.fit` stopped: `max_epochs=100` reached.\n",
      "GPU available: True (cuda), used: False\n",
      "TPU available: False, using: 0 TPU cores\n",
      "IPU available: False, using: 0 IPUs\n",
      "HPU available: False, using: 0 HPUs\n",
      "`Trainer.fit` stopped: `max_epochs=100` reached.\n",
      "GPU available: True (cuda), used: False\n",
      "TPU available: False, using: 0 TPU cores\n",
      "IPU available: False, using: 0 IPUs\n",
      "HPU available: False, using: 0 HPUs\n"
     ]
    },
    {
     "name": "stdout",
     "output_type": "stream",
     "text": [
      "Training took 0.04 seconds\n",
      "torch.Size([250, 10])\n",
      "torch.Size([])\n",
      "GT_INTERV.DEVICE: cpu\n",
      "setting device to: cpu\n",
      "Training took 0.04 seconds\n",
      "torch.Size([250, 10])\n",
      "torch.Size([])\n",
      "GT_INTERV.DEVICE: cpu\n",
      "setting device to: cpu\n",
      "Training took 0.04 seconds\n",
      "torch.Size([250, 10])\n",
      "torch.Size([])\n",
      "GT_INTERV.DEVICE: cpu\n",
      "setting device to: cpu\n",
      "Training took 0.04 seconds\n",
      "torch.Size([250, 10])\n",
      "torch.Size([])\n",
      "GT_INTERV.DEVICE: cpu\n",
      "setting device to: cpu\n",
      "Training took 0.04 seconds\n",
      "torch.Size([250, 10])\n",
      "torch.Size([])\n",
      "GT_INTERV.DEVICE: cpu\n",
      "setting device to: cpu\n"
     ]
    },
    {
     "name": "stderr",
     "output_type": "stream",
     "text": [
      "`Trainer.fit` stopped: `max_epochs=100` reached.\n",
      "GPU available: True (cuda), used: False\n",
      "TPU available: False, using: 0 TPU cores\n",
      "IPU available: False, using: 0 IPUs\n",
      "HPU available: False, using: 0 HPUs\n",
      "`Trainer.fit` stopped: `max_epochs=100` reached.\n",
      "GPU available: True (cuda), used: False\n",
      "TPU available: False, using: 0 TPU cores\n",
      "IPU available: False, using: 0 IPUs\n",
      "HPU available: False, using: 0 HPUs\n",
      "`Trainer.fit` stopped: `max_epochs=100` reached.\n",
      "GPU available: True (cuda), used: False\n",
      "TPU available: False, using: 0 TPU cores\n",
      "IPU available: False, using: 0 IPUs\n",
      "HPU available: False, using: 0 HPUs\n",
      "`Trainer.fit` stopped: `max_epochs=100` reached.\n",
      "GPU available: True (cuda), used: False\n",
      "TPU available: False, using: 0 TPU cores\n",
      "IPU available: False, using: 0 IPUs\n",
      "HPU available: False, using: 0 HPUs\n",
      "`Trainer.fit` stopped: `max_epochs=100` reached.\n",
      "GPU available: True (cuda), used: False\n",
      "TPU available: False, using: 0 TPU cores\n",
      "IPU available: False, using: 0 IPUs\n",
      "HPU available: False, using: 0 HPUs\n"
     ]
    },
    {
     "name": "stdout",
     "output_type": "stream",
     "text": [
      "Training took 0.04 seconds\n",
      "torch.Size([250, 10])\n",
      "torch.Size([])\n",
      "GT_INTERV.DEVICE: cpu\n",
      "setting device to: cpu\n",
      "Training took 0.04 seconds\n",
      "torch.Size([250, 10])\n",
      "torch.Size([])\n",
      "GT_INTERV.DEVICE: cpu\n",
      "setting device to: cpu\n",
      "Training took 0.04 seconds\n",
      "torch.Size([250, 10])\n",
      "torch.Size([])\n",
      "GT_INTERV.DEVICE: cpu\n",
      "setting device to: cpu\n",
      "Training took 0.04 seconds\n",
      "torch.Size([250, 10])\n",
      "torch.Size([])\n",
      "GT_INTERV.DEVICE: cpu\n",
      "setting device to: cpu\n",
      "Training took 0.04 seconds\n",
      "torch.Size([250, 10])\n",
      "torch.Size([])\n",
      "GT_INTERV.DEVICE: cpu\n",
      "setting device to: cpu\n"
     ]
    },
    {
     "name": "stderr",
     "output_type": "stream",
     "text": [
      "`Trainer.fit` stopped: `max_epochs=100` reached.\n",
      "GPU available: True (cuda), used: False\n",
      "TPU available: False, using: 0 TPU cores\n",
      "IPU available: False, using: 0 IPUs\n",
      "HPU available: False, using: 0 HPUs\n",
      "`Trainer.fit` stopped: `max_epochs=100` reached.\n"
     ]
    },
    {
     "name": "stdout",
     "output_type": "stream",
     "text": [
      "Training took 0.04 seconds\n",
      "torch.Size([250, 10])\n",
      "torch.Size([])\n",
      "GT_INTERV.DEVICE: cpu\n",
      "setting device to: cpu\n",
      "Training took 0.04 seconds\n",
      "torch.Size([250, 10])\n",
      "torch.Size([])\n",
      "More than 20 test_genes! Removing last 1 contexts.\n"
     ]
    },
    {
     "name": "stderr",
     "output_type": "stream",
     "text": [
      "GPU available: True (cuda), used: False\n",
      "TPU available: False, using: 0 TPU cores\n",
      "IPU available: False, using: 0 IPUs\n",
      "HPU available: False, using: 0 HPUs\n",
      "/data/toulouse/miniforge3/envs/bicycle/lib/python3.11/site-packages/pytorch_lightning/trainer/setup.py:176: PossibleUserWarning: GPU available but not used. Set `accelerator` and `devices` using `Trainer(accelerator='gpu', devices=2)`.\n",
      "  rank_zero_warn(\n",
      "/data/toulouse/miniforge3/envs/bicycle/lib/python3.11/site-packages/pytorch_lightning/trainer/connectors/data_connector.py:442: PossibleUserWarning: The dataloader, train_dataloader, does not have many workers which may be a bottleneck. Consider increasing the value of the `num_workers` argument` (try 64 which is the number of cpus on this machine) in the `DataLoader` init to improve performance.\n",
      "  rank_zero_warn(\n",
      "/data/toulouse/miniforge3/envs/bicycle/lib/python3.11/site-packages/pytorch_lightning/loops/fit_loop.py:281: PossibleUserWarning: The number of training batches (1) is smaller than the logging interval Trainer(log_every_n_steps=100000). Set a lower value for log_every_n_steps if you want to see logs for the training epoch.\n",
      "  rank_zero_warn(\n",
      "`Trainer.fit` stopped: `max_epochs=100` reached.\n",
      "GPU available: True (cuda), used: False\n",
      "TPU available: False, using: 0 TPU cores\n",
      "IPU available: False, using: 0 IPUs\n",
      "HPU available: False, using: 0 HPUs\n",
      "`Trainer.fit` stopped: `max_epochs=100` reached.\n",
      "GPU available: True (cuda), used: False\n",
      "TPU available: False, using: 0 TPU cores\n",
      "IPU available: False, using: 0 IPUs\n",
      "HPU available: False, using: 0 HPUs\n",
      "`Trainer.fit` stopped: `max_epochs=100` reached.\n",
      "GPU available: True (cuda), used: False\n",
      "TPU available: False, using: 0 TPU cores\n",
      "IPU available: False, using: 0 IPUs\n",
      "HPU available: False, using: 0 HPUs\n"
     ]
    },
    {
     "name": "stdout",
     "output_type": "stream",
     "text": [
      "GT_INTERV.DEVICE: cpu\n",
      "setting device to: cpu\n",
      "Training took 0.05 seconds\n",
      "torch.Size([250, 10])\n",
      "torch.Size([])\n",
      "GT_INTERV.DEVICE: cpu\n",
      "setting device to: cpu\n",
      "Training took 0.05 seconds\n",
      "torch.Size([250, 10])\n",
      "torch.Size([])\n",
      "GT_INTERV.DEVICE: cpu\n",
      "setting device to: cpu\n",
      "Training took 0.05 seconds\n",
      "torch.Size([250, 10])\n",
      "torch.Size([])\n",
      "GT_INTERV.DEVICE: cpu\n",
      "setting device to: cpu\n"
     ]
    },
    {
     "name": "stderr",
     "output_type": "stream",
     "text": [
      "`Trainer.fit` stopped: `max_epochs=100` reached.\n",
      "GPU available: True (cuda), used: False\n",
      "TPU available: False, using: 0 TPU cores\n",
      "IPU available: False, using: 0 IPUs\n",
      "HPU available: False, using: 0 HPUs\n",
      "`Trainer.fit` stopped: `max_epochs=100` reached.\n",
      "GPU available: True (cuda), used: False\n",
      "TPU available: False, using: 0 TPU cores\n",
      "IPU available: False, using: 0 IPUs\n",
      "HPU available: False, using: 0 HPUs\n",
      "`Trainer.fit` stopped: `max_epochs=100` reached.\n",
      "GPU available: True (cuda), used: False\n",
      "TPU available: False, using: 0 TPU cores\n",
      "IPU available: False, using: 0 IPUs\n",
      "HPU available: False, using: 0 HPUs\n",
      "`Trainer.fit` stopped: `max_epochs=100` reached.\n",
      "GPU available: True (cuda), used: False\n",
      "TPU available: False, using: 0 TPU cores\n",
      "IPU available: False, using: 0 IPUs\n",
      "HPU available: False, using: 0 HPUs\n",
      "`Trainer.fit` stopped: `max_epochs=100` reached.\n",
      "GPU available: True (cuda), used: False\n",
      "TPU available: False, using: 0 TPU cores\n",
      "IPU available: False, using: 0 IPUs\n",
      "HPU available: False, using: 0 HPUs\n"
     ]
    },
    {
     "name": "stdout",
     "output_type": "stream",
     "text": [
      "Training took 0.05 seconds\n",
      "torch.Size([250, 10])\n",
      "torch.Size([])\n",
      "GT_INTERV.DEVICE: cpu\n",
      "setting device to: cpu\n",
      "Training took 0.04 seconds\n",
      "torch.Size([250, 10])\n",
      "torch.Size([])\n",
      "GT_INTERV.DEVICE: cpu\n",
      "setting device to: cpu\n",
      "Training took 0.04 seconds\n",
      "torch.Size([250, 10])\n",
      "torch.Size([])\n",
      "GT_INTERV.DEVICE: cpu\n",
      "setting device to: cpu\n",
      "Training took 0.04 seconds\n",
      "torch.Size([250, 10])\n",
      "torch.Size([])\n",
      "GT_INTERV.DEVICE: cpu\n",
      "setting device to: cpu\n",
      "Training took 0.04 seconds\n",
      "torch.Size([250, 10])\n",
      "torch.Size([])\n",
      "GT_INTERV.DEVICE: cpu\n",
      "setting device to: cpu\n"
     ]
    },
    {
     "name": "stderr",
     "output_type": "stream",
     "text": [
      "`Trainer.fit` stopped: `max_epochs=100` reached.\n",
      "GPU available: True (cuda), used: False\n",
      "TPU available: False, using: 0 TPU cores\n",
      "IPU available: False, using: 0 IPUs\n",
      "HPU available: False, using: 0 HPUs\n",
      "`Trainer.fit` stopped: `max_epochs=100` reached.\n",
      "GPU available: True (cuda), used: False\n",
      "TPU available: False, using: 0 TPU cores\n",
      "IPU available: False, using: 0 IPUs\n",
      "HPU available: False, using: 0 HPUs\n",
      "`Trainer.fit` stopped: `max_epochs=100` reached.\n",
      "GPU available: True (cuda), used: False\n",
      "TPU available: False, using: 0 TPU cores\n",
      "IPU available: False, using: 0 IPUs\n",
      "HPU available: False, using: 0 HPUs\n",
      "`Trainer.fit` stopped: `max_epochs=100` reached.\n",
      "GPU available: True (cuda), used: False\n",
      "TPU available: False, using: 0 TPU cores\n",
      "IPU available: False, using: 0 IPUs\n",
      "HPU available: False, using: 0 HPUs\n",
      "`Trainer.fit` stopped: `max_epochs=100` reached.\n",
      "GPU available: True (cuda), used: False\n",
      "TPU available: False, using: 0 TPU cores\n",
      "IPU available: False, using: 0 IPUs\n",
      "HPU available: False, using: 0 HPUs\n"
     ]
    },
    {
     "name": "stdout",
     "output_type": "stream",
     "text": [
      "Training took 0.04 seconds\n",
      "torch.Size([250, 10])\n",
      "torch.Size([])\n",
      "GT_INTERV.DEVICE: cpu\n",
      "setting device to: cpu\n",
      "Training took 0.04 seconds\n",
      "torch.Size([250, 10])\n",
      "torch.Size([])\n",
      "GT_INTERV.DEVICE: cpu\n",
      "setting device to: cpu\n",
      "Training took 0.04 seconds\n",
      "torch.Size([250, 10])\n",
      "torch.Size([])\n",
      "GT_INTERV.DEVICE: cpu\n",
      "setting device to: cpu\n",
      "Training took 0.04 seconds\n",
      "torch.Size([250, 10])\n",
      "torch.Size([])\n",
      "GT_INTERV.DEVICE: cpu\n",
      "setting device to: cpu\n",
      "Training took 0.04 seconds\n",
      "torch.Size([250, 10])\n",
      "torch.Size([])\n",
      "GT_INTERV.DEVICE: cpu\n",
      "setting device to: cpu\n"
     ]
    },
    {
     "name": "stderr",
     "output_type": "stream",
     "text": [
      "`Trainer.fit` stopped: `max_epochs=100` reached.\n",
      "GPU available: True (cuda), used: False\n",
      "TPU available: False, using: 0 TPU cores\n",
      "IPU available: False, using: 0 IPUs\n",
      "HPU available: False, using: 0 HPUs\n",
      "`Trainer.fit` stopped: `max_epochs=100` reached.\n",
      "GPU available: True (cuda), used: False\n",
      "TPU available: False, using: 0 TPU cores\n",
      "IPU available: False, using: 0 IPUs\n",
      "HPU available: False, using: 0 HPUs\n",
      "`Trainer.fit` stopped: `max_epochs=100` reached.\n",
      "GPU available: True (cuda), used: False\n",
      "TPU available: False, using: 0 TPU cores\n",
      "IPU available: False, using: 0 IPUs\n",
      "HPU available: False, using: 0 HPUs\n",
      "`Trainer.fit` stopped: `max_epochs=100` reached.\n",
      "GPU available: True (cuda), used: False\n",
      "TPU available: False, using: 0 TPU cores\n",
      "IPU available: False, using: 0 IPUs\n",
      "HPU available: False, using: 0 HPUs\n",
      "`Trainer.fit` stopped: `max_epochs=100` reached.\n",
      "GPU available: True (cuda), used: False\n",
      "TPU available: False, using: 0 TPU cores\n",
      "IPU available: False, using: 0 IPUs\n",
      "HPU available: False, using: 0 HPUs\n"
     ]
    },
    {
     "name": "stdout",
     "output_type": "stream",
     "text": [
      "Training took 0.04 seconds\n",
      "torch.Size([250, 10])\n",
      "torch.Size([])\n",
      "GT_INTERV.DEVICE: cpu\n",
      "setting device to: cpu\n",
      "Training took 0.04 seconds\n",
      "torch.Size([250, 10])\n",
      "torch.Size([])\n",
      "GT_INTERV.DEVICE: cpu\n",
      "setting device to: cpu\n",
      "Training took 0.04 seconds\n",
      "torch.Size([250, 10])\n",
      "torch.Size([])\n",
      "GT_INTERV.DEVICE: cpu\n",
      "setting device to: cpu\n",
      "Training took 0.04 seconds\n",
      "torch.Size([250, 10])\n",
      "torch.Size([])\n",
      "GT_INTERV.DEVICE: cpu\n",
      "setting device to: cpu\n",
      "Training took 0.04 seconds\n",
      "torch.Size([250, 10])\n",
      "torch.Size([])\n",
      "GT_INTERV.DEVICE: cpu\n",
      "setting device to: cpu\n"
     ]
    },
    {
     "name": "stderr",
     "output_type": "stream",
     "text": [
      "`Trainer.fit` stopped: `max_epochs=100` reached.\n",
      "GPU available: True (cuda), used: False\n",
      "TPU available: False, using: 0 TPU cores\n",
      "IPU available: False, using: 0 IPUs\n",
      "HPU available: False, using: 0 HPUs\n",
      "`Trainer.fit` stopped: `max_epochs=100` reached.\n"
     ]
    },
    {
     "name": "stdout",
     "output_type": "stream",
     "text": [
      "Training took 0.04 seconds\n",
      "torch.Size([250, 10])\n",
      "torch.Size([])\n",
      "GT_INTERV.DEVICE: cpu\n",
      "setting device to: cpu\n",
      "Training took 0.04 seconds\n",
      "torch.Size([250, 10])\n",
      "torch.Size([])\n",
      "More than 20 test_genes! Removing last 1 contexts.\n"
     ]
    },
    {
     "name": "stderr",
     "output_type": "stream",
     "text": [
      "GPU available: True (cuda), used: False\n",
      "TPU available: False, using: 0 TPU cores\n",
      "IPU available: False, using: 0 IPUs\n",
      "HPU available: False, using: 0 HPUs\n",
      "/data/toulouse/miniforge3/envs/bicycle/lib/python3.11/site-packages/pytorch_lightning/trainer/setup.py:176: PossibleUserWarning: GPU available but not used. Set `accelerator` and `devices` using `Trainer(accelerator='gpu', devices=2)`.\n",
      "  rank_zero_warn(\n",
      "/data/toulouse/miniforge3/envs/bicycle/lib/python3.11/site-packages/pytorch_lightning/trainer/connectors/data_connector.py:442: PossibleUserWarning: The dataloader, train_dataloader, does not have many workers which may be a bottleneck. Consider increasing the value of the `num_workers` argument` (try 64 which is the number of cpus on this machine) in the `DataLoader` init to improve performance.\n",
      "  rank_zero_warn(\n",
      "/data/toulouse/miniforge3/envs/bicycle/lib/python3.11/site-packages/pytorch_lightning/loops/fit_loop.py:281: PossibleUserWarning: The number of training batches (1) is smaller than the logging interval Trainer(log_every_n_steps=100000). Set a lower value for log_every_n_steps if you want to see logs for the training epoch.\n",
      "  rank_zero_warn(\n",
      "`Trainer.fit` stopped: `max_epochs=100` reached.\n",
      "GPU available: True (cuda), used: False\n",
      "TPU available: False, using: 0 TPU cores\n",
      "IPU available: False, using: 0 IPUs\n",
      "HPU available: False, using: 0 HPUs\n",
      "`Trainer.fit` stopped: `max_epochs=100` reached.\n",
      "GPU available: True (cuda), used: False\n",
      "TPU available: False, using: 0 TPU cores\n",
      "IPU available: False, using: 0 IPUs\n",
      "HPU available: False, using: 0 HPUs\n",
      "`Trainer.fit` stopped: `max_epochs=100` reached.\n",
      "GPU available: True (cuda), used: False\n",
      "TPU available: False, using: 0 TPU cores\n",
      "IPU available: False, using: 0 IPUs\n",
      "HPU available: False, using: 0 HPUs\n"
     ]
    },
    {
     "name": "stdout",
     "output_type": "stream",
     "text": [
      "GT_INTERV.DEVICE: cpu\n",
      "setting device to: cpu\n",
      "Training took 0.05 seconds\n",
      "torch.Size([250, 10])\n",
      "torch.Size([])\n",
      "GT_INTERV.DEVICE: cpu\n",
      "setting device to: cpu\n",
      "Training took 0.05 seconds\n",
      "torch.Size([250, 10])\n",
      "torch.Size([])\n",
      "GT_INTERV.DEVICE: cpu\n",
      "setting device to: cpu\n",
      "Training took 0.05 seconds\n",
      "torch.Size([250, 10])\n",
      "torch.Size([])\n",
      "GT_INTERV.DEVICE: cpu\n",
      "setting device to: cpu\n"
     ]
    },
    {
     "name": "stderr",
     "output_type": "stream",
     "text": [
      "`Trainer.fit` stopped: `max_epochs=100` reached.\n",
      "GPU available: True (cuda), used: False\n",
      "TPU available: False, using: 0 TPU cores\n",
      "IPU available: False, using: 0 IPUs\n",
      "HPU available: False, using: 0 HPUs\n",
      "`Trainer.fit` stopped: `max_epochs=100` reached.\n",
      "GPU available: True (cuda), used: False\n",
      "TPU available: False, using: 0 TPU cores\n",
      "IPU available: False, using: 0 IPUs\n",
      "HPU available: False, using: 0 HPUs\n",
      "`Trainer.fit` stopped: `max_epochs=100` reached.\n",
      "GPU available: True (cuda), used: False\n",
      "TPU available: False, using: 0 TPU cores\n",
      "IPU available: False, using: 0 IPUs\n",
      "HPU available: False, using: 0 HPUs\n",
      "`Trainer.fit` stopped: `max_epochs=100` reached.\n",
      "GPU available: True (cuda), used: False\n",
      "TPU available: False, using: 0 TPU cores\n",
      "IPU available: False, using: 0 IPUs\n",
      "HPU available: False, using: 0 HPUs\n",
      "`Trainer.fit` stopped: `max_epochs=100` reached.\n",
      "GPU available: True (cuda), used: False\n",
      "TPU available: False, using: 0 TPU cores\n",
      "IPU available: False, using: 0 IPUs\n",
      "HPU available: False, using: 0 HPUs\n"
     ]
    },
    {
     "name": "stdout",
     "output_type": "stream",
     "text": [
      "Training took 0.05 seconds\n",
      "torch.Size([250, 10])\n",
      "torch.Size([])\n",
      "GT_INTERV.DEVICE: cpu\n",
      "setting device to: cpu\n",
      "Training took 0.04 seconds\n",
      "torch.Size([250, 10])\n",
      "torch.Size([])\n",
      "GT_INTERV.DEVICE: cpu\n",
      "setting device to: cpu\n",
      "Training took 0.04 seconds\n",
      "torch.Size([250, 10])\n",
      "torch.Size([])\n",
      "GT_INTERV.DEVICE: cpu\n",
      "setting device to: cpu\n",
      "Training took 0.04 seconds\n",
      "torch.Size([250, 10])\n",
      "torch.Size([])\n",
      "GT_INTERV.DEVICE: cpu\n",
      "setting device to: cpu\n",
      "Training took 0.04 seconds\n",
      "torch.Size([250, 10])\n",
      "torch.Size([])\n",
      "GT_INTERV.DEVICE: cpu\n",
      "setting device to: cpu\n"
     ]
    },
    {
     "name": "stderr",
     "output_type": "stream",
     "text": [
      "`Trainer.fit` stopped: `max_epochs=100` reached.\n",
      "GPU available: True (cuda), used: False\n",
      "TPU available: False, using: 0 TPU cores\n",
      "IPU available: False, using: 0 IPUs\n",
      "HPU available: False, using: 0 HPUs\n",
      "`Trainer.fit` stopped: `max_epochs=100` reached.\n",
      "GPU available: True (cuda), used: False\n",
      "TPU available: False, using: 0 TPU cores\n",
      "IPU available: False, using: 0 IPUs\n",
      "HPU available: False, using: 0 HPUs\n",
      "`Trainer.fit` stopped: `max_epochs=100` reached.\n",
      "GPU available: True (cuda), used: False\n",
      "TPU available: False, using: 0 TPU cores\n",
      "IPU available: False, using: 0 IPUs\n",
      "HPU available: False, using: 0 HPUs\n",
      "`Trainer.fit` stopped: `max_epochs=100` reached.\n",
      "GPU available: True (cuda), used: False\n",
      "TPU available: False, using: 0 TPU cores\n",
      "IPU available: False, using: 0 IPUs\n",
      "HPU available: False, using: 0 HPUs\n",
      "`Trainer.fit` stopped: `max_epochs=100` reached.\n",
      "GPU available: True (cuda), used: False\n",
      "TPU available: False, using: 0 TPU cores\n",
      "IPU available: False, using: 0 IPUs\n",
      "HPU available: False, using: 0 HPUs\n"
     ]
    },
    {
     "name": "stdout",
     "output_type": "stream",
     "text": [
      "Training took 0.04 seconds\n",
      "torch.Size([250, 10])\n",
      "torch.Size([])\n",
      "GT_INTERV.DEVICE: cpu\n",
      "setting device to: cpu\n",
      "Training took 0.04 seconds\n",
      "torch.Size([250, 10])\n",
      "torch.Size([])\n",
      "GT_INTERV.DEVICE: cpu\n",
      "setting device to: cpu\n",
      "Training took 0.04 seconds\n",
      "torch.Size([250, 10])\n",
      "torch.Size([])\n",
      "GT_INTERV.DEVICE: cpu\n",
      "setting device to: cpu\n",
      "Training took 0.04 seconds\n",
      "torch.Size([250, 10])\n",
      "torch.Size([])\n",
      "GT_INTERV.DEVICE: cpu\n",
      "setting device to: cpu\n",
      "Training took 0.04 seconds\n",
      "torch.Size([250, 10])\n",
      "torch.Size([])\n",
      "GT_INTERV.DEVICE: cpu\n",
      "setting device to: cpu\n"
     ]
    },
    {
     "name": "stderr",
     "output_type": "stream",
     "text": [
      "`Trainer.fit` stopped: `max_epochs=100` reached.\n",
      "GPU available: True (cuda), used: False\n",
      "TPU available: False, using: 0 TPU cores\n",
      "IPU available: False, using: 0 IPUs\n",
      "HPU available: False, using: 0 HPUs\n",
      "`Trainer.fit` stopped: `max_epochs=100` reached.\n",
      "GPU available: True (cuda), used: False\n",
      "TPU available: False, using: 0 TPU cores\n",
      "IPU available: False, using: 0 IPUs\n",
      "HPU available: False, using: 0 HPUs\n",
      "`Trainer.fit` stopped: `max_epochs=100` reached.\n",
      "GPU available: True (cuda), used: False\n",
      "TPU available: False, using: 0 TPU cores\n",
      "IPU available: False, using: 0 IPUs\n",
      "HPU available: False, using: 0 HPUs\n",
      "`Trainer.fit` stopped: `max_epochs=100` reached.\n",
      "GPU available: True (cuda), used: False\n",
      "TPU available: False, using: 0 TPU cores\n",
      "IPU available: False, using: 0 IPUs\n",
      "HPU available: False, using: 0 HPUs\n",
      "`Trainer.fit` stopped: `max_epochs=100` reached.\n",
      "GPU available: True (cuda), used: False\n",
      "TPU available: False, using: 0 TPU cores\n",
      "IPU available: False, using: 0 IPUs\n",
      "HPU available: False, using: 0 HPUs\n"
     ]
    },
    {
     "name": "stdout",
     "output_type": "stream",
     "text": [
      "Training took 0.04 seconds\n",
      "torch.Size([250, 10])\n",
      "torch.Size([])\n",
      "GT_INTERV.DEVICE: cpu\n",
      "setting device to: cpu\n",
      "Training took 0.04 seconds\n",
      "torch.Size([250, 10])\n",
      "torch.Size([])\n",
      "GT_INTERV.DEVICE: cpu\n",
      "setting device to: cpu\n",
      "Training took 0.04 seconds\n",
      "torch.Size([250, 10])\n",
      "torch.Size([])\n",
      "GT_INTERV.DEVICE: cpu\n",
      "setting device to: cpu\n",
      "Training took 0.04 seconds\n",
      "torch.Size([250, 10])\n",
      "torch.Size([])\n",
      "GT_INTERV.DEVICE: cpu\n",
      "setting device to: cpu\n",
      "Training took 0.04 seconds\n",
      "torch.Size([250, 10])\n",
      "torch.Size([])\n",
      "GT_INTERV.DEVICE: cpu\n",
      "setting device to: cpu\n"
     ]
    },
    {
     "name": "stderr",
     "output_type": "stream",
     "text": [
      "`Trainer.fit` stopped: `max_epochs=100` reached.\n",
      "GPU available: True (cuda), used: False\n",
      "TPU available: False, using: 0 TPU cores\n",
      "IPU available: False, using: 0 IPUs\n",
      "HPU available: False, using: 0 HPUs\n",
      "`Trainer.fit` stopped: `max_epochs=100` reached.\n"
     ]
    },
    {
     "name": "stdout",
     "output_type": "stream",
     "text": [
      "Training took 0.04 seconds\n",
      "torch.Size([250, 10])\n",
      "torch.Size([])\n",
      "GT_INTERV.DEVICE: cpu\n",
      "setting device to: cpu\n",
      "Training took 0.04 seconds\n",
      "torch.Size([250, 10])\n",
      "torch.Size([])\n",
      "More than 20 test_genes! Removing last 1 contexts.\n"
     ]
    },
    {
     "name": "stderr",
     "output_type": "stream",
     "text": [
      "GPU available: True (cuda), used: False\n",
      "TPU available: False, using: 0 TPU cores\n",
      "IPU available: False, using: 0 IPUs\n",
      "HPU available: False, using: 0 HPUs\n",
      "/data/toulouse/miniforge3/envs/bicycle/lib/python3.11/site-packages/pytorch_lightning/trainer/setup.py:176: PossibleUserWarning: GPU available but not used. Set `accelerator` and `devices` using `Trainer(accelerator='gpu', devices=2)`.\n",
      "  rank_zero_warn(\n",
      "/data/toulouse/miniforge3/envs/bicycle/lib/python3.11/site-packages/pytorch_lightning/trainer/connectors/data_connector.py:442: PossibleUserWarning: The dataloader, train_dataloader, does not have many workers which may be a bottleneck. Consider increasing the value of the `num_workers` argument` (try 64 which is the number of cpus on this machine) in the `DataLoader` init to improve performance.\n",
      "  rank_zero_warn(\n",
      "/data/toulouse/miniforge3/envs/bicycle/lib/python3.11/site-packages/pytorch_lightning/loops/fit_loop.py:281: PossibleUserWarning: The number of training batches (1) is smaller than the logging interval Trainer(log_every_n_steps=100000). Set a lower value for log_every_n_steps if you want to see logs for the training epoch.\n",
      "  rank_zero_warn(\n",
      "`Trainer.fit` stopped: `max_epochs=100` reached.\n",
      "GPU available: True (cuda), used: False\n",
      "TPU available: False, using: 0 TPU cores\n",
      "IPU available: False, using: 0 IPUs\n",
      "HPU available: False, using: 0 HPUs\n",
      "`Trainer.fit` stopped: `max_epochs=100` reached.\n",
      "GPU available: True (cuda), used: False\n",
      "TPU available: False, using: 0 TPU cores\n",
      "IPU available: False, using: 0 IPUs\n",
      "HPU available: False, using: 0 HPUs\n",
      "`Trainer.fit` stopped: `max_epochs=100` reached.\n",
      "GPU available: True (cuda), used: False\n",
      "TPU available: False, using: 0 TPU cores\n",
      "IPU available: False, using: 0 IPUs\n",
      "HPU available: False, using: 0 HPUs\n"
     ]
    },
    {
     "name": "stdout",
     "output_type": "stream",
     "text": [
      "GT_INTERV.DEVICE: cpu\n",
      "setting device to: cpu\n",
      "Training took 0.04 seconds\n",
      "torch.Size([250, 10])\n",
      "torch.Size([])\n",
      "GT_INTERV.DEVICE: cpu\n",
      "setting device to: cpu\n",
      "Training took 0.04 seconds\n",
      "torch.Size([250, 10])\n",
      "torch.Size([])\n",
      "GT_INTERV.DEVICE: cpu\n",
      "setting device to: cpu\n",
      "Training took 0.05 seconds\n",
      "torch.Size([250, 10])\n",
      "torch.Size([])\n",
      "GT_INTERV.DEVICE: cpu\n",
      "setting device to: cpu\n"
     ]
    },
    {
     "name": "stderr",
     "output_type": "stream",
     "text": [
      "`Trainer.fit` stopped: `max_epochs=100` reached.\n",
      "GPU available: True (cuda), used: False\n",
      "TPU available: False, using: 0 TPU cores\n",
      "IPU available: False, using: 0 IPUs\n",
      "HPU available: False, using: 0 HPUs\n",
      "`Trainer.fit` stopped: `max_epochs=100` reached.\n",
      "GPU available: True (cuda), used: False\n",
      "TPU available: False, using: 0 TPU cores\n",
      "IPU available: False, using: 0 IPUs\n",
      "HPU available: False, using: 0 HPUs\n",
      "`Trainer.fit` stopped: `max_epochs=100` reached.\n",
      "GPU available: True (cuda), used: False\n",
      "TPU available: False, using: 0 TPU cores\n",
      "IPU available: False, using: 0 IPUs\n",
      "HPU available: False, using: 0 HPUs\n",
      "`Trainer.fit` stopped: `max_epochs=100` reached.\n",
      "GPU available: True (cuda), used: False\n",
      "TPU available: False, using: 0 TPU cores\n",
      "IPU available: False, using: 0 IPUs\n",
      "HPU available: False, using: 0 HPUs\n",
      "`Trainer.fit` stopped: `max_epochs=100` reached.\n",
      "GPU available: True (cuda), used: False\n",
      "TPU available: False, using: 0 TPU cores\n",
      "IPU available: False, using: 0 IPUs\n",
      "HPU available: False, using: 0 HPUs\n"
     ]
    },
    {
     "name": "stdout",
     "output_type": "stream",
     "text": [
      "Training took 0.05 seconds\n",
      "torch.Size([250, 10])\n",
      "torch.Size([])\n",
      "GT_INTERV.DEVICE: cpu\n",
      "setting device to: cpu\n",
      "Training took 0.04 seconds\n",
      "torch.Size([250, 10])\n",
      "torch.Size([])\n",
      "GT_INTERV.DEVICE: cpu\n",
      "setting device to: cpu\n",
      "Training took 0.04 seconds\n",
      "torch.Size([250, 10])\n",
      "torch.Size([])\n",
      "GT_INTERV.DEVICE: cpu\n",
      "setting device to: cpu\n",
      "Training took 0.04 seconds\n",
      "torch.Size([250, 10])\n",
      "torch.Size([])\n",
      "GT_INTERV.DEVICE: cpu\n",
      "setting device to: cpu\n",
      "Training took 0.04 seconds\n",
      "torch.Size([250, 10])\n",
      "torch.Size([])\n",
      "GT_INTERV.DEVICE: cpu\n",
      "setting device to: cpu\n"
     ]
    },
    {
     "name": "stderr",
     "output_type": "stream",
     "text": [
      "`Trainer.fit` stopped: `max_epochs=100` reached.\n",
      "GPU available: True (cuda), used: False\n",
      "TPU available: False, using: 0 TPU cores\n",
      "IPU available: False, using: 0 IPUs\n",
      "HPU available: False, using: 0 HPUs\n",
      "`Trainer.fit` stopped: `max_epochs=100` reached.\n",
      "GPU available: True (cuda), used: False\n",
      "TPU available: False, using: 0 TPU cores\n",
      "IPU available: False, using: 0 IPUs\n",
      "HPU available: False, using: 0 HPUs\n",
      "`Trainer.fit` stopped: `max_epochs=100` reached.\n",
      "GPU available: True (cuda), used: False\n",
      "TPU available: False, using: 0 TPU cores\n",
      "IPU available: False, using: 0 IPUs\n",
      "HPU available: False, using: 0 HPUs\n",
      "`Trainer.fit` stopped: `max_epochs=100` reached.\n",
      "GPU available: True (cuda), used: False\n",
      "TPU available: False, using: 0 TPU cores\n",
      "IPU available: False, using: 0 IPUs\n",
      "HPU available: False, using: 0 HPUs\n",
      "`Trainer.fit` stopped: `max_epochs=100` reached.\n",
      "GPU available: True (cuda), used: False\n",
      "TPU available: False, using: 0 TPU cores\n",
      "IPU available: False, using: 0 IPUs\n",
      "HPU available: False, using: 0 HPUs\n"
     ]
    },
    {
     "name": "stdout",
     "output_type": "stream",
     "text": [
      "Training took 0.04 seconds\n",
      "torch.Size([250, 10])\n",
      "torch.Size([])\n",
      "GT_INTERV.DEVICE: cpu\n",
      "setting device to: cpu\n",
      "Training took 0.04 seconds\n",
      "torch.Size([250, 10])\n",
      "torch.Size([])\n",
      "GT_INTERV.DEVICE: cpu\n",
      "setting device to: cpu\n",
      "Training took 0.04 seconds\n",
      "torch.Size([250, 10])\n",
      "torch.Size([])\n",
      "GT_INTERV.DEVICE: cpu\n",
      "setting device to: cpu\n",
      "Training took 0.04 seconds\n",
      "torch.Size([250, 10])\n",
      "torch.Size([])\n",
      "GT_INTERV.DEVICE: cpu\n",
      "setting device to: cpu\n",
      "Training took 0.04 seconds\n",
      "torch.Size([250, 10])\n",
      "torch.Size([])\n",
      "GT_INTERV.DEVICE: cpu\n",
      "setting device to: cpu\n"
     ]
    },
    {
     "name": "stderr",
     "output_type": "stream",
     "text": [
      "`Trainer.fit` stopped: `max_epochs=100` reached.\n",
      "GPU available: True (cuda), used: False\n",
      "TPU available: False, using: 0 TPU cores\n",
      "IPU available: False, using: 0 IPUs\n",
      "HPU available: False, using: 0 HPUs\n",
      "`Trainer.fit` stopped: `max_epochs=100` reached.\n",
      "GPU available: True (cuda), used: False\n",
      "TPU available: False, using: 0 TPU cores\n",
      "IPU available: False, using: 0 IPUs\n",
      "HPU available: False, using: 0 HPUs\n",
      "`Trainer.fit` stopped: `max_epochs=100` reached.\n",
      "GPU available: True (cuda), used: False\n",
      "TPU available: False, using: 0 TPU cores\n",
      "IPU available: False, using: 0 IPUs\n",
      "HPU available: False, using: 0 HPUs\n",
      "`Trainer.fit` stopped: `max_epochs=100` reached.\n",
      "GPU available: True (cuda), used: False\n",
      "TPU available: False, using: 0 TPU cores\n",
      "IPU available: False, using: 0 IPUs\n",
      "HPU available: False, using: 0 HPUs\n",
      "`Trainer.fit` stopped: `max_epochs=100` reached.\n",
      "GPU available: True (cuda), used: False\n",
      "TPU available: False, using: 0 TPU cores\n",
      "IPU available: False, using: 0 IPUs\n",
      "HPU available: False, using: 0 HPUs\n"
     ]
    },
    {
     "name": "stdout",
     "output_type": "stream",
     "text": [
      "Training took 0.04 seconds\n",
      "torch.Size([250, 10])\n",
      "torch.Size([])\n",
      "GT_INTERV.DEVICE: cpu\n",
      "setting device to: cpu\n",
      "Training took 0.04 seconds\n",
      "torch.Size([250, 10])\n",
      "torch.Size([])\n",
      "GT_INTERV.DEVICE: cpu\n",
      "setting device to: cpu\n",
      "Training took 0.04 seconds\n",
      "torch.Size([250, 10])\n",
      "torch.Size([])\n",
      "GT_INTERV.DEVICE: cpu\n",
      "setting device to: cpu\n",
      "Training took 0.04 seconds\n",
      "torch.Size([250, 10])\n",
      "torch.Size([])\n",
      "GT_INTERV.DEVICE: cpu\n",
      "setting device to: cpu\n",
      "Training took 0.04 seconds\n",
      "torch.Size([250, 10])\n",
      "torch.Size([])\n",
      "GT_INTERV.DEVICE: cpu\n",
      "setting device to: cpu\n"
     ]
    },
    {
     "name": "stderr",
     "output_type": "stream",
     "text": [
      "`Trainer.fit` stopped: `max_epochs=100` reached.\n",
      "GPU available: True (cuda), used: False\n",
      "TPU available: False, using: 0 TPU cores\n",
      "IPU available: False, using: 0 IPUs\n",
      "HPU available: False, using: 0 HPUs\n",
      "`Trainer.fit` stopped: `max_epochs=100` reached.\n"
     ]
    },
    {
     "name": "stdout",
     "output_type": "stream",
     "text": [
      "Training took 0.04 seconds\n",
      "torch.Size([250, 10])\n",
      "torch.Size([])\n",
      "GT_INTERV.DEVICE: cpu\n",
      "setting device to: cpu\n",
      "Training took 0.04 seconds\n",
      "torch.Size([250, 10])\n",
      "torch.Size([])\n"
     ]
    },
    {
     "data": {
      "application/vnd.microsoft.datawrangler.viewer.v0+json": {
       "columns": [
        {
         "name": "index",
         "rawType": "object",
         "type": "string"
        },
        {
         "name": "nll_",
         "rawType": "object",
         "type": "unknown"
        },
        {
         "name": "max_f1_",
         "rawType": "object",
         "type": "unknown"
        },
        {
         "name": "average_precision_",
         "rawType": "object",
         "type": "unknown"
        },
        {
         "name": "auroc_",
         "rawType": "object",
         "type": "unknown"
        },
        {
         "name": "prior_average_precision_",
         "rawType": "object",
         "type": "unknown"
        },
        {
         "name": "prior_auc_",
         "rawType": "object",
         "type": "unknown"
        }
       ],
       "ref": "7cf9d492-1e2c-49d6-82c1-fb93945d012f",
       "rows": [
        [
         "run_076",
         "(851.8771, 604.3623)",
         "tensor(0.1562)",
         "tensor(0.1739)",
         "tensor(0.5580)",
         "tensor(0.7484)",
         "tensor(0.9768)"
        ],
        [
         "run_077",
         "(2831.1484, 9890.095)",
         "tensor(0.2264)",
         "tensor(0.1822)",
         "tensor(0.6056)",
         "tensor(0.7484)",
         "tensor(0.9768)"
        ],
        [
         "run_078",
         "(3426.5625, 13279.297)",
         "tensor(0.2449)",
         "tensor(0.3013)",
         "tensor(0.6178)",
         "tensor(0.7484)",
         "tensor(0.9768)"
        ],
        [
         "run_079",
         "(86.434525, 225.67006)",
         "tensor(0.1569)",
         "tensor(0.2051)",
         "tensor(0.4811)",
         "tensor(0.7484)",
         "tensor(0.9768)"
        ],
        [
         "run_069",
         "(3.9623501, 0.16485696)",
         "tensor(0.8182)",
         "tensor(0.7484)",
         "tensor(0.9768)",
         "tensor(0.7484)",
         "tensor(0.9768)"
        ],
        [
         "run_070",
         "(2669.9375, 10351.2295)",
         "tensor(0.2769)",
         "tensor(0.4897)",
         "tensor(0.9438)",
         "tensor(0.7484)",
         "tensor(0.9768)"
        ],
        [
         "run_067",
         "(4134.6177, 7061.3423)",
         "tensor(0.2807)",
         "tensor(0.4599)",
         "tensor(0.8168)",
         "tensor(0.7484)",
         "tensor(0.9768)"
        ],
        [
         "run_066",
         "(3.5781455, 0.10796198)",
         "tensor(0.8182)",
         "tensor(0.7484)",
         "tensor(0.9768)",
         "tensor(0.7484)",
         "tensor(0.9768)"
        ],
        [
         "run_068",
         "(3.6181388, 0.14265671)",
         "tensor(0.8182)",
         "tensor(0.7484)",
         "tensor(0.9768)",
         "tensor(0.7484)",
         "tensor(0.9768)"
        ],
        [
         "run_080",
         "(6.3253446, 0.16743822)",
         "tensor(0.8182)",
         "tensor(0.7484)",
         "tensor(0.9768)",
         "tensor(0.7484)",
         "tensor(0.9768)"
        ],
        [
         "run_097",
         "(4.2988367, 0.15594666)",
         "tensor(0.8182)",
         "tensor(0.7484)",
         "tensor(0.9768)",
         "tensor(0.7484)",
         "tensor(0.9768)"
        ]
       ],
       "shape": {
        "columns": 6,
        "rows": 11
       }
      },
      "text/html": [
       "<div>\n",
       "<style scoped>\n",
       "    .dataframe tbody tr th:only-of-type {\n",
       "        vertical-align: middle;\n",
       "    }\n",
       "\n",
       "    .dataframe tbody tr th {\n",
       "        vertical-align: top;\n",
       "    }\n",
       "\n",
       "    .dataframe thead th {\n",
       "        text-align: right;\n",
       "    }\n",
       "</style>\n",
       "<table border=\"1\" class=\"dataframe\">\n",
       "  <thead>\n",
       "    <tr style=\"text-align: right;\">\n",
       "      <th></th>\n",
       "      <th>nll_</th>\n",
       "      <th>max_f1_</th>\n",
       "      <th>average_precision_</th>\n",
       "      <th>auroc_</th>\n",
       "      <th>prior_average_precision_</th>\n",
       "      <th>prior_auc_</th>\n",
       "    </tr>\n",
       "  </thead>\n",
       "  <tbody>\n",
       "    <tr>\n",
       "      <th>run_076</th>\n",
       "      <td>(851.8771, 604.3623)</td>\n",
       "      <td>tensor(0.1562)</td>\n",
       "      <td>tensor(0.1739)</td>\n",
       "      <td>tensor(0.5580)</td>\n",
       "      <td>tensor(0.7484)</td>\n",
       "      <td>tensor(0.9768)</td>\n",
       "    </tr>\n",
       "    <tr>\n",
       "      <th>run_077</th>\n",
       "      <td>(2831.1484, 9890.095)</td>\n",
       "      <td>tensor(0.2264)</td>\n",
       "      <td>tensor(0.1822)</td>\n",
       "      <td>tensor(0.6056)</td>\n",
       "      <td>tensor(0.7484)</td>\n",
       "      <td>tensor(0.9768)</td>\n",
       "    </tr>\n",
       "    <tr>\n",
       "      <th>run_078</th>\n",
       "      <td>(3426.5625, 13279.297)</td>\n",
       "      <td>tensor(0.2449)</td>\n",
       "      <td>tensor(0.3013)</td>\n",
       "      <td>tensor(0.6178)</td>\n",
       "      <td>tensor(0.7484)</td>\n",
       "      <td>tensor(0.9768)</td>\n",
       "    </tr>\n",
       "    <tr>\n",
       "      <th>run_079</th>\n",
       "      <td>(86.434525, 225.67006)</td>\n",
       "      <td>tensor(0.1569)</td>\n",
       "      <td>tensor(0.2051)</td>\n",
       "      <td>tensor(0.4811)</td>\n",
       "      <td>tensor(0.7484)</td>\n",
       "      <td>tensor(0.9768)</td>\n",
       "    </tr>\n",
       "    <tr>\n",
       "      <th>run_069</th>\n",
       "      <td>(3.9623501, 0.16485696)</td>\n",
       "      <td>tensor(0.8182)</td>\n",
       "      <td>tensor(0.7484)</td>\n",
       "      <td>tensor(0.9768)</td>\n",
       "      <td>tensor(0.7484)</td>\n",
       "      <td>tensor(0.9768)</td>\n",
       "    </tr>\n",
       "    <tr>\n",
       "      <th>run_070</th>\n",
       "      <td>(2669.9375, 10351.2295)</td>\n",
       "      <td>tensor(0.2769)</td>\n",
       "      <td>tensor(0.4897)</td>\n",
       "      <td>tensor(0.9438)</td>\n",
       "      <td>tensor(0.7484)</td>\n",
       "      <td>tensor(0.9768)</td>\n",
       "    </tr>\n",
       "    <tr>\n",
       "      <th>run_067</th>\n",
       "      <td>(4134.6177, 7061.3423)</td>\n",
       "      <td>tensor(0.2807)</td>\n",
       "      <td>tensor(0.4599)</td>\n",
       "      <td>tensor(0.8168)</td>\n",
       "      <td>tensor(0.7484)</td>\n",
       "      <td>tensor(0.9768)</td>\n",
       "    </tr>\n",
       "    <tr>\n",
       "      <th>run_066</th>\n",
       "      <td>(3.5781455, 0.10796198)</td>\n",
       "      <td>tensor(0.8182)</td>\n",
       "      <td>tensor(0.7484)</td>\n",
       "      <td>tensor(0.9768)</td>\n",
       "      <td>tensor(0.7484)</td>\n",
       "      <td>tensor(0.9768)</td>\n",
       "    </tr>\n",
       "    <tr>\n",
       "      <th>run_068</th>\n",
       "      <td>(3.6181388, 0.14265671)</td>\n",
       "      <td>tensor(0.8182)</td>\n",
       "      <td>tensor(0.7484)</td>\n",
       "      <td>tensor(0.9768)</td>\n",
       "      <td>tensor(0.7484)</td>\n",
       "      <td>tensor(0.9768)</td>\n",
       "    </tr>\n",
       "    <tr>\n",
       "      <th>run_080</th>\n",
       "      <td>(6.3253446, 0.16743822)</td>\n",
       "      <td>tensor(0.8182)</td>\n",
       "      <td>tensor(0.7484)</td>\n",
       "      <td>tensor(0.9768)</td>\n",
       "      <td>tensor(0.7484)</td>\n",
       "      <td>tensor(0.9768)</td>\n",
       "    </tr>\n",
       "    <tr>\n",
       "      <th>run_097</th>\n",
       "      <td>(4.2988367, 0.15594666)</td>\n",
       "      <td>tensor(0.8182)</td>\n",
       "      <td>tensor(0.7484)</td>\n",
       "      <td>tensor(0.9768)</td>\n",
       "      <td>tensor(0.7484)</td>\n",
       "      <td>tensor(0.9768)</td>\n",
       "    </tr>\n",
       "  </tbody>\n",
       "</table>\n",
       "</div>"
      ],
      "text/plain": [
       "                            nll_         max_f1_ average_precision_  \\\n",
       "run_076     (851.8771, 604.3623)  tensor(0.1562)     tensor(0.1739)   \n",
       "run_077    (2831.1484, 9890.095)  tensor(0.2264)     tensor(0.1822)   \n",
       "run_078   (3426.5625, 13279.297)  tensor(0.2449)     tensor(0.3013)   \n",
       "run_079   (86.434525, 225.67006)  tensor(0.1569)     tensor(0.2051)   \n",
       "run_069  (3.9623501, 0.16485696)  tensor(0.8182)     tensor(0.7484)   \n",
       "run_070  (2669.9375, 10351.2295)  tensor(0.2769)     tensor(0.4897)   \n",
       "run_067   (4134.6177, 7061.3423)  tensor(0.2807)     tensor(0.4599)   \n",
       "run_066  (3.5781455, 0.10796198)  tensor(0.8182)     tensor(0.7484)   \n",
       "run_068  (3.6181388, 0.14265671)  tensor(0.8182)     tensor(0.7484)   \n",
       "run_080  (6.3253446, 0.16743822)  tensor(0.8182)     tensor(0.7484)   \n",
       "run_097  (4.2988367, 0.15594666)  tensor(0.8182)     tensor(0.7484)   \n",
       "\n",
       "                 auroc_ prior_average_precision_      prior_auc_  \n",
       "run_076  tensor(0.5580)           tensor(0.7484)  tensor(0.9768)  \n",
       "run_077  tensor(0.6056)           tensor(0.7484)  tensor(0.9768)  \n",
       "run_078  tensor(0.6178)           tensor(0.7484)  tensor(0.9768)  \n",
       "run_079  tensor(0.4811)           tensor(0.7484)  tensor(0.9768)  \n",
       "run_069  tensor(0.9768)           tensor(0.7484)  tensor(0.9768)  \n",
       "run_070  tensor(0.9438)           tensor(0.7484)  tensor(0.9768)  \n",
       "run_067  tensor(0.8168)           tensor(0.7484)  tensor(0.9768)  \n",
       "run_066  tensor(0.9768)           tensor(0.7484)  tensor(0.9768)  \n",
       "run_068  tensor(0.9768)           tensor(0.7484)  tensor(0.9768)  \n",
       "run_080  tensor(0.9768)           tensor(0.7484)  tensor(0.9768)  \n",
       "run_097  tensor(0.9768)           tensor(0.7484)  tensor(0.9768)  "
      ]
     },
     "execution_count": 16,
     "metadata": {},
     "output_type": "execute_result"
    }
   ],
   "source": [
    "new_params = pd.DataFrame(columns=[\"nll_\", \"max_f1_\", \"average_precision_\", \"auroc_\", \"prior_average_precision_\", \"prior_auc_\"])\n",
    "for key in params.index:\n",
    "    model = ckpts[key]\n",
    "    if not model.bayes_prior is None:\n",
    "        nll, max_f1, average_precision, auroc, prior_average_precision, prior_auc = evaluate_model(model=model, key = key, models_path=models_path, max_epochs = 100, compare_latents = True)\n",
    "    else:\n",
    "        nll, max_f1, average_precision, auroc = evaluate_model(model=model, key = key, models_path=models_path, max_epochs = 100)\n",
    "        prior_average_precision, prior_auc = [None, None]\n",
    "\n",
    "    new_params.loc[key] = nll, max_f1, average_precision, auroc, prior_average_precision, prior_auc\n",
    "params[new_params.columns] = new_params\n",
    "new_params"
   ]
  },
  {
   "cell_type": "code",
   "execution_count": 17,
   "id": "451f072e",
   "metadata": {},
   "outputs": [
    {
     "data": {
      "application/vnd.microsoft.datawrangler.viewer.v0+json": {
       "columns": [
        {
         "name": "index",
         "rawType": "object",
         "type": "string"
        },
        {
         "name": "model_lr",
         "rawType": "object",
         "type": "string"
        },
        {
         "name": "model_n_genes",
         "rawType": "object",
         "type": "string"
        },
        {
         "name": "model_n_samples",
         "rawType": "object",
         "type": "string"
        },
        {
         "name": "pretraining_time",
         "rawType": "object",
         "type": "string"
        },
        {
         "name": "training_time",
         "rawType": "object",
         "type": "string"
        },
        {
         "name": "compile",
         "rawType": "object",
         "type": "string"
        },
        {
         "name": "trad_loading",
         "rawType": "object",
         "type": "string"
        },
        {
         "name": "scale_mask",
         "rawType": "float64",
         "type": "float"
        },
        {
         "name": "grn_noise_p",
         "rawType": "object",
         "type": "string"
        },
        {
         "name": "n_epochs",
         "rawType": "object",
         "type": "string"
        },
        {
         "name": "use_hard_mask",
         "rawType": "object",
         "type": "string"
        },
        {
         "name": "masking_mode",
         "rawType": "object",
         "type": "string"
        },
        {
         "name": "bin_prior",
         "rawType": "object",
         "type": "string"
        },
        {
         "name": "data_id",
         "rawType": "object",
         "type": "string"
        },
        {
         "name": "data_source",
         "rawType": "object",
         "type": "string"
        },
        {
         "name": "nll",
         "rawType": "object",
         "type": "unknown"
        },
        {
         "name": "max_f1",
         "rawType": "object",
         "type": "unknown"
        },
        {
         "name": "average_precision",
         "rawType": "object",
         "type": "unknown"
        },
        {
         "name": "auroc",
         "rawType": "object",
         "type": "unknown"
        },
        {
         "name": "prior_average_precision",
         "rawType": "object",
         "type": "unknown"
        },
        {
         "name": "prior_auroc",
         "rawType": "object",
         "type": "unknown"
        },
        {
         "name": "model_use_latents",
         "rawType": "object",
         "type": "string"
        },
        {
         "name": "nll_",
         "rawType": "object",
         "type": "unknown"
        },
        {
         "name": "max_f1_",
         "rawType": "object",
         "type": "unknown"
        },
        {
         "name": "average_precision_",
         "rawType": "object",
         "type": "unknown"
        },
        {
         "name": "auroc_",
         "rawType": "object",
         "type": "unknown"
        },
        {
         "name": "prior_average_precision_",
         "rawType": "object",
         "type": "unknown"
        },
        {
         "name": "prior_auc_",
         "rawType": "object",
         "type": "unknown"
        }
       ],
       "ref": "bb83629f-9600-4edb-9a1d-06d195c0842c",
       "rows": [
        [
         "run_076",
         "0.001",
         "10",
         "8250",
         "235.56276631355286",
         "3832.0819003582",
         "True",
         "True",
         "0.0001",
         "0.06",
         "10000",
         "False",
         "loss",
         "False",
         "data_run000",
         "create_data",
         "(np.float32(31151674.0), np.float32(18047300.0))",
         "tensor(0.1562)",
         "tensor(0.1739)",
         "tensor(0.5580)",
         "tensor(0.7484)",
         null,
         "True",
         "(851.8771, 604.3623)",
         "tensor(0.1562)",
         "tensor(0.1739)",
         "tensor(0.5580)",
         "tensor(0.7484)",
         "tensor(0.9768)"
        ],
        [
         "run_077",
         "0.001",
         "10",
         "8250",
         "235.44326376914978",
         "3807.505375623703",
         "True",
         "True",
         "0.001",
         "0.06",
         "10000",
         "False",
         "loss",
         "False",
         "data_run000",
         "create_data",
         "(np.float32(289277730.0), np.float32(881188740.0))",
         "tensor(0.2264)",
         "tensor(0.1822)",
         "tensor(0.6056)",
         "tensor(0.7484)",
         null,
         "True",
         "(2831.1484, 9890.095)",
         "tensor(0.2264)",
         "tensor(0.1822)",
         "tensor(0.6056)",
         "tensor(0.7484)",
         "tensor(0.9768)"
        ],
        [
         "run_078",
         "0.001",
         "10",
         "8250",
         "237.68382334709167",
         "3826.9633762836456",
         "True",
         "True",
         "0.01",
         "0.06",
         "10000",
         "False",
         "loss",
         "False",
         "data_run000",
         "create_data",
         "(np.float32(64394588.0), np.float32(212125310.0))",
         "tensor(0.2449)",
         "tensor(0.3013)",
         "tensor(0.6178)",
         "tensor(0.7484)",
         null,
         "True",
         "(3426.5625, 13279.297)",
         "tensor(0.2449)",
         "tensor(0.3013)",
         "tensor(0.6178)",
         "tensor(0.7484)",
         "tensor(0.9768)"
        ],
        [
         "run_079",
         "0.001",
         "10",
         "8250",
         "235.93827724456787",
         "3808.831369161606",
         "True",
         "True",
         "0.1",
         "0.06",
         "10000",
         "False",
         "loss",
         "False",
         "data_run000",
         "create_data",
         "(np.float32(333496160.0), np.float32(1363466600.0))",
         "tensor(0.1569)",
         "tensor(0.2051)",
         "tensor(0.4811)",
         "tensor(0.7484)",
         null,
         "True",
         "(86.434525, 225.67006)",
         "tensor(0.1569)",
         "tensor(0.2051)",
         "tensor(0.4811)",
         "tensor(0.7484)",
         "tensor(0.9768)"
        ],
        [
         "run_069",
         "0.001",
         "10",
         "8250",
         "230.3394911289215",
         "3804.024020910263",
         "True",
         "True",
         "1.0",
         "0.06",
         "10000",
         "False",
         "loss",
         "False",
         "data_run000",
         "create_data",
         "(np.float32(6.0270524), np.float32(6.8846364))",
         "tensor(0.8182)",
         "tensor(0.7484)",
         "tensor(0.9768)",
         "tensor(0.7484)",
         null,
         "True",
         "(3.9623501, 0.16485696)",
         "tensor(0.8182)",
         "tensor(0.7484)",
         "tensor(0.9768)",
         "tensor(0.7484)",
         "tensor(0.9768)"
        ],
        [
         "run_070",
         "0.001",
         "10",
         "8250",
         "234.72769165039062",
         "3800.9652016162872",
         "True",
         "True",
         "1.0",
         "0.06",
         "10000",
         "False",
         "loss",
         "False",
         "data_run000",
         "create_data",
         "(np.float32(5435806700.0), np.float32(24273236000.0))",
         "tensor(0.2769)",
         "tensor(0.4897)",
         "tensor(0.9438)",
         "tensor(0.7484)",
         null,
         "True",
         "(2669.9375, 10351.2295)",
         "tensor(0.2769)",
         "tensor(0.4897)",
         "tensor(0.9438)",
         "tensor(0.7484)",
         "tensor(0.9768)"
        ],
        [
         "run_067",
         "0.001",
         "10",
         "8250",
         "229.43891167640686",
         "3788.9626636505127",
         "True",
         "True",
         "1.0",
         "0.06",
         "10000",
         "False",
         "loss",
         "False",
         "data_run000",
         "create_data",
         "(np.float32(33329798.0), np.float32(59762020.0))",
         "tensor(0.2807)",
         "tensor(0.4599)",
         "tensor(0.8168)",
         "tensor(0.7484)",
         null,
         "True",
         "(4134.6177, 7061.3423)",
         "tensor(0.2807)",
         "tensor(0.4599)",
         "tensor(0.8168)",
         "tensor(0.7484)",
         "tensor(0.9768)"
        ],
        [
         "run_066",
         "0.001",
         "10",
         "8250",
         "227.4786992073059",
         "3781.4708325862885",
         "True",
         "True",
         "1.0",
         "0.06",
         "10000",
         "False",
         "loss",
         "False",
         "data_run000",
         "create_data",
         "(np.float32(3.0590749), np.float32(1.065307))",
         "tensor(0.8182)",
         "tensor(0.7484)",
         "tensor(0.9768)",
         "tensor(0.7484)",
         null,
         "True",
         "(3.5781455, 0.10796198)",
         "tensor(0.8182)",
         "tensor(0.7484)",
         "tensor(0.9768)",
         "tensor(0.7484)",
         "tensor(0.9768)"
        ],
        [
         "run_068",
         "0.001",
         "10",
         "8250",
         "234.31416654586792",
         "3804.7210631370544",
         "True",
         "True",
         "1.0",
         "0.06",
         "10000",
         "False",
         "loss",
         "False",
         "data_run000",
         "create_data",
         "(np.float32(3.3173494), np.float32(1.9606102))",
         "tensor(0.8182)",
         "tensor(0.7484)",
         "tensor(0.9768)",
         "tensor(0.7484)",
         null,
         "True",
         "(3.6181388, 0.14265671)",
         "tensor(0.8182)",
         "tensor(0.7484)",
         "tensor(0.9768)",
         "tensor(0.7484)",
         "tensor(0.9768)"
        ],
        [
         "run_080",
         "0.001",
         "10",
         "8250",
         "236.37458968162537",
         "3500.0392401218414",
         "True",
         "True",
         "10.0",
         "0.06",
         "10000",
         "False",
         "loss",
         "False",
         "data_run000",
         "create_data",
         "(np.float32(6.6199026), np.float32(0.7113075))",
         "tensor(0.8182)",
         "tensor(0.7484)",
         "tensor(0.9768)",
         "tensor(0.7484)",
         null,
         "True",
         "(6.3253446, 0.16743822)",
         "tensor(0.8182)",
         "tensor(0.7484)",
         "tensor(0.9768)",
         "tensor(0.7484)",
         "tensor(0.9768)"
        ],
        [
         "run_097",
         "0.001",
         "10",
         "8250",
         "207.47058415412903",
         "3292.5003640651703",
         "True",
         "True",
         "100.0",
         "0.06",
         "10000",
         "False",
         "loss",
         "False",
         "data_run000",
         "create_data",
         null,
         null,
         null,
         null,
         null,
         null,
         "True",
         "(4.2988367, 0.15594666)",
         "tensor(0.8182)",
         "tensor(0.7484)",
         "tensor(0.9768)",
         "tensor(0.7484)",
         "tensor(0.9768)"
        ]
       ],
       "shape": {
        "columns": 28,
        "rows": 11
       }
      },
      "text/html": [
       "<div>\n",
       "<style scoped>\n",
       "    .dataframe tbody tr th:only-of-type {\n",
       "        vertical-align: middle;\n",
       "    }\n",
       "\n",
       "    .dataframe tbody tr th {\n",
       "        vertical-align: top;\n",
       "    }\n",
       "\n",
       "    .dataframe thead th {\n",
       "        text-align: right;\n",
       "    }\n",
       "</style>\n",
       "<table border=\"1\" class=\"dataframe\">\n",
       "  <thead>\n",
       "    <tr style=\"text-align: right;\">\n",
       "      <th></th>\n",
       "      <th>model_lr</th>\n",
       "      <th>model_n_genes</th>\n",
       "      <th>model_n_samples</th>\n",
       "      <th>pretraining_time</th>\n",
       "      <th>training_time</th>\n",
       "      <th>compile</th>\n",
       "      <th>trad_loading</th>\n",
       "      <th>scale_mask</th>\n",
       "      <th>grn_noise_p</th>\n",
       "      <th>n_epochs</th>\n",
       "      <th>...</th>\n",
       "      <th>auroc</th>\n",
       "      <th>prior_average_precision</th>\n",
       "      <th>prior_auroc</th>\n",
       "      <th>model_use_latents</th>\n",
       "      <th>nll_</th>\n",
       "      <th>max_f1_</th>\n",
       "      <th>average_precision_</th>\n",
       "      <th>auroc_</th>\n",
       "      <th>prior_average_precision_</th>\n",
       "      <th>prior_auc_</th>\n",
       "    </tr>\n",
       "  </thead>\n",
       "  <tbody>\n",
       "    <tr>\n",
       "      <th>run_076</th>\n",
       "      <td>0.001</td>\n",
       "      <td>10</td>\n",
       "      <td>8250</td>\n",
       "      <td>235.56276631355286</td>\n",
       "      <td>3832.0819003582</td>\n",
       "      <td>True</td>\n",
       "      <td>True</td>\n",
       "      <td>0.0001</td>\n",
       "      <td>0.06</td>\n",
       "      <td>10000</td>\n",
       "      <td>...</td>\n",
       "      <td>tensor(0.5580)</td>\n",
       "      <td>tensor(0.7484)</td>\n",
       "      <td>NaN</td>\n",
       "      <td>True</td>\n",
       "      <td>(851.8771, 604.3623)</td>\n",
       "      <td>tensor(0.1562)</td>\n",
       "      <td>tensor(0.1739)</td>\n",
       "      <td>tensor(0.5580)</td>\n",
       "      <td>tensor(0.7484)</td>\n",
       "      <td>tensor(0.9768)</td>\n",
       "    </tr>\n",
       "    <tr>\n",
       "      <th>run_077</th>\n",
       "      <td>0.001</td>\n",
       "      <td>10</td>\n",
       "      <td>8250</td>\n",
       "      <td>235.44326376914978</td>\n",
       "      <td>3807.505375623703</td>\n",
       "      <td>True</td>\n",
       "      <td>True</td>\n",
       "      <td>0.0010</td>\n",
       "      <td>0.06</td>\n",
       "      <td>10000</td>\n",
       "      <td>...</td>\n",
       "      <td>tensor(0.6056)</td>\n",
       "      <td>tensor(0.7484)</td>\n",
       "      <td>NaN</td>\n",
       "      <td>True</td>\n",
       "      <td>(2831.1484, 9890.095)</td>\n",
       "      <td>tensor(0.2264)</td>\n",
       "      <td>tensor(0.1822)</td>\n",
       "      <td>tensor(0.6056)</td>\n",
       "      <td>tensor(0.7484)</td>\n",
       "      <td>tensor(0.9768)</td>\n",
       "    </tr>\n",
       "    <tr>\n",
       "      <th>run_078</th>\n",
       "      <td>0.001</td>\n",
       "      <td>10</td>\n",
       "      <td>8250</td>\n",
       "      <td>237.68382334709167</td>\n",
       "      <td>3826.9633762836456</td>\n",
       "      <td>True</td>\n",
       "      <td>True</td>\n",
       "      <td>0.0100</td>\n",
       "      <td>0.06</td>\n",
       "      <td>10000</td>\n",
       "      <td>...</td>\n",
       "      <td>tensor(0.6178)</td>\n",
       "      <td>tensor(0.7484)</td>\n",
       "      <td>NaN</td>\n",
       "      <td>True</td>\n",
       "      <td>(3426.5625, 13279.297)</td>\n",
       "      <td>tensor(0.2449)</td>\n",
       "      <td>tensor(0.3013)</td>\n",
       "      <td>tensor(0.6178)</td>\n",
       "      <td>tensor(0.7484)</td>\n",
       "      <td>tensor(0.9768)</td>\n",
       "    </tr>\n",
       "    <tr>\n",
       "      <th>run_079</th>\n",
       "      <td>0.001</td>\n",
       "      <td>10</td>\n",
       "      <td>8250</td>\n",
       "      <td>235.93827724456787</td>\n",
       "      <td>3808.831369161606</td>\n",
       "      <td>True</td>\n",
       "      <td>True</td>\n",
       "      <td>0.1000</td>\n",
       "      <td>0.06</td>\n",
       "      <td>10000</td>\n",
       "      <td>...</td>\n",
       "      <td>tensor(0.4811)</td>\n",
       "      <td>tensor(0.7484)</td>\n",
       "      <td>NaN</td>\n",
       "      <td>True</td>\n",
       "      <td>(86.434525, 225.67006)</td>\n",
       "      <td>tensor(0.1569)</td>\n",
       "      <td>tensor(0.2051)</td>\n",
       "      <td>tensor(0.4811)</td>\n",
       "      <td>tensor(0.7484)</td>\n",
       "      <td>tensor(0.9768)</td>\n",
       "    </tr>\n",
       "    <tr>\n",
       "      <th>run_069</th>\n",
       "      <td>0.001</td>\n",
       "      <td>10</td>\n",
       "      <td>8250</td>\n",
       "      <td>230.3394911289215</td>\n",
       "      <td>3804.024020910263</td>\n",
       "      <td>True</td>\n",
       "      <td>True</td>\n",
       "      <td>1.0000</td>\n",
       "      <td>0.06</td>\n",
       "      <td>10000</td>\n",
       "      <td>...</td>\n",
       "      <td>tensor(0.9768)</td>\n",
       "      <td>tensor(0.7484)</td>\n",
       "      <td>NaN</td>\n",
       "      <td>True</td>\n",
       "      <td>(3.9623501, 0.16485696)</td>\n",
       "      <td>tensor(0.8182)</td>\n",
       "      <td>tensor(0.7484)</td>\n",
       "      <td>tensor(0.9768)</td>\n",
       "      <td>tensor(0.7484)</td>\n",
       "      <td>tensor(0.9768)</td>\n",
       "    </tr>\n",
       "    <tr>\n",
       "      <th>run_070</th>\n",
       "      <td>0.001</td>\n",
       "      <td>10</td>\n",
       "      <td>8250</td>\n",
       "      <td>234.72769165039062</td>\n",
       "      <td>3800.9652016162872</td>\n",
       "      <td>True</td>\n",
       "      <td>True</td>\n",
       "      <td>1.0000</td>\n",
       "      <td>0.06</td>\n",
       "      <td>10000</td>\n",
       "      <td>...</td>\n",
       "      <td>tensor(0.9438)</td>\n",
       "      <td>tensor(0.7484)</td>\n",
       "      <td>NaN</td>\n",
       "      <td>True</td>\n",
       "      <td>(2669.9375, 10351.2295)</td>\n",
       "      <td>tensor(0.2769)</td>\n",
       "      <td>tensor(0.4897)</td>\n",
       "      <td>tensor(0.9438)</td>\n",
       "      <td>tensor(0.7484)</td>\n",
       "      <td>tensor(0.9768)</td>\n",
       "    </tr>\n",
       "    <tr>\n",
       "      <th>run_067</th>\n",
       "      <td>0.001</td>\n",
       "      <td>10</td>\n",
       "      <td>8250</td>\n",
       "      <td>229.43891167640686</td>\n",
       "      <td>3788.9626636505127</td>\n",
       "      <td>True</td>\n",
       "      <td>True</td>\n",
       "      <td>1.0000</td>\n",
       "      <td>0.06</td>\n",
       "      <td>10000</td>\n",
       "      <td>...</td>\n",
       "      <td>tensor(0.8168)</td>\n",
       "      <td>tensor(0.7484)</td>\n",
       "      <td>NaN</td>\n",
       "      <td>True</td>\n",
       "      <td>(4134.6177, 7061.3423)</td>\n",
       "      <td>tensor(0.2807)</td>\n",
       "      <td>tensor(0.4599)</td>\n",
       "      <td>tensor(0.8168)</td>\n",
       "      <td>tensor(0.7484)</td>\n",
       "      <td>tensor(0.9768)</td>\n",
       "    </tr>\n",
       "    <tr>\n",
       "      <th>run_066</th>\n",
       "      <td>0.001</td>\n",
       "      <td>10</td>\n",
       "      <td>8250</td>\n",
       "      <td>227.4786992073059</td>\n",
       "      <td>3781.4708325862885</td>\n",
       "      <td>True</td>\n",
       "      <td>True</td>\n",
       "      <td>1.0000</td>\n",
       "      <td>0.06</td>\n",
       "      <td>10000</td>\n",
       "      <td>...</td>\n",
       "      <td>tensor(0.9768)</td>\n",
       "      <td>tensor(0.7484)</td>\n",
       "      <td>NaN</td>\n",
       "      <td>True</td>\n",
       "      <td>(3.5781455, 0.10796198)</td>\n",
       "      <td>tensor(0.8182)</td>\n",
       "      <td>tensor(0.7484)</td>\n",
       "      <td>tensor(0.9768)</td>\n",
       "      <td>tensor(0.7484)</td>\n",
       "      <td>tensor(0.9768)</td>\n",
       "    </tr>\n",
       "    <tr>\n",
       "      <th>run_068</th>\n",
       "      <td>0.001</td>\n",
       "      <td>10</td>\n",
       "      <td>8250</td>\n",
       "      <td>234.31416654586792</td>\n",
       "      <td>3804.7210631370544</td>\n",
       "      <td>True</td>\n",
       "      <td>True</td>\n",
       "      <td>1.0000</td>\n",
       "      <td>0.06</td>\n",
       "      <td>10000</td>\n",
       "      <td>...</td>\n",
       "      <td>tensor(0.9768)</td>\n",
       "      <td>tensor(0.7484)</td>\n",
       "      <td>NaN</td>\n",
       "      <td>True</td>\n",
       "      <td>(3.6181388, 0.14265671)</td>\n",
       "      <td>tensor(0.8182)</td>\n",
       "      <td>tensor(0.7484)</td>\n",
       "      <td>tensor(0.9768)</td>\n",
       "      <td>tensor(0.7484)</td>\n",
       "      <td>tensor(0.9768)</td>\n",
       "    </tr>\n",
       "    <tr>\n",
       "      <th>run_080</th>\n",
       "      <td>0.001</td>\n",
       "      <td>10</td>\n",
       "      <td>8250</td>\n",
       "      <td>236.37458968162537</td>\n",
       "      <td>3500.0392401218414</td>\n",
       "      <td>True</td>\n",
       "      <td>True</td>\n",
       "      <td>10.0000</td>\n",
       "      <td>0.06</td>\n",
       "      <td>10000</td>\n",
       "      <td>...</td>\n",
       "      <td>tensor(0.9768)</td>\n",
       "      <td>tensor(0.7484)</td>\n",
       "      <td>NaN</td>\n",
       "      <td>True</td>\n",
       "      <td>(6.3253446, 0.16743822)</td>\n",
       "      <td>tensor(0.8182)</td>\n",
       "      <td>tensor(0.7484)</td>\n",
       "      <td>tensor(0.9768)</td>\n",
       "      <td>tensor(0.7484)</td>\n",
       "      <td>tensor(0.9768)</td>\n",
       "    </tr>\n",
       "    <tr>\n",
       "      <th>run_097</th>\n",
       "      <td>0.001</td>\n",
       "      <td>10</td>\n",
       "      <td>8250</td>\n",
       "      <td>207.47058415412903</td>\n",
       "      <td>3292.5003640651703</td>\n",
       "      <td>True</td>\n",
       "      <td>True</td>\n",
       "      <td>100.0000</td>\n",
       "      <td>0.06</td>\n",
       "      <td>10000</td>\n",
       "      <td>...</td>\n",
       "      <td>NaN</td>\n",
       "      <td>NaN</td>\n",
       "      <td>NaN</td>\n",
       "      <td>True</td>\n",
       "      <td>(4.2988367, 0.15594666)</td>\n",
       "      <td>tensor(0.8182)</td>\n",
       "      <td>tensor(0.7484)</td>\n",
       "      <td>tensor(0.9768)</td>\n",
       "      <td>tensor(0.7484)</td>\n",
       "      <td>tensor(0.9768)</td>\n",
       "    </tr>\n",
       "  </tbody>\n",
       "</table>\n",
       "<p>11 rows × 28 columns</p>\n",
       "</div>"
      ],
      "text/plain": [
       "        model_lr model_n_genes model_n_samples    pretraining_time  \\\n",
       "run_076    0.001            10            8250  235.56276631355286   \n",
       "run_077    0.001            10            8250  235.44326376914978   \n",
       "run_078    0.001            10            8250  237.68382334709167   \n",
       "run_079    0.001            10            8250  235.93827724456787   \n",
       "run_069    0.001            10            8250   230.3394911289215   \n",
       "run_070    0.001            10            8250  234.72769165039062   \n",
       "run_067    0.001            10            8250  229.43891167640686   \n",
       "run_066    0.001            10            8250   227.4786992073059   \n",
       "run_068    0.001            10            8250  234.31416654586792   \n",
       "run_080    0.001            10            8250  236.37458968162537   \n",
       "run_097    0.001            10            8250  207.47058415412903   \n",
       "\n",
       "              training_time compile trad_loading  scale_mask grn_noise_p  \\\n",
       "run_076     3832.0819003582    True         True      0.0001        0.06   \n",
       "run_077   3807.505375623703    True         True      0.0010        0.06   \n",
       "run_078  3826.9633762836456    True         True      0.0100        0.06   \n",
       "run_079   3808.831369161606    True         True      0.1000        0.06   \n",
       "run_069   3804.024020910263    True         True      1.0000        0.06   \n",
       "run_070  3800.9652016162872    True         True      1.0000        0.06   \n",
       "run_067  3788.9626636505127    True         True      1.0000        0.06   \n",
       "run_066  3781.4708325862885    True         True      1.0000        0.06   \n",
       "run_068  3804.7210631370544    True         True      1.0000        0.06   \n",
       "run_080  3500.0392401218414    True         True     10.0000        0.06   \n",
       "run_097  3292.5003640651703    True         True    100.0000        0.06   \n",
       "\n",
       "        n_epochs  ...           auroc prior_average_precision prior_auroc  \\\n",
       "run_076    10000  ...  tensor(0.5580)          tensor(0.7484)         NaN   \n",
       "run_077    10000  ...  tensor(0.6056)          tensor(0.7484)         NaN   \n",
       "run_078    10000  ...  tensor(0.6178)          tensor(0.7484)         NaN   \n",
       "run_079    10000  ...  tensor(0.4811)          tensor(0.7484)         NaN   \n",
       "run_069    10000  ...  tensor(0.9768)          tensor(0.7484)         NaN   \n",
       "run_070    10000  ...  tensor(0.9438)          tensor(0.7484)         NaN   \n",
       "run_067    10000  ...  tensor(0.8168)          tensor(0.7484)         NaN   \n",
       "run_066    10000  ...  tensor(0.9768)          tensor(0.7484)         NaN   \n",
       "run_068    10000  ...  tensor(0.9768)          tensor(0.7484)         NaN   \n",
       "run_080    10000  ...  tensor(0.9768)          tensor(0.7484)         NaN   \n",
       "run_097    10000  ...             NaN                     NaN         NaN   \n",
       "\n",
       "        model_use_latents                     nll_         max_f1_  \\\n",
       "run_076              True     (851.8771, 604.3623)  tensor(0.1562)   \n",
       "run_077              True    (2831.1484, 9890.095)  tensor(0.2264)   \n",
       "run_078              True   (3426.5625, 13279.297)  tensor(0.2449)   \n",
       "run_079              True   (86.434525, 225.67006)  tensor(0.1569)   \n",
       "run_069              True  (3.9623501, 0.16485696)  tensor(0.8182)   \n",
       "run_070              True  (2669.9375, 10351.2295)  tensor(0.2769)   \n",
       "run_067              True   (4134.6177, 7061.3423)  tensor(0.2807)   \n",
       "run_066              True  (3.5781455, 0.10796198)  tensor(0.8182)   \n",
       "run_068              True  (3.6181388, 0.14265671)  tensor(0.8182)   \n",
       "run_080              True  (6.3253446, 0.16743822)  tensor(0.8182)   \n",
       "run_097              True  (4.2988367, 0.15594666)  tensor(0.8182)   \n",
       "\n",
       "        average_precision_          auroc_ prior_average_precision_  \\\n",
       "run_076     tensor(0.1739)  tensor(0.5580)           tensor(0.7484)   \n",
       "run_077     tensor(0.1822)  tensor(0.6056)           tensor(0.7484)   \n",
       "run_078     tensor(0.3013)  tensor(0.6178)           tensor(0.7484)   \n",
       "run_079     tensor(0.2051)  tensor(0.4811)           tensor(0.7484)   \n",
       "run_069     tensor(0.7484)  tensor(0.9768)           tensor(0.7484)   \n",
       "run_070     tensor(0.4897)  tensor(0.9438)           tensor(0.7484)   \n",
       "run_067     tensor(0.4599)  tensor(0.8168)           tensor(0.7484)   \n",
       "run_066     tensor(0.7484)  tensor(0.9768)           tensor(0.7484)   \n",
       "run_068     tensor(0.7484)  tensor(0.9768)           tensor(0.7484)   \n",
       "run_080     tensor(0.7484)  tensor(0.9768)           tensor(0.7484)   \n",
       "run_097     tensor(0.7484)  tensor(0.9768)           tensor(0.7484)   \n",
       "\n",
       "             prior_auc_  \n",
       "run_076  tensor(0.9768)  \n",
       "run_077  tensor(0.9768)  \n",
       "run_078  tensor(0.9768)  \n",
       "run_079  tensor(0.9768)  \n",
       "run_069  tensor(0.9768)  \n",
       "run_070  tensor(0.9768)  \n",
       "run_067  tensor(0.9768)  \n",
       "run_066  tensor(0.9768)  \n",
       "run_068  tensor(0.9768)  \n",
       "run_080  tensor(0.9768)  \n",
       "run_097  tensor(0.9768)  \n",
       "\n",
       "[11 rows x 28 columns]"
      ]
     },
     "execution_count": 17,
     "metadata": {},
     "output_type": "execute_result"
    }
   ],
   "source": [
    "params"
   ]
  },
  {
   "cell_type": "code",
   "execution_count": 18,
   "id": "8d0191d4",
   "metadata": {},
   "outputs": [],
   "source": [
    "# detangle nll\n",
    "targets = [n for n in params.columns if n.startswith(\"nll\")]\n",
    "params[targets] = params[targets].map(lambda x: x[0] if isinstance(x,tuple) else x)"
   ]
  },
  {
   "cell_type": "code",
   "execution_count": 19,
   "id": "dfbe8c05",
   "metadata": {},
   "outputs": [
    {
     "name": "stderr",
     "output_type": "stream",
     "text": [
      "/tmp/ipykernel_1315886/241025633.py:3: FutureWarning: Series.__getitem__ treating keys as positions is deprecated. In a future version, integer keys will always be treated as labels (consistent with DataFrame behavior). To access a value by position, use `ser.iloc[pos]`\n",
      "  means = params.groupby(param_of_interest)[metrics].aggregate(lambda x: np.median(torch.tensor(x).numpy()))\n",
      "/tmp/ipykernel_1315886/241025633.py:4: FutureWarning: The provided callable <function std at 0x7ff7d5246ac0> is currently using DataFrameGroupBy.std. In a future version of pandas, the provided callable will be used directly. To keep current behavior pass the string \"std\" instead.\n",
      "  stds = params.groupby(param_of_interest)[metrics].aggregate(np.std)\n",
      "/tmp/ipykernel_1315886/241025633.py:7: SettingWithCopyWarning: \n",
      "A value is trying to be set on a copy of a slice from a DataFrame.\n",
      "Try using .loc[row_indexer,col_indexer] = value instead\n",
      "\n",
      "See the caveats in the documentation: https://pandas.pydata.org/pandas-docs/stable/user_guide/indexing.html#returning-a-view-versus-a-copy\n",
      "  params[\"log_nll_\"] = np.log(params[\"nll_\"])\n"
     ]
    }
   ],
   "source": [
    "params = params.dropna(axis=1, how = \"any\")\n",
    "metrics = [n for n in params.columns if n.endswith(\"_\")]\n",
    "means = params.groupby(param_of_interest)[metrics].aggregate(lambda x: np.median(torch.tensor(x).numpy()))\n",
    "stds = params.groupby(param_of_interest)[metrics].aggregate(np.std)\n",
    "if np.mean(means[\"nll_\"]) >10:\n",
    "    means[\"log_nll_\"] = np.log(means[\"nll_\"])\n",
    "    params[\"log_nll_\"] = np.log(params[\"nll_\"])\n",
    "    means = means.drop(columns=\"nll_\")"
   ]
  },
  {
   "cell_type": "code",
   "execution_count": 20,
   "id": "fca8b73d",
   "metadata": {},
   "outputs": [
    {
     "name": "stdout",
     "output_type": "stream",
     "text": [
      "saving to: presentation/scalefactor_papersem1_newmetrics_bar.pdf\n"
     ]
    },
    {
     "data": {
      "image/png": "[encoded data removed]",
      "text/plain": [
       "<Figure size 1000x500 with 1 Axes>"
      ]
     },
     "metadata": {},
     "output_type": "display_data"
    }
   ],
   "source": [
    "width = 0.1\n",
    "a = 0.005\n",
    "x = np.arange(means.shape[1])\n",
    "for i,row in means.iterrows():\n",
    "    y = row.values\n",
    "    plt.bar(x = x, height = y, label = row.name, width=width)\n",
    "    if not \"log_nll_\" in means.columns:\n",
    "        plt.errorbar(x = x, y = y, c = \"black\", yerr=stds.loc[i], fmt=\"none\")\n",
    "    x = x + width\n",
    "fig = plt.gcf()\n",
    "fig.set_size_inches(10, 5)\n",
    "\n",
    "plt.title(f\"{experiment}\")\n",
    "xticks = np.array(plt.xticks()[0])\n",
    "a = 0.05\n",
    "#for m, metric in enumerate(means.columns):\n",
    "#    bar_height = 0\n",
    "#    scores = means[metric]\n",
    "#    for c1, _ in enumerate(scores):\n",
    "#        y1 = params.query(f\"{param_of_interest} == '{scores.index[c1]}'\")[metric].apply(np.array)\n",
    "#        print(c1, y1)\n",
    "#        for c2, _ in enumerate(scores):\n",
    "#            y2 = params.query(f\"{param_of_interest} == '{scores.index[c2]}'\")[metric].apply(np.array)\n",
    "#\n",
    "#            if c1 >= c2:\n",
    "#                # continue when comparing same row\n",
    "#                continue\n",
    "#            print(c2, y2)\n",
    "#            p = np.round(ttest_rel(y1, y2).pvalue, 5)\n",
    "#            print(f\"p value of: {metric} in {scores.index[c1]} vs {scores.index[c2]} is {p}\")\n",
    "#            if p>a:\n",
    "#                # continue if not significant\n",
    "#                continue\n",
    "#            y_bar1 = np.max([y1, y2]) *(1.1+bar_height*0.2)\n",
    "#            y_bar2 = y_bar1 +0.1\n",
    "#            x1 = xticks[c1+1+m*len(scores)]\n",
    "#            x2 = xticks[c1+1+m*len(scores)]+width\n",
    "#            plt.plot(np.repeat([x1, x2], 2), np.array([y_bar1, y_bar2])[[0,1,1,0]], c = \"black\")\n",
    "#            y_text = y_bar2 +0.1\n",
    "#            x_text = np.mean([x1, x2])\n",
    "#            plt.ylim((0, y_text*1.1))\n",
    "#            p = f\"p value: {p}\"\n",
    "#            plt.text(x = x_text, y = y_text, s = p, ha=\"center\")\n",
    "#            bar_height += 1\n",
    "#            #plt.ylim((0, y_text*1.2))\n",
    "plt.plot([], [], \" \", label = param_of_interest + \":\")\n",
    "plt.legend()\n",
    "plt.xticks(ticks = np.arange(means.shape[1]) + width*(0.25*len(means)), labels=means.columns)\n",
    "if save:\n",
    "    path = Path(f\"./presentation/{experiment}_newmetrics_bar.pdf\")\n",
    "    print(f\"saving to: {path}\")\n",
    "    plt.savefig(path)\n",
    "    params.to_csv(path.parent/f\"{experiment}_newmetrics_bar.csv\")"
   ]
  },
  {
   "cell_type": "code",
   "execution_count": 136,
   "id": "fa05f629",
   "metadata": {},
   "outputs": [
    {
     "data": {
      "text/plain": [
       "21"
      ]
     },
     "execution_count": 136,
     "metadata": {},
     "output_type": "execute_result"
    }
   ],
   "source": [
    "len(model.test_gene_ko)"
   ]
  },
  {
   "cell_type": "code",
   "execution_count": 5,
   "id": "4fe1ebb4",
   "metadata": {},
   "outputs": [
    {
     "name": "stderr",
     "output_type": "stream",
     "text": [
      "/data/toulouse/miniforge3/envs/bicycle/lib/python3.11/site-packages/matplotlib/axes/_axes.py:1185: RuntimeWarning: All-NaN axis encountered\n",
      "  miny = np.nanmin(masked_verts[..., 1])\n",
      "/data/toulouse/miniforge3/envs/bicycle/lib/python3.11/site-packages/matplotlib/axes/_axes.py:1186: RuntimeWarning: All-NaN axis encountered\n",
      "  maxy = np.nanmax(masked_verts[..., 1])\n"
     ]
    },
    {
     "data": {
      "image/png": "[encoded data removed]",
      "text/plain": [
       "<Figure size 640x480 with 1 Axes>"
      ]
     },
     "metadata": {},
     "output_type": "display_data"
    },
    {
     "data": {
      "text/plain": [
       "Text(0, 0.5, 'Log-NLL')"
      ]
     },
     "execution_count": 5,
     "metadata": {},
     "output_type": "execute_result"
    },
    {
     "data": {
      "image/png": "[encoded data removed]",
      "text/plain": [
       "<Figure size 640x480 with 1 Axes>"
      ]
     },
     "metadata": {},
     "output_type": "display_data"
    }
   ],
   "source": [
    "# plot figures from paper\n",
    "# extract from np tuple\n",
    "pattern = re.compile(\"(?<=\\()\\d+\\.*\\d+(?=\\))\")\n",
    "# Sem1:\n",
    "config = \"linear-ou\"\n",
    "nll = params.query(f'data_sem == \"{config}\"')[\"nll\"]\n",
    "means = nll.map(lambda x: float(re.findall(pattern, x)[0]))\n",
    "errors = nll.map(lambda x: float(re.findall(pattern, x)[1]))\n",
    "mean = np.mean(means)\n",
    "error = np.sqrt(np.square(errors).sum())\n",
    "error = np.std(means)\n",
    "plt.bar(x = config, height=mean)\n",
    "plt.errorbar(x=config, y= mean, yerr=error, fmt=\"none\",c = \"red\", capsize=10)\n",
    "plt.show()\n",
    "config = \"linear\"\n",
    "nll = params.query(f'data_sem == \"{config}\"')[\"nll\"]\n",
    "means = nll.map(lambda x: float(re.findall(pattern, x)[0]))\n",
    "errors = nll.map(lambda x: float(re.findall(pattern, x)[1]))\n",
    "mean = np.mean(means)\n",
    "error = np.sqrt(np.square(errors).sum())\n",
    "error = np.std(means)\n",
    "plt.bar(x = config, height=mean)\n",
    "plt.errorbar(x=config, y= mean, yerr=error, fmt=\"none\",c = \"red\", capsize=10)\n",
    "\n",
    "plt.ylabel(\"Log-NLL\")"
   ]
  },
  {
   "cell_type": "code",
   "execution_count": 46,
   "id": "fe3ea725",
   "metadata": {},
   "outputs": [],
   "source": [
    "# transform functions\n",
    "pdt = torch.distributions.PositiveDefiniteTransform()\n",
    "def mat_prod(m):\n",
    "    # performs very badly\n",
    "    return torch.matmul(m, m.T)\n",
    "def cholesky(m):\n",
    "    transform = torch.distributions.LowerCholeskyTransform()\n",
    "    m_t = transform(m)\n",
    "    return m_t + m_t.T\n",
    "t_func = [pdt, cholesky]\n",
    "\n",
    "# distribution func\n",
    "def normal(z_bar, omega):\n",
    "    return torch.distributions.Normal(loc=z_bar, scale = torch.sqrt(torch.diag(omega)))\n",
    "def mvn(z_bar, omega):\n",
    "    return torch.distributions.MultivariateNormal(loc=z_bar, covariance_matrix=omega)\n",
    "dists = [normal, mvn]\n",
    "configs = [\n",
    "    {\n",
    "    \"compare_latents\":False,\n",
    "    \"latents_sampled\":False,\n",
    "    \"omega_transform\":None,\n",
    "    \"dist\":None\n",
    "    },\n",
    "    {\n",
    "    \"compare_latents\":True,\n",
    "    \"latents_sampled\":True,\n",
    "    \"omega_transform\":pdt,\n",
    "    \"dist\":normal,\n",
    "    }\n",
    "]\n",
    "configs2 = [\n",
    "    {\n",
    "    \"compare_latents\":False,\n",
    "    \"latents_sampled\":False,\n",
    "    \"omega_transform\":None,\n",
    "    \"dist\":None\n",
    "    },\n",
    "    {\n",
    "    \"compare_latents\":False,\n",
    "    \"latents_sampled\":False,\n",
    "    \"omega_transform\":pdt,\n",
    "    \"dist\":normal,\n",
    "    }\n",
    "]"
   ]
  },
  {
   "cell_type": "code",
   "execution_count": null,
   "id": "243eaa7d",
   "metadata": {},
   "outputs": [
    {
     "name": "stderr",
     "output_type": "stream",
     "text": [
      "GPU available: True (cuda), used: False\n",
      "TPU available: False, using: 0 TPU cores\n",
      "IPU available: False, using: 0 IPUs\n",
      "HPU available: False, using: 0 HPUs\n"
     ]
    },
    {
     "name": "stdout",
     "output_type": "stream",
     "text": [
      "run_062\n",
      "Iterator state: 0\n",
      "GT_INTERV.DEVICE: cpu\n",
      "setting device to: cpu\n"
     ]
    },
    {
     "name": "stderr",
     "output_type": "stream",
     "text": [
      "/data/toulouse/miniforge3/envs/bicycle/lib/python3.11/site-packages/pytorch_lightning/trainer/setup.py:176: PossibleUserWarning: GPU available but not used. Set `accelerator` and `devices` using `Trainer(accelerator='gpu', devices=2)`.\n",
      "  rank_zero_warn(\n",
      "/data/toulouse/miniforge3/envs/bicycle/lib/python3.11/site-packages/pytorch_lightning/trainer/connectors/data_connector.py:442: PossibleUserWarning: The dataloader, train_dataloader, does not have many workers which may be a bottleneck. Consider increasing the value of the `num_workers` argument` (try 64 which is the number of cpus on this machine) in the `DataLoader` init to improve performance.\n",
      "  rank_zero_warn(\n",
      "/data/toulouse/miniforge3/envs/bicycle/lib/python3.11/site-packages/pytorch_lightning/loops/fit_loop.py:281: PossibleUserWarning: The number of training batches (1) is smaller than the logging interval Trainer(log_every_n_steps=1000000). Set a lower value for log_every_n_steps if you want to see logs for the training epoch.\n",
      "  rank_zero_warn(\n",
      "`Trainer.fit` stopped: `max_epochs=1000` reached.\n",
      "GPU available: True (cuda), used: False\n",
      "TPU available: False, using: 0 TPU cores\n",
      "IPU available: False, using: 0 IPUs\n",
      "HPU available: False, using: 0 HPUs\n"
     ]
    },
    {
     "name": "stdout",
     "output_type": "stream",
     "text": [
      "Training took 0.39 seconds\n",
      "GT_INTERV.DEVICE: cpu\n",
      "setting device to: cpu\n"
     ]
    },
    {
     "name": "stderr",
     "output_type": "stream",
     "text": [
      "`Trainer.fit` stopped: `max_epochs=1000` reached.\n",
      "GPU available: True (cuda), used: False\n",
      "TPU available: False, using: 0 TPU cores\n",
      "IPU available: False, using: 0 IPUs\n",
      "HPU available: False, using: 0 HPUs\n"
     ]
    },
    {
     "name": "stdout",
     "output_type": "stream",
     "text": [
      "Training took 0.38 seconds\n",
      "GT_INTERV.DEVICE: cpu\n",
      "setting device to: cpu\n"
     ]
    },
    {
     "name": "stderr",
     "output_type": "stream",
     "text": [
      "`Trainer.fit` stopped: `max_epochs=1000` reached.\n",
      "GPU available: True (cuda), used: False\n",
      "TPU available: False, using: 0 TPU cores\n",
      "IPU available: False, using: 0 IPUs\n",
      "HPU available: False, using: 0 HPUs\n"
     ]
    },
    {
     "name": "stdout",
     "output_type": "stream",
     "text": [
      "Training took 0.37 seconds\n",
      "GT_INTERV.DEVICE: cpu\n",
      "setting device to: cpu\n"
     ]
    },
    {
     "name": "stderr",
     "output_type": "stream",
     "text": [
      "`Trainer.fit` stopped: `max_epochs=1000` reached.\n",
      "GPU available: True (cuda), used: False\n",
      "TPU available: False, using: 0 TPU cores\n",
      "IPU available: False, using: 0 IPUs\n",
      "HPU available: False, using: 0 HPUs\n"
     ]
    },
    {
     "name": "stdout",
     "output_type": "stream",
     "text": [
      "Training took 0.37 seconds\n",
      "GT_INTERV.DEVICE: cpu\n",
      "setting device to: cpu\n"
     ]
    },
    {
     "name": "stderr",
     "output_type": "stream",
     "text": [
      "`Trainer.fit` stopped: `max_epochs=1000` reached.\n",
      "GPU available: True (cuda), used: False\n",
      "TPU available: False, using: 0 TPU cores\n",
      "IPU available: False, using: 0 IPUs\n",
      "HPU available: False, using: 0 HPUs\n"
     ]
    },
    {
     "name": "stdout",
     "output_type": "stream",
     "text": [
      "Training took 0.37 seconds\n",
      "GT_INTERV.DEVICE: cpu\n",
      "setting device to: cpu\n"
     ]
    },
    {
     "name": "stderr",
     "output_type": "stream",
     "text": [
      "`Trainer.fit` stopped: `max_epochs=1000` reached.\n",
      "GPU available: True (cuda), used: False\n",
      "TPU available: False, using: 0 TPU cores\n",
      "IPU available: False, using: 0 IPUs\n",
      "HPU available: False, using: 0 HPUs\n"
     ]
    },
    {
     "name": "stdout",
     "output_type": "stream",
     "text": [
      "Training took 0.37 seconds\n",
      "GT_INTERV.DEVICE: cpu\n",
      "setting device to: cpu\n"
     ]
    },
    {
     "name": "stderr",
     "output_type": "stream",
     "text": [
      "`Trainer.fit` stopped: `max_epochs=1000` reached.\n",
      "GPU available: True (cuda), used: False\n",
      "TPU available: False, using: 0 TPU cores\n",
      "IPU available: False, using: 0 IPUs\n",
      "HPU available: False, using: 0 HPUs\n"
     ]
    },
    {
     "name": "stdout",
     "output_type": "stream",
     "text": [
      "Training took 0.37 seconds\n",
      "GT_INTERV.DEVICE: cpu\n",
      "setting device to: cpu\n"
     ]
    },
    {
     "name": "stderr",
     "output_type": "stream",
     "text": [
      "`Trainer.fit` stopped: `max_epochs=1000` reached.\n",
      "GPU available: True (cuda), used: False\n",
      "TPU available: False, using: 0 TPU cores\n",
      "IPU available: False, using: 0 IPUs\n",
      "HPU available: False, using: 0 HPUs\n"
     ]
    },
    {
     "name": "stdout",
     "output_type": "stream",
     "text": [
      "Training took 0.37 seconds\n",
      "GT_INTERV.DEVICE: cpu\n",
      "setting device to: cpu\n"
     ]
    },
    {
     "name": "stderr",
     "output_type": "stream",
     "text": [
      "`Trainer.fit` stopped: `max_epochs=1000` reached.\n",
      "GPU available: True (cuda), used: False\n",
      "TPU available: False, using: 0 TPU cores\n",
      "IPU available: False, using: 0 IPUs\n",
      "HPU available: False, using: 0 HPUs\n"
     ]
    },
    {
     "name": "stdout",
     "output_type": "stream",
     "text": [
      "Training took 0.38 seconds\n",
      "GT_INTERV.DEVICE: cpu\n",
      "setting device to: cpu\n"
     ]
    },
    {
     "name": "stderr",
     "output_type": "stream",
     "text": [
      "`Trainer.fit` stopped: `max_epochs=1000` reached.\n",
      "GPU available: True (cuda), used: False\n",
      "TPU available: False, using: 0 TPU cores\n",
      "IPU available: False, using: 0 IPUs\n",
      "HPU available: False, using: 0 HPUs\n"
     ]
    },
    {
     "name": "stdout",
     "output_type": "stream",
     "text": [
      "Training took 0.37 seconds\n",
      "GT_INTERV.DEVICE: cpu\n",
      "setting device to: cpu\n"
     ]
    },
    {
     "name": "stderr",
     "output_type": "stream",
     "text": [
      "`Trainer.fit` stopped: `max_epochs=1000` reached.\n",
      "GPU available: True (cuda), used: False\n",
      "TPU available: False, using: 0 TPU cores\n",
      "IPU available: False, using: 0 IPUs\n",
      "HPU available: False, using: 0 HPUs\n"
     ]
    },
    {
     "name": "stdout",
     "output_type": "stream",
     "text": [
      "Training took 0.37 seconds\n",
      "GT_INTERV.DEVICE: cpu\n",
      "setting device to: cpu\n"
     ]
    },
    {
     "name": "stderr",
     "output_type": "stream",
     "text": [
      "`Trainer.fit` stopped: `max_epochs=1000` reached.\n",
      "GPU available: True (cuda), used: False\n",
      "TPU available: False, using: 0 TPU cores\n",
      "IPU available: False, using: 0 IPUs\n",
      "HPU available: False, using: 0 HPUs\n"
     ]
    },
    {
     "name": "stdout",
     "output_type": "stream",
     "text": [
      "Training took 0.37 seconds\n",
      "GT_INTERV.DEVICE: cpu\n",
      "setting device to: cpu\n"
     ]
    },
    {
     "name": "stderr",
     "output_type": "stream",
     "text": [
      "`Trainer.fit` stopped: `max_epochs=1000` reached.\n",
      "GPU available: True (cuda), used: False\n",
      "TPU available: False, using: 0 TPU cores\n",
      "IPU available: False, using: 0 IPUs\n",
      "HPU available: False, using: 0 HPUs\n"
     ]
    },
    {
     "name": "stdout",
     "output_type": "stream",
     "text": [
      "Training took 0.37 seconds\n",
      "GT_INTERV.DEVICE: cpu\n",
      "setting device to: cpu\n"
     ]
    },
    {
     "name": "stderr",
     "output_type": "stream",
     "text": [
      "`Trainer.fit` stopped: `max_epochs=1000` reached.\n",
      "GPU available: True (cuda), used: False\n",
      "TPU available: False, using: 0 TPU cores\n",
      "IPU available: False, using: 0 IPUs\n",
      "HPU available: False, using: 0 HPUs\n"
     ]
    },
    {
     "name": "stdout",
     "output_type": "stream",
     "text": [
      "Training took 0.37 seconds\n",
      "GT_INTERV.DEVICE: cpu\n",
      "setting device to: cpu\n"
     ]
    },
    {
     "name": "stderr",
     "output_type": "stream",
     "text": [
      "`Trainer.fit` stopped: `max_epochs=1000` reached.\n",
      "GPU available: True (cuda), used: False\n",
      "TPU available: False, using: 0 TPU cores\n",
      "IPU available: False, using: 0 IPUs\n",
      "HPU available: False, using: 0 HPUs\n"
     ]
    },
    {
     "name": "stdout",
     "output_type": "stream",
     "text": [
      "Training took 0.38 seconds\n",
      "GT_INTERV.DEVICE: cpu\n",
      "setting device to: cpu\n"
     ]
    },
    {
     "name": "stderr",
     "output_type": "stream",
     "text": [
      "`Trainer.fit` stopped: `max_epochs=1000` reached.\n",
      "GPU available: True (cuda), used: False\n",
      "TPU available: False, using: 0 TPU cores\n",
      "IPU available: False, using: 0 IPUs\n",
      "HPU available: False, using: 0 HPUs\n"
     ]
    },
    {
     "name": "stdout",
     "output_type": "stream",
     "text": [
      "Training took 0.37 seconds\n",
      "GT_INTERV.DEVICE: cpu\n",
      "setting device to: cpu\n"
     ]
    },
    {
     "name": "stderr",
     "output_type": "stream",
     "text": [
      "`Trainer.fit` stopped: `max_epochs=1000` reached.\n",
      "GPU available: True (cuda), used: False\n",
      "TPU available: False, using: 0 TPU cores\n",
      "IPU available: False, using: 0 IPUs\n",
      "HPU available: False, using: 0 HPUs\n"
     ]
    },
    {
     "name": "stdout",
     "output_type": "stream",
     "text": [
      "Training took 0.37 seconds\n",
      "GT_INTERV.DEVICE: cpu\n",
      "setting device to: cpu\n"
     ]
    },
    {
     "name": "stderr",
     "output_type": "stream",
     "text": [
      "`Trainer.fit` stopped: `max_epochs=1000` reached.\n",
      "GPU available: True (cuda), used: False\n",
      "TPU available: False, using: 0 TPU cores\n",
      "IPU available: False, using: 0 IPUs\n",
      "HPU available: False, using: 0 HPUs\n"
     ]
    },
    {
     "name": "stdout",
     "output_type": "stream",
     "text": [
      "Training took 0.37 seconds\n",
      "GT_INTERV.DEVICE: cpu\n",
      "setting device to: cpu\n"
     ]
    },
    {
     "name": "stderr",
     "output_type": "stream",
     "text": [
      "`Trainer.fit` stopped: `max_epochs=1000` reached.\n",
      "GPU available: True (cuda), used: False\n",
      "TPU available: False, using: 0 TPU cores\n",
      "IPU available: False, using: 0 IPUs\n",
      "HPU available: False, using: 0 HPUs\n"
     ]
    },
    {
     "name": "stdout",
     "output_type": "stream",
     "text": [
      "Training took 0.37 seconds\n",
      "GT_INTERV.DEVICE: cpu\n",
      "setting device to: cpu\n"
     ]
    },
    {
     "name": "stderr",
     "output_type": "stream",
     "text": [
      "`Trainer.fit` stopped: `max_epochs=1000` reached.\n",
      "GPU available: True (cuda), used: False\n",
      "TPU available: False, using: 0 TPU cores\n",
      "IPU available: False, using: 0 IPUs\n",
      "HPU available: False, using: 0 HPUs\n"
     ]
    },
    {
     "name": "stdout",
     "output_type": "stream",
     "text": [
      "Training took 0.37 seconds\n",
      "GT_INTERV.DEVICE: cpu\n",
      "setting device to: cpu\n"
     ]
    },
    {
     "name": "stderr",
     "output_type": "stream",
     "text": [
      "`Trainer.fit` stopped: `max_epochs=1000` reached.\n",
      "GPU available: True (cuda), used: False\n",
      "TPU available: False, using: 0 TPU cores\n",
      "IPU available: False, using: 0 IPUs\n",
      "HPU available: False, using: 0 HPUs\n"
     ]
    },
    {
     "name": "stdout",
     "output_type": "stream",
     "text": [
      "Training took 0.38 seconds\n",
      "Iterator state: 1\n",
      "GT_INTERV.DEVICE: cpu\n",
      "setting device to: cpu\n"
     ]
    },
    {
     "name": "stderr",
     "output_type": "stream",
     "text": [
      "`Trainer.fit` stopped: `max_epochs=1000` reached.\n",
      "GPU available: True (cuda), used: False\n",
      "TPU available: False, using: 0 TPU cores\n",
      "IPU available: False, using: 0 IPUs\n",
      "HPU available: False, using: 0 HPUs\n"
     ]
    },
    {
     "name": "stdout",
     "output_type": "stream",
     "text": [
      "Training took 0.45 seconds\n",
      "GT_INTERV.DEVICE: cpu\n",
      "setting device to: cpu\n"
     ]
    },
    {
     "name": "stderr",
     "output_type": "stream",
     "text": [
      "`Trainer.fit` stopped: `max_epochs=1000` reached.\n",
      "GPU available: True (cuda), used: False\n",
      "TPU available: False, using: 0 TPU cores\n",
      "IPU available: False, using: 0 IPUs\n",
      "HPU available: False, using: 0 HPUs\n"
     ]
    },
    {
     "name": "stdout",
     "output_type": "stream",
     "text": [
      "Training took 0.46 seconds\n",
      "GT_INTERV.DEVICE: cpu\n",
      "setting device to: cpu\n"
     ]
    },
    {
     "name": "stderr",
     "output_type": "stream",
     "text": [
      "`Trainer.fit` stopped: `max_epochs=1000` reached.\n",
      "GPU available: True (cuda), used: False\n",
      "TPU available: False, using: 0 TPU cores\n",
      "IPU available: False, using: 0 IPUs\n",
      "HPU available: False, using: 0 HPUs\n"
     ]
    },
    {
     "name": "stdout",
     "output_type": "stream",
     "text": [
      "Training took 0.45 seconds\n",
      "GT_INTERV.DEVICE: cpu\n",
      "setting device to: cpu\n"
     ]
    },
    {
     "name": "stderr",
     "output_type": "stream",
     "text": [
      "`Trainer.fit` stopped: `max_epochs=1000` reached.\n",
      "GPU available: True (cuda), used: False\n",
      "TPU available: False, using: 0 TPU cores\n",
      "IPU available: False, using: 0 IPUs\n",
      "HPU available: False, using: 0 HPUs\n"
     ]
    },
    {
     "name": "stdout",
     "output_type": "stream",
     "text": [
      "Training took 0.46 seconds\n",
      "GT_INTERV.DEVICE: cpu\n",
      "setting device to: cpu\n"
     ]
    },
    {
     "name": "stderr",
     "output_type": "stream",
     "text": [
      "`Trainer.fit` stopped: `max_epochs=1000` reached.\n",
      "GPU available: True (cuda), used: False\n",
      "TPU available: False, using: 0 TPU cores\n",
      "IPU available: False, using: 0 IPUs\n",
      "HPU available: False, using: 0 HPUs\n"
     ]
    },
    {
     "name": "stdout",
     "output_type": "stream",
     "text": [
      "Training took 0.46 seconds\n",
      "GT_INTERV.DEVICE: cpu\n",
      "setting device to: cpu\n"
     ]
    },
    {
     "name": "stderr",
     "output_type": "stream",
     "text": [
      "`Trainer.fit` stopped: `max_epochs=1000` reached.\n",
      "GPU available: True (cuda), used: False\n",
      "TPU available: False, using: 0 TPU cores\n",
      "IPU available: False, using: 0 IPUs\n",
      "HPU available: False, using: 0 HPUs\n"
     ]
    },
    {
     "name": "stdout",
     "output_type": "stream",
     "text": [
      "Training took 0.45 seconds\n",
      "GT_INTERV.DEVICE: cpu\n",
      "setting device to: cpu\n"
     ]
    },
    {
     "name": "stderr",
     "output_type": "stream",
     "text": [
      "`Trainer.fit` stopped: `max_epochs=1000` reached.\n",
      "GPU available: True (cuda), used: False\n",
      "TPU available: False, using: 0 TPU cores\n",
      "IPU available: False, using: 0 IPUs\n",
      "HPU available: False, using: 0 HPUs\n"
     ]
    },
    {
     "name": "stdout",
     "output_type": "stream",
     "text": [
      "Training took 0.46 seconds\n",
      "GT_INTERV.DEVICE: cpu\n",
      "setting device to: cpu\n"
     ]
    },
    {
     "name": "stderr",
     "output_type": "stream",
     "text": [
      "`Trainer.fit` stopped: `max_epochs=1000` reached.\n",
      "GPU available: True (cuda), used: False\n",
      "TPU available: False, using: 0 TPU cores\n",
      "IPU available: False, using: 0 IPUs\n",
      "HPU available: False, using: 0 HPUs\n"
     ]
    },
    {
     "name": "stdout",
     "output_type": "stream",
     "text": [
      "Training took 0.46 seconds\n",
      "GT_INTERV.DEVICE: cpu\n",
      "setting device to: cpu\n"
     ]
    },
    {
     "name": "stderr",
     "output_type": "stream",
     "text": [
      "`Trainer.fit` stopped: `max_epochs=1000` reached.\n",
      "GPU available: True (cuda), used: False\n",
      "TPU available: False, using: 0 TPU cores\n",
      "IPU available: False, using: 0 IPUs\n",
      "HPU available: False, using: 0 HPUs\n"
     ]
    },
    {
     "name": "stdout",
     "output_type": "stream",
     "text": [
      "Training took 0.46 seconds\n",
      "GT_INTERV.DEVICE: cpu\n",
      "setting device to: cpu\n"
     ]
    },
    {
     "name": "stderr",
     "output_type": "stream",
     "text": [
      "`Trainer.fit` stopped: `max_epochs=1000` reached.\n",
      "GPU available: True (cuda), used: False\n",
      "TPU available: False, using: 0 TPU cores\n",
      "IPU available: False, using: 0 IPUs\n",
      "HPU available: False, using: 0 HPUs\n"
     ]
    },
    {
     "name": "stdout",
     "output_type": "stream",
     "text": [
      "Training took 0.46 seconds\n",
      "GT_INTERV.DEVICE: cpu\n",
      "setting device to: cpu\n"
     ]
    },
    {
     "name": "stderr",
     "output_type": "stream",
     "text": [
      "`Trainer.fit` stopped: `max_epochs=1000` reached.\n",
      "GPU available: True (cuda), used: False\n",
      "TPU available: False, using: 0 TPU cores\n",
      "IPU available: False, using: 0 IPUs\n",
      "HPU available: False, using: 0 HPUs\n"
     ]
    },
    {
     "name": "stdout",
     "output_type": "stream",
     "text": [
      "Training took 0.46 seconds\n",
      "GT_INTERV.DEVICE: cpu\n",
      "setting device to: cpu\n"
     ]
    },
    {
     "name": "stderr",
     "output_type": "stream",
     "text": [
      "`Trainer.fit` stopped: `max_epochs=1000` reached.\n",
      "GPU available: True (cuda), used: False\n",
      "TPU available: False, using: 0 TPU cores\n",
      "IPU available: False, using: 0 IPUs\n",
      "HPU available: False, using: 0 HPUs\n"
     ]
    },
    {
     "name": "stdout",
     "output_type": "stream",
     "text": [
      "Training took 0.46 seconds\n",
      "GT_INTERV.DEVICE: cpu\n",
      "setting device to: cpu\n"
     ]
    },
    {
     "name": "stderr",
     "output_type": "stream",
     "text": [
      "`Trainer.fit` stopped: `max_epochs=1000` reached.\n",
      "GPU available: True (cuda), used: False\n",
      "TPU available: False, using: 0 TPU cores\n",
      "IPU available: False, using: 0 IPUs\n",
      "HPU available: False, using: 0 HPUs\n"
     ]
    },
    {
     "name": "stdout",
     "output_type": "stream",
     "text": [
      "Training took 0.54 seconds\n",
      "GT_INTERV.DEVICE: cpu\n",
      "setting device to: cpu\n"
     ]
    },
    {
     "name": "stderr",
     "output_type": "stream",
     "text": [
      "`Trainer.fit` stopped: `max_epochs=1000` reached.\n",
      "GPU available: True (cuda), used: False\n",
      "TPU available: False, using: 0 TPU cores\n",
      "IPU available: False, using: 0 IPUs\n",
      "HPU available: False, using: 0 HPUs\n"
     ]
    },
    {
     "name": "stdout",
     "output_type": "stream",
     "text": [
      "Training took 0.54 seconds\n",
      "GT_INTERV.DEVICE: cpu\n",
      "setting device to: cpu\n"
     ]
    },
    {
     "name": "stderr",
     "output_type": "stream",
     "text": [
      "`Trainer.fit` stopped: `max_epochs=1000` reached.\n",
      "GPU available: True (cuda), used: False\n",
      "TPU available: False, using: 0 TPU cores\n",
      "IPU available: False, using: 0 IPUs\n",
      "HPU available: False, using: 0 HPUs\n"
     ]
    },
    {
     "name": "stdout",
     "output_type": "stream",
     "text": [
      "Training took 0.54 seconds\n",
      "GT_INTERV.DEVICE: cpu\n",
      "setting device to: cpu\n"
     ]
    },
    {
     "name": "stderr",
     "output_type": "stream",
     "text": [
      "`Trainer.fit` stopped: `max_epochs=1000` reached.\n",
      "GPU available: True (cuda), used: False\n",
      "TPU available: False, using: 0 TPU cores\n",
      "IPU available: False, using: 0 IPUs\n",
      "HPU available: False, using: 0 HPUs\n"
     ]
    },
    {
     "name": "stdout",
     "output_type": "stream",
     "text": [
      "Training took 0.54 seconds\n",
      "GT_INTERV.DEVICE: cpu\n",
      "setting device to: cpu\n"
     ]
    },
    {
     "name": "stderr",
     "output_type": "stream",
     "text": [
      "`Trainer.fit` stopped: `max_epochs=1000` reached.\n",
      "GPU available: True (cuda), used: False\n",
      "TPU available: False, using: 0 TPU cores\n",
      "IPU available: False, using: 0 IPUs\n",
      "HPU available: False, using: 0 HPUs\n"
     ]
    },
    {
     "name": "stdout",
     "output_type": "stream",
     "text": [
      "Training took 0.54 seconds\n",
      "GT_INTERV.DEVICE: cpu\n",
      "setting device to: cpu\n"
     ]
    },
    {
     "name": "stderr",
     "output_type": "stream",
     "text": [
      "`Trainer.fit` stopped: `max_epochs=1000` reached.\n",
      "GPU available: True (cuda), used: False\n",
      "TPU available: False, using: 0 TPU cores\n",
      "IPU available: False, using: 0 IPUs\n",
      "HPU available: False, using: 0 HPUs\n"
     ]
    },
    {
     "name": "stdout",
     "output_type": "stream",
     "text": [
      "Training took 0.54 seconds\n",
      "GT_INTERV.DEVICE: cpu\n",
      "setting device to: cpu\n"
     ]
    },
    {
     "name": "stderr",
     "output_type": "stream",
     "text": [
      "`Trainer.fit` stopped: `max_epochs=1000` reached.\n",
      "GPU available: True (cuda), used: False\n",
      "TPU available: False, using: 0 TPU cores\n",
      "IPU available: False, using: 0 IPUs\n",
      "HPU available: False, using: 0 HPUs\n"
     ]
    },
    {
     "name": "stdout",
     "output_type": "stream",
     "text": [
      "Training took 0.54 seconds\n",
      "GT_INTERV.DEVICE: cpu\n",
      "setting device to: cpu\n"
     ]
    },
    {
     "name": "stderr",
     "output_type": "stream",
     "text": [
      "`Trainer.fit` stopped: `max_epochs=1000` reached.\n",
      "GPU available: True (cuda), used: False\n",
      "TPU available: False, using: 0 TPU cores\n",
      "IPU available: False, using: 0 IPUs\n",
      "HPU available: False, using: 0 HPUs\n"
     ]
    },
    {
     "name": "stdout",
     "output_type": "stream",
     "text": [
      "Training took 0.55 seconds\n",
      "GT_INTERV.DEVICE: cpu\n",
      "setting device to: cpu\n"
     ]
    },
    {
     "name": "stderr",
     "output_type": "stream",
     "text": [
      "`Trainer.fit` stopped: `max_epochs=1000` reached.\n"
     ]
    },
    {
     "name": "stdout",
     "output_type": "stream",
     "text": [
      "Training took 0.54 seconds\n",
      "run_065\n"
     ]
    },
    {
     "name": "stderr",
     "output_type": "stream",
     "text": [
      "GPU available: True (cuda), used: False\n",
      "TPU available: False, using: 0 TPU cores\n",
      "IPU available: False, using: 0 IPUs\n",
      "HPU available: False, using: 0 HPUs\n"
     ]
    },
    {
     "name": "stdout",
     "output_type": "stream",
     "text": [
      "Iterator state: 0\n",
      "GT_INTERV.DEVICE: cpu\n",
      "setting device to: cpu\n"
     ]
    },
    {
     "name": "stderr",
     "output_type": "stream",
     "text": [
      "`Trainer.fit` stopped: `max_epochs=1000` reached.\n",
      "GPU available: True (cuda), used: False\n",
      "TPU available: False, using: 0 TPU cores\n",
      "IPU available: False, using: 0 IPUs\n",
      "HPU available: False, using: 0 HPUs\n"
     ]
    },
    {
     "name": "stdout",
     "output_type": "stream",
     "text": [
      "Training took 0.40 seconds\n",
      "GT_INTERV.DEVICE: cpu\n",
      "setting device to: cpu\n"
     ]
    },
    {
     "name": "stderr",
     "output_type": "stream",
     "text": [
      "`Trainer.fit` stopped: `max_epochs=1000` reached.\n",
      "GPU available: True (cuda), used: False\n",
      "TPU available: False, using: 0 TPU cores\n",
      "IPU available: False, using: 0 IPUs\n",
      "HPU available: False, using: 0 HPUs\n"
     ]
    },
    {
     "name": "stdout",
     "output_type": "stream",
     "text": [
      "Training took 0.38 seconds\n",
      "GT_INTERV.DEVICE: cpu\n",
      "setting device to: cpu\n"
     ]
    },
    {
     "name": "stderr",
     "output_type": "stream",
     "text": [
      "`Trainer.fit` stopped: `max_epochs=1000` reached.\n",
      "GPU available: True (cuda), used: False\n",
      "TPU available: False, using: 0 TPU cores\n",
      "IPU available: False, using: 0 IPUs\n",
      "HPU available: False, using: 0 HPUs\n"
     ]
    },
    {
     "name": "stdout",
     "output_type": "stream",
     "text": [
      "Training took 0.38 seconds\n",
      "GT_INTERV.DEVICE: cpu\n",
      "setting device to: cpu\n"
     ]
    },
    {
     "name": "stderr",
     "output_type": "stream",
     "text": [
      "`Trainer.fit` stopped: `max_epochs=1000` reached.\n",
      "GPU available: True (cuda), used: False\n",
      "TPU available: False, using: 0 TPU cores\n",
      "IPU available: False, using: 0 IPUs\n",
      "HPU available: False, using: 0 HPUs\n"
     ]
    },
    {
     "name": "stdout",
     "output_type": "stream",
     "text": [
      "Training took 0.38 seconds\n",
      "GT_INTERV.DEVICE: cpu\n",
      "setting device to: cpu\n"
     ]
    },
    {
     "name": "stderr",
     "output_type": "stream",
     "text": [
      "`Trainer.fit` stopped: `max_epochs=1000` reached.\n",
      "GPU available: True (cuda), used: False\n",
      "TPU available: False, using: 0 TPU cores\n",
      "IPU available: False, using: 0 IPUs\n",
      "HPU available: False, using: 0 HPUs\n"
     ]
    },
    {
     "name": "stdout",
     "output_type": "stream",
     "text": [
      "Training took 0.38 seconds\n",
      "GT_INTERV.DEVICE: cpu\n",
      "setting device to: cpu\n"
     ]
    },
    {
     "name": "stderr",
     "output_type": "stream",
     "text": [
      "`Trainer.fit` stopped: `max_epochs=1000` reached.\n",
      "GPU available: True (cuda), used: False\n",
      "TPU available: False, using: 0 TPU cores\n",
      "IPU available: False, using: 0 IPUs\n",
      "HPU available: False, using: 0 HPUs\n"
     ]
    },
    {
     "name": "stdout",
     "output_type": "stream",
     "text": [
      "Training took 0.38 seconds\n",
      "GT_INTERV.DEVICE: cpu\n",
      "setting device to: cpu\n"
     ]
    },
    {
     "name": "stderr",
     "output_type": "stream",
     "text": [
      "`Trainer.fit` stopped: `max_epochs=1000` reached.\n",
      "GPU available: True (cuda), used: False\n",
      "TPU available: False, using: 0 TPU cores\n",
      "IPU available: False, using: 0 IPUs\n",
      "HPU available: False, using: 0 HPUs\n"
     ]
    },
    {
     "name": "stdout",
     "output_type": "stream",
     "text": [
      "Training took 0.38 seconds\n",
      "GT_INTERV.DEVICE: cpu\n",
      "setting device to: cpu\n"
     ]
    },
    {
     "name": "stderr",
     "output_type": "stream",
     "text": [
      "`Trainer.fit` stopped: `max_epochs=1000` reached.\n",
      "GPU available: True (cuda), used: False\n",
      "TPU available: False, using: 0 TPU cores\n",
      "IPU available: False, using: 0 IPUs\n",
      "HPU available: False, using: 0 HPUs\n"
     ]
    },
    {
     "name": "stdout",
     "output_type": "stream",
     "text": [
      "Training took 0.38 seconds\n",
      "GT_INTERV.DEVICE: cpu\n",
      "setting device to: cpu\n"
     ]
    },
    {
     "name": "stderr",
     "output_type": "stream",
     "text": [
      "`Trainer.fit` stopped: `max_epochs=1000` reached.\n",
      "GPU available: True (cuda), used: False\n",
      "TPU available: False, using: 0 TPU cores\n",
      "IPU available: False, using: 0 IPUs\n",
      "HPU available: False, using: 0 HPUs\n"
     ]
    },
    {
     "name": "stdout",
     "output_type": "stream",
     "text": [
      "Training took 0.38 seconds\n",
      "GT_INTERV.DEVICE: cpu\n",
      "setting device to: cpu\n"
     ]
    },
    {
     "name": "stderr",
     "output_type": "stream",
     "text": [
      "`Trainer.fit` stopped: `max_epochs=1000` reached.\n",
      "GPU available: True (cuda), used: False\n",
      "TPU available: False, using: 0 TPU cores\n",
      "IPU available: False, using: 0 IPUs\n",
      "HPU available: False, using: 0 HPUs\n"
     ]
    },
    {
     "name": "stdout",
     "output_type": "stream",
     "text": [
      "Training took 0.38 seconds\n",
      "GT_INTERV.DEVICE: cpu\n",
      "setting device to: cpu\n"
     ]
    },
    {
     "name": "stderr",
     "output_type": "stream",
     "text": [
      "`Trainer.fit` stopped: `max_epochs=1000` reached.\n",
      "GPU available: True (cuda), used: False\n",
      "TPU available: False, using: 0 TPU cores\n",
      "IPU available: False, using: 0 IPUs\n",
      "HPU available: False, using: 0 HPUs\n"
     ]
    },
    {
     "name": "stdout",
     "output_type": "stream",
     "text": [
      "Training took 0.38 seconds\n",
      "GT_INTERV.DEVICE: cpu\n",
      "setting device to: cpu\n"
     ]
    },
    {
     "name": "stderr",
     "output_type": "stream",
     "text": [
      "`Trainer.fit` stopped: `max_epochs=1000` reached.\n",
      "GPU available: True (cuda), used: False\n",
      "TPU available: False, using: 0 TPU cores\n",
      "IPU available: False, using: 0 IPUs\n",
      "HPU available: False, using: 0 HPUs\n"
     ]
    },
    {
     "name": "stdout",
     "output_type": "stream",
     "text": [
      "Training took 0.38 seconds\n",
      "GT_INTERV.DEVICE: cpu\n",
      "setting device to: cpu\n"
     ]
    },
    {
     "name": "stderr",
     "output_type": "stream",
     "text": [
      "`Trainer.fit` stopped: `max_epochs=1000` reached.\n",
      "GPU available: True (cuda), used: False\n",
      "TPU available: False, using: 0 TPU cores\n",
      "IPU available: False, using: 0 IPUs\n",
      "HPU available: False, using: 0 HPUs\n"
     ]
    },
    {
     "name": "stdout",
     "output_type": "stream",
     "text": [
      "Training took 0.38 seconds\n",
      "GT_INTERV.DEVICE: cpu\n",
      "setting device to: cpu\n"
     ]
    },
    {
     "name": "stderr",
     "output_type": "stream",
     "text": [
      "`Trainer.fit` stopped: `max_epochs=1000` reached.\n",
      "GPU available: True (cuda), used: False\n",
      "TPU available: False, using: 0 TPU cores\n",
      "IPU available: False, using: 0 IPUs\n",
      "HPU available: False, using: 0 HPUs\n"
     ]
    },
    {
     "name": "stdout",
     "output_type": "stream",
     "text": [
      "Training took 0.38 seconds\n",
      "GT_INTERV.DEVICE: cpu\n",
      "setting device to: cpu\n"
     ]
    },
    {
     "name": "stderr",
     "output_type": "stream",
     "text": [
      "`Trainer.fit` stopped: `max_epochs=1000` reached.\n",
      "GPU available: True (cuda), used: False\n",
      "TPU available: False, using: 0 TPU cores\n",
      "IPU available: False, using: 0 IPUs\n",
      "HPU available: False, using: 0 HPUs\n"
     ]
    },
    {
     "name": "stdout",
     "output_type": "stream",
     "text": [
      "Training took 0.38 seconds\n",
      "GT_INTERV.DEVICE: cpu\n",
      "setting device to: cpu\n"
     ]
    },
    {
     "name": "stderr",
     "output_type": "stream",
     "text": [
      "`Trainer.fit` stopped: `max_epochs=1000` reached.\n",
      "GPU available: True (cuda), used: False\n",
      "TPU available: False, using: 0 TPU cores\n",
      "IPU available: False, using: 0 IPUs\n",
      "HPU available: False, using: 0 HPUs\n"
     ]
    },
    {
     "name": "stdout",
     "output_type": "stream",
     "text": [
      "Training took 0.38 seconds\n",
      "GT_INTERV.DEVICE: cpu\n",
      "setting device to: cpu\n"
     ]
    },
    {
     "name": "stderr",
     "output_type": "stream",
     "text": [
      "`Trainer.fit` stopped: `max_epochs=1000` reached.\n",
      "GPU available: True (cuda), used: False\n",
      "TPU available: False, using: 0 TPU cores\n",
      "IPU available: False, using: 0 IPUs\n",
      "HPU available: False, using: 0 HPUs\n"
     ]
    },
    {
     "name": "stdout",
     "output_type": "stream",
     "text": [
      "Training took 0.38 seconds\n",
      "GT_INTERV.DEVICE: cpu\n",
      "setting device to: cpu\n"
     ]
    },
    {
     "name": "stderr",
     "output_type": "stream",
     "text": [
      "`Trainer.fit` stopped: `max_epochs=1000` reached.\n",
      "GPU available: True (cuda), used: False\n",
      "TPU available: False, using: 0 TPU cores\n",
      "IPU available: False, using: 0 IPUs\n",
      "HPU available: False, using: 0 HPUs\n"
     ]
    },
    {
     "name": "stdout",
     "output_type": "stream",
     "text": [
      "Training took 0.38 seconds\n",
      "GT_INTERV.DEVICE: cpu\n",
      "setting device to: cpu\n"
     ]
    },
    {
     "name": "stderr",
     "output_type": "stream",
     "text": [
      "`Trainer.fit` stopped: `max_epochs=1000` reached.\n",
      "GPU available: True (cuda), used: False\n",
      "TPU available: False, using: 0 TPU cores\n",
      "IPU available: False, using: 0 IPUs\n",
      "HPU available: False, using: 0 HPUs\n"
     ]
    },
    {
     "name": "stdout",
     "output_type": "stream",
     "text": [
      "Training took 0.38 seconds\n",
      "GT_INTERV.DEVICE: cpu\n",
      "setting device to: cpu\n"
     ]
    },
    {
     "name": "stderr",
     "output_type": "stream",
     "text": [
      "`Trainer.fit` stopped: `max_epochs=1000` reached.\n",
      "GPU available: True (cuda), used: False\n",
      "TPU available: False, using: 0 TPU cores\n",
      "IPU available: False, using: 0 IPUs\n",
      "HPU available: False, using: 0 HPUs\n"
     ]
    },
    {
     "name": "stdout",
     "output_type": "stream",
     "text": [
      "Training took 0.37 seconds\n",
      "GT_INTERV.DEVICE: cpu\n",
      "setting device to: cpu\n"
     ]
    },
    {
     "name": "stderr",
     "output_type": "stream",
     "text": [
      "`Trainer.fit` stopped: `max_epochs=1000` reached.\n",
      "GPU available: True (cuda), used: False\n",
      "TPU available: False, using: 0 TPU cores\n",
      "IPU available: False, using: 0 IPUs\n",
      "HPU available: False, using: 0 HPUs\n"
     ]
    },
    {
     "name": "stdout",
     "output_type": "stream",
     "text": [
      "Training took 0.38 seconds\n",
      "Iterator state: 1\n",
      "GT_INTERV.DEVICE: cpu\n",
      "setting device to: cpu\n"
     ]
    },
    {
     "name": "stderr",
     "output_type": "stream",
     "text": [
      "`Trainer.fit` stopped: `max_epochs=1000` reached.\n",
      "GPU available: True (cuda), used: False\n",
      "TPU available: False, using: 0 TPU cores\n",
      "IPU available: False, using: 0 IPUs\n",
      "HPU available: False, using: 0 HPUs\n"
     ]
    },
    {
     "name": "stdout",
     "output_type": "stream",
     "text": [
      "Training took 0.46 seconds\n",
      "GT_INTERV.DEVICE: cpu\n",
      "setting device to: cpu\n"
     ]
    },
    {
     "name": "stderr",
     "output_type": "stream",
     "text": [
      "`Trainer.fit` stopped: `max_epochs=1000` reached.\n",
      "GPU available: True (cuda), used: False\n",
      "TPU available: False, using: 0 TPU cores\n",
      "IPU available: False, using: 0 IPUs\n",
      "HPU available: False, using: 0 HPUs\n"
     ]
    },
    {
     "name": "stdout",
     "output_type": "stream",
     "text": [
      "Training took 0.46 seconds\n",
      "GT_INTERV.DEVICE: cpu\n",
      "setting device to: cpu\n"
     ]
    },
    {
     "name": "stderr",
     "output_type": "stream",
     "text": [
      "`Trainer.fit` stopped: `max_epochs=1000` reached.\n",
      "GPU available: True (cuda), used: False\n",
      "TPU available: False, using: 0 TPU cores\n",
      "IPU available: False, using: 0 IPUs\n",
      "HPU available: False, using: 0 HPUs\n"
     ]
    },
    {
     "name": "stdout",
     "output_type": "stream",
     "text": [
      "Training took 0.45 seconds\n",
      "GT_INTERV.DEVICE: cpu\n",
      "setting device to: cpu\n"
     ]
    },
    {
     "name": "stderr",
     "output_type": "stream",
     "text": [
      "`Trainer.fit` stopped: `max_epochs=1000` reached.\n",
      "GPU available: True (cuda), used: False\n",
      "TPU available: False, using: 0 TPU cores\n",
      "IPU available: False, using: 0 IPUs\n",
      "HPU available: False, using: 0 HPUs\n"
     ]
    },
    {
     "name": "stdout",
     "output_type": "stream",
     "text": [
      "Training took 0.46 seconds\n",
      "GT_INTERV.DEVICE: cpu\n",
      "setting device to: cpu\n"
     ]
    },
    {
     "name": "stderr",
     "output_type": "stream",
     "text": [
      "`Trainer.fit` stopped: `max_epochs=1000` reached.\n",
      "GPU available: True (cuda), used: False\n",
      "TPU available: False, using: 0 TPU cores\n",
      "IPU available: False, using: 0 IPUs\n",
      "HPU available: False, using: 0 HPUs\n"
     ]
    },
    {
     "name": "stdout",
     "output_type": "stream",
     "text": [
      "Training took 0.46 seconds\n",
      "GT_INTERV.DEVICE: cpu\n",
      "setting device to: cpu\n"
     ]
    },
    {
     "name": "stderr",
     "output_type": "stream",
     "text": [
      "`Trainer.fit` stopped: `max_epochs=1000` reached.\n",
      "GPU available: True (cuda), used: False\n",
      "TPU available: False, using: 0 TPU cores\n",
      "IPU available: False, using: 0 IPUs\n",
      "HPU available: False, using: 0 HPUs\n"
     ]
    },
    {
     "name": "stdout",
     "output_type": "stream",
     "text": [
      "Training took 0.46 seconds\n",
      "GT_INTERV.DEVICE: cpu\n",
      "setting device to: cpu\n"
     ]
    },
    {
     "name": "stderr",
     "output_type": "stream",
     "text": [
      "`Trainer.fit` stopped: `max_epochs=1000` reached.\n",
      "GPU available: True (cuda), used: False\n",
      "TPU available: False, using: 0 TPU cores\n",
      "IPU available: False, using: 0 IPUs\n",
      "HPU available: False, using: 0 HPUs\n"
     ]
    },
    {
     "name": "stdout",
     "output_type": "stream",
     "text": [
      "Training took 0.46 seconds\n",
      "GT_INTERV.DEVICE: cpu\n",
      "setting device to: cpu\n"
     ]
    },
    {
     "name": "stderr",
     "output_type": "stream",
     "text": [
      "`Trainer.fit` stopped: `max_epochs=1000` reached.\n",
      "GPU available: True (cuda), used: False\n",
      "TPU available: False, using: 0 TPU cores\n",
      "IPU available: False, using: 0 IPUs\n",
      "HPU available: False, using: 0 HPUs\n"
     ]
    },
    {
     "name": "stdout",
     "output_type": "stream",
     "text": [
      "Training took 0.54 seconds\n",
      "GT_INTERV.DEVICE: cpu\n",
      "setting device to: cpu\n"
     ]
    },
    {
     "name": "stderr",
     "output_type": "stream",
     "text": [
      "`Trainer.fit` stopped: `max_epochs=1000` reached.\n",
      "GPU available: True (cuda), used: False\n",
      "TPU available: False, using: 0 TPU cores\n",
      "IPU available: False, using: 0 IPUs\n",
      "HPU available: False, using: 0 HPUs\n"
     ]
    },
    {
     "name": "stdout",
     "output_type": "stream",
     "text": [
      "Training took 0.54 seconds\n",
      "GT_INTERV.DEVICE: cpu\n",
      "setting device to: cpu\n"
     ]
    },
    {
     "name": "stderr",
     "output_type": "stream",
     "text": [
      "`Trainer.fit` stopped: `max_epochs=1000` reached.\n",
      "GPU available: True (cuda), used: False\n",
      "TPU available: False, using: 0 TPU cores\n",
      "IPU available: False, using: 0 IPUs\n",
      "HPU available: False, using: 0 HPUs\n"
     ]
    },
    {
     "name": "stdout",
     "output_type": "stream",
     "text": [
      "Training took 0.54 seconds\n",
      "GT_INTERV.DEVICE: cpu\n",
      "setting device to: cpu\n"
     ]
    },
    {
     "name": "stderr",
     "output_type": "stream",
     "text": [
      "`Trainer.fit` stopped: `max_epochs=1000` reached.\n",
      "GPU available: True (cuda), used: False\n",
      "TPU available: False, using: 0 TPU cores\n",
      "IPU available: False, using: 0 IPUs\n",
      "HPU available: False, using: 0 HPUs\n"
     ]
    },
    {
     "name": "stdout",
     "output_type": "stream",
     "text": [
      "Training took 0.54 seconds\n",
      "GT_INTERV.DEVICE: cpu\n",
      "setting device to: cpu\n"
     ]
    },
    {
     "name": "stderr",
     "output_type": "stream",
     "text": [
      "`Trainer.fit` stopped: `max_epochs=1000` reached.\n",
      "GPU available: True (cuda), used: False\n",
      "TPU available: False, using: 0 TPU cores\n",
      "IPU available: False, using: 0 IPUs\n",
      "HPU available: False, using: 0 HPUs\n"
     ]
    },
    {
     "name": "stdout",
     "output_type": "stream",
     "text": [
      "Training took 0.54 seconds\n",
      "GT_INTERV.DEVICE: cpu\n",
      "setting device to: cpu\n"
     ]
    },
    {
     "name": "stderr",
     "output_type": "stream",
     "text": [
      "`Trainer.fit` stopped: `max_epochs=1000` reached.\n",
      "GPU available: True (cuda), used: False\n",
      "TPU available: False, using: 0 TPU cores\n",
      "IPU available: False, using: 0 IPUs\n",
      "HPU available: False, using: 0 HPUs\n"
     ]
    },
    {
     "name": "stdout",
     "output_type": "stream",
     "text": [
      "Training took 0.54 seconds\n",
      "GT_INTERV.DEVICE: cpu\n",
      "setting device to: cpu\n"
     ]
    },
    {
     "name": "stderr",
     "output_type": "stream",
     "text": [
      "`Trainer.fit` stopped: `max_epochs=1000` reached.\n",
      "GPU available: True (cuda), used: False\n",
      "TPU available: False, using: 0 TPU cores\n",
      "IPU available: False, using: 0 IPUs\n",
      "HPU available: False, using: 0 HPUs\n"
     ]
    },
    {
     "name": "stdout",
     "output_type": "stream",
     "text": [
      "Training took 0.54 seconds\n",
      "GT_INTERV.DEVICE: cpu\n",
      "setting device to: cpu\n"
     ]
    },
    {
     "name": "stderr",
     "output_type": "stream",
     "text": [
      "`Trainer.fit` stopped: `max_epochs=1000` reached.\n",
      "GPU available: True (cuda), used: False\n",
      "TPU available: False, using: 0 TPU cores\n",
      "IPU available: False, using: 0 IPUs\n",
      "HPU available: False, using: 0 HPUs\n"
     ]
    },
    {
     "name": "stdout",
     "output_type": "stream",
     "text": [
      "Training took 0.54 seconds\n",
      "GT_INTERV.DEVICE: cpu\n",
      "setting device to: cpu\n"
     ]
    },
    {
     "name": "stderr",
     "output_type": "stream",
     "text": [
      "`Trainer.fit` stopped: `max_epochs=1000` reached.\n",
      "GPU available: True (cuda), used: False\n",
      "TPU available: False, using: 0 TPU cores\n",
      "IPU available: False, using: 0 IPUs\n",
      "HPU available: False, using: 0 HPUs\n"
     ]
    },
    {
     "name": "stdout",
     "output_type": "stream",
     "text": [
      "Training took 0.54 seconds\n",
      "GT_INTERV.DEVICE: cpu\n",
      "setting device to: cpu\n"
     ]
    },
    {
     "name": "stderr",
     "output_type": "stream",
     "text": [
      "`Trainer.fit` stopped: `max_epochs=1000` reached.\n",
      "GPU available: True (cuda), used: False\n",
      "TPU available: False, using: 0 TPU cores\n",
      "IPU available: False, using: 0 IPUs\n",
      "HPU available: False, using: 0 HPUs\n"
     ]
    },
    {
     "name": "stdout",
     "output_type": "stream",
     "text": [
      "Training took 0.54 seconds\n",
      "GT_INTERV.DEVICE: cpu\n",
      "setting device to: cpu\n"
     ]
    },
    {
     "name": "stderr",
     "output_type": "stream",
     "text": [
      "`Trainer.fit` stopped: `max_epochs=1000` reached.\n",
      "GPU available: True (cuda), used: False\n",
      "TPU available: False, using: 0 TPU cores\n",
      "IPU available: False, using: 0 IPUs\n",
      "HPU available: False, using: 0 HPUs\n"
     ]
    },
    {
     "name": "stdout",
     "output_type": "stream",
     "text": [
      "Training took 0.48 seconds\n",
      "GT_INTERV.DEVICE: cpu\n",
      "setting device to: cpu\n"
     ]
    },
    {
     "name": "stderr",
     "output_type": "stream",
     "text": [
      "`Trainer.fit` stopped: `max_epochs=1000` reached.\n",
      "GPU available: True (cuda), used: False\n",
      "TPU available: False, using: 0 TPU cores\n",
      "IPU available: False, using: 0 IPUs\n",
      "HPU available: False, using: 0 HPUs\n"
     ]
    },
    {
     "name": "stdout",
     "output_type": "stream",
     "text": [
      "Training took 0.46 seconds\n",
      "GT_INTERV.DEVICE: cpu\n",
      "setting device to: cpu\n"
     ]
    },
    {
     "name": "stderr",
     "output_type": "stream",
     "text": [
      "`Trainer.fit` stopped: `max_epochs=1000` reached.\n",
      "GPU available: True (cuda), used: False\n",
      "TPU available: False, using: 0 TPU cores\n",
      "IPU available: False, using: 0 IPUs\n",
      "HPU available: False, using: 0 HPUs\n"
     ]
    },
    {
     "name": "stdout",
     "output_type": "stream",
     "text": [
      "Training took 0.46 seconds\n",
      "GT_INTERV.DEVICE: cpu\n",
      "setting device to: cpu\n"
     ]
    },
    {
     "name": "stderr",
     "output_type": "stream",
     "text": [
      "`Trainer.fit` stopped: `max_epochs=1000` reached.\n",
      "GPU available: True (cuda), used: False\n",
      "TPU available: False, using: 0 TPU cores\n",
      "IPU available: False, using: 0 IPUs\n",
      "HPU available: False, using: 0 HPUs\n"
     ]
    },
    {
     "name": "stdout",
     "output_type": "stream",
     "text": [
      "Training took 0.46 seconds\n",
      "run_064\n",
      "Iterator state: 0\n",
      "GT_INTERV.DEVICE: cpu\n",
      "setting device to: cpu\n"
     ]
    },
    {
     "name": "stderr",
     "output_type": "stream",
     "text": [
      "`Trainer.fit` stopped: `max_epochs=1000` reached.\n",
      "GPU available: True (cuda), used: False\n",
      "TPU available: False, using: 0 TPU cores\n",
      "IPU available: False, using: 0 IPUs\n",
      "HPU available: False, using: 0 HPUs\n"
     ]
    },
    {
     "name": "stdout",
     "output_type": "stream",
     "text": [
      "Training took 0.38 seconds\n",
      "GT_INTERV.DEVICE: cpu\n",
      "setting device to: cpu\n"
     ]
    },
    {
     "name": "stderr",
     "output_type": "stream",
     "text": [
      "`Trainer.fit` stopped: `max_epochs=1000` reached.\n",
      "GPU available: True (cuda), used: False\n",
      "TPU available: False, using: 0 TPU cores\n",
      "IPU available: False, using: 0 IPUs\n",
      "HPU available: False, using: 0 HPUs\n"
     ]
    },
    {
     "name": "stdout",
     "output_type": "stream",
     "text": [
      "Training took 0.37 seconds\n",
      "GT_INTERV.DEVICE: cpu\n",
      "setting device to: cpu\n"
     ]
    },
    {
     "name": "stderr",
     "output_type": "stream",
     "text": [
      "`Trainer.fit` stopped: `max_epochs=1000` reached.\n",
      "GPU available: True (cuda), used: False\n",
      "TPU available: False, using: 0 TPU cores\n",
      "IPU available: False, using: 0 IPUs\n",
      "HPU available: False, using: 0 HPUs\n"
     ]
    },
    {
     "name": "stdout",
     "output_type": "stream",
     "text": [
      "Training took 0.37 seconds\n",
      "GT_INTERV.DEVICE: cpu\n",
      "setting device to: cpu\n"
     ]
    },
    {
     "name": "stderr",
     "output_type": "stream",
     "text": [
      "`Trainer.fit` stopped: `max_epochs=1000` reached.\n",
      "GPU available: True (cuda), used: False\n",
      "TPU available: False, using: 0 TPU cores\n",
      "IPU available: False, using: 0 IPUs\n",
      "HPU available: False, using: 0 HPUs\n"
     ]
    },
    {
     "name": "stdout",
     "output_type": "stream",
     "text": [
      "Training took 0.37 seconds\n",
      "GT_INTERV.DEVICE: cpu\n",
      "setting device to: cpu\n"
     ]
    },
    {
     "name": "stderr",
     "output_type": "stream",
     "text": [
      "`Trainer.fit` stopped: `max_epochs=1000` reached.\n",
      "GPU available: True (cuda), used: False\n",
      "TPU available: False, using: 0 TPU cores\n",
      "IPU available: False, using: 0 IPUs\n",
      "HPU available: False, using: 0 HPUs\n"
     ]
    },
    {
     "name": "stdout",
     "output_type": "stream",
     "text": [
      "Training took 0.37 seconds\n",
      "GT_INTERV.DEVICE: cpu\n",
      "setting device to: cpu\n"
     ]
    },
    {
     "name": "stderr",
     "output_type": "stream",
     "text": [
      "`Trainer.fit` stopped: `max_epochs=1000` reached.\n",
      "GPU available: True (cuda), used: False\n",
      "TPU available: False, using: 0 TPU cores\n",
      "IPU available: False, using: 0 IPUs\n",
      "HPU available: False, using: 0 HPUs\n"
     ]
    },
    {
     "name": "stdout",
     "output_type": "stream",
     "text": [
      "Training took 0.37 seconds\n",
      "GT_INTERV.DEVICE: cpu\n",
      "setting device to: cpu\n"
     ]
    },
    {
     "name": "stderr",
     "output_type": "stream",
     "text": [
      "`Trainer.fit` stopped: `max_epochs=1000` reached.\n",
      "GPU available: True (cuda), used: False\n",
      "TPU available: False, using: 0 TPU cores\n",
      "IPU available: False, using: 0 IPUs\n",
      "HPU available: False, using: 0 HPUs\n"
     ]
    },
    {
     "name": "stdout",
     "output_type": "stream",
     "text": [
      "Training took 0.37 seconds\n",
      "GT_INTERV.DEVICE: cpu\n",
      "setting device to: cpu\n"
     ]
    },
    {
     "name": "stderr",
     "output_type": "stream",
     "text": [
      "`Trainer.fit` stopped: `max_epochs=1000` reached.\n",
      "GPU available: True (cuda), used: False\n",
      "TPU available: False, using: 0 TPU cores\n",
      "IPU available: False, using: 0 IPUs\n",
      "HPU available: False, using: 0 HPUs\n"
     ]
    },
    {
     "name": "stdout",
     "output_type": "stream",
     "text": [
      "Training took 0.36 seconds\n",
      "GT_INTERV.DEVICE: cpu\n",
      "setting device to: cpu\n"
     ]
    },
    {
     "name": "stderr",
     "output_type": "stream",
     "text": [
      "`Trainer.fit` stopped: `max_epochs=1000` reached.\n",
      "GPU available: True (cuda), used: False\n",
      "TPU available: False, using: 0 TPU cores\n",
      "IPU available: False, using: 0 IPUs\n",
      "HPU available: False, using: 0 HPUs\n"
     ]
    },
    {
     "name": "stdout",
     "output_type": "stream",
     "text": [
      "Training took 0.36 seconds\n",
      "GT_INTERV.DEVICE: cpu\n",
      "setting device to: cpu\n"
     ]
    },
    {
     "name": "stderr",
     "output_type": "stream",
     "text": [
      "`Trainer.fit` stopped: `max_epochs=1000` reached.\n",
      "GPU available: True (cuda), used: False\n",
      "TPU available: False, using: 0 TPU cores\n",
      "IPU available: False, using: 0 IPUs\n",
      "HPU available: False, using: 0 HPUs\n"
     ]
    },
    {
     "name": "stdout",
     "output_type": "stream",
     "text": [
      "Training took 0.36 seconds\n",
      "GT_INTERV.DEVICE: cpu\n",
      "setting device to: cpu\n"
     ]
    },
    {
     "name": "stderr",
     "output_type": "stream",
     "text": [
      "`Trainer.fit` stopped: `max_epochs=1000` reached.\n",
      "GPU available: True (cuda), used: False\n",
      "TPU available: False, using: 0 TPU cores\n",
      "IPU available: False, using: 0 IPUs\n",
      "HPU available: False, using: 0 HPUs\n"
     ]
    },
    {
     "name": "stdout",
     "output_type": "stream",
     "text": [
      "Training took 0.36 seconds\n",
      "GT_INTERV.DEVICE: cpu\n",
      "setting device to: cpu\n"
     ]
    },
    {
     "name": "stderr",
     "output_type": "stream",
     "text": [
      "`Trainer.fit` stopped: `max_epochs=1000` reached.\n",
      "GPU available: True (cuda), used: False\n",
      "TPU available: False, using: 0 TPU cores\n",
      "IPU available: False, using: 0 IPUs\n",
      "HPU available: False, using: 0 HPUs\n"
     ]
    },
    {
     "name": "stdout",
     "output_type": "stream",
     "text": [
      "Training took 0.37 seconds\n",
      "GT_INTERV.DEVICE: cpu\n",
      "setting device to: cpu\n"
     ]
    },
    {
     "name": "stderr",
     "output_type": "stream",
     "text": [
      "`Trainer.fit` stopped: `max_epochs=1000` reached.\n",
      "GPU available: True (cuda), used: False\n",
      "TPU available: False, using: 0 TPU cores\n",
      "IPU available: False, using: 0 IPUs\n",
      "HPU available: False, using: 0 HPUs\n"
     ]
    },
    {
     "name": "stdout",
     "output_type": "stream",
     "text": [
      "Training took 0.36 seconds\n",
      "GT_INTERV.DEVICE: cpu\n",
      "setting device to: cpu\n"
     ]
    },
    {
     "name": "stderr",
     "output_type": "stream",
     "text": [
      "`Trainer.fit` stopped: `max_epochs=1000` reached.\n",
      "GPU available: True (cuda), used: False\n",
      "TPU available: False, using: 0 TPU cores\n",
      "IPU available: False, using: 0 IPUs\n",
      "HPU available: False, using: 0 HPUs\n"
     ]
    },
    {
     "name": "stdout",
     "output_type": "stream",
     "text": [
      "Training took 0.36 seconds\n",
      "GT_INTERV.DEVICE: cpu\n",
      "setting device to: cpu\n"
     ]
    },
    {
     "name": "stderr",
     "output_type": "stream",
     "text": [
      "`Trainer.fit` stopped: `max_epochs=1000` reached.\n",
      "GPU available: True (cuda), used: False\n",
      "TPU available: False, using: 0 TPU cores\n",
      "IPU available: False, using: 0 IPUs\n",
      "HPU available: False, using: 0 HPUs\n"
     ]
    },
    {
     "name": "stdout",
     "output_type": "stream",
     "text": [
      "Training took 0.36 seconds\n",
      "GT_INTERV.DEVICE: cpu\n",
      "setting device to: cpu\n"
     ]
    },
    {
     "name": "stderr",
     "output_type": "stream",
     "text": [
      "`Trainer.fit` stopped: `max_epochs=1000` reached.\n",
      "GPU available: True (cuda), used: False\n",
      "TPU available: False, using: 0 TPU cores\n",
      "IPU available: False, using: 0 IPUs\n",
      "HPU available: False, using: 0 HPUs\n"
     ]
    },
    {
     "name": "stdout",
     "output_type": "stream",
     "text": [
      "Training took 0.37 seconds\n",
      "GT_INTERV.DEVICE: cpu\n",
      "setting device to: cpu\n"
     ]
    },
    {
     "name": "stderr",
     "output_type": "stream",
     "text": [
      "`Trainer.fit` stopped: `max_epochs=1000` reached.\n",
      "GPU available: True (cuda), used: False\n",
      "TPU available: False, using: 0 TPU cores\n",
      "IPU available: False, using: 0 IPUs\n",
      "HPU available: False, using: 0 HPUs\n"
     ]
    },
    {
     "name": "stdout",
     "output_type": "stream",
     "text": [
      "Training took 0.37 seconds\n",
      "GT_INTERV.DEVICE: cpu\n",
      "setting device to: cpu\n"
     ]
    },
    {
     "name": "stderr",
     "output_type": "stream",
     "text": [
      "`Trainer.fit` stopped: `max_epochs=1000` reached.\n",
      "GPU available: True (cuda), used: False\n",
      "TPU available: False, using: 0 TPU cores\n",
      "IPU available: False, using: 0 IPUs\n",
      "HPU available: False, using: 0 HPUs\n"
     ]
    },
    {
     "name": "stdout",
     "output_type": "stream",
     "text": [
      "Training took 0.37 seconds\n",
      "GT_INTERV.DEVICE: cpu\n",
      "setting device to: cpu\n"
     ]
    },
    {
     "name": "stderr",
     "output_type": "stream",
     "text": [
      "`Trainer.fit` stopped: `max_epochs=1000` reached.\n",
      "GPU available: True (cuda), used: False\n",
      "TPU available: False, using: 0 TPU cores\n",
      "IPU available: False, using: 0 IPUs\n",
      "HPU available: False, using: 0 HPUs\n"
     ]
    },
    {
     "name": "stdout",
     "output_type": "stream",
     "text": [
      "Training took 0.36 seconds\n",
      "GT_INTERV.DEVICE: cpu\n",
      "setting device to: cpu\n"
     ]
    },
    {
     "name": "stderr",
     "output_type": "stream",
     "text": [
      "`Trainer.fit` stopped: `max_epochs=1000` reached.\n",
      "GPU available: True (cuda), used: False\n",
      "TPU available: False, using: 0 TPU cores\n",
      "IPU available: False, using: 0 IPUs\n",
      "HPU available: False, using: 0 HPUs\n"
     ]
    },
    {
     "name": "stdout",
     "output_type": "stream",
     "text": [
      "Training took 0.37 seconds\n",
      "GT_INTERV.DEVICE: cpu\n",
      "setting device to: cpu\n"
     ]
    },
    {
     "name": "stderr",
     "output_type": "stream",
     "text": [
      "`Trainer.fit` stopped: `max_epochs=1000` reached.\n",
      "GPU available: True (cuda), used: False\n",
      "TPU available: False, using: 0 TPU cores\n",
      "IPU available: False, using: 0 IPUs\n",
      "HPU available: False, using: 0 HPUs\n"
     ]
    },
    {
     "name": "stdout",
     "output_type": "stream",
     "text": [
      "Training took 0.36 seconds\n",
      "Iterator state: 1\n",
      "GT_INTERV.DEVICE: cpu\n",
      "setting device to: cpu\n"
     ]
    },
    {
     "name": "stderr",
     "output_type": "stream",
     "text": [
      "`Trainer.fit` stopped: `max_epochs=1000` reached.\n",
      "GPU available: True (cuda), used: False\n",
      "TPU available: False, using: 0 TPU cores\n",
      "IPU available: False, using: 0 IPUs\n",
      "HPU available: False, using: 0 HPUs\n"
     ]
    },
    {
     "name": "stdout",
     "output_type": "stream",
     "text": [
      "Training took 0.54 seconds\n",
      "GT_INTERV.DEVICE: cpu\n",
      "setting device to: cpu\n"
     ]
    },
    {
     "name": "stderr",
     "output_type": "stream",
     "text": [
      "`Trainer.fit` stopped: `max_epochs=1000` reached.\n",
      "GPU available: True (cuda), used: False\n",
      "TPU available: False, using: 0 TPU cores\n",
      "IPU available: False, using: 0 IPUs\n",
      "HPU available: False, using: 0 HPUs\n"
     ]
    },
    {
     "name": "stdout",
     "output_type": "stream",
     "text": [
      "Training took 0.54 seconds\n",
      "GT_INTERV.DEVICE: cpu\n",
      "setting device to: cpu\n"
     ]
    },
    {
     "name": "stderr",
     "output_type": "stream",
     "text": [
      "`Trainer.fit` stopped: `max_epochs=1000` reached.\n",
      "GPU available: True (cuda), used: False\n",
      "TPU available: False, using: 0 TPU cores\n",
      "IPU available: False, using: 0 IPUs\n",
      "HPU available: False, using: 0 HPUs\n"
     ]
    },
    {
     "name": "stdout",
     "output_type": "stream",
     "text": [
      "Training took 0.54 seconds\n",
      "GT_INTERV.DEVICE: cpu\n",
      "setting device to: cpu\n"
     ]
    },
    {
     "name": "stderr",
     "output_type": "stream",
     "text": [
      "`Trainer.fit` stopped: `max_epochs=1000` reached.\n",
      "GPU available: True (cuda), used: False\n",
      "TPU available: False, using: 0 TPU cores\n",
      "IPU available: False, using: 0 IPUs\n",
      "HPU available: False, using: 0 HPUs\n"
     ]
    },
    {
     "name": "stdout",
     "output_type": "stream",
     "text": [
      "Training took 0.57 seconds\n",
      "GT_INTERV.DEVICE: cpu\n",
      "setting device to: cpu\n"
     ]
    },
    {
     "name": "stderr",
     "output_type": "stream",
     "text": [
      "`Trainer.fit` stopped: `max_epochs=1000` reached.\n",
      "GPU available: True (cuda), used: False\n",
      "TPU available: False, using: 0 TPU cores\n",
      "IPU available: False, using: 0 IPUs\n",
      "HPU available: False, using: 0 HPUs\n"
     ]
    },
    {
     "name": "stdout",
     "output_type": "stream",
     "text": [
      "Training took 0.70 seconds\n",
      "GT_INTERV.DEVICE: cpu\n",
      "setting device to: cpu\n"
     ]
    },
    {
     "name": "stderr",
     "output_type": "stream",
     "text": [
      "`Trainer.fit` stopped: `max_epochs=1000` reached.\n",
      "GPU available: True (cuda), used: False\n",
      "TPU available: False, using: 0 TPU cores\n",
      "IPU available: False, using: 0 IPUs\n",
      "HPU available: False, using: 0 HPUs\n"
     ]
    },
    {
     "name": "stdout",
     "output_type": "stream",
     "text": [
      "Training took 0.70 seconds\n",
      "GT_INTERV.DEVICE: cpu\n",
      "setting device to: cpu\n"
     ]
    },
    {
     "name": "stderr",
     "output_type": "stream",
     "text": [
      "`Trainer.fit` stopped: `max_epochs=1000` reached.\n",
      "GPU available: True (cuda), used: False\n",
      "TPU available: False, using: 0 TPU cores\n",
      "IPU available: False, using: 0 IPUs\n",
      "HPU available: False, using: 0 HPUs\n"
     ]
    },
    {
     "name": "stdout",
     "output_type": "stream",
     "text": [
      "Training took 0.70 seconds\n",
      "GT_INTERV.DEVICE: cpu\n",
      "setting device to: cpu\n"
     ]
    },
    {
     "name": "stderr",
     "output_type": "stream",
     "text": [
      "`Trainer.fit` stopped: `max_epochs=1000` reached.\n",
      "GPU available: True (cuda), used: False\n",
      "TPU available: False, using: 0 TPU cores\n",
      "IPU available: False, using: 0 IPUs\n",
      "HPU available: False, using: 0 HPUs\n"
     ]
    },
    {
     "name": "stdout",
     "output_type": "stream",
     "text": [
      "Training took 0.70 seconds\n",
      "GT_INTERV.DEVICE: cpu\n",
      "setting device to: cpu\n"
     ]
    },
    {
     "name": "stderr",
     "output_type": "stream",
     "text": [
      "`Trainer.fit` stopped: `max_epochs=1000` reached.\n",
      "GPU available: True (cuda), used: False\n",
      "TPU available: False, using: 0 TPU cores\n",
      "IPU available: False, using: 0 IPUs\n",
      "HPU available: False, using: 0 HPUs\n"
     ]
    },
    {
     "name": "stdout",
     "output_type": "stream",
     "text": [
      "Training took 0.70 seconds\n",
      "GT_INTERV.DEVICE: cpu\n",
      "setting device to: cpu\n"
     ]
    },
    {
     "name": "stderr",
     "output_type": "stream",
     "text": [
      "`Trainer.fit` stopped: `max_epochs=1000` reached.\n",
      "GPU available: True (cuda), used: False\n",
      "TPU available: False, using: 0 TPU cores\n",
      "IPU available: False, using: 0 IPUs\n",
      "HPU available: False, using: 0 HPUs\n"
     ]
    },
    {
     "name": "stdout",
     "output_type": "stream",
     "text": [
      "Training took 0.70 seconds\n",
      "GT_INTERV.DEVICE: cpu\n",
      "setting device to: cpu\n"
     ]
    },
    {
     "name": "stderr",
     "output_type": "stream",
     "text": [
      "`Trainer.fit` stopped: `max_epochs=1000` reached.\n",
      "GPU available: True (cuda), used: False\n",
      "TPU available: False, using: 0 TPU cores\n",
      "IPU available: False, using: 0 IPUs\n",
      "HPU available: False, using: 0 HPUs\n"
     ]
    },
    {
     "name": "stdout",
     "output_type": "stream",
     "text": [
      "Training took 0.70 seconds\n",
      "GT_INTERV.DEVICE: cpu\n",
      "setting device to: cpu\n"
     ]
    },
    {
     "name": "stderr",
     "output_type": "stream",
     "text": [
      "`Trainer.fit` stopped: `max_epochs=1000` reached.\n",
      "GPU available: True (cuda), used: False\n",
      "TPU available: False, using: 0 TPU cores\n",
      "IPU available: False, using: 0 IPUs\n",
      "HPU available: False, using: 0 HPUs\n"
     ]
    },
    {
     "name": "stdout",
     "output_type": "stream",
     "text": [
      "Training took 0.70 seconds\n",
      "GT_INTERV.DEVICE: cpu\n",
      "setting device to: cpu\n"
     ]
    },
    {
     "name": "stderr",
     "output_type": "stream",
     "text": [
      "`Trainer.fit` stopped: `max_epochs=1000` reached.\n",
      "GPU available: True (cuda), used: False\n",
      "TPU available: False, using: 0 TPU cores\n",
      "IPU available: False, using: 0 IPUs\n",
      "HPU available: False, using: 0 HPUs\n"
     ]
    },
    {
     "name": "stdout",
     "output_type": "stream",
     "text": [
      "Training took 0.69 seconds\n",
      "GT_INTERV.DEVICE: cpu\n",
      "setting device to: cpu\n"
     ]
    },
    {
     "name": "stderr",
     "output_type": "stream",
     "text": [
      "`Trainer.fit` stopped: `max_epochs=1000` reached.\n",
      "GPU available: True (cuda), used: False\n",
      "TPU available: False, using: 0 TPU cores\n",
      "IPU available: False, using: 0 IPUs\n",
      "HPU available: False, using: 0 HPUs\n"
     ]
    },
    {
     "name": "stdout",
     "output_type": "stream",
     "text": [
      "Training took 0.59 seconds\n",
      "GT_INTERV.DEVICE: cpu\n",
      "setting device to: cpu\n"
     ]
    },
    {
     "name": "stderr",
     "output_type": "stream",
     "text": [
      "`Trainer.fit` stopped: `max_epochs=1000` reached.\n",
      "GPU available: True (cuda), used: False\n",
      "TPU available: False, using: 0 TPU cores\n",
      "IPU available: False, using: 0 IPUs\n",
      "HPU available: False, using: 0 HPUs\n"
     ]
    },
    {
     "name": "stdout",
     "output_type": "stream",
     "text": [
      "Training took 0.54 seconds\n",
      "GT_INTERV.DEVICE: cpu\n",
      "setting device to: cpu\n"
     ]
    },
    {
     "name": "stderr",
     "output_type": "stream",
     "text": [
      "`Trainer.fit` stopped: `max_epochs=1000` reached.\n",
      "GPU available: True (cuda), used: False\n",
      "TPU available: False, using: 0 TPU cores\n",
      "IPU available: False, using: 0 IPUs\n",
      "HPU available: False, using: 0 HPUs\n"
     ]
    },
    {
     "name": "stdout",
     "output_type": "stream",
     "text": [
      "Training took 0.54 seconds\n",
      "GT_INTERV.DEVICE: cpu\n",
      "setting device to: cpu\n"
     ]
    },
    {
     "name": "stderr",
     "output_type": "stream",
     "text": [
      "`Trainer.fit` stopped: `max_epochs=1000` reached.\n",
      "GPU available: True (cuda), used: False\n",
      "TPU available: False, using: 0 TPU cores\n",
      "IPU available: False, using: 0 IPUs\n",
      "HPU available: False, using: 0 HPUs\n"
     ]
    },
    {
     "name": "stdout",
     "output_type": "stream",
     "text": [
      "Training took 0.54 seconds\n",
      "GT_INTERV.DEVICE: cpu\n",
      "setting device to: cpu\n"
     ]
    },
    {
     "name": "stderr",
     "output_type": "stream",
     "text": [
      "`Trainer.fit` stopped: `max_epochs=1000` reached.\n",
      "GPU available: True (cuda), used: False\n",
      "TPU available: False, using: 0 TPU cores\n",
      "IPU available: False, using: 0 IPUs\n",
      "HPU available: False, using: 0 HPUs\n"
     ]
    },
    {
     "name": "stdout",
     "output_type": "stream",
     "text": [
      "Training took 0.54 seconds\n",
      "GT_INTERV.DEVICE: cpu\n",
      "setting device to: cpu\n"
     ]
    },
    {
     "name": "stderr",
     "output_type": "stream",
     "text": [
      "`Trainer.fit` stopped: `max_epochs=1000` reached.\n",
      "GPU available: True (cuda), used: False\n",
      "TPU available: False, using: 0 TPU cores\n",
      "IPU available: False, using: 0 IPUs\n",
      "HPU available: False, using: 0 HPUs\n"
     ]
    },
    {
     "name": "stdout",
     "output_type": "stream",
     "text": [
      "Training took 0.54 seconds\n",
      "GT_INTERV.DEVICE: cpu\n",
      "setting device to: cpu\n"
     ]
    },
    {
     "name": "stderr",
     "output_type": "stream",
     "text": [
      "`Trainer.fit` stopped: `max_epochs=1000` reached.\n",
      "GPU available: True (cuda), used: False\n",
      "TPU available: False, using: 0 TPU cores\n",
      "IPU available: False, using: 0 IPUs\n",
      "HPU available: False, using: 0 HPUs\n"
     ]
    },
    {
     "name": "stdout",
     "output_type": "stream",
     "text": [
      "Training took 0.54 seconds\n",
      "GT_INTERV.DEVICE: cpu\n",
      "setting device to: cpu\n"
     ]
    },
    {
     "name": "stderr",
     "output_type": "stream",
     "text": [
      "`Trainer.fit` stopped: `max_epochs=1000` reached.\n"
     ]
    },
    {
     "name": "stdout",
     "output_type": "stream",
     "text": [
      "Training took 0.54 seconds\n",
      "run_061\n"
     ]
    },
    {
     "name": "stderr",
     "output_type": "stream",
     "text": [
      "GPU available: True (cuda), used: False\n",
      "TPU available: False, using: 0 TPU cores\n",
      "IPU available: False, using: 0 IPUs\n",
      "HPU available: False, using: 0 HPUs\n"
     ]
    },
    {
     "name": "stdout",
     "output_type": "stream",
     "text": [
      "Iterator state: 0\n",
      "GT_INTERV.DEVICE: cpu\n",
      "setting device to: cpu\n"
     ]
    },
    {
     "name": "stderr",
     "output_type": "stream",
     "text": [
      "`Trainer.fit` stopped: `max_epochs=1000` reached.\n",
      "GPU available: True (cuda), used: False\n",
      "TPU available: False, using: 0 TPU cores\n",
      "IPU available: False, using: 0 IPUs\n",
      "HPU available: False, using: 0 HPUs\n"
     ]
    },
    {
     "name": "stdout",
     "output_type": "stream",
     "text": [
      "Training took 0.38 seconds\n",
      "GT_INTERV.DEVICE: cpu\n",
      "setting device to: cpu\n"
     ]
    },
    {
     "name": "stderr",
     "output_type": "stream",
     "text": [
      "`Trainer.fit` stopped: `max_epochs=1000` reached.\n",
      "GPU available: True (cuda), used: False\n",
      "TPU available: False, using: 0 TPU cores\n",
      "IPU available: False, using: 0 IPUs\n",
      "HPU available: False, using: 0 HPUs\n"
     ]
    },
    {
     "name": "stdout",
     "output_type": "stream",
     "text": [
      "Training took 0.39 seconds\n",
      "GT_INTERV.DEVICE: cpu\n",
      "setting device to: cpu\n"
     ]
    },
    {
     "name": "stderr",
     "output_type": "stream",
     "text": [
      "`Trainer.fit` stopped: `max_epochs=1000` reached.\n",
      "GPU available: True (cuda), used: False\n",
      "TPU available: False, using: 0 TPU cores\n",
      "IPU available: False, using: 0 IPUs\n",
      "HPU available: False, using: 0 HPUs\n"
     ]
    },
    {
     "name": "stdout",
     "output_type": "stream",
     "text": [
      "Training took 0.39 seconds\n",
      "GT_INTERV.DEVICE: cpu\n",
      "setting device to: cpu\n"
     ]
    },
    {
     "name": "stderr",
     "output_type": "stream",
     "text": [
      "`Trainer.fit` stopped: `max_epochs=1000` reached.\n",
      "GPU available: True (cuda), used: False\n",
      "TPU available: False, using: 0 TPU cores\n",
      "IPU available: False, using: 0 IPUs\n",
      "HPU available: False, using: 0 HPUs\n"
     ]
    },
    {
     "name": "stdout",
     "output_type": "stream",
     "text": [
      "Training took 0.39 seconds\n",
      "GT_INTERV.DEVICE: cpu\n",
      "setting device to: cpu\n"
     ]
    },
    {
     "name": "stderr",
     "output_type": "stream",
     "text": [
      "`Trainer.fit` stopped: `max_epochs=1000` reached.\n",
      "GPU available: True (cuda), used: False\n",
      "TPU available: False, using: 0 TPU cores\n",
      "IPU available: False, using: 0 IPUs\n",
      "HPU available: False, using: 0 HPUs\n"
     ]
    },
    {
     "name": "stdout",
     "output_type": "stream",
     "text": [
      "Training took 0.39 seconds\n",
      "GT_INTERV.DEVICE: cpu\n",
      "setting device to: cpu\n"
     ]
    },
    {
     "name": "stderr",
     "output_type": "stream",
     "text": [
      "`Trainer.fit` stopped: `max_epochs=1000` reached.\n",
      "GPU available: True (cuda), used: False\n",
      "TPU available: False, using: 0 TPU cores\n",
      "IPU available: False, using: 0 IPUs\n",
      "HPU available: False, using: 0 HPUs\n"
     ]
    },
    {
     "name": "stdout",
     "output_type": "stream",
     "text": [
      "Training took 0.39 seconds\n",
      "GT_INTERV.DEVICE: cpu\n",
      "setting device to: cpu\n"
     ]
    },
    {
     "name": "stderr",
     "output_type": "stream",
     "text": [
      "`Trainer.fit` stopped: `max_epochs=1000` reached.\n",
      "GPU available: True (cuda), used: False\n",
      "TPU available: False, using: 0 TPU cores\n",
      "IPU available: False, using: 0 IPUs\n",
      "HPU available: False, using: 0 HPUs\n"
     ]
    },
    {
     "name": "stdout",
     "output_type": "stream",
     "text": [
      "Training took 0.39 seconds\n",
      "GT_INTERV.DEVICE: cpu\n",
      "setting device to: cpu\n"
     ]
    },
    {
     "name": "stderr",
     "output_type": "stream",
     "text": [
      "`Trainer.fit` stopped: `max_epochs=1000` reached.\n",
      "GPU available: True (cuda), used: False\n",
      "TPU available: False, using: 0 TPU cores\n",
      "IPU available: False, using: 0 IPUs\n",
      "HPU available: False, using: 0 HPUs\n"
     ]
    },
    {
     "name": "stdout",
     "output_type": "stream",
     "text": [
      "Training took 0.39 seconds\n",
      "GT_INTERV.DEVICE: cpu\n",
      "setting device to: cpu\n"
     ]
    },
    {
     "name": "stderr",
     "output_type": "stream",
     "text": [
      "`Trainer.fit` stopped: `max_epochs=1000` reached.\n",
      "GPU available: True (cuda), used: False\n",
      "TPU available: False, using: 0 TPU cores\n",
      "IPU available: False, using: 0 IPUs\n",
      "HPU available: False, using: 0 HPUs\n"
     ]
    },
    {
     "name": "stdout",
     "output_type": "stream",
     "text": [
      "Training took 0.39 seconds\n",
      "GT_INTERV.DEVICE: cpu\n",
      "setting device to: cpu\n"
     ]
    },
    {
     "name": "stderr",
     "output_type": "stream",
     "text": [
      "`Trainer.fit` stopped: `max_epochs=1000` reached.\n",
      "GPU available: True (cuda), used: False\n",
      "TPU available: False, using: 0 TPU cores\n",
      "IPU available: False, using: 0 IPUs\n",
      "HPU available: False, using: 0 HPUs\n"
     ]
    },
    {
     "name": "stdout",
     "output_type": "stream",
     "text": [
      "Training took 0.39 seconds\n",
      "GT_INTERV.DEVICE: cpu\n",
      "setting device to: cpu\n"
     ]
    },
    {
     "name": "stderr",
     "output_type": "stream",
     "text": [
      "`Trainer.fit` stopped: `max_epochs=1000` reached.\n",
      "GPU available: True (cuda), used: False\n",
      "TPU available: False, using: 0 TPU cores\n",
      "IPU available: False, using: 0 IPUs\n",
      "HPU available: False, using: 0 HPUs\n"
     ]
    },
    {
     "name": "stdout",
     "output_type": "stream",
     "text": [
      "Training took 0.39 seconds\n",
      "GT_INTERV.DEVICE: cpu\n",
      "setting device to: cpu\n"
     ]
    },
    {
     "name": "stderr",
     "output_type": "stream",
     "text": [
      "`Trainer.fit` stopped: `max_epochs=1000` reached.\n",
      "GPU available: True (cuda), used: False\n",
      "TPU available: False, using: 0 TPU cores\n",
      "IPU available: False, using: 0 IPUs\n",
      "HPU available: False, using: 0 HPUs\n"
     ]
    },
    {
     "name": "stdout",
     "output_type": "stream",
     "text": [
      "Training took 0.39 seconds\n",
      "GT_INTERV.DEVICE: cpu\n",
      "setting device to: cpu\n"
     ]
    },
    {
     "name": "stderr",
     "output_type": "stream",
     "text": [
      "`Trainer.fit` stopped: `max_epochs=1000` reached.\n",
      "GPU available: True (cuda), used: False\n",
      "TPU available: False, using: 0 TPU cores\n",
      "IPU available: False, using: 0 IPUs\n",
      "HPU available: False, using: 0 HPUs\n"
     ]
    },
    {
     "name": "stdout",
     "output_type": "stream",
     "text": [
      "Training took 0.39 seconds\n",
      "GT_INTERV.DEVICE: cpu\n",
      "setting device to: cpu\n"
     ]
    },
    {
     "name": "stderr",
     "output_type": "stream",
     "text": [
      "`Trainer.fit` stopped: `max_epochs=1000` reached.\n",
      "GPU available: True (cuda), used: False\n",
      "TPU available: False, using: 0 TPU cores\n",
      "IPU available: False, using: 0 IPUs\n",
      "HPU available: False, using: 0 HPUs\n"
     ]
    },
    {
     "name": "stdout",
     "output_type": "stream",
     "text": [
      "Training took 0.39 seconds\n",
      "GT_INTERV.DEVICE: cpu\n",
      "setting device to: cpu\n"
     ]
    },
    {
     "name": "stderr",
     "output_type": "stream",
     "text": [
      "`Trainer.fit` stopped: `max_epochs=1000` reached.\n",
      "GPU available: True (cuda), used: False\n",
      "TPU available: False, using: 0 TPU cores\n",
      "IPU available: False, using: 0 IPUs\n",
      "HPU available: False, using: 0 HPUs\n"
     ]
    },
    {
     "name": "stdout",
     "output_type": "stream",
     "text": [
      "Training took 0.39 seconds\n",
      "GT_INTERV.DEVICE: cpu\n",
      "setting device to: cpu\n"
     ]
    },
    {
     "name": "stderr",
     "output_type": "stream",
     "text": [
      "`Trainer.fit` stopped: `max_epochs=1000` reached.\n",
      "GPU available: True (cuda), used: False\n",
      "TPU available: False, using: 0 TPU cores\n",
      "IPU available: False, using: 0 IPUs\n",
      "HPU available: False, using: 0 HPUs\n"
     ]
    },
    {
     "name": "stdout",
     "output_type": "stream",
     "text": [
      "Training took 0.39 seconds\n",
      "GT_INTERV.DEVICE: cpu\n",
      "setting device to: cpu\n"
     ]
    },
    {
     "name": "stderr",
     "output_type": "stream",
     "text": [
      "`Trainer.fit` stopped: `max_epochs=1000` reached.\n",
      "GPU available: True (cuda), used: False\n",
      "TPU available: False, using: 0 TPU cores\n",
      "IPU available: False, using: 0 IPUs\n",
      "HPU available: False, using: 0 HPUs\n"
     ]
    },
    {
     "name": "stdout",
     "output_type": "stream",
     "text": [
      "Training took 0.39 seconds\n",
      "GT_INTERV.DEVICE: cpu\n",
      "setting device to: cpu\n"
     ]
    },
    {
     "name": "stderr",
     "output_type": "stream",
     "text": [
      "`Trainer.fit` stopped: `max_epochs=1000` reached.\n",
      "GPU available: True (cuda), used: False\n",
      "TPU available: False, using: 0 TPU cores\n",
      "IPU available: False, using: 0 IPUs\n",
      "HPU available: False, using: 0 HPUs\n"
     ]
    },
    {
     "name": "stdout",
     "output_type": "stream",
     "text": [
      "Training took 0.39 seconds\n",
      "GT_INTERV.DEVICE: cpu\n",
      "setting device to: cpu\n"
     ]
    },
    {
     "name": "stderr",
     "output_type": "stream",
     "text": [
      "`Trainer.fit` stopped: `max_epochs=1000` reached.\n",
      "GPU available: True (cuda), used: False\n",
      "TPU available: False, using: 0 TPU cores\n",
      "IPU available: False, using: 0 IPUs\n",
      "HPU available: False, using: 0 HPUs\n"
     ]
    },
    {
     "name": "stdout",
     "output_type": "stream",
     "text": [
      "Training took 0.39 seconds\n",
      "GT_INTERV.DEVICE: cpu\n",
      "setting device to: cpu\n"
     ]
    },
    {
     "name": "stderr",
     "output_type": "stream",
     "text": [
      "`Trainer.fit` stopped: `max_epochs=1000` reached.\n",
      "GPU available: True (cuda), used: False\n",
      "TPU available: False, using: 0 TPU cores\n",
      "IPU available: False, using: 0 IPUs\n",
      "HPU available: False, using: 0 HPUs\n"
     ]
    },
    {
     "name": "stdout",
     "output_type": "stream",
     "text": [
      "Training took 0.39 seconds\n",
      "GT_INTERV.DEVICE: cpu\n",
      "setting device to: cpu\n"
     ]
    },
    {
     "name": "stderr",
     "output_type": "stream",
     "text": [
      "`Trainer.fit` stopped: `max_epochs=1000` reached.\n",
      "GPU available: True (cuda), used: False\n",
      "TPU available: False, using: 0 TPU cores\n",
      "IPU available: False, using: 0 IPUs\n",
      "HPU available: False, using: 0 HPUs\n"
     ]
    },
    {
     "name": "stdout",
     "output_type": "stream",
     "text": [
      "Training took 0.39 seconds\n",
      "Iterator state: 1\n",
      "GT_INTERV.DEVICE: cpu\n",
      "setting device to: cpu\n"
     ]
    },
    {
     "name": "stderr",
     "output_type": "stream",
     "text": [
      "`Trainer.fit` stopped: `max_epochs=1000` reached.\n",
      "GPU available: True (cuda), used: False\n",
      "TPU available: False, using: 0 TPU cores\n",
      "IPU available: False, using: 0 IPUs\n",
      "HPU available: False, using: 0 HPUs\n"
     ]
    },
    {
     "name": "stdout",
     "output_type": "stream",
     "text": [
      "Training took 0.54 seconds\n",
      "GT_INTERV.DEVICE: cpu\n",
      "setting device to: cpu\n"
     ]
    },
    {
     "name": "stderr",
     "output_type": "stream",
     "text": [
      "`Trainer.fit` stopped: `max_epochs=1000` reached.\n",
      "GPU available: True (cuda), used: False\n",
      "TPU available: False, using: 0 TPU cores\n",
      "IPU available: False, using: 0 IPUs\n",
      "HPU available: False, using: 0 HPUs\n"
     ]
    },
    {
     "name": "stdout",
     "output_type": "stream",
     "text": [
      "Training took 0.54 seconds\n",
      "GT_INTERV.DEVICE: cpu\n",
      "setting device to: cpu\n"
     ]
    },
    {
     "name": "stderr",
     "output_type": "stream",
     "text": [
      "`Trainer.fit` stopped: `max_epochs=1000` reached.\n",
      "GPU available: True (cuda), used: False\n",
      "TPU available: False, using: 0 TPU cores\n",
      "IPU available: False, using: 0 IPUs\n",
      "HPU available: False, using: 0 HPUs\n"
     ]
    },
    {
     "name": "stdout",
     "output_type": "stream",
     "text": [
      "Training took 0.54 seconds\n",
      "GT_INTERV.DEVICE: cpu\n",
      "setting device to: cpu\n"
     ]
    },
    {
     "name": "stderr",
     "output_type": "stream",
     "text": [
      "`Trainer.fit` stopped: `max_epochs=1000` reached.\n",
      "GPU available: True (cuda), used: False\n",
      "TPU available: False, using: 0 TPU cores\n",
      "IPU available: False, using: 0 IPUs\n",
      "HPU available: False, using: 0 HPUs\n"
     ]
    },
    {
     "name": "stdout",
     "output_type": "stream",
     "text": [
      "Training took 0.54 seconds\n",
      "GT_INTERV.DEVICE: cpu\n",
      "setting device to: cpu\n"
     ]
    },
    {
     "name": "stderr",
     "output_type": "stream",
     "text": [
      "`Trainer.fit` stopped: `max_epochs=1000` reached.\n",
      "GPU available: True (cuda), used: False\n",
      "TPU available: False, using: 0 TPU cores\n",
      "IPU available: False, using: 0 IPUs\n",
      "HPU available: False, using: 0 HPUs\n"
     ]
    },
    {
     "name": "stdout",
     "output_type": "stream",
     "text": [
      "Training took 0.54 seconds\n",
      "GT_INTERV.DEVICE: cpu\n",
      "setting device to: cpu\n"
     ]
    },
    {
     "name": "stderr",
     "output_type": "stream",
     "text": [
      "`Trainer.fit` stopped: `max_epochs=1000` reached.\n",
      "GPU available: True (cuda), used: False\n",
      "TPU available: False, using: 0 TPU cores\n",
      "IPU available: False, using: 0 IPUs\n",
      "HPU available: False, using: 0 HPUs\n"
     ]
    },
    {
     "name": "stdout",
     "output_type": "stream",
     "text": [
      "Training took 0.54 seconds\n",
      "GT_INTERV.DEVICE: cpu\n",
      "setting device to: cpu\n"
     ]
    },
    {
     "name": "stderr",
     "output_type": "stream",
     "text": [
      "`Trainer.fit` stopped: `max_epochs=1000` reached.\n",
      "GPU available: True (cuda), used: False\n",
      "TPU available: False, using: 0 TPU cores\n",
      "IPU available: False, using: 0 IPUs\n",
      "HPU available: False, using: 0 HPUs\n"
     ]
    },
    {
     "name": "stdout",
     "output_type": "stream",
     "text": [
      "Training took 0.54 seconds\n",
      "GT_INTERV.DEVICE: cpu\n",
      "setting device to: cpu\n"
     ]
    },
    {
     "name": "stderr",
     "output_type": "stream",
     "text": [
      "`Trainer.fit` stopped: `max_epochs=1000` reached.\n",
      "GPU available: True (cuda), used: False\n",
      "TPU available: False, using: 0 TPU cores\n",
      "IPU available: False, using: 0 IPUs\n",
      "HPU available: False, using: 0 HPUs\n"
     ]
    },
    {
     "name": "stdout",
     "output_type": "stream",
     "text": [
      "Training took 0.54 seconds\n",
      "GT_INTERV.DEVICE: cpu\n",
      "setting device to: cpu\n"
     ]
    },
    {
     "name": "stderr",
     "output_type": "stream",
     "text": [
      "`Trainer.fit` stopped: `max_epochs=1000` reached.\n",
      "GPU available: True (cuda), used: False\n",
      "TPU available: False, using: 0 TPU cores\n",
      "IPU available: False, using: 0 IPUs\n",
      "HPU available: False, using: 0 HPUs\n"
     ]
    },
    {
     "name": "stdout",
     "output_type": "stream",
     "text": [
      "Training took 0.54 seconds\n",
      "GT_INTERV.DEVICE: cpu\n",
      "setting device to: cpu\n"
     ]
    },
    {
     "name": "stderr",
     "output_type": "stream",
     "text": [
      "`Trainer.fit` stopped: `max_epochs=1000` reached.\n",
      "GPU available: True (cuda), used: False\n",
      "TPU available: False, using: 0 TPU cores\n",
      "IPU available: False, using: 0 IPUs\n",
      "HPU available: False, using: 0 HPUs\n"
     ]
    },
    {
     "name": "stdout",
     "output_type": "stream",
     "text": [
      "Training took 0.54 seconds\n",
      "GT_INTERV.DEVICE: cpu\n",
      "setting device to: cpu\n"
     ]
    },
    {
     "name": "stderr",
     "output_type": "stream",
     "text": [
      "`Trainer.fit` stopped: `max_epochs=1000` reached.\n",
      "GPU available: True (cuda), used: False\n",
      "TPU available: False, using: 0 TPU cores\n",
      "IPU available: False, using: 0 IPUs\n",
      "HPU available: False, using: 0 HPUs\n"
     ]
    },
    {
     "name": "stdout",
     "output_type": "stream",
     "text": [
      "Training took 0.54 seconds\n",
      "GT_INTERV.DEVICE: cpu\n",
      "setting device to: cpu\n"
     ]
    },
    {
     "name": "stderr",
     "output_type": "stream",
     "text": [
      "`Trainer.fit` stopped: `max_epochs=1000` reached.\n",
      "GPU available: True (cuda), used: False\n",
      "TPU available: False, using: 0 TPU cores\n",
      "IPU available: False, using: 0 IPUs\n",
      "HPU available: False, using: 0 HPUs\n"
     ]
    },
    {
     "name": "stdout",
     "output_type": "stream",
     "text": [
      "Training took 0.54 seconds\n",
      "GT_INTERV.DEVICE: cpu\n",
      "setting device to: cpu\n"
     ]
    },
    {
     "name": "stderr",
     "output_type": "stream",
     "text": [
      "`Trainer.fit` stopped: `max_epochs=1000` reached.\n",
      "GPU available: True (cuda), used: False\n",
      "TPU available: False, using: 0 TPU cores\n",
      "IPU available: False, using: 0 IPUs\n",
      "HPU available: False, using: 0 HPUs\n"
     ]
    },
    {
     "name": "stdout",
     "output_type": "stream",
     "text": [
      "Training took 0.54 seconds\n",
      "GT_INTERV.DEVICE: cpu\n",
      "setting device to: cpu\n"
     ]
    },
    {
     "name": "stderr",
     "output_type": "stream",
     "text": [
      "`Trainer.fit` stopped: `max_epochs=1000` reached.\n",
      "GPU available: True (cuda), used: False\n",
      "TPU available: False, using: 0 TPU cores\n",
      "IPU available: False, using: 0 IPUs\n",
      "HPU available: False, using: 0 HPUs\n"
     ]
    },
    {
     "name": "stdout",
     "output_type": "stream",
     "text": [
      "Training took 0.54 seconds\n",
      "GT_INTERV.DEVICE: cpu\n",
      "setting device to: cpu\n"
     ]
    },
    {
     "name": "stderr",
     "output_type": "stream",
     "text": [
      "`Trainer.fit` stopped: `max_epochs=1000` reached.\n",
      "GPU available: True (cuda), used: False\n",
      "TPU available: False, using: 0 TPU cores\n",
      "IPU available: False, using: 0 IPUs\n",
      "HPU available: False, using: 0 HPUs\n"
     ]
    },
    {
     "name": "stdout",
     "output_type": "stream",
     "text": [
      "Training took 0.54 seconds\n",
      "GT_INTERV.DEVICE: cpu\n",
      "setting device to: cpu\n"
     ]
    },
    {
     "name": "stderr",
     "output_type": "stream",
     "text": [
      "`Trainer.fit` stopped: `max_epochs=1000` reached.\n",
      "GPU available: True (cuda), used: False\n",
      "TPU available: False, using: 0 TPU cores\n",
      "IPU available: False, using: 0 IPUs\n",
      "HPU available: False, using: 0 HPUs\n"
     ]
    },
    {
     "name": "stdout",
     "output_type": "stream",
     "text": [
      "Training took 0.54 seconds\n",
      "GT_INTERV.DEVICE: cpu\n",
      "setting device to: cpu\n"
     ]
    },
    {
     "name": "stderr",
     "output_type": "stream",
     "text": [
      "`Trainer.fit` stopped: `max_epochs=1000` reached.\n",
      "GPU available: True (cuda), used: False\n",
      "TPU available: False, using: 0 TPU cores\n",
      "IPU available: False, using: 0 IPUs\n",
      "HPU available: False, using: 0 HPUs\n"
     ]
    },
    {
     "name": "stdout",
     "output_type": "stream",
     "text": [
      "Training took 0.54 seconds\n",
      "GT_INTERV.DEVICE: cpu\n",
      "setting device to: cpu\n"
     ]
    },
    {
     "name": "stderr",
     "output_type": "stream",
     "text": [
      "`Trainer.fit` stopped: `max_epochs=1000` reached.\n",
      "GPU available: True (cuda), used: False\n",
      "TPU available: False, using: 0 TPU cores\n",
      "IPU available: False, using: 0 IPUs\n",
      "HPU available: False, using: 0 HPUs\n"
     ]
    },
    {
     "name": "stdout",
     "output_type": "stream",
     "text": [
      "Training took 0.54 seconds\n",
      "GT_INTERV.DEVICE: cpu\n",
      "setting device to: cpu\n"
     ]
    },
    {
     "name": "stderr",
     "output_type": "stream",
     "text": [
      "`Trainer.fit` stopped: `max_epochs=1000` reached.\n",
      "GPU available: True (cuda), used: False\n",
      "TPU available: False, using: 0 TPU cores\n",
      "IPU available: False, using: 0 IPUs\n",
      "HPU available: False, using: 0 HPUs\n"
     ]
    },
    {
     "name": "stdout",
     "output_type": "stream",
     "text": [
      "Training took 0.54 seconds\n",
      "GT_INTERV.DEVICE: cpu\n",
      "setting device to: cpu\n"
     ]
    },
    {
     "name": "stderr",
     "output_type": "stream",
     "text": [
      "`Trainer.fit` stopped: `max_epochs=1000` reached.\n",
      "GPU available: True (cuda), used: False\n",
      "TPU available: False, using: 0 TPU cores\n",
      "IPU available: False, using: 0 IPUs\n",
      "HPU available: False, using: 0 HPUs\n"
     ]
    },
    {
     "name": "stdout",
     "output_type": "stream",
     "text": [
      "Training took 0.53 seconds\n",
      "GT_INTERV.DEVICE: cpu\n",
      "setting device to: cpu\n"
     ]
    },
    {
     "name": "stderr",
     "output_type": "stream",
     "text": [
      "`Trainer.fit` stopped: `max_epochs=1000` reached.\n"
     ]
    },
    {
     "name": "stdout",
     "output_type": "stream",
     "text": [
      "Training took 0.54 seconds\n",
      "run_063\n"
     ]
    },
    {
     "name": "stderr",
     "output_type": "stream",
     "text": [
      "GPU available: True (cuda), used: False\n",
      "TPU available: False, using: 0 TPU cores\n",
      "IPU available: False, using: 0 IPUs\n",
      "HPU available: False, using: 0 HPUs\n"
     ]
    },
    {
     "name": "stdout",
     "output_type": "stream",
     "text": [
      "Iterator state: 0\n",
      "GT_INTERV.DEVICE: cpu\n",
      "setting device to: cpu\n"
     ]
    },
    {
     "name": "stderr",
     "output_type": "stream",
     "text": [
      "`Trainer.fit` stopped: `max_epochs=1000` reached.\n",
      "GPU available: True (cuda), used: False\n",
      "TPU available: False, using: 0 TPU cores\n",
      "IPU available: False, using: 0 IPUs\n",
      "HPU available: False, using: 0 HPUs\n"
     ]
    },
    {
     "name": "stdout",
     "output_type": "stream",
     "text": [
      "Training took 0.42 seconds\n",
      "GT_INTERV.DEVICE: cpu\n",
      "setting device to: cpu\n"
     ]
    },
    {
     "name": "stderr",
     "output_type": "stream",
     "text": [
      "`Trainer.fit` stopped: `max_epochs=1000` reached.\n",
      "GPU available: True (cuda), used: False\n",
      "TPU available: False, using: 0 TPU cores\n",
      "IPU available: False, using: 0 IPUs\n",
      "HPU available: False, using: 0 HPUs\n"
     ]
    },
    {
     "name": "stdout",
     "output_type": "stream",
     "text": [
      "Training took 0.39 seconds\n",
      "GT_INTERV.DEVICE: cpu\n",
      "setting device to: cpu\n"
     ]
    },
    {
     "name": "stderr",
     "output_type": "stream",
     "text": [
      "`Trainer.fit` stopped: `max_epochs=1000` reached.\n",
      "GPU available: True (cuda), used: False\n",
      "TPU available: False, using: 0 TPU cores\n",
      "IPU available: False, using: 0 IPUs\n",
      "HPU available: False, using: 0 HPUs\n"
     ]
    },
    {
     "name": "stdout",
     "output_type": "stream",
     "text": [
      "Training took 0.39 seconds\n",
      "GT_INTERV.DEVICE: cpu\n",
      "setting device to: cpu\n"
     ]
    },
    {
     "name": "stderr",
     "output_type": "stream",
     "text": [
      "`Trainer.fit` stopped: `max_epochs=1000` reached.\n",
      "GPU available: True (cuda), used: False\n",
      "TPU available: False, using: 0 TPU cores\n",
      "IPU available: False, using: 0 IPUs\n",
      "HPU available: False, using: 0 HPUs\n"
     ]
    },
    {
     "name": "stdout",
     "output_type": "stream",
     "text": [
      "Training took 0.38 seconds\n",
      "GT_INTERV.DEVICE: cpu\n",
      "setting device to: cpu\n"
     ]
    },
    {
     "name": "stderr",
     "output_type": "stream",
     "text": [
      "`Trainer.fit` stopped: `max_epochs=1000` reached.\n",
      "GPU available: True (cuda), used: False\n",
      "TPU available: False, using: 0 TPU cores\n",
      "IPU available: False, using: 0 IPUs\n",
      "HPU available: False, using: 0 HPUs\n"
     ]
    },
    {
     "name": "stdout",
     "output_type": "stream",
     "text": [
      "Training took 0.39 seconds\n",
      "GT_INTERV.DEVICE: cpu\n",
      "setting device to: cpu\n"
     ]
    },
    {
     "name": "stderr",
     "output_type": "stream",
     "text": [
      "`Trainer.fit` stopped: `max_epochs=1000` reached.\n",
      "GPU available: True (cuda), used: False\n",
      "TPU available: False, using: 0 TPU cores\n",
      "IPU available: False, using: 0 IPUs\n",
      "HPU available: False, using: 0 HPUs\n"
     ]
    },
    {
     "name": "stdout",
     "output_type": "stream",
     "text": [
      "Training took 0.39 seconds\n",
      "GT_INTERV.DEVICE: cpu\n",
      "setting device to: cpu\n"
     ]
    },
    {
     "name": "stderr",
     "output_type": "stream",
     "text": [
      "`Trainer.fit` stopped: `max_epochs=1000` reached.\n",
      "GPU available: True (cuda), used: False\n",
      "TPU available: False, using: 0 TPU cores\n",
      "IPU available: False, using: 0 IPUs\n",
      "HPU available: False, using: 0 HPUs\n"
     ]
    },
    {
     "name": "stdout",
     "output_type": "stream",
     "text": [
      "Training took 0.39 seconds\n",
      "GT_INTERV.DEVICE: cpu\n",
      "setting device to: cpu\n"
     ]
    },
    {
     "name": "stderr",
     "output_type": "stream",
     "text": [
      "`Trainer.fit` stopped: `max_epochs=1000` reached.\n",
      "GPU available: True (cuda), used: False\n",
      "TPU available: False, using: 0 TPU cores\n",
      "IPU available: False, using: 0 IPUs\n",
      "HPU available: False, using: 0 HPUs\n"
     ]
    },
    {
     "name": "stdout",
     "output_type": "stream",
     "text": [
      "Training took 0.39 seconds\n",
      "GT_INTERV.DEVICE: cpu\n",
      "setting device to: cpu\n"
     ]
    },
    {
     "name": "stderr",
     "output_type": "stream",
     "text": [
      "`Trainer.fit` stopped: `max_epochs=1000` reached.\n",
      "GPU available: True (cuda), used: False\n",
      "TPU available: False, using: 0 TPU cores\n",
      "IPU available: False, using: 0 IPUs\n",
      "HPU available: False, using: 0 HPUs\n"
     ]
    },
    {
     "name": "stdout",
     "output_type": "stream",
     "text": [
      "Training took 0.39 seconds\n",
      "GT_INTERV.DEVICE: cpu\n",
      "setting device to: cpu\n"
     ]
    },
    {
     "name": "stderr",
     "output_type": "stream",
     "text": [
      "`Trainer.fit` stopped: `max_epochs=1000` reached.\n",
      "GPU available: True (cuda), used: False\n",
      "TPU available: False, using: 0 TPU cores\n",
      "IPU available: False, using: 0 IPUs\n",
      "HPU available: False, using: 0 HPUs\n"
     ]
    },
    {
     "name": "stdout",
     "output_type": "stream",
     "text": [
      "Training took 0.38 seconds\n",
      "GT_INTERV.DEVICE: cpu\n",
      "setting device to: cpu\n"
     ]
    },
    {
     "name": "stderr",
     "output_type": "stream",
     "text": [
      "`Trainer.fit` stopped: `max_epochs=1000` reached.\n",
      "GPU available: True (cuda), used: False\n",
      "TPU available: False, using: 0 TPU cores\n",
      "IPU available: False, using: 0 IPUs\n",
      "HPU available: False, using: 0 HPUs\n"
     ]
    },
    {
     "name": "stdout",
     "output_type": "stream",
     "text": [
      "Training took 0.38 seconds\n",
      "GT_INTERV.DEVICE: cpu\n",
      "setting device to: cpu\n"
     ]
    },
    {
     "name": "stderr",
     "output_type": "stream",
     "text": [
      "`Trainer.fit` stopped: `max_epochs=1000` reached.\n",
      "GPU available: True (cuda), used: False\n",
      "TPU available: False, using: 0 TPU cores\n",
      "IPU available: False, using: 0 IPUs\n",
      "HPU available: False, using: 0 HPUs\n"
     ]
    },
    {
     "name": "stdout",
     "output_type": "stream",
     "text": [
      "Training took 0.39 seconds\n",
      "GT_INTERV.DEVICE: cpu\n",
      "setting device to: cpu\n"
     ]
    },
    {
     "name": "stderr",
     "output_type": "stream",
     "text": [
      "`Trainer.fit` stopped: `max_epochs=1000` reached.\n",
      "GPU available: True (cuda), used: False\n",
      "TPU available: False, using: 0 TPU cores\n",
      "IPU available: False, using: 0 IPUs\n",
      "HPU available: False, using: 0 HPUs\n"
     ]
    },
    {
     "name": "stdout",
     "output_type": "stream",
     "text": [
      "Training took 0.39 seconds\n",
      "GT_INTERV.DEVICE: cpu\n",
      "setting device to: cpu\n"
     ]
    },
    {
     "name": "stderr",
     "output_type": "stream",
     "text": [
      "`Trainer.fit` stopped: `max_epochs=1000` reached.\n",
      "GPU available: True (cuda), used: False\n",
      "TPU available: False, using: 0 TPU cores\n",
      "IPU available: False, using: 0 IPUs\n",
      "HPU available: False, using: 0 HPUs\n"
     ]
    },
    {
     "name": "stdout",
     "output_type": "stream",
     "text": [
      "Training took 0.38 seconds\n",
      "GT_INTERV.DEVICE: cpu\n",
      "setting device to: cpu\n"
     ]
    },
    {
     "name": "stderr",
     "output_type": "stream",
     "text": [
      "`Trainer.fit` stopped: `max_epochs=1000` reached.\n",
      "GPU available: True (cuda), used: False\n",
      "TPU available: False, using: 0 TPU cores\n",
      "IPU available: False, using: 0 IPUs\n",
      "HPU available: False, using: 0 HPUs\n"
     ]
    },
    {
     "name": "stdout",
     "output_type": "stream",
     "text": [
      "Training took 0.38 seconds\n",
      "GT_INTERV.DEVICE: cpu\n",
      "setting device to: cpu\n"
     ]
    },
    {
     "name": "stderr",
     "output_type": "stream",
     "text": [
      "`Trainer.fit` stopped: `max_epochs=1000` reached.\n",
      "GPU available: True (cuda), used: False\n",
      "TPU available: False, using: 0 TPU cores\n",
      "IPU available: False, using: 0 IPUs\n",
      "HPU available: False, using: 0 HPUs\n"
     ]
    },
    {
     "name": "stdout",
     "output_type": "stream",
     "text": [
      "Training took 0.39 seconds\n",
      "GT_INTERV.DEVICE: cpu\n",
      "setting device to: cpu\n"
     ]
    },
    {
     "name": "stderr",
     "output_type": "stream",
     "text": [
      "`Trainer.fit` stopped: `max_epochs=1000` reached.\n",
      "GPU available: True (cuda), used: False\n",
      "TPU available: False, using: 0 TPU cores\n",
      "IPU available: False, using: 0 IPUs\n",
      "HPU available: False, using: 0 HPUs\n"
     ]
    },
    {
     "name": "stdout",
     "output_type": "stream",
     "text": [
      "Training took 0.39 seconds\n",
      "GT_INTERV.DEVICE: cpu\n",
      "setting device to: cpu\n"
     ]
    },
    {
     "name": "stderr",
     "output_type": "stream",
     "text": [
      "`Trainer.fit` stopped: `max_epochs=1000` reached.\n",
      "GPU available: True (cuda), used: False\n",
      "TPU available: False, using: 0 TPU cores\n",
      "IPU available: False, using: 0 IPUs\n",
      "HPU available: False, using: 0 HPUs\n"
     ]
    },
    {
     "name": "stdout",
     "output_type": "stream",
     "text": [
      "Training took 0.38 seconds\n",
      "GT_INTERV.DEVICE: cpu\n",
      "setting device to: cpu\n"
     ]
    },
    {
     "name": "stderr",
     "output_type": "stream",
     "text": [
      "`Trainer.fit` stopped: `max_epochs=1000` reached.\n",
      "GPU available: True (cuda), used: False\n",
      "TPU available: False, using: 0 TPU cores\n",
      "IPU available: False, using: 0 IPUs\n",
      "HPU available: False, using: 0 HPUs\n"
     ]
    },
    {
     "name": "stdout",
     "output_type": "stream",
     "text": [
      "Training took 0.38 seconds\n",
      "GT_INTERV.DEVICE: cpu\n",
      "setting device to: cpu\n"
     ]
    },
    {
     "name": "stderr",
     "output_type": "stream",
     "text": [
      "`Trainer.fit` stopped: `max_epochs=1000` reached.\n",
      "GPU available: True (cuda), used: False\n",
      "TPU available: False, using: 0 TPU cores\n",
      "IPU available: False, using: 0 IPUs\n",
      "HPU available: False, using: 0 HPUs\n"
     ]
    },
    {
     "name": "stdout",
     "output_type": "stream",
     "text": [
      "Training took 0.38 seconds\n",
      "GT_INTERV.DEVICE: cpu\n",
      "setting device to: cpu\n"
     ]
    },
    {
     "name": "stderr",
     "output_type": "stream",
     "text": [
      "`Trainer.fit` stopped: `max_epochs=1000` reached.\n",
      "GPU available: True (cuda), used: False\n",
      "TPU available: False, using: 0 TPU cores\n",
      "IPU available: False, using: 0 IPUs\n",
      "HPU available: False, using: 0 HPUs\n"
     ]
    },
    {
     "name": "stdout",
     "output_type": "stream",
     "text": [
      "Training took 0.39 seconds\n",
      "Iterator state: 1\n",
      "GT_INTERV.DEVICE: cpu\n",
      "setting device to: cpu\n"
     ]
    },
    {
     "name": "stderr",
     "output_type": "stream",
     "text": [
      "`Trainer.fit` stopped: `max_epochs=1000` reached.\n",
      "GPU available: True (cuda), used: False\n",
      "TPU available: False, using: 0 TPU cores\n",
      "IPU available: False, using: 0 IPUs\n",
      "HPU available: False, using: 0 HPUs\n"
     ]
    },
    {
     "name": "stdout",
     "output_type": "stream",
     "text": [
      "Training took 0.46 seconds\n",
      "GT_INTERV.DEVICE: cpu\n",
      "setting device to: cpu\n"
     ]
    },
    {
     "name": "stderr",
     "output_type": "stream",
     "text": [
      "`Trainer.fit` stopped: `max_epochs=1000` reached.\n",
      "GPU available: True (cuda), used: False\n",
      "TPU available: False, using: 0 TPU cores\n",
      "IPU available: False, using: 0 IPUs\n",
      "HPU available: False, using: 0 HPUs\n"
     ]
    },
    {
     "name": "stdout",
     "output_type": "stream",
     "text": [
      "Training took 0.46 seconds\n",
      "GT_INTERV.DEVICE: cpu\n",
      "setting device to: cpu\n"
     ]
    },
    {
     "name": "stderr",
     "output_type": "stream",
     "text": [
      "`Trainer.fit` stopped: `max_epochs=1000` reached.\n",
      "GPU available: True (cuda), used: False\n",
      "TPU available: False, using: 0 TPU cores\n",
      "IPU available: False, using: 0 IPUs\n",
      "HPU available: False, using: 0 HPUs\n"
     ]
    },
    {
     "name": "stdout",
     "output_type": "stream",
     "text": [
      "Training took 0.46 seconds\n",
      "GT_INTERV.DEVICE: cpu\n",
      "setting device to: cpu\n"
     ]
    },
    {
     "name": "stderr",
     "output_type": "stream",
     "text": [
      "`Trainer.fit` stopped: `max_epochs=1000` reached.\n",
      "GPU available: True (cuda), used: False\n",
      "TPU available: False, using: 0 TPU cores\n",
      "IPU available: False, using: 0 IPUs\n",
      "HPU available: False, using: 0 HPUs\n"
     ]
    },
    {
     "name": "stdout",
     "output_type": "stream",
     "text": [
      "Training took 0.46 seconds\n",
      "GT_INTERV.DEVICE: cpu\n",
      "setting device to: cpu\n"
     ]
    },
    {
     "name": "stderr",
     "output_type": "stream",
     "text": [
      "`Trainer.fit` stopped: `max_epochs=1000` reached.\n",
      "GPU available: True (cuda), used: False\n",
      "TPU available: False, using: 0 TPU cores\n",
      "IPU available: False, using: 0 IPUs\n",
      "HPU available: False, using: 0 HPUs\n"
     ]
    },
    {
     "name": "stdout",
     "output_type": "stream",
     "text": [
      "Training took 0.69 seconds\n",
      "GT_INTERV.DEVICE: cpu\n",
      "setting device to: cpu\n"
     ]
    },
    {
     "name": "stderr",
     "output_type": "stream",
     "text": [
      "`Trainer.fit` stopped: `max_epochs=1000` reached.\n",
      "GPU available: True (cuda), used: False\n",
      "TPU available: False, using: 0 TPU cores\n",
      "IPU available: False, using: 0 IPUs\n",
      "HPU available: False, using: 0 HPUs\n"
     ]
    },
    {
     "name": "stdout",
     "output_type": "stream",
     "text": [
      "Training took 0.69 seconds\n",
      "GT_INTERV.DEVICE: cpu\n",
      "setting device to: cpu\n"
     ]
    },
    {
     "name": "stderr",
     "output_type": "stream",
     "text": [
      "`Trainer.fit` stopped: `max_epochs=1000` reached.\n",
      "GPU available: True (cuda), used: False\n",
      "TPU available: False, using: 0 TPU cores\n",
      "IPU available: False, using: 0 IPUs\n",
      "HPU available: False, using: 0 HPUs\n"
     ]
    },
    {
     "name": "stdout",
     "output_type": "stream",
     "text": [
      "Training took 0.69 seconds\n",
      "GT_INTERV.DEVICE: cpu\n",
      "setting device to: cpu\n"
     ]
    },
    {
     "name": "stderr",
     "output_type": "stream",
     "text": [
      "`Trainer.fit` stopped: `max_epochs=1000` reached.\n",
      "GPU available: True (cuda), used: False\n",
      "TPU available: False, using: 0 TPU cores\n",
      "IPU available: False, using: 0 IPUs\n",
      "HPU available: False, using: 0 HPUs\n"
     ]
    },
    {
     "name": "stdout",
     "output_type": "stream",
     "text": [
      "Training took 0.69 seconds\n",
      "GT_INTERV.DEVICE: cpu\n",
      "setting device to: cpu\n"
     ]
    },
    {
     "name": "stderr",
     "output_type": "stream",
     "text": [
      "`Trainer.fit` stopped: `max_epochs=1000` reached.\n",
      "GPU available: True (cuda), used: False\n",
      "TPU available: False, using: 0 TPU cores\n",
      "IPU available: False, using: 0 IPUs\n",
      "HPU available: False, using: 0 HPUs\n"
     ]
    },
    {
     "name": "stdout",
     "output_type": "stream",
     "text": [
      "Training took 0.69 seconds\n",
      "GT_INTERV.DEVICE: cpu\n",
      "setting device to: cpu\n"
     ]
    },
    {
     "name": "stderr",
     "output_type": "stream",
     "text": [
      "`Trainer.fit` stopped: `max_epochs=1000` reached.\n",
      "GPU available: True (cuda), used: False\n",
      "TPU available: False, using: 0 TPU cores\n",
      "IPU available: False, using: 0 IPUs\n",
      "HPU available: False, using: 0 HPUs\n"
     ]
    },
    {
     "name": "stdout",
     "output_type": "stream",
     "text": [
      "Training took 0.69 seconds\n",
      "GT_INTERV.DEVICE: cpu\n",
      "setting device to: cpu\n"
     ]
    },
    {
     "name": "stderr",
     "output_type": "stream",
     "text": [
      "`Trainer.fit` stopped: `max_epochs=1000` reached.\n",
      "GPU available: True (cuda), used: False\n",
      "TPU available: False, using: 0 TPU cores\n",
      "IPU available: False, using: 0 IPUs\n",
      "HPU available: False, using: 0 HPUs\n"
     ]
    },
    {
     "name": "stdout",
     "output_type": "stream",
     "text": [
      "Training took 0.69 seconds\n",
      "GT_INTERV.DEVICE: cpu\n",
      "setting device to: cpu\n"
     ]
    },
    {
     "name": "stderr",
     "output_type": "stream",
     "text": [
      "`Trainer.fit` stopped: `max_epochs=1000` reached.\n",
      "GPU available: True (cuda), used: False\n",
      "TPU available: False, using: 0 TPU cores\n",
      "IPU available: False, using: 0 IPUs\n",
      "HPU available: False, using: 0 HPUs\n"
     ]
    },
    {
     "name": "stdout",
     "output_type": "stream",
     "text": [
      "Training took 0.69 seconds\n",
      "GT_INTERV.DEVICE: cpu\n",
      "setting device to: cpu\n"
     ]
    },
    {
     "name": "stderr",
     "output_type": "stream",
     "text": [
      "`Trainer.fit` stopped: `max_epochs=1000` reached.\n",
      "GPU available: True (cuda), used: False\n",
      "TPU available: False, using: 0 TPU cores\n",
      "IPU available: False, using: 0 IPUs\n",
      "HPU available: False, using: 0 HPUs\n"
     ]
    },
    {
     "name": "stdout",
     "output_type": "stream",
     "text": [
      "Training took 0.69 seconds\n",
      "GT_INTERV.DEVICE: cpu\n",
      "setting device to: cpu\n"
     ]
    },
    {
     "name": "stderr",
     "output_type": "stream",
     "text": [
      "`Trainer.fit` stopped: `max_epochs=1000` reached.\n",
      "GPU available: True (cuda), used: False\n",
      "TPU available: False, using: 0 TPU cores\n",
      "IPU available: False, using: 0 IPUs\n",
      "HPU available: False, using: 0 HPUs\n"
     ]
    },
    {
     "name": "stdout",
     "output_type": "stream",
     "text": [
      "Training took 0.69 seconds\n",
      "GT_INTERV.DEVICE: cpu\n",
      "setting device to: cpu\n"
     ]
    },
    {
     "name": "stderr",
     "output_type": "stream",
     "text": [
      "`Trainer.fit` stopped: `max_epochs=1000` reached.\n",
      "GPU available: True (cuda), used: False\n",
      "TPU available: False, using: 0 TPU cores\n",
      "IPU available: False, using: 0 IPUs\n",
      "HPU available: False, using: 0 HPUs\n"
     ]
    },
    {
     "name": "stdout",
     "output_type": "stream",
     "text": [
      "Training took 0.69 seconds\n",
      "GT_INTERV.DEVICE: cpu\n",
      "setting device to: cpu\n"
     ]
    },
    {
     "name": "stderr",
     "output_type": "stream",
     "text": [
      "`Trainer.fit` stopped: `max_epochs=1000` reached.\n",
      "GPU available: True (cuda), used: False\n",
      "TPU available: False, using: 0 TPU cores\n",
      "IPU available: False, using: 0 IPUs\n",
      "HPU available: False, using: 0 HPUs\n"
     ]
    },
    {
     "name": "stdout",
     "output_type": "stream",
     "text": [
      "Training took 0.69 seconds\n",
      "GT_INTERV.DEVICE: cpu\n",
      "setting device to: cpu\n"
     ]
    },
    {
     "name": "stderr",
     "output_type": "stream",
     "text": [
      "`Trainer.fit` stopped: `max_epochs=1000` reached.\n",
      "GPU available: True (cuda), used: False\n",
      "TPU available: False, using: 0 TPU cores\n",
      "IPU available: False, using: 0 IPUs\n",
      "HPU available: False, using: 0 HPUs\n"
     ]
    },
    {
     "name": "stdout",
     "output_type": "stream",
     "text": [
      "Training took 0.69 seconds\n",
      "GT_INTERV.DEVICE: cpu\n",
      "setting device to: cpu\n"
     ]
    },
    {
     "name": "stderr",
     "output_type": "stream",
     "text": [
      "`Trainer.fit` stopped: `max_epochs=1000` reached.\n",
      "GPU available: True (cuda), used: False\n",
      "TPU available: False, using: 0 TPU cores\n",
      "IPU available: False, using: 0 IPUs\n",
      "HPU available: False, using: 0 HPUs\n"
     ]
    },
    {
     "name": "stdout",
     "output_type": "stream",
     "text": [
      "Training took 0.69 seconds\n",
      "GT_INTERV.DEVICE: cpu\n",
      "setting device to: cpu\n"
     ]
    },
    {
     "name": "stderr",
     "output_type": "stream",
     "text": [
      "`Trainer.fit` stopped: `max_epochs=1000` reached.\n",
      "GPU available: True (cuda), used: False\n",
      "TPU available: False, using: 0 TPU cores\n",
      "IPU available: False, using: 0 IPUs\n",
      "HPU available: False, using: 0 HPUs\n"
     ]
    },
    {
     "name": "stdout",
     "output_type": "stream",
     "text": [
      "Training took 0.69 seconds\n",
      "GT_INTERV.DEVICE: cpu\n",
      "setting device to: cpu\n"
     ]
    },
    {
     "name": "stderr",
     "output_type": "stream",
     "text": [
      "`Trainer.fit` stopped: `max_epochs=1000` reached.\n",
      "GPU available: True (cuda), used: False\n",
      "TPU available: False, using: 0 TPU cores\n",
      "IPU available: False, using: 0 IPUs\n",
      "HPU available: False, using: 0 HPUs\n"
     ]
    },
    {
     "name": "stdout",
     "output_type": "stream",
     "text": [
      "Training took 0.69 seconds\n",
      "GT_INTERV.DEVICE: cpu\n",
      "setting device to: cpu\n"
     ]
    },
    {
     "name": "stderr",
     "output_type": "stream",
     "text": [
      "`Trainer.fit` stopped: `max_epochs=1000` reached.\n"
     ]
    },
    {
     "name": "stdout",
     "output_type": "stream",
     "text": [
      "Training took 0.69 seconds\n"
     ]
    }
   ],
   "source": [
    "SEED = 1\n",
    "iterator = [0, 1]\n",
    "validation_size = 0\n",
    "batch_size = 10000\n",
    "scores = np.empty((len(ckpts.keys()), len(iterator)))\n",
    "for k, (key, model) in enumerate(ckpts.items()):\n",
    "    print(key)\n",
    "    \n",
    "    for n,i in enumerate(iterator):\n",
    "        print(f\"Iterator state: {i}\")\n",
    "        scores[k,n] = evaluate_model(model, key=key, models_path=models_path, max_epochs = 1000, compute_class_metrics = False, **configs[i])[0]\n"
   ]
  },
  {
   "cell_type": "code",
   "execution_count": 57,
   "id": "48a68851",
   "metadata": {},
   "outputs": [
    {
     "data": {
      "text/plain": [
       "Text(0.5, 1.0, 'Selection Summary')"
      ]
     },
     "execution_count": 57,
     "metadata": {},
     "output_type": "execute_result"
    },
    {
     "data": {
      "image/png": "[encoded data removed]",
      "text/plain": [
       "<Figure size 640x480 with 1 Axes>"
      ]
     },
     "metadata": {},
     "output_type": "display_data"
    }
   ],
   "source": [
    "y = np.mean(scores, axis = 0)\n",
    "x=np.array(iterator).astype(str)\n",
    "plt.bar(x=x, height=y, alpha = 0.9)\n",
    "plt.errorbar(x=x, y=y,yerr=np.std(scores, axis = 0), fmt=\"none\", c = \"grey\", capsize=10)\n",
    "xticks = np.array(plt.xticks()[0])\n",
    "a = 0.01\n",
    "n_sign = 0\n",
    "# enumerate pairs and test for significance\n",
    "for c1 in range(scores.shape[1]):\n",
    "    for c2 in range(scores.shape[1]):\n",
    "        if c1 >= c2:\n",
    "            # continue when comparing same column\n",
    "            continue\n",
    "        p = np.round(ttest_rel(scores[:,c1], scores[:,c2]).pvalue, 5)\n",
    "        if p>a:\n",
    "            # continue if not significant\n",
    "            continue\n",
    "        y_bar1 = np.max(y) *(1.1+n_sign*0.2)\n",
    "        y_bar2 = y_bar1 *1.1\n",
    "        plt.plot(np.repeat(xticks[[c1, c2]], 2), np.array([y_bar1, y_bar2])[[0,1,1,0]], c = \"black\")\n",
    "        y_text = y_bar2 *1.01\n",
    "        x_text = np.mean(xticks[[c1, c2]])\n",
    "        plt.ylim((0, y_text*1.1))\n",
    "        p = f\"p value: {p}\"\n",
    "        plt.text(x = x_text, y = y_text, s = p, ha=\"center\")\n",
    "        n_sign += 1\n",
    "        plt.ylim((0, y_text*1.2))\n",
    "plt.xlabel(\"use_loss_funct\")\n",
    "plt.ylabel(\"NLL\")\n",
    "plt.title(\"Selection Summary\")\n",
    "#plt.legend()\n",
    "#plt.savefig(Path(f\"./presentation/NLL_{experiment}_SEM2_lossfunct.pdf\"))"
   ]
  },
  {
   "cell_type": "code",
   "execution_count": 44,
   "id": "21f0016e",
   "metadata": {},
   "outputs": [
    {
     "name": "stdout",
     "output_type": "stream",
     "text": [
      "run_062\n",
      "Iterator state: 1\n",
      "More than 20 test_genes! Removing last 1 contexts.\n"
     ]
    },
    {
     "name": "stderr",
     "output_type": "stream",
     "text": [
      "GPU available: True (cuda), used: False\n",
      "TPU available: False, using: 0 TPU cores\n",
      "IPU available: False, using: 0 IPUs\n",
      "HPU available: False, using: 0 HPUs\n",
      "/data/toulouse/miniforge3/envs/bicycle/lib/python3.11/site-packages/pytorch_lightning/trainer/setup.py:176: PossibleUserWarning: GPU available but not used. Set `accelerator` and `devices` using `Trainer(accelerator='gpu', devices=2)`.\n",
      "  rank_zero_warn(\n",
      "/data/toulouse/miniforge3/envs/bicycle/lib/python3.11/site-packages/pytorch_lightning/trainer/connectors/data_connector.py:442: PossibleUserWarning: The dataloader, train_dataloader, does not have many workers which may be a bottleneck. Consider increasing the value of the `num_workers` argument` (try 64 which is the number of cpus on this machine) in the `DataLoader` init to improve performance.\n",
      "  rank_zero_warn(\n",
      "/data/toulouse/miniforge3/envs/bicycle/lib/python3.11/site-packages/pytorch_lightning/loops/fit_loop.py:281: PossibleUserWarning: The number of training batches (1) is smaller than the logging interval Trainer(log_every_n_steps=1000000). Set a lower value for log_every_n_steps if you want to see logs for the training epoch.\n",
      "  rank_zero_warn(\n",
      "`Trainer.fit` stopped: `max_epochs=1` reached.\n",
      "GPU available: True (cuda), used: False\n",
      "TPU available: False, using: 0 TPU cores\n",
      "IPU available: False, using: 0 IPUs\n",
      "HPU available: False, using: 0 HPUs\n",
      "`Trainer.fit` stopped: `max_epochs=1` reached.\n",
      "GPU available: True (cuda), used: False\n",
      "TPU available: False, using: 0 TPU cores\n",
      "IPU available: False, using: 0 IPUs\n",
      "HPU available: False, using: 0 HPUs\n",
      "`Trainer.fit` stopped: `max_epochs=1` reached.\n",
      "GPU available: True (cuda), used: False\n",
      "TPU available: False, using: 0 TPU cores\n",
      "IPU available: False, using: 0 IPUs\n",
      "HPU available: False, using: 0 HPUs\n",
      "`Trainer.fit` stopped: `max_epochs=1` reached.\n",
      "GPU available: True (cuda), used: False\n",
      "TPU available: False, using: 0 TPU cores\n",
      "IPU available: False, using: 0 IPUs\n",
      "HPU available: False, using: 0 HPUs\n",
      "`Trainer.fit` stopped: `max_epochs=1` reached.\n",
      "GPU available: True (cuda), used: False\n",
      "TPU available: False, using: 0 TPU cores\n",
      "IPU available: False, using: 0 IPUs\n",
      "HPU available: False, using: 0 HPUs\n",
      "`Trainer.fit` stopped: `max_epochs=1` reached.\n",
      "GPU available: True (cuda), used: False\n",
      "TPU available: False, using: 0 TPU cores\n",
      "IPU available: False, using: 0 IPUs\n",
      "HPU available: False, using: 0 HPUs\n",
      "`Trainer.fit` stopped: `max_epochs=1` reached.\n",
      "GPU available: True (cuda), used: False\n",
      "TPU available: False, using: 0 TPU cores\n",
      "IPU available: False, using: 0 IPUs\n",
      "HPU available: False, using: 0 HPUs\n",
      "`Trainer.fit` stopped: `max_epochs=1` reached.\n",
      "GPU available: True (cuda), used: False\n",
      "TPU available: False, using: 0 TPU cores\n",
      "IPU available: False, using: 0 IPUs\n",
      "HPU available: False, using: 0 HPUs\n",
      "`Trainer.fit` stopped: `max_epochs=1` reached.\n",
      "GPU available: True (cuda), used: False\n",
      "TPU available: False, using: 0 TPU cores\n",
      "IPU available: False, using: 0 IPUs\n",
      "HPU available: False, using: 0 HPUs\n",
      "`Trainer.fit` stopped: `max_epochs=1` reached.\n",
      "GPU available: True (cuda), used: False\n",
      "TPU available: False, using: 0 TPU cores\n",
      "IPU available: False, using: 0 IPUs\n",
      "HPU available: False, using: 0 HPUs\n",
      "`Trainer.fit` stopped: `max_epochs=1` reached.\n",
      "GPU available: True (cuda), used: False\n",
      "TPU available: False, using: 0 TPU cores\n",
      "IPU available: False, using: 0 IPUs\n",
      "HPU available: False, using: 0 HPUs\n",
      "`Trainer.fit` stopped: `max_epochs=1` reached.\n",
      "GPU available: True (cuda), used: False\n",
      "TPU available: False, using: 0 TPU cores\n",
      "IPU available: False, using: 0 IPUs\n",
      "HPU available: False, using: 0 HPUs\n",
      "`Trainer.fit` stopped: `max_epochs=1` reached.\n",
      "GPU available: True (cuda), used: False\n",
      "TPU available: False, using: 0 TPU cores\n",
      "IPU available: False, using: 0 IPUs\n",
      "HPU available: False, using: 0 HPUs\n",
      "`Trainer.fit` stopped: `max_epochs=1` reached.\n",
      "GPU available: True (cuda), used: False\n",
      "TPU available: False, using: 0 TPU cores\n",
      "IPU available: False, using: 0 IPUs\n",
      "HPU available: False, using: 0 HPUs\n",
      "`Trainer.fit` stopped: `max_epochs=1` reached.\n",
      "GPU available: True (cuda), used: False\n",
      "TPU available: False, using: 0 TPU cores\n",
      "IPU available: False, using: 0 IPUs\n",
      "HPU available: False, using: 0 HPUs\n",
      "`Trainer.fit` stopped: `max_epochs=1` reached.\n",
      "GPU available: True (cuda), used: False\n",
      "TPU available: False, using: 0 TPU cores\n",
      "IPU available: False, using: 0 IPUs\n",
      "HPU available: False, using: 0 HPUs\n",
      "`Trainer.fit` stopped: `max_epochs=1` reached.\n",
      "GPU available: True (cuda), used: False\n",
      "TPU available: False, using: 0 TPU cores\n",
      "IPU available: False, using: 0 IPUs\n",
      "HPU available: False, using: 0 HPUs\n",
      "`Trainer.fit` stopped: `max_epochs=1` reached.\n"
     ]
    },
    {
     "name": "stdout",
     "output_type": "stream",
     "text": [
      "GT_INTERV.DEVICE: cpu\n",
      "setting device to: cpu\n",
      "Training took 0.01 seconds\n",
      "GT_INTERV.DEVICE: cpu\n",
      "setting device to: cpu\n",
      "Training took 0.01 seconds\n",
      "GT_INTERV.DEVICE: cpu\n",
      "setting device to: cpu\n",
      "Training took 0.01 seconds\n",
      "GT_INTERV.DEVICE: cpu\n",
      "setting device to: cpu\n",
      "Training took 0.01 seconds\n",
      "GT_INTERV.DEVICE: cpu\n",
      "setting device to: cpu\n",
      "Training took 0.01 seconds\n",
      "GT_INTERV.DEVICE: cpu\n",
      "setting device to: cpu\n",
      "Training took 0.01 seconds\n",
      "GT_INTERV.DEVICE: cpu\n",
      "setting device to: cpu\n",
      "Training took 0.01 seconds\n",
      "GT_INTERV.DEVICE: cpu\n",
      "setting device to: cpu\n",
      "Training took 0.01 seconds\n",
      "GT_INTERV.DEVICE: cpu\n",
      "setting device to: cpu\n",
      "Training took 0.01 seconds\n",
      "GT_INTERV.DEVICE: cpu\n",
      "setting device to: cpu\n",
      "Training took 0.01 seconds\n",
      "GT_INTERV.DEVICE: cpu\n",
      "setting device to: cpu\n",
      "Training took 0.01 seconds\n",
      "GT_INTERV.DEVICE: cpu\n",
      "setting device to: cpu\n",
      "Training took 0.01 seconds\n",
      "GT_INTERV.DEVICE: cpu\n",
      "setting device to: cpu\n",
      "Training took 0.01 seconds\n",
      "GT_INTERV.DEVICE: cpu\n",
      "setting device to: cpu\n",
      "Training took 0.01 seconds\n",
      "GT_INTERV.DEVICE: cpu\n",
      "setting device to: cpu\n",
      "Training took 0.01 seconds\n",
      "GT_INTERV.DEVICE: cpu\n",
      "setting device to: cpu\n",
      "Training took 0.01 seconds\n",
      "GT_INTERV.DEVICE: cpu\n",
      "setting device to: cpu\n",
      "Training took 0.01 seconds\n",
      "GT_INTERV.DEVICE: cpu\n",
      "setting device to: cpu\n",
      "Training took 0.01 seconds\n",
      "GT_INTERV.DEVICE: cpu\n",
      "setting device to: cpu\n"
     ]
    },
    {
     "name": "stderr",
     "output_type": "stream",
     "text": [
      "GPU available: True (cuda), used: False\n",
      "TPU available: False, using: 0 TPU cores\n",
      "IPU available: False, using: 0 IPUs\n",
      "HPU available: False, using: 0 HPUs\n",
      "`Trainer.fit` stopped: `max_epochs=1` reached.\n",
      "GPU available: True (cuda), used: False\n",
      "TPU available: False, using: 0 TPU cores\n",
      "IPU available: False, using: 0 IPUs\n",
      "HPU available: False, using: 0 HPUs\n",
      "`Trainer.fit` stopped: `max_epochs=1` reached.\n"
     ]
    },
    {
     "name": "stdout",
     "output_type": "stream",
     "text": [
      "Training took 0.00 seconds\n",
      "GT_INTERV.DEVICE: cpu\n",
      "setting device to: cpu\n",
      "Training took 0.00 seconds\n",
      "Iterator state: 10\n",
      "More than 20 test_genes! Removing last 1 contexts.\n"
     ]
    },
    {
     "name": "stderr",
     "output_type": "stream",
     "text": [
      "GPU available: True (cuda), used: False\n",
      "TPU available: False, using: 0 TPU cores\n",
      "IPU available: False, using: 0 IPUs\n",
      "HPU available: False, using: 0 HPUs\n",
      "`Trainer.fit` stopped: `max_epochs=10` reached.\n",
      "GPU available: True (cuda), used: False\n",
      "TPU available: False, using: 0 TPU cores\n",
      "IPU available: False, using: 0 IPUs\n",
      "HPU available: False, using: 0 HPUs\n",
      "`Trainer.fit` stopped: `max_epochs=10` reached.\n",
      "GPU available: True (cuda), used: False\n",
      "TPU available: False, using: 0 TPU cores\n",
      "IPU available: False, using: 0 IPUs\n",
      "HPU available: False, using: 0 HPUs\n",
      "`Trainer.fit` stopped: `max_epochs=10` reached.\n",
      "GPU available: True (cuda), used: False\n",
      "TPU available: False, using: 0 TPU cores\n",
      "IPU available: False, using: 0 IPUs\n",
      "HPU available: False, using: 0 HPUs\n",
      "`Trainer.fit` stopped: `max_epochs=10` reached.\n",
      "GPU available: True (cuda), used: False\n",
      "TPU available: False, using: 0 TPU cores\n",
      "IPU available: False, using: 0 IPUs\n",
      "HPU available: False, using: 0 HPUs\n",
      "`Trainer.fit` stopped: `max_epochs=10` reached.\n",
      "GPU available: True (cuda), used: False\n",
      "TPU available: False, using: 0 TPU cores\n",
      "IPU available: False, using: 0 IPUs\n",
      "HPU available: False, using: 0 HPUs\n",
      "`Trainer.fit` stopped: `max_epochs=10` reached.\n",
      "GPU available: True (cuda), used: False\n",
      "TPU available: False, using: 0 TPU cores\n",
      "IPU available: False, using: 0 IPUs\n",
      "HPU available: False, using: 0 HPUs\n",
      "`Trainer.fit` stopped: `max_epochs=10` reached.\n",
      "GPU available: True (cuda), used: False\n",
      "TPU available: False, using: 0 TPU cores\n",
      "IPU available: False, using: 0 IPUs\n",
      "HPU available: False, using: 0 HPUs\n",
      "`Trainer.fit` stopped: `max_epochs=10` reached.\n",
      "GPU available: True (cuda), used: False\n",
      "TPU available: False, using: 0 TPU cores\n",
      "IPU available: False, using: 0 IPUs\n",
      "HPU available: False, using: 0 HPUs\n",
      "`Trainer.fit` stopped: `max_epochs=10` reached.\n",
      "GPU available: True (cuda), used: False\n",
      "TPU available: False, using: 0 TPU cores\n",
      "IPU available: False, using: 0 IPUs\n",
      "HPU available: False, using: 0 HPUs\n",
      "`Trainer.fit` stopped: `max_epochs=10` reached.\n",
      "GPU available: True (cuda), used: False\n",
      "TPU available: False, using: 0 TPU cores\n",
      "IPU available: False, using: 0 IPUs\n",
      "HPU available: False, using: 0 HPUs\n",
      "`Trainer.fit` stopped: `max_epochs=10` reached.\n",
      "GPU available: True (cuda), used: False\n",
      "TPU available: False, using: 0 TPU cores\n",
      "IPU available: False, using: 0 IPUs\n",
      "HPU available: False, using: 0 HPUs\n",
      "`Trainer.fit` stopped: `max_epochs=10` reached.\n",
      "GPU available: True (cuda), used: False\n",
      "TPU available: False, using: 0 TPU cores\n",
      "IPU available: False, using: 0 IPUs\n",
      "HPU available: False, using: 0 HPUs\n",
      "`Trainer.fit` stopped: `max_epochs=10` reached.\n",
      "GPU available: True (cuda), used: False\n"
     ]
    },
    {
     "name": "stdout",
     "output_type": "stream",
     "text": [
      "GT_INTERV.DEVICE: cpu\n",
      "setting device to: cpu\n",
      "Training took 0.01 seconds\n",
      "GT_INTERV.DEVICE: cpu\n",
      "setting device to: cpu\n",
      "Training took 0.01 seconds\n",
      "GT_INTERV.DEVICE: cpu\n",
      "setting device to: cpu\n",
      "Training took 0.01 seconds\n",
      "GT_INTERV.DEVICE: cpu\n",
      "setting device to: cpu\n",
      "Training took 0.01 seconds\n",
      "GT_INTERV.DEVICE: cpu\n",
      "setting device to: cpu\n",
      "Training took 0.01 seconds\n",
      "GT_INTERV.DEVICE: cpu\n",
      "setting device to: cpu\n",
      "Training took 0.01 seconds\n",
      "GT_INTERV.DEVICE: cpu\n",
      "setting device to: cpu\n",
      "Training took 0.01 seconds\n",
      "GT_INTERV.DEVICE: cpu\n",
      "setting device to: cpu\n",
      "Training took 0.01 seconds\n",
      "GT_INTERV.DEVICE: cpu\n",
      "setting device to: cpu\n",
      "Training took 0.01 seconds\n",
      "GT_INTERV.DEVICE: cpu\n",
      "setting device to: cpu\n",
      "Training took 0.01 seconds\n",
      "GT_INTERV.DEVICE: cpu\n",
      "setting device to: cpu\n",
      "Training took 0.01 seconds\n",
      "GT_INTERV.DEVICE: cpu\n",
      "setting device to: cpu\n",
      "Training took 0.01 seconds\n",
      "GT_INTERV.DEVICE: cpu\n",
      "setting device to: cpu\n",
      "Training took 0.01 seconds\n",
      "GT_INTERV.DEVICE: cpu\n",
      "setting device to: cpu\n"
     ]
    },
    {
     "name": "stderr",
     "output_type": "stream",
     "text": [
      "TPU available: False, using: 0 TPU cores\n",
      "IPU available: False, using: 0 IPUs\n",
      "HPU available: False, using: 0 HPUs\n",
      "`Trainer.fit` stopped: `max_epochs=10` reached.\n",
      "GPU available: True (cuda), used: False\n",
      "TPU available: False, using: 0 TPU cores\n",
      "IPU available: False, using: 0 IPUs\n",
      "HPU available: False, using: 0 HPUs\n",
      "`Trainer.fit` stopped: `max_epochs=10` reached.\n",
      "GPU available: True (cuda), used: False\n",
      "TPU available: False, using: 0 TPU cores\n",
      "IPU available: False, using: 0 IPUs\n",
      "HPU available: False, using: 0 HPUs\n",
      "`Trainer.fit` stopped: `max_epochs=10` reached.\n",
      "GPU available: True (cuda), used: False\n",
      "TPU available: False, using: 0 TPU cores\n",
      "IPU available: False, using: 0 IPUs\n",
      "HPU available: False, using: 0 HPUs\n",
      "`Trainer.fit` stopped: `max_epochs=10` reached.\n",
      "GPU available: True (cuda), used: False\n",
      "TPU available: False, using: 0 TPU cores\n",
      "IPU available: False, using: 0 IPUs\n",
      "HPU available: False, using: 0 HPUs\n",
      "`Trainer.fit` stopped: `max_epochs=10` reached.\n",
      "GPU available: True (cuda), used: False\n",
      "TPU available: False, using: 0 TPU cores\n",
      "IPU available: False, using: 0 IPUs\n",
      "HPU available: False, using: 0 HPUs\n",
      "`Trainer.fit` stopped: `max_epochs=10` reached.\n",
      "GPU available: True (cuda), used: False\n",
      "TPU available: False, using: 0 TPU cores\n",
      "IPU available: False, using: 0 IPUs\n",
      "HPU available: False, using: 0 HPUs\n",
      "`Trainer.fit` stopped: `max_epochs=10` reached.\n"
     ]
    },
    {
     "name": "stdout",
     "output_type": "stream",
     "text": [
      "Training took 0.01 seconds\n",
      "GT_INTERV.DEVICE: cpu\n",
      "setting device to: cpu\n",
      "Training took 0.01 seconds\n",
      "GT_INTERV.DEVICE: cpu\n",
      "setting device to: cpu\n",
      "Training took 0.01 seconds\n",
      "GT_INTERV.DEVICE: cpu\n",
      "setting device to: cpu\n",
      "Training took 0.01 seconds\n",
      "GT_INTERV.DEVICE: cpu\n",
      "setting device to: cpu\n",
      "Training took 0.01 seconds\n",
      "GT_INTERV.DEVICE: cpu\n",
      "setting device to: cpu\n",
      "Training took 0.01 seconds\n",
      "GT_INTERV.DEVICE: cpu\n",
      "setting device to: cpu\n",
      "Training took 0.01 seconds\n",
      "Iterator state: 100\n",
      "More than 20 test_genes! Removing last 1 contexts.\n"
     ]
    },
    {
     "name": "stderr",
     "output_type": "stream",
     "text": [
      "GPU available: True (cuda), used: False\n",
      "TPU available: False, using: 0 TPU cores\n",
      "IPU available: False, using: 0 IPUs\n",
      "HPU available: False, using: 0 HPUs\n",
      "`Trainer.fit` stopped: `max_epochs=100` reached.\n",
      "GPU available: True (cuda), used: False\n",
      "TPU available: False, using: 0 TPU cores\n",
      "IPU available: False, using: 0 IPUs\n",
      "HPU available: False, using: 0 HPUs\n",
      "`Trainer.fit` stopped: `max_epochs=100` reached.\n",
      "GPU available: True (cuda), used: False\n",
      "TPU available: False, using: 0 TPU cores\n",
      "IPU available: False, using: 0 IPUs\n",
      "HPU available: False, using: 0 HPUs\n",
      "`Trainer.fit` stopped: `max_epochs=100` reached.\n",
      "GPU available: True (cuda), used: False\n",
      "TPU available: False, using: 0 TPU cores\n",
      "IPU available: False, using: 0 IPUs\n",
      "HPU available: False, using: 0 HPUs\n"
     ]
    },
    {
     "name": "stdout",
     "output_type": "stream",
     "text": [
      "GT_INTERV.DEVICE: cpu\n",
      "setting device to: cpu\n",
      "Training took 0.05 seconds\n",
      "GT_INTERV.DEVICE: cpu\n",
      "setting device to: cpu\n",
      "Training took 0.05 seconds\n",
      "GT_INTERV.DEVICE: cpu\n",
      "setting device to: cpu\n",
      "Training took 0.05 seconds\n",
      "GT_INTERV.DEVICE: cpu\n",
      "setting device to: cpu\n"
     ]
    },
    {
     "name": "stderr",
     "output_type": "stream",
     "text": [
      "`Trainer.fit` stopped: `max_epochs=100` reached.\n",
      "GPU available: True (cuda), used: False\n",
      "TPU available: False, using: 0 TPU cores\n",
      "IPU available: False, using: 0 IPUs\n",
      "HPU available: False, using: 0 HPUs\n",
      "`Trainer.fit` stopped: `max_epochs=100` reached.\n",
      "GPU available: True (cuda), used: False\n",
      "TPU available: False, using: 0 TPU cores\n",
      "IPU available: False, using: 0 IPUs\n",
      "HPU available: False, using: 0 HPUs\n",
      "`Trainer.fit` stopped: `max_epochs=100` reached.\n",
      "GPU available: True (cuda), used: False\n",
      "TPU available: False, using: 0 TPU cores\n",
      "IPU available: False, using: 0 IPUs\n",
      "HPU available: False, using: 0 HPUs\n",
      "`Trainer.fit` stopped: `max_epochs=100` reached.\n",
      "GPU available: True (cuda), used: False\n",
      "TPU available: False, using: 0 TPU cores\n",
      "IPU available: False, using: 0 IPUs\n",
      "HPU available: False, using: 0 HPUs\n",
      "`Trainer.fit` stopped: `max_epochs=100` reached.\n",
      "GPU available: True (cuda), used: False\n",
      "TPU available: False, using: 0 TPU cores\n",
      "IPU available: False, using: 0 IPUs\n",
      "HPU available: False, using: 0 HPUs\n"
     ]
    },
    {
     "name": "stdout",
     "output_type": "stream",
     "text": [
      "Training took 0.05 seconds\n",
      "GT_INTERV.DEVICE: cpu\n",
      "setting device to: cpu\n",
      "Training took 0.04 seconds\n",
      "GT_INTERV.DEVICE: cpu\n",
      "setting device to: cpu\n",
      "Training took 0.04 seconds\n",
      "GT_INTERV.DEVICE: cpu\n",
      "setting device to: cpu\n",
      "Training took 0.04 seconds\n",
      "GT_INTERV.DEVICE: cpu\n",
      "setting device to: cpu\n",
      "Training took 0.04 seconds\n",
      "GT_INTERV.DEVICE: cpu\n",
      "setting device to: cpu\n"
     ]
    },
    {
     "name": "stderr",
     "output_type": "stream",
     "text": [
      "`Trainer.fit` stopped: `max_epochs=100` reached.\n",
      "GPU available: True (cuda), used: False\n",
      "TPU available: False, using: 0 TPU cores\n",
      "IPU available: False, using: 0 IPUs\n",
      "HPU available: False, using: 0 HPUs\n",
      "`Trainer.fit` stopped: `max_epochs=100` reached.\n",
      "GPU available: True (cuda), used: False\n",
      "TPU available: False, using: 0 TPU cores\n",
      "IPU available: False, using: 0 IPUs\n",
      "HPU available: False, using: 0 HPUs\n",
      "`Trainer.fit` stopped: `max_epochs=100` reached.\n",
      "GPU available: True (cuda), used: False\n",
      "TPU available: False, using: 0 TPU cores\n",
      "IPU available: False, using: 0 IPUs\n",
      "HPU available: False, using: 0 HPUs\n",
      "`Trainer.fit` stopped: `max_epochs=100` reached.\n",
      "GPU available: True (cuda), used: False\n",
      "TPU available: False, using: 0 TPU cores\n",
      "IPU available: False, using: 0 IPUs\n",
      "HPU available: False, using: 0 HPUs\n",
      "`Trainer.fit` stopped: `max_epochs=100` reached.\n",
      "GPU available: True (cuda), used: False\n",
      "TPU available: False, using: 0 TPU cores\n",
      "IPU available: False, using: 0 IPUs\n",
      "HPU available: False, using: 0 HPUs\n"
     ]
    },
    {
     "name": "stdout",
     "output_type": "stream",
     "text": [
      "Training took 0.04 seconds\n",
      "GT_INTERV.DEVICE: cpu\n",
      "setting device to: cpu\n",
      "Training took 0.04 seconds\n",
      "GT_INTERV.DEVICE: cpu\n",
      "setting device to: cpu\n",
      "Training took 0.04 seconds\n",
      "GT_INTERV.DEVICE: cpu\n",
      "setting device to: cpu\n",
      "Training took 0.04 seconds\n",
      "GT_INTERV.DEVICE: cpu\n",
      "setting device to: cpu\n",
      "Training took 0.04 seconds\n",
      "GT_INTERV.DEVICE: cpu\n",
      "setting device to: cpu\n"
     ]
    },
    {
     "name": "stderr",
     "output_type": "stream",
     "text": [
      "`Trainer.fit` stopped: `max_epochs=100` reached.\n",
      "GPU available: True (cuda), used: False\n",
      "TPU available: False, using: 0 TPU cores\n",
      "IPU available: False, using: 0 IPUs\n",
      "HPU available: False, using: 0 HPUs\n",
      "`Trainer.fit` stopped: `max_epochs=100` reached.\n",
      "GPU available: True (cuda), used: False\n",
      "TPU available: False, using: 0 TPU cores\n",
      "IPU available: False, using: 0 IPUs\n",
      "HPU available: False, using: 0 HPUs\n",
      "`Trainer.fit` stopped: `max_epochs=100` reached.\n",
      "GPU available: True (cuda), used: False\n",
      "TPU available: False, using: 0 TPU cores\n",
      "IPU available: False, using: 0 IPUs\n",
      "HPU available: False, using: 0 HPUs\n",
      "`Trainer.fit` stopped: `max_epochs=100` reached.\n",
      "GPU available: True (cuda), used: False\n",
      "TPU available: False, using: 0 TPU cores\n",
      "IPU available: False, using: 0 IPUs\n",
      "HPU available: False, using: 0 HPUs\n",
      "`Trainer.fit` stopped: `max_epochs=100` reached.\n",
      "GPU available: True (cuda), used: False\n",
      "TPU available: False, using: 0 TPU cores\n",
      "IPU available: False, using: 0 IPUs\n",
      "HPU available: False, using: 0 HPUs\n"
     ]
    },
    {
     "name": "stdout",
     "output_type": "stream",
     "text": [
      "Training took 0.04 seconds\n",
      "GT_INTERV.DEVICE: cpu\n",
      "setting device to: cpu\n",
      "Training took 0.04 seconds\n",
      "GT_INTERV.DEVICE: cpu\n",
      "setting device to: cpu\n",
      "Training took 0.04 seconds\n",
      "GT_INTERV.DEVICE: cpu\n",
      "setting device to: cpu\n",
      "Training took 0.04 seconds\n",
      "GT_INTERV.DEVICE: cpu\n",
      "setting device to: cpu\n",
      "Training took 0.04 seconds\n",
      "GT_INTERV.DEVICE: cpu\n",
      "setting device to: cpu\n"
     ]
    },
    {
     "name": "stderr",
     "output_type": "stream",
     "text": [
      "`Trainer.fit` stopped: `max_epochs=100` reached.\n",
      "GPU available: True (cuda), used: False\n",
      "TPU available: False, using: 0 TPU cores\n",
      "IPU available: False, using: 0 IPUs\n",
      "HPU available: False, using: 0 HPUs\n",
      "`Trainer.fit` stopped: `max_epochs=100` reached.\n"
     ]
    },
    {
     "name": "stdout",
     "output_type": "stream",
     "text": [
      "Training took 0.04 seconds\n",
      "GT_INTERV.DEVICE: cpu\n",
      "setting device to: cpu\n",
      "Training took 0.04 seconds\n",
      "Iterator state: 1000\n",
      "More than 20 test_genes! Removing last 1 contexts.\n"
     ]
    },
    {
     "name": "stderr",
     "output_type": "stream",
     "text": [
      "GPU available: True (cuda), used: False\n",
      "TPU available: False, using: 0 TPU cores\n",
      "IPU available: False, using: 0 IPUs\n",
      "HPU available: False, using: 0 HPUs\n"
     ]
    },
    {
     "name": "stdout",
     "output_type": "stream",
     "text": [
      "GT_INTERV.DEVICE: cpu\n",
      "setting device to: cpu\n"
     ]
    },
    {
     "name": "stderr",
     "output_type": "stream",
     "text": [
      "`Trainer.fit` stopped: `max_epochs=1000` reached.\n",
      "GPU available: True (cuda), used: False\n",
      "TPU available: False, using: 0 TPU cores\n",
      "IPU available: False, using: 0 IPUs\n",
      "HPU available: False, using: 0 HPUs\n"
     ]
    },
    {
     "name": "stdout",
     "output_type": "stream",
     "text": [
      "Training took 0.38 seconds\n",
      "GT_INTERV.DEVICE: cpu\n",
      "setting device to: cpu\n"
     ]
    },
    {
     "name": "stderr",
     "output_type": "stream",
     "text": [
      "`Trainer.fit` stopped: `max_epochs=1000` reached.\n",
      "GPU available: True (cuda), used: False\n",
      "TPU available: False, using: 0 TPU cores\n",
      "IPU available: False, using: 0 IPUs\n",
      "HPU available: False, using: 0 HPUs\n"
     ]
    },
    {
     "name": "stdout",
     "output_type": "stream",
     "text": [
      "Training took 0.38 seconds\n",
      "GT_INTERV.DEVICE: cpu\n",
      "setting device to: cpu\n"
     ]
    },
    {
     "name": "stderr",
     "output_type": "stream",
     "text": [
      "`Trainer.fit` stopped: `max_epochs=1000` reached.\n",
      "GPU available: True (cuda), used: False\n",
      "TPU available: False, using: 0 TPU cores\n",
      "IPU available: False, using: 0 IPUs\n",
      "HPU available: False, using: 0 HPUs\n"
     ]
    },
    {
     "name": "stdout",
     "output_type": "stream",
     "text": [
      "Training took 0.38 seconds\n",
      "GT_INTERV.DEVICE: cpu\n",
      "setting device to: cpu\n"
     ]
    },
    {
     "name": "stderr",
     "output_type": "stream",
     "text": [
      "`Trainer.fit` stopped: `max_epochs=1000` reached.\n",
      "GPU available: True (cuda), used: False\n",
      "TPU available: False, using: 0 TPU cores\n",
      "IPU available: False, using: 0 IPUs\n",
      "HPU available: False, using: 0 HPUs\n"
     ]
    },
    {
     "name": "stdout",
     "output_type": "stream",
     "text": [
      "Training took 0.38 seconds\n",
      "GT_INTERV.DEVICE: cpu\n",
      "setting device to: cpu\n"
     ]
    },
    {
     "name": "stderr",
     "output_type": "stream",
     "text": [
      "`Trainer.fit` stopped: `max_epochs=1000` reached.\n",
      "GPU available: True (cuda), used: False\n",
      "TPU available: False, using: 0 TPU cores\n",
      "IPU available: False, using: 0 IPUs\n",
      "HPU available: False, using: 0 HPUs\n"
     ]
    },
    {
     "name": "stdout",
     "output_type": "stream",
     "text": [
      "Training took 0.38 seconds\n",
      "GT_INTERV.DEVICE: cpu\n",
      "setting device to: cpu\n"
     ]
    },
    {
     "name": "stderr",
     "output_type": "stream",
     "text": [
      "`Trainer.fit` stopped: `max_epochs=1000` reached.\n",
      "GPU available: True (cuda), used: False\n",
      "TPU available: False, using: 0 TPU cores\n",
      "IPU available: False, using: 0 IPUs\n",
      "HPU available: False, using: 0 HPUs\n"
     ]
    },
    {
     "name": "stdout",
     "output_type": "stream",
     "text": [
      "Training took 0.38 seconds\n",
      "GT_INTERV.DEVICE: cpu\n",
      "setting device to: cpu\n"
     ]
    },
    {
     "name": "stderr",
     "output_type": "stream",
     "text": [
      "`Trainer.fit` stopped: `max_epochs=1000` reached.\n",
      "GPU available: True (cuda), used: False\n",
      "TPU available: False, using: 0 TPU cores\n",
      "IPU available: False, using: 0 IPUs\n",
      "HPU available: False, using: 0 HPUs\n"
     ]
    },
    {
     "name": "stdout",
     "output_type": "stream",
     "text": [
      "Training took 0.38 seconds\n",
      "GT_INTERV.DEVICE: cpu\n",
      "setting device to: cpu\n"
     ]
    },
    {
     "name": "stderr",
     "output_type": "stream",
     "text": [
      "`Trainer.fit` stopped: `max_epochs=1000` reached.\n",
      "GPU available: True (cuda), used: False\n",
      "TPU available: False, using: 0 TPU cores\n",
      "IPU available: False, using: 0 IPUs\n",
      "HPU available: False, using: 0 HPUs\n"
     ]
    },
    {
     "name": "stdout",
     "output_type": "stream",
     "text": [
      "Training took 0.38 seconds\n",
      "GT_INTERV.DEVICE: cpu\n",
      "setting device to: cpu\n"
     ]
    },
    {
     "name": "stderr",
     "output_type": "stream",
     "text": [
      "`Trainer.fit` stopped: `max_epochs=1000` reached.\n",
      "GPU available: True (cuda), used: False\n",
      "TPU available: False, using: 0 TPU cores\n",
      "IPU available: False, using: 0 IPUs\n",
      "HPU available: False, using: 0 HPUs\n"
     ]
    },
    {
     "name": "stdout",
     "output_type": "stream",
     "text": [
      "Training took 0.38 seconds\n",
      "GT_INTERV.DEVICE: cpu\n",
      "setting device to: cpu\n"
     ]
    },
    {
     "name": "stderr",
     "output_type": "stream",
     "text": [
      "`Trainer.fit` stopped: `max_epochs=1000` reached.\n",
      "GPU available: True (cuda), used: False\n",
      "TPU available: False, using: 0 TPU cores\n",
      "IPU available: False, using: 0 IPUs\n",
      "HPU available: False, using: 0 HPUs\n"
     ]
    },
    {
     "name": "stdout",
     "output_type": "stream",
     "text": [
      "Training took 0.38 seconds\n",
      "GT_INTERV.DEVICE: cpu\n",
      "setting device to: cpu\n"
     ]
    },
    {
     "name": "stderr",
     "output_type": "stream",
     "text": [
      "`Trainer.fit` stopped: `max_epochs=1000` reached.\n",
      "GPU available: True (cuda), used: False\n",
      "TPU available: False, using: 0 TPU cores\n",
      "IPU available: False, using: 0 IPUs\n",
      "HPU available: False, using: 0 HPUs\n"
     ]
    },
    {
     "name": "stdout",
     "output_type": "stream",
     "text": [
      "Training took 0.38 seconds\n",
      "GT_INTERV.DEVICE: cpu\n",
      "setting device to: cpu\n"
     ]
    },
    {
     "name": "stderr",
     "output_type": "stream",
     "text": [
      "`Trainer.fit` stopped: `max_epochs=1000` reached.\n",
      "GPU available: True (cuda), used: False\n",
      "TPU available: False, using: 0 TPU cores\n",
      "IPU available: False, using: 0 IPUs\n",
      "HPU available: False, using: 0 HPUs\n"
     ]
    },
    {
     "name": "stdout",
     "output_type": "stream",
     "text": [
      "Training took 0.38 seconds\n",
      "GT_INTERV.DEVICE: cpu\n",
      "setting device to: cpu\n"
     ]
    },
    {
     "name": "stderr",
     "output_type": "stream",
     "text": [
      "`Trainer.fit` stopped: `max_epochs=1000` reached.\n",
      "GPU available: True (cuda), used: False\n",
      "TPU available: False, using: 0 TPU cores\n",
      "IPU available: False, using: 0 IPUs\n",
      "HPU available: False, using: 0 HPUs\n"
     ]
    },
    {
     "name": "stdout",
     "output_type": "stream",
     "text": [
      "Training took 0.38 seconds\n",
      "GT_INTERV.DEVICE: cpu\n",
      "setting device to: cpu\n"
     ]
    },
    {
     "name": "stderr",
     "output_type": "stream",
     "text": [
      "`Trainer.fit` stopped: `max_epochs=1000` reached.\n",
      "GPU available: True (cuda), used: False\n",
      "TPU available: False, using: 0 TPU cores\n",
      "IPU available: False, using: 0 IPUs\n",
      "HPU available: False, using: 0 HPUs\n"
     ]
    },
    {
     "name": "stdout",
     "output_type": "stream",
     "text": [
      "Training took 0.38 seconds\n",
      "GT_INTERV.DEVICE: cpu\n",
      "setting device to: cpu\n"
     ]
    },
    {
     "name": "stderr",
     "output_type": "stream",
     "text": [
      "`Trainer.fit` stopped: `max_epochs=1000` reached.\n",
      "GPU available: True (cuda), used: False\n",
      "TPU available: False, using: 0 TPU cores\n",
      "IPU available: False, using: 0 IPUs\n",
      "HPU available: False, using: 0 HPUs\n"
     ]
    },
    {
     "name": "stdout",
     "output_type": "stream",
     "text": [
      "Training took 0.38 seconds\n",
      "GT_INTERV.DEVICE: cpu\n",
      "setting device to: cpu\n"
     ]
    },
    {
     "name": "stderr",
     "output_type": "stream",
     "text": [
      "`Trainer.fit` stopped: `max_epochs=1000` reached.\n",
      "GPU available: True (cuda), used: False\n",
      "TPU available: False, using: 0 TPU cores\n",
      "IPU available: False, using: 0 IPUs\n",
      "HPU available: False, using: 0 HPUs\n"
     ]
    },
    {
     "name": "stdout",
     "output_type": "stream",
     "text": [
      "Training took 0.38 seconds\n",
      "GT_INTERV.DEVICE: cpu\n",
      "setting device to: cpu\n"
     ]
    },
    {
     "name": "stderr",
     "output_type": "stream",
     "text": [
      "`Trainer.fit` stopped: `max_epochs=1000` reached.\n",
      "GPU available: True (cuda), used: False\n",
      "TPU available: False, using: 0 TPU cores\n",
      "IPU available: False, using: 0 IPUs\n",
      "HPU available: False, using: 0 HPUs\n"
     ]
    },
    {
     "name": "stdout",
     "output_type": "stream",
     "text": [
      "Training took 0.38 seconds\n",
      "GT_INTERV.DEVICE: cpu\n",
      "setting device to: cpu\n"
     ]
    },
    {
     "name": "stderr",
     "output_type": "stream",
     "text": [
      "`Trainer.fit` stopped: `max_epochs=1000` reached.\n",
      "GPU available: True (cuda), used: False\n",
      "TPU available: False, using: 0 TPU cores\n",
      "IPU available: False, using: 0 IPUs\n",
      "HPU available: False, using: 0 HPUs\n"
     ]
    },
    {
     "name": "stdout",
     "output_type": "stream",
     "text": [
      "Training took 0.38 seconds\n",
      "GT_INTERV.DEVICE: cpu\n",
      "setting device to: cpu\n"
     ]
    },
    {
     "name": "stderr",
     "output_type": "stream",
     "text": [
      "`Trainer.fit` stopped: `max_epochs=1000` reached.\n",
      "GPU available: True (cuda), used: False\n",
      "TPU available: False, using: 0 TPU cores\n",
      "IPU available: False, using: 0 IPUs\n",
      "HPU available: False, using: 0 HPUs\n"
     ]
    },
    {
     "name": "stdout",
     "output_type": "stream",
     "text": [
      "Training took 0.39 seconds\n",
      "GT_INTERV.DEVICE: cpu\n",
      "setting device to: cpu\n"
     ]
    },
    {
     "name": "stderr",
     "output_type": "stream",
     "text": [
      "`Trainer.fit` stopped: `max_epochs=1000` reached.\n",
      "GPU available: True (cuda), used: False\n",
      "TPU available: False, using: 0 TPU cores\n",
      "IPU available: False, using: 0 IPUs\n",
      "HPU available: False, using: 0 HPUs\n",
      "`Trainer.fit` stopped: `max_epochs=1` reached.\n",
      "GPU available: True (cuda), used: False\n",
      "TPU available: False, using: 0 TPU cores\n",
      "IPU available: False, using: 0 IPUs\n",
      "HPU available: False, using: 0 HPUs\n",
      "`Trainer.fit` stopped: `max_epochs=1` reached.\n",
      "GPU available: True (cuda), used: False\n",
      "TPU available: False, using: 0 TPU cores\n",
      "IPU available: False, using: 0 IPUs\n",
      "HPU available: False, using: 0 HPUs\n",
      "`Trainer.fit` stopped: `max_epochs=1` reached.\n",
      "GPU available: True (cuda), used: False\n",
      "TPU available: False, using: 0 TPU cores\n",
      "IPU available: False, using: 0 IPUs\n",
      "HPU available: False, using: 0 HPUs\n",
      "`Trainer.fit` stopped: `max_epochs=1` reached.\n"
     ]
    },
    {
     "name": "stdout",
     "output_type": "stream",
     "text": [
      "Training took 0.39 seconds\n",
      "run_065\n",
      "Iterator state: 1\n",
      "More than 20 test_genes! Removing last 1 contexts.\n",
      "GT_INTERV.DEVICE: cpu\n",
      "setting device to: cpu\n",
      "Training took 0.01 seconds\n",
      "GT_INTERV.DEVICE: cpu\n",
      "setting device to: cpu\n",
      "Training took 0.00 seconds\n",
      "GT_INTERV.DEVICE: cpu\n",
      "setting device to: cpu\n",
      "Training took 0.00 seconds\n",
      "GT_INTERV.DEVICE: cpu\n",
      "setting device to: cpu\n",
      "Training took 0.00 seconds\n",
      "GT_INTERV.DEVICE: cpu\n",
      "setting device to: cpu\n"
     ]
    },
    {
     "name": "stderr",
     "output_type": "stream",
     "text": [
      "GPU available: True (cuda), used: False\n",
      "TPU available: False, using: 0 TPU cores\n",
      "IPU available: False, using: 0 IPUs\n",
      "HPU available: False, using: 0 HPUs\n",
      "`Trainer.fit` stopped: `max_epochs=1` reached.\n",
      "GPU available: True (cuda), used: False\n",
      "TPU available: False, using: 0 TPU cores\n",
      "IPU available: False, using: 0 IPUs\n",
      "HPU available: False, using: 0 HPUs\n",
      "`Trainer.fit` stopped: `max_epochs=1` reached.\n",
      "GPU available: True (cuda), used: False\n",
      "TPU available: False, using: 0 TPU cores\n",
      "IPU available: False, using: 0 IPUs\n",
      "HPU available: False, using: 0 HPUs\n",
      "`Trainer.fit` stopped: `max_epochs=1` reached.\n",
      "GPU available: True (cuda), used: False\n",
      "TPU available: False, using: 0 TPU cores\n",
      "IPU available: False, using: 0 IPUs\n",
      "HPU available: False, using: 0 HPUs\n",
      "`Trainer.fit` stopped: `max_epochs=1` reached.\n",
      "GPU available: True (cuda), used: False\n",
      "TPU available: False, using: 0 TPU cores\n",
      "IPU available: False, using: 0 IPUs\n",
      "HPU available: False, using: 0 HPUs\n",
      "`Trainer.fit` stopped: `max_epochs=1` reached.\n",
      "GPU available: True (cuda), used: False\n",
      "TPU available: False, using: 0 TPU cores\n",
      "IPU available: False, using: 0 IPUs\n",
      "HPU available: False, using: 0 HPUs\n",
      "`Trainer.fit` stopped: `max_epochs=1` reached.\n",
      "GPU available: True (cuda), used: False\n",
      "TPU available: False, using: 0 TPU cores\n",
      "IPU available: False, using: 0 IPUs\n",
      "HPU available: False, using: 0 HPUs\n",
      "`Trainer.fit` stopped: `max_epochs=1` reached.\n",
      "GPU available: True (cuda), used: False\n",
      "TPU available: False, using: 0 TPU cores\n",
      "IPU available: False, using: 0 IPUs\n",
      "HPU available: False, using: 0 HPUs\n",
      "`Trainer.fit` stopped: `max_epochs=1` reached.\n",
      "GPU available: True (cuda), used: False\n",
      "TPU available: False, using: 0 TPU cores\n",
      "IPU available: False, using: 0 IPUs\n",
      "HPU available: False, using: 0 HPUs\n",
      "`Trainer.fit` stopped: `max_epochs=1` reached.\n",
      "GPU available: True (cuda), used: False\n",
      "TPU available: False, using: 0 TPU cores\n",
      "IPU available: False, using: 0 IPUs\n",
      "HPU available: False, using: 0 HPUs\n",
      "`Trainer.fit` stopped: `max_epochs=1` reached.\n",
      "GPU available: True (cuda), used: False\n",
      "TPU available: False, using: 0 TPU cores\n",
      "IPU available: False, using: 0 IPUs\n",
      "HPU available: False, using: 0 HPUs\n",
      "`Trainer.fit` stopped: `max_epochs=1` reached.\n",
      "GPU available: True (cuda), used: False\n",
      "TPU available: False, using: 0 TPU cores\n",
      "IPU available: False, using: 0 IPUs\n",
      "HPU available: False, using: 0 HPUs\n",
      "`Trainer.fit` stopped: `max_epochs=1` reached.\n",
      "GPU available: True (cuda), used: False\n",
      "TPU available: False, using: 0 TPU cores\n",
      "IPU available: False, using: 0 IPUs\n",
      "HPU available: False, using: 0 HPUs\n",
      "`Trainer.fit` stopped: `max_epochs=1` reached.\n",
      "GPU available: True (cuda), used: False\n",
      "TPU available: False, using: 0 TPU cores\n",
      "IPU available: False, using: 0 IPUs\n",
      "HPU available: False, using: 0 HPUs\n",
      "`Trainer.fit` stopped: `max_epochs=1` reached.\n",
      "GPU available: True (cuda), used: False\n",
      "TPU available: False, using: 0 TPU cores\n",
      "IPU available: False, using: 0 IPUs\n",
      "HPU available: False, using: 0 HPUs\n",
      "`Trainer.fit` stopped: `max_epochs=1` reached.\n",
      "GPU available: True (cuda), used: False\n",
      "TPU available: False, using: 0 TPU cores\n",
      "IPU available: False, using: 0 IPUs\n",
      "HPU available: False, using: 0 HPUs\n",
      "`Trainer.fit` stopped: `max_epochs=1` reached.\n"
     ]
    },
    {
     "name": "stdout",
     "output_type": "stream",
     "text": [
      "Training took 0.00 seconds\n",
      "GT_INTERV.DEVICE: cpu\n",
      "setting device to: cpu\n",
      "Training took 0.00 seconds\n",
      "GT_INTERV.DEVICE: cpu\n",
      "setting device to: cpu\n",
      "Training took 0.00 seconds\n",
      "GT_INTERV.DEVICE: cpu\n",
      "setting device to: cpu\n",
      "Training took 0.00 seconds\n",
      "GT_INTERV.DEVICE: cpu\n",
      "setting device to: cpu\n",
      "Training took 0.01 seconds\n",
      "GT_INTERV.DEVICE: cpu\n",
      "setting device to: cpu\n",
      "Training took 0.01 seconds\n",
      "GT_INTERV.DEVICE: cpu\n",
      "setting device to: cpu\n",
      "Training took 0.01 seconds\n",
      "GT_INTERV.DEVICE: cpu\n",
      "setting device to: cpu\n",
      "Training took 0.01 seconds\n",
      "GT_INTERV.DEVICE: cpu\n",
      "setting device to: cpu\n",
      "Training took 0.01 seconds\n",
      "GT_INTERV.DEVICE: cpu\n",
      "setting device to: cpu\n",
      "Training took 0.01 seconds\n",
      "GT_INTERV.DEVICE: cpu\n",
      "setting device to: cpu\n",
      "Training took 0.01 seconds\n",
      "GT_INTERV.DEVICE: cpu\n",
      "setting device to: cpu\n",
      "Training took 0.01 seconds\n",
      "GT_INTERV.DEVICE: cpu\n",
      "setting device to: cpu\n",
      "Training took 0.01 seconds\n",
      "GT_INTERV.DEVICE: cpu\n",
      "setting device to: cpu\n",
      "Training took 0.01 seconds\n",
      "GT_INTERV.DEVICE: cpu\n",
      "setting device to: cpu\n",
      "Training took 0.01 seconds\n",
      "GT_INTERV.DEVICE: cpu\n",
      "setting device to: cpu\n",
      "Training took 0.01 seconds\n",
      "Iterator state: 10\n",
      "More than 20 test_genes! Removing last 1 contexts.\n"
     ]
    },
    {
     "name": "stderr",
     "output_type": "stream",
     "text": [
      "GPU available: True (cuda), used: False\n",
      "TPU available: False, using: 0 TPU cores\n",
      "IPU available: False, using: 0 IPUs\n",
      "HPU available: False, using: 0 HPUs\n",
      "`Trainer.fit` stopped: `max_epochs=10` reached.\n",
      "GPU available: True (cuda), used: False\n",
      "TPU available: False, using: 0 TPU cores\n",
      "IPU available: False, using: 0 IPUs\n",
      "HPU available: False, using: 0 HPUs\n",
      "`Trainer.fit` stopped: `max_epochs=10` reached.\n",
      "GPU available: True (cuda), used: False\n",
      "TPU available: False, using: 0 TPU cores\n",
      "IPU available: False, using: 0 IPUs\n",
      "HPU available: False, using: 0 HPUs\n",
      "`Trainer.fit` stopped: `max_epochs=10` reached.\n",
      "GPU available: True (cuda), used: False\n",
      "TPU available: False, using: 0 TPU cores\n",
      "IPU available: False, using: 0 IPUs\n",
      "HPU available: False, using: 0 HPUs\n",
      "`Trainer.fit` stopped: `max_epochs=10` reached.\n",
      "GPU available: True (cuda), used: False\n",
      "TPU available: False, using: 0 TPU cores\n",
      "IPU available: False, using: 0 IPUs\n",
      "HPU available: False, using: 0 HPUs\n",
      "`Trainer.fit` stopped: `max_epochs=10` reached.\n",
      "GPU available: True (cuda), used: False\n",
      "TPU available: False, using: 0 TPU cores\n",
      "IPU available: False, using: 0 IPUs\n",
      "HPU available: False, using: 0 HPUs\n",
      "`Trainer.fit` stopped: `max_epochs=10` reached.\n",
      "GPU available: True (cuda), used: False\n",
      "TPU available: False, using: 0 TPU cores\n",
      "IPU available: False, using: 0 IPUs\n",
      "HPU available: False, using: 0 HPUs\n",
      "`Trainer.fit` stopped: `max_epochs=10` reached.\n",
      "GPU available: True (cuda), used: False\n",
      "TPU available: False, using: 0 TPU cores\n",
      "IPU available: False, using: 0 IPUs\n",
      "HPU available: False, using: 0 HPUs\n",
      "`Trainer.fit` stopped: `max_epochs=10` reached.\n",
      "GPU available: True (cuda), used: False\n",
      "TPU available: False, using: 0 TPU cores\n",
      "IPU available: False, using: 0 IPUs\n",
      "HPU available: False, using: 0 HPUs\n",
      "`Trainer.fit` stopped: `max_epochs=10` reached.\n",
      "GPU available: True (cuda), used: False\n",
      "TPU available: False, using: 0 TPU cores\n",
      "IPU available: False, using: 0 IPUs\n",
      "HPU available: False, using: 0 HPUs\n",
      "`Trainer.fit` stopped: `max_epochs=10` reached.\n",
      "GPU available: True (cuda), used: False\n",
      "TPU available: False, using: 0 TPU cores\n",
      "IPU available: False, using: 0 IPUs\n",
      "HPU available: False, using: 0 HPUs\n",
      "`Trainer.fit` stopped: `max_epochs=10` reached.\n",
      "GPU available: True (cuda), used: False\n",
      "TPU available: False, using: 0 TPU cores\n",
      "IPU available: False, using: 0 IPUs\n",
      "HPU available: False, using: 0 HPUs\n",
      "`Trainer.fit` stopped: `max_epochs=10` reached.\n",
      "GPU available: True (cuda), used: False\n",
      "TPU available: False, using: 0 TPU cores\n",
      "IPU available: False, using: 0 IPUs\n",
      "HPU available: False, using: 0 HPUs\n",
      "`Trainer.fit` stopped: `max_epochs=10` reached.\n",
      "GPU available: True (cuda), used: False\n",
      "TPU available: False, using: 0 TPU cores\n",
      "IPU available: False, using: 0 IPUs\n",
      "HPU available: False, using: 0 HPUs\n",
      "`Trainer.fit` stopped: `max_epochs=10` reached.\n",
      "GPU available: True (cuda), used: False\n",
      "TPU available: False, using: 0 TPU cores\n",
      "IPU available: False, using: 0 IPUs\n",
      "HPU available: False, using: 0 HPUs\n",
      "`Trainer.fit` stopped: `max_epochs=10` reached.\n"
     ]
    },
    {
     "name": "stdout",
     "output_type": "stream",
     "text": [
      "GT_INTERV.DEVICE: cpu\n",
      "setting device to: cpu\n",
      "Training took 0.01 seconds\n",
      "GT_INTERV.DEVICE: cpu\n",
      "setting device to: cpu\n",
      "Training took 0.01 seconds\n",
      "GT_INTERV.DEVICE: cpu\n",
      "setting device to: cpu\n",
      "Training took 0.01 seconds\n",
      "GT_INTERV.DEVICE: cpu\n",
      "setting device to: cpu\n",
      "Training took 0.01 seconds\n",
      "GT_INTERV.DEVICE: cpu\n",
      "setting device to: cpu\n",
      "Training took 0.01 seconds\n",
      "GT_INTERV.DEVICE: cpu\n",
      "setting device to: cpu\n",
      "Training took 0.01 seconds\n",
      "GT_INTERV.DEVICE: cpu\n",
      "setting device to: cpu\n",
      "Training took 0.01 seconds\n",
      "GT_INTERV.DEVICE: cpu\n",
      "setting device to: cpu\n",
      "Training took 0.01 seconds\n",
      "GT_INTERV.DEVICE: cpu\n",
      "setting device to: cpu\n",
      "Training took 0.01 seconds\n",
      "GT_INTERV.DEVICE: cpu\n",
      "setting device to: cpu\n",
      "Training took 0.01 seconds\n",
      "GT_INTERV.DEVICE: cpu\n",
      "setting device to: cpu\n",
      "Training took 0.01 seconds\n",
      "GT_INTERV.DEVICE: cpu\n",
      "setting device to: cpu\n",
      "Training took 0.01 seconds\n",
      "GT_INTERV.DEVICE: cpu\n",
      "setting device to: cpu\n",
      "Training took 0.01 seconds\n",
      "GT_INTERV.DEVICE: cpu\n",
      "setting device to: cpu\n",
      "Training took 0.01 seconds\n",
      "GT_INTERV.DEVICE: cpu\n",
      "setting device to: cpu\n"
     ]
    },
    {
     "name": "stderr",
     "output_type": "stream",
     "text": [
      "GPU available: True (cuda), used: False\n",
      "TPU available: False, using: 0 TPU cores\n",
      "IPU available: False, using: 0 IPUs\n",
      "HPU available: False, using: 0 HPUs\n",
      "`Trainer.fit` stopped: `max_epochs=10` reached.\n",
      "GPU available: True (cuda), used: False\n",
      "TPU available: False, using: 0 TPU cores\n",
      "IPU available: False, using: 0 IPUs\n",
      "HPU available: False, using: 0 HPUs\n",
      "`Trainer.fit` stopped: `max_epochs=10` reached.\n",
      "GPU available: True (cuda), used: False\n",
      "TPU available: False, using: 0 TPU cores\n",
      "IPU available: False, using: 0 IPUs\n",
      "HPU available: False, using: 0 HPUs\n",
      "`Trainer.fit` stopped: `max_epochs=10` reached.\n",
      "GPU available: True (cuda), used: False\n",
      "TPU available: False, using: 0 TPU cores\n",
      "IPU available: False, using: 0 IPUs\n",
      "HPU available: False, using: 0 HPUs\n",
      "`Trainer.fit` stopped: `max_epochs=10` reached.\n",
      "GPU available: True (cuda), used: False\n",
      "TPU available: False, using: 0 TPU cores\n",
      "IPU available: False, using: 0 IPUs\n",
      "HPU available: False, using: 0 HPUs\n",
      "`Trainer.fit` stopped: `max_epochs=10` reached.\n"
     ]
    },
    {
     "name": "stdout",
     "output_type": "stream",
     "text": [
      "Training took 0.01 seconds\n",
      "GT_INTERV.DEVICE: cpu\n",
      "setting device to: cpu\n",
      "Training took 0.01 seconds\n",
      "GT_INTERV.DEVICE: cpu\n",
      "setting device to: cpu\n",
      "Training took 0.01 seconds\n",
      "GT_INTERV.DEVICE: cpu\n",
      "setting device to: cpu\n",
      "Training took 0.01 seconds\n",
      "GT_INTERV.DEVICE: cpu\n",
      "setting device to: cpu\n",
      "Training took 0.01 seconds\n",
      "GT_INTERV.DEVICE: cpu\n",
      "setting device to: cpu\n",
      "Training took 0.01 seconds\n",
      "Iterator state: 100\n",
      "More than 20 test_genes! Removing last 1 contexts.\n"
     ]
    },
    {
     "name": "stderr",
     "output_type": "stream",
     "text": [
      "GPU available: True (cuda), used: False\n",
      "TPU available: False, using: 0 TPU cores\n",
      "IPU available: False, using: 0 IPUs\n",
      "HPU available: False, using: 0 HPUs\n",
      "`Trainer.fit` stopped: `max_epochs=100` reached.\n",
      "GPU available: True (cuda), used: False\n",
      "TPU available: False, using: 0 TPU cores\n",
      "IPU available: False, using: 0 IPUs\n",
      "HPU available: False, using: 0 HPUs\n",
      "`Trainer.fit` stopped: `max_epochs=100` reached.\n",
      "GPU available: True (cuda), used: False\n",
      "TPU available: False, using: 0 TPU cores\n",
      "IPU available: False, using: 0 IPUs\n",
      "HPU available: False, using: 0 HPUs\n",
      "`Trainer.fit` stopped: `max_epochs=100` reached.\n",
      "GPU available: True (cuda), used: False\n",
      "TPU available: False, using: 0 TPU cores\n",
      "IPU available: False, using: 0 IPUs\n",
      "HPU available: False, using: 0 HPUs\n",
      "`Trainer.fit` stopped: `max_epochs=100` reached.\n"
     ]
    },
    {
     "name": "stdout",
     "output_type": "stream",
     "text": [
      "GT_INTERV.DEVICE: cpu\n",
      "setting device to: cpu\n",
      "Training took 0.04 seconds\n",
      "GT_INTERV.DEVICE: cpu\n",
      "setting device to: cpu\n",
      "Training took 0.04 seconds\n",
      "GT_INTERV.DEVICE: cpu\n",
      "setting device to: cpu\n",
      "Training took 0.04 seconds\n",
      "GT_INTERV.DEVICE: cpu\n",
      "setting device to: cpu\n",
      "Training took 0.04 seconds\n",
      "GT_INTERV.DEVICE: cpu\n",
      "setting device to: cpu\n"
     ]
    },
    {
     "name": "stderr",
     "output_type": "stream",
     "text": [
      "GPU available: True (cuda), used: False\n",
      "TPU available: False, using: 0 TPU cores\n",
      "IPU available: False, using: 0 IPUs\n",
      "HPU available: False, using: 0 HPUs\n",
      "`Trainer.fit` stopped: `max_epochs=100` reached.\n",
      "GPU available: True (cuda), used: False\n",
      "TPU available: False, using: 0 TPU cores\n",
      "IPU available: False, using: 0 IPUs\n",
      "HPU available: False, using: 0 HPUs\n",
      "`Trainer.fit` stopped: `max_epochs=100` reached.\n",
      "GPU available: True (cuda), used: False\n",
      "TPU available: False, using: 0 TPU cores\n",
      "IPU available: False, using: 0 IPUs\n",
      "HPU available: False, using: 0 HPUs\n",
      "`Trainer.fit` stopped: `max_epochs=100` reached.\n",
      "GPU available: True (cuda), used: False\n",
      "TPU available: False, using: 0 TPU cores\n",
      "IPU available: False, using: 0 IPUs\n",
      "HPU available: False, using: 0 HPUs\n",
      "`Trainer.fit` stopped: `max_epochs=100` reached.\n",
      "GPU available: True (cuda), used: False\n",
      "TPU available: False, using: 0 TPU cores\n",
      "IPU available: False, using: 0 IPUs\n",
      "HPU available: False, using: 0 HPUs\n",
      "`Trainer.fit` stopped: `max_epochs=100` reached.\n",
      "GPU available: True (cuda), used: False\n",
      "TPU available: False, using: 0 TPU cores\n",
      "IPU available: False, using: 0 IPUs\n",
      "HPU available: False, using: 0 HPUs\n"
     ]
    },
    {
     "name": "stdout",
     "output_type": "stream",
     "text": [
      "Training took 0.04 seconds\n",
      "GT_INTERV.DEVICE: cpu\n",
      "setting device to: cpu\n",
      "Training took 0.04 seconds\n",
      "GT_INTERV.DEVICE: cpu\n",
      "setting device to: cpu\n",
      "Training took 0.04 seconds\n",
      "GT_INTERV.DEVICE: cpu\n",
      "setting device to: cpu\n",
      "Training took 0.04 seconds\n",
      "GT_INTERV.DEVICE: cpu\n",
      "setting device to: cpu\n",
      "Training took 0.04 seconds\n",
      "GT_INTERV.DEVICE: cpu\n",
      "setting device to: cpu\n"
     ]
    },
    {
     "name": "stderr",
     "output_type": "stream",
     "text": [
      "`Trainer.fit` stopped: `max_epochs=100` reached.\n",
      "GPU available: True (cuda), used: False\n",
      "TPU available: False, using: 0 TPU cores\n",
      "IPU available: False, using: 0 IPUs\n",
      "HPU available: False, using: 0 HPUs\n",
      "`Trainer.fit` stopped: `max_epochs=100` reached.\n",
      "GPU available: True (cuda), used: False\n",
      "TPU available: False, using: 0 TPU cores\n",
      "IPU available: False, using: 0 IPUs\n",
      "HPU available: False, using: 0 HPUs\n",
      "`Trainer.fit` stopped: `max_epochs=100` reached.\n",
      "GPU available: True (cuda), used: False\n",
      "TPU available: False, using: 0 TPU cores\n",
      "IPU available: False, using: 0 IPUs\n",
      "HPU available: False, using: 0 HPUs\n",
      "`Trainer.fit` stopped: `max_epochs=100` reached.\n",
      "GPU available: True (cuda), used: False\n",
      "TPU available: False, using: 0 TPU cores\n",
      "IPU available: False, using: 0 IPUs\n",
      "HPU available: False, using: 0 HPUs\n",
      "`Trainer.fit` stopped: `max_epochs=100` reached.\n",
      "GPU available: True (cuda), used: False\n",
      "TPU available: False, using: 0 TPU cores\n",
      "IPU available: False, using: 0 IPUs\n",
      "HPU available: False, using: 0 HPUs\n"
     ]
    },
    {
     "name": "stdout",
     "output_type": "stream",
     "text": [
      "Training took 0.04 seconds\n",
      "GT_INTERV.DEVICE: cpu\n",
      "setting device to: cpu\n",
      "Training took 0.04 seconds\n",
      "GT_INTERV.DEVICE: cpu\n",
      "setting device to: cpu\n",
      "Training took 0.04 seconds\n",
      "GT_INTERV.DEVICE: cpu\n",
      "setting device to: cpu\n",
      "Training took 0.04 seconds\n",
      "GT_INTERV.DEVICE: cpu\n",
      "setting device to: cpu\n",
      "Training took 0.04 seconds\n",
      "GT_INTERV.DEVICE: cpu\n",
      "setting device to: cpu\n"
     ]
    },
    {
     "name": "stderr",
     "output_type": "stream",
     "text": [
      "`Trainer.fit` stopped: `max_epochs=100` reached.\n",
      "GPU available: True (cuda), used: False\n",
      "TPU available: False, using: 0 TPU cores\n",
      "IPU available: False, using: 0 IPUs\n",
      "HPU available: False, using: 0 HPUs\n",
      "`Trainer.fit` stopped: `max_epochs=100` reached.\n",
      "GPU available: True (cuda), used: False\n",
      "TPU available: False, using: 0 TPU cores\n",
      "IPU available: False, using: 0 IPUs\n",
      "HPU available: False, using: 0 HPUs\n",
      "`Trainer.fit` stopped: `max_epochs=100` reached.\n",
      "GPU available: True (cuda), used: False\n",
      "TPU available: False, using: 0 TPU cores\n",
      "IPU available: False, using: 0 IPUs\n",
      "HPU available: False, using: 0 HPUs\n",
      "`Trainer.fit` stopped: `max_epochs=100` reached.\n",
      "GPU available: True (cuda), used: False\n",
      "TPU available: False, using: 0 TPU cores\n",
      "IPU available: False, using: 0 IPUs\n",
      "HPU available: False, using: 0 HPUs\n",
      "`Trainer.fit` stopped: `max_epochs=100` reached.\n",
      "GPU available: True (cuda), used: False\n"
     ]
    },
    {
     "name": "stdout",
     "output_type": "stream",
     "text": [
      "Training took 0.04 seconds\n",
      "GT_INTERV.DEVICE: cpu\n",
      "setting device to: cpu\n",
      "Training took 0.04 seconds\n",
      "GT_INTERV.DEVICE: cpu\n",
      "setting device to: cpu\n",
      "Training took 0.04 seconds\n",
      "GT_INTERV.DEVICE: cpu\n",
      "setting device to: cpu\n",
      "Training took 0.04 seconds\n",
      "GT_INTERV.DEVICE: cpu\n",
      "setting device to: cpu\n",
      "Training took 0.04 seconds\n",
      "GT_INTERV.DEVICE: cpu\n",
      "setting device to: cpu\n"
     ]
    },
    {
     "name": "stderr",
     "output_type": "stream",
     "text": [
      "TPU available: False, using: 0 TPU cores\n",
      "IPU available: False, using: 0 IPUs\n",
      "HPU available: False, using: 0 HPUs\n",
      "`Trainer.fit` stopped: `max_epochs=100` reached.\n",
      "GPU available: True (cuda), used: False\n",
      "TPU available: False, using: 0 TPU cores\n",
      "IPU available: False, using: 0 IPUs\n",
      "HPU available: False, using: 0 HPUs\n"
     ]
    },
    {
     "name": "stdout",
     "output_type": "stream",
     "text": [
      "Training took 0.04 seconds\n",
      "Iterator state: 1000\n",
      "More than 20 test_genes! Removing last 1 contexts.\n",
      "GT_INTERV.DEVICE: cpu\n",
      "setting device to: cpu\n"
     ]
    },
    {
     "name": "stderr",
     "output_type": "stream",
     "text": [
      "`Trainer.fit` stopped: `max_epochs=1000` reached.\n",
      "GPU available: True (cuda), used: False\n",
      "TPU available: False, using: 0 TPU cores\n",
      "IPU available: False, using: 0 IPUs\n",
      "HPU available: False, using: 0 HPUs\n"
     ]
    },
    {
     "name": "stdout",
     "output_type": "stream",
     "text": [
      "Training took 0.39 seconds\n",
      "GT_INTERV.DEVICE: cpu\n",
      "setting device to: cpu\n"
     ]
    },
    {
     "name": "stderr",
     "output_type": "stream",
     "text": [
      "`Trainer.fit` stopped: `max_epochs=1000` reached.\n",
      "GPU available: True (cuda), used: False\n",
      "TPU available: False, using: 0 TPU cores\n",
      "IPU available: False, using: 0 IPUs\n",
      "HPU available: False, using: 0 HPUs\n"
     ]
    },
    {
     "name": "stdout",
     "output_type": "stream",
     "text": [
      "Training took 0.39 seconds\n",
      "GT_INTERV.DEVICE: cpu\n",
      "setting device to: cpu\n"
     ]
    },
    {
     "name": "stderr",
     "output_type": "stream",
     "text": [
      "`Trainer.fit` stopped: `max_epochs=1000` reached.\n",
      "GPU available: True (cuda), used: False\n",
      "TPU available: False, using: 0 TPU cores\n",
      "IPU available: False, using: 0 IPUs\n",
      "HPU available: False, using: 0 HPUs\n"
     ]
    },
    {
     "name": "stdout",
     "output_type": "stream",
     "text": [
      "Training took 0.39 seconds\n",
      "GT_INTERV.DEVICE: cpu\n",
      "setting device to: cpu\n"
     ]
    },
    {
     "name": "stderr",
     "output_type": "stream",
     "text": [
      "`Trainer.fit` stopped: `max_epochs=1000` reached.\n",
      "GPU available: True (cuda), used: False\n",
      "TPU available: False, using: 0 TPU cores\n",
      "IPU available: False, using: 0 IPUs\n",
      "HPU available: False, using: 0 HPUs\n"
     ]
    },
    {
     "name": "stdout",
     "output_type": "stream",
     "text": [
      "Training took 0.39 seconds\n",
      "GT_INTERV.DEVICE: cpu\n",
      "setting device to: cpu\n"
     ]
    },
    {
     "name": "stderr",
     "output_type": "stream",
     "text": [
      "`Trainer.fit` stopped: `max_epochs=1000` reached.\n",
      "GPU available: True (cuda), used: False\n",
      "TPU available: False, using: 0 TPU cores\n",
      "IPU available: False, using: 0 IPUs\n",
      "HPU available: False, using: 0 HPUs\n"
     ]
    },
    {
     "name": "stdout",
     "output_type": "stream",
     "text": [
      "Training took 0.39 seconds\n",
      "GT_INTERV.DEVICE: cpu\n",
      "setting device to: cpu\n"
     ]
    },
    {
     "name": "stderr",
     "output_type": "stream",
     "text": [
      "`Trainer.fit` stopped: `max_epochs=1000` reached.\n",
      "GPU available: True (cuda), used: False\n",
      "TPU available: False, using: 0 TPU cores\n",
      "IPU available: False, using: 0 IPUs\n",
      "HPU available: False, using: 0 HPUs\n"
     ]
    },
    {
     "name": "stdout",
     "output_type": "stream",
     "text": [
      "Training took 0.39 seconds\n",
      "GT_INTERV.DEVICE: cpu\n",
      "setting device to: cpu\n"
     ]
    },
    {
     "name": "stderr",
     "output_type": "stream",
     "text": [
      "`Trainer.fit` stopped: `max_epochs=1000` reached.\n",
      "GPU available: True (cuda), used: False\n",
      "TPU available: False, using: 0 TPU cores\n",
      "IPU available: False, using: 0 IPUs\n",
      "HPU available: False, using: 0 HPUs\n"
     ]
    },
    {
     "name": "stdout",
     "output_type": "stream",
     "text": [
      "Training took 0.38 seconds\n",
      "GT_INTERV.DEVICE: cpu\n",
      "setting device to: cpu\n"
     ]
    },
    {
     "name": "stderr",
     "output_type": "stream",
     "text": [
      "`Trainer.fit` stopped: `max_epochs=1000` reached.\n",
      "GPU available: True (cuda), used: False\n",
      "TPU available: False, using: 0 TPU cores\n",
      "IPU available: False, using: 0 IPUs\n",
      "HPU available: False, using: 0 HPUs\n"
     ]
    },
    {
     "name": "stdout",
     "output_type": "stream",
     "text": [
      "Training took 0.38 seconds\n",
      "GT_INTERV.DEVICE: cpu\n",
      "setting device to: cpu\n"
     ]
    },
    {
     "name": "stderr",
     "output_type": "stream",
     "text": [
      "`Trainer.fit` stopped: `max_epochs=1000` reached.\n",
      "GPU available: True (cuda), used: False\n",
      "TPU available: False, using: 0 TPU cores\n",
      "IPU available: False, using: 0 IPUs\n",
      "HPU available: False, using: 0 HPUs\n"
     ]
    },
    {
     "name": "stdout",
     "output_type": "stream",
     "text": [
      "Training took 0.39 seconds\n",
      "GT_INTERV.DEVICE: cpu\n",
      "setting device to: cpu\n"
     ]
    },
    {
     "name": "stderr",
     "output_type": "stream",
     "text": [
      "`Trainer.fit` stopped: `max_epochs=1000` reached.\n",
      "GPU available: True (cuda), used: False\n",
      "TPU available: False, using: 0 TPU cores\n",
      "IPU available: False, using: 0 IPUs\n",
      "HPU available: False, using: 0 HPUs\n"
     ]
    },
    {
     "name": "stdout",
     "output_type": "stream",
     "text": [
      "Training took 0.38 seconds\n",
      "GT_INTERV.DEVICE: cpu\n",
      "setting device to: cpu\n"
     ]
    },
    {
     "name": "stderr",
     "output_type": "stream",
     "text": [
      "`Trainer.fit` stopped: `max_epochs=1000` reached.\n",
      "GPU available: True (cuda), used: False\n",
      "TPU available: False, using: 0 TPU cores\n",
      "IPU available: False, using: 0 IPUs\n",
      "HPU available: False, using: 0 HPUs\n"
     ]
    },
    {
     "name": "stdout",
     "output_type": "stream",
     "text": [
      "Training took 0.39 seconds\n",
      "GT_INTERV.DEVICE: cpu\n",
      "setting device to: cpu\n"
     ]
    },
    {
     "name": "stderr",
     "output_type": "stream",
     "text": [
      "`Trainer.fit` stopped: `max_epochs=1000` reached.\n",
      "GPU available: True (cuda), used: False\n",
      "TPU available: False, using: 0 TPU cores\n",
      "IPU available: False, using: 0 IPUs\n",
      "HPU available: False, using: 0 HPUs\n"
     ]
    },
    {
     "name": "stdout",
     "output_type": "stream",
     "text": [
      "Training took 0.39 seconds\n",
      "GT_INTERV.DEVICE: cpu\n",
      "setting device to: cpu\n"
     ]
    },
    {
     "name": "stderr",
     "output_type": "stream",
     "text": [
      "`Trainer.fit` stopped: `max_epochs=1000` reached.\n",
      "GPU available: True (cuda), used: False\n",
      "TPU available: False, using: 0 TPU cores\n",
      "IPU available: False, using: 0 IPUs\n",
      "HPU available: False, using: 0 HPUs\n"
     ]
    },
    {
     "name": "stdout",
     "output_type": "stream",
     "text": [
      "Training took 0.39 seconds\n",
      "GT_INTERV.DEVICE: cpu\n",
      "setting device to: cpu\n"
     ]
    },
    {
     "name": "stderr",
     "output_type": "stream",
     "text": [
      "`Trainer.fit` stopped: `max_epochs=1000` reached.\n",
      "GPU available: True (cuda), used: False\n",
      "TPU available: False, using: 0 TPU cores\n",
      "IPU available: False, using: 0 IPUs\n",
      "HPU available: False, using: 0 HPUs\n"
     ]
    },
    {
     "name": "stdout",
     "output_type": "stream",
     "text": [
      "Training took 0.38 seconds\n",
      "GT_INTERV.DEVICE: cpu\n",
      "setting device to: cpu\n"
     ]
    },
    {
     "name": "stderr",
     "output_type": "stream",
     "text": [
      "`Trainer.fit` stopped: `max_epochs=1000` reached.\n",
      "GPU available: True (cuda), used: False\n",
      "TPU available: False, using: 0 TPU cores\n",
      "IPU available: False, using: 0 IPUs\n",
      "HPU available: False, using: 0 HPUs\n"
     ]
    },
    {
     "name": "stdout",
     "output_type": "stream",
     "text": [
      "Training took 0.38 seconds\n",
      "GT_INTERV.DEVICE: cpu\n",
      "setting device to: cpu\n"
     ]
    },
    {
     "name": "stderr",
     "output_type": "stream",
     "text": [
      "`Trainer.fit` stopped: `max_epochs=1000` reached.\n",
      "GPU available: True (cuda), used: False\n",
      "TPU available: False, using: 0 TPU cores\n",
      "IPU available: False, using: 0 IPUs\n",
      "HPU available: False, using: 0 HPUs\n"
     ]
    },
    {
     "name": "stdout",
     "output_type": "stream",
     "text": [
      "Training took 0.38 seconds\n",
      "GT_INTERV.DEVICE: cpu\n",
      "setting device to: cpu\n"
     ]
    },
    {
     "name": "stderr",
     "output_type": "stream",
     "text": [
      "`Trainer.fit` stopped: `max_epochs=1000` reached.\n",
      "GPU available: True (cuda), used: False\n",
      "TPU available: False, using: 0 TPU cores\n",
      "IPU available: False, using: 0 IPUs\n",
      "HPU available: False, using: 0 HPUs\n"
     ]
    },
    {
     "name": "stdout",
     "output_type": "stream",
     "text": [
      "Training took 0.38 seconds\n",
      "GT_INTERV.DEVICE: cpu\n",
      "setting device to: cpu\n"
     ]
    },
    {
     "name": "stderr",
     "output_type": "stream",
     "text": [
      "`Trainer.fit` stopped: `max_epochs=1000` reached.\n",
      "GPU available: True (cuda), used: False\n",
      "TPU available: False, using: 0 TPU cores\n",
      "IPU available: False, using: 0 IPUs\n",
      "HPU available: False, using: 0 HPUs\n"
     ]
    },
    {
     "name": "stdout",
     "output_type": "stream",
     "text": [
      "Training took 0.38 seconds\n",
      "GT_INTERV.DEVICE: cpu\n",
      "setting device to: cpu\n"
     ]
    },
    {
     "name": "stderr",
     "output_type": "stream",
     "text": [
      "`Trainer.fit` stopped: `max_epochs=1000` reached.\n",
      "GPU available: True (cuda), used: False\n",
      "TPU available: False, using: 0 TPU cores\n",
      "IPU available: False, using: 0 IPUs\n",
      "HPU available: False, using: 0 HPUs\n"
     ]
    },
    {
     "name": "stdout",
     "output_type": "stream",
     "text": [
      "Training took 0.39 seconds\n",
      "GT_INTERV.DEVICE: cpu\n",
      "setting device to: cpu\n"
     ]
    },
    {
     "name": "stderr",
     "output_type": "stream",
     "text": [
      "`Trainer.fit` stopped: `max_epochs=1000` reached.\n"
     ]
    },
    {
     "name": "stdout",
     "output_type": "stream",
     "text": [
      "Training took 0.39 seconds\n",
      "run_064\n",
      "Iterator state: 1\n",
      "More than 20 test_genes! Removing last 1 contexts.\n"
     ]
    },
    {
     "name": "stderr",
     "output_type": "stream",
     "text": [
      "GPU available: True (cuda), used: False\n",
      "TPU available: False, using: 0 TPU cores\n",
      "IPU available: False, using: 0 IPUs\n",
      "HPU available: False, using: 0 HPUs\n",
      "`Trainer.fit` stopped: `max_epochs=1` reached.\n",
      "GPU available: True (cuda), used: False\n",
      "TPU available: False, using: 0 TPU cores\n",
      "IPU available: False, using: 0 IPUs\n",
      "HPU available: False, using: 0 HPUs\n",
      "`Trainer.fit` stopped: `max_epochs=1` reached.\n",
      "GPU available: True (cuda), used: False\n",
      "TPU available: False, using: 0 TPU cores\n",
      "IPU available: False, using: 0 IPUs\n",
      "HPU available: False, using: 0 HPUs\n",
      "`Trainer.fit` stopped: `max_epochs=1` reached.\n",
      "GPU available: True (cuda), used: False\n",
      "TPU available: False, using: 0 TPU cores\n",
      "IPU available: False, using: 0 IPUs\n",
      "HPU available: False, using: 0 HPUs\n",
      "`Trainer.fit` stopped: `max_epochs=1` reached.\n",
      "GPU available: True (cuda), used: False\n",
      "TPU available: False, using: 0 TPU cores\n",
      "IPU available: False, using: 0 IPUs\n",
      "HPU available: False, using: 0 HPUs\n",
      "`Trainer.fit` stopped: `max_epochs=1` reached.\n",
      "GPU available: True (cuda), used: False\n",
      "TPU available: False, using: 0 TPU cores\n",
      "IPU available: False, using: 0 IPUs\n",
      "HPU available: False, using: 0 HPUs\n",
      "`Trainer.fit` stopped: `max_epochs=1` reached.\n",
      "GPU available: True (cuda), used: False\n",
      "TPU available: False, using: 0 TPU cores\n",
      "IPU available: False, using: 0 IPUs\n",
      "HPU available: False, using: 0 HPUs\n",
      "`Trainer.fit` stopped: `max_epochs=1` reached.\n",
      "GPU available: True (cuda), used: False\n",
      "TPU available: False, using: 0 TPU cores\n",
      "IPU available: False, using: 0 IPUs\n",
      "HPU available: False, using: 0 HPUs\n",
      "`Trainer.fit` stopped: `max_epochs=1` reached.\n",
      "GPU available: True (cuda), used: False\n",
      "TPU available: False, using: 0 TPU cores\n",
      "IPU available: False, using: 0 IPUs\n",
      "HPU available: False, using: 0 HPUs\n",
      "`Trainer.fit` stopped: `max_epochs=1` reached.\n",
      "GPU available: True (cuda), used: False\n",
      "TPU available: False, using: 0 TPU cores\n",
      "IPU available: False, using: 0 IPUs\n",
      "HPU available: False, using: 0 HPUs\n",
      "`Trainer.fit` stopped: `max_epochs=1` reached.\n",
      "GPU available: True (cuda), used: False\n",
      "TPU available: False, using: 0 TPU cores\n",
      "IPU available: False, using: 0 IPUs\n",
      "HPU available: False, using: 0 HPUs\n",
      "`Trainer.fit` stopped: `max_epochs=1` reached.\n",
      "GPU available: True (cuda), used: False\n",
      "TPU available: False, using: 0 TPU cores\n",
      "IPU available: False, using: 0 IPUs\n",
      "HPU available: False, using: 0 HPUs\n",
      "`Trainer.fit` stopped: `max_epochs=1` reached.\n",
      "GPU available: True (cuda), used: False\n",
      "TPU available: False, using: 0 TPU cores\n",
      "IPU available: False, using: 0 IPUs\n",
      "HPU available: False, using: 0 HPUs\n",
      "`Trainer.fit` stopped: `max_epochs=1` reached.\n",
      "GPU available: True (cuda), used: False\n",
      "TPU available: False, using: 0 TPU cores\n",
      "IPU available: False, using: 0 IPUs\n",
      "HPU available: False, using: 0 HPUs\n",
      "`Trainer.fit` stopped: `max_epochs=1` reached.\n",
      "GPU available: True (cuda), used: False\n",
      "TPU available: False, using: 0 TPU cores\n",
      "IPU available: False, using: 0 IPUs\n",
      "HPU available: False, using: 0 HPUs\n",
      "`Trainer.fit` stopped: `max_epochs=1` reached.\n"
     ]
    },
    {
     "name": "stdout",
     "output_type": "stream",
     "text": [
      "GT_INTERV.DEVICE: cpu\n",
      "setting device to: cpu\n",
      "Training took 0.01 seconds\n",
      "GT_INTERV.DEVICE: cpu\n",
      "setting device to: cpu\n",
      "Training took 0.01 seconds\n",
      "GT_INTERV.DEVICE: cpu\n",
      "setting device to: cpu\n",
      "Training took 0.01 seconds\n",
      "GT_INTERV.DEVICE: cpu\n",
      "setting device to: cpu\n",
      "Training took 0.01 seconds\n",
      "GT_INTERV.DEVICE: cpu\n",
      "setting device to: cpu\n",
      "Training took 0.01 seconds\n",
      "GT_INTERV.DEVICE: cpu\n",
      "setting device to: cpu\n",
      "Training took 0.01 seconds\n",
      "GT_INTERV.DEVICE: cpu\n",
      "setting device to: cpu\n",
      "Training took 0.01 seconds\n",
      "GT_INTERV.DEVICE: cpu\n",
      "setting device to: cpu\n",
      "Training took 0.01 seconds\n",
      "GT_INTERV.DEVICE: cpu\n",
      "setting device to: cpu\n",
      "Training took 0.01 seconds\n",
      "GT_INTERV.DEVICE: cpu\n",
      "setting device to: cpu\n",
      "Training took 0.01 seconds\n",
      "GT_INTERV.DEVICE: cpu\n",
      "setting device to: cpu\n",
      "Training took 0.01 seconds\n",
      "GT_INTERV.DEVICE: cpu\n",
      "setting device to: cpu\n",
      "Training took 0.01 seconds\n",
      "GT_INTERV.DEVICE: cpu\n",
      "setting device to: cpu\n",
      "Training took 0.01 seconds\n",
      "GT_INTERV.DEVICE: cpu\n",
      "setting device to: cpu\n",
      "Training took 0.01 seconds\n",
      "GT_INTERV.DEVICE: cpu\n",
      "setting device to: cpu\n"
     ]
    },
    {
     "name": "stderr",
     "output_type": "stream",
     "text": [
      "GPU available: True (cuda), used: False\n",
      "TPU available: False, using: 0 TPU cores\n",
      "IPU available: False, using: 0 IPUs\n",
      "HPU available: False, using: 0 HPUs\n",
      "`Trainer.fit` stopped: `max_epochs=1` reached.\n",
      "GPU available: True (cuda), used: False\n",
      "TPU available: False, using: 0 TPU cores\n",
      "IPU available: False, using: 0 IPUs\n",
      "HPU available: False, using: 0 HPUs\n",
      "`Trainer.fit` stopped: `max_epochs=1` reached.\n",
      "GPU available: True (cuda), used: False\n",
      "TPU available: False, using: 0 TPU cores\n",
      "IPU available: False, using: 0 IPUs\n",
      "HPU available: False, using: 0 HPUs\n",
      "`Trainer.fit` stopped: `max_epochs=1` reached.\n",
      "GPU available: True (cuda), used: False\n",
      "TPU available: False, using: 0 TPU cores\n",
      "IPU available: False, using: 0 IPUs\n",
      "HPU available: False, using: 0 HPUs\n",
      "`Trainer.fit` stopped: `max_epochs=1` reached.\n",
      "GPU available: True (cuda), used: False\n",
      "TPU available: False, using: 0 TPU cores\n",
      "IPU available: False, using: 0 IPUs\n",
      "HPU available: False, using: 0 HPUs\n",
      "`Trainer.fit` stopped: `max_epochs=1` reached.\n"
     ]
    },
    {
     "name": "stdout",
     "output_type": "stream",
     "text": [
      "Training took 0.01 seconds\n",
      "GT_INTERV.DEVICE: cpu\n",
      "setting device to: cpu\n",
      "Training took 0.01 seconds\n",
      "GT_INTERV.DEVICE: cpu\n",
      "setting device to: cpu\n",
      "Training took 0.01 seconds\n",
      "GT_INTERV.DEVICE: cpu\n",
      "setting device to: cpu\n",
      "Training took 0.01 seconds\n",
      "GT_INTERV.DEVICE: cpu\n",
      "setting device to: cpu\n",
      "Training took 0.01 seconds\n",
      "GT_INTERV.DEVICE: cpu\n",
      "setting device to: cpu\n",
      "Training took 0.01 seconds\n",
      "Iterator state: 10\n",
      "More than 20 test_genes! Removing last 1 contexts.\n"
     ]
    },
    {
     "name": "stderr",
     "output_type": "stream",
     "text": [
      "GPU available: True (cuda), used: False\n",
      "TPU available: False, using: 0 TPU cores\n",
      "IPU available: False, using: 0 IPUs\n",
      "HPU available: False, using: 0 HPUs\n",
      "`Trainer.fit` stopped: `max_epochs=10` reached.\n",
      "GPU available: True (cuda), used: False\n",
      "TPU available: False, using: 0 TPU cores\n",
      "IPU available: False, using: 0 IPUs\n",
      "HPU available: False, using: 0 HPUs\n",
      "`Trainer.fit` stopped: `max_epochs=10` reached.\n",
      "GPU available: True (cuda), used: False\n",
      "TPU available: False, using: 0 TPU cores\n",
      "IPU available: False, using: 0 IPUs\n",
      "HPU available: False, using: 0 HPUs\n",
      "`Trainer.fit` stopped: `max_epochs=10` reached.\n",
      "GPU available: True (cuda), used: False\n",
      "TPU available: False, using: 0 TPU cores\n",
      "IPU available: False, using: 0 IPUs\n",
      "HPU available: False, using: 0 HPUs\n",
      "`Trainer.fit` stopped: `max_epochs=10` reached.\n",
      "GPU available: True (cuda), used: False\n",
      "TPU available: False, using: 0 TPU cores\n",
      "IPU available: False, using: 0 IPUs\n",
      "HPU available: False, using: 0 HPUs\n",
      "`Trainer.fit` stopped: `max_epochs=10` reached.\n",
      "GPU available: True (cuda), used: False\n",
      "TPU available: False, using: 0 TPU cores\n",
      "IPU available: False, using: 0 IPUs\n",
      "HPU available: False, using: 0 HPUs\n",
      "`Trainer.fit` stopped: `max_epochs=10` reached.\n",
      "GPU available: True (cuda), used: False\n",
      "TPU available: False, using: 0 TPU cores\n",
      "IPU available: False, using: 0 IPUs\n",
      "HPU available: False, using: 0 HPUs\n",
      "`Trainer.fit` stopped: `max_epochs=10` reached.\n",
      "GPU available: True (cuda), used: False\n",
      "TPU available: False, using: 0 TPU cores\n",
      "IPU available: False, using: 0 IPUs\n",
      "HPU available: False, using: 0 HPUs\n",
      "`Trainer.fit` stopped: `max_epochs=10` reached.\n",
      "GPU available: True (cuda), used: False\n",
      "TPU available: False, using: 0 TPU cores\n",
      "IPU available: False, using: 0 IPUs\n",
      "HPU available: False, using: 0 HPUs\n",
      "`Trainer.fit` stopped: `max_epochs=10` reached.\n",
      "GPU available: True (cuda), used: False\n",
      "TPU available: False, using: 0 TPU cores\n",
      "IPU available: False, using: 0 IPUs\n",
      "HPU available: False, using: 0 HPUs\n",
      "`Trainer.fit` stopped: `max_epochs=10` reached.\n",
      "GPU available: True (cuda), used: False\n",
      "TPU available: False, using: 0 TPU cores\n",
      "IPU available: False, using: 0 IPUs\n",
      "HPU available: False, using: 0 HPUs\n",
      "`Trainer.fit` stopped: `max_epochs=10` reached.\n",
      "GPU available: True (cuda), used: False\n",
      "TPU available: False, using: 0 TPU cores\n",
      "IPU available: False, using: 0 IPUs\n",
      "HPU available: False, using: 0 HPUs\n",
      "`Trainer.fit` stopped: `max_epochs=10` reached.\n",
      "GPU available: True (cuda), used: False\n"
     ]
    },
    {
     "name": "stdout",
     "output_type": "stream",
     "text": [
      "GT_INTERV.DEVICE: cpu\n",
      "setting device to: cpu\n",
      "Training took 0.01 seconds\n",
      "GT_INTERV.DEVICE: cpu\n",
      "setting device to: cpu\n",
      "Training took 0.01 seconds\n",
      "GT_INTERV.DEVICE: cpu\n",
      "setting device to: cpu\n",
      "Training took 0.01 seconds\n",
      "GT_INTERV.DEVICE: cpu\n",
      "setting device to: cpu\n",
      "Training took 0.01 seconds\n",
      "GT_INTERV.DEVICE: cpu\n",
      "setting device to: cpu\n",
      "Training took 0.01 seconds\n",
      "GT_INTERV.DEVICE: cpu\n",
      "setting device to: cpu\n",
      "Training took 0.01 seconds\n",
      "GT_INTERV.DEVICE: cpu\n",
      "setting device to: cpu\n",
      "Training took 0.01 seconds\n",
      "GT_INTERV.DEVICE: cpu\n",
      "setting device to: cpu\n",
      "Training took 0.01 seconds\n",
      "GT_INTERV.DEVICE: cpu\n",
      "setting device to: cpu\n",
      "Training took 0.01 seconds\n",
      "GT_INTERV.DEVICE: cpu\n",
      "setting device to: cpu\n",
      "Training took 0.01 seconds\n",
      "GT_INTERV.DEVICE: cpu\n",
      "setting device to: cpu\n",
      "Training took 0.01 seconds\n",
      "GT_INTERV.DEVICE: cpu\n",
      "setting device to: cpu\n",
      "Training took 0.01 seconds\n",
      "GT_INTERV.DEVICE: cpu\n",
      "setting device to: cpu\n"
     ]
    },
    {
     "name": "stderr",
     "output_type": "stream",
     "text": [
      "TPU available: False, using: 0 TPU cores\n",
      "IPU available: False, using: 0 IPUs\n",
      "HPU available: False, using: 0 HPUs\n",
      "`Trainer.fit` stopped: `max_epochs=10` reached.\n",
      "GPU available: True (cuda), used: False\n",
      "TPU available: False, using: 0 TPU cores\n",
      "IPU available: False, using: 0 IPUs\n",
      "HPU available: False, using: 0 HPUs\n",
      "`Trainer.fit` stopped: `max_epochs=10` reached.\n",
      "GPU available: True (cuda), used: False\n",
      "TPU available: False, using: 0 TPU cores\n",
      "IPU available: False, using: 0 IPUs\n",
      "HPU available: False, using: 0 HPUs\n",
      "`Trainer.fit` stopped: `max_epochs=10` reached.\n",
      "GPU available: True (cuda), used: False\n",
      "TPU available: False, using: 0 TPU cores\n",
      "IPU available: False, using: 0 IPUs\n",
      "HPU available: False, using: 0 HPUs\n",
      "`Trainer.fit` stopped: `max_epochs=10` reached.\n",
      "GPU available: True (cuda), used: False\n",
      "TPU available: False, using: 0 TPU cores\n",
      "IPU available: False, using: 0 IPUs\n",
      "HPU available: False, using: 0 HPUs\n",
      "`Trainer.fit` stopped: `max_epochs=10` reached.\n",
      "GPU available: True (cuda), used: False\n",
      "TPU available: False, using: 0 TPU cores\n",
      "IPU available: False, using: 0 IPUs\n",
      "HPU available: False, using: 0 HPUs\n",
      "`Trainer.fit` stopped: `max_epochs=10` reached.\n",
      "GPU available: True (cuda), used: False\n",
      "TPU available: False, using: 0 TPU cores\n",
      "IPU available: False, using: 0 IPUs\n",
      "HPU available: False, using: 0 HPUs\n",
      "`Trainer.fit` stopped: `max_epochs=10` reached.\n",
      "GPU available: True (cuda), used: False\n",
      "TPU available: False, using: 0 TPU cores\n",
      "IPU available: False, using: 0 IPUs\n",
      "HPU available: False, using: 0 HPUs\n",
      "`Trainer.fit` stopped: `max_epochs=10` reached.\n"
     ]
    },
    {
     "name": "stdout",
     "output_type": "stream",
     "text": [
      "Training took 0.01 seconds\n",
      "GT_INTERV.DEVICE: cpu\n",
      "setting device to: cpu\n",
      "Training took 0.01 seconds\n",
      "GT_INTERV.DEVICE: cpu\n",
      "setting device to: cpu\n",
      "Training took 0.01 seconds\n",
      "GT_INTERV.DEVICE: cpu\n",
      "setting device to: cpu\n",
      "Training took 0.01 seconds\n",
      "GT_INTERV.DEVICE: cpu\n",
      "setting device to: cpu\n",
      "Training took 0.01 seconds\n",
      "GT_INTERV.DEVICE: cpu\n",
      "setting device to: cpu\n",
      "Training took 0.01 seconds\n",
      "GT_INTERV.DEVICE: cpu\n",
      "setting device to: cpu\n",
      "Training took 0.01 seconds\n",
      "GT_INTERV.DEVICE: cpu\n",
      "setting device to: cpu\n",
      "Training took 0.01 seconds\n",
      "Iterator state: 100\n",
      "More than 20 test_genes! Removing last 1 contexts.\n"
     ]
    },
    {
     "name": "stderr",
     "output_type": "stream",
     "text": [
      "GPU available: True (cuda), used: False\n",
      "TPU available: False, using: 0 TPU cores\n",
      "IPU available: False, using: 0 IPUs\n",
      "HPU available: False, using: 0 HPUs\n",
      "`Trainer.fit` stopped: `max_epochs=100` reached.\n",
      "GPU available: True (cuda), used: False\n",
      "TPU available: False, using: 0 TPU cores\n",
      "IPU available: False, using: 0 IPUs\n",
      "HPU available: False, using: 0 HPUs\n",
      "`Trainer.fit` stopped: `max_epochs=100` reached.\n",
      "GPU available: True (cuda), used: False\n",
      "TPU available: False, using: 0 TPU cores\n",
      "IPU available: False, using: 0 IPUs\n",
      "HPU available: False, using: 0 HPUs\n",
      "`Trainer.fit` stopped: `max_epochs=100` reached.\n",
      "GPU available: True (cuda), used: False\n",
      "TPU available: False, using: 0 TPU cores\n",
      "IPU available: False, using: 0 IPUs\n",
      "HPU available: False, using: 0 HPUs\n"
     ]
    },
    {
     "name": "stdout",
     "output_type": "stream",
     "text": [
      "GT_INTERV.DEVICE: cpu\n",
      "setting device to: cpu\n",
      "Training took 0.05 seconds\n",
      "GT_INTERV.DEVICE: cpu\n",
      "setting device to: cpu\n",
      "Training took 0.05 seconds\n",
      "GT_INTERV.DEVICE: cpu\n",
      "setting device to: cpu\n",
      "Training took 0.05 seconds\n",
      "GT_INTERV.DEVICE: cpu\n",
      "setting device to: cpu\n"
     ]
    },
    {
     "name": "stderr",
     "output_type": "stream",
     "text": [
      "`Trainer.fit` stopped: `max_epochs=100` reached.\n",
      "GPU available: True (cuda), used: False\n",
      "TPU available: False, using: 0 TPU cores\n",
      "IPU available: False, using: 0 IPUs\n",
      "HPU available: False, using: 0 HPUs\n",
      "`Trainer.fit` stopped: `max_epochs=100` reached.\n",
      "GPU available: True (cuda), used: False\n",
      "TPU available: False, using: 0 TPU cores\n",
      "IPU available: False, using: 0 IPUs\n",
      "HPU available: False, using: 0 HPUs\n",
      "`Trainer.fit` stopped: `max_epochs=100` reached.\n",
      "GPU available: True (cuda), used: False\n",
      "TPU available: False, using: 0 TPU cores\n",
      "IPU available: False, using: 0 IPUs\n",
      "HPU available: False, using: 0 HPUs\n",
      "`Trainer.fit` stopped: `max_epochs=100` reached.\n",
      "GPU available: True (cuda), used: False\n",
      "TPU available: False, using: 0 TPU cores\n",
      "IPU available: False, using: 0 IPUs\n",
      "HPU available: False, using: 0 HPUs\n",
      "`Trainer.fit` stopped: `max_epochs=100` reached.\n",
      "GPU available: True (cuda), used: False\n",
      "TPU available: False, using: 0 TPU cores\n",
      "IPU available: False, using: 0 IPUs\n",
      "HPU available: False, using: 0 HPUs\n"
     ]
    },
    {
     "name": "stdout",
     "output_type": "stream",
     "text": [
      "Training took 0.05 seconds\n",
      "GT_INTERV.DEVICE: cpu\n",
      "setting device to: cpu\n",
      "Training took 0.04 seconds\n",
      "GT_INTERV.DEVICE: cpu\n",
      "setting device to: cpu\n",
      "Training took 0.04 seconds\n",
      "GT_INTERV.DEVICE: cpu\n",
      "setting device to: cpu\n",
      "Training took 0.04 seconds\n",
      "GT_INTERV.DEVICE: cpu\n",
      "setting device to: cpu\n",
      "Training took 0.04 seconds\n",
      "GT_INTERV.DEVICE: cpu\n",
      "setting device to: cpu\n"
     ]
    },
    {
     "name": "stderr",
     "output_type": "stream",
     "text": [
      "`Trainer.fit` stopped: `max_epochs=100` reached.\n",
      "GPU available: True (cuda), used: False\n",
      "TPU available: False, using: 0 TPU cores\n",
      "IPU available: False, using: 0 IPUs\n",
      "HPU available: False, using: 0 HPUs\n",
      "`Trainer.fit` stopped: `max_epochs=100` reached.\n",
      "GPU available: True (cuda), used: False\n",
      "TPU available: False, using: 0 TPU cores\n",
      "IPU available: False, using: 0 IPUs\n",
      "HPU available: False, using: 0 HPUs\n",
      "`Trainer.fit` stopped: `max_epochs=100` reached.\n",
      "GPU available: True (cuda), used: False\n",
      "TPU available: False, using: 0 TPU cores\n",
      "IPU available: False, using: 0 IPUs\n",
      "HPU available: False, using: 0 HPUs\n",
      "`Trainer.fit` stopped: `max_epochs=100` reached.\n",
      "GPU available: True (cuda), used: False\n",
      "TPU available: False, using: 0 TPU cores\n",
      "IPU available: False, using: 0 IPUs\n",
      "HPU available: False, using: 0 HPUs\n",
      "`Trainer.fit` stopped: `max_epochs=100` reached.\n",
      "GPU available: True (cuda), used: False\n",
      "TPU available: False, using: 0 TPU cores\n",
      "IPU available: False, using: 0 IPUs\n"
     ]
    },
    {
     "name": "stdout",
     "output_type": "stream",
     "text": [
      "Training took 0.04 seconds\n",
      "GT_INTERV.DEVICE: cpu\n",
      "setting device to: cpu\n",
      "Training took 0.04 seconds\n",
      "GT_INTERV.DEVICE: cpu\n",
      "setting device to: cpu\n",
      "Training took 0.04 seconds\n",
      "GT_INTERV.DEVICE: cpu\n",
      "setting device to: cpu\n",
      "Training took 0.04 seconds\n",
      "GT_INTERV.DEVICE: cpu\n",
      "setting device to: cpu\n",
      "Training took 0.04 seconds\n",
      "GT_INTERV.DEVICE: cpu\n",
      "setting device to: cpu\n"
     ]
    },
    {
     "name": "stderr",
     "output_type": "stream",
     "text": [
      "HPU available: False, using: 0 HPUs\n",
      "`Trainer.fit` stopped: `max_epochs=100` reached.\n",
      "GPU available: True (cuda), used: False\n",
      "TPU available: False, using: 0 TPU cores\n",
      "IPU available: False, using: 0 IPUs\n",
      "HPU available: False, using: 0 HPUs\n",
      "`Trainer.fit` stopped: `max_epochs=100` reached.\n",
      "GPU available: True (cuda), used: False\n",
      "TPU available: False, using: 0 TPU cores\n",
      "IPU available: False, using: 0 IPUs\n",
      "HPU available: False, using: 0 HPUs\n",
      "`Trainer.fit` stopped: `max_epochs=100` reached.\n",
      "GPU available: True (cuda), used: False\n",
      "TPU available: False, using: 0 TPU cores\n",
      "IPU available: False, using: 0 IPUs\n",
      "HPU available: False, using: 0 HPUs\n",
      "`Trainer.fit` stopped: `max_epochs=100` reached.\n",
      "GPU available: True (cuda), used: False\n",
      "TPU available: False, using: 0 TPU cores\n",
      "IPU available: False, using: 0 IPUs\n",
      "HPU available: False, using: 0 HPUs\n",
      "`Trainer.fit` stopped: `max_epochs=100` reached.\n",
      "GPU available: True (cuda), used: False\n",
      "TPU available: False, using: 0 TPU cores\n",
      "IPU available: False, using: 0 IPUs\n",
      "HPU available: False, using: 0 HPUs\n"
     ]
    },
    {
     "name": "stdout",
     "output_type": "stream",
     "text": [
      "Training took 0.04 seconds\n",
      "GT_INTERV.DEVICE: cpu\n",
      "setting device to: cpu\n",
      "Training took 0.04 seconds\n",
      "GT_INTERV.DEVICE: cpu\n",
      "setting device to: cpu\n",
      "Training took 0.04 seconds\n",
      "GT_INTERV.DEVICE: cpu\n",
      "setting device to: cpu\n",
      "Training took 0.04 seconds\n",
      "GT_INTERV.DEVICE: cpu\n",
      "setting device to: cpu\n",
      "Training took 0.04 seconds\n",
      "GT_INTERV.DEVICE: cpu\n",
      "setting device to: cpu\n"
     ]
    },
    {
     "name": "stderr",
     "output_type": "stream",
     "text": [
      "`Trainer.fit` stopped: `max_epochs=100` reached.\n",
      "GPU available: True (cuda), used: False\n",
      "TPU available: False, using: 0 TPU cores\n",
      "IPU available: False, using: 0 IPUs\n",
      "HPU available: False, using: 0 HPUs\n",
      "`Trainer.fit` stopped: `max_epochs=100` reached.\n"
     ]
    },
    {
     "name": "stdout",
     "output_type": "stream",
     "text": [
      "Training took 0.04 seconds\n",
      "GT_INTERV.DEVICE: cpu\n",
      "setting device to: cpu\n",
      "Training took 0.04 seconds\n",
      "Iterator state: 1000\n",
      "More than 20 test_genes! Removing last 1 contexts.\n"
     ]
    },
    {
     "name": "stderr",
     "output_type": "stream",
     "text": [
      "GPU available: True (cuda), used: False\n",
      "TPU available: False, using: 0 TPU cores\n",
      "IPU available: False, using: 0 IPUs\n",
      "HPU available: False, using: 0 HPUs\n"
     ]
    },
    {
     "name": "stdout",
     "output_type": "stream",
     "text": [
      "GT_INTERV.DEVICE: cpu\n",
      "setting device to: cpu\n"
     ]
    },
    {
     "name": "stderr",
     "output_type": "stream",
     "text": [
      "`Trainer.fit` stopped: `max_epochs=1000` reached.\n",
      "GPU available: True (cuda), used: False\n",
      "TPU available: False, using: 0 TPU cores\n",
      "IPU available: False, using: 0 IPUs\n",
      "HPU available: False, using: 0 HPUs\n"
     ]
    },
    {
     "name": "stdout",
     "output_type": "stream",
     "text": [
      "Training took 0.42 seconds\n",
      "GT_INTERV.DEVICE: cpu\n",
      "setting device to: cpu\n"
     ]
    },
    {
     "name": "stderr",
     "output_type": "stream",
     "text": [
      "`Trainer.fit` stopped: `max_epochs=1000` reached.\n",
      "GPU available: True (cuda), used: False\n",
      "TPU available: False, using: 0 TPU cores\n",
      "IPU available: False, using: 0 IPUs\n",
      "HPU available: False, using: 0 HPUs\n"
     ]
    },
    {
     "name": "stdout",
     "output_type": "stream",
     "text": [
      "Training took 0.38 seconds\n",
      "GT_INTERV.DEVICE: cpu\n",
      "setting device to: cpu\n"
     ]
    },
    {
     "name": "stderr",
     "output_type": "stream",
     "text": [
      "`Trainer.fit` stopped: `max_epochs=1000` reached.\n",
      "GPU available: True (cuda), used: False\n",
      "TPU available: False, using: 0 TPU cores\n",
      "IPU available: False, using: 0 IPUs\n",
      "HPU available: False, using: 0 HPUs\n"
     ]
    },
    {
     "name": "stdout",
     "output_type": "stream",
     "text": [
      "Training took 0.38 seconds\n",
      "GT_INTERV.DEVICE: cpu\n",
      "setting device to: cpu\n"
     ]
    },
    {
     "name": "stderr",
     "output_type": "stream",
     "text": [
      "`Trainer.fit` stopped: `max_epochs=1000` reached.\n",
      "GPU available: True (cuda), used: False\n",
      "TPU available: False, using: 0 TPU cores\n",
      "IPU available: False, using: 0 IPUs\n",
      "HPU available: False, using: 0 HPUs\n"
     ]
    },
    {
     "name": "stdout",
     "output_type": "stream",
     "text": [
      "Training took 0.38 seconds\n",
      "GT_INTERV.DEVICE: cpu\n",
      "setting device to: cpu\n"
     ]
    },
    {
     "name": "stderr",
     "output_type": "stream",
     "text": [
      "`Trainer.fit` stopped: `max_epochs=1000` reached.\n",
      "GPU available: True (cuda), used: False\n",
      "TPU available: False, using: 0 TPU cores\n",
      "IPU available: False, using: 0 IPUs\n",
      "HPU available: False, using: 0 HPUs\n"
     ]
    },
    {
     "name": "stdout",
     "output_type": "stream",
     "text": [
      "Training took 0.38 seconds\n",
      "GT_INTERV.DEVICE: cpu\n",
      "setting device to: cpu\n"
     ]
    },
    {
     "name": "stderr",
     "output_type": "stream",
     "text": [
      "`Trainer.fit` stopped: `max_epochs=1000` reached.\n",
      "GPU available: True (cuda), used: False\n",
      "TPU available: False, using: 0 TPU cores\n",
      "IPU available: False, using: 0 IPUs\n",
      "HPU available: False, using: 0 HPUs\n"
     ]
    },
    {
     "name": "stdout",
     "output_type": "stream",
     "text": [
      "Training took 0.38 seconds\n",
      "GT_INTERV.DEVICE: cpu\n",
      "setting device to: cpu\n"
     ]
    },
    {
     "name": "stderr",
     "output_type": "stream",
     "text": [
      "`Trainer.fit` stopped: `max_epochs=1000` reached.\n",
      "GPU available: True (cuda), used: False\n",
      "TPU available: False, using: 0 TPU cores\n",
      "IPU available: False, using: 0 IPUs\n",
      "HPU available: False, using: 0 HPUs\n"
     ]
    },
    {
     "name": "stdout",
     "output_type": "stream",
     "text": [
      "Training took 0.38 seconds\n",
      "GT_INTERV.DEVICE: cpu\n",
      "setting device to: cpu\n"
     ]
    },
    {
     "name": "stderr",
     "output_type": "stream",
     "text": [
      "`Trainer.fit` stopped: `max_epochs=1000` reached.\n",
      "GPU available: True (cuda), used: False\n",
      "TPU available: False, using: 0 TPU cores\n",
      "IPU available: False, using: 0 IPUs\n",
      "HPU available: False, using: 0 HPUs\n"
     ]
    },
    {
     "name": "stdout",
     "output_type": "stream",
     "text": [
      "Training took 0.38 seconds\n",
      "GT_INTERV.DEVICE: cpu\n",
      "setting device to: cpu\n"
     ]
    },
    {
     "name": "stderr",
     "output_type": "stream",
     "text": [
      "`Trainer.fit` stopped: `max_epochs=1000` reached.\n",
      "GPU available: True (cuda), used: False\n",
      "TPU available: False, using: 0 TPU cores\n",
      "IPU available: False, using: 0 IPUs\n",
      "HPU available: False, using: 0 HPUs\n"
     ]
    },
    {
     "name": "stdout",
     "output_type": "stream",
     "text": [
      "Training took 0.38 seconds\n",
      "GT_INTERV.DEVICE: cpu\n",
      "setting device to: cpu\n"
     ]
    },
    {
     "name": "stderr",
     "output_type": "stream",
     "text": [
      "`Trainer.fit` stopped: `max_epochs=1000` reached.\n",
      "GPU available: True (cuda), used: False\n",
      "TPU available: False, using: 0 TPU cores\n",
      "IPU available: False, using: 0 IPUs\n",
      "HPU available: False, using: 0 HPUs\n"
     ]
    },
    {
     "name": "stdout",
     "output_type": "stream",
     "text": [
      "Training took 0.38 seconds\n",
      "GT_INTERV.DEVICE: cpu\n",
      "setting device to: cpu\n"
     ]
    },
    {
     "name": "stderr",
     "output_type": "stream",
     "text": [
      "`Trainer.fit` stopped: `max_epochs=1000` reached.\n",
      "GPU available: True (cuda), used: False\n",
      "TPU available: False, using: 0 TPU cores\n",
      "IPU available: False, using: 0 IPUs\n",
      "HPU available: False, using: 0 HPUs\n"
     ]
    },
    {
     "name": "stdout",
     "output_type": "stream",
     "text": [
      "Training took 0.38 seconds\n",
      "GT_INTERV.DEVICE: cpu\n",
      "setting device to: cpu\n"
     ]
    },
    {
     "name": "stderr",
     "output_type": "stream",
     "text": [
      "`Trainer.fit` stopped: `max_epochs=1000` reached.\n",
      "GPU available: True (cuda), used: False\n",
      "TPU available: False, using: 0 TPU cores\n",
      "IPU available: False, using: 0 IPUs\n",
      "HPU available: False, using: 0 HPUs\n"
     ]
    },
    {
     "name": "stdout",
     "output_type": "stream",
     "text": [
      "Training took 0.38 seconds\n",
      "GT_INTERV.DEVICE: cpu\n",
      "setting device to: cpu\n"
     ]
    },
    {
     "name": "stderr",
     "output_type": "stream",
     "text": [
      "`Trainer.fit` stopped: `max_epochs=1000` reached.\n",
      "GPU available: True (cuda), used: False\n",
      "TPU available: False, using: 0 TPU cores\n",
      "IPU available: False, using: 0 IPUs\n",
      "HPU available: False, using: 0 HPUs\n"
     ]
    },
    {
     "name": "stdout",
     "output_type": "stream",
     "text": [
      "Training took 0.38 seconds\n",
      "GT_INTERV.DEVICE: cpu\n",
      "setting device to: cpu\n"
     ]
    },
    {
     "name": "stderr",
     "output_type": "stream",
     "text": [
      "`Trainer.fit` stopped: `max_epochs=1000` reached.\n",
      "GPU available: True (cuda), used: False\n",
      "TPU available: False, using: 0 TPU cores\n",
      "IPU available: False, using: 0 IPUs\n",
      "HPU available: False, using: 0 HPUs\n"
     ]
    },
    {
     "name": "stdout",
     "output_type": "stream",
     "text": [
      "Training took 0.38 seconds\n",
      "GT_INTERV.DEVICE: cpu\n",
      "setting device to: cpu\n"
     ]
    },
    {
     "name": "stderr",
     "output_type": "stream",
     "text": [
      "`Trainer.fit` stopped: `max_epochs=1000` reached.\n",
      "GPU available: True (cuda), used: False\n",
      "TPU available: False, using: 0 TPU cores\n",
      "IPU available: False, using: 0 IPUs\n",
      "HPU available: False, using: 0 HPUs\n"
     ]
    },
    {
     "name": "stdout",
     "output_type": "stream",
     "text": [
      "Training took 0.38 seconds\n",
      "GT_INTERV.DEVICE: cpu\n",
      "setting device to: cpu\n"
     ]
    },
    {
     "name": "stderr",
     "output_type": "stream",
     "text": [
      "`Trainer.fit` stopped: `max_epochs=1000` reached.\n",
      "GPU available: True (cuda), used: False\n",
      "TPU available: False, using: 0 TPU cores\n",
      "IPU available: False, using: 0 IPUs\n",
      "HPU available: False, using: 0 HPUs\n"
     ]
    },
    {
     "name": "stdout",
     "output_type": "stream",
     "text": [
      "Training took 0.38 seconds\n",
      "GT_INTERV.DEVICE: cpu\n",
      "setting device to: cpu\n"
     ]
    },
    {
     "name": "stderr",
     "output_type": "stream",
     "text": [
      "`Trainer.fit` stopped: `max_epochs=1000` reached.\n",
      "GPU available: True (cuda), used: False\n",
      "TPU available: False, using: 0 TPU cores\n",
      "IPU available: False, using: 0 IPUs\n",
      "HPU available: False, using: 0 HPUs\n"
     ]
    },
    {
     "name": "stdout",
     "output_type": "stream",
     "text": [
      "Training took 0.38 seconds\n",
      "GT_INTERV.DEVICE: cpu\n",
      "setting device to: cpu\n"
     ]
    },
    {
     "name": "stderr",
     "output_type": "stream",
     "text": [
      "`Trainer.fit` stopped: `max_epochs=1000` reached.\n",
      "GPU available: True (cuda), used: False\n",
      "TPU available: False, using: 0 TPU cores\n",
      "IPU available: False, using: 0 IPUs\n",
      "HPU available: False, using: 0 HPUs\n"
     ]
    },
    {
     "name": "stdout",
     "output_type": "stream",
     "text": [
      "Training took 0.38 seconds\n",
      "GT_INTERV.DEVICE: cpu\n",
      "setting device to: cpu\n"
     ]
    },
    {
     "name": "stderr",
     "output_type": "stream",
     "text": [
      "`Trainer.fit` stopped: `max_epochs=1000` reached.\n",
      "GPU available: True (cuda), used: False\n",
      "TPU available: False, using: 0 TPU cores\n",
      "IPU available: False, using: 0 IPUs\n",
      "HPU available: False, using: 0 HPUs\n"
     ]
    },
    {
     "name": "stdout",
     "output_type": "stream",
     "text": [
      "Training took 0.38 seconds\n",
      "GT_INTERV.DEVICE: cpu\n",
      "setting device to: cpu\n"
     ]
    },
    {
     "name": "stderr",
     "output_type": "stream",
     "text": [
      "`Trainer.fit` stopped: `max_epochs=1000` reached.\n",
      "GPU available: True (cuda), used: False\n",
      "TPU available: False, using: 0 TPU cores\n",
      "IPU available: False, using: 0 IPUs\n",
      "HPU available: False, using: 0 HPUs\n",
      "`Trainer.fit` stopped: `max_epochs=1` reached.\n",
      "GPU available: True (cuda), used: False\n",
      "TPU available: False, using: 0 TPU cores\n",
      "IPU available: False, using: 0 IPUs\n",
      "HPU available: False, using: 0 HPUs\n",
      "`Trainer.fit` stopped: `max_epochs=1` reached.\n",
      "GPU available: True (cuda), used: False\n",
      "TPU available: False, using: 0 TPU cores\n",
      "IPU available: False, using: 0 IPUs\n",
      "HPU available: False, using: 0 HPUs\n",
      "`Trainer.fit` stopped: `max_epochs=1` reached.\n",
      "GPU available: True (cuda), used: False\n",
      "TPU available: False, using: 0 TPU cores\n",
      "IPU available: False, using: 0 IPUs\n",
      "HPU available: False, using: 0 HPUs\n",
      "`Trainer.fit` stopped: `max_epochs=1` reached.\n"
     ]
    },
    {
     "name": "stdout",
     "output_type": "stream",
     "text": [
      "Training took 0.38 seconds\n",
      "run_061\n",
      "Iterator state: 1\n",
      "More than 20 test_genes! Removing last 1 contexts.\n",
      "GT_INTERV.DEVICE: cpu\n",
      "setting device to: cpu\n",
      "Training took 0.01 seconds\n",
      "GT_INTERV.DEVICE: cpu\n",
      "setting device to: cpu\n",
      "Training took 0.01 seconds\n",
      "GT_INTERV.DEVICE: cpu\n",
      "setting device to: cpu\n",
      "Training took 0.01 seconds\n",
      "GT_INTERV.DEVICE: cpu\n",
      "setting device to: cpu\n",
      "Training took 0.01 seconds\n",
      "GT_INTERV.DEVICE: cpu\n",
      "setting device to: cpu\n"
     ]
    },
    {
     "name": "stderr",
     "output_type": "stream",
     "text": [
      "GPU available: True (cuda), used: False\n",
      "TPU available: False, using: 0 TPU cores\n",
      "IPU available: False, using: 0 IPUs\n",
      "HPU available: False, using: 0 HPUs\n",
      "`Trainer.fit` stopped: `max_epochs=1` reached.\n",
      "GPU available: True (cuda), used: False\n",
      "TPU available: False, using: 0 TPU cores\n",
      "IPU available: False, using: 0 IPUs\n",
      "HPU available: False, using: 0 HPUs\n",
      "`Trainer.fit` stopped: `max_epochs=1` reached.\n",
      "GPU available: True (cuda), used: False\n",
      "TPU available: False, using: 0 TPU cores\n",
      "IPU available: False, using: 0 IPUs\n",
      "HPU available: False, using: 0 HPUs\n",
      "`Trainer.fit` stopped: `max_epochs=1` reached.\n",
      "GPU available: True (cuda), used: False\n",
      "TPU available: False, using: 0 TPU cores\n",
      "IPU available: False, using: 0 IPUs\n",
      "HPU available: False, using: 0 HPUs\n",
      "`Trainer.fit` stopped: `max_epochs=1` reached.\n",
      "GPU available: True (cuda), used: False\n",
      "TPU available: False, using: 0 TPU cores\n",
      "IPU available: False, using: 0 IPUs\n",
      "HPU available: False, using: 0 HPUs\n",
      "`Trainer.fit` stopped: `max_epochs=1` reached.\n",
      "GPU available: True (cuda), used: False\n",
      "TPU available: False, using: 0 TPU cores\n",
      "IPU available: False, using: 0 IPUs\n",
      "HPU available: False, using: 0 HPUs\n",
      "`Trainer.fit` stopped: `max_epochs=1` reached.\n",
      "GPU available: True (cuda), used: False\n",
      "TPU available: False, using: 0 TPU cores\n",
      "IPU available: False, using: 0 IPUs\n",
      "HPU available: False, using: 0 HPUs\n",
      "`Trainer.fit` stopped: `max_epochs=1` reached.\n",
      "GPU available: True (cuda), used: False\n",
      "TPU available: False, using: 0 TPU cores\n",
      "IPU available: False, using: 0 IPUs\n",
      "HPU available: False, using: 0 HPUs\n",
      "`Trainer.fit` stopped: `max_epochs=1` reached.\n",
      "GPU available: True (cuda), used: False\n",
      "TPU available: False, using: 0 TPU cores\n",
      "IPU available: False, using: 0 IPUs\n",
      "HPU available: False, using: 0 HPUs\n",
      "`Trainer.fit` stopped: `max_epochs=1` reached.\n",
      "GPU available: True (cuda), used: False\n",
      "TPU available: False, using: 0 TPU cores\n",
      "IPU available: False, using: 0 IPUs\n",
      "HPU available: False, using: 0 HPUs\n",
      "`Trainer.fit` stopped: `max_epochs=1` reached.\n",
      "GPU available: True (cuda), used: False\n",
      "TPU available: False, using: 0 TPU cores\n",
      "IPU available: False, using: 0 IPUs\n",
      "HPU available: False, using: 0 HPUs\n",
      "`Trainer.fit` stopped: `max_epochs=1` reached.\n",
      "GPU available: True (cuda), used: False\n",
      "TPU available: False, using: 0 TPU cores\n",
      "IPU available: False, using: 0 IPUs\n",
      "HPU available: False, using: 0 HPUs\n",
      "`Trainer.fit` stopped: `max_epochs=1` reached.\n",
      "GPU available: True (cuda), used: False\n",
      "TPU available: False, using: 0 TPU cores\n",
      "IPU available: False, using: 0 IPUs\n",
      "HPU available: False, using: 0 HPUs\n",
      "`Trainer.fit` stopped: `max_epochs=1` reached.\n",
      "GPU available: True (cuda), used: False\n",
      "TPU available: False, using: 0 TPU cores\n",
      "IPU available: False, using: 0 IPUs\n",
      "HPU available: False, using: 0 HPUs\n",
      "`Trainer.fit` stopped: `max_epochs=1` reached.\n",
      "GPU available: True (cuda), used: False\n",
      "TPU available: False, using: 0 TPU cores\n",
      "IPU available: False, using: 0 IPUs\n",
      "HPU available: False, using: 0 HPUs\n",
      "`Trainer.fit` stopped: `max_epochs=1` reached.\n",
      "GPU available: True (cuda), used: False\n",
      "TPU available: False, using: 0 TPU cores\n",
      "IPU available: False, using: 0 IPUs\n",
      "HPU available: False, using: 0 HPUs\n",
      "`Trainer.fit` stopped: `max_epochs=1` reached.\n"
     ]
    },
    {
     "name": "stdout",
     "output_type": "stream",
     "text": [
      "Training took 0.01 seconds\n",
      "GT_INTERV.DEVICE: cpu\n",
      "setting device to: cpu\n",
      "Training took 0.01 seconds\n",
      "GT_INTERV.DEVICE: cpu\n",
      "setting device to: cpu\n",
      "Training took 0.01 seconds\n",
      "GT_INTERV.DEVICE: cpu\n",
      "setting device to: cpu\n",
      "Training took 0.01 seconds\n",
      "GT_INTERV.DEVICE: cpu\n",
      "setting device to: cpu\n",
      "Training took 0.01 seconds\n",
      "GT_INTERV.DEVICE: cpu\n",
      "setting device to: cpu\n",
      "Training took 0.01 seconds\n",
      "GT_INTERV.DEVICE: cpu\n",
      "setting device to: cpu\n",
      "Training took 0.01 seconds\n",
      "GT_INTERV.DEVICE: cpu\n",
      "setting device to: cpu\n",
      "Training took 0.01 seconds\n",
      "GT_INTERV.DEVICE: cpu\n",
      "setting device to: cpu\n",
      "Training took 0.01 seconds\n",
      "GT_INTERV.DEVICE: cpu\n",
      "setting device to: cpu\n",
      "Training took 0.01 seconds\n",
      "GT_INTERV.DEVICE: cpu\n",
      "setting device to: cpu\n",
      "Training took 0.01 seconds\n",
      "GT_INTERV.DEVICE: cpu\n",
      "setting device to: cpu\n",
      "Training took 0.01 seconds\n",
      "GT_INTERV.DEVICE: cpu\n",
      "setting device to: cpu\n",
      "Training took 0.01 seconds\n",
      "GT_INTERV.DEVICE: cpu\n",
      "setting device to: cpu\n",
      "Training took 0.01 seconds\n",
      "GT_INTERV.DEVICE: cpu\n",
      "setting device to: cpu\n",
      "Training took 0.01 seconds\n",
      "GT_INTERV.DEVICE: cpu\n",
      "setting device to: cpu\n",
      "Training took 0.01 seconds\n",
      "Iterator state: 10\n",
      "More than 20 test_genes! Removing last 1 contexts.\n"
     ]
    },
    {
     "name": "stderr",
     "output_type": "stream",
     "text": [
      "GPU available: True (cuda), used: False\n",
      "TPU available: False, using: 0 TPU cores\n",
      "IPU available: False, using: 0 IPUs\n",
      "HPU available: False, using: 0 HPUs\n",
      "`Trainer.fit` stopped: `max_epochs=10` reached.\n",
      "GPU available: True (cuda), used: False\n",
      "TPU available: False, using: 0 TPU cores\n",
      "IPU available: False, using: 0 IPUs\n",
      "HPU available: False, using: 0 HPUs\n",
      "`Trainer.fit` stopped: `max_epochs=10` reached.\n",
      "GPU available: True (cuda), used: False\n",
      "TPU available: False, using: 0 TPU cores\n",
      "IPU available: False, using: 0 IPUs\n",
      "HPU available: False, using: 0 HPUs\n",
      "`Trainer.fit` stopped: `max_epochs=10` reached.\n",
      "GPU available: True (cuda), used: False\n",
      "TPU available: False, using: 0 TPU cores\n",
      "IPU available: False, using: 0 IPUs\n",
      "HPU available: False, using: 0 HPUs\n",
      "`Trainer.fit` stopped: `max_epochs=10` reached.\n",
      "GPU available: True (cuda), used: False\n",
      "TPU available: False, using: 0 TPU cores\n",
      "IPU available: False, using: 0 IPUs\n",
      "HPU available: False, using: 0 HPUs\n",
      "`Trainer.fit` stopped: `max_epochs=10` reached.\n",
      "GPU available: True (cuda), used: False\n",
      "TPU available: False, using: 0 TPU cores\n",
      "IPU available: False, using: 0 IPUs\n",
      "HPU available: False, using: 0 HPUs\n",
      "`Trainer.fit` stopped: `max_epochs=10` reached.\n",
      "GPU available: True (cuda), used: False\n",
      "TPU available: False, using: 0 TPU cores\n",
      "IPU available: False, using: 0 IPUs\n",
      "HPU available: False, using: 0 HPUs\n",
      "`Trainer.fit` stopped: `max_epochs=10` reached.\n",
      "GPU available: True (cuda), used: False\n",
      "TPU available: False, using: 0 TPU cores\n",
      "IPU available: False, using: 0 IPUs\n",
      "HPU available: False, using: 0 HPUs\n",
      "`Trainer.fit` stopped: `max_epochs=10` reached.\n",
      "GPU available: True (cuda), used: False\n",
      "TPU available: False, using: 0 TPU cores\n",
      "IPU available: False, using: 0 IPUs\n",
      "HPU available: False, using: 0 HPUs\n",
      "`Trainer.fit` stopped: `max_epochs=10` reached.\n",
      "GPU available: True (cuda), used: False\n",
      "TPU available: False, using: 0 TPU cores\n",
      "IPU available: False, using: 0 IPUs\n",
      "HPU available: False, using: 0 HPUs\n",
      "`Trainer.fit` stopped: `max_epochs=10` reached.\n",
      "GPU available: True (cuda), used: False\n",
      "TPU available: False, using: 0 TPU cores\n",
      "IPU available: False, using: 0 IPUs\n",
      "HPU available: False, using: 0 HPUs\n",
      "`Trainer.fit` stopped: `max_epochs=10` reached.\n",
      "GPU available: True (cuda), used: False\n",
      "TPU available: False, using: 0 TPU cores\n",
      "IPU available: False, using: 0 IPUs\n",
      "HPU available: False, using: 0 HPUs\n",
      "`Trainer.fit` stopped: `max_epochs=10` reached.\n",
      "GPU available: True (cuda), used: False\n",
      "TPU available: False, using: 0 TPU cores\n",
      "IPU available: False, using: 0 IPUs\n",
      "HPU available: False, using: 0 HPUs\n"
     ]
    },
    {
     "name": "stdout",
     "output_type": "stream",
     "text": [
      "GT_INTERV.DEVICE: cpu\n",
      "setting device to: cpu\n",
      "Training took 0.01 seconds\n",
      "GT_INTERV.DEVICE: cpu\n",
      "setting device to: cpu\n",
      "Training took 0.01 seconds\n",
      "GT_INTERV.DEVICE: cpu\n",
      "setting device to: cpu\n",
      "Training took 0.01 seconds\n",
      "GT_INTERV.DEVICE: cpu\n",
      "setting device to: cpu\n",
      "Training took 0.01 seconds\n",
      "GT_INTERV.DEVICE: cpu\n",
      "setting device to: cpu\n",
      "Training took 0.01 seconds\n",
      "GT_INTERV.DEVICE: cpu\n",
      "setting device to: cpu\n",
      "Training took 0.01 seconds\n",
      "GT_INTERV.DEVICE: cpu\n",
      "setting device to: cpu\n",
      "Training took 0.01 seconds\n",
      "GT_INTERV.DEVICE: cpu\n",
      "setting device to: cpu\n",
      "Training took 0.01 seconds\n",
      "GT_INTERV.DEVICE: cpu\n",
      "setting device to: cpu\n",
      "Training took 0.01 seconds\n",
      "GT_INTERV.DEVICE: cpu\n",
      "setting device to: cpu\n",
      "Training took 0.01 seconds\n",
      "GT_INTERV.DEVICE: cpu\n",
      "setting device to: cpu\n",
      "Training took 0.01 seconds\n",
      "GT_INTERV.DEVICE: cpu\n",
      "setting device to: cpu\n",
      "Training took 0.01 seconds\n",
      "GT_INTERV.DEVICE: cpu\n",
      "setting device to: cpu\n"
     ]
    },
    {
     "name": "stderr",
     "output_type": "stream",
     "text": [
      "`Trainer.fit` stopped: `max_epochs=10` reached.\n",
      "GPU available: True (cuda), used: False\n",
      "TPU available: False, using: 0 TPU cores\n",
      "IPU available: False, using: 0 IPUs\n",
      "HPU available: False, using: 0 HPUs\n",
      "`Trainer.fit` stopped: `max_epochs=10` reached.\n",
      "GPU available: True (cuda), used: False\n",
      "TPU available: False, using: 0 TPU cores\n",
      "IPU available: False, using: 0 IPUs\n",
      "HPU available: False, using: 0 HPUs\n",
      "`Trainer.fit` stopped: `max_epochs=10` reached.\n",
      "GPU available: True (cuda), used: False\n",
      "TPU available: False, using: 0 TPU cores\n",
      "IPU available: False, using: 0 IPUs\n",
      "HPU available: False, using: 0 HPUs\n",
      "`Trainer.fit` stopped: `max_epochs=10` reached.\n",
      "GPU available: True (cuda), used: False\n",
      "TPU available: False, using: 0 TPU cores\n",
      "IPU available: False, using: 0 IPUs\n",
      "HPU available: False, using: 0 HPUs\n",
      "`Trainer.fit` stopped: `max_epochs=10` reached.\n",
      "GPU available: True (cuda), used: False\n",
      "TPU available: False, using: 0 TPU cores\n",
      "IPU available: False, using: 0 IPUs\n",
      "HPU available: False, using: 0 HPUs\n",
      "`Trainer.fit` stopped: `max_epochs=10` reached.\n",
      "GPU available: True (cuda), used: False\n",
      "TPU available: False, using: 0 TPU cores\n",
      "IPU available: False, using: 0 IPUs\n",
      "HPU available: False, using: 0 HPUs\n",
      "`Trainer.fit` stopped: `max_epochs=10` reached.\n",
      "GPU available: True (cuda), used: False\n",
      "TPU available: False, using: 0 TPU cores\n",
      "IPU available: False, using: 0 IPUs\n",
      "HPU available: False, using: 0 HPUs\n",
      "`Trainer.fit` stopped: `max_epochs=10` reached.\n"
     ]
    },
    {
     "name": "stdout",
     "output_type": "stream",
     "text": [
      "Training took 0.01 seconds\n",
      "GT_INTERV.DEVICE: cpu\n",
      "setting device to: cpu\n",
      "Training took 0.01 seconds\n",
      "GT_INTERV.DEVICE: cpu\n",
      "setting device to: cpu\n",
      "Training took 0.01 seconds\n",
      "GT_INTERV.DEVICE: cpu\n",
      "setting device to: cpu\n",
      "Training took 0.01 seconds\n",
      "GT_INTERV.DEVICE: cpu\n",
      "setting device to: cpu\n",
      "Training took 0.01 seconds\n",
      "GT_INTERV.DEVICE: cpu\n",
      "setting device to: cpu\n",
      "Training took 0.01 seconds\n",
      "GT_INTERV.DEVICE: cpu\n",
      "setting device to: cpu\n",
      "Training took 0.01 seconds\n",
      "GT_INTERV.DEVICE: cpu\n",
      "setting device to: cpu\n",
      "Training took 0.01 seconds\n",
      "Iterator state: 100\n",
      "More than 20 test_genes! Removing last 1 contexts.\n"
     ]
    },
    {
     "name": "stderr",
     "output_type": "stream",
     "text": [
      "GPU available: True (cuda), used: False\n",
      "TPU available: False, using: 0 TPU cores\n",
      "IPU available: False, using: 0 IPUs\n",
      "HPU available: False, using: 0 HPUs\n",
      "`Trainer.fit` stopped: `max_epochs=100` reached.\n",
      "GPU available: True (cuda), used: False\n",
      "TPU available: False, using: 0 TPU cores\n",
      "IPU available: False, using: 0 IPUs\n",
      "HPU available: False, using: 0 HPUs\n",
      "`Trainer.fit` stopped: `max_epochs=100` reached.\n",
      "GPU available: True (cuda), used: False\n",
      "TPU available: False, using: 0 TPU cores\n",
      "IPU available: False, using: 0 IPUs\n",
      "HPU available: False, using: 0 HPUs\n",
      "`Trainer.fit` stopped: `max_epochs=100` reached.\n",
      "GPU available: True (cuda), used: False\n",
      "TPU available: False, using: 0 TPU cores\n",
      "IPU available: False, using: 0 IPUs\n",
      "HPU available: False, using: 0 HPUs\n"
     ]
    },
    {
     "name": "stdout",
     "output_type": "stream",
     "text": [
      "GT_INTERV.DEVICE: cpu\n",
      "setting device to: cpu\n",
      "Training took 0.05 seconds\n",
      "GT_INTERV.DEVICE: cpu\n",
      "setting device to: cpu\n",
      "Training took 0.05 seconds\n",
      "GT_INTERV.DEVICE: cpu\n",
      "setting device to: cpu\n",
      "Training took 0.05 seconds\n",
      "GT_INTERV.DEVICE: cpu\n",
      "setting device to: cpu\n"
     ]
    },
    {
     "name": "stderr",
     "output_type": "stream",
     "text": [
      "`Trainer.fit` stopped: `max_epochs=100` reached.\n",
      "GPU available: True (cuda), used: False\n",
      "TPU available: False, using: 0 TPU cores\n",
      "IPU available: False, using: 0 IPUs\n",
      "HPU available: False, using: 0 HPUs\n",
      "`Trainer.fit` stopped: `max_epochs=100` reached.\n",
      "GPU available: True (cuda), used: False\n",
      "TPU available: False, using: 0 TPU cores\n",
      "IPU available: False, using: 0 IPUs\n",
      "HPU available: False, using: 0 HPUs\n",
      "`Trainer.fit` stopped: `max_epochs=100` reached.\n",
      "GPU available: True (cuda), used: False\n",
      "TPU available: False, using: 0 TPU cores\n",
      "IPU available: False, using: 0 IPUs\n",
      "HPU available: False, using: 0 HPUs\n",
      "`Trainer.fit` stopped: `max_epochs=100` reached.\n",
      "GPU available: True (cuda), used: False\n",
      "TPU available: False, using: 0 TPU cores\n",
      "IPU available: False, using: 0 IPUs\n",
      "HPU available: False, using: 0 HPUs\n",
      "`Trainer.fit` stopped: `max_epochs=100` reached.\n",
      "GPU available: True (cuda), used: False\n",
      "TPU available: False, using: 0 TPU cores\n",
      "IPU available: False, using: 0 IPUs\n",
      "HPU available: False, using: 0 HPUs\n"
     ]
    },
    {
     "name": "stdout",
     "output_type": "stream",
     "text": [
      "Training took 0.05 seconds\n",
      "GT_INTERV.DEVICE: cpu\n",
      "setting device to: cpu\n",
      "Training took 0.04 seconds\n",
      "GT_INTERV.DEVICE: cpu\n",
      "setting device to: cpu\n",
      "Training took 0.04 seconds\n",
      "GT_INTERV.DEVICE: cpu\n",
      "setting device to: cpu\n",
      "Training took 0.04 seconds\n",
      "GT_INTERV.DEVICE: cpu\n",
      "setting device to: cpu\n",
      "Training took 0.04 seconds\n",
      "GT_INTERV.DEVICE: cpu\n",
      "setting device to: cpu\n"
     ]
    },
    {
     "name": "stderr",
     "output_type": "stream",
     "text": [
      "`Trainer.fit` stopped: `max_epochs=100` reached.\n",
      "GPU available: True (cuda), used: False\n",
      "TPU available: False, using: 0 TPU cores\n",
      "IPU available: False, using: 0 IPUs\n",
      "HPU available: False, using: 0 HPUs\n",
      "`Trainer.fit` stopped: `max_epochs=100` reached.\n",
      "GPU available: True (cuda), used: False\n",
      "TPU available: False, using: 0 TPU cores\n",
      "IPU available: False, using: 0 IPUs\n",
      "HPU available: False, using: 0 HPUs\n",
      "`Trainer.fit` stopped: `max_epochs=100` reached.\n",
      "GPU available: True (cuda), used: False\n",
      "TPU available: False, using: 0 TPU cores\n",
      "IPU available: False, using: 0 IPUs\n",
      "HPU available: False, using: 0 HPUs\n",
      "`Trainer.fit` stopped: `max_epochs=100` reached.\n",
      "GPU available: True (cuda), used: False\n",
      "TPU available: False, using: 0 TPU cores\n",
      "IPU available: False, using: 0 IPUs\n",
      "HPU available: False, using: 0 HPUs\n",
      "`Trainer.fit` stopped: `max_epochs=100` reached.\n",
      "GPU available: True (cuda), used: False\n",
      "TPU available: False, using: 0 TPU cores\n",
      "IPU available: False, using: 0 IPUs\n",
      "HPU available: False, using: 0 HPUs\n"
     ]
    },
    {
     "name": "stdout",
     "output_type": "stream",
     "text": [
      "Training took 0.04 seconds\n",
      "GT_INTERV.DEVICE: cpu\n",
      "setting device to: cpu\n",
      "Training took 0.04 seconds\n",
      "GT_INTERV.DEVICE: cpu\n",
      "setting device to: cpu\n",
      "Training took 0.04 seconds\n",
      "GT_INTERV.DEVICE: cpu\n",
      "setting device to: cpu\n",
      "Training took 0.04 seconds\n",
      "GT_INTERV.DEVICE: cpu\n",
      "setting device to: cpu\n",
      "Training took 0.04 seconds\n",
      "GT_INTERV.DEVICE: cpu\n",
      "setting device to: cpu\n"
     ]
    },
    {
     "name": "stderr",
     "output_type": "stream",
     "text": [
      "`Trainer.fit` stopped: `max_epochs=100` reached.\n",
      "GPU available: True (cuda), used: False\n",
      "TPU available: False, using: 0 TPU cores\n",
      "IPU available: False, using: 0 IPUs\n",
      "HPU available: False, using: 0 HPUs\n",
      "`Trainer.fit` stopped: `max_epochs=100` reached.\n",
      "GPU available: True (cuda), used: False\n",
      "TPU available: False, using: 0 TPU cores\n",
      "IPU available: False, using: 0 IPUs\n",
      "HPU available: False, using: 0 HPUs\n",
      "`Trainer.fit` stopped: `max_epochs=100` reached.\n",
      "GPU available: True (cuda), used: False\n",
      "TPU available: False, using: 0 TPU cores\n",
      "IPU available: False, using: 0 IPUs\n",
      "HPU available: False, using: 0 HPUs\n",
      "`Trainer.fit` stopped: `max_epochs=100` reached.\n",
      "GPU available: True (cuda), used: False\n",
      "TPU available: False, using: 0 TPU cores\n",
      "IPU available: False, using: 0 IPUs\n",
      "HPU available: False, using: 0 HPUs\n",
      "`Trainer.fit` stopped: `max_epochs=100` reached.\n",
      "GPU available: True (cuda), used: False\n",
      "TPU available: False, using: 0 TPU cores\n",
      "IPU available: False, using: 0 IPUs\n",
      "HPU available: False, using: 0 HPUs\n"
     ]
    },
    {
     "name": "stdout",
     "output_type": "stream",
     "text": [
      "Training took 0.04 seconds\n",
      "GT_INTERV.DEVICE: cpu\n",
      "setting device to: cpu\n",
      "Training took 0.04 seconds\n",
      "GT_INTERV.DEVICE: cpu\n",
      "setting device to: cpu\n",
      "Training took 0.04 seconds\n",
      "GT_INTERV.DEVICE: cpu\n",
      "setting device to: cpu\n",
      "Training took 0.04 seconds\n",
      "GT_INTERV.DEVICE: cpu\n",
      "setting device to: cpu\n",
      "Training took 0.04 seconds\n",
      "GT_INTERV.DEVICE: cpu\n",
      "setting device to: cpu\n"
     ]
    },
    {
     "name": "stderr",
     "output_type": "stream",
     "text": [
      "`Trainer.fit` stopped: `max_epochs=100` reached.\n",
      "GPU available: True (cuda), used: False\n",
      "TPU available: False, using: 0 TPU cores\n",
      "IPU available: False, using: 0 IPUs\n",
      "HPU available: False, using: 0 HPUs\n",
      "`Trainer.fit` stopped: `max_epochs=100` reached.\n"
     ]
    },
    {
     "name": "stdout",
     "output_type": "stream",
     "text": [
      "Training took 0.04 seconds\n",
      "GT_INTERV.DEVICE: cpu\n",
      "setting device to: cpu\n",
      "Training took 0.04 seconds\n",
      "Iterator state: 1000\n",
      "More than 20 test_genes! Removing last 1 contexts.\n"
     ]
    },
    {
     "name": "stderr",
     "output_type": "stream",
     "text": [
      "GPU available: True (cuda), used: False\n",
      "TPU available: False, using: 0 TPU cores\n",
      "IPU available: False, using: 0 IPUs\n",
      "HPU available: False, using: 0 HPUs\n"
     ]
    },
    {
     "name": "stdout",
     "output_type": "stream",
     "text": [
      "GT_INTERV.DEVICE: cpu\n",
      "setting device to: cpu\n"
     ]
    },
    {
     "name": "stderr",
     "output_type": "stream",
     "text": [
      "`Trainer.fit` stopped: `max_epochs=1000` reached.\n",
      "GPU available: True (cuda), used: False\n",
      "TPU available: False, using: 0 TPU cores\n",
      "IPU available: False, using: 0 IPUs\n",
      "HPU available: False, using: 0 HPUs\n"
     ]
    },
    {
     "name": "stdout",
     "output_type": "stream",
     "text": [
      "Training took 0.41 seconds\n",
      "GT_INTERV.DEVICE: cpu\n",
      "setting device to: cpu\n"
     ]
    },
    {
     "name": "stderr",
     "output_type": "stream",
     "text": [
      "`Trainer.fit` stopped: `max_epochs=1000` reached.\n",
      "GPU available: True (cuda), used: False\n",
      "TPU available: False, using: 0 TPU cores\n",
      "IPU available: False, using: 0 IPUs\n",
      "HPU available: False, using: 0 HPUs\n"
     ]
    },
    {
     "name": "stdout",
     "output_type": "stream",
     "text": [
      "Training took 0.38 seconds\n",
      "GT_INTERV.DEVICE: cpu\n",
      "setting device to: cpu\n"
     ]
    },
    {
     "name": "stderr",
     "output_type": "stream",
     "text": [
      "`Trainer.fit` stopped: `max_epochs=1000` reached.\n",
      "GPU available: True (cuda), used: False\n",
      "TPU available: False, using: 0 TPU cores\n",
      "IPU available: False, using: 0 IPUs\n",
      "HPU available: False, using: 0 HPUs\n"
     ]
    },
    {
     "name": "stdout",
     "output_type": "stream",
     "text": [
      "Training took 0.38 seconds\n",
      "GT_INTERV.DEVICE: cpu\n",
      "setting device to: cpu\n"
     ]
    },
    {
     "name": "stderr",
     "output_type": "stream",
     "text": [
      "`Trainer.fit` stopped: `max_epochs=1000` reached.\n",
      "GPU available: True (cuda), used: False\n",
      "TPU available: False, using: 0 TPU cores\n",
      "IPU available: False, using: 0 IPUs\n",
      "HPU available: False, using: 0 HPUs\n"
     ]
    },
    {
     "name": "stdout",
     "output_type": "stream",
     "text": [
      "Training took 0.38 seconds\n",
      "GT_INTERV.DEVICE: cpu\n",
      "setting device to: cpu\n"
     ]
    },
    {
     "name": "stderr",
     "output_type": "stream",
     "text": [
      "`Trainer.fit` stopped: `max_epochs=1000` reached.\n",
      "GPU available: True (cuda), used: False\n",
      "TPU available: False, using: 0 TPU cores\n",
      "IPU available: False, using: 0 IPUs\n",
      "HPU available: False, using: 0 HPUs\n"
     ]
    },
    {
     "name": "stdout",
     "output_type": "stream",
     "text": [
      "Training took 0.38 seconds\n",
      "GT_INTERV.DEVICE: cpu\n",
      "setting device to: cpu\n"
     ]
    },
    {
     "name": "stderr",
     "output_type": "stream",
     "text": [
      "`Trainer.fit` stopped: `max_epochs=1000` reached.\n",
      "GPU available: True (cuda), used: False\n",
      "TPU available: False, using: 0 TPU cores\n",
      "IPU available: False, using: 0 IPUs\n",
      "HPU available: False, using: 0 HPUs\n"
     ]
    },
    {
     "name": "stdout",
     "output_type": "stream",
     "text": [
      "Training took 0.38 seconds\n",
      "GT_INTERV.DEVICE: cpu\n",
      "setting device to: cpu\n"
     ]
    },
    {
     "name": "stderr",
     "output_type": "stream",
     "text": [
      "`Trainer.fit` stopped: `max_epochs=1000` reached.\n",
      "GPU available: True (cuda), used: False\n",
      "TPU available: False, using: 0 TPU cores\n",
      "IPU available: False, using: 0 IPUs\n",
      "HPU available: False, using: 0 HPUs\n"
     ]
    },
    {
     "name": "stdout",
     "output_type": "stream",
     "text": [
      "Training took 0.38 seconds\n",
      "GT_INTERV.DEVICE: cpu\n",
      "setting device to: cpu\n"
     ]
    },
    {
     "name": "stderr",
     "output_type": "stream",
     "text": [
      "`Trainer.fit` stopped: `max_epochs=1000` reached.\n",
      "GPU available: True (cuda), used: False\n",
      "TPU available: False, using: 0 TPU cores\n",
      "IPU available: False, using: 0 IPUs\n",
      "HPU available: False, using: 0 HPUs\n"
     ]
    },
    {
     "name": "stdout",
     "output_type": "stream",
     "text": [
      "Training took 0.38 seconds\n",
      "GT_INTERV.DEVICE: cpu\n",
      "setting device to: cpu\n"
     ]
    },
    {
     "name": "stderr",
     "output_type": "stream",
     "text": [
      "`Trainer.fit` stopped: `max_epochs=1000` reached.\n",
      "GPU available: True (cuda), used: False\n",
      "TPU available: False, using: 0 TPU cores\n",
      "IPU available: False, using: 0 IPUs\n",
      "HPU available: False, using: 0 HPUs\n"
     ]
    },
    {
     "name": "stdout",
     "output_type": "stream",
     "text": [
      "Training took 0.38 seconds\n",
      "GT_INTERV.DEVICE: cpu\n",
      "setting device to: cpu\n"
     ]
    },
    {
     "name": "stderr",
     "output_type": "stream",
     "text": [
      "`Trainer.fit` stopped: `max_epochs=1000` reached.\n",
      "GPU available: True (cuda), used: False\n",
      "TPU available: False, using: 0 TPU cores\n",
      "IPU available: False, using: 0 IPUs\n",
      "HPU available: False, using: 0 HPUs\n"
     ]
    },
    {
     "name": "stdout",
     "output_type": "stream",
     "text": [
      "Training took 0.38 seconds\n",
      "GT_INTERV.DEVICE: cpu\n",
      "setting device to: cpu\n"
     ]
    },
    {
     "name": "stderr",
     "output_type": "stream",
     "text": [
      "`Trainer.fit` stopped: `max_epochs=1000` reached.\n",
      "GPU available: True (cuda), used: False\n",
      "TPU available: False, using: 0 TPU cores\n",
      "IPU available: False, using: 0 IPUs\n",
      "HPU available: False, using: 0 HPUs\n"
     ]
    },
    {
     "name": "stdout",
     "output_type": "stream",
     "text": [
      "Training took 0.38 seconds\n",
      "GT_INTERV.DEVICE: cpu\n",
      "setting device to: cpu\n"
     ]
    },
    {
     "name": "stderr",
     "output_type": "stream",
     "text": [
      "`Trainer.fit` stopped: `max_epochs=1000` reached.\n",
      "GPU available: True (cuda), used: False\n",
      "TPU available: False, using: 0 TPU cores\n",
      "IPU available: False, using: 0 IPUs\n",
      "HPU available: False, using: 0 HPUs\n"
     ]
    },
    {
     "name": "stdout",
     "output_type": "stream",
     "text": [
      "Training took 0.38 seconds\n",
      "GT_INTERV.DEVICE: cpu\n",
      "setting device to: cpu\n"
     ]
    },
    {
     "name": "stderr",
     "output_type": "stream",
     "text": [
      "`Trainer.fit` stopped: `max_epochs=1000` reached.\n",
      "GPU available: True (cuda), used: False\n",
      "TPU available: False, using: 0 TPU cores\n",
      "IPU available: False, using: 0 IPUs\n",
      "HPU available: False, using: 0 HPUs\n"
     ]
    },
    {
     "name": "stdout",
     "output_type": "stream",
     "text": [
      "Training took 0.38 seconds\n",
      "GT_INTERV.DEVICE: cpu\n",
      "setting device to: cpu\n"
     ]
    },
    {
     "name": "stderr",
     "output_type": "stream",
     "text": [
      "`Trainer.fit` stopped: `max_epochs=1000` reached.\n",
      "GPU available: True (cuda), used: False\n",
      "TPU available: False, using: 0 TPU cores\n",
      "IPU available: False, using: 0 IPUs\n",
      "HPU available: False, using: 0 HPUs\n"
     ]
    },
    {
     "name": "stdout",
     "output_type": "stream",
     "text": [
      "Training took 0.38 seconds\n",
      "GT_INTERV.DEVICE: cpu\n",
      "setting device to: cpu\n"
     ]
    },
    {
     "name": "stderr",
     "output_type": "stream",
     "text": [
      "`Trainer.fit` stopped: `max_epochs=1000` reached.\n",
      "GPU available: True (cuda), used: False\n",
      "TPU available: False, using: 0 TPU cores\n",
      "IPU available: False, using: 0 IPUs\n",
      "HPU available: False, using: 0 HPUs\n"
     ]
    },
    {
     "name": "stdout",
     "output_type": "stream",
     "text": [
      "Training took 0.38 seconds\n",
      "GT_INTERV.DEVICE: cpu\n",
      "setting device to: cpu\n"
     ]
    },
    {
     "name": "stderr",
     "output_type": "stream",
     "text": [
      "`Trainer.fit` stopped: `max_epochs=1000` reached.\n",
      "GPU available: True (cuda), used: False\n",
      "TPU available: False, using: 0 TPU cores\n",
      "IPU available: False, using: 0 IPUs\n",
      "HPU available: False, using: 0 HPUs\n"
     ]
    },
    {
     "name": "stdout",
     "output_type": "stream",
     "text": [
      "Training took 0.38 seconds\n",
      "GT_INTERV.DEVICE: cpu\n",
      "setting device to: cpu\n"
     ]
    },
    {
     "name": "stderr",
     "output_type": "stream",
     "text": [
      "`Trainer.fit` stopped: `max_epochs=1000` reached.\n",
      "GPU available: True (cuda), used: False\n",
      "TPU available: False, using: 0 TPU cores\n",
      "IPU available: False, using: 0 IPUs\n",
      "HPU available: False, using: 0 HPUs\n"
     ]
    },
    {
     "name": "stdout",
     "output_type": "stream",
     "text": [
      "Training took 0.38 seconds\n",
      "GT_INTERV.DEVICE: cpu\n",
      "setting device to: cpu\n"
     ]
    },
    {
     "name": "stderr",
     "output_type": "stream",
     "text": [
      "`Trainer.fit` stopped: `max_epochs=1000` reached.\n",
      "GPU available: True (cuda), used: False\n",
      "TPU available: False, using: 0 TPU cores\n",
      "IPU available: False, using: 0 IPUs\n",
      "HPU available: False, using: 0 HPUs\n"
     ]
    },
    {
     "name": "stdout",
     "output_type": "stream",
     "text": [
      "Training took 0.38 seconds\n",
      "GT_INTERV.DEVICE: cpu\n",
      "setting device to: cpu\n"
     ]
    },
    {
     "name": "stderr",
     "output_type": "stream",
     "text": [
      "`Trainer.fit` stopped: `max_epochs=1000` reached.\n",
      "GPU available: True (cuda), used: False\n",
      "TPU available: False, using: 0 TPU cores\n",
      "IPU available: False, using: 0 IPUs\n",
      "HPU available: False, using: 0 HPUs\n"
     ]
    },
    {
     "name": "stdout",
     "output_type": "stream",
     "text": [
      "Training took 0.38 seconds\n",
      "GT_INTERV.DEVICE: cpu\n",
      "setting device to: cpu\n"
     ]
    },
    {
     "name": "stderr",
     "output_type": "stream",
     "text": [
      "`Trainer.fit` stopped: `max_epochs=1000` reached.\n"
     ]
    },
    {
     "name": "stdout",
     "output_type": "stream",
     "text": [
      "Training took 0.38 seconds\n",
      "run_063\n",
      "Iterator state: 1\n",
      "More than 20 test_genes! Removing last 1 contexts.\n"
     ]
    },
    {
     "name": "stderr",
     "output_type": "stream",
     "text": [
      "GPU available: True (cuda), used: False\n",
      "TPU available: False, using: 0 TPU cores\n",
      "IPU available: False, using: 0 IPUs\n",
      "HPU available: False, using: 0 HPUs\n",
      "`Trainer.fit` stopped: `max_epochs=1` reached.\n",
      "GPU available: True (cuda), used: False\n",
      "TPU available: False, using: 0 TPU cores\n",
      "IPU available: False, using: 0 IPUs\n",
      "HPU available: False, using: 0 HPUs\n",
      "`Trainer.fit` stopped: `max_epochs=1` reached.\n",
      "GPU available: True (cuda), used: False\n",
      "TPU available: False, using: 0 TPU cores\n",
      "IPU available: False, using: 0 IPUs\n",
      "HPU available: False, using: 0 HPUs\n",
      "`Trainer.fit` stopped: `max_epochs=1` reached.\n",
      "GPU available: True (cuda), used: False\n",
      "TPU available: False, using: 0 TPU cores\n",
      "IPU available: False, using: 0 IPUs\n",
      "HPU available: False, using: 0 HPUs\n",
      "`Trainer.fit` stopped: `max_epochs=1` reached.\n",
      "GPU available: True (cuda), used: False\n",
      "TPU available: False, using: 0 TPU cores\n",
      "IPU available: False, using: 0 IPUs\n",
      "HPU available: False, using: 0 HPUs\n",
      "`Trainer.fit` stopped: `max_epochs=1` reached.\n",
      "GPU available: True (cuda), used: False\n",
      "TPU available: False, using: 0 TPU cores\n",
      "IPU available: False, using: 0 IPUs\n",
      "HPU available: False, using: 0 HPUs\n",
      "`Trainer.fit` stopped: `max_epochs=1` reached.\n",
      "GPU available: True (cuda), used: False\n",
      "TPU available: False, using: 0 TPU cores\n",
      "IPU available: False, using: 0 IPUs\n",
      "HPU available: False, using: 0 HPUs\n",
      "`Trainer.fit` stopped: `max_epochs=1` reached.\n",
      "GPU available: True (cuda), used: False\n",
      "TPU available: False, using: 0 TPU cores\n",
      "IPU available: False, using: 0 IPUs\n",
      "HPU available: False, using: 0 HPUs\n",
      "`Trainer.fit` stopped: `max_epochs=1` reached.\n",
      "GPU available: True (cuda), used: False\n",
      "TPU available: False, using: 0 TPU cores\n",
      "IPU available: False, using: 0 IPUs\n",
      "HPU available: False, using: 0 HPUs\n",
      "`Trainer.fit` stopped: `max_epochs=1` reached.\n",
      "GPU available: True (cuda), used: False\n",
      "TPU available: False, using: 0 TPU cores\n",
      "IPU available: False, using: 0 IPUs\n",
      "HPU available: False, using: 0 HPUs\n",
      "`Trainer.fit` stopped: `max_epochs=1` reached.\n",
      "GPU available: True (cuda), used: False\n",
      "TPU available: False, using: 0 TPU cores\n",
      "IPU available: False, using: 0 IPUs\n",
      "HPU available: False, using: 0 HPUs\n",
      "`Trainer.fit` stopped: `max_epochs=1` reached.\n",
      "GPU available: True (cuda), used: False\n",
      "TPU available: False, using: 0 TPU cores\n",
      "IPU available: False, using: 0 IPUs\n",
      "HPU available: False, using: 0 HPUs\n",
      "`Trainer.fit` stopped: `max_epochs=1` reached.\n",
      "GPU available: True (cuda), used: False\n",
      "TPU available: False, using: 0 TPU cores\n",
      "IPU available: False, using: 0 IPUs\n",
      "HPU available: False, using: 0 HPUs\n",
      "`Trainer.fit` stopped: `max_epochs=1` reached.\n",
      "GPU available: True (cuda), used: False\n",
      "TPU available: False, using: 0 TPU cores\n",
      "IPU available: False, using: 0 IPUs\n",
      "HPU available: False, using: 0 HPUs\n",
      "`Trainer.fit` stopped: `max_epochs=1` reached.\n",
      "GPU available: True (cuda), used: False\n",
      "TPU available: False, using: 0 TPU cores\n",
      "IPU available: False, using: 0 IPUs\n",
      "HPU available: False, using: 0 HPUs\n",
      "`Trainer.fit` stopped: `max_epochs=1` reached.\n",
      "GPU available: True (cuda), used: False\n",
      "TPU available: False, using: 0 TPU cores\n"
     ]
    },
    {
     "name": "stdout",
     "output_type": "stream",
     "text": [
      "GT_INTERV.DEVICE: cpu\n",
      "setting device to: cpu\n",
      "Training took 0.01 seconds\n",
      "GT_INTERV.DEVICE: cpu\n",
      "setting device to: cpu\n",
      "Training took 0.01 seconds\n",
      "GT_INTERV.DEVICE: cpu\n",
      "setting device to: cpu\n",
      "Training took 0.01 seconds\n",
      "GT_INTERV.DEVICE: cpu\n",
      "setting device to: cpu\n",
      "Training took 0.01 seconds\n",
      "GT_INTERV.DEVICE: cpu\n",
      "setting device to: cpu\n",
      "Training took 0.01 seconds\n",
      "GT_INTERV.DEVICE: cpu\n",
      "setting device to: cpu\n",
      "Training took 0.01 seconds\n",
      "GT_INTERV.DEVICE: cpu\n",
      "setting device to: cpu\n",
      "Training took 0.01 seconds\n",
      "GT_INTERV.DEVICE: cpu\n",
      "setting device to: cpu\n",
      "Training took 0.01 seconds\n",
      "GT_INTERV.DEVICE: cpu\n",
      "setting device to: cpu\n",
      "Training took 0.01 seconds\n",
      "GT_INTERV.DEVICE: cpu\n",
      "setting device to: cpu\n",
      "Training took 0.01 seconds\n",
      "GT_INTERV.DEVICE: cpu\n",
      "setting device to: cpu\n",
      "Training took 0.01 seconds\n",
      "GT_INTERV.DEVICE: cpu\n",
      "setting device to: cpu\n",
      "Training took 0.01 seconds\n",
      "GT_INTERV.DEVICE: cpu\n",
      "setting device to: cpu\n",
      "Training took 0.01 seconds\n",
      "GT_INTERV.DEVICE: cpu\n",
      "setting device to: cpu\n",
      "Training took 0.01 seconds\n",
      "GT_INTERV.DEVICE: cpu\n",
      "setting device to: cpu\n",
      "Training took 0.01 seconds\n",
      "GT_INTERV.DEVICE: cpu\n",
      "setting device to: cpu\n"
     ]
    },
    {
     "name": "stderr",
     "output_type": "stream",
     "text": [
      "IPU available: False, using: 0 IPUs\n",
      "HPU available: False, using: 0 HPUs\n",
      "`Trainer.fit` stopped: `max_epochs=1` reached.\n",
      "GPU available: True (cuda), used: False\n",
      "TPU available: False, using: 0 TPU cores\n",
      "IPU available: False, using: 0 IPUs\n",
      "HPU available: False, using: 0 HPUs\n",
      "`Trainer.fit` stopped: `max_epochs=1` reached.\n",
      "GPU available: True (cuda), used: False\n",
      "TPU available: False, using: 0 TPU cores\n",
      "IPU available: False, using: 0 IPUs\n",
      "HPU available: False, using: 0 HPUs\n",
      "`Trainer.fit` stopped: `max_epochs=1` reached.\n",
      "GPU available: True (cuda), used: False\n",
      "TPU available: False, using: 0 TPU cores\n",
      "IPU available: False, using: 0 IPUs\n",
      "HPU available: False, using: 0 HPUs\n",
      "`Trainer.fit` stopped: `max_epochs=1` reached.\n",
      "GPU available: True (cuda), used: False\n",
      "TPU available: False, using: 0 TPU cores\n",
      "IPU available: False, using: 0 IPUs\n",
      "HPU available: False, using: 0 HPUs\n",
      "`Trainer.fit` stopped: `max_epochs=1` reached.\n"
     ]
    },
    {
     "name": "stdout",
     "output_type": "stream",
     "text": [
      "Training took 0.01 seconds\n",
      "GT_INTERV.DEVICE: cpu\n",
      "setting device to: cpu\n",
      "Training took 0.01 seconds\n",
      "GT_INTERV.DEVICE: cpu\n",
      "setting device to: cpu\n",
      "Training took 0.01 seconds\n",
      "GT_INTERV.DEVICE: cpu\n",
      "setting device to: cpu\n",
      "Training took 0.01 seconds\n",
      "GT_INTERV.DEVICE: cpu\n",
      "setting device to: cpu\n",
      "Training took 0.01 seconds\n",
      "Iterator state: 10\n",
      "More than 20 test_genes! Removing last 1 contexts.\n"
     ]
    },
    {
     "name": "stderr",
     "output_type": "stream",
     "text": [
      "GPU available: True (cuda), used: False\n",
      "TPU available: False, using: 0 TPU cores\n",
      "IPU available: False, using: 0 IPUs\n",
      "HPU available: False, using: 0 HPUs\n",
      "`Trainer.fit` stopped: `max_epochs=10` reached.\n",
      "GPU available: True (cuda), used: False\n",
      "TPU available: False, using: 0 TPU cores\n",
      "IPU available: False, using: 0 IPUs\n",
      "HPU available: False, using: 0 HPUs\n",
      "`Trainer.fit` stopped: `max_epochs=10` reached.\n",
      "GPU available: True (cuda), used: False\n",
      "TPU available: False, using: 0 TPU cores\n",
      "IPU available: False, using: 0 IPUs\n",
      "HPU available: False, using: 0 HPUs\n",
      "`Trainer.fit` stopped: `max_epochs=10` reached.\n",
      "GPU available: True (cuda), used: False\n",
      "TPU available: False, using: 0 TPU cores\n",
      "IPU available: False, using: 0 IPUs\n",
      "HPU available: False, using: 0 HPUs\n",
      "`Trainer.fit` stopped: `max_epochs=10` reached.\n",
      "GPU available: True (cuda), used: False\n",
      "TPU available: False, using: 0 TPU cores\n",
      "IPU available: False, using: 0 IPUs\n",
      "HPU available: False, using: 0 HPUs\n",
      "`Trainer.fit` stopped: `max_epochs=10` reached.\n",
      "GPU available: True (cuda), used: False\n",
      "TPU available: False, using: 0 TPU cores\n",
      "IPU available: False, using: 0 IPUs\n",
      "HPU available: False, using: 0 HPUs\n",
      "`Trainer.fit` stopped: `max_epochs=10` reached.\n",
      "GPU available: True (cuda), used: False\n",
      "TPU available: False, using: 0 TPU cores\n",
      "IPU available: False, using: 0 IPUs\n",
      "HPU available: False, using: 0 HPUs\n",
      "`Trainer.fit` stopped: `max_epochs=10` reached.\n",
      "GPU available: True (cuda), used: False\n",
      "TPU available: False, using: 0 TPU cores\n",
      "IPU available: False, using: 0 IPUs\n",
      "HPU available: False, using: 0 HPUs\n",
      "`Trainer.fit` stopped: `max_epochs=10` reached.\n",
      "GPU available: True (cuda), used: False\n",
      "TPU available: False, using: 0 TPU cores\n",
      "IPU available: False, using: 0 IPUs\n",
      "HPU available: False, using: 0 HPUs\n",
      "`Trainer.fit` stopped: `max_epochs=10` reached.\n",
      "GPU available: True (cuda), used: False\n",
      "TPU available: False, using: 0 TPU cores\n",
      "IPU available: False, using: 0 IPUs\n",
      "HPU available: False, using: 0 HPUs\n",
      "`Trainer.fit` stopped: `max_epochs=10` reached.\n",
      "GPU available: True (cuda), used: False\n",
      "TPU available: False, using: 0 TPU cores\n",
      "IPU available: False, using: 0 IPUs\n",
      "HPU available: False, using: 0 HPUs\n",
      "`Trainer.fit` stopped: `max_epochs=10` reached.\n",
      "GPU available: True (cuda), used: False\n",
      "TPU available: False, using: 0 TPU cores\n",
      "IPU available: False, using: 0 IPUs\n",
      "HPU available: False, using: 0 HPUs\n"
     ]
    },
    {
     "name": "stdout",
     "output_type": "stream",
     "text": [
      "GT_INTERV.DEVICE: cpu\n",
      "setting device to: cpu\n",
      "Training took 0.01 seconds\n",
      "GT_INTERV.DEVICE: cpu\n",
      "setting device to: cpu\n",
      "Training took 0.01 seconds\n",
      "GT_INTERV.DEVICE: cpu\n",
      "setting device to: cpu\n",
      "Training took 0.01 seconds\n",
      "GT_INTERV.DEVICE: cpu\n",
      "setting device to: cpu\n",
      "Training took 0.01 seconds\n",
      "GT_INTERV.DEVICE: cpu\n",
      "setting device to: cpu\n",
      "Training took 0.01 seconds\n",
      "GT_INTERV.DEVICE: cpu\n",
      "setting device to: cpu\n",
      "Training took 0.01 seconds\n",
      "GT_INTERV.DEVICE: cpu\n",
      "setting device to: cpu\n",
      "Training took 0.01 seconds\n",
      "GT_INTERV.DEVICE: cpu\n",
      "setting device to: cpu\n",
      "Training took 0.01 seconds\n",
      "GT_INTERV.DEVICE: cpu\n",
      "setting device to: cpu\n",
      "Training took 0.01 seconds\n",
      "GT_INTERV.DEVICE: cpu\n",
      "setting device to: cpu\n",
      "Training took 0.01 seconds\n",
      "GT_INTERV.DEVICE: cpu\n",
      "setting device to: cpu\n",
      "Training took 0.01 seconds\n",
      "GT_INTERV.DEVICE: cpu\n",
      "setting device to: cpu\n"
     ]
    },
    {
     "name": "stderr",
     "output_type": "stream",
     "text": [
      "`Trainer.fit` stopped: `max_epochs=10` reached.\n",
      "GPU available: True (cuda), used: False\n",
      "TPU available: False, using: 0 TPU cores\n",
      "IPU available: False, using: 0 IPUs\n",
      "HPU available: False, using: 0 HPUs\n",
      "`Trainer.fit` stopped: `max_epochs=10` reached.\n",
      "GPU available: True (cuda), used: False\n",
      "TPU available: False, using: 0 TPU cores\n",
      "IPU available: False, using: 0 IPUs\n",
      "HPU available: False, using: 0 HPUs\n",
      "`Trainer.fit` stopped: `max_epochs=10` reached.\n",
      "GPU available: True (cuda), used: False\n",
      "TPU available: False, using: 0 TPU cores\n",
      "IPU available: False, using: 0 IPUs\n",
      "HPU available: False, using: 0 HPUs\n",
      "`Trainer.fit` stopped: `max_epochs=10` reached.\n",
      "GPU available: True (cuda), used: False\n",
      "TPU available: False, using: 0 TPU cores\n",
      "IPU available: False, using: 0 IPUs\n",
      "HPU available: False, using: 0 HPUs\n",
      "`Trainer.fit` stopped: `max_epochs=10` reached.\n",
      "GPU available: True (cuda), used: False\n",
      "TPU available: False, using: 0 TPU cores\n",
      "IPU available: False, using: 0 IPUs\n",
      "HPU available: False, using: 0 HPUs\n",
      "`Trainer.fit` stopped: `max_epochs=10` reached.\n",
      "GPU available: True (cuda), used: False\n",
      "TPU available: False, using: 0 TPU cores\n",
      "IPU available: False, using: 0 IPUs\n",
      "HPU available: False, using: 0 HPUs\n",
      "`Trainer.fit` stopped: `max_epochs=10` reached.\n",
      "GPU available: True (cuda), used: False\n",
      "TPU available: False, using: 0 TPU cores\n",
      "IPU available: False, using: 0 IPUs\n",
      "HPU available: False, using: 0 HPUs\n",
      "`Trainer.fit` stopped: `max_epochs=10` reached.\n",
      "GPU available: True (cuda), used: False\n",
      "TPU available: False, using: 0 TPU cores\n",
      "IPU available: False, using: 0 IPUs\n",
      "HPU available: False, using: 0 HPUs\n",
      "`Trainer.fit` stopped: `max_epochs=10` reached.\n"
     ]
    },
    {
     "name": "stdout",
     "output_type": "stream",
     "text": [
      "Training took 0.01 seconds\n",
      "GT_INTERV.DEVICE: cpu\n",
      "setting device to: cpu\n",
      "Training took 0.01 seconds\n",
      "GT_INTERV.DEVICE: cpu\n",
      "setting device to: cpu\n",
      "Training took 0.01 seconds\n",
      "GT_INTERV.DEVICE: cpu\n",
      "setting device to: cpu\n",
      "Training took 0.01 seconds\n",
      "GT_INTERV.DEVICE: cpu\n",
      "setting device to: cpu\n",
      "Training took 0.01 seconds\n",
      "GT_INTERV.DEVICE: cpu\n",
      "setting device to: cpu\n",
      "Training took 0.01 seconds\n",
      "GT_INTERV.DEVICE: cpu\n",
      "setting device to: cpu\n",
      "Training took 0.01 seconds\n",
      "GT_INTERV.DEVICE: cpu\n",
      "setting device to: cpu\n",
      "Training took 0.01 seconds\n",
      "GT_INTERV.DEVICE: cpu\n",
      "setting device to: cpu\n",
      "Training took 0.01 seconds\n",
      "Iterator state: 100\n",
      "More than 20 test_genes! Removing last 1 contexts.\n"
     ]
    },
    {
     "name": "stderr",
     "output_type": "stream",
     "text": [
      "GPU available: True (cuda), used: False\n",
      "TPU available: False, using: 0 TPU cores\n",
      "IPU available: False, using: 0 IPUs\n",
      "HPU available: False, using: 0 HPUs\n",
      "`Trainer.fit` stopped: `max_epochs=100` reached.\n",
      "GPU available: True (cuda), used: False\n",
      "TPU available: False, using: 0 TPU cores\n",
      "IPU available: False, using: 0 IPUs\n",
      "HPU available: False, using: 0 HPUs\n",
      "`Trainer.fit` stopped: `max_epochs=100` reached.\n",
      "GPU available: True (cuda), used: False\n",
      "TPU available: False, using: 0 TPU cores\n",
      "IPU available: False, using: 0 IPUs\n",
      "HPU available: False, using: 0 HPUs\n",
      "`Trainer.fit` stopped: `max_epochs=100` reached.\n",
      "GPU available: True (cuda), used: False\n",
      "TPU available: False, using: 0 TPU cores\n",
      "IPU available: False, using: 0 IPUs\n",
      "HPU available: False, using: 0 HPUs\n"
     ]
    },
    {
     "name": "stdout",
     "output_type": "stream",
     "text": [
      "GT_INTERV.DEVICE: cpu\n",
      "setting device to: cpu\n",
      "Training took 0.05 seconds\n",
      "GT_INTERV.DEVICE: cpu\n",
      "setting device to: cpu\n",
      "Training took 0.05 seconds\n",
      "GT_INTERV.DEVICE: cpu\n",
      "setting device to: cpu\n",
      "Training took 0.05 seconds\n",
      "GT_INTERV.DEVICE: cpu\n",
      "setting device to: cpu\n"
     ]
    },
    {
     "name": "stderr",
     "output_type": "stream",
     "text": [
      "`Trainer.fit` stopped: `max_epochs=100` reached.\n",
      "GPU available: True (cuda), used: False\n",
      "TPU available: False, using: 0 TPU cores\n",
      "IPU available: False, using: 0 IPUs\n",
      "HPU available: False, using: 0 HPUs\n",
      "`Trainer.fit` stopped: `max_epochs=100` reached.\n",
      "GPU available: True (cuda), used: False\n",
      "TPU available: False, using: 0 TPU cores\n",
      "IPU available: False, using: 0 IPUs\n",
      "HPU available: False, using: 0 HPUs\n",
      "`Trainer.fit` stopped: `max_epochs=100` reached.\n",
      "GPU available: True (cuda), used: False\n",
      "TPU available: False, using: 0 TPU cores\n",
      "IPU available: False, using: 0 IPUs\n",
      "HPU available: False, using: 0 HPUs\n",
      "`Trainer.fit` stopped: `max_epochs=100` reached.\n",
      "GPU available: True (cuda), used: False\n",
      "TPU available: False, using: 0 TPU cores\n",
      "IPU available: False, using: 0 IPUs\n",
      "HPU available: False, using: 0 HPUs\n",
      "`Trainer.fit` stopped: `max_epochs=100` reached.\n",
      "GPU available: True (cuda), used: False\n",
      "TPU available: False, using: 0 TPU cores\n",
      "IPU available: False, using: 0 IPUs\n",
      "HPU available: False, using: 0 HPUs\n"
     ]
    },
    {
     "name": "stdout",
     "output_type": "stream",
     "text": [
      "Training took 0.05 seconds\n",
      "GT_INTERV.DEVICE: cpu\n",
      "setting device to: cpu\n",
      "Training took 0.04 seconds\n",
      "GT_INTERV.DEVICE: cpu\n",
      "setting device to: cpu\n",
      "Training took 0.04 seconds\n",
      "GT_INTERV.DEVICE: cpu\n",
      "setting device to: cpu\n",
      "Training took 0.04 seconds\n",
      "GT_INTERV.DEVICE: cpu\n",
      "setting device to: cpu\n",
      "Training took 0.04 seconds\n",
      "GT_INTERV.DEVICE: cpu\n",
      "setting device to: cpu\n"
     ]
    },
    {
     "name": "stderr",
     "output_type": "stream",
     "text": [
      "`Trainer.fit` stopped: `max_epochs=100` reached.\n",
      "GPU available: True (cuda), used: False\n",
      "TPU available: False, using: 0 TPU cores\n",
      "IPU available: False, using: 0 IPUs\n",
      "HPU available: False, using: 0 HPUs\n",
      "`Trainer.fit` stopped: `max_epochs=100` reached.\n",
      "GPU available: True (cuda), used: False\n",
      "TPU available: False, using: 0 TPU cores\n",
      "IPU available: False, using: 0 IPUs\n",
      "HPU available: False, using: 0 HPUs\n",
      "`Trainer.fit` stopped: `max_epochs=100` reached.\n",
      "GPU available: True (cuda), used: False\n",
      "TPU available: False, using: 0 TPU cores\n",
      "IPU available: False, using: 0 IPUs\n",
      "HPU available: False, using: 0 HPUs\n",
      "`Trainer.fit` stopped: `max_epochs=100` reached.\n",
      "GPU available: True (cuda), used: False\n",
      "TPU available: False, using: 0 TPU cores\n",
      "IPU available: False, using: 0 IPUs\n",
      "HPU available: False, using: 0 HPUs\n",
      "`Trainer.fit` stopped: `max_epochs=100` reached.\n"
     ]
    },
    {
     "name": "stdout",
     "output_type": "stream",
     "text": [
      "Training took 0.05 seconds\n",
      "GT_INTERV.DEVICE: cpu\n",
      "setting device to: cpu\n",
      "Training took 0.05 seconds\n",
      "GT_INTERV.DEVICE: cpu\n",
      "setting device to: cpu\n",
      "Training took 0.04 seconds\n",
      "GT_INTERV.DEVICE: cpu\n",
      "setting device to: cpu\n",
      "Training took 0.04 seconds\n",
      "GT_INTERV.DEVICE: cpu\n",
      "setting device to: cpu\n",
      "Training took 0.04 seconds\n",
      "GT_INTERV.DEVICE: cpu\n",
      "setting device to: cpu\n"
     ]
    },
    {
     "name": "stderr",
     "output_type": "stream",
     "text": [
      "GPU available: True (cuda), used: False\n",
      "TPU available: False, using: 0 TPU cores\n",
      "IPU available: False, using: 0 IPUs\n",
      "HPU available: False, using: 0 HPUs\n",
      "`Trainer.fit` stopped: `max_epochs=100` reached.\n",
      "GPU available: True (cuda), used: False\n",
      "TPU available: False, using: 0 TPU cores\n",
      "IPU available: False, using: 0 IPUs\n",
      "HPU available: False, using: 0 HPUs\n",
      "`Trainer.fit` stopped: `max_epochs=100` reached.\n",
      "GPU available: True (cuda), used: False\n",
      "TPU available: False, using: 0 TPU cores\n",
      "IPU available: False, using: 0 IPUs\n",
      "HPU available: False, using: 0 HPUs\n",
      "`Trainer.fit` stopped: `max_epochs=100` reached.\n",
      "GPU available: True (cuda), used: False\n",
      "TPU available: False, using: 0 TPU cores\n",
      "IPU available: False, using: 0 IPUs\n",
      "HPU available: False, using: 0 HPUs\n",
      "`Trainer.fit` stopped: `max_epochs=100` reached.\n",
      "GPU available: True (cuda), used: False\n",
      "TPU available: False, using: 0 TPU cores\n",
      "IPU available: False, using: 0 IPUs\n",
      "HPU available: False, using: 0 HPUs\n",
      "`Trainer.fit` stopped: `max_epochs=100` reached.\n",
      "GPU available: True (cuda), used: False\n",
      "TPU available: False, using: 0 TPU cores\n",
      "IPU available: False, using: 0 IPUs\n",
      "HPU available: False, using: 0 HPUs\n"
     ]
    },
    {
     "name": "stdout",
     "output_type": "stream",
     "text": [
      "Training took 0.04 seconds\n",
      "GT_INTERV.DEVICE: cpu\n",
      "setting device to: cpu\n",
      "Training took 0.04 seconds\n",
      "GT_INTERV.DEVICE: cpu\n",
      "setting device to: cpu\n",
      "Training took 0.04 seconds\n",
      "GT_INTERV.DEVICE: cpu\n",
      "setting device to: cpu\n",
      "Training took 0.04 seconds\n",
      "GT_INTERV.DEVICE: cpu\n",
      "setting device to: cpu\n",
      "Training took 0.04 seconds\n",
      "GT_INTERV.DEVICE: cpu\n",
      "setting device to: cpu\n"
     ]
    },
    {
     "name": "stderr",
     "output_type": "stream",
     "text": [
      "`Trainer.fit` stopped: `max_epochs=100` reached.\n",
      "GPU available: True (cuda), used: False\n",
      "TPU available: False, using: 0 TPU cores\n",
      "IPU available: False, using: 0 IPUs\n",
      "HPU available: False, using: 0 HPUs\n",
      "`Trainer.fit` stopped: `max_epochs=100` reached.\n"
     ]
    },
    {
     "name": "stdout",
     "output_type": "stream",
     "text": [
      "Training took 0.04 seconds\n",
      "GT_INTERV.DEVICE: cpu\n",
      "setting device to: cpu\n",
      "Training took 0.04 seconds\n",
      "Iterator state: 1000\n",
      "More than 20 test_genes! Removing last 1 contexts.\n"
     ]
    },
    {
     "name": "stderr",
     "output_type": "stream",
     "text": [
      "GPU available: True (cuda), used: False\n",
      "TPU available: False, using: 0 TPU cores\n",
      "IPU available: False, using: 0 IPUs\n",
      "HPU available: False, using: 0 HPUs\n"
     ]
    },
    {
     "name": "stdout",
     "output_type": "stream",
     "text": [
      "GT_INTERV.DEVICE: cpu\n",
      "setting device to: cpu\n"
     ]
    },
    {
     "name": "stderr",
     "output_type": "stream",
     "text": [
      "`Trainer.fit` stopped: `max_epochs=1000` reached.\n",
      "GPU available: True (cuda), used: False\n",
      "TPU available: False, using: 0 TPU cores\n",
      "IPU available: False, using: 0 IPUs\n",
      "HPU available: False, using: 0 HPUs\n"
     ]
    },
    {
     "name": "stdout",
     "output_type": "stream",
     "text": [
      "Training took 0.41 seconds\n",
      "GT_INTERV.DEVICE: cpu\n",
      "setting device to: cpu\n"
     ]
    },
    {
     "name": "stderr",
     "output_type": "stream",
     "text": [
      "`Trainer.fit` stopped: `max_epochs=1000` reached.\n",
      "GPU available: True (cuda), used: False\n",
      "TPU available: False, using: 0 TPU cores\n",
      "IPU available: False, using: 0 IPUs\n",
      "HPU available: False, using: 0 HPUs\n"
     ]
    },
    {
     "name": "stdout",
     "output_type": "stream",
     "text": [
      "Training took 0.38 seconds\n",
      "GT_INTERV.DEVICE: cpu\n",
      "setting device to: cpu\n"
     ]
    },
    {
     "name": "stderr",
     "output_type": "stream",
     "text": [
      "`Trainer.fit` stopped: `max_epochs=1000` reached.\n",
      "GPU available: True (cuda), used: False\n",
      "TPU available: False, using: 0 TPU cores\n",
      "IPU available: False, using: 0 IPUs\n",
      "HPU available: False, using: 0 HPUs\n"
     ]
    },
    {
     "name": "stdout",
     "output_type": "stream",
     "text": [
      "Training took 0.38 seconds\n",
      "GT_INTERV.DEVICE: cpu\n",
      "setting device to: cpu\n"
     ]
    },
    {
     "name": "stderr",
     "output_type": "stream",
     "text": [
      "`Trainer.fit` stopped: `max_epochs=1000` reached.\n",
      "GPU available: True (cuda), used: False\n",
      "TPU available: False, using: 0 TPU cores\n",
      "IPU available: False, using: 0 IPUs\n",
      "HPU available: False, using: 0 HPUs\n"
     ]
    },
    {
     "name": "stdout",
     "output_type": "stream",
     "text": [
      "Training took 0.38 seconds\n",
      "GT_INTERV.DEVICE: cpu\n",
      "setting device to: cpu\n"
     ]
    },
    {
     "name": "stderr",
     "output_type": "stream",
     "text": [
      "`Trainer.fit` stopped: `max_epochs=1000` reached.\n",
      "GPU available: True (cuda), used: False\n",
      "TPU available: False, using: 0 TPU cores\n",
      "IPU available: False, using: 0 IPUs\n",
      "HPU available: False, using: 0 HPUs\n"
     ]
    },
    {
     "name": "stdout",
     "output_type": "stream",
     "text": [
      "Training took 0.38 seconds\n",
      "GT_INTERV.DEVICE: cpu\n",
      "setting device to: cpu\n"
     ]
    },
    {
     "name": "stderr",
     "output_type": "stream",
     "text": [
      "`Trainer.fit` stopped: `max_epochs=1000` reached.\n",
      "GPU available: True (cuda), used: False\n",
      "TPU available: False, using: 0 TPU cores\n",
      "IPU available: False, using: 0 IPUs\n",
      "HPU available: False, using: 0 HPUs\n"
     ]
    },
    {
     "name": "stdout",
     "output_type": "stream",
     "text": [
      "Training took 0.38 seconds\n",
      "GT_INTERV.DEVICE: cpu\n",
      "setting device to: cpu\n"
     ]
    },
    {
     "name": "stderr",
     "output_type": "stream",
     "text": [
      "`Trainer.fit` stopped: `max_epochs=1000` reached.\n",
      "GPU available: True (cuda), used: False\n",
      "TPU available: False, using: 0 TPU cores\n",
      "IPU available: False, using: 0 IPUs\n",
      "HPU available: False, using: 0 HPUs\n"
     ]
    },
    {
     "name": "stdout",
     "output_type": "stream",
     "text": [
      "Training took 0.38 seconds\n",
      "GT_INTERV.DEVICE: cpu\n",
      "setting device to: cpu\n"
     ]
    },
    {
     "name": "stderr",
     "output_type": "stream",
     "text": [
      "`Trainer.fit` stopped: `max_epochs=1000` reached.\n",
      "GPU available: True (cuda), used: False\n",
      "TPU available: False, using: 0 TPU cores\n",
      "IPU available: False, using: 0 IPUs\n",
      "HPU available: False, using: 0 HPUs\n"
     ]
    },
    {
     "name": "stdout",
     "output_type": "stream",
     "text": [
      "Training took 0.38 seconds\n",
      "GT_INTERV.DEVICE: cpu\n",
      "setting device to: cpu\n"
     ]
    },
    {
     "name": "stderr",
     "output_type": "stream",
     "text": [
      "`Trainer.fit` stopped: `max_epochs=1000` reached.\n",
      "GPU available: True (cuda), used: False\n",
      "TPU available: False, using: 0 TPU cores\n",
      "IPU available: False, using: 0 IPUs\n",
      "HPU available: False, using: 0 HPUs\n"
     ]
    },
    {
     "name": "stdout",
     "output_type": "stream",
     "text": [
      "Training took 0.38 seconds\n",
      "GT_INTERV.DEVICE: cpu\n",
      "setting device to: cpu\n"
     ]
    },
    {
     "name": "stderr",
     "output_type": "stream",
     "text": [
      "`Trainer.fit` stopped: `max_epochs=1000` reached.\n",
      "GPU available: True (cuda), used: False\n",
      "TPU available: False, using: 0 TPU cores\n",
      "IPU available: False, using: 0 IPUs\n",
      "HPU available: False, using: 0 HPUs\n"
     ]
    },
    {
     "name": "stdout",
     "output_type": "stream",
     "text": [
      "Training took 0.38 seconds\n",
      "GT_INTERV.DEVICE: cpu\n",
      "setting device to: cpu\n"
     ]
    },
    {
     "name": "stderr",
     "output_type": "stream",
     "text": [
      "`Trainer.fit` stopped: `max_epochs=1000` reached.\n",
      "GPU available: True (cuda), used: False\n",
      "TPU available: False, using: 0 TPU cores\n",
      "IPU available: False, using: 0 IPUs\n",
      "HPU available: False, using: 0 HPUs\n"
     ]
    },
    {
     "name": "stdout",
     "output_type": "stream",
     "text": [
      "Training took 0.38 seconds\n",
      "GT_INTERV.DEVICE: cpu\n",
      "setting device to: cpu\n"
     ]
    },
    {
     "name": "stderr",
     "output_type": "stream",
     "text": [
      "`Trainer.fit` stopped: `max_epochs=1000` reached.\n",
      "GPU available: True (cuda), used: False\n",
      "TPU available: False, using: 0 TPU cores\n",
      "IPU available: False, using: 0 IPUs\n",
      "HPU available: False, using: 0 HPUs\n"
     ]
    },
    {
     "name": "stdout",
     "output_type": "stream",
     "text": [
      "Training took 0.38 seconds\n",
      "GT_INTERV.DEVICE: cpu\n",
      "setting device to: cpu\n"
     ]
    },
    {
     "name": "stderr",
     "output_type": "stream",
     "text": [
      "`Trainer.fit` stopped: `max_epochs=1000` reached.\n",
      "GPU available: True (cuda), used: False\n",
      "TPU available: False, using: 0 TPU cores\n",
      "IPU available: False, using: 0 IPUs\n",
      "HPU available: False, using: 0 HPUs\n"
     ]
    },
    {
     "name": "stdout",
     "output_type": "stream",
     "text": [
      "Training took 0.38 seconds\n",
      "GT_INTERV.DEVICE: cpu\n",
      "setting device to: cpu\n"
     ]
    },
    {
     "name": "stderr",
     "output_type": "stream",
     "text": [
      "`Trainer.fit` stopped: `max_epochs=1000` reached.\n",
      "GPU available: True (cuda), used: False\n",
      "TPU available: False, using: 0 TPU cores\n",
      "IPU available: False, using: 0 IPUs\n",
      "HPU available: False, using: 0 HPUs\n"
     ]
    },
    {
     "name": "stdout",
     "output_type": "stream",
     "text": [
      "Training took 0.38 seconds\n",
      "GT_INTERV.DEVICE: cpu\n",
      "setting device to: cpu\n"
     ]
    },
    {
     "name": "stderr",
     "output_type": "stream",
     "text": [
      "`Trainer.fit` stopped: `max_epochs=1000` reached.\n",
      "GPU available: True (cuda), used: False\n",
      "TPU available: False, using: 0 TPU cores\n",
      "IPU available: False, using: 0 IPUs\n",
      "HPU available: False, using: 0 HPUs\n"
     ]
    },
    {
     "name": "stdout",
     "output_type": "stream",
     "text": [
      "Training took 0.38 seconds\n",
      "GT_INTERV.DEVICE: cpu\n",
      "setting device to: cpu\n"
     ]
    },
    {
     "name": "stderr",
     "output_type": "stream",
     "text": [
      "`Trainer.fit` stopped: `max_epochs=1000` reached.\n",
      "GPU available: True (cuda), used: False\n",
      "TPU available: False, using: 0 TPU cores\n",
      "IPU available: False, using: 0 IPUs\n",
      "HPU available: False, using: 0 HPUs\n"
     ]
    },
    {
     "name": "stdout",
     "output_type": "stream",
     "text": [
      "Training took 0.38 seconds\n",
      "GT_INTERV.DEVICE: cpu\n",
      "setting device to: cpu\n"
     ]
    },
    {
     "name": "stderr",
     "output_type": "stream",
     "text": [
      "`Trainer.fit` stopped: `max_epochs=1000` reached.\n",
      "GPU available: True (cuda), used: False\n",
      "TPU available: False, using: 0 TPU cores\n",
      "IPU available: False, using: 0 IPUs\n",
      "HPU available: False, using: 0 HPUs\n"
     ]
    },
    {
     "name": "stdout",
     "output_type": "stream",
     "text": [
      "Training took 0.38 seconds\n",
      "GT_INTERV.DEVICE: cpu\n",
      "setting device to: cpu\n"
     ]
    },
    {
     "name": "stderr",
     "output_type": "stream",
     "text": [
      "`Trainer.fit` stopped: `max_epochs=1000` reached.\n",
      "GPU available: True (cuda), used: False\n",
      "TPU available: False, using: 0 TPU cores\n",
      "IPU available: False, using: 0 IPUs\n",
      "HPU available: False, using: 0 HPUs\n"
     ]
    },
    {
     "name": "stdout",
     "output_type": "stream",
     "text": [
      "Training took 0.38 seconds\n",
      "GT_INTERV.DEVICE: cpu\n",
      "setting device to: cpu\n"
     ]
    },
    {
     "name": "stderr",
     "output_type": "stream",
     "text": [
      "`Trainer.fit` stopped: `max_epochs=1000` reached.\n",
      "GPU available: True (cuda), used: False\n",
      "TPU available: False, using: 0 TPU cores\n",
      "IPU available: False, using: 0 IPUs\n",
      "HPU available: False, using: 0 HPUs\n"
     ]
    },
    {
     "name": "stdout",
     "output_type": "stream",
     "text": [
      "Training took 0.38 seconds\n",
      "GT_INTERV.DEVICE: cpu\n",
      "setting device to: cpu\n"
     ]
    },
    {
     "name": "stderr",
     "output_type": "stream",
     "text": [
      "`Trainer.fit` stopped: `max_epochs=1000` reached.\n"
     ]
    },
    {
     "name": "stdout",
     "output_type": "stream",
     "text": [
      "Training took 0.39 seconds\n"
     ]
    },
    {
     "data": {
      "text/plain": [
       "<matplotlib.legend.Legend at 0x7f5ce54a1d10>"
      ]
     },
     "execution_count": 44,
     "metadata": {},
     "output_type": "execute_result"
    },
    {
     "data": {
      "image/png": "[encoded data removed]",
      "text/plain": [
       "<Figure size 640x480 with 1 Axes>"
      ]
     },
     "metadata": {},
     "output_type": "display_data"
    }
   ],
   "source": [
    "SEED = 1\n",
    "iterator = np.power(10, np.arange(4), dtype=int)\n",
    "validation_size = 0\n",
    "batch_size = 10000\n",
    "scores = np.empty((len(ckpts.keys()), len(iterator)))\n",
    "for k, (key, model) in enumerate(ckpts.items()):\n",
    "    print(key)\n",
    "    \n",
    "    for n,i in enumerate(iterator):\n",
    "        print(f\"Iterator state: {i}\")\n",
    "        nll = evaluate_model(model, key=key, models_path=models_path, max_epochs = int(i), compute_class_metrics = False, **configs[0])[0]\n",
    "        scores[k,n] = nll\n",
    "    plt.plot(iterator, np.log(scores[k]), label=key)\n",
    "plt.xlabel(\"OmegaIterative epochs\")\n",
    "plt.ylabel(\"log NLL\")\n",
    "plt.title(\"NLL\")\n",
    "plt.legend()"
   ]
  },
  {
   "cell_type": "code",
   "execution_count": 45,
   "id": "f329ae91",
   "metadata": {},
   "outputs": [
    {
     "data": {
      "text/plain": [
       "array([[3.24010996e+04, 6.65615387e+01, 1.68354759e+01, 2.04094524e+01],\n",
       "       [2.33152090e+04, 4.79202652e+01, 1.48045321e+01, 2.02329445e+01],\n",
       "       [2.96352559e+04, 5.92403564e+01, 1.57722778e+01, 2.03184776e+01],\n",
       "       [3.61837578e+04, 7.92323227e+01, 1.83092270e+01, 2.08166008e+01],\n",
       "       [2.88507383e+04, 5.01069565e+01, 1.52658892e+01, 2.03208847e+01]])"
      ]
     },
     "execution_count": 45,
     "metadata": {},
     "output_type": "execute_result"
    }
   ],
   "source": [
    "scores"
   ]
  },
  {
   "cell_type": "code",
   "execution_count": 53,
   "id": "89d66a83",
   "metadata": {},
   "outputs": [
    {
     "name": "stderr",
     "output_type": "stream",
     "text": [
      "GPU available: True (cuda), used: False\n",
      "TPU available: False, using: 0 TPU cores\n",
      "IPU available: False, using: 0 IPUs\n",
      "HPU available: False, using: 0 HPUs\n",
      "/data/toulouse/miniforge3/envs/bicycle/lib/python3.11/site-packages/pytorch_lightning/trainer/setup.py:176: PossibleUserWarning: GPU available but not used. Set `accelerator` and `devices` using `Trainer(accelerator='gpu', devices=2)`.\n",
      "  rank_zero_warn(\n",
      "/data/toulouse/miniforge3/envs/bicycle/lib/python3.11/site-packages/pytorch_lightning/trainer/connectors/data_connector.py:442: PossibleUserWarning: The dataloader, train_dataloader, does not have many workers which may be a bottleneck. Consider increasing the value of the `num_workers` argument` (try 64 which is the number of cpus on this machine) in the `DataLoader` init to improve performance.\n",
      "  rank_zero_warn(\n",
      "/data/toulouse/miniforge3/envs/bicycle/lib/python3.11/site-packages/pytorch_lightning/loops/fit_loop.py:281: PossibleUserWarning: The number of training batches (1) is smaller than the logging interval Trainer(log_every_n_steps=1000000). Set a lower value for log_every_n_steps if you want to see logs for the training epoch.\n",
      "  rank_zero_warn(\n",
      "`Trainer.fit` stopped: `max_epochs=1` reached.\n",
      "GPU available: True (cuda), used: False\n",
      "TPU available: False, using: 0 TPU cores\n",
      "IPU available: False, using: 0 IPUs\n",
      "HPU available: False, using: 0 HPUs\n",
      "`Trainer.fit` stopped: `max_epochs=1` reached.\n",
      "GPU available: True (cuda), used: False\n",
      "TPU available: False, using: 0 TPU cores\n",
      "IPU available: False, using: 0 IPUs\n",
      "HPU available: False, using: 0 HPUs\n",
      "`Trainer.fit` stopped: `max_epochs=1` reached.\n",
      "GPU available: True (cuda), used: False\n",
      "TPU available: False, using: 0 TPU cores\n",
      "IPU available: False, using: 0 IPUs\n",
      "HPU available: False, using: 0 HPUs\n",
      "`Trainer.fit` stopped: `max_epochs=1` reached.\n",
      "GPU available: True (cuda), used: False\n",
      "TPU available: False, using: 0 TPU cores\n",
      "IPU available: False, using: 0 IPUs\n",
      "HPU available: False, using: 0 HPUs\n",
      "`Trainer.fit` stopped: `max_epochs=1` reached.\n",
      "GPU available: True (cuda), used: False\n",
      "TPU available: False, using: 0 TPU cores\n",
      "IPU available: False, using: 0 IPUs\n",
      "HPU available: False, using: 0 HPUs\n",
      "`Trainer.fit` stopped: `max_epochs=1` reached.\n",
      "GPU available: True (cuda), used: False\n",
      "TPU available: False, using: 0 TPU cores\n",
      "IPU available: False, using: 0 IPUs\n",
      "HPU available: False, using: 0 HPUs\n",
      "`Trainer.fit` stopped: `max_epochs=1` reached.\n",
      "GPU available: True (cuda), used: False\n",
      "TPU available: False, using: 0 TPU cores\n",
      "IPU available: False, using: 0 IPUs\n",
      "HPU available: False, using: 0 HPUs\n",
      "`Trainer.fit` stopped: `max_epochs=1` reached.\n",
      "GPU available: True (cuda), used: False\n",
      "TPU available: False, using: 0 TPU cores\n",
      "IPU available: False, using: 0 IPUs\n",
      "HPU available: False, using: 0 HPUs\n",
      "`Trainer.fit` stopped: `max_epochs=1` reached.\n",
      "GPU available: True (cuda), used: False\n",
      "TPU available: False, using: 0 TPU cores\n",
      "IPU available: False, using: 0 IPUs\n",
      "HPU available: False, using: 0 HPUs\n",
      "`Trainer.fit` stopped: `max_epochs=1` reached.\n",
      "GPU available: True (cuda), used: False\n",
      "TPU available: False, using: 0 TPU cores\n",
      "IPU available: False, using: 0 IPUs\n",
      "HPU available: False, using: 0 HPUs\n",
      "`Trainer.fit` stopped: `max_epochs=1` reached.\n",
      "GPU available: True (cuda), used: False\n",
      "TPU available: False, using: 0 TPU cores\n",
      "IPU available: False, using: 0 IPUs\n",
      "HPU available: False, using: 0 HPUs\n"
     ]
    },
    {
     "name": "stdout",
     "output_type": "stream",
     "text": [
      "1\n",
      "GT_INTERV.DEVICE: cpu\n",
      "setting device to: cpu\n",
      "Training took 0.01 seconds\n",
      "GT_INTERV.DEVICE: cpu\n",
      "setting device to: cpu\n",
      "Training took 0.01 seconds\n",
      "GT_INTERV.DEVICE: cpu\n",
      "setting device to: cpu\n",
      "Training took 0.01 seconds\n",
      "GT_INTERV.DEVICE: cpu\n",
      "setting device to: cpu\n",
      "Training took 0.01 seconds\n",
      "GT_INTERV.DEVICE: cpu\n",
      "setting device to: cpu\n",
      "Training took 0.01 seconds\n",
      "GT_INTERV.DEVICE: cpu\n",
      "setting device to: cpu\n",
      "Training took 0.01 seconds\n",
      "GT_INTERV.DEVICE: cpu\n",
      "setting device to: cpu\n",
      "Training took 0.01 seconds\n",
      "GT_INTERV.DEVICE: cpu\n",
      "setting device to: cpu\n",
      "Training took 0.01 seconds\n",
      "GT_INTERV.DEVICE: cpu\n",
      "setting device to: cpu\n",
      "Training took 0.01 seconds\n",
      "GT_INTERV.DEVICE: cpu\n",
      "setting device to: cpu\n",
      "Training took 0.01 seconds\n",
      "GT_INTERV.DEVICE: cpu\n",
      "setting device to: cpu\n",
      "Training took 0.01 seconds\n",
      "GT_INTERV.DEVICE: cpu\n",
      "setting device to: cpu\n"
     ]
    },
    {
     "name": "stderr",
     "output_type": "stream",
     "text": [
      "`Trainer.fit` stopped: `max_epochs=1` reached.\n",
      "GPU available: True (cuda), used: False\n",
      "TPU available: False, using: 0 TPU cores\n",
      "IPU available: False, using: 0 IPUs\n",
      "HPU available: False, using: 0 HPUs\n",
      "`Trainer.fit` stopped: `max_epochs=1` reached.\n",
      "GPU available: True (cuda), used: False\n",
      "TPU available: False, using: 0 TPU cores\n",
      "IPU available: False, using: 0 IPUs\n",
      "HPU available: False, using: 0 HPUs\n",
      "`Trainer.fit` stopped: `max_epochs=1` reached.\n",
      "GPU available: True (cuda), used: False\n",
      "TPU available: False, using: 0 TPU cores\n",
      "IPU available: False, using: 0 IPUs\n",
      "HPU available: False, using: 0 HPUs\n",
      "`Trainer.fit` stopped: `max_epochs=1` reached.\n",
      "GPU available: True (cuda), used: False\n",
      "TPU available: False, using: 0 TPU cores\n",
      "IPU available: False, using: 0 IPUs\n",
      "HPU available: False, using: 0 HPUs\n",
      "`Trainer.fit` stopped: `max_epochs=1` reached.\n",
      "GPU available: True (cuda), used: False\n",
      "TPU available: False, using: 0 TPU cores\n",
      "IPU available: False, using: 0 IPUs\n",
      "HPU available: False, using: 0 HPUs\n",
      "`Trainer.fit` stopped: `max_epochs=1` reached.\n",
      "GPU available: True (cuda), used: False\n",
      "TPU available: False, using: 0 TPU cores\n",
      "IPU available: False, using: 0 IPUs\n",
      "HPU available: False, using: 0 HPUs\n",
      "`Trainer.fit` stopped: `max_epochs=1` reached.\n",
      "GPU available: True (cuda), used: False\n",
      "TPU available: False, using: 0 TPU cores\n",
      "IPU available: False, using: 0 IPUs\n",
      "HPU available: False, using: 0 HPUs\n",
      "`Trainer.fit` stopped: `max_epochs=1` reached.\n",
      "GPU available: True (cuda), used: False\n",
      "TPU available: False, using: 0 TPU cores\n",
      "IPU available: False, using: 0 IPUs\n",
      "HPU available: False, using: 0 HPUs\n",
      "`Trainer.fit` stopped: `max_epochs=1` reached.\n",
      "GPU available: True (cuda), used: False\n",
      "TPU available: False, using: 0 TPU cores\n",
      "IPU available: False, using: 0 IPUs\n",
      "HPU available: False, using: 0 HPUs\n",
      "`Trainer.fit` stopped: `max_epochs=1` reached.\n"
     ]
    },
    {
     "name": "stdout",
     "output_type": "stream",
     "text": [
      "Training took 0.01 seconds\n",
      "GT_INTERV.DEVICE: cpu\n",
      "setting device to: cpu\n",
      "Training took 0.01 seconds\n",
      "GT_INTERV.DEVICE: cpu\n",
      "setting device to: cpu\n",
      "Training took 0.01 seconds\n",
      "GT_INTERV.DEVICE: cpu\n",
      "setting device to: cpu\n",
      "Training took 0.01 seconds\n",
      "GT_INTERV.DEVICE: cpu\n",
      "setting device to: cpu\n",
      "Training took 0.01 seconds\n",
      "GT_INTERV.DEVICE: cpu\n",
      "setting device to: cpu\n",
      "Training took 0.01 seconds\n",
      "GT_INTERV.DEVICE: cpu\n",
      "setting device to: cpu\n",
      "Training took 0.01 seconds\n",
      "GT_INTERV.DEVICE: cpu\n",
      "setting device to: cpu\n",
      "Training took 0.01 seconds\n",
      "GT_INTERV.DEVICE: cpu\n",
      "setting device to: cpu\n",
      "Training took 0.01 seconds\n",
      "GT_INTERV.DEVICE: cpu\n",
      "setting device to: cpu\n",
      "Training took 0.01 seconds\n"
     ]
    },
    {
     "ename": "ValueError",
     "evalue": "cannot set a row with mismatched columns",
     "output_type": "error",
     "traceback": [
      "\u001b[31m---------------------------------------------------------------------------\u001b[39m",
      "\u001b[31mValueError\u001b[39m                                Traceback (most recent call last)",
      "\u001b[36mCell\u001b[39m\u001b[36m \u001b[39m\u001b[32mIn[53]\u001b[39m\u001b[32m, line 28\u001b[39m\n\u001b[32m     26\u001b[39m \u001b[38;5;28;01mfor\u001b[39;00m n \u001b[38;5;129;01min\u001b[39;00m iterator:\n\u001b[32m     27\u001b[39m     \u001b[38;5;28mprint\u001b[39m(n)\n\u001b[32m---> \u001b[39m\u001b[32m28\u001b[39m     \u001b[43mscores\u001b[49m\u001b[43m.\u001b[49m\u001b[43mloc\u001b[49m\u001b[43m[\u001b[49m\u001b[38;5;28;43mlen\u001b[39;49m\u001b[43m(\u001b[49m\u001b[43mscores\u001b[49m\u001b[43m)\u001b[49m\u001b[43m]\u001b[49m = [model.evaluate(test_loader.dataset, compare_latents=\u001b[38;5;28;01mFalse\u001b[39;00m, max_epochs = \u001b[38;5;28mint\u001b[39m(n))][\u001b[32m0\u001b[39m]\n\u001b[32m     29\u001b[39m plt.plot(iterator, np.log(scores), label=key)\n\u001b[32m     30\u001b[39m \u001b[38;5;28;01mbreak\u001b[39;00m\n",
      "\u001b[36mFile \u001b[39m\u001b[32m/data/toulouse/miniforge3/envs/bicycle/lib/python3.11/site-packages/pandas/core/indexing.py:911\u001b[39m, in \u001b[36m_LocationIndexer.__setitem__\u001b[39m\u001b[34m(self, key, value)\u001b[39m\n\u001b[32m    908\u001b[39m \u001b[38;5;28mself\u001b[39m._has_valid_setitem_indexer(key)\n\u001b[32m    910\u001b[39m iloc = \u001b[38;5;28mself\u001b[39m \u001b[38;5;28;01mif\u001b[39;00m \u001b[38;5;28mself\u001b[39m.name == \u001b[33m\"\u001b[39m\u001b[33miloc\u001b[39m\u001b[33m\"\u001b[39m \u001b[38;5;28;01melse\u001b[39;00m \u001b[38;5;28mself\u001b[39m.obj.iloc\n\u001b[32m--> \u001b[39m\u001b[32m911\u001b[39m \u001b[43miloc\u001b[49m\u001b[43m.\u001b[49m\u001b[43m_setitem_with_indexer\u001b[49m\u001b[43m(\u001b[49m\u001b[43mindexer\u001b[49m\u001b[43m,\u001b[49m\u001b[43m \u001b[49m\u001b[43mvalue\u001b[49m\u001b[43m,\u001b[49m\u001b[43m \u001b[49m\u001b[38;5;28;43mself\u001b[39;49m\u001b[43m.\u001b[49m\u001b[43mname\u001b[49m\u001b[43m)\u001b[49m\n",
      "\u001b[36mFile \u001b[39m\u001b[32m/data/toulouse/miniforge3/envs/bicycle/lib/python3.11/site-packages/pandas/core/indexing.py:1932\u001b[39m, in \u001b[36m_iLocIndexer._setitem_with_indexer\u001b[39m\u001b[34m(self, indexer, value, name)\u001b[39m\n\u001b[32m   1929\u001b[39m     indexer, missing = convert_missing_indexer(indexer)\n\u001b[32m   1931\u001b[39m     \u001b[38;5;28;01mif\u001b[39;00m missing:\n\u001b[32m-> \u001b[39m\u001b[32m1932\u001b[39m         \u001b[38;5;28;43mself\u001b[39;49m\u001b[43m.\u001b[49m\u001b[43m_setitem_with_indexer_missing\u001b[49m\u001b[43m(\u001b[49m\u001b[43mindexer\u001b[49m\u001b[43m,\u001b[49m\u001b[43m \u001b[49m\u001b[43mvalue\u001b[49m\u001b[43m)\u001b[49m\n\u001b[32m   1933\u001b[39m         \u001b[38;5;28;01mreturn\u001b[39;00m\n\u001b[32m   1935\u001b[39m \u001b[38;5;28;01mif\u001b[39;00m name == \u001b[33m\"\u001b[39m\u001b[33mloc\u001b[39m\u001b[33m\"\u001b[39m:\n\u001b[32m   1936\u001b[39m     \u001b[38;5;66;03m# must come after setting of missing\u001b[39;00m\n",
      "\u001b[36mFile \u001b[39m\u001b[32m/data/toulouse/miniforge3/envs/bicycle/lib/python3.11/site-packages/pandas/core/indexing.py:2306\u001b[39m, in \u001b[36m_iLocIndexer._setitem_with_indexer_missing\u001b[39m\u001b[34m(self, indexer, value)\u001b[39m\n\u001b[32m   2303\u001b[39m     \u001b[38;5;28;01mif\u001b[39;00m is_list_like_indexer(value):\n\u001b[32m   2304\u001b[39m         \u001b[38;5;66;03m# must have conforming columns\u001b[39;00m\n\u001b[32m   2305\u001b[39m         \u001b[38;5;28;01mif\u001b[39;00m \u001b[38;5;28mlen\u001b[39m(value) != \u001b[38;5;28mlen\u001b[39m(\u001b[38;5;28mself\u001b[39m.obj.columns):\n\u001b[32m-> \u001b[39m\u001b[32m2306\u001b[39m             \u001b[38;5;28;01mraise\u001b[39;00m \u001b[38;5;167;01mValueError\u001b[39;00m(\u001b[33m\"\u001b[39m\u001b[33mcannot set a row with mismatched columns\u001b[39m\u001b[33m\"\u001b[39m)\n\u001b[32m   2308\u001b[39m     value = Series(value, index=\u001b[38;5;28mself\u001b[39m.obj.columns, name=indexer)\n\u001b[32m   2310\u001b[39m \u001b[38;5;28;01mif\u001b[39;00m \u001b[38;5;129;01mnot\u001b[39;00m \u001b[38;5;28mlen\u001b[39m(\u001b[38;5;28mself\u001b[39m.obj):\n\u001b[32m   2311\u001b[39m     \u001b[38;5;66;03m# We will ignore the existing dtypes instead of using\u001b[39;00m\n\u001b[32m   2312\u001b[39m     \u001b[38;5;66;03m#  internals.concat logic\u001b[39;00m\n",
      "\u001b[31mValueError\u001b[39m: cannot set a row with mismatched columns"
     ]
    }
   ],
   "source": [
    "SEED = 1\n",
    "iterator = np.power(10, np.arange(4))\n",
    "cols = [\"nll\"]\n",
    "validation_size = 0\n",
    "batch_size = 10000\n",
    "for key, model in ckpts.items():\n",
    "    scores = pd.DataFrame(columns=cols)\n",
    "    samples = torch.tensor(np.load(models_path/key/\"synthetic_data\"/\"check_sim_samples.npy\"))\n",
    "    sim_regime = torch.tensor(np.load(models_path/key/\"synthetic_data\"/\"check_sim_regimes.npy\"))\n",
    "    beta = torch.tensor(np.load(models_path/key/\"synthetic_data\"/\"check_sim_beta.npy\"))\n",
    "    train_gene_ko = model.train_gene_ko\n",
    "    test_gene_ko = model.test_gene_ko\n",
    "    train_loader, validation_loader, test_loader = create_loaders(\n",
    "        samples=samples, # test_loader is None\n",
    "        sim_regime=sim_regime,\n",
    "        validation_size=validation_size,\n",
    "        batch_size=batch_size,\n",
    "        SEED= SEED,\n",
    "        train_gene_ko=train_gene_ko,\n",
    "        test_gene_ko=test_gene_ko,\n",
    "        persistent_workers=False,\n",
    "        covariates=None,\n",
    "        num_workers= 1,\n",
    "    )\n",
    "\n",
    "    for n in iterator:\n",
    "        print(n)\n",
    "        scores.loc[len(scores)] = [model.evaluate(test_loader.dataset, compare_latents=False, max_epochs = int(n))][0]\n",
    "    plt.plot(iterator, np.log(scores), label=key)\n",
    "    break\n",
    "plt.xlabel(\"OmegaIterative epochs\")\n",
    "plt.ylabel(\"log NLL\")\n",
    "plt.title(\"NLL\")\n",
    "plt.legend()"
   ]
  },
  {
   "cell_type": "code",
   "execution_count": 8,
   "id": "8be2e69e",
   "metadata": {},
   "outputs": [
    {
     "data": {
      "image/png": "[encoded data removed]",
      "text/plain": [
       "<Figure size 640x480 with 1 Axes>"
      ]
     },
     "metadata": {},
     "output_type": "display_data"
    }
   ],
   "source": [
    "nll = scores\n",
    "nll = nll.map(lambda x: x[0])\n",
    "plt.plot(iterator, np.log(nll))\n",
    "plt.show()"
   ]
  },
  {
   "cell_type": "code",
   "execution_count": 9,
   "id": "c4f3fba0",
   "metadata": {},
   "outputs": [
    {
     "data": {
      "application/vnd.microsoft.datawrangler.viewer.v0+json": {
       "columns": [
        {
         "name": "index",
         "rawType": "int64",
         "type": "integer"
        },
        {
         "name": "nll",
         "rawType": "float32",
         "type": "float"
        }
       ],
       "ref": "f8a1e6e5-393e-416b-8758-8aea50f83e0e",
       "rows": [
        [
         "0",
         "4925.3467"
        ],
        [
         "1",
         "7.784485"
        ],
        [
         "2",
         "1.8352956"
        ],
        [
         "3",
         "2.081092"
        ],
        [
         "4",
         "2.4719472"
        ]
       ],
       "shape": {
        "columns": 1,
        "rows": 5
       }
      },
      "text/html": [
       "<div>\n",
       "<style scoped>\n",
       "    .dataframe tbody tr th:only-of-type {\n",
       "        vertical-align: middle;\n",
       "    }\n",
       "\n",
       "    .dataframe tbody tr th {\n",
       "        vertical-align: top;\n",
       "    }\n",
       "\n",
       "    .dataframe thead th {\n",
       "        text-align: right;\n",
       "    }\n",
       "</style>\n",
       "<table border=\"1\" class=\"dataframe\">\n",
       "  <thead>\n",
       "    <tr style=\"text-align: right;\">\n",
       "      <th></th>\n",
       "      <th>nll</th>\n",
       "    </tr>\n",
       "  </thead>\n",
       "  <tbody>\n",
       "    <tr>\n",
       "      <th>0</th>\n",
       "      <td>4925.346680</td>\n",
       "    </tr>\n",
       "    <tr>\n",
       "      <th>1</th>\n",
       "      <td>7.784485</td>\n",
       "    </tr>\n",
       "    <tr>\n",
       "      <th>2</th>\n",
       "      <td>1.835296</td>\n",
       "    </tr>\n",
       "    <tr>\n",
       "      <th>3</th>\n",
       "      <td>2.081092</td>\n",
       "    </tr>\n",
       "    <tr>\n",
       "      <th>4</th>\n",
       "      <td>2.471947</td>\n",
       "    </tr>\n",
       "  </tbody>\n",
       "</table>\n",
       "</div>"
      ],
      "text/plain": [
       "           nll\n",
       "0  4925.346680\n",
       "1     7.784485\n",
       "2     1.835296\n",
       "3     2.081092\n",
       "4     2.471947"
      ]
     },
     "execution_count": 9,
     "metadata": {},
     "output_type": "execute_result"
    }
   ],
   "source": [
    "nll"
   ]
  },
  {
   "cell_type": "code",
   "execution_count": null,
   "id": "58f9936f",
   "metadata": {},
   "outputs": [],
   "source": []
  },
  {
   "cell_type": "code",
   "execution_count": null,
   "id": "2bc9336f",
   "metadata": {},
   "outputs": [
    {
     "data": {
      "image/png": "[encoded data removed]",
      "text/plain": [
       "<Figure size 640x480 with 1 Axes>"
      ]
     },
     "metadata": {},
     "output_type": "display_data"
    }
   ],
   "source": [
    "nll = scores\n",
    "nll = nll.map(lambda x: x[0])\n",
    "plt.plot(iterator, np.log(nll))\n",
    "plt.show()"
   ]
  },
  {
   "cell_type": "code",
   "execution_count": 11,
   "id": "acf7f49a",
   "metadata": {},
   "outputs": [
    {
     "data": {
      "application/vnd.microsoft.datawrangler.viewer.v0+json": {
       "columns": [
        {
         "name": "index",
         "rawType": "int64",
         "type": "integer"
        },
        {
         "name": "nll",
         "rawType": "float32",
         "type": "float"
        }
       ],
       "ref": "c457e0bb-08cc-4d5b-bbcf-e667a005b4e2",
       "rows": [
        [
         "0",
         "41786230.0"
        ],
        [
         "1",
         "74.199066"
        ],
        [
         "2",
         "1.8409365"
        ],
        [
         "3",
         "2.9617836"
        ],
        [
         "4",
         "3.9274557"
        ]
       ],
       "shape": {
        "columns": 1,
        "rows": 5
       }
      },
      "text/html": [
       "<div>\n",
       "<style scoped>\n",
       "    .dataframe tbody tr th:only-of-type {\n",
       "        vertical-align: middle;\n",
       "    }\n",
       "\n",
       "    .dataframe tbody tr th {\n",
       "        vertical-align: top;\n",
       "    }\n",
       "\n",
       "    .dataframe thead th {\n",
       "        text-align: right;\n",
       "    }\n",
       "</style>\n",
       "<table border=\"1\" class=\"dataframe\">\n",
       "  <thead>\n",
       "    <tr style=\"text-align: right;\">\n",
       "      <th></th>\n",
       "      <th>nll</th>\n",
       "    </tr>\n",
       "  </thead>\n",
       "  <tbody>\n",
       "    <tr>\n",
       "      <th>0</th>\n",
       "      <td>4.178623e+07</td>\n",
       "    </tr>\n",
       "    <tr>\n",
       "      <th>1</th>\n",
       "      <td>7.419907e+01</td>\n",
       "    </tr>\n",
       "    <tr>\n",
       "      <th>2</th>\n",
       "      <td>1.840937e+00</td>\n",
       "    </tr>\n",
       "    <tr>\n",
       "      <th>3</th>\n",
       "      <td>2.961784e+00</td>\n",
       "    </tr>\n",
       "    <tr>\n",
       "      <th>4</th>\n",
       "      <td>3.927456e+00</td>\n",
       "    </tr>\n",
       "  </tbody>\n",
       "</table>\n",
       "</div>"
      ],
      "text/plain": [
       "            nll\n",
       "0  4.178623e+07\n",
       "1  7.419907e+01\n",
       "2  1.840937e+00\n",
       "3  2.961784e+00\n",
       "4  3.927456e+00"
      ]
     },
     "execution_count": 11,
     "metadata": {},
     "output_type": "execute_result"
    }
   ],
   "source": [
    "nll"
   ]
  },
  {
   "cell_type": "code",
   "execution_count": 32,
   "id": "c691beb6",
   "metadata": {},
   "outputs": [
    {
     "data": {
      "image/png": "[encoded data removed]",
      "text/plain": [
       "<Figure size 640x480 with 1 Axes>"
      ]
     },
     "metadata": {},
     "output_type": "display_data"
    }
   ],
   "source": [
    "nll = scores[\"nll\"]\n",
    "nll = nll.map(lambda x: x[0])\n",
    "plt.plot(iterator, np.log(nll))\n",
    "plt.show()"
   ]
  },
  {
   "cell_type": "code",
   "execution_count": 18,
   "id": "4b6e5197",
   "metadata": {},
   "outputs": [
    {
     "data": {
      "application/vnd.microsoft.datawrangler.viewer.v0+json": {
       "columns": [
        {
         "name": "index",
         "rawType": "int64",
         "type": "integer"
        },
        {
         "name": "nll",
         "rawType": "float32",
         "type": "float"
        }
       ],
       "ref": "b4259433-22d6-49ee-8c8c-5e8f4cdade6e",
       "rows": [
        [
         "0",
         "9610263000.0"
        ],
        [
         "1",
         "15786.497"
        ],
        [
         "2",
         "206.42485"
        ],
        [
         "3",
         "47.7123"
        ]
       ],
       "shape": {
        "columns": 1,
        "rows": 4
       }
      },
      "text/plain": [
       "0    9.610263e+09\n",
       "1    1.578650e+04\n",
       "2    2.064249e+02\n",
       "3    4.771230e+01\n",
       "Name: nll, dtype: float32"
      ]
     },
     "execution_count": 18,
     "metadata": {},
     "output_type": "execute_result"
    }
   ],
   "source": [
    "nll"
   ]
  },
  {
   "cell_type": "code",
   "execution_count": null,
   "id": "7fd4dfb0",
   "metadata": {},
   "outputs": [],
   "source": [
    "def unseen_nll(model:BICYCLE,\n",
    "               unseen_contexts:list, # list of target gene indexes for each sample\n",
    "               unseen_data_csv:Path, # path to samples # at least samples_per_pert for each context\n",
    "               samples_per_pert:int = 5, \n",
    "               target_mu=[],\n",
    "               target_std=[],\n",
    "               ):\n",
    "    if target_mu is []:\n",
    "        target_mu = np.median(model.alpha_p.detach().numpy())\n",
    "    if target_std is []:\n",
    "        target_std = np.median(model.sigma_p.detach().numpy())\n",
    "    # read data\n",
    "    samples = pd.read_csv(unseen_data_csv, index_col=0)\n",
    "\n",
    "    contexts= list(set(unseen_contexts))\n",
    "    sample_target_idxs = [unseen_contexts.index(c) for c in contexts]\n",
    "    print(contexts)\n",
    "    nlls = []\n",
    "    for n, targets in enumerate(contexts):\n",
    "        if targets == np.nan:\n",
    "            continue\n",
    "        if not type(targets) is list:\n",
    "            targets = [targets]\n",
    "        target_samples = torch.tensor(samples.iloc[sample_target_idxs[n]:sample_target_idxs[n]+samples_per_pert].to_numpy())\n",
    "        z_bar, omega = model.predict_perturbation(\n",
    "            target_idx = [*targets], # target index in genes\n",
    "            target_mu=target_mu,\n",
    "            target_std=target_std,\n",
    "            max_epochs=5000,\n",
    "            perturbation_type=[],\n",
    "            perturbation_like=[],\n",
    "            )\n",
    "\n",
    "        nll = model.test_nll(\n",
    "            z_bar = z_bar+torch.abs(z_bar.min()),\n",
    "            omega = omega,  # var = scale**2\n",
    "            samples = target_samples,\n",
    "            )\n",
    "\n",
    "        nlls.append(nll)\n",
    "    return nlls\n",
    "\n",
    "\n",
    "key = \"run_042\"\n",
    "data_id = params.loc[key, \"data_id\"]\n",
    "model = ckpts[key].to(\"cpu\")\n",
    "samples_per_pert=10\n",
    "#with open(data_path/data_id/\"unseen_target_genes.json\", \"r\") as rf:\n",
    "#    target_genes = json.load(rf)\n",
    "if params.loc[key, \"data_source\"] == \"scMultiSim\":\n",
    "    adata = sc.read_h5ad(data_path/\"scMultiSim_data\"/params.loc[key, \"data_id\"]/\"ready_full_rna.h5ad\",)\n",
    "    samples = adata.X.copy()\n",
    "    TFs = np.arange(10)\n",
    "    target_genes = np.repeat(TFs, 400)\n",
    "    target_genes = np.concatenate([np.full((8000),np.nan), target_genes])\n",
    "    mask = np.isnan(target_genes)\n",
    "    samples = samples[~mask]\n",
    "    unseen_contexts = target_genes[~mask]\n",
    "else:\n",
    "    samples = np.load(models_path/key/\"synthetic_data\"/\"check_sim_samples.npy\")\n",
    "    sim_regime = np.load(models_path/key/\"synthetic_data\"/\"check_sim_regimes.npy\")\n",
    "    gt_interv = np.load(models_path/key/\"synthetic_data\"/\"check_sim_gt_interv.npy\")\n",
    "    contexts = gt_interv[:,sim_regime].astype(bool).T\n",
    "    gene_idxs = np.arange(samples.shape[1])\n",
    "    target_genes = [tuple(gene_idxs[c]) for c in contexts if c.any()]\n",
    "    samples = samples[-len(target_genes):]\n",
    "(data_path/\"/tmp\").mkdir(exist_ok=True)\n",
    "pd.DataFrame(samples).to_csv(data_path/\"tmp\"/\"samples.csv\")\n",
    "nlls= unseen_nll(model=model,\n",
    "           unseen_contexts=target_genes,\n",
    "           unseen_data_csv=data_path/\"tmp\"/\"samples.csv\",\n",
    "           samples_per_pert=samples_per_pert,\n",
    "           target_mu=[0.1],\n",
    "           target_std=[0.2]\n",
    "           )\n",
    "\n",
    "plt.hist(nlls)\n"
   ]
  },
  {
   "cell_type": "code",
   "execution_count": null,
   "id": "f6e4267b",
   "metadata": {},
   "outputs": [],
   "source": [
    "key = \"run_055\"\n",
    "data_id = params.loc[key, \"data_id\"]\n",
    "model = ckpts[key].to(\"cpu\")\n",
    "samples_per_pert=1\n",
    "\n",
    "target_genes = np.load(data_path/data_id/\"unseen_target_genes.npy\")\n",
    "unseen_data_csv = data_path/data_id/\"unseen_rna_matrix.csv\"\n",
    "\n",
    "nlls= unseen_nll(model=model,\n",
    "           unseen_contexts=target_genes,\n",
    "           unseen_data_csv=unseen_data_csv,\n",
    "           samples_per_pert=samples_per_pert,\n",
    "           target_mu=[0.1],\n",
    "           target_std=[0.2]\n",
    "           )\n",
    "\n",
    "plt.hist(nlls)\n"
   ]
  },
  {
   "cell_type": "code",
   "execution_count": null,
   "id": "a5af4554",
   "metadata": {},
   "outputs": [],
   "source": [
    "key = \"run_042\"\n",
    "model = ckpts[key].to(\"cpu\")\n",
    "\n",
    "target_idx = 0\n",
    "grn = model.gt_beta.numpy().copy()\n",
    "if params.loc[key, \"data_source\"] == \"scMultiSim\":\n",
    "    adata = sc.read_h5ad(data_path/\"scMultiSim_data\"/params.loc[key, \"data_id\"]/\"ready_full_rna.h5ad\",)\n",
    "    samples = adata.X.copy()\n",
    "    samples = samples[8000 + (400*target_idx):8400+(400*(target_idx+1))]\n",
    "else:\n",
    "    samples = np.load(models_path/key/\"synthetic_data\"/\"check_sim_samples.npy\")\n",
    "    print(\"samples: shape\",samples.shape)\n",
    "    sim_regime = np.load(models_path/key/\"synthetic_data\"/\"check_sim_regimes.npy\")\n",
    "    gt_interv = np.load(models_path/key/\"synthetic_data\"/\"check_sim_gt_interv.npy\")\n",
    "    contexts = gt_interv[:,sim_regime]    \n",
    "    samples = samples[np.argmax(contexts, axis=0) == target_idx]\n",
    "\n",
    "target_mu = np.median(model.alpha_p.detach().numpy())\n",
    "target_std = np.median(model.sigma_p.detach().numpy())"
   ]
  },
  {
   "cell_type": "code",
   "execution_count": null,
   "id": "79c1a0af",
   "metadata": {},
   "outputs": [],
   "source": [
    "z_bar, omega = model.predict_perturbation(target_idx = [target_idx],\n",
    "    target_mu=[target_mu],\n",
    "    target_std=[target_std],\n",
    "    max_epochs=1000,\n",
    "    perturbation_type=[],\n",
    "    perturbation_like=[],)"
   ]
  },
  {
   "cell_type": "code",
   "execution_count": null,
   "id": "1e89027f",
   "metadata": {},
   "outputs": [],
   "source": [
    "omega.shape"
   ]
  },
  {
   "cell_type": "code",
   "execution_count": null,
   "id": "af69a5de",
   "metadata": {},
   "outputs": [],
   "source": [
    "nlls = []\n",
    "for s in torch.tensor(samples):\n",
    "    nlls.append(model.test_nll(z_bar = z_bar+torch.abs(z_bar.min()),\n",
    "        omega = omega,\n",
    "        samples = s))\n"
   ]
  },
  {
   "cell_type": "code",
   "execution_count": null,
   "id": "6fefd9ce",
   "metadata": {},
   "outputs": [],
   "source": [
    "plt.hist(nlls, bins=50, density=True)\n",
    "print(np.std(nlls))\n",
    "print(np.mean(nlls))"
   ]
  },
  {
   "cell_type": "code",
   "execution_count": null,
   "id": "f00a58b1",
   "metadata": {},
   "outputs": [],
   "source": []
  }
 ],
 "metadata": {
  "kernelspec": {
   "display_name": "bicycle",
   "language": "python",
   "name": "python3"
  },
  "language_info": {
   "codemirror_mode": {
    "name": "ipython",
    "version": 3
   },
   "file_extension": ".py",
   "mimetype": "text/x-python",
   "name": "python",
   "nbconvert_exporter": "python",
   "pygments_lexer": "ipython3",
   "version": "3.11.12"
  }
 },
 "nbformat": 4,
 "nbformat_minor": 5
}
