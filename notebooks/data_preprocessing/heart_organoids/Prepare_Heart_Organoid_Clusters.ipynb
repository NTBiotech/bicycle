{
 "cells": [
  {
   "cell_type": "code",
   "execution_count": 1,
   "id": "41f3ce7f-2bb6-4e7d-8f8f-316fbb3bd65f",
   "metadata": {
    "tags": []
   },
   "outputs": [],
   "source": [
    "import scanpy as sc\n",
    "import numpy as np\n",
    "import pickle"
   ]
  },
  {
   "cell_type": "code",
   "execution_count": 2,
   "id": "e14f4c0d-0873-459f-b3e8-5700ec9e16c0",
   "metadata": {
    "tags": []
   },
   "outputs": [],
   "source": [
    "adata = sc.read_h5ad(\"/g/stegle/ueltzhoe/heart_and_brain/multiome_preprocessing_heart_and_brain/Subset_Bicycle_Training_20240105.h5ad\")"
   ]
  },
  {
   "cell_type": "code",
   "execution_count": 3,
   "id": "210ddfd3-b4a8-4490-ba2f-3d8998115684",
   "metadata": {
    "tags": []
   },
   "outputs": [],
   "source": [
    "adata = adata[adata.obs[\"celltypes_cm\"].isin(['Fib.', 'Prog.', 'CM'])]"
   ]
  },
  {
   "cell_type": "code",
   "execution_count": 4,
   "id": "66827f0c-8e86-4da6-bd7a-65da83f75667",
   "metadata": {
    "tags": []
   },
   "outputs": [
    {
     "name": "stdout",
     "output_type": "stream",
     "text": [
      "Processing: Fib.\n"
     ]
    },
    {
     "name": "stderr",
     "output_type": "stream",
     "text": [
      "/home/ueltzhoe/conda-py310/lib/python3.10/site-packages/anndata/compat/_overloaded_dict.py:106: ImplicitModificationWarning: Trying to modify attribute `._uns` of view, initializing view as actual.\n",
      "  self.data[key] = value\n"
     ]
    },
    {
     "name": "stdout",
     "output_type": "stream",
     "text": [
      "Processing: Prog.\n",
      "Processing: CM\n"
     ]
    }
   ],
   "source": [
    "for celltype in adata.obs[\"celltypes_cm\"].unique():\n",
    "    print('Processing: ' + celltype)    \n",
    "    ad = adata[adata.obs[\"celltypes_cm\"] == celltype]\n",
    "    \n",
    "    sc.pp.highly_variable_genes(ad, n_top_genes = 1000, batch_key = \"leiden\")\n",
    "    ad = ad[:,ad.var.highly_variable]\n",
    "\n",
    "    genes = ad.var[ad.var.highly_variable].index.tolist()\n",
    "    \n",
    "    X = np.asarray(ad.raw.X[:,ad.var.highly_variable].todense())\n",
    "\n",
    "    np.save('data_' + celltype + '.npy', X)\n",
    "    with open('genes_' + celltype + '.pkl', 'wb') as f:\n",
    "        pickle.dump(genes, f)"
   ]
  },
  {
   "cell_type": "code",
   "execution_count": null,
   "id": "0ec10e5e-9644-466a-a7b9-c40a8d9271fa",
   "metadata": {},
   "outputs": [],
   "source": []
  }
 ],
 "metadata": {
  "kernelspec": {
   "display_name": "py-3.10-local",
   "language": "python",
   "name": "py-3.10-local"
  },
  "language_info": {
   "codemirror_mode": {
    "name": "ipython",
    "version": 3
   },
   "file_extension": ".py",
   "mimetype": "text/x-python",
   "name": "python",
   "nbconvert_exporter": "python",
   "pygments_lexer": "ipython3",
   "version": "3.10.0"
  }
 },
 "nbformat": 4,
 "nbformat_minor": 5
}
